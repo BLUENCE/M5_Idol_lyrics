{
 "cells": [
  {
   "cell_type": "code",
   "execution_count": 1,
   "metadata": {},
   "outputs": [
    {
     "name": "stdout",
     "output_type": "stream",
     "text": [
      "Requirement already satisfied: html5lib in /Users/yunkim/anaconda3/lib/python3.6/site-packages (1.0.1)\r\n",
      "Requirement already satisfied: beautifulsoup4 in /Users/yunkim/anaconda3/lib/python3.6/site-packages (4.6.0)\r\n",
      "Requirement already satisfied: six>=1.9 in /Users/yunkim/anaconda3/lib/python3.6/site-packages (from html5lib) (1.11.0)\r\n",
      "Requirement already satisfied: webencodings in /Users/yunkim/anaconda3/lib/python3.6/site-packages (from html5lib) (0.5.1)\r\n"
     ]
    }
   ],
   "source": [
    "!pip install html5lib beautifulsoup4"
   ]
  },
  {
   "cell_type": "code",
   "execution_count": 2,
   "metadata": {},
   "outputs": [],
   "source": [
    "from selenium import webdriver\n",
    "from bs4 import BeautifulSoup\n",
    "from time import sleep\n",
    "import requests\n",
    "import json\n",
    "import re"
   ]
  },
  {
   "cell_type": "code",
   "execution_count": 3,
   "metadata": {},
   "outputs": [
    {
     "name": "stdout",
     "output_type": "stream",
     "text": [
      "Requirement already satisfied: selenium in /Users/yunkim/anaconda3/lib/python3.6/site-packages (3.14.0)\r\n",
      "Requirement already satisfied: urllib3 in /Users/yunkim/anaconda3/lib/python3.6/site-packages (from selenium) (1.22)\r\n"
     ]
    }
   ],
   "source": [
    "!pip install selenium"
   ]
  },
  {
   "cell_type": "code",
   "execution_count": 4,
   "metadata": {},
   "outputs": [],
   "source": [
    "from urllib import request\n",
    "from selenium import webdriver\n",
    "from selenium.webdriver.support.ui import WebDriverWait\n",
    "from selenium.common.exceptions import NoSuchElementException"
   ]
  },
  {
   "cell_type": "code",
   "execution_count": 5,
   "metadata": {},
   "outputs": [],
   "source": [
    "from selenium.webdriver.common.keys import Keys"
   ]
  },
  {
   "cell_type": "code",
   "execution_count": 17,
   "metadata": {},
   "outputs": [],
   "source": [
    "driver = webdriver.Chrome('../shoppingmall/chromedriver')\n",
    "driver.get(\"https://www.melon.com/search/total/index.htm?q=%EC%86%8C%EB%85%80%EC%8B%9C%EB%8C%80&section=&searchGnbYn=Y&kkoSpl=N&kkoDpType=&ipath=srch_form\")"
   ]
  },
  {
   "cell_type": "code",
   "execution_count": 18,
   "metadata": {},
   "outputs": [],
   "source": [
    "title = []\n",
    "album = []\n",
    "release_date = []\n",
    "song_genre = []\n",
    "like = []\n",
    "lyrics = []\n",
    "creator = []\n",
    "artist = []\n",
    "artist_m = []\n",
    "debut_y = []\n",
    "debut_t = []\n",
    "agency = []"
   ]
  },
  {
   "cell_type": "code",
   "execution_count": 19,
   "metadata": {},
   "outputs": [
    {
     "name": "stdout",
     "output_type": "stream",
     "text": [
      "1 Power Up\n",
      "2\n",
      "2 한 여름의 크리스마스 (With You)\n",
      "3\n",
      "3 Mr. E\n",
      "4\n",
      "4 Mosquito\n",
      "5\n",
      "5 Hit That Drum\n",
      "6\n",
      "6 Blue Lemonade\n",
      "7\n",
      "7 (Bonus Track) Bad Boy (English Ver.)\n",
      "8\n",
      "8 #Cookie Jar\n",
      "9\n",
      "9 Aitai-tai\n",
      "10\n",
      "10 `Cause it`s you\n",
      "11\n",
      "11 Dumb Dumb\n",
      "12\n",
      "12 Russian Roulette\n",
      "13\n",
      "13 Red Flavor\n",
      "14\n",
      "14 떠날 거야\n",
      "15\n",
      "15 Bad Boy\n",
      "16\n",
      "16 All Right\n",
      "17\n",
      "17 피카부 (Peek-A-Boo)\n",
      "18\n",
      "18 봐 (Look)\n",
      "19\n",
      "19 I Just\n",
      "20\n",
      "20 Kingdom Come\n",
      "21\n",
      "21 Time To Love\n",
      "22\n",
      "22 두 번째 데이트 (My Second Date)\n",
      "23\n",
      "23 Attaboy\n",
      "24\n",
      "24 Perfect 10\n",
      "25\n",
      "25 About Love\n",
      "26\n",
      "26 달빛 소리 (Moonlight Melody)\n",
      "27\n",
      "27 피카부 (Peek-A-Boo)\n",
      "28\n",
      "28 봐 (Look)\n",
      "29\n",
      "29 I Just\n",
      "30\n",
      "30 Kingdom Come\n",
      "31\n",
      "31 두 번째 데이트 (My Second Date)\n",
      "32\n",
      "32 Attaboy\n",
      "33\n",
      "33 Perfect 10\n",
      "34\n",
      "34 About Love\n",
      "35\n",
      "35 달빛 소리 (Moonlight Melody)\n",
      "36\n",
      "36 환생 (Rebirth)\n",
      "37\n",
      "37 환생 (Rebirth) (Inst.)\n",
      "38\n",
      "38 빨간 맛 (Red Flavor)\n",
      "39\n",
      "39 You Better Know\n",
      "40\n",
      "40 Zoo\n",
      "41\n",
      "41 여름빛 (Mojito)\n",
      "42\n",
      "42 바다가 들려 (Hear The Sea)\n",
      "43\n",
      "43 Would U\n",
      "44\n",
      "44 Would U (Inst.)\n",
      "45\n",
      "45 Rookie\n",
      "46\n",
      "46 Little Little\n",
      "47\n",
      "47 Happily Ever After\n",
      "48\n",
      "48 Talk To Me\n",
      "49\n",
      "49 Body Talk\n",
      "50\n",
      "50 마지막 사랑 (Last Love)\n",
      "51\n",
      "must_change 1\n"
     ]
    },
    {
     "ename": "StaleElementReferenceException",
     "evalue": "Message: stale element reference: element is not attached to the page document\n  (Session info: chrome=69.0.3497.81)\n  (Driver info: chromedriver=2.41.578706 (5f725d1b4f0a4acbf5259df887244095596231db),platform=Mac OS X 10.11.6 x86_64)\n",
     "output_type": "error",
     "traceback": [
      "\u001b[0;31m---------------------------------------------------------------------------\u001b[0m",
      "\u001b[0;31mStaleElementReferenceException\u001b[0m            Traceback (most recent call last)",
      "\u001b[0;32m<ipython-input-19-4d445bb28d5d>\u001b[0m in \u001b[0;36m<module>\u001b[0;34m()\u001b[0m\n\u001b[1;32m     34\u001b[0m     \u001b[0mlink2\u001b[0m \u001b[0;34m=\u001b[0m \u001b[0;34m']/td[3]/div/div/a[1]/span'\u001b[0m\u001b[0;34m\u001b[0m\u001b[0m\n\u001b[1;32m     35\u001b[0m     \u001b[0;31m# 곡 정보 클릭\u001b[0m\u001b[0;34m\u001b[0m\u001b[0;34m\u001b[0m\u001b[0m\n\u001b[0;32m---> 36\u001b[0;31m     \u001b[0mdriver\u001b[0m\u001b[0;34m.\u001b[0m\u001b[0mfind_element_by_xpath\u001b[0m\u001b[0;34m(\u001b[0m\u001b[0mlink1\u001b[0m \u001b[0;34m+\u001b[0m\u001b[0mstr\u001b[0m\u001b[0;34m(\u001b[0m\u001b[0mnum\u001b[0m\u001b[0;34m)\u001b[0m\u001b[0;34m+\u001b[0m \u001b[0mlink2\u001b[0m\u001b[0;34m)\u001b[0m\u001b[0;34m.\u001b[0m\u001b[0mclick\u001b[0m\u001b[0;34m(\u001b[0m\u001b[0;34m)\u001b[0m\u001b[0;34m\u001b[0m\u001b[0m\n\u001b[0m\u001b[1;32m     37\u001b[0m \u001b[0;34m\u001b[0m\u001b[0m\n\u001b[1;32m     38\u001b[0m     \u001b[0;31m# lyric_page = driver.find_element_by_xpath(\"//a[@class='btn btn_icon_detail']\")\u001b[0m\u001b[0;34m\u001b[0m\u001b[0;34m\u001b[0m\u001b[0m\n",
      "\u001b[0;32m~/anaconda3/lib/python3.6/site-packages/selenium/webdriver/remote/webelement.py\u001b[0m in \u001b[0;36mclick\u001b[0;34m(self)\u001b[0m\n\u001b[1;32m     78\u001b[0m     \u001b[0;32mdef\u001b[0m \u001b[0mclick\u001b[0m\u001b[0;34m(\u001b[0m\u001b[0mself\u001b[0m\u001b[0;34m)\u001b[0m\u001b[0;34m:\u001b[0m\u001b[0;34m\u001b[0m\u001b[0m\n\u001b[1;32m     79\u001b[0m         \u001b[0;34m\"\"\"Clicks the element.\"\"\"\u001b[0m\u001b[0;34m\u001b[0m\u001b[0m\n\u001b[0;32m---> 80\u001b[0;31m         \u001b[0mself\u001b[0m\u001b[0;34m.\u001b[0m\u001b[0m_execute\u001b[0m\u001b[0;34m(\u001b[0m\u001b[0mCommand\u001b[0m\u001b[0;34m.\u001b[0m\u001b[0mCLICK_ELEMENT\u001b[0m\u001b[0;34m)\u001b[0m\u001b[0;34m\u001b[0m\u001b[0m\n\u001b[0m\u001b[1;32m     81\u001b[0m \u001b[0;34m\u001b[0m\u001b[0m\n\u001b[1;32m     82\u001b[0m     \u001b[0;32mdef\u001b[0m \u001b[0msubmit\u001b[0m\u001b[0;34m(\u001b[0m\u001b[0mself\u001b[0m\u001b[0;34m)\u001b[0m\u001b[0;34m:\u001b[0m\u001b[0;34m\u001b[0m\u001b[0m\n",
      "\u001b[0;32m~/anaconda3/lib/python3.6/site-packages/selenium/webdriver/remote/webelement.py\u001b[0m in \u001b[0;36m_execute\u001b[0;34m(self, command, params)\u001b[0m\n\u001b[1;32m    626\u001b[0m             \u001b[0mparams\u001b[0m \u001b[0;34m=\u001b[0m \u001b[0;34m{\u001b[0m\u001b[0;34m}\u001b[0m\u001b[0;34m\u001b[0m\u001b[0m\n\u001b[1;32m    627\u001b[0m         \u001b[0mparams\u001b[0m\u001b[0;34m[\u001b[0m\u001b[0;34m'id'\u001b[0m\u001b[0;34m]\u001b[0m \u001b[0;34m=\u001b[0m \u001b[0mself\u001b[0m\u001b[0;34m.\u001b[0m\u001b[0m_id\u001b[0m\u001b[0;34m\u001b[0m\u001b[0m\n\u001b[0;32m--> 628\u001b[0;31m         \u001b[0;32mreturn\u001b[0m \u001b[0mself\u001b[0m\u001b[0;34m.\u001b[0m\u001b[0m_parent\u001b[0m\u001b[0;34m.\u001b[0m\u001b[0mexecute\u001b[0m\u001b[0;34m(\u001b[0m\u001b[0mcommand\u001b[0m\u001b[0;34m,\u001b[0m \u001b[0mparams\u001b[0m\u001b[0;34m)\u001b[0m\u001b[0;34m\u001b[0m\u001b[0m\n\u001b[0m\u001b[1;32m    629\u001b[0m \u001b[0;34m\u001b[0m\u001b[0m\n\u001b[1;32m    630\u001b[0m     \u001b[0;32mdef\u001b[0m \u001b[0mfind_element\u001b[0m\u001b[0;34m(\u001b[0m\u001b[0mself\u001b[0m\u001b[0;34m,\u001b[0m \u001b[0mby\u001b[0m\u001b[0;34m=\u001b[0m\u001b[0mBy\u001b[0m\u001b[0;34m.\u001b[0m\u001b[0mID\u001b[0m\u001b[0;34m,\u001b[0m \u001b[0mvalue\u001b[0m\u001b[0;34m=\u001b[0m\u001b[0;32mNone\u001b[0m\u001b[0;34m)\u001b[0m\u001b[0;34m:\u001b[0m\u001b[0;34m\u001b[0m\u001b[0m\n",
      "\u001b[0;32m~/anaconda3/lib/python3.6/site-packages/selenium/webdriver/remote/webdriver.py\u001b[0m in \u001b[0;36mexecute\u001b[0;34m(self, driver_command, params)\u001b[0m\n\u001b[1;32m    318\u001b[0m         \u001b[0mresponse\u001b[0m \u001b[0;34m=\u001b[0m \u001b[0mself\u001b[0m\u001b[0;34m.\u001b[0m\u001b[0mcommand_executor\u001b[0m\u001b[0;34m.\u001b[0m\u001b[0mexecute\u001b[0m\u001b[0;34m(\u001b[0m\u001b[0mdriver_command\u001b[0m\u001b[0;34m,\u001b[0m \u001b[0mparams\u001b[0m\u001b[0;34m)\u001b[0m\u001b[0;34m\u001b[0m\u001b[0m\n\u001b[1;32m    319\u001b[0m         \u001b[0;32mif\u001b[0m \u001b[0mresponse\u001b[0m\u001b[0;34m:\u001b[0m\u001b[0;34m\u001b[0m\u001b[0m\n\u001b[0;32m--> 320\u001b[0;31m             \u001b[0mself\u001b[0m\u001b[0;34m.\u001b[0m\u001b[0merror_handler\u001b[0m\u001b[0;34m.\u001b[0m\u001b[0mcheck_response\u001b[0m\u001b[0;34m(\u001b[0m\u001b[0mresponse\u001b[0m\u001b[0;34m)\u001b[0m\u001b[0;34m\u001b[0m\u001b[0m\n\u001b[0m\u001b[1;32m    321\u001b[0m             response['value'] = self._unwrap_value(\n\u001b[1;32m    322\u001b[0m                 response.get('value', None))\n",
      "\u001b[0;32m~/anaconda3/lib/python3.6/site-packages/selenium/webdriver/remote/errorhandler.py\u001b[0m in \u001b[0;36mcheck_response\u001b[0;34m(self, response)\u001b[0m\n\u001b[1;32m    240\u001b[0m                 \u001b[0malert_text\u001b[0m \u001b[0;34m=\u001b[0m \u001b[0mvalue\u001b[0m\u001b[0;34m[\u001b[0m\u001b[0;34m'alert'\u001b[0m\u001b[0;34m]\u001b[0m\u001b[0;34m.\u001b[0m\u001b[0mget\u001b[0m\u001b[0;34m(\u001b[0m\u001b[0;34m'text'\u001b[0m\u001b[0;34m)\u001b[0m\u001b[0;34m\u001b[0m\u001b[0m\n\u001b[1;32m    241\u001b[0m             \u001b[0;32mraise\u001b[0m \u001b[0mexception_class\u001b[0m\u001b[0;34m(\u001b[0m\u001b[0mmessage\u001b[0m\u001b[0;34m,\u001b[0m \u001b[0mscreen\u001b[0m\u001b[0;34m,\u001b[0m \u001b[0mstacktrace\u001b[0m\u001b[0;34m,\u001b[0m \u001b[0malert_text\u001b[0m\u001b[0;34m)\u001b[0m\u001b[0;34m\u001b[0m\u001b[0m\n\u001b[0;32m--> 242\u001b[0;31m         \u001b[0;32mraise\u001b[0m \u001b[0mexception_class\u001b[0m\u001b[0;34m(\u001b[0m\u001b[0mmessage\u001b[0m\u001b[0;34m,\u001b[0m \u001b[0mscreen\u001b[0m\u001b[0;34m,\u001b[0m \u001b[0mstacktrace\u001b[0m\u001b[0;34m)\u001b[0m\u001b[0;34m\u001b[0m\u001b[0m\n\u001b[0m\u001b[1;32m    243\u001b[0m \u001b[0;34m\u001b[0m\u001b[0m\n\u001b[1;32m    244\u001b[0m     \u001b[0;32mdef\u001b[0m \u001b[0m_value_or_default\u001b[0m\u001b[0;34m(\u001b[0m\u001b[0mself\u001b[0m\u001b[0;34m,\u001b[0m \u001b[0mobj\u001b[0m\u001b[0;34m,\u001b[0m \u001b[0mkey\u001b[0m\u001b[0;34m,\u001b[0m \u001b[0mdefault\u001b[0m\u001b[0;34m)\u001b[0m\u001b[0;34m:\u001b[0m\u001b[0;34m\u001b[0m\u001b[0m\n",
      "\u001b[0;31mStaleElementReferenceException\u001b[0m: Message: stale element reference: element is not attached to the page document\n  (Session info: chrome=69.0.3497.81)\n  (Driver info: chromedriver=2.41.578706 (5f725d1b4f0a4acbf5259df887244095596231db),platform=Mac OS X 10.11.6 x86_64)\n"
     ]
    }
   ],
   "source": [
    "timeout = 10000\n",
    "search = driver.find_element_by_xpath(\"//*[@id='top_search']\")\n",
    "search.send_keys(Keys.CONTROL + \"a\");\n",
    "search.clear()\n",
    "WebDriverWait(driver, timeout)\n",
    "search.send_keys(\"레드벨벳\")\n",
    "\n",
    "# 아티스트명 검색\n",
    "search.send_keys(Keys.RETURN)\n",
    "\n",
    "# driver.find_element_by_xpath('//*[@id=\"header_wrap\"]/div[3]/fieldset/button[2]/span').click()\n",
    "\n",
    "\n",
    "# 아티스트 클릭\n",
    "driver.find_element_by_xpath('//*[@id=\"conts\"]/div[3]/div[1]/div[1]/div/a/strong').click()\n",
    "\n",
    "artist.append(driver.find_element_by_xpath('//*[@id=\"conts\"]/div[1]/div/div[2]/p').text)\n",
    "\n",
    "artist_m.append(driver.find_element_by_xpath('//*[@id=\"conts\"]/div[1]/div/div[2]/div').text)\n",
    "\n",
    "debut_y.append(driver.find_element_by_xpath('//*[@id=\"conts\"]/div[1]/div/div[2]/dl[1]/dd[1]').text)\n",
    "\n",
    "debut_t.append(driver.find_element_by_xpath('//*[@id=\"conts\"]/div[1]/div/div[2]/dl[1]/dd[1]/a/span[2]').text)\n",
    "\n",
    "agency.append(driver.find_element_by_xpath('//*[@id=\"conts\"]/div[1]/div/div[2]/dl[1]/dd[3]').text)\n",
    "\n",
    "# 곡 클릭\n",
    "driver.find_element_by_xpath('//*[@id=\"conts\"]/div[3]/ul/li[3]/a').click()\n",
    "\n",
    "num = 1\n",
    "while True:\n",
    "\n",
    "    link1 = '//*[@id=\"frm\"]/div/table/tbody/tr['\n",
    "    link2 = ']/td[3]/div/div/a[1]/span'\n",
    "    # 곡 정보 클릭\n",
    "    driver.find_element_by_xpath(link1 +str(num)+ link2).click()\n",
    "\n",
    "    # lyric_page = driver.find_element_by_xpath(\"//a[@class='btn btn_icon_detail']\")\n",
    "    # lyric_page.click()\n",
    "    title.append(driver.find_element_by_xpath('//*[@id=\"downloadfrm\"]/div/div/div[2]/div[1]/div[1]').text)\n",
    "\n",
    "    album.append(driver.find_element_by_xpath('//*[@id=\"downloadfrm\"]/div/div/div[2]/div[2]/dl/dd[1]/a').text)\n",
    "\n",
    "    release_date.append(driver.find_element_by_xpath('//*[@id=\"downloadfrm\"]/div/div/div[2]/div[2]/dl/dd[2]').text)\n",
    "\n",
    "    song_genre.append(driver.find_element_by_xpath('//*[@id=\"downloadfrm\"]/div/div/div[2]/div[2]/dl/dd[3]').text)\n",
    "\n",
    "    like.append(driver.find_element_by_xpath('//*[@id=\"d_like_count\"]').text)\n",
    "\n",
    "    lyrics.append(driver.find_element_by_xpath('//*[@id=\"d_video_summary\"]').text)\n",
    "\n",
    "    try:\n",
    "        creator.append(driver.find_element_by_xpath('//*[@id=\"conts\"]/div[3]/ul').text)\n",
    "    except NoSuchElementException as e:\n",
    "        creator.append('')\n",
    "    print(len(title), title[len(title)-1])\n",
    "    \n",
    "    driver.execute_script(\"window.history.go(-1)\")\n",
    "    \n",
    "    num += 1\n",
    "    print(num)\n",
    "\n",
    "    if num == 51:\n",
    "        driver.find_element_by_xpath('//*[@id=\"pageObjNavgation\"]/div/a[4]').click()\n",
    "        num = 1\n",
    "        print('must_change', num)\n",
    "        continue\n",
    "        \n",
    "        \n",
    "    # 마지막 페이지인 경우 while문을 빠져나감    \n",
    "    next_link_end = driver.find_element_by_xpath('//*[@id=\"pageObjNavgation\"]/div/a')\n",
    "    hi = next_link_end.get_attribute('class')\n",
    "    if hi == 'btn_next disabled':\n",
    "        print('마지막 페이지입니다')\n",
    "        break"
   ]
  },
  {
   "cell_type": "code",
   "execution_count": null,
   "metadata": {},
   "outputs": [],
   "source": []
  }
 ],
 "metadata": {
  "kernelspec": {
   "display_name": "Python 3",
   "language": "python",
   "name": "python3"
  },
  "language_info": {
   "codemirror_mode": {
    "name": "ipython",
    "version": 3
   },
   "file_extension": ".py",
   "mimetype": "text/x-python",
   "name": "python",
   "nbconvert_exporter": "python",
   "pygments_lexer": "ipython3",
   "version": "3.6.5"
  }
 },
 "nbformat": 4,
 "nbformat_minor": 2
}
