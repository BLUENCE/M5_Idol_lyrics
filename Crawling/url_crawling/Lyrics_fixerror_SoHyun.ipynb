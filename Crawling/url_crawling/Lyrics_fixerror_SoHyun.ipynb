{
 "cells": [
  {
   "cell_type": "code",
   "execution_count": 2,
   "metadata": {},
   "outputs": [],
   "source": [
    "import pandas as pd\n",
    "import numpy as np"
   ]
  },
  {
   "cell_type": "code",
   "execution_count": 3,
   "metadata": {},
   "outputs": [],
   "source": [
    "clean = pd.read_csv('song_data_raw.csv')"
   ]
  },
  {
   "cell_type": "code",
   "execution_count": 5,
   "metadata": {},
   "outputs": [
    {
     "data": {
      "text/plain": [
       "(18515, 10)"
      ]
     },
     "execution_count": 5,
     "metadata": {},
     "output_type": "execute_result"
    }
   ],
   "source": [
    "clean.shape"
   ]
  },
  {
   "cell_type": "code",
   "execution_count": 6,
   "metadata": {},
   "outputs": [
    {
     "data": {
      "text/plain": [
       "(15975, 10)"
      ]
     },
     "execution_count": 6,
     "metadata": {},
     "output_type": "execute_result"
    }
   ],
   "source": [
    "clean = clean[pd.notnull(clean['lyrics'])]\n",
    "clean.shape"
   ]
  },
  {
   "cell_type": "code",
   "execution_count": 7,
   "metadata": {
    "scrolled": true
   },
   "outputs": [
    {
     "data": {
      "text/html": [
       "<div>\n",
       "<style scoped>\n",
       "    .dataframe tbody tr th:only-of-type {\n",
       "        vertical-align: middle;\n",
       "    }\n",
       "\n",
       "    .dataframe tbody tr th {\n",
       "        vertical-align: top;\n",
       "    }\n",
       "\n",
       "    .dataframe thead th {\n",
       "        text-align: right;\n",
       "    }\n",
       "</style>\n",
       "<table border=\"1\" class=\"dataframe\">\n",
       "  <thead>\n",
       "    <tr style=\"text-align: right;\">\n",
       "      <th></th>\n",
       "      <th>Unnamed: 0</th>\n",
       "      <th>title</th>\n",
       "      <th>artist</th>\n",
       "      <th>album</th>\n",
       "      <th>release_date</th>\n",
       "      <th>song_genre</th>\n",
       "      <th>is_title</th>\n",
       "      <th>like</th>\n",
       "      <th>creator</th>\n",
       "      <th>lyrics</th>\n",
       "    </tr>\n",
       "  </thead>\n",
       "  <tbody>\n",
       "    <tr>\n",
       "      <th>18177</th>\n",
       "      <td>18177</td>\n",
       "      <td>Ruby Heart</td>\n",
       "      <td>구구단 세미나</td>\n",
       "      <td>SEMINA</td>\n",
       "      <td>2018.07.10</td>\n",
       "      <td>Dance</td>\n",
       "      <td>타이틀 곡</td>\n",
       "      <td>1,883</td>\n",
       "      <td>Dr.JO\\r\\n작사\\r\\nDr.JO\\r\\n작곡\\r\\nDr.JO\\r\\n편곡</td>\n",
       "      <td>Shuby-Ruby-Ruby-Ruby Heart\\r\\n새빨갛게 빛나는\\r\\n네 심장...</td>\n",
       "    </tr>\n",
       "    <tr>\n",
       "      <th>18179</th>\n",
       "      <td>18179</td>\n",
       "      <td>몰랐니 (Lil` Touch)</td>\n",
       "      <td>소녀시대 오지지</td>\n",
       "      <td>몰랐니 - The 1st Single Album</td>\n",
       "      <td>2018.09.05</td>\n",
       "      <td>Dance</td>\n",
       "      <td>NaN</td>\n",
       "      <td>35,145</td>\n",
       "      <td>ODAL PARK\\r\\n작사\\r\\n최지연 (Jam Factory)\\r\\n작사\\r\\n...</td>\n",
       "      <td>몰랐니 네 맘이 날 원하잖니\\r\\n서둘러 내게 빨리 Lalalalala\\r\\n빨리 ...</td>\n",
       "    </tr>\n",
       "    <tr>\n",
       "      <th>18180</th>\n",
       "      <td>18180</td>\n",
       "      <td>쉼표 (Fermata)</td>\n",
       "      <td>소녀시대 오지지</td>\n",
       "      <td>몰랐니 - The 1st Single Album</td>\n",
       "      <td>2018.09.05</td>\n",
       "      <td>Ballad</td>\n",
       "      <td>NaN</td>\n",
       "      <td>8,539</td>\n",
       "      <td>김성우 (Jam Factory)\\r\\n작사\\r\\nAndreas Oberg\\r\\n작곡...</td>\n",
       "      <td>마음이 쉬는 도시\\r\\n없을 거란 걸 알아\\r\\n그런 기댄 접어\\r\\n하지만 나는 ...</td>\n",
       "    </tr>\n",
       "    <tr>\n",
       "      <th>18181</th>\n",
       "      <td>18181</td>\n",
       "      <td>몰랐니 (Lil` Touch) (Inst.)</td>\n",
       "      <td>소녀시대 오지지</td>\n",
       "      <td>몰랐니 - The 1st Single Album</td>\n",
       "      <td>2018.09.05</td>\n",
       "      <td>Dance</td>\n",
       "      <td>인기 곡</td>\n",
       "      <td>1,547</td>\n",
       "      <td>Lance Shipp\\r\\n작곡\\r\\nRachael Kennedy\\r\\n작곡\\r\\n...</td>\n",
       "      <td>몰랐니 네 맘이 날 원하잖니\\r\\n서둘러 내게 빨리 Lalalalala\\r\\n빨리 ...</td>\n",
       "    </tr>\n",
       "    <tr>\n",
       "      <th>18182</th>\n",
       "      <td>18182</td>\n",
       "      <td>쉼표 (Fermata) (Inst.)</td>\n",
       "      <td>소녀시대 오지지</td>\n",
       "      <td>몰랐니 - The 1st Single Album</td>\n",
       "      <td>2018.09.05</td>\n",
       "      <td>Ballad</td>\n",
       "      <td>NaN</td>\n",
       "      <td>1,463</td>\n",
       "      <td>Andreas Oberg\\r\\n작곡\\r\\nMaria Marcus\\r\\n작곡\\r\\nF...</td>\n",
       "      <td>마음이 쉬는 도시\\r\\n없을 거란 걸 알아\\r\\n그런 기댄 접어\\r\\n하지만 나는 ...</td>\n",
       "    </tr>\n",
       "  </tbody>\n",
       "</table>\n",
       "</div>"
      ],
      "text/plain": [
       "       Unnamed: 0                     title    artist  \\\n",
       "18177       18177                Ruby Heart   구구단 세미나   \n",
       "18179       18179          몰랐니 (Lil` Touch)  소녀시대 오지지   \n",
       "18180       18180              쉼표 (Fermata)  소녀시대 오지지   \n",
       "18181       18181  몰랐니 (Lil` Touch) (Inst.)  소녀시대 오지지   \n",
       "18182       18182      쉼표 (Fermata) (Inst.)  소녀시대 오지지   \n",
       "\n",
       "                            album release_date song_genre is_title    like  \\\n",
       "18177                      SEMINA   2018.07.10      Dance    타이틀 곡   1,883   \n",
       "18179  몰랐니 - The 1st Single Album   2018.09.05      Dance      NaN  35,145   \n",
       "18180  몰랐니 - The 1st Single Album   2018.09.05     Ballad      NaN   8,539   \n",
       "18181  몰랐니 - The 1st Single Album   2018.09.05      Dance     인기 곡   1,547   \n",
       "18182  몰랐니 - The 1st Single Album   2018.09.05     Ballad      NaN   1,463   \n",
       "\n",
       "                                                 creator  \\\n",
       "18177          Dr.JO\\r\\n작사\\r\\nDr.JO\\r\\n작곡\\r\\nDr.JO\\r\\n편곡   \n",
       "18179  ODAL PARK\\r\\n작사\\r\\n최지연 (Jam Factory)\\r\\n작사\\r\\n...   \n",
       "18180  김성우 (Jam Factory)\\r\\n작사\\r\\nAndreas Oberg\\r\\n작곡...   \n",
       "18181  Lance Shipp\\r\\n작곡\\r\\nRachael Kennedy\\r\\n작곡\\r\\n...   \n",
       "18182  Andreas Oberg\\r\\n작곡\\r\\nMaria Marcus\\r\\n작곡\\r\\nF...   \n",
       "\n",
       "                                                  lyrics  \n",
       "18177  Shuby-Ruby-Ruby-Ruby Heart\\r\\n새빨갛게 빛나는\\r\\n네 심장...  \n",
       "18179  몰랐니 네 맘이 날 원하잖니\\r\\n서둘러 내게 빨리 Lalalalala\\r\\n빨리 ...  \n",
       "18180  마음이 쉬는 도시\\r\\n없을 거란 걸 알아\\r\\n그런 기댄 접어\\r\\n하지만 나는 ...  \n",
       "18181  몰랐니 네 맘이 날 원하잖니\\r\\n서둘러 내게 빨리 Lalalalala\\r\\n빨리 ...  \n",
       "18182  마음이 쉬는 도시\\r\\n없을 거란 걸 알아\\r\\n그런 기댄 접어\\r\\n하지만 나는 ...  "
      ]
     },
     "execution_count": 7,
     "metadata": {},
     "output_type": "execute_result"
    }
   ],
   "source": [
    "clean.tail()"
   ]
  },
  {
   "cell_type": "code",
   "execution_count": 8,
   "metadata": {},
   "outputs": [
    {
     "data": {
      "text/plain": [
       "(15975, 10)"
      ]
     },
     "execution_count": 8,
     "metadata": {},
     "output_type": "execute_result"
    }
   ],
   "source": [
    "clean = clean[clean.lyrics != '']\n",
    "clean.shape"
   ]
  },
  {
   "cell_type": "code",
   "execution_count": 9,
   "metadata": {},
   "outputs": [
    {
     "data": {
      "text/html": [
       "<div>\n",
       "<style scoped>\n",
       "    .dataframe tbody tr th:only-of-type {\n",
       "        vertical-align: middle;\n",
       "    }\n",
       "\n",
       "    .dataframe tbody tr th {\n",
       "        vertical-align: top;\n",
       "    }\n",
       "\n",
       "    .dataframe thead th {\n",
       "        text-align: right;\n",
       "    }\n",
       "</style>\n",
       "<table border=\"1\" class=\"dataframe\">\n",
       "  <thead>\n",
       "    <tr style=\"text-align: right;\">\n",
       "      <th></th>\n",
       "      <th>Unnamed: 0</th>\n",
       "      <th>title</th>\n",
       "      <th>artist</th>\n",
       "      <th>album</th>\n",
       "      <th>release_date</th>\n",
       "      <th>song_genre</th>\n",
       "      <th>is_title</th>\n",
       "      <th>like</th>\n",
       "      <th>creator</th>\n",
       "      <th>lyrics</th>\n",
       "    </tr>\n",
       "  </thead>\n",
       "  <tbody>\n",
       "    <tr>\n",
       "      <th>18177</th>\n",
       "      <td>18177</td>\n",
       "      <td>Ruby Heart</td>\n",
       "      <td>구구단 세미나</td>\n",
       "      <td>SEMINA</td>\n",
       "      <td>2018.07.10</td>\n",
       "      <td>Dance</td>\n",
       "      <td>타이틀 곡</td>\n",
       "      <td>1,883</td>\n",
       "      <td>Dr.JO\\r\\n작사\\r\\nDr.JO\\r\\n작곡\\r\\nDr.JO\\r\\n편곡</td>\n",
       "      <td>Shuby-Ruby-Ruby-Ruby Heart\\r\\n새빨갛게 빛나는\\r\\n네 심장...</td>\n",
       "    </tr>\n",
       "    <tr>\n",
       "      <th>18179</th>\n",
       "      <td>18179</td>\n",
       "      <td>몰랐니 (Lil` Touch)</td>\n",
       "      <td>소녀시대 오지지</td>\n",
       "      <td>몰랐니 - The 1st Single Album</td>\n",
       "      <td>2018.09.05</td>\n",
       "      <td>Dance</td>\n",
       "      <td>NaN</td>\n",
       "      <td>35,145</td>\n",
       "      <td>ODAL PARK\\r\\n작사\\r\\n최지연 (Jam Factory)\\r\\n작사\\r\\n...</td>\n",
       "      <td>몰랐니 네 맘이 날 원하잖니\\r\\n서둘러 내게 빨리 Lalalalala\\r\\n빨리 ...</td>\n",
       "    </tr>\n",
       "    <tr>\n",
       "      <th>18180</th>\n",
       "      <td>18180</td>\n",
       "      <td>쉼표 (Fermata)</td>\n",
       "      <td>소녀시대 오지지</td>\n",
       "      <td>몰랐니 - The 1st Single Album</td>\n",
       "      <td>2018.09.05</td>\n",
       "      <td>Ballad</td>\n",
       "      <td>NaN</td>\n",
       "      <td>8,539</td>\n",
       "      <td>김성우 (Jam Factory)\\r\\n작사\\r\\nAndreas Oberg\\r\\n작곡...</td>\n",
       "      <td>마음이 쉬는 도시\\r\\n없을 거란 걸 알아\\r\\n그런 기댄 접어\\r\\n하지만 나는 ...</td>\n",
       "    </tr>\n",
       "    <tr>\n",
       "      <th>18181</th>\n",
       "      <td>18181</td>\n",
       "      <td>몰랐니 (Lil` Touch) (Inst.)</td>\n",
       "      <td>소녀시대 오지지</td>\n",
       "      <td>몰랐니 - The 1st Single Album</td>\n",
       "      <td>2018.09.05</td>\n",
       "      <td>Dance</td>\n",
       "      <td>인기 곡</td>\n",
       "      <td>1,547</td>\n",
       "      <td>Lance Shipp\\r\\n작곡\\r\\nRachael Kennedy\\r\\n작곡\\r\\n...</td>\n",
       "      <td>몰랐니 네 맘이 날 원하잖니\\r\\n서둘러 내게 빨리 Lalalalala\\r\\n빨리 ...</td>\n",
       "    </tr>\n",
       "    <tr>\n",
       "      <th>18182</th>\n",
       "      <td>18182</td>\n",
       "      <td>쉼표 (Fermata) (Inst.)</td>\n",
       "      <td>소녀시대 오지지</td>\n",
       "      <td>몰랐니 - The 1st Single Album</td>\n",
       "      <td>2018.09.05</td>\n",
       "      <td>Ballad</td>\n",
       "      <td>NaN</td>\n",
       "      <td>1,463</td>\n",
       "      <td>Andreas Oberg\\r\\n작곡\\r\\nMaria Marcus\\r\\n작곡\\r\\nF...</td>\n",
       "      <td>마음이 쉬는 도시\\r\\n없을 거란 걸 알아\\r\\n그런 기댄 접어\\r\\n하지만 나는 ...</td>\n",
       "    </tr>\n",
       "  </tbody>\n",
       "</table>\n",
       "</div>"
      ],
      "text/plain": [
       "       Unnamed: 0                     title    artist  \\\n",
       "18177       18177                Ruby Heart   구구단 세미나   \n",
       "18179       18179          몰랐니 (Lil` Touch)  소녀시대 오지지   \n",
       "18180       18180              쉼표 (Fermata)  소녀시대 오지지   \n",
       "18181       18181  몰랐니 (Lil` Touch) (Inst.)  소녀시대 오지지   \n",
       "18182       18182      쉼표 (Fermata) (Inst.)  소녀시대 오지지   \n",
       "\n",
       "                            album release_date song_genre is_title    like  \\\n",
       "18177                      SEMINA   2018.07.10      Dance    타이틀 곡   1,883   \n",
       "18179  몰랐니 - The 1st Single Album   2018.09.05      Dance      NaN  35,145   \n",
       "18180  몰랐니 - The 1st Single Album   2018.09.05     Ballad      NaN   8,539   \n",
       "18181  몰랐니 - The 1st Single Album   2018.09.05      Dance     인기 곡   1,547   \n",
       "18182  몰랐니 - The 1st Single Album   2018.09.05     Ballad      NaN   1,463   \n",
       "\n",
       "                                                 creator  \\\n",
       "18177          Dr.JO\\r\\n작사\\r\\nDr.JO\\r\\n작곡\\r\\nDr.JO\\r\\n편곡   \n",
       "18179  ODAL PARK\\r\\n작사\\r\\n최지연 (Jam Factory)\\r\\n작사\\r\\n...   \n",
       "18180  김성우 (Jam Factory)\\r\\n작사\\r\\nAndreas Oberg\\r\\n작곡...   \n",
       "18181  Lance Shipp\\r\\n작곡\\r\\nRachael Kennedy\\r\\n작곡\\r\\n...   \n",
       "18182  Andreas Oberg\\r\\n작곡\\r\\nMaria Marcus\\r\\n작곡\\r\\nF...   \n",
       "\n",
       "                                                  lyrics  \n",
       "18177  Shuby-Ruby-Ruby-Ruby Heart\\r\\n새빨갛게 빛나는\\r\\n네 심장...  \n",
       "18179  몰랐니 네 맘이 날 원하잖니\\r\\n서둘러 내게 빨리 Lalalalala\\r\\n빨리 ...  \n",
       "18180  마음이 쉬는 도시\\r\\n없을 거란 걸 알아\\r\\n그런 기댄 접어\\r\\n하지만 나는 ...  \n",
       "18181  몰랐니 네 맘이 날 원하잖니\\r\\n서둘러 내게 빨리 Lalalalala\\r\\n빨리 ...  \n",
       "18182  마음이 쉬는 도시\\r\\n없을 거란 걸 알아\\r\\n그런 기댄 접어\\r\\n하지만 나는 ...  "
      ]
     },
     "execution_count": 9,
     "metadata": {},
     "output_type": "execute_result"
    }
   ],
   "source": [
    "clean.tail()"
   ]
  },
  {
   "cell_type": "code",
   "execution_count": 11,
   "metadata": {},
   "outputs": [],
   "source": [
    "clean.to_csv('song_data_raw_ver01.csv')"
   ]
  },
  {
   "cell_type": "code",
   "execution_count": null,
   "metadata": {},
   "outputs": [],
   "source": []
  }
 ],
 "metadata": {
  "kernelspec": {
   "display_name": "Python 3",
   "language": "python",
   "name": "python3"
  },
  "language_info": {
   "codemirror_mode": {
    "name": "ipython",
    "version": 3
   },
   "file_extension": ".py",
   "mimetype": "text/x-python",
   "name": "python",
   "nbconvert_exporter": "python",
   "pygments_lexer": "ipython3",
   "version": "3.6.5"
  }
 },
 "nbformat": 4,
 "nbformat_minor": 2
}
