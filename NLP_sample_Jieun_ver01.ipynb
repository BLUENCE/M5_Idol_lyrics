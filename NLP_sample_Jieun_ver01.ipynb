{
 "cells": [
  {
   "cell_type": "code",
   "execution_count": 12,
   "metadata": {
    "collapsed": true
   },
   "outputs": [],
   "source": [
    "import pandas as pd \n",
    "import numpy as np\n",
    "import re"
   ]
  },
  {
   "cell_type": "code",
   "execution_count": 239,
   "metadata": {},
   "outputs": [
    {
     "data": {
      "text/plain": [
       "'/Users/jieun/projects/M5_Idol_lyrics'"
      ]
     },
     "execution_count": 239,
     "metadata": {},
     "output_type": "execute_result"
    }
   ],
   "source": [
    "%pwd"
   ]
  },
  {
   "cell_type": "code",
   "execution_count": 240,
   "metadata": {
    "scrolled": false
   },
   "outputs": [
    {
     "name": "stdout",
     "output_type": "stream",
     "text": [
      "Name: soynlp\r\n",
      "Version: 0.0.46\r\n",
      "Summary: Unsupervised Korean Natural Language Processing Toolkits\r\n",
      "Home-page: https://github.com/lovit/soynlp\r\n",
      "Author: Lovit\r\n",
      "Author-email: soy.lovit@gmail.com\r\n",
      "License: UNKNOWN\r\n",
      "Location: /Users/jieun/anaconda3/lib/python3.6/site-packages\r\n",
      "Requires: psutil, numpy\r\n",
      "Required-by: \r\n"
     ]
    }
   ],
   "source": [
    "# !pip install soynlp\n",
    "!pip show soynlp"
   ]
  },
  {
   "cell_type": "code",
   "execution_count": 271,
   "metadata": {
    "collapsed": true
   },
   "outputs": [],
   "source": [
    "data= pd.read_csv(\"song_data_fixed.csv\")"
   ]
  },
  {
   "cell_type": "code",
   "execution_count": 272,
   "metadata": {
    "collapsed": true
   },
   "outputs": [],
   "source": [
    "song = pd.DataFrame(data)"
   ]
  },
  {
   "cell_type": "code",
   "execution_count": 273,
   "metadata": {
    "scrolled": false
   },
   "outputs": [
    {
     "data": {
      "text/html": [
       "<div>\n",
       "<style scoped>\n",
       "    .dataframe tbody tr th:only-of-type {\n",
       "        vertical-align: middle;\n",
       "    }\n",
       "\n",
       "    .dataframe tbody tr th {\n",
       "        vertical-align: top;\n",
       "    }\n",
       "\n",
       "    .dataframe thead th {\n",
       "        text-align: right;\n",
       "    }\n",
       "</style>\n",
       "<table border=\"1\" class=\"dataframe\">\n",
       "  <thead>\n",
       "    <tr style=\"text-align: right;\">\n",
       "      <th></th>\n",
       "      <th>Unnamed: 0</th>\n",
       "      <th>title</th>\n",
       "      <th>artist</th>\n",
       "      <th>album</th>\n",
       "      <th>release_date</th>\n",
       "      <th>song_genre</th>\n",
       "      <th>is_title</th>\n",
       "      <th>like</th>\n",
       "      <th>creator</th>\n",
       "      <th>lyrics</th>\n",
       "    </tr>\n",
       "  </thead>\n",
       "  <tbody>\n",
       "    <tr>\n",
       "      <th>0</th>\n",
       "      <td>0</td>\n",
       "      <td>태지 보이스</td>\n",
       "      <td>서태지와 아이들</td>\n",
       "      <td>시대유감(時代遺憾)</td>\n",
       "      <td>1996.06.07</td>\n",
       "      <td>Rock</td>\n",
       "      <td>NaN</td>\n",
       "      <td>269</td>\n",
       "      <td>서태지\\r\\r\\n작사\\r\\r\\n서태지\\r\\r\\n작곡\\r\\r\\n서태지\\r\\r\\n편곡</td>\n",
       "      <td>갈수 없는 곳이란 우리에겐 없어\\r\\r\\n보이는 길밖에도 세상은 있어\\r\\r\\n언제...</td>\n",
       "    </tr>\n",
       "    <tr>\n",
       "      <th>1</th>\n",
       "      <td>1</td>\n",
       "      <td>시대유감(時代遺憾)</td>\n",
       "      <td>서태지와 아이들</td>\n",
       "      <td>시대유감(時代遺憾)</td>\n",
       "      <td>1996.06.07</td>\n",
       "      <td>Rock</td>\n",
       "      <td>타이틀 곡</td>\n",
       "      <td>3,256</td>\n",
       "      <td>서태지\\r\\r\\n작사\\r\\r\\n서태지\\r\\r\\n작곡\\r\\r\\n서태지\\r\\r\\n편곡</td>\n",
       "      <td>왜 기다려 왔잖아\\r\\r\\n모든 삶을 포기하는 소리를\\r\\r\\n이 세상이 모두 미쳐...</td>\n",
       "    </tr>\n",
       "    <tr>\n",
       "      <th>2</th>\n",
       "      <td>2</td>\n",
       "      <td>수시아(誰是我)</td>\n",
       "      <td>서태지와 아이들</td>\n",
       "      <td>시대유감(時代遺憾)</td>\n",
       "      <td>1996.06.07</td>\n",
       "      <td>Rock</td>\n",
       "      <td>NaN</td>\n",
       "      <td>488</td>\n",
       "      <td>서태지\\r\\r\\n작사\\r\\r\\n서태지\\r\\r\\n작곡\\r\\r\\n서태지\\r\\r\\n편곡</td>\n",
       "      <td>이 세상 그 누구도 나를 닮을 순 없네\\r\\r\\n날 세상에 알릴 거야\\r\\r\\n나 ...</td>\n",
       "    </tr>\n",
       "  </tbody>\n",
       "</table>\n",
       "</div>"
      ],
      "text/plain": [
       "   Unnamed: 0       title    artist       album release_date song_genre  \\\n",
       "0           0      태지 보이스  서태지와 아이들  시대유감(時代遺憾)   1996.06.07       Rock   \n",
       "1           1  시대유감(時代遺憾)  서태지와 아이들  시대유감(時代遺憾)   1996.06.07       Rock   \n",
       "2           2    수시아(誰是我)  서태지와 아이들  시대유감(時代遺憾)   1996.06.07       Rock   \n",
       "\n",
       "  is_title   like                                        creator  \\\n",
       "0      NaN    269  서태지\\r\\r\\n작사\\r\\r\\n서태지\\r\\r\\n작곡\\r\\r\\n서태지\\r\\r\\n편곡   \n",
       "1    타이틀 곡  3,256  서태지\\r\\r\\n작사\\r\\r\\n서태지\\r\\r\\n작곡\\r\\r\\n서태지\\r\\r\\n편곡   \n",
       "2      NaN    488  서태지\\r\\r\\n작사\\r\\r\\n서태지\\r\\r\\n작곡\\r\\r\\n서태지\\r\\r\\n편곡   \n",
       "\n",
       "                                              lyrics  \n",
       "0  갈수 없는 곳이란 우리에겐 없어\\r\\r\\n보이는 길밖에도 세상은 있어\\r\\r\\n언제...  \n",
       "1  왜 기다려 왔잖아\\r\\r\\n모든 삶을 포기하는 소리를\\r\\r\\n이 세상이 모두 미쳐...  \n",
       "2  이 세상 그 누구도 나를 닮을 순 없네\\r\\r\\n날 세상에 알릴 거야\\r\\r\\n나 ...  "
      ]
     },
     "execution_count": 273,
     "metadata": {},
     "output_type": "execute_result"
    }
   ],
   "source": [
    "song.head(3)"
   ]
  },
  {
   "cell_type": "code",
   "execution_count": 274,
   "metadata": {
    "scrolled": false
   },
   "outputs": [
    {
     "data": {
      "text/plain": [
       "Index(['Unnamed: 0', 'title', 'artist', 'album', 'release_date', 'song_genre',\n",
       "       'is_title', 'like', 'creator', 'lyrics'],\n",
       "      dtype='object')"
      ]
     },
     "execution_count": 274,
     "metadata": {},
     "output_type": "execute_result"
    }
   ],
   "source": [
    "song.columns"
   ]
  },
  {
   "cell_type": "code",
   "execution_count": 275,
   "metadata": {},
   "outputs": [
    {
     "data": {
      "text/plain": [
       "동방신기           865\n",
       "키스             839\n",
       "슈퍼주니어          518\n",
       "샤이니            469\n",
       "쿨              375\n",
       "신화             354\n",
       "소녀시대           323\n",
       "엑소             322\n",
       "비원에이포          296\n",
       "플라이 투 더 스카이    289\n",
       "터보             285\n",
       "구피             268\n",
       "방탄소년단          241\n",
       "빅뱅             232\n",
       "에프티 아일랜드       230\n",
       "투피엠            228\n",
       "god            210\n",
       "엔알지            199\n",
       "룰라             198\n",
       "인피니트           198\n",
       "브라운 아이드 걸스     175\n",
       "티아라            169\n",
       "젝스키스           166\n",
       "에이치오티          165\n",
       "틴탑             149\n",
       "핑클             144\n",
       "에스이에스          142\n",
       "버즈             142\n",
       "쥬얼리            141\n",
       "씨엔블루           140\n",
       "              ... \n",
       "비투비-블루           5\n",
       "타키온              5\n",
       "소년24             4\n",
       "키스 파이브           4\n",
       "립버블              4\n",
       "보너스베이비           4\n",
       "브이엔티             4\n",
       "에스아이에스           4\n",
       "씨아이브이에이          3\n",
       "구구단 세미나          3\n",
       "인피니트F            3\n",
       "언니쓰              3\n",
       "엠앤엔              3\n",
       "핫젝갓알지            3\n",
       "바이칼              2\n",
       "스피카.S            2\n",
       "애플비              2\n",
       "아이비아이            2\n",
       "옆집소녀             2\n",
       "구구단 오구오구         2\n",
       "맙                2\n",
       "레인보우 픽시          2\n",
       "프리스틴 V           2\n",
       "빈챈현스S            1\n",
       "지디 앤 태양          1\n",
       "애프터스쿨 레드         1\n",
       "에이오에이 크림         1\n",
       "애프터스쿨 블루         1\n",
       "루비               1\n",
       "굿데이              1\n",
       "Name: artist, Length: 330, dtype: int64"
      ]
     },
     "execution_count": 275,
     "metadata": {},
     "output_type": "execute_result"
    }
   ],
   "source": [
    "song['artist'].value_counts()"
   ]
  },
  {
   "cell_type": "code",
   "execution_count": 276,
   "metadata": {
    "scrolled": false
   },
   "outputs": [
    {
     "data": {
      "text/html": [
       "<div>\n",
       "<style scoped>\n",
       "    .dataframe tbody tr th:only-of-type {\n",
       "        vertical-align: middle;\n",
       "    }\n",
       "\n",
       "    .dataframe tbody tr th {\n",
       "        vertical-align: top;\n",
       "    }\n",
       "\n",
       "    .dataframe thead th {\n",
       "        text-align: right;\n",
       "    }\n",
       "</style>\n",
       "<table border=\"1\" class=\"dataframe\">\n",
       "  <thead>\n",
       "    <tr style=\"text-align: right;\">\n",
       "      <th></th>\n",
       "      <th>Unnamed: 0</th>\n",
       "      <th>title</th>\n",
       "      <th>artist</th>\n",
       "      <th>album</th>\n",
       "      <th>release_date</th>\n",
       "      <th>song_genre</th>\n",
       "      <th>is_title</th>\n",
       "      <th>like</th>\n",
       "      <th>creator</th>\n",
       "      <th>lyrics</th>\n",
       "    </tr>\n",
       "  </thead>\n",
       "  <tbody>\n",
       "    <tr>\n",
       "      <th>5088</th>\n",
       "      <td>5088</td>\n",
       "      <td>Rock And Roll All Nite</td>\n",
       "      <td>키스</td>\n",
       "      <td>Torcida 2018 - Nacional e Internacional</td>\n",
       "      <td>2018.06.01</td>\n",
       "      <td>World</td>\n",
       "      <td>`게임 쉬리` OST (`이젠` Metal Ver.) 와 동영상 수록</td>\n",
       "      <td>1</td>\n",
       "      <td>NaN</td>\n",
       "      <td>You show us everything you've got\\r\\r\\nYou kee...</td>\n",
       "    </tr>\n",
       "    <tr>\n",
       "      <th>5089</th>\n",
       "      <td>5089</td>\n",
       "      <td>Rock And Roll All Nite</td>\n",
       "      <td>키스</td>\n",
       "      <td>New Year`s Eve Countdown</td>\n",
       "      <td>2017.12.15</td>\n",
       "      <td>기타</td>\n",
       "      <td>NaN</td>\n",
       "      <td>7</td>\n",
       "      <td>NaN</td>\n",
       "      <td>NaN</td>\n",
       "    </tr>\n",
       "    <tr>\n",
       "      <th>5090</th>\n",
       "      <td>5090</td>\n",
       "      <td>Calling Dr. Love</td>\n",
       "      <td>키스</td>\n",
       "      <td>Throwback Tunes: Classic Rock</td>\n",
       "      <td>2017.10.20</td>\n",
       "      <td>Pop</td>\n",
       "      <td>NaN</td>\n",
       "      <td>1</td>\n",
       "      <td>NaN</td>\n",
       "      <td>NaN</td>\n",
       "    </tr>\n",
       "    <tr>\n",
       "      <th>5091</th>\n",
       "      <td>5091</td>\n",
       "      <td>Rock And Roll All Nite</td>\n",
       "      <td>키스</td>\n",
       "      <td>Countdown 40th Anniversary</td>\n",
       "      <td>2016.11.24</td>\n",
       "      <td>Pop</td>\n",
       "      <td>타이틀 곡</td>\n",
       "      <td>11</td>\n",
       "      <td>NaN</td>\n",
       "      <td>NaN</td>\n",
       "    </tr>\n",
       "    <tr>\n",
       "      <th>5092</th>\n",
       "      <td>5092</td>\n",
       "      <td>Deuce</td>\n",
       "      <td>키스</td>\n",
       "      <td>Radio Waves 1974-1988: The Very Best of Kiss, ...</td>\n",
       "      <td>2016.10.21</td>\n",
       "      <td>World</td>\n",
       "      <td>NaN</td>\n",
       "      <td>0</td>\n",
       "      <td>NaN</td>\n",
       "      <td>NaN</td>\n",
       "    </tr>\n",
       "  </tbody>\n",
       "</table>\n",
       "</div>"
      ],
      "text/plain": [
       "      Unnamed: 0                   title artist  \\\n",
       "5088        5088  Rock And Roll All Nite     키스   \n",
       "5089        5089  Rock And Roll All Nite     키스   \n",
       "5090        5090        Calling Dr. Love     키스   \n",
       "5091        5091  Rock And Roll All Nite     키스   \n",
       "5092        5092                   Deuce     키스   \n",
       "\n",
       "                                                  album release_date  \\\n",
       "5088            Torcida 2018 - Nacional e Internacional   2018.06.01   \n",
       "5089                           New Year`s Eve Countdown   2017.12.15   \n",
       "5090                      Throwback Tunes: Classic Rock   2017.10.20   \n",
       "5091                         Countdown 40th Anniversary   2016.11.24   \n",
       "5092  Radio Waves 1974-1988: The Very Best of Kiss, ...   2016.10.21   \n",
       "\n",
       "     song_genre                                is_title like creator  \\\n",
       "5088      World  `게임 쉬리` OST (`이젠` Metal Ver.) 와 동영상 수록    1     NaN   \n",
       "5089         기타                                     NaN    7     NaN   \n",
       "5090        Pop                                     NaN    1     NaN   \n",
       "5091        Pop                                   타이틀 곡   11     NaN   \n",
       "5092      World                                     NaN    0     NaN   \n",
       "\n",
       "                                                 lyrics  \n",
       "5088  You show us everything you've got\\r\\r\\nYou kee...  \n",
       "5089                                                NaN  \n",
       "5090                                                NaN  \n",
       "5091                                                NaN  \n",
       "5092                                                NaN  "
      ]
     },
     "execution_count": 276,
     "metadata": {},
     "output_type": "execute_result"
    }
   ],
   "source": [
    "song[song['artist'] == '키스'].head() # 키스는 누구인가? => 미국가수, 삭제예정"
   ]
  },
  {
   "cell_type": "code",
   "execution_count": 277,
   "metadata": {},
   "outputs": [
    {
     "data": {
      "text/plain": [
       "331"
      ]
     },
     "execution_count": 277,
     "metadata": {},
     "output_type": "execute_result"
    }
   ],
   "source": [
    "# 유니크한 가수의 수 \n",
    "len(song['artist'].unique())"
   ]
  },
  {
   "cell_type": "code",
   "execution_count": 278,
   "metadata": {
    "scrolled": true
   },
   "outputs": [
    {
     "data": {
      "text/plain": [
       "(19165, 10)"
      ]
     },
     "execution_count": 278,
     "metadata": {},
     "output_type": "execute_result"
    }
   ],
   "source": [
    "# 곡의 수 \n",
    "song.shape"
   ]
  },
  {
   "cell_type": "code",
   "execution_count": 279,
   "metadata": {
    "scrolled": false
   },
   "outputs": [
    {
     "data": {
      "text/plain": [
       "2788"
      ]
     },
     "execution_count": 279,
     "metadata": {},
     "output_type": "execute_result"
    }
   ],
   "source": [
    "song['lyrics'].isnull().sum()"
   ]
  },
  {
   "cell_type": "code",
   "execution_count": 281,
   "metadata": {
    "scrolled": true
   },
   "outputs": [],
   "source": [
    "song = song['lyrics'].dropna().reset_index(inplace=False) #inplace=True 를 하면 원래 데이터프레임에서 날라간다"
   ]
  },
  {
   "cell_type": "code",
   "execution_count": 283,
   "metadata": {
    "scrolled": true
   },
   "outputs": [
    {
     "data": {
      "text/plain": [
       "0"
      ]
     },
     "execution_count": 283,
     "metadata": {},
     "output_type": "execute_result"
    }
   ],
   "source": [
    "song['lyrics'].isnull().sum()"
   ]
  },
  {
   "cell_type": "markdown",
   "metadata": {},
   "source": [
    "## 텍스트 데이터 전처리"
   ]
  },
  {
   "cell_type": "code",
   "execution_count": 284,
   "metadata": {
    "collapsed": true
   },
   "outputs": [],
   "source": [
    "def preprocessing(text):\n",
    "    # 개행문자 제거\n",
    "    text =  text.strip('\\t\\n\\r')\n",
    "    pattern = re.compile(r'\\s+')\n",
    "    text = re.sub(pattern, ' ', text)\n",
    "    # 특수문자 제거\n",
    "    # 특수문자나 이모티콘 등은 때로는 의미를 갖기도 하지만 여기에서는 제거했습니다.\n",
    "    # text = re.sub('[?.,;:|\\)*~`’!^\\-_+<>@\\#$%&-=#}※]', '', text)\n",
    "    # 한글, 영문, 숫자만 남기고 모두 제거하도록 합니다.\n",
    "    # text = re.sub('[^가-힣ㄱ-ㅎㅏ-ㅣa-zA-Z0-9]', ' ', text)\n",
    "    # 한글, 영문만 남기고 모두 제거하도록 합니다.\n",
    "    text = re.sub('[^가-힣ㄱ-ㅎㅏ-ㅣa-zA-Z]', ' ', text)\n",
    "    return text"
   ]
  },
  {
   "cell_type": "code",
   "execution_count": 285,
   "metadata": {},
   "outputs": [
    {
     "data": {
      "text/plain": [
       "str"
      ]
     },
     "execution_count": 285,
     "metadata": {},
     "output_type": "execute_result"
    }
   ],
   "source": [
    "sample_content = song['lyrics'][100]\n",
    "type(sample_content)"
   ]
  },
  {
   "cell_type": "code",
   "execution_count": 286,
   "metadata": {
    "scrolled": true
   },
   "outputs": [
    {
     "data": {
      "text/plain": [
       "'그대여 내게 아픈 말은 하지마 슬프지 않은 미소지며 잠시 떨려오는 마지막 눈빛으로 헤어짐을 간직하라는 이젠 네가없는 내가 힘들어 나를 포기할 수 있기에 너를 내 꿈속에 스치듯 찾아들면 그때 갈께 너의 곁으로 떠난 그대여 슬퍼 하지마 우리 잃어버린 사랑은 영원할꺼야 다른 세상에 기대고 있어 아직 살아있는 나를 기다려줘 우리 헤어짐은 이대로 간직할께 눈물에 흘리지 않고 그리고 바라보면 언제나 내가 있어 그대 떠난 그대여 슬퍼 하지마 우리 잃어버린 사랑은 영원할꺼야 다른 세상에 기대고있어 아직 살아있는 나를 기다려줘 우리 헤어짐은 이대로 간직할게 눈물에 흘리지 않고 그리워 바라보면 언제나 내가있어 그대'"
      ]
     },
     "execution_count": 286,
     "metadata": {},
     "output_type": "execute_result"
    }
   ],
   "source": [
    "sample_content = preprocessing(sample_content)\n",
    "sample_content[:1000]"
   ]
  },
  {
   "cell_type": "code",
   "execution_count": 287,
   "metadata": {},
   "outputs": [
    {
     "name": "stdout",
     "output_type": "stream",
     "text": [
      "CPU times: user 2.58 s, sys: 33.2 ms, total: 2.61 s\n",
      "Wall time: 2.62 s\n"
     ]
    }
   ],
   "source": [
    "# %time을 찍어주면 해당 코드를 실행할 때 걸리는 시간을 출력해 줍니다\n",
    "%time sentences = song['lyrics'].apply(preprocessing)"
   ]
  },
  {
   "cell_type": "markdown",
   "metadata": {},
   "source": [
    "## 토크나이징"
   ]
  },
  {
   "cell_type": "code",
   "execution_count": 288,
   "metadata": {},
   "outputs": [
    {
     "data": {
      "text/plain": [
       "<soynlp.tokenizer._tokenizer.RegexTokenizer at 0x12f2294a8>"
      ]
     },
     "execution_count": 288,
     "metadata": {},
     "output_type": "execute_result"
    }
   ],
   "source": [
    "from soynlp.tokenizer import RegexTokenizer\n",
    "\n",
    "tokenizer = RegexTokenizer()\n",
    "tokenizer"
   ]
  },
  {
   "cell_type": "code",
   "execution_count": 289,
   "metadata": {},
   "outputs": [
    {
     "data": {
      "text/plain": [
       "['그대여',\n",
       " '내게',\n",
       " '아픈',\n",
       " '말은',\n",
       " '하지마',\n",
       " '슬프지',\n",
       " '않은',\n",
       " '미소지며',\n",
       " '잠시',\n",
       " '떨려오는',\n",
       " '마지막',\n",
       " '눈빛으로',\n",
       " '헤어짐을',\n",
       " '간직하라는',\n",
       " '이젠',\n",
       " '네가없는',\n",
       " '내가',\n",
       " '힘들어',\n",
       " '나를',\n",
       " '포기할',\n",
       " '수',\n",
       " '있기에',\n",
       " '너를',\n",
       " '내',\n",
       " '꿈속에',\n",
       " '스치듯',\n",
       " '찾아들면',\n",
       " '그때',\n",
       " '갈께',\n",
       " '너의',\n",
       " '곁으로',\n",
       " '떠난',\n",
       " '그대여',\n",
       " '슬퍼',\n",
       " '하지마',\n",
       " '우리',\n",
       " '잃어버린',\n",
       " '사랑은',\n",
       " '영원할꺼야',\n",
       " '다른',\n",
       " '세상에',\n",
       " '기대고',\n",
       " '있어',\n",
       " '아직',\n",
       " '살아있는',\n",
       " '나를',\n",
       " '기다려줘',\n",
       " '우리',\n",
       " '헤어짐은',\n",
       " '이대로',\n",
       " '간직할께',\n",
       " '눈물에',\n",
       " '흘리지',\n",
       " '않고',\n",
       " '그리고',\n",
       " '바라보면',\n",
       " '언제나',\n",
       " '내가',\n",
       " '있어',\n",
       " '그대',\n",
       " '떠난',\n",
       " '그대여',\n",
       " '슬퍼',\n",
       " '하지마',\n",
       " '우리',\n",
       " '잃어버린',\n",
       " '사랑은',\n",
       " '영원할꺼야',\n",
       " '다른',\n",
       " '세상에',\n",
       " '기대고있어',\n",
       " '아직',\n",
       " '살아있는',\n",
       " '나를',\n",
       " '기다려줘',\n",
       " '우리',\n",
       " '헤어짐은',\n",
       " '이대로',\n",
       " '간직할게',\n",
       " '눈물에',\n",
       " '흘리지',\n",
       " '않고',\n",
       " '그리워',\n",
       " '바라보면',\n",
       " '언제나',\n",
       " '내가있어',\n",
       " '그대']"
      ]
     },
     "execution_count": 289,
     "metadata": {},
     "output_type": "execute_result"
    }
   ],
   "source": [
    "# 전처리 이후의 샘플 텍스트로 토큰화\n",
    "tokened_content = tokenizer.tokenize(sample_content)\n",
    "tokened_content"
   ]
  },
  {
   "cell_type": "code",
   "execution_count": 290,
   "metadata": {
    "scrolled": true
   },
   "outputs": [
    {
     "name": "stdout",
     "output_type": "stream",
     "text": [
      "CPU times: user 23.8 s, sys: 292 ms, total: 24.1 s\n",
      "Wall time: 24.3 s\n"
     ]
    },
    {
     "data": {
      "text/plain": [
       "0    [갈수, 없는, 곳이란, 우리에겐, 없어, 보이는, 길밖에도, 세상은, 있어, 언제...\n",
       "1    [왜, 기다려, 왔잖아, 모든, 삶을, 포기하는, 소리를, 이, 세상이, 모두, 미...\n",
       "2    [이, 세상, 그, 누구도, 나를, 닮을, 순, 없네, 날, 세상에, 알릴, 거야,...\n",
       "Name: lyrics, dtype: object"
      ]
     },
     "execution_count": 290,
     "metadata": {},
     "output_type": "execute_result"
    }
   ],
   "source": [
    "%time tokens = sentences.apply(tokenizer.tokenize)\n",
    "tokens[:3]"
   ]
  },
  {
   "cell_type": "markdown",
   "metadata": {},
   "source": [
    "## Word2vec 모델 만들기"
   ]
  },
  {
   "cell_type": "code",
   "execution_count": 129,
   "metadata": {
    "collapsed": true
   },
   "outputs": [],
   "source": [
    "# word2vec 모델 학습에 로그를 찍을 수 있도록 합니다.\n",
    "\n",
    "import logging\n",
    "logging.basicConfig(\n",
    "    format='%(asctime)s : %(levelname)s : %(message)s', \n",
    "    level=logging.INFO)"
   ]
  },
  {
   "cell_type": "code",
   "execution_count": 130,
   "metadata": {},
   "outputs": [
    {
     "name": "stderr",
     "output_type": "stream",
     "text": [
      "2018-09-11 11:44:14,235 : INFO : 'pattern' package not found; tag filters are not available for English\n",
      "2018-09-11 11:44:14,243 : INFO : collecting all words and their counts\n",
      "2018-09-11 11:44:14,245 : INFO : PROGRESS: at sentence #0, processed 0 words, keeping 0 word types\n",
      "2018-09-11 11:44:14,724 : INFO : PROGRESS: at sentence #10000, processed 2185503 words, keeping 118973 word types\n",
      "2018-09-11 11:44:15,096 : INFO : collected 162387 word types from a corpus of 3861201 raw words and 16377 sentences\n",
      "2018-09-11 11:44:15,099 : INFO : Loading a fresh vocabulary\n",
      "2018-09-11 11:44:15,634 : INFO : min_count=1 retains 162387 unique words (100% of original 162387, drops 0)\n",
      "2018-09-11 11:44:15,635 : INFO : min_count=1 leaves 3861201 word corpus (100% of original 3861201, drops 0)\n",
      "2018-09-11 11:44:16,140 : INFO : deleting the raw counts dictionary of 162387 items\n",
      "2018-09-11 11:44:16,144 : INFO : sample=0.001 downsamples 35 most-common words\n",
      "2018-09-11 11:44:16,146 : INFO : downsampling leaves estimated 3628558 word corpus (94.0% of prior 3861201)\n",
      "2018-09-11 11:44:16,638 : INFO : estimated required memory for 162387 words and 100 dimensions: 211103100 bytes\n",
      "2018-09-11 11:44:16,639 : INFO : resetting layer weights\n",
      "2018-09-11 11:44:18,516 : INFO : training model with 3 workers on 162387 vocabulary and 100 features, using sg=0 hs=0 sample=0.001 negative=5 window=5\n",
      "2018-09-11 11:44:19,527 : INFO : EPOCH 1 - PROGRESS: at 28.74% examples, 915334 words/s, in_qsize 5, out_qsize 0\n",
      "2018-09-11 11:44:20,527 : INFO : EPOCH 1 - PROGRESS: at 56.28% examples, 931003 words/s, in_qsize 5, out_qsize 0\n",
      "2018-09-11 11:44:21,540 : INFO : EPOCH 1 - PROGRESS: at 80.01% examples, 936527 words/s, in_qsize 5, out_qsize 0\n",
      "2018-09-11 11:44:22,396 : INFO : worker thread finished; awaiting finish of 2 more threads\n",
      "2018-09-11 11:44:22,404 : INFO : worker thread finished; awaiting finish of 1 more threads\n",
      "2018-09-11 11:44:22,408 : INFO : worker thread finished; awaiting finish of 0 more threads\n",
      "2018-09-11 11:44:22,410 : INFO : EPOCH - 1 : training on 3861201 raw words (3628905 effective words) took 3.9s, 934021 effective words/s\n",
      "2018-09-11 11:44:23,419 : INFO : EPOCH 2 - PROGRESS: at 30.74% examples, 977315 words/s, in_qsize 6, out_qsize 0\n",
      "2018-09-11 11:44:24,429 : INFO : EPOCH 2 - PROGRESS: at 56.28% examples, 925559 words/s, in_qsize 5, out_qsize 0\n",
      "2018-09-11 11:44:25,435 : INFO : EPOCH 2 - PROGRESS: at 80.01% examples, 934924 words/s, in_qsize 5, out_qsize 0\n",
      "2018-09-11 11:44:26,253 : INFO : worker thread finished; awaiting finish of 2 more threads\n",
      "2018-09-11 11:44:26,262 : INFO : worker thread finished; awaiting finish of 1 more threads\n",
      "2018-09-11 11:44:26,265 : INFO : worker thread finished; awaiting finish of 0 more threads\n",
      "2018-09-11 11:44:26,267 : INFO : EPOCH - 2 : training on 3861201 raw words (3628957 effective words) took 3.9s, 942137 effective words/s\n",
      "2018-09-11 11:44:27,278 : INFO : EPOCH 3 - PROGRESS: at 30.74% examples, 974223 words/s, in_qsize 5, out_qsize 0\n",
      "2018-09-11 11:44:28,287 : INFO : EPOCH 3 - PROGRESS: at 59.97% examples, 997211 words/s, in_qsize 5, out_qsize 0\n",
      "2018-09-11 11:44:29,298 : INFO : EPOCH 3 - PROGRESS: at 85.99% examples, 1018642 words/s, in_qsize 5, out_qsize 0\n",
      "2018-09-11 11:44:29,772 : INFO : worker thread finished; awaiting finish of 2 more threads\n",
      "2018-09-11 11:44:29,777 : INFO : worker thread finished; awaiting finish of 1 more threads\n",
      "2018-09-11 11:44:29,779 : INFO : worker thread finished; awaiting finish of 0 more threads\n",
      "2018-09-11 11:44:29,781 : INFO : EPOCH - 3 : training on 3861201 raw words (3629102 effective words) took 3.5s, 1033851 effective words/s\n",
      "2018-09-11 11:44:30,785 : INFO : EPOCH 4 - PROGRESS: at 31.32% examples, 999434 words/s, in_qsize 5, out_qsize 0\n",
      "2018-09-11 11:44:31,793 : INFO : EPOCH 4 - PROGRESS: at 61.92% examples, 1037418 words/s, in_qsize 5, out_qsize 0\n",
      "2018-09-11 11:44:32,803 : INFO : EPOCH 4 - PROGRESS: at 86.93% examples, 1033859 words/s, in_qsize 5, out_qsize 0\n",
      "2018-09-11 11:44:33,284 : INFO : worker thread finished; awaiting finish of 2 more threads\n",
      "2018-09-11 11:44:33,302 : INFO : worker thread finished; awaiting finish of 1 more threads\n",
      "2018-09-11 11:44:33,305 : INFO : worker thread finished; awaiting finish of 0 more threads\n",
      "2018-09-11 11:44:33,306 : INFO : EPOCH - 4 : training on 3861201 raw words (3628432 effective words) took 3.5s, 1030276 effective words/s\n",
      "2018-09-11 11:44:34,328 : INFO : EPOCH 5 - PROGRESS: at 28.28% examples, 883618 words/s, in_qsize 5, out_qsize 0\n",
      "2018-09-11 11:44:35,337 : INFO : EPOCH 5 - PROGRESS: at 56.74% examples, 928040 words/s, in_qsize 5, out_qsize 0\n",
      "2018-09-11 11:44:36,342 : INFO : EPOCH 5 - PROGRESS: at 81.24% examples, 949176 words/s, in_qsize 5, out_qsize 0\n",
      "2018-09-11 11:44:37,139 : INFO : worker thread finished; awaiting finish of 2 more threads\n",
      "2018-09-11 11:44:37,150 : INFO : worker thread finished; awaiting finish of 1 more threads\n",
      "2018-09-11 11:44:37,154 : INFO : worker thread finished; awaiting finish of 0 more threads\n",
      "2018-09-11 11:44:37,156 : INFO : EPOCH - 5 : training on 3861201 raw words (3628789 effective words) took 3.8s, 943491 effective words/s\n",
      "2018-09-11 11:44:37,157 : INFO : training on a 19306005 raw words (18144185 effective words) took 18.6s, 973442 effective words/s\n"
     ]
    },
    {
     "data": {
      "text/plain": [
       "<gensim.models.word2vec.Word2Vec at 0x10ebedda0>"
      ]
     },
     "execution_count": 130,
     "metadata": {},
     "output_type": "execute_result"
    }
   ],
   "source": [
    "# 초기화 및 모델 학습\n",
    "from gensim.models import word2vec\n",
    "\n",
    "# 모델 학습\n",
    "model = word2vec.Word2Vec(tokens, min_count=1)  # word2vec에 tokens을 넣어주고, min_count =1 로 해주면 최소한 1번들어가 있으면 뽑히게 한다. \n",
    "\n",
    "model"
   ]
  },
  {
   "cell_type": "code",
   "execution_count": 131,
   "metadata": {},
   "outputs": [
    {
     "name": "stderr",
     "output_type": "stream",
     "text": [
      "2018-09-11 11:45:09,714 : INFO : saving Word2Vec object under word2vec_first, separately None\n",
      "2018-09-11 11:45:09,716 : INFO : storing np array 'vectors' to word2vec_first.wv.vectors.npy\n",
      "2018-09-11 11:45:09,795 : INFO : not storing attribute vectors_norm\n",
      "2018-09-11 11:45:09,798 : INFO : storing np array 'syn1neg' to word2vec_first.trainables.syn1neg.npy\n",
      "2018-09-11 11:45:09,905 : INFO : not storing attribute cum_table\n",
      "2018-09-11 11:45:10,362 : INFO : saved word2vec_first\n"
     ]
    }
   ],
   "source": [
    "# Word2vec 모델 이름을 지정하고 저장한다.\n",
    "model_name = 'word2vec_first'  # 로컬이면 내 PC에 저장하므로 계속 학습시키지 않고 그냥 바로 불러와서 가져다가 쓸 수 있다. \n",
    "model.save(model_name)"
   ]
  },
  {
   "cell_type": "code",
   "execution_count": 132,
   "metadata": {},
   "outputs": [
    {
     "data": {
      "text/plain": [
       "162387"
      ]
     },
     "execution_count": 132,
     "metadata": {},
     "output_type": "execute_result"
    }
   ],
   "source": [
    "# 워드투벡한 단어의 사전 수 보기 \n",
    "len(model.wv.vocab)"
   ]
  },
  {
   "cell_type": "code",
   "execution_count": 161,
   "metadata": {},
   "outputs": [
    {
     "data": {
      "text/plain": [
       "['I', 'you', '내', '난', 'me', 't', '널', '날', '수', 'it']"
      ]
     },
     "execution_count": 161,
     "metadata": {},
     "output_type": "execute_result"
    }
   ],
   "source": [
    "# 단어 사전에서 상위 10개만 보기\n",
    "vocab = model.wv.vocab\n",
    "sorted(vocab, key=vocab.get, reverse=True)[:10]"
   ]
  },
  {
   "cell_type": "code",
   "execution_count": 160,
   "metadata": {},
   "outputs": [
    {
     "data": {
      "text/plain": [
       "[('완성되지', 0.5744380354881287),\n",
       " ('억하심정인지', 0.5725435614585876),\n",
       " ('너야', 0.5635101199150085),\n",
       " ('물어볼게', 0.5609223246574402),\n",
       " ('있기', 0.5590577125549316),\n",
       " ('털고도', 0.5531821846961975),\n",
       " ('피땀에', 0.551423966884613),\n",
       " ('옛정', 0.5352168083190918),\n",
       " ('네가', 0.5340349674224854),\n",
       " ('하나만', 0.5245047807693481)]"
      ]
     },
     "execution_count": 160,
     "metadata": {},
     "output_type": "execute_result"
    }
   ],
   "source": [
    "# 가장 유사한 단어를 추출\n",
    "model.wv.most_similar('너')"
   ]
  },
  {
   "cell_type": "code",
   "execution_count": 135,
   "metadata": {},
   "outputs": [
    {
     "data": {
      "text/plain": [
       "[('사랑은', 0.6728729009628296),\n",
       " ('사랑을', 0.6576943397521973),\n",
       " ('사랑으로', 0.6437615156173706),\n",
       " ('행복을', 0.633502721786499),\n",
       " ('사랑아', 0.6203153729438782),\n",
       " ('마음', 0.613693356513977),\n",
       " ('바래', 0.6091277599334717),\n",
       " ('바램', 0.6004109382629395),\n",
       " ('없는거라고', 0.5848444700241089),\n",
       " ('평생', 0.5808133482933044)]"
      ]
     },
     "execution_count": 135,
     "metadata": {},
     "output_type": "execute_result"
    }
   ],
   "source": [
    "model.wv.most_similar('사랑')"
   ]
  },
  {
   "cell_type": "code",
   "execution_count": 136,
   "metadata": {},
   "outputs": [
    {
     "data": {
      "text/plain": [
       "[('남자', 0.84284508228302),\n",
       " ('남자를', 0.7608194351196289),\n",
       " ('놈이', 0.7475835084915161),\n",
       " ('여자는', 0.7387921214103699),\n",
       " ('여자야', 0.7235146760940552),\n",
       " ('남자가', 0.7207379937171936),\n",
       " ('놈', 0.7175110578536987),\n",
       " ('여잘', 0.7169695496559143),\n",
       " ('남자야', 0.7162264585494995),\n",
       " ('여자가', 0.7151209115982056)]"
      ]
     },
     "execution_count": 136,
     "metadata": {},
     "output_type": "execute_result"
    }
   ],
   "source": [
    "model.wv.most_similar('여자')"
   ]
  },
  {
   "cell_type": "code",
   "execution_count": 137,
   "metadata": {},
   "outputs": [
    {
     "data": {
      "text/plain": [
       "[('여자', 0.84284508228302),\n",
       " ('여잔', 0.7740013003349304),\n",
       " ('남자가', 0.7644602060317993),\n",
       " ('여자야', 0.7559769153594971),\n",
       " ('놈', 0.7550831437110901),\n",
       " ('사람은', 0.7539772391319275),\n",
       " ('여잘', 0.753886342048645),\n",
       " ('여자를', 0.7496883273124695),\n",
       " ('놈이', 0.742708683013916),\n",
       " ('남자를', 0.7252805233001709)]"
      ]
     },
     "execution_count": 137,
     "metadata": {},
     "output_type": "execute_result"
    }
   ],
   "source": [
    "model.wv.most_similar('남자')"
   ]
  },
  {
   "cell_type": "code",
   "execution_count": 138,
   "metadata": {},
   "outputs": [
    {
     "data": {
      "text/plain": [
       "[('lady', 0.6719524264335632),\n",
       " ('honey', 0.6599240899085999),\n",
       " ('babe', 0.6590299606323242),\n",
       " ('뿐이기에', 0.6517203450202942),\n",
       " ('shiMega', 0.6356972455978394),\n",
       " ('girl', 0.6356855630874634),\n",
       " ('Baby', 0.6232913136482239),\n",
       " ('shiranpuri', 0.6048318147659302),\n",
       " ('눈뜨지마', 0.5972138047218323),\n",
       " ('아루요니', 0.596859335899353)]"
      ]
     },
     "execution_count": 138,
     "metadata": {},
     "output_type": "execute_result"
    }
   ],
   "source": [
    "model.wv.most_similar('baby')"
   ]
  },
  {
   "cell_type": "code",
   "execution_count": 141,
   "metadata": {},
   "outputs": [
    {
     "data": {
      "text/plain": [
       "[('멋져다리는', 0.8559885025024414),\n",
       " ('만점에', 0.8548582792282104),\n",
       " ('점그녀의', 0.8440045714378357),\n",
       " ('다리는', 0.8331058621406555),\n",
       " ('머릿결날리는', 0.8326587677001953),\n",
       " ('유루사레루나라', 0.8284714818000793),\n",
       " ('터프한', 0.8232554197311401),\n",
       " ('요리', 0.822808563709259),\n",
       " ('요루와후카맛테쿠요', 0.8211950063705444),\n",
       " ('쭉빠진', 0.8158367276191711)]"
      ]
     },
     "execution_count": 141,
     "metadata": {},
     "output_type": "execute_result"
    }
   ],
   "source": [
    "model.wv.most_similar('JYP')"
   ]
  },
  {
   "cell_type": "code",
   "execution_count": 142,
   "metadata": {},
   "outputs": [
    {
     "data": {
      "text/plain": [
       "[('이별은', 0.7862210869789124),\n",
       " ('않잖냐', 0.758197546005249),\n",
       " ('슬픈', 0.7512339353561401),\n",
       " ('끝내', 0.7437535524368286),\n",
       " ('얘기', 0.7389219999313354),\n",
       " ('이별을', 0.7288054823875427),\n",
       " ('이별이', 0.7193502187728882),\n",
       " ('아니였겠지', 0.7178677916526794),\n",
       " ('어리석은', 0.7177433371543884),\n",
       " ('지나간', 0.712112307548523)]"
      ]
     },
     "execution_count": 142,
     "metadata": {},
     "output_type": "execute_result"
    }
   ],
   "source": [
    "model.wv.most_similar('이별')"
   ]
  },
  {
   "cell_type": "code",
   "execution_count": 144,
   "metadata": {},
   "outputs": [
    {
     "data": {
      "text/plain": [
       "[('pretty', 0.7721747159957886),\n",
       " ('bling', 0.683236837387085),\n",
       " ('gorgeous', 0.6781123280525208),\n",
       " ('Sexy', 0.6679773926734924),\n",
       " ('ome', 0.6646952033042908),\n",
       " ('sugar', 0.6584035158157349),\n",
       " ('caress', 0.6559441685676575),\n",
       " ('Warring', 0.6523290872573853),\n",
       " ('ter', 0.6519011855125427),\n",
       " ('Paras', 0.6474953889846802)]"
      ]
     },
     "execution_count": 144,
     "metadata": {},
     "output_type": "execute_result"
    }
   ],
   "source": [
    "model.wv.most_similar('sexy')"
   ]
  },
  {
   "cell_type": "code",
   "execution_count": 146,
   "metadata": {},
   "outputs": [
    {
     "data": {
      "text/plain": [
       "[('기다릴게', 0.7881777882575989),\n",
       " ('기다렸어', 0.7421151399612427),\n",
       " ('보내고선', 0.6889650821685791),\n",
       " ('사랑할게', 0.687706470489502),\n",
       " ('약속해', 0.6874222159385681),\n",
       " ('위해서', 0.6810830235481262),\n",
       " ('기다려왔어', 0.6747235059738159),\n",
       " ('기도해', 0.6743015646934509),\n",
       " ('변함없이', 0.6708771586418152),\n",
       " ('원해', 0.6632115244865417)]"
      ]
     },
     "execution_count": 146,
     "metadata": {},
     "output_type": "execute_result"
    }
   ],
   "source": [
    "model.wv.most_similar('기다려')"
   ]
  },
  {
   "cell_type": "code",
   "execution_count": 147,
   "metadata": {},
   "outputs": [
    {
     "data": {
      "text/plain": [
       "[('시간만큼', 0.786211371421814),\n",
       " ('그동안', 0.785946249961853),\n",
       " ('오래도록', 0.7828967571258545),\n",
       " ('친구가', 0.770990788936615),\n",
       " ('없는거라고', 0.7703820466995239),\n",
       " ('이별을', 0.7634376287460327),\n",
       " ('오래전', 0.7602222561836243),\n",
       " ('힘겨운', 0.757683277130127),\n",
       " ('만들어지고', 0.7558469772338867),\n",
       " ('사랑과', 0.7513598799705505)]"
      ]
     },
     "execution_count": 147,
     "metadata": {},
     "output_type": "execute_result"
    }
   ],
   "source": [
    "model.wv.most_similar('행복')"
   ]
  },
  {
   "cell_type": "code",
   "execution_count": 148,
   "metadata": {},
   "outputs": [
    {
     "data": {
      "text/plain": [
       "[('예쁘더라', 0.8774560689926147),\n",
       " ('홀렸네', 0.8485866189002991),\n",
       " ('연락했니', 0.8478046655654907),\n",
       " ('얘기만', 0.8463076949119568),\n",
       " ('수첩이야', 0.8446948528289795),\n",
       " ('번호', 0.8440446853637695),\n",
       " ('연락처에', 0.8438520431518555),\n",
       " ('그녀완', 0.8435104489326477),\n",
       " ('소식', 0.8411042094230652),\n",
       " ('멀리한건', 0.8399530649185181)]"
      ]
     },
     "execution_count": 148,
     "metadata": {},
     "output_type": "execute_result"
    }
   ],
   "source": [
    "model.wv.most_similar('여자친구')"
   ]
  },
  {
   "cell_type": "code",
   "execution_count": 149,
   "metadata": {},
   "outputs": [
    {
     "data": {
      "text/plain": [
       "[('행세', 0.8161464333534241),\n",
       " ('수이수', 0.8149913549423218),\n",
       " ('여자친구', 0.8035971522331238),\n",
       " ('소식', 0.7937813997268677),\n",
       " ('끊어버리고', 0.7933464050292969),\n",
       " ('Isis', 0.7933018207550049),\n",
       " ('쿠라야미니이루요데', 0.7877689599990845),\n",
       " ('번호', 0.7852747440338135),\n",
       " ('올라온', 0.7846376895904541),\n",
       " ('피곤해', 0.7839388847351074)]"
      ]
     },
     "execution_count": 149,
     "metadata": {},
     "output_type": "execute_result"
    }
   ],
   "source": [
    "model.wv.most_similar('남자친구')"
   ]
  },
  {
   "cell_type": "code",
   "execution_count": 150,
   "metadata": {},
   "outputs": [
    {
     "data": {
      "text/plain": [
       "[('얘기', 0.7857072949409485),\n",
       " ('좋아요로', 0.747502326965332),\n",
       " ('친구가', 0.7441698312759399),\n",
       " ('친구들', 0.7215195894241333),\n",
       " ('얘길', 0.7154452204704285),\n",
       " ('빅뱅이', 0.7145744562149048),\n",
       " ('얘기를', 0.7116910219192505),\n",
       " ('애기가', 0.6933189630508423),\n",
       " ('남자들', 0.691458523273468),\n",
       " ('수는없어', 0.6835935711860657)]"
      ]
     },
     "execution_count": 150,
     "metadata": {},
     "output_type": "execute_result"
    }
   ],
   "source": [
    "model.wv.most_similar('친구')"
   ]
  },
  {
   "cell_type": "code",
   "execution_count": 159,
   "metadata": {},
   "outputs": [
    {
     "data": {
      "text/plain": [
       "[('정신력도', 0.8311450481414795),\n",
       " ('뒤태도', 0.7932344675064087),\n",
       " ('이야', 0.7747499346733093),\n",
       " ('스케일도', 0.773597240447998),\n",
       " ('다른데', 0.7732925415039062),\n",
       " ('규모도', 0.759735107421875),\n",
       " ('난리나', 0.752419114112854),\n",
       " ('브이아이피', 0.7524104714393616),\n",
       " ('누가봐도', 0.7455583810806274),\n",
       " ('오왜', 0.7371297478675842)]"
      ]
     },
     "execution_count": 159,
     "metadata": {},
     "output_type": "execute_result"
    }
   ],
   "source": [
    "model.wv.most_similar('최고')"
   ]
  },
  {
   "cell_type": "code",
   "execution_count": null,
   "metadata": {
    "collapsed": true
   },
   "outputs": [],
   "source": []
  }
 ],
 "metadata": {
  "kernelspec": {
   "display_name": "Python 3",
   "language": "python",
   "name": "python3"
  },
  "language_info": {
   "codemirror_mode": {
    "name": "ipython",
    "version": 3
   },
   "file_extension": ".py",
   "mimetype": "text/x-python",
   "name": "python",
   "nbconvert_exporter": "python",
   "pygments_lexer": "ipython3",
   "version": "3.6.3"
  }
 },
 "nbformat": 4,
 "nbformat_minor": 2
}
