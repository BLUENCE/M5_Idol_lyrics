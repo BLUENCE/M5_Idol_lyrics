{
 "cells": [
  {
   "cell_type": "code",
   "execution_count": 1,
   "metadata": {},
   "outputs": [],
   "source": [
    "import pandas as pd"
   ]
  },
  {
   "cell_type": "code",
   "execution_count": 2,
   "metadata": {},
   "outputs": [],
   "source": [
    "# 곡 정보 파일 불러오기\n",
    "df = pd.read_csv('../SongTidy/FinalTidy/tidydata/song_tidy03.csv')"
   ]
  },
  {
   "cell_type": "code",
   "execution_count": 3,
   "metadata": {},
   "outputs": [],
   "source": [
    "# 가수 정보 파일 불러오기\n",
    "df2 = pd.read_csv('../Data/Data20180921/artist_info_combined_ver04.csv', encoding='euc-kr')"
   ]
  },
  {
   "cell_type": "code",
   "execution_count": 4,
   "metadata": {},
   "outputs": [],
   "source": [
    "# 곡 정보와 가수 정보를 머지해준다.\n",
    "song = pd.merge(df, df2, on='artist')"
   ]
  },
  {
   "cell_type": "code",
   "execution_count": 5,
   "metadata": {},
   "outputs": [],
   "source": [
    "# 가사 분석에 용이하도록 <br>을 공백으로 바꿔준다.\n",
    "song['lyrics'] = song['lyrics'].str.replace(r'<br>', ' ')"
   ]
  },
  {
   "cell_type": "code",
   "execution_count": 6,
   "metadata": {},
   "outputs": [
    {
     "data": {
      "text/plain": [
       "(9566, 20)"
      ]
     },
     "execution_count": 6,
     "metadata": {},
     "output_type": "execute_result"
    }
   ],
   "source": [
    "song.shape"
   ]
  },
  {
   "cell_type": "code",
   "execution_count": 7,
   "metadata": {},
   "outputs": [
    {
     "data": {
      "text/plain": [
       "2379"
      ]
     },
     "execution_count": 7,
     "metadata": {},
     "output_type": "execute_result"
    }
   ],
   "source": [
    "# 타이틀 곡은 몇곡일까\n",
    "len(song[song.is_title == '타이틀 곡'])"
   ]
  },
  {
   "cell_type": "code",
   "execution_count": 8,
   "metadata": {},
   "outputs": [],
   "source": [
    "# !pip install soynlp\n",
    "# !pip show soynlp"
   ]
  },
  {
   "cell_type": "code",
   "execution_count": 9,
   "metadata": {},
   "outputs": [],
   "source": [
    "# !pip install gensim\n",
    "# !pip show gensim"
   ]
  },
  {
   "cell_type": "code",
   "execution_count": 10,
   "metadata": {},
   "outputs": [],
   "source": [
    "import numpy as np\n",
    "import re"
   ]
  },
  {
   "cell_type": "code",
   "execution_count": 11,
   "metadata": {},
   "outputs": [
    {
     "data": {
      "text/plain": [
       "<soynlp.tokenizer._tokenizer.RegexTokenizer at 0x10ae89dd8>"
      ]
     },
     "execution_count": 11,
     "metadata": {},
     "output_type": "execute_result"
    }
   ],
   "source": [
    "from soynlp.tokenizer import RegexTokenizer\n",
    "import gensim\n",
    "from gensim.models import Phrases\n",
    "from gensim.models.word2vec import LineSentence\n",
    "from gensim import corpora, models\n",
    "from gensim.models import LdaMulticore\n",
    "from gensim.models import Word2Vec\n",
    "from gensim.corpora import Dictionary, MmCorpus\n",
    "\n",
    "\n",
    "tokenizer = RegexTokenizer()\n",
    "tokenizer"
   ]
  },
  {
   "cell_type": "code",
   "execution_count": 12,
   "metadata": {},
   "outputs": [],
   "source": [
    "female = song[song['gender'] == '여']"
   ]
  },
  {
   "cell_type": "code",
   "execution_count": 13,
   "metadata": {},
   "outputs": [
    {
     "data": {
      "text/plain": [
       "(5869, 20)"
      ]
     },
     "execution_count": 13,
     "metadata": {},
     "output_type": "execute_result"
    }
   ],
   "source": [
    "male = song[song['gender'] == '남']\n",
    "# 남자아이돌 전체 곡 수\n",
    "male.shape"
   ]
  },
  {
   "cell_type": "code",
   "execution_count": 16,
   "metadata": {},
   "outputs": [],
   "source": [
    "def preprocessing(text):\n",
    "    # 개행문자 제거\n",
    "    text =  text.strip('\\t\\n\\r')\n",
    "    pattern = re.compile(r'\\s+')\n",
    "    text = re.sub(pattern, ' ', text)\n",
    "    # 특수문자 제거\n",
    "    # 특수문자나 이모티콘 등은 때로는 의미를 갖기도 하지만 여기에서는 제거했습니다.\n",
    "    # text = re.sub('[?.,;:|\\)*~`’!^\\-_+<>@\\#$%&-=#}※]', '', text)\n",
    "    # 한글, 영문, 숫자만 남기고 모두 제거하도록 합니다.\n",
    "    # text = re.sub('[^가-힣ㄱ-ㅎㅏ-ㅣa-zA-Z0-9]', ' ', text)\n",
    "    # 한글, 영문만 남기고 모두 제거하도록 합니다.\n",
    "    text = re.sub('[^가-힣ㄱ-ㅎㅏ-ㅣa-zA-Z]', ' ', text)\n",
    "    return text"
   ]
  },
  {
   "cell_type": "code",
   "execution_count": 17,
   "metadata": {},
   "outputs": [],
   "source": [
    "def tokenize(df):\n",
    "    sentences = df['lyrics'].apply(preprocessing)\n",
    "    tokens = sentences.apply(tokenizer.tokenize)\n",
    "    tokens = tokens.tolist()\n",
    "    tokens_all = sum(tokens, [])\n",
    "    return tokens_all"
   ]
  },
  {
   "cell_type": "code",
   "execution_count": 18,
   "metadata": {},
   "outputs": [],
   "source": [
    "female_t = tokenize(female)\n",
    "male_t = tokenize(male)\n",
    "song_t = tokenize(song)"
   ]
  },
  {
   "cell_type": "code",
   "execution_count": 19,
   "metadata": {},
   "outputs": [
    {
     "name": "stdout",
     "output_type": "stream",
     "text": [
      "The history saving thread hit an unexpected error (OperationalError('unable to open database file',)).History will not be written to the database.\n"
     ]
    }
   ],
   "source": [
    "song_t = song_t.copy()\n",
    "female_t = female_t.copy()\n",
    "male_t = male_t.copy()"
   ]
  },
  {
   "cell_type": "code",
   "execution_count": 20,
   "metadata": {},
   "outputs": [
    {
     "data": {
      "text/plain": [
       "2244770"
      ]
     },
     "execution_count": 20,
     "metadata": {},
     "output_type": "execute_result"
    }
   ],
   "source": [
    "# 토크나이즈한 단어들의 갯수\n",
    "len(song_t)"
   ]
  },
  {
   "cell_type": "code",
   "execution_count": null,
   "metadata": {},
   "outputs": [],
   "source": [
    "import multiprocessing"
   ]
  },
  {
   "cell_type": "code",
   "execution_count": 30,
   "metadata": {},
   "outputs": [],
   "source": [
    "from collections import Counter"
   ]
  },
  {
   "cell_type": "markdown",
   "metadata": {},
   "source": [
    "# 정규표현식을 이용하여 어떤 어미가 쓰였는지 알아보자"
   ]
  },
  {
   "cell_type": "code",
   "execution_count": 28,
   "metadata": {},
   "outputs": [],
   "source": [
    "# 정규표현식을 이용하여 어떤 어미가 쓰였는지 알아보는 함수\n",
    "\n",
    "def end_of_word(tokenized_list, search_word):\n",
    "    r = re.compile(search_word)\n",
    "    result = list(filter(r.match, tokenized_list))\n",
    "    result = Counter(result).most_common(20)\n",
    "    return result"
   ]
  },
  {
   "cell_type": "code",
   "execution_count": 24,
   "metadata": {},
   "outputs": [],
   "source": [
    "# 특정 어미(search_word)의 성별 빈도수 보는 함수(단어 수)\n",
    "\n",
    "def word_in_song2(search_word):\n",
    "    r = re.compile(search_word)\n",
    "    song_r = list(filter(r.match, song_t))\n",
    "    female_r = list(filter(r.match, female_t))\n",
    "    male_r = list(filter(r.match, male_t))\n",
    "    \n",
    "    song_r = format((len(song_r)/2244770)*1000, '.2f')\n",
    "    female_r = format((len(female_r)/769211)*1000, '.2f')\n",
    "    male_r = format((len(male_r)/1409422)*1000, '.2f')\n",
    "   \n",
    "    return search_word, song_r, female_r, male_r"
   ]
  },
  {
   "cell_type": "code",
   "execution_count": 25,
   "metadata": {},
   "outputs": [],
   "source": [
    "# 특정 어미search_word의 성별 빈도수 보는 함수(곡 수)\n",
    "\n",
    "def word_in_song(search_word):\n",
    "    song_w = song[song['lyrics'].str.contains(search_word, na=False)]\n",
    "    female_w = female[female['lyrics'].str.contains(search_word, na=False)]\n",
    "    male_w = male[male['lyrics'].str.contains(search_word, na=False)]\n",
    "    \n",
    "    song_w = format((len(song_w)/9566)*100, '.2f')\n",
    "    female_w = format((len(female_w)/3338)*100, '.2f')\n",
    "    male_w = format((len(male_w)/5869)*100, '.2f')\n",
    "   \n",
    "    return search_word, song_w, female_w, male_w"
   ]
  },
  {
   "cell_type": "code",
   "execution_count": 26,
   "metadata": {},
   "outputs": [],
   "source": [
    "r = re.compile(r\".주세요$\")\n",
    "result = list(filter(r.match, male_t))"
   ]
  },
  {
   "cell_type": "code",
   "execution_count": 27,
   "metadata": {},
   "outputs": [
    {
     "data": {
      "text/plain": [
       "('주세요$', '0.05', '0.10', '0.02')"
      ]
     },
     "execution_count": 27,
     "metadata": {},
     "output_type": "execute_result"
    }
   ],
   "source": [
    "word_in_song2(\"주세요$\")"
   ]
  },
  {
   "cell_type": "code",
   "execution_count": 148,
   "metadata": {},
   "outputs": [
    {
     "data": {
      "text/plain": [
       "('beautiful', '1.89', '1.26', '2.30')"
      ]
     },
     "execution_count": 148,
     "metadata": {},
     "output_type": "execute_result"
    }
   ],
   "source": [
    "word_in_song('beautiful')"
   ]
  },
  {
   "cell_type": "code",
   "execution_count": 115,
   "metadata": {},
   "outputs": [],
   "source": [
    "# 어미를 보고 성별 빈도수도 함께 보는 함수\n",
    "# *단어가 등장한 곡 수* 입니다\n",
    "# 주의해야 할 점: $가 들어가는 것은 이걸로 함께 볼 수 없다. 위 두 함수로 따로 봐야(성별 빈도수 볼 때는 $ 빼줘야 함. 토크나이즈되지 않았으므로)\n",
    "\n",
    "def end_of_word2(tokenized_list, search_word):\n",
    "    r = re.compile(search_word)\n",
    "    result = list(filter(r.match, tokenized_list))\n",
    "    result = Counter(result).most_common(20)\n",
    "    result2 = word_in_song(search_word)\n",
    "    return result, result2"
   ]
  },
  {
   "cell_type": "code",
   "execution_count": 144,
   "metadata": {},
   "outputs": [],
   "source": [
    "# 어미를 보고 성별 빈도수도 함께 보는 함수\n",
    "# *총 단어 빈도수*입니다 곡 수 아님\n",
    "\n",
    "def end_of_word3(tokenized_list, search_word):\n",
    "    r = re.compile(search_word)\n",
    "    result = list(filter(r.match, tokenized_list))\n",
    "    result = Counter(result).most_common(20)\n",
    "    result2 = word_in_song2(search_word)\n",
    "    return result, result2"
   ]
  },
  {
   "cell_type": "code",
   "execution_count": 145,
   "metadata": {},
   "outputs": [],
   "source": [
    "# 단어 빈도수와 곡 수 같이 보기\n",
    "# 주의해야 할 점: 역시 $가 들어가는 것은 이걸로 함께 볼 수 없다. word_in_song, end_of_word3 두 함수로 따로 봐야\n",
    "#(word_in_song(곡 수) 볼 때는 $ 빼줘야 함. 토크나이즈되지 않았으므로)\n",
    "\n",
    "def end_of_word4(tokenized_list, search_word):\n",
    "    r = re.compile(search_word)\n",
    "    result = list(filter(r.match, tokenized_list))\n",
    "    result = Counter(result).most_common(20)\n",
    "    result2 = word_in_song(search_word)\n",
    "    result3 = word_in_song2(search_word)\n",
    "    return result, result2, result3"
   ]
  },
  {
   "cell_type": "markdown",
   "metadata": {},
   "source": [
    "### 빈도수는 한 어미의 빈도수를 볼 때 유용합니다.  \n",
    "r\"해(줘|줄|주|요).\" 처럼 어떤 어미들이 오는지 볼 때 보다  \n",
    "r\".{1,4}(할|볼|갈|걸|말|뭘|될|갈|놀|알|럴|떨|질|닐|볼|일)까$\" 처럼 한 어미를 볼 때  "
   ]
  },
  {
   "cell_type": "code",
   "execution_count": 146,
   "metadata": {},
   "outputs": [
    {
     "name": "stderr",
     "output_type": "stream",
     "text": [
      "/Users/yunkim/anaconda3/lib/python3.6/site-packages/ipykernel_launcher.py:2: UserWarning: This pattern has match groups. To actually get the groups, use str.extract.\n",
      "  \n",
      "/Users/yunkim/anaconda3/lib/python3.6/site-packages/ipykernel_launcher.py:3: UserWarning: This pattern has match groups. To actually get the groups, use str.extract.\n",
      "  This is separate from the ipykernel package so we can avoid doing imports until\n",
      "/Users/yunkim/anaconda3/lib/python3.6/site-packages/ipykernel_launcher.py:4: UserWarning: This pattern has match groups. To actually get the groups, use str.extract.\n",
      "  after removing the cwd from sys.path.\n"
     ]
    },
    {
     "data": {
      "text/plain": [
       "([('해줘요', 44),\n",
       "  ('해줄게', 31),\n",
       "  ('해주고', 19),\n",
       "  ('해줄래', 18),\n",
       "  ('해주세요', 15),\n",
       "  ('해주는', 10),\n",
       "  ('해주고픈', 8),\n",
       "  ('해줄까', 8),\n",
       "  ('해줄거야', 8),\n",
       "  ('해주면', 6),\n",
       "  ('해주오', 6),\n",
       "  ('해줄래요', 6),\n",
       "  ('해줄께', 5),\n",
       "  ('해주길', 5),\n",
       "  ('해주던', 4),\n",
       "  ('해주기', 3),\n",
       "  ('해줘도', 3),\n",
       "  ('해주지', 3),\n",
       "  ('해주고만', 3),\n",
       "  ('해줘야', 2)],\n",
       " ('해(줘|줄|주|요).', '27.18', '29.69', '25.63'),\n",
       " ('해(줘|줄|주|요).', '0.31', '0.30', '0.31'))"
      ]
     },
     "execution_count": 146,
     "metadata": {},
     "output_type": "execute_result"
    }
   ],
   "source": [
    "end_of_word4(female_t, r\"해(줘|줄|주|요).\")"
   ]
  },
  {
   "cell_type": "code",
   "execution_count": 98,
   "metadata": {},
   "outputs": [
    {
     "data": {
      "text/plain": [
       "[('해줘요', 44),\n",
       " ('해줄게', 31),\n",
       " ('해주고', 19),\n",
       " ('해줄래', 18),\n",
       " ('해주세요', 15),\n",
       " ('해주는', 10),\n",
       " ('해주고픈', 8),\n",
       " ('해줄까', 8),\n",
       " ('해줄거야', 8),\n",
       " ('해주면', 6),\n",
       " ('해주오', 6),\n",
       " ('해줄래요', 6),\n",
       " ('해줄께', 5),\n",
       " ('해주길', 5),\n",
       " ('해주던', 4),\n",
       " ('해주기', 3),\n",
       " ('해줘도', 3),\n",
       " ('해주지', 3),\n",
       " ('해주고만', 3),\n",
       " ('해줘야', 2)]"
      ]
     },
     "execution_count": 98,
     "metadata": {},
     "output_type": "execute_result"
    }
   ],
   "source": [
    "end_of_word(female_t, r\"해(줘|줄|주|요).\")"
   ]
  },
  {
   "cell_type": "code",
   "execution_count": 97,
   "metadata": {},
   "outputs": [
    {
     "data": {
      "text/plain": [
       "[('해줄게', 121),\n",
       " ('해주고', 54),\n",
       " ('해줄래', 31),\n",
       " ('해줘요', 26),\n",
       " ('해주는', 22),\n",
       " ('해줘서', 17),\n",
       " ('해주지', 12),\n",
       " ('해주면', 12),\n",
       " ('해줄께', 12),\n",
       " ('해주길', 7),\n",
       " ('해줄거야', 7),\n",
       " ('해주겠니', 6),\n",
       " ('해줘야만', 6),\n",
       " ('해요말고', 6),\n",
       " ('해줘야', 5),\n",
       " ('해주던', 4),\n",
       " ('해주오', 4),\n",
       " ('해줄수', 4),\n",
       " ('해줄꺼야', 4),\n",
       " ('해주세요', 4)]"
      ]
     },
     "execution_count": 97,
     "metadata": {},
     "output_type": "execute_result"
    }
   ],
   "source": [
    "end_of_word(male_t, r\"해(줘|줄|주|요).\")"
   ]
  },
  {
   "cell_type": "code",
   "execution_count": 100,
   "metadata": {},
   "outputs": [
    {
     "data": {
      "text/plain": [
       "[('되는걸', 25),\n",
       " ('되는데', 22),\n",
       " ('돼줄게', 16),\n",
       " ('되겠지', 15),\n",
       " ('되어준', 13),\n",
       " ('되어줘', 12),\n",
       " ('되줄게', 12),\n",
       " ('되겠니', 10),\n",
       " ('되어서', 10),\n",
       " ('되었어', 9),\n",
       " ('되는거야', 9),\n",
       " ('되겠어', 8),\n",
       " ('되는지', 8),\n",
       " ('되었죠', 8),\n",
       " ('돼줄래', 8),\n",
       " ('되잖아', 7),\n",
       " ('돼줘요', 6),\n",
       " ('되어줄', 6),\n",
       " ('되어주오', 6),\n",
       " ('되어줄게', 5)]"
      ]
     },
     "execution_count": 100,
     "metadata": {},
     "output_type": "execute_result"
    }
   ],
   "source": [
    "end_of_word(female_t, r\"(돼|되)(줘|줄|어|잖|는|겠|었).\")"
   ]
  },
  {
   "cell_type": "code",
   "execution_count": 101,
   "metadata": {},
   "outputs": [
    {
     "data": {
      "text/plain": [
       "[('되어줘', 53),\n",
       " ('되잖아', 51),\n",
       " ('되는데', 50),\n",
       " ('돼줄게', 41),\n",
       " ('되는걸', 39),\n",
       " ('되겠어', 37),\n",
       " ('되었어', 34),\n",
       " ('되겠지', 32),\n",
       " ('되어서', 31),\n",
       " ('되어줄게', 27),\n",
       " ('되겠니', 24),\n",
       " ('되는지', 21),\n",
       " ('되어준', 19),\n",
       " ('되어도', 16),\n",
       " ('되었지', 14),\n",
       " ('되었죠', 14),\n",
       " ('돼줄래', 13),\n",
       " ('되어버린', 13),\n",
       " ('되는거야', 11),\n",
       " ('되었던', 10)]"
      ]
     },
     "execution_count": 101,
     "metadata": {},
     "output_type": "execute_result"
    }
   ],
   "source": [
    "end_of_word(male_t, r\"(돼|되)(줘|줄|어|잖|는|겠|었).\")"
   ]
  },
  {
   "cell_type": "code",
   "execution_count": 117,
   "metadata": {},
   "outputs": [
    {
     "data": {
      "text/plain": [
       "[('아닐까', 46),\n",
       " ('말할까', 44),\n",
       " ('해볼래', 36),\n",
       " ('사랑할래', 29),\n",
       " ('멀어질까', 27),\n",
       " ('해볼까', 26),\n",
       " ('말할래', 25),\n",
       " ('보일까', 22),\n",
       " ('어떡할래', 22),\n",
       " ('이럴까', 21),\n",
       " ('가질래', 20),\n",
       " ('바라볼래', 17),\n",
       " ('안할래', 17),\n",
       " ('전할래', 16),\n",
       " ('어떨까', 14),\n",
       " ('시작할래', 14),\n",
       " ('사랑일까', 13),\n",
       " ('말해볼까', 12),\n",
       " ('다가갈래', 11),\n",
       " ('꿈일까', 11)]"
      ]
     },
     "execution_count": 117,
     "metadata": {},
     "output_type": "execute_result"
    }
   ],
   "source": [
    "end_of_word(female_t, r\".{1,4}(할|볼|갈|걸|말|뭘|될|갈|놀|알|럴|떨|질|닐|볼|일|하|보|가)(래|자|까)$\")"
   ]
  },
  {
   "cell_type": "code",
   "execution_count": 105,
   "metadata": {},
   "outputs": [
    {
     "data": {
      "text/plain": [
       "[('아닐까', 47),\n",
       " ('어떨까', 45),\n",
       " ('이럴까', 44),\n",
       " ('보일까', 35),\n",
       " ('말할까', 29),\n",
       " ('가보자', 28),\n",
       " ('가질래', 23),\n",
       " ('해볼까', 22),\n",
       " ('사라질까', 22),\n",
       " ('말할래', 20),\n",
       " ('돌아갈래', 20),\n",
       " ('나가자', 18),\n",
       " ('사랑일까', 18),\n",
       " ('삐뚤어질래', 18),\n",
       " ('놀아보자', 17),\n",
       " ('왜일까', 16),\n",
       " ('잊혀질까', 16),\n",
       " ('무엇일까', 15),\n",
       " ('걸어가자', 14),\n",
       " ('사랑할래', 14)]"
      ]
     },
     "execution_count": 105,
     "metadata": {},
     "output_type": "execute_result"
    }
   ],
   "source": [
    "end_of_word(male_t, r\".{1,4}(할|볼|갈|걸|말|뭘|될|갈|놀|알|럴|떨|질|닐|볼|일|하|보|가)(래|자|까)$\")"
   ]
  },
  {
   "cell_type": "code",
   "execution_count": 59,
   "metadata": {},
   "outputs": [
    {
     "data": {
      "text/plain": [
       "[('아닐까', 46),\n",
       " ('말할까', 44),\n",
       " ('멀어질까', 27),\n",
       " ('해볼까', 26),\n",
       " ('보일까', 22),\n",
       " ('이럴까', 21),\n",
       " ('어떨까', 14),\n",
       " ('사랑일까', 13),\n",
       " ('말해볼까', 12),\n",
       " ('꿈일까', 11),\n",
       " ('걸어볼까', 10),\n",
       " ('고백해볼까', 10),\n",
       " ('그럴까', 10),\n",
       " ('시작할까', 9),\n",
       " ('떠나볼까', 8),\n",
       " ('다가가볼까', 8),\n",
       " ('좋아할까', 8),\n",
       " ('왜일까', 8),\n",
       " ('착각일까', 7),\n",
       " ('시작해볼까', 7)]"
      ]
     },
     "execution_count": 59,
     "metadata": {},
     "output_type": "execute_result"
    }
   ],
   "source": [
    "end_of_word(female_t, r\".{1,4}(할|볼|갈|걸|말|뭘|될|갈|놀|알|럴|떨|질|닐|볼|일)까$\")"
   ]
  },
  {
   "cell_type": "code",
   "execution_count": 60,
   "metadata": {},
   "outputs": [
    {
     "data": {
      "text/plain": [
       "[('아닐까', 47),\n",
       " ('어떨까', 45),\n",
       " ('이럴까', 44),\n",
       " ('보일까', 35),\n",
       " ('말할까', 29),\n",
       " ('해볼까', 22),\n",
       " ('사라질까', 22),\n",
       " ('사랑일까', 18),\n",
       " ('왜일까', 16),\n",
       " ('잊혀질까', 16),\n",
       " ('무엇일까', 15),\n",
       " ('욕심일까', 14),\n",
       " ('멀어질까', 14),\n",
       " ('시작해볼까', 12),\n",
       " ('가볼까', 12),\n",
       " ('걸어볼까', 11),\n",
       " ('전해질까', 11),\n",
       " ('변해볼까', 10),\n",
       " ('그럴까', 9),\n",
       " ('너일까', 9)]"
      ]
     },
     "execution_count": 60,
     "metadata": {},
     "output_type": "execute_result"
    }
   ],
   "source": [
    "end_of_word(male_t, r\".{1,4}(할|볼|갈|걸|말|뭘|될|갈|놀|알|럴|떨|질|닐|볼|일)까$\")"
   ]
  },
  {
   "cell_type": "code",
   "execution_count": 62,
   "metadata": {},
   "outputs": [
    {
     "data": {
      "text/plain": [
       "[('해볼래', 36),\n",
       " ('사랑할래', 29),\n",
       " ('말할래', 25),\n",
       " ('어떡할래', 22),\n",
       " ('바라볼래', 17),\n",
       " ('안할래', 17),\n",
       " ('전할래', 16),\n",
       " ('시작할래', 14),\n",
       " ('다가갈래', 11),\n",
       " ('그만할래', 10),\n",
       " ('고백할래', 10),\n",
       " ('들어볼래', 8),\n",
       " ('놀아볼래', 8),\n",
       " ('안아볼래', 7),\n",
       " ('유혹할래', 7),\n",
       " ('가볼래', 7),\n",
       " ('살아갈래', 7),\n",
       " ('날아갈래', 6),\n",
       " ('즐겨볼래', 6),\n",
       " ('뛰어볼래', 6)]"
      ]
     },
     "execution_count": 62,
     "metadata": {},
     "output_type": "execute_result"
    }
   ],
   "source": [
    "end_of_word(female_t, r\".{1,4}(할|볼|갈|말|될|갈|놀|럴|볼)래$\")"
   ]
  },
  {
   "cell_type": "code",
   "execution_count": 63,
   "metadata": {},
   "outputs": [
    {
     "data": {
      "text/plain": [
       "[('말할래', 20),\n",
       " ('돌아갈래', 20),\n",
       " ('사랑할래', 14),\n",
       " ('바라볼래', 10),\n",
       " ('믿어볼래', 9),\n",
       " ('다가갈래', 8),\n",
       " ('해볼래', 8),\n",
       " ('고백할래', 8),\n",
       " ('날아갈래', 8),\n",
       " ('가볼래', 6),\n",
       " ('살아갈래', 6),\n",
       " ('그만할래', 6),\n",
       " ('걸어볼래', 6),\n",
       " ('뭐할래', 6),\n",
       " ('데려갈래', 5),\n",
       " ('걸어갈래', 5),\n",
       " ('지켜볼래', 5),\n",
       " ('말해볼래', 5),\n",
       " ('노래할래', 5),\n",
       " ('떠나볼래', 5)]"
      ]
     },
     "execution_count": 63,
     "metadata": {},
     "output_type": "execute_result"
    }
   ],
   "source": [
    "end_of_word(male_t, r\".{1,4}(할|볼|갈|말|될|갈|놀|럴|볼)래$\")"
   ]
  },
  {
   "cell_type": "code",
   "execution_count": 102,
   "metadata": {},
   "outputs": [
    {
     "data": {
      "text/plain": [
       "[('그만하자', 7),\n",
       " ('달려보자', 6),\n",
       " ('살아보자', 6),\n",
       " ('노래하자', 4),\n",
       " ('뛰어보자', 4),\n",
       " ('떠나보자', 4),\n",
       " ('나가자', 4),\n",
       " ('함께하자', 3),\n",
       " ('생각하자', 3),\n",
       " ('올라가자', 2),\n",
       " ('말해보자', 2),\n",
       " ('아파하자', 2),\n",
       " ('해보자', 2),\n",
       " ('뛰어가자', 2),\n",
       " ('어디보자', 2),\n",
       " ('두고보자', 2),\n",
       " ('설쳐보자', 2),\n",
       " ('영원하자', 2),\n",
       " ('날아가자', 2),\n",
       " ('믿어보자', 2)]"
      ]
     },
     "execution_count": 102,
     "metadata": {},
     "output_type": "execute_result"
    }
   ],
   "source": [
    "end_of_word(female_t, r\".{1,3}(하|보|가|놀)자$\")"
   ]
  },
  {
   "cell_type": "code",
   "execution_count": 103,
   "metadata": {},
   "outputs": [
    {
     "data": {
      "text/plain": [
       "[('가보자', 28),\n",
       " ('나가자', 18),\n",
       " ('놀아보자', 17),\n",
       " ('걸어가자', 14),\n",
       " ('달려보자', 13),\n",
       " ('안아보자', 13),\n",
       " ('시작하자', 12),\n",
       " ('그만하자', 12),\n",
       " ('돌아가자', 9),\n",
       " ('행복하자', 7),\n",
       " ('해보자', 6),\n",
       " ('사랑하자', 6),\n",
       " ('날아가자', 6),\n",
       " ('영원하자', 6),\n",
       " ('외워보자', 6),\n",
       " ('함께하자', 5),\n",
       " ('뛰어보자', 5),\n",
       " ('노래하자', 5),\n",
       " ('떠나가자', 4),\n",
       " ('도전하자', 4)]"
      ]
     },
     "execution_count": 103,
     "metadata": {},
     "output_type": "execute_result"
    }
   ],
   "source": [
    "end_of_word(male_t, r\".{1,3}(하|보|가|놀)자$\")"
   ]
  },
  {
   "cell_type": "code",
   "execution_count": 67,
   "metadata": {},
   "outputs": [
    {
     "data": {
      "text/plain": [
       "[('줄거야', 37),\n",
       " ('할거야', 37),\n",
       " ('될거야', 35),\n",
       " ('않을거야', 28),\n",
       " ('갈거야', 25),\n",
       " ('없을거야', 22),\n",
       " ('온거야', 22),\n",
       " ('사랑할거야', 20),\n",
       " ('된거야', 19),\n",
       " ('하는거야', 18),\n",
       " ('올거야', 16),\n",
       " ('있을거야', 16),\n",
       " ('한거야', 13),\n",
       " ('가는거야', 13),\n",
       " ('있는거야', 12),\n",
       " ('기다릴거야', 12),\n",
       " ('없는거야', 11),\n",
       " ('말할거야', 11),\n",
       " ('되는거야', 9),\n",
       " ('말거야', 9)]"
      ]
     },
     "execution_count": 67,
     "metadata": {},
     "output_type": "execute_result"
    }
   ],
   "source": [
    "end_of_word(female_t, r\".{1,4}거야\")"
   ]
  },
  {
   "cell_type": "code",
   "execution_count": 66,
   "metadata": {},
   "outputs": [
    {
     "data": {
      "text/plain": [
       "[('않을거야', 73),\n",
       " ('할거야', 58),\n",
       " ('없을거야', 57),\n",
       " ('없는거야', 51),\n",
       " ('될거야', 39),\n",
       " ('있을거야', 37),\n",
       " ('있는거야', 36),\n",
       " ('된거야', 35),\n",
       " ('줄거야', 33),\n",
       " ('사랑할거야', 27),\n",
       " ('가는거야', 26),\n",
       " ('하는거야', 25),\n",
       " ('온거야', 25),\n",
       " ('말할거야', 23),\n",
       " ('말거야', 23),\n",
       " ('지켜줄거야', 21),\n",
       " ('만들거야', 19),\n",
       " ('갈거야', 18),\n",
       " ('모를거야', 17),\n",
       " ('위한거야', 15)]"
      ]
     },
     "execution_count": 66,
     "metadata": {},
     "output_type": "execute_result"
    }
   ],
   "source": [
    "end_of_word(male_t, r\".{1,4}거야\")"
   ]
  },
  {
   "cell_type": "code",
   "execution_count": 68,
   "metadata": {},
   "outputs": [
    {
     "data": {
      "text/plain": [
       "[('말아요', 198),\n",
       " ('봐요', 190),\n",
       " ('필요', 180),\n",
       " ('마요', 169),\n",
       " ('사랑해요', 150),\n",
       " ('있어요', 137),\n",
       " ('해요', 129),\n",
       " ('와요', 126),\n",
       " ('몰라요', 122),\n",
       " ('없어요', 114),\n",
       " ('있나요', 107),\n",
       " ('좋아요', 104),\n",
       " ('줘요', 101),\n",
       " ('싶어요', 90),\n",
       " ('않아요', 90),\n",
       " ('안아줘요', 84),\n",
       " ('해봐요', 80),\n",
       " ('주세요', 79),\n",
       " ('없나요', 73),\n",
       " ('말해줘요', 71)]"
      ]
     },
     "execution_count": 68,
     "metadata": {},
     "output_type": "execute_result"
    }
   ],
   "source": [
    "end_of_word(female_t, r\".{1,4}요$\")"
   ]
  },
  {
   "cell_type": "code",
   "execution_count": 73,
   "metadata": {},
   "outputs": [
    {
     "data": {
      "text/plain": [
       "[('필요', 333),\n",
       " ('말아요', 327),\n",
       " ('마요', 306),\n",
       " ('사랑해요', 243),\n",
       " ('봐요', 192),\n",
       " ('해요', 185),\n",
       " ('있어요', 180),\n",
       " ('있나요', 174),\n",
       " ('없어요', 133),\n",
       " ('줘요', 97),\n",
       " ('가요', 96),\n",
       " ('그래요', 94),\n",
       " ('않아요', 87),\n",
       " ('알아요', 87),\n",
       " ('미안해요', 80),\n",
       " ('믿어요', 73),\n",
       " ('싶어요', 72),\n",
       " ('같아요', 71),\n",
       " ('돼요', 66),\n",
       " ('여보세요', 63)]"
      ]
     },
     "execution_count": 73,
     "metadata": {},
     "output_type": "execute_result"
    }
   ],
   "source": [
    "end_of_word(male_t, r\".{1,4}요$\")"
   ]
  },
  {
   "cell_type": "code",
   "execution_count": 75,
   "metadata": {},
   "outputs": [
    {
     "data": {
      "text/plain": [
       "[('보여줄게', 95),\n",
       " ('해줄게', 31),\n",
       " ('지켜줄게', 26),\n",
       " ('말해줄게', 22),\n",
       " ('안아줄게', 17),\n",
       " ('보내줄게', 17),\n",
       " ('돼줄게', 16),\n",
       " ('비춰줄게', 14),\n",
       " ('되줄게', 12),\n",
       " ('들어줄게', 12),\n",
       " ('들려줄게', 11),\n",
       " ('채워줄게', 8),\n",
       " ('지워줄게', 7),\n",
       " ('잊어줄게', 7),\n",
       " ('기다려줄게', 7),\n",
       " ('감싸줄게', 6),\n",
       " ('잡아줄게', 6),\n",
       " ('전해줄게', 6),\n",
       " ('되어줄게', 5),\n",
       " ('아껴줄게', 5)]"
      ]
     },
     "execution_count": 75,
     "metadata": {},
     "output_type": "execute_result"
    }
   ],
   "source": [
    "end_of_word(female_t, r\".{1,4}줄게$\")"
   ]
  },
  {
   "cell_type": "code",
   "execution_count": 74,
   "metadata": {},
   "outputs": [
    {
     "data": {
      "text/plain": [
       "[('지켜줄게', 196),\n",
       " ('보여줄게', 148),\n",
       " ('해줄게', 121),\n",
       " ('안아줄게', 71),\n",
       " ('돼줄게', 41),\n",
       " ('있어줄게', 41),\n",
       " ('보내줄게', 30),\n",
       " ('되어줄게', 27),\n",
       " ('아껴줄게', 22),\n",
       " ('비춰줄게', 18),\n",
       " ('말해줄게', 17),\n",
       " ('지워줄게', 17),\n",
       " ('불러줄게', 16),\n",
       " ('받아줄게', 15),\n",
       " ('잘해줄게', 13),\n",
       " ('빌어줄게', 12),\n",
       " ('알려줄게', 12),\n",
       " ('채워줄게', 12),\n",
       " ('감싸줄게', 11),\n",
       " ('다해줄게', 11)]"
      ]
     },
     "execution_count": 74,
     "metadata": {},
     "output_type": "execute_result"
    }
   ],
   "source": [
    "end_of_word(male_t, r\".{1,4}줄게$\")"
   ]
  },
  {
   "cell_type": "code",
   "execution_count": 95,
   "metadata": {},
   "outputs": [
    {
     "data": {
      "text/plain": [
       "[('안아줘요', 84),\n",
       " ('말해줘요', 71),\n",
       " ('해줘요', 44),\n",
       " ('말아줘요', 19),\n",
       " ('와줘요', 18),\n",
       " ('잡아줘요', 17),\n",
       " ('봐줘요', 16),\n",
       " ('있어줘요', 15),\n",
       " ('보여줘요', 14),\n",
       " ('사랑해줘요', 13),\n",
       " ('기억해줘요', 11),\n",
       " ('웃어줘요', 11),\n",
       " ('알아줘요', 9),\n",
       " ('지켜줘요', 9),\n",
       " ('위로해줘요', 9),\n",
       " ('꺼줘요', 9),\n",
       " ('속삭여줘요', 7),\n",
       " ('구해줘요', 7),\n",
       " ('바라봐줘요', 7),\n",
       " ('전해줘요', 7)]"
      ]
     },
     "execution_count": 95,
     "metadata": {},
     "output_type": "execute_result"
    }
   ],
   "source": [
    "end_of_word(female_t, r\".{1,4}줘요$\")"
   ]
  },
  {
   "cell_type": "code",
   "execution_count": 93,
   "metadata": {},
   "outputs": [
    {
     "data": {
      "text/plain": [
       "[('사랑해줘요', 30),\n",
       " ('불러줘요', 29),\n",
       " ('안아줘요', 28),\n",
       " ('해줘요', 26),\n",
       " ('있어줘요', 25),\n",
       " ('돌아와줘요', 22),\n",
       " ('말해줘요', 15),\n",
       " ('말아줘요', 13),\n",
       " ('기억해줘요', 13),\n",
       " ('믿어줘요', 12),\n",
       " ('들어줘요', 8),\n",
       " ('되어줘요', 7),\n",
       " ('알아줘요', 7),\n",
       " ('웃어줘요', 7),\n",
       " ('받아줘요', 7),\n",
       " ('약속해줘요', 7),\n",
       " ('용서해줘요', 6),\n",
       " ('잡아줘요', 6),\n",
       " ('와줘요', 5),\n",
       " ('기다려줘요', 5)]"
      ]
     },
     "execution_count": 93,
     "metadata": {},
     "output_type": "execute_result"
    }
   ],
   "source": [
    "end_of_word(male_t, r\".{1,4}줘요$\")"
   ]
  },
  {
   "cell_type": "code",
   "execution_count": 86,
   "metadata": {},
   "outputs": [
    {
     "data": {
      "text/plain": [
       "[('주세요', 79),\n",
       " ('해주세요', 15),\n",
       " ('안아주세요', 10),\n",
       " ('여보세요', 9),\n",
       " ('받아주세요', 7),\n",
       " ('보세요', 6),\n",
       " ('오세요', 6),\n",
       " ('놔두세요', 6),\n",
       " ('안녕하세요', 6),\n",
       " ('하세요', 5),\n",
       " ('말해주세요', 5),\n",
       " ('찾아오세요', 5),\n",
       " ('생각하세요', 4),\n",
       " ('지켜내세요', 4),\n",
       " ('행복하세요', 4),\n",
       " ('느껴보세요', 3),\n",
       " ('알려주세요', 3),\n",
       " ('비춰주세요', 3),\n",
       " ('마세요', 3),\n",
       " ('비켜나세요', 2)]"
      ]
     },
     "execution_count": 86,
     "metadata": {},
     "output_type": "execute_result"
    }
   ],
   "source": [
    "end_of_word(female_t, r\".{1,3}세요$\")"
   ]
  },
  {
   "cell_type": "code",
   "execution_count": 84,
   "metadata": {},
   "outputs": [
    {
     "data": {
      "text/plain": [
       "[('여보세요', 63),\n",
       " ('안녕하세요', 46),\n",
       " ('마세요', 23),\n",
       " ('주세요', 22),\n",
       " ('누구세요', 13),\n",
       " ('가세요', 13),\n",
       " ('가지마세요', 7),\n",
       " ('하세요', 7),\n",
       " ('행복하세요', 7),\n",
       " ('받아주세요', 5),\n",
       " ('말해보세요', 5),\n",
       " ('일어나세요', 4),\n",
       " ('이겨내세요', 4),\n",
       " ('느껴보세요', 4),\n",
       " ('보세요', 4),\n",
       " ('해주세요', 4),\n",
       " ('어디세요', 4),\n",
       " ('보여주세요', 3),\n",
       " ('아껴주세요', 3),\n",
       " ('안아주세요', 3)]"
      ]
     },
     "execution_count": 84,
     "metadata": {},
     "output_type": "execute_result"
    }
   ],
   "source": [
    "end_of_word(male_t, r\".{1,4}세요$\")"
   ]
  },
  {
   "cell_type": "code",
   "execution_count": 88,
   "metadata": {},
   "outputs": [
    {
     "data": {
      "text/plain": [
       "[('해주세요', 15),\n",
       " ('안아주세요', 10),\n",
       " ('받아주세요', 7),\n",
       " ('말해주세요', 5),\n",
       " ('알려주세요', 3),\n",
       " ('비춰주세요', 3),\n",
       " ('잡아주세요', 2),\n",
       " ('알아주세요', 2),\n",
       " ('불러주세요', 2),\n",
       " ('아껴주세요', 2),\n",
       " ('지켜주세요', 2),\n",
       " ('만나주세요', 2),\n",
       " ('보내주세요', 2),\n",
       " ('기억해주세요', 1),\n",
       " ('쳐주세요', 1),\n",
       " ('위로해주세요', 1),\n",
       " ('써주세요', 1),\n",
       " ('짜주세요', 1),\n",
       " ('도와주세요', 1),\n",
       " ('이뤄주세요', 1)]"
      ]
     },
     "execution_count": 88,
     "metadata": {},
     "output_type": "execute_result"
    }
   ],
   "source": [
    "end_of_word(female_t, r\".{1,3}주세요$\")"
   ]
  },
  {
   "cell_type": "code",
   "execution_count": 87,
   "metadata": {},
   "outputs": [
    {
     "data": {
      "text/plain": [
       "[('받아주세요', 5),\n",
       " ('해주세요', 4),\n",
       " ('보여주세요', 3),\n",
       " ('아껴주세요', 3),\n",
       " ('안아주세요', 3),\n",
       " ('녹여주세요', 2),\n",
       " ('말해주세요', 2),\n",
       " ('물어봐주세요', 2),\n",
       " ('있어주세요', 2),\n",
       " ('용서해주세요', 2),\n",
       " ('이해해주세요', 2),\n",
       " ('돌려주세요', 2),\n",
       " ('대답해주세요', 1),\n",
       " ('살아주세요', 1),\n",
       " ('잡아주세요', 1),\n",
       " ('외처주세요', 1),\n",
       " ('춰주세요', 1),\n",
       " ('기억해주세요', 1),\n",
       " ('불러주세요', 1),\n",
       " ('갖다주세요', 1)]"
      ]
     },
     "execution_count": 87,
     "metadata": {},
     "output_type": "execute_result"
    }
   ],
   "source": [
    "end_of_word(male_t, r\".{1,3}주세요$\")"
   ]
  },
  {
   "cell_type": "code",
   "execution_count": 89,
   "metadata": {},
   "outputs": [
    {
     "data": {
      "text/plain": [
       "[('하지마', 338),\n",
       " ('가지마', 100),\n",
       " ('보지마', 36),\n",
       " ('잊지마', 29),\n",
       " ('찾지마', 26),\n",
       " ('놓지마', 26),\n",
       " ('웃지마', 14),\n",
       " ('묻지마', 14),\n",
       " ('굴지마', 13),\n",
       " ('두지마', 13),\n",
       " ('잡지마', 13),\n",
       " ('오지마', 13),\n",
       " ('울지마', 11),\n",
       " ('쓰지마', 9),\n",
       " ('팔지마', 8),\n",
       " ('듣지마', 8),\n",
       " ('빼지마', 7),\n",
       " ('속지마', 7),\n",
       " ('먹지마', 7),\n",
       " ('붙지마', 7)]"
      ]
     },
     "execution_count": 89,
     "metadata": {},
     "output_type": "execute_result"
    }
   ],
   "source": [
    "end_of_word(female_t, r\".지마$\")"
   ]
  },
  {
   "cell_type": "code",
   "execution_count": 90,
   "metadata": {},
   "outputs": [
    {
     "data": {
      "text/plain": [
       "[('하지마', 522),\n",
       " ('가지마', 182),\n",
       " ('잊지마', 76),\n",
       " ('울지마', 76),\n",
       " ('보지마', 56),\n",
       " ('찾지마', 29),\n",
       " ('놓지마', 27),\n",
       " ('막지마', 22),\n",
       " ('입지마', 18),\n",
       " ('쓰지마', 17),\n",
       " ('살지마', 17),\n",
       " ('두지마', 16),\n",
       " ('묻지마', 13),\n",
       " ('있지마', 12),\n",
       " ('믿지마', 12),\n",
       " ('주지마', 10),\n",
       " ('잡지마', 9),\n",
       " ('웃지마', 9),\n",
       " ('숨지마', 8),\n",
       " ('쫄지마', 8)]"
      ]
     },
     "execution_count": 90,
     "metadata": {},
     "output_type": "execute_result"
    }
   ],
   "source": [
    "end_of_word(male_t, r\".지마$\")"
   ]
  },
  {
   "cell_type": "code",
   "execution_count": 92,
   "metadata": {},
   "outputs": [
    {
     "data": {
      "text/plain": [
       "[('하지마', 338),\n",
       " ('가지마', 100),\n",
       " ('떠나지마', 59),\n",
       " ('보지마', 36),\n",
       " ('망설이지마', 31),\n",
       " ('떠나가지마', 31),\n",
       " ('잊지마', 29),\n",
       " ('멈추지마', 27),\n",
       " ('말하지마', 26),\n",
       " ('찾지마', 26),\n",
       " ('놓지마', 26),\n",
       " ('걱정하지마', 21),\n",
       " ('울리지마', 20),\n",
       " ('서두르지마', 19),\n",
       " ('행복하지마', 17),\n",
       " ('바라보지마', 16),\n",
       " ('착각하지마', 15),\n",
       " ('이러지마', 15),\n",
       " ('웃지마', 14),\n",
       " ('묻지마', 14)]"
      ]
     },
     "execution_count": 92,
     "metadata": {},
     "output_type": "execute_result"
    }
   ],
   "source": [
    "end_of_word(female_t, r\".{1,4}지마$\")"
   ]
  },
  {
   "cell_type": "code",
   "execution_count": 91,
   "metadata": {},
   "outputs": [
    {
     "data": {
      "text/plain": [
       "[('하지마', 522),\n",
       " ('가지마', 182),\n",
       " ('떠나지마', 115),\n",
       " ('잊지마', 76),\n",
       " ('울지마', 76),\n",
       " ('떠나가지마', 73),\n",
       " ('걱정하지마', 58),\n",
       " ('보지마', 56),\n",
       " ('멈추지마', 52),\n",
       " ('말하지마', 47),\n",
       " ('이러지마', 46),\n",
       " ('까불지마', 35),\n",
       " ('찾지마', 29),\n",
       " ('망설이지마', 27),\n",
       " ('생각하지마', 27),\n",
       " ('놓지마', 27),\n",
       " ('막지마', 22),\n",
       " ('버리지마', 20),\n",
       " ('입지마', 18),\n",
       " ('피하지마', 17)]"
      ]
     },
     "execution_count": 91,
     "metadata": {},
     "output_type": "execute_result"
    }
   ],
   "source": [
    "end_of_word(male_t, r\".{1,4}지마$\")"
   ]
  },
  {
   "cell_type": "code",
   "execution_count": 72,
   "metadata": {},
   "outputs": [
    {
     "data": {
      "text/plain": [
       "[('내', 9708),\n",
       " ('I', 8875),\n",
       " ('you', 7537),\n",
       " ('난', 6575),\n",
       " ('날', 5678),\n",
       " ('me', 5513),\n",
       " ('oh', 4538),\n",
       " ('t', 4415),\n",
       " ('나', 4141),\n",
       " ('Oh', 4095),\n",
       " ('더', 4047),\n",
       " ('널', 3990),\n",
       " ('love', 3821),\n",
       " ('나를', 3647),\n",
       " ('it', 3618),\n",
       " ('너', 3424),\n",
       " ('내가', 3373),\n",
       " ('수', 3290),\n",
       " ('넌', 3228),\n",
       " ('그', 3192)]"
      ]
     },
     "execution_count": 72,
     "metadata": {},
     "output_type": "execute_result"
    }
   ],
   "source": [
    "# '필요'라는 단어는 어미가 포함되지 않은 단어이므로 제외한다.\n",
    "import re\n",
    "\n",
    "r = re.compile(\"^(?!.*필).*$\")\n",
    "newlist = list(filter(r.match, female_t)) # Read Note\n",
    "Counter(newlist).most_common(20)"
   ]
  },
  {
   "cell_type": "code",
   "execution_count": 51,
   "metadata": {
    "scrolled": true
   },
   "outputs": [
    {
     "data": {
      "text/plain": [
       "[['다시', '믿게', '해줄게'],\n",
       " ['곁에만', '있게', '해줄게'],\n",
       " ['쿵', '하게', '해줄게'],\n",
       " ['이라면', '떠나게', '해줄게'],\n",
       " ['너를', '웃게', '해줄게'],\n",
       " ['만들어줄게', '그렇게', '해줄게'],\n",
       " ['항상', '웃게', '해줄게'],\n",
       " ['Alright', '알게', '해줄게'],\n",
       " ['대로', '오늘', '해줄게'],\n",
       " ['특별히', '뭐든', '해줄게'],\n",
       " ['특별히', '허락', '해줄게'],\n",
       " ['다시', '느끼게', '해줄게'],\n",
       " ['언제까지', '함께', '해줄게'],\n",
       " ['오늘처럼만', '웃게', '해줄게'],\n",
       " ['후회하지', '않게', '해줄게'],\n",
       " ['너를', '깨어나게', '해줄게'],\n",
       " ['음악을', '마시게', '해줄게'],\n",
       " ['모두', '잊게', '해줄게'],\n",
       " ['모르는', '척', '해줄게'],\n",
       " ['않아', '부르게', '해줄게'],\n",
       " ['다', '잊게', '해줄게']]"
      ]
     },
     "execution_count": 51,
     "metadata": {},
     "output_type": "execute_result"
    }
   ],
   "source": [
    "unique(before_word(female_t, '해줄게'))  # 여자 아이돌 가사 중 '해줄게' 앞 맥락 보기"
   ]
  },
  {
   "cell_type": "code",
   "execution_count": 52,
   "metadata": {},
   "outputs": [
    {
     "data": {
      "text/plain": [
       "[['그대가', '원하는대로', '해줄게'],\n",
       " ['언제나', '행복하게', '해줄게'],\n",
       " ['내가', '다', '해줄게'],\n",
       " ['너를', '웃게', '해줄게'],\n",
       " ['준비했던', '말을', '해줄게'],\n",
       " ['난', '뭐든', '해줄게'],\n",
       " ['매일매일', '웃게', '해줄게'],\n",
       " ['끝까지', '함께', '해줄게'],\n",
       " ['U', '잘', '해줄게'],\n",
       " ['you', '다', '해줄게'],\n",
       " ['마', '내가', '해줄게'],\n",
       " ['듣고', '느끼게', '해줄게'],\n",
       " ['뭐든', '다', '해줄게'],\n",
       " ['때로', '간다면', '해줄게'],\n",
       " ['꽃길만', '걷게', '해줄게'],\n",
       " ['you', '행복하게', '해줄게'],\n",
       " ['해줄게', '행복하게', '해줄게'],\n",
       " ['해줘', '행복하게', '해줄게'],\n",
       " ['너에게', '다', '해줄게'],\n",
       " ['위해', '하나도', '해줄게'],\n",
       " ['다', '맞출게', '해줄게'],\n",
       " ['안', '하면', '해줄게'],\n",
       " ['더', '웃게', '해줄게'],\n",
       " ['원하면', '다', '해줄게'],\n",
       " ['내가', '웃게', '해줄게'],\n",
       " ['뭐든지', '다', '해줄게'],\n",
       " ['눈감아줄게', '뭐든지', '해줄게'],\n",
       " ['어디라도', '함께', '해줄게'],\n",
       " ['제대로', '느끼게', '해줄게'],\n",
       " ['매일', '느끼게', '해줄게'],\n",
       " ['것보다', '더', '해줄게'],\n",
       " ['널', '기쁘게', '해줄게'],\n",
       " ['마음을', '설레게', '해줄게'],\n",
       " ['말자', '행복하게', '해줄게'],\n",
       " ['못', '떼게', '해줄게'],\n",
       " ['원한다면', '뭐든지', '해줄게'],\n",
       " ['널', '웃게', '해줄게'],\n",
       " ['보내기엔', '보내기에는', '해줄게'],\n",
       " ['아픔', '아물게', '해줄게'],\n",
       " ['생각마', '행복하게', '해줄게'],\n",
       " ['않게', '잘', '해줄게'],\n",
       " ['듯', '매일', '해줄게'],\n",
       " ['bye', '뭐든', '해줄게'],\n",
       " ['되게', '라도', '해줄게'],\n",
       " ['하루', '즐겁게', '해줄게'],\n",
       " ['눈물만큼', '웃게', '해줄게'],\n",
       " ['이거라면', '다', '해줄게'],\n",
       " ['원한다면', '행복하게', '해줄게'],\n",
       " ['게', '이거라면', '해줄게'],\n",
       " ['느껴봐', '행복하게', '해줄게'],\n",
       " ['워어어', '행복하게', '해줄게'],\n",
       " ['영원히', '함께', '해줄게'],\n",
       " ['수', '없게', '해줄게'],\n",
       " ['웃음잃지', '않게', '해줄게'],\n",
       " ['믿어줘', '행복하게', '해줄게'],\n",
       " ['lover', '웃게', '해줄게'],\n",
       " ['전부', '다', '해줄게'],\n",
       " ['기분이', '좋게', '해줄게'],\n",
       " ['내가', '얘기', '해줄게'],\n",
       " ['단어를', '믿게', '해줄게'],\n",
       " ['계속', '웃게', '해줄게'],\n",
       " ['있다면', '행복하게', '해줄게'],\n",
       " ['겨워', '살게', '해줄게'],\n",
       " ['밤을', '즐기게', '해줄게'],\n",
       " ['솔직해', '만족하게', '해줄게'],\n",
       " ['깜짝', '놀라게', '해줄게'],\n",
       " ['만큼', '달콤하게', '해줄게'],\n",
       " ['사랑', '받게', '해줄게'],\n",
       " ['교태', '마사지', '해줄게'],\n",
       " ['웃음', '짓게', '해줄게'],\n",
       " ['lovely', '뭐든', '해줄게'],\n",
       " ['미소만', '짓게', '해줄게'],\n",
       " ['말해', '다', '해줄게'],\n",
       " ['고백할게', '행복하게', '해줄게'],\n",
       " ['yeah', '행복하게', '해줄게'],\n",
       " ['봤어', '잘', '해줄게'],\n",
       " ['비는', '것도', '해줄게']]"
      ]
     },
     "execution_count": 52,
     "metadata": {},
     "output_type": "execute_result"
    }
   ],
   "source": [
    "unique(before_word(male_t, '해줄게'))  # 남자 아이돌 가사 중 '해줄게' 앞 맥락 보기"
   ]
  },
  {
   "cell_type": "code",
   "execution_count": 53,
   "metadata": {},
   "outputs": [
    {
     "data": {
      "text/plain": [
       "[['막아주고', '빛이', '돼줄게'],\n",
       " ['너의', '여자가', '돼줄게'],\n",
       " ['밝은', '빛이', '돼줄게'],\n",
       " ['네', '편이', '돼줄게'],\n",
       " ['너만의', '천사가', '돼줄게'],\n",
       " ['걸', '빛이', '돼줄게'],\n",
       " ['골목에', '등불이', '돼줄게'],\n",
       " ['바다에', '등대가', '돼줄게'],\n",
       " ['앙큼한', '고양이', '돼줄게'],\n",
       " ['너만의', '빛이', '돼줄게'],\n",
       " ['될게', '그늘이', '돼줄게'],\n",
       " ['반짝이는', '별이', '돼줄게']]"
      ]
     },
     "execution_count": 53,
     "metadata": {},
     "output_type": "execute_result"
    }
   ],
   "source": [
    "unique(before_word(female_t, '돼줄게'))"
   ]
  },
  {
   "cell_type": "code",
   "execution_count": 54,
   "metadata": {
    "scrolled": true
   },
   "outputs": [
    {
     "data": {
      "text/plain": [
       "[['사랑의', '포로가', '돼줄게'],\n",
       " ['말해', '다', '돼줄게'],\n",
       " ['너만의', '수퍼맨이', '돼줄게'],\n",
       " ['bae', '북이', '돼줄게'],\n",
       " ['이제는', '위로가', '돼줄게'],\n",
       " ['style', '내가', '돼줄게'],\n",
       " ['그런', '사람', '돼줄게'],\n",
       " ['하루', '쉼표가', '돼줄게'],\n",
       " ['아파해줄게', '날개가', '돼줄게'],\n",
       " ['꽃', '길이', '돼줄게'],\n",
       " ['해줄게', '힘이', '돼줄게'],\n",
       " ['내가', '힘이', '돼줄게'],\n",
       " ['좋은', '사람이', '돼줄게'],\n",
       " ['마지막', '빈칸이', '돼줄게'],\n",
       " ['되어', '빛이', '돼줄게'],\n",
       " ['너의', '침대가', '돼줄게'],\n",
       " ['너의', '불씨가', '돼줄게'],\n",
       " ['내가', '빛이', '돼줄게'],\n",
       " ['너의', '기적이', '돼줄게'],\n",
       " ['너의', '편이', '돼줄게'],\n",
       " ['아프다면', '그늘이', '돼줄게'],\n",
       " ['괜찮은', '너의남자', '돼줄게'],\n",
       " ['위해', '집이', '돼줄게'],\n",
       " ['너만의', '별이', '돼줄게'],\n",
       " ['포근한', '침대가', '돼줄게'],\n",
       " ['밤에', '달이', '돼줄게'],\n",
       " ['누구보다', '힘이', '돼줄게'],\n",
       " ['탑', '스타', '돼줄게']]"
      ]
     },
     "execution_count": 54,
     "metadata": {},
     "output_type": "execute_result"
    }
   ],
   "source": [
    "unique(before_word(male_t, '돼줄게'))"
   ]
  },
  {
   "cell_type": "code",
   "execution_count": 55,
   "metadata": {},
   "outputs": [
    {
     "data": {
      "text/plain": [
       "[['웃는', '거울이', '될게'],\n",
       " ['있는', '사람이', '될게'],\n",
       " ['속에', '파도가', '될게'],\n",
       " ['그대', '힘이', '될게'],\n",
       " ['나', '빛이', '될게'],\n",
       " ['난', '꽃이', '될게'],\n",
       " ['너의', '램프가', '될게'],\n",
       " ['내리면', '우산이', '될게'],\n",
       " ['될게', '햇살이', '될게']]"
      ]
     },
     "execution_count": 55,
     "metadata": {},
     "output_type": "execute_result"
    }
   ],
   "source": [
    "unique(before_word(female_t, '될게'))"
   ]
  },
  {
   "cell_type": "code",
   "execution_count": 56,
   "metadata": {},
   "outputs": [
    {
     "data": {
      "text/plain": [
       "[['위한', '늑대가', '될게'],\n",
       " ['너의', '빛이', '될게'],\n",
       " ['위한', '주인공이', '될게'],\n",
       " ['그대', '방패가', '될게'],\n",
       " ['너의', '이상형', '될게'],\n",
       " ['baby', '가', '될게'],\n",
       " ['힘들면', '깃털이', '될게'],\n",
       " ['그대만의', '꽃길이', '될게'],\n",
       " ['뒤로', '내가', '될게'],\n",
       " ['위한', '별이', '될게'],\n",
       " ['너의', '힘이', '될게'],\n",
       " ['맞는', '남자가', '될게'],\n",
       " ['멋진', '애인이', '될게'],\n",
       " ['내가', '우산이', '될게'],\n",
       " ['환한', '빛이', '될게'],\n",
       " ['집착하는', '남자', '될게'],\n",
       " ['위한', '내가', '될게'],\n",
       " ['내가', '빛이', '될게'],\n",
       " ['위한', '남자가', '될게'],\n",
       " ['밝히는', '빛이', '될게'],\n",
       " ['그런', '놈이', '될게'],\n",
       " ['내가', '별이', '될게'],\n",
       " ['않는', '믿음이', '될게'],\n",
       " ['하나뿐인', '믿음이', '될게'],\n",
       " ['영원한', '친구가', '될게'],\n",
       " ['그런', '남자가', '될게'],\n",
       " ['싶은', '나무가', '될게'],\n",
       " ['작은', '별이', '될게'],\n",
       " ['너의', '하늘이', '될게'],\n",
       " ['줄', '한사람이', '될게'],\n",
       " ['달려갈', '한사람이', '될게'],\n",
       " ['네', '편이', '될게'],\n",
       " ['좋은', '남자가', '될게'],\n",
       " ['대세는', '내가', '될게'],\n",
       " ['baby', '화살이', '될게'],\n",
       " ['걸', '배워서는', '될게']]"
      ]
     },
     "execution_count": 56,
     "metadata": {},
     "output_type": "execute_result"
    }
   ],
   "source": [
    "unique(before_word(male_t, '될게'))"
   ]
  },
  {
   "cell_type": "code",
   "execution_count": 48,
   "metadata": {},
   "outputs": [
    {
     "data": {
      "text/plain": [
       "[['들이고', '확신을', '줘봐'],\n",
       " ['나에게', '미소를', '줘봐'],\n",
       " ['너만의', '느낌을', '줘봐'],\n",
       " ['사랑을', '보여', '줘봐'],\n",
       " ['좀', '해', '줘봐'],\n",
       " ['영수증', '좀', '줘봐']]"
      ]
     },
     "execution_count": 48,
     "metadata": {},
     "output_type": "execute_result"
    }
   ],
   "source": [
    "unique(before_word(female_t, '줘봐'))"
   ]
  },
  {
   "cell_type": "code",
   "execution_count": 45,
   "metadata": {},
   "outputs": [
    {
     "data": {
      "text/plain": [
       "[['OH', '슈퍼히어로가', '되어줘'],\n",
       " ['OH', '빛이', '되어줘'],\n",
       " ['있는', '연인이', '되어줘'],\n",
       " ['비밀노래', '열쇠가', '되어줘'],\n",
       " ['날', '사랑하게', '되어줘'],\n",
       " ['나에게', '추억만', '되어줘'],\n",
       " ['나만의', '사랑이', '되어줘'],\n",
       " ['나의', '별이', '되어줘'],\n",
       " ['친구가', '항상', '되어줘'],\n",
       " ['내', '사랑이', '되어줘']]"
      ]
     },
     "execution_count": 45,
     "metadata": {},
     "output_type": "execute_result"
    }
   ],
   "source": [
    "unique(before_word(female_t, '되어줘'))"
   ]
  },
  {
   "cell_type": "code",
   "execution_count": 46,
   "metadata": {},
   "outputs": [
    {
     "data": {
      "text/plain": [
       "[['퍼즐이', '제발', '되어줘'],\n",
       " ['저', '달이', '되어줘'],\n",
       " ['U', '빛이', '되어줘'],\n",
       " ['아름다운', '꿈이', '되어줘'],\n",
       " ['나만의', '것', '되어줘'],\n",
       " ['어두워', '빛이', '되어줘'],\n",
       " ['내게', '우산이', '되어줘'],\n",
       " ['내', '짝이', '되어줘'],\n",
       " ['밝혀', '빛이', '되어줘'],\n",
       " ['못하게', '빛이', '되어줘'],\n",
       " ['baby', '빛이', '되어줘'],\n",
       " ['oh', '빛이', '되어줘'],\n",
       " ['피어나', '빛이', '되어줘'],\n",
       " ['e', '빛이', '되어줘'],\n",
       " ['없어', '빛이', '되어줘'],\n",
       " ['자연스럽게', '리드해', '되어줘'],\n",
       " ['나의', '춤이', '되어줘'],\n",
       " ['밤하늘에', '빛이', '되어줘'],\n",
       " ['빛나는', '별이', '되어줘'],\n",
       " ['내게', '빛이', '되어줘'],\n",
       " ['영원한', '빛이', '되어줘'],\n",
       " ['내', '사랑이', '되어줘'],\n",
       " ['마지막', '욕심이', '되어줘'],\n",
       " ['밤', '빛이', '되어줘'],\n",
       " ['내', '행운이', '되어줘'],\n",
       " ['내', '반쪽이', '되어줘'],\n",
       " ['내', '여자가', '되어줘'],\n",
       " ['ice', 'ice', '되어줘']]"
      ]
     },
     "execution_count": 46,
     "metadata": {},
     "output_type": "execute_result"
    }
   ],
   "source": [
    "unique(before_word(male_t, '되어줘'))"
   ]
  },
  {
   "cell_type": "code",
   "execution_count": 265,
   "metadata": {
    "scrolled": true
   },
   "outputs": [
    {
     "data": {
      "text/plain": [
       "[['사랑', '잊게', '해줘'],\n",
       " ['친구처럼', '따뜻하게', '해줘'],\n",
       " ['솔직히', '말을', '해줘'],\n",
       " ['나를', '생각좀', '해줘'],\n",
       " ['생각', '좀', '해줘'],\n",
       " ['널', '잊지않게', '해줘'],\n",
       " ['널', '떠나게', '해줘'],\n",
       " ['사랑했다', '말을', '해줘'],\n",
       " ['꼭', '말을', '해줘'],\n",
       " ['날', '떠나게', '해줘'],\n",
       " ['얘기', '꼭', '해줘'],\n",
       " ['웃으면서', '말을', '해줘'],\n",
       " ['늘', '함께', '해줘'],\n",
       " ['한', '마디만', '해줘'],\n",
       " ['언제까지나', '함께', '해줘'],\n",
       " ['수', '있게', '해줘'],\n",
       " ['제발', '꿈이라', '해줘'],\n",
       " ['내게', '말을', '해줘'],\n",
       " ['닦고', '행복', '해줘'],\n",
       " ['날', '행복하게', '해줘'],\n",
       " ['나와', '함께', '해줘'],\n",
       " ['나를', '뜨겁게', '해줘'],\n",
       " ['나를', '느끼게', '해줘'],\n",
       " ['심하게', '말을', '해줘'],\n",
       " ['날', '벗어나게', '해줘'],\n",
       " ['내게', '고백을', '해줘'],\n",
       " ['가슴이', '말을', '해줘'],\n",
       " ['잃지', '않게', '해줘'],\n",
       " ['안에', '있게', '해줘'],\n",
       " ['잊었나', '말을', '해줘'],\n",
       " ['진심이', '아니라', '해줘'],\n",
       " ['좀더', '말을', '해줘'],\n",
       " ['기쁘게', '기쁘게', '해줘'],\n",
       " ['느끼게', '느끼게', '해줘'],\n",
       " ['뭐든', '말을', '해줘'],\n",
       " ['어서', '말을', '해줘'],\n",
       " ['살며시', 'kiss', '해줘'],\n",
       " ['나를', '설레게', '해줘'],\n",
       " ['꺼', '라고', '해줘'],\n",
       " ['sorry', '확실히', '해줘'],\n",
       " ['No', '확실히', '해줘'],\n",
       " ['말', '좀', '해줘'],\n",
       " ['난', '모르게', '해줘'],\n",
       " ['잊고싶어', '어떻게', '해줘'],\n",
       " ['아픔을', '감추게', '해줘'],\n",
       " ['나', 'kiss', '해줘'],\n",
       " ['뚜비룹', '매일매일', '해줘'],\n",
       " ['뻔뻔하게', '또', '해줘'],\n",
       " ['그래', '지금처럼만', '해줘'],\n",
       " ['Boy', '말을', '해줘'],\n",
       " ['더', '어둡게', '해줘'],\n",
       " ['그', '말만', '해줘'],\n",
       " ['그만', '좀', '해줘'],\n",
       " ['나를', '보기만', '해줘'],\n",
       " ['날', '흔들어놓게', '해줘'],\n",
       " ['전화', '받게', '해줘'],\n",
       " ['못', '보게', '해줘'],\n",
       " ['수', '없게', '해줘'],\n",
       " ['빈자리는', '없게', '해줘'],\n",
       " ['있게', '사랑한다고', '해줘'],\n",
       " ['모른', '척', '해줘'],\n",
       " ['종소리가', '들리게', '해줘'],\n",
       " ['다가와서', '노크를', '해줘'],\n",
       " ['머물고', '싶게', '해줘'],\n",
       " ['날', '사랑한다', '해줘'],\n",
       " ['둘만', '있게', '해줘'],\n",
       " ['서로만', '사랑하게', '해줘'],\n",
       " ['아이처럼', '웃게', '해줘'],\n",
       " ['좀', '빛나게', '해줘'],\n",
       " ['Yes', '라고', '해줘'],\n",
       " ['다', '말을', '해줘'],\n",
       " ['나를', '배려', '해줘'],\n",
       " ['말', '다시', '해줘'],\n",
       " ['와서', '다시', '해줘'],\n",
       " ['해줘', '또', '해줘'],\n",
       " ['해줘', '더', '해줘'],\n",
       " ['다시', '다시', '해줘'],\n",
       " ['말이라도', '좀', '해줘'],\n",
       " ['내', '말대로', '해줘'],\n",
       " ['답', '좀', '해줘'],\n",
       " ['친구들아', '응답', '해줘'],\n",
       " ['태양처럼', '녹아내리게', '해줘'],\n",
       " ['녹아내리게', '해줘', '해줘'],\n",
       " ['해줘', '해줘', '해줘'],\n",
       " ['잘하고', '있다', '해줘'],\n",
       " ['가만히', '있게', '해줘'],\n",
       " ['이젠', '잊게', '해줘'],\n",
       " ['나만을', '사랑한다고', '해줘'],\n",
       " ['사랑해', '말을', '해줘']]"
      ]
     },
     "execution_count": 265,
     "metadata": {},
     "output_type": "execute_result"
    }
   ],
   "source": [
    "unique(before_word(female_t, '해줘'))"
   ]
  },
  {
   "cell_type": "code",
   "execution_count": 263,
   "metadata": {},
   "outputs": [
    {
     "data": {
      "text/plain": [
       "[['여기서', '쉬게', '해줘'],\n",
       " ['없었던', '일로', '해줘'],\n",
       " ['내게', '거짓말이라도', '해줘'],\n",
       " ['나를', '있게', '해줘'],\n",
       " ['나를', '기쁘게만', '해줘'],\n",
       " ['결심했다면', '말을', '해줘'],\n",
       " ['숨을', '쉴수없게', '해줘'],\n",
       " ['어떤', '얘기라도', '해줘'],\n",
       " ['안에', '간직', '해줘'],\n",
       " ['내게', '전화를', '해줘'],\n",
       " ['나란걸', '믿게', '해줘'],\n",
       " ['고통받지', '않게', '해줘'],\n",
       " ['되도', '모른다', '해줘'],\n",
       " ['오히려', '미안하게', '해줘'],\n",
       " ['영원히', '함께', '해줘'],\n",
       " ['나', '울지않게', '해줘'],\n",
       " ['많이', '사랑좀', '해줘'],\n",
       " ['사랑', '좀', '해줘'],\n",
       " ['한마디만', '내게', '해줘'],\n",
       " ['끝을', '벗어나게', '해줘'],\n",
       " ['내게', '말을', '해줘'],\n",
       " ['얼굴을', '잊게', '해줘'],\n",
       " ['내가', '믿게만', '해줘'],\n",
       " ['서', '있겠다', '해줘'],\n",
       " ['여기서', '같이', '해줘'],\n",
       " ['끝나지', '않게', '해줘'],\n",
       " ['여기', '서있겠다', '해줘'],\n",
       " ['같이', '있게', '해줘'],\n",
       " ['나에게', '말을', '해줘'],\n",
       " ['세상에', '있기만', '해줘'],\n",
       " ['솔직하게', '말을', '해줘'],\n",
       " ['보인다고', '말을', '해줘'],\n",
       " ['좀', '어떻게', '해줘'],\n",
       " ['차라리', '차갑게', '해줘'],\n",
       " ['알지', '못하게', '해줘'],\n",
       " ['늘', '뿌려놓게', '해줘'],\n",
       " ['수', '있게', '해줘'],\n",
       " ['보고', '말을', '해줘'],\n",
       " ['볼수', '있게', '해줘'],\n",
       " ['돌아와', 'Kiss', '해줘'],\n",
       " ['더', '말을', '해줘'],\n",
       " ['사랑을', '갖게', '해줘'],\n",
       " ['깊이', '함께', '해줘'],\n",
       " ['한', '번만이라도', '해줘'],\n",
       " ['흔들리지', '않게만', '해줘'],\n",
       " ['설명', '좀', '해줘'],\n",
       " ['곁에서', '쉬게', '해줘'],\n",
       " ['평생을', '함께', '해줘'],\n",
       " ['한', '마디만', '해줘'],\n",
       " ['매달리고', '한마디만', '해줘'],\n",
       " ['멀어진다', '한마디만', '해줘'],\n",
       " ['너를', '감싸게', '해줘'],\n",
       " ['사랑한다는', '말', '해줘'],\n",
       " ['깨지', '않게', '해줘'],\n",
       " ['단', '한마디만', '해줘'],\n",
       " ['모금만', '마시게', '해줘'],\n",
       " ['말하지', '못하게', '해줘'],\n",
       " ['사랑한다', '고백하게', '해줘'],\n",
       " ['고백', '하게', '해줘'],\n",
       " ['그대를', '찬미하게만', '해줘'],\n",
       " ['널', '느끼게', '해줘'],\n",
       " ['yes', '그말만', '해줘'],\n",
       " ['때', '웃으며', '해줘'],\n",
       " ['모르겠어', '말을', '해줘'],\n",
       " ['좀', '쉬게', '해줘'],\n",
       " ['널', '보내게', '해줘'],\n",
       " ['날', '웃게', '해줘'],\n",
       " ['나와', '함께', '해줘'],\n",
       " ['언제까지나', '함께', '해줘'],\n",
       " ['곁에', '있기만', '해줘'],\n",
       " ['Kiss', '를', '해줘'],\n",
       " ['체온이', '느끼게', '해줘'],\n",
       " ['숨', '쉬게', '해줘'],\n",
       " ['모른', '척', '해줘'],\n",
       " ['시작해', '그렇게', '해줘'],\n",
       " ['잠시만', '있게', '해줘'],\n",
       " ['뭐라고', '좀', '해줘'],\n",
       " ['그만', '좀', '해줘'],\n",
       " ['에', '키스를', '해줘'],\n",
       " ['내게', '말이라도', '해줘'],\n",
       " ['빌려줄게', '말을', '해줘'],\n",
       " ['말', '좀', '해줘'],\n",
       " ['내게', '한마디', '해줘'],\n",
       " ['날보다', '사랑한다고', '해줘'],\n",
       " ['한', '통', '해줘'],\n",
       " ['다시', '숨쉬게', '해줘'],\n",
       " ['너', '말을', '해줘'],\n",
       " ['Back', 'hug', '해줘'],\n",
       " ['날', '설레게', '해줘'],\n",
       " ['밥', '먹게', '해줘'],\n",
       " ['어디든지', '보이게', '해줘'],\n",
       " ['안', '된다', '해줘'],\n",
       " ['비워보며', '잊게', '해줘'],\n",
       " ['품에서', '안게', '해줘'],\n",
       " ['곁에만', '있게', '해줘'],\n",
       " ['이곳에', '살게', '해줘'],\n",
       " ['어서', '내게', '해줘'],\n",
       " ['그저', '빛나기만', '해줘'],\n",
       " ['새겨가', '말을', '해줘'],\n",
       " ['계속', '계속', '해줘'],\n",
       " ['곁에', '함께', '해줘'],\n",
       " ['짓이라도', '계속', '해줘'],\n",
       " ['위해', 'Keep', '해줘'],\n",
       " ['안에', '있게', '해줘'],\n",
       " ['벌을', '받게', '해줘'],\n",
       " ['차라리', '헤어지자고', '해줘'],\n",
       " ['사랑이', '아니었다고', '해줘'],\n",
       " ['더', '뛰게', '해줘'],\n",
       " ['날', '숨쉬게', '해줘'],\n",
       " ['전화', '좀', '해줘'],\n",
       " ['우쭈쭈', '그랬쪄', '해줘'],\n",
       " ['내가', '질렸다고', '해줘'],\n",
       " ['만큼', '보답을', '해줘'],\n",
       " ['솔직하게', '해', '해줘'],\n",
       " ['hey', '준비들', '해줘'],\n",
       " ['말이라도', '내게', '해줘'],\n",
       " ['차라리', '거짓말', '해줘'],\n",
       " ['죽었어', '오늘은', '해줘'],\n",
       " ['어떻게', '좀', '해줘'],\n",
       " ['와', '보게', '해줘'],\n",
       " ['부서지도록', '타이트하게', '해줘'],\n",
       " ['걸', '타이트하게', '해줘'],\n",
       " ['마시고', '잠들게', '해줘'],\n",
       " ['너를', '마시게', '해줘'],\n",
       " ['너로', '적시게', '해줘'],\n",
       " ['눈을', '뜨게', '해줘'],\n",
       " ['널', '만지게', '해줘'],\n",
       " ['심장을', '간직', '해줘'],\n",
       " ['품에', '안기게', '해줘'],\n",
       " ['날', '살게', '해줘'],\n",
       " ['곁에', '있게', '해줘'],\n",
       " ['다방에서', '데이트', '해줘'],\n",
       " ['위해', '노래하게', '해줘'],\n",
       " ['널', '비치게', '해줘'],\n",
       " ['다', '잊게', '해줘'],\n",
       " ['깊게', '잠수하게', '해줘'],\n",
       " ['제발', '아니라고', '해줘'],\n",
       " ['love', '함께', '해줘'],\n",
       " ['너가', '되게', '해줘'],\n",
       " ['사랑한단', '말을', '해줘'],\n",
       " ['곁에', '머물게', '해줘'],\n",
       " ['내가', '맞다고', '해줘'],\n",
       " ['맘', '잔잔하게', '해줘'],\n",
       " ['다', '끝났다', '해줘'],\n",
       " ['심장을', '뛰게', '해줘'],\n",
       " ['커플들도', '외롭게', '해줘'],\n",
       " ['분위기', '말이라도', '해줘'],\n",
       " ['데려다', '머물게', '해줘'],\n",
       " ['들은', '척', '해줘'],\n",
       " ['잘', '지내기만', '해줘'],\n",
       " ['감정', 'Keeping', '해줘'],\n",
       " ['뭐라고', '말을', '해줘'],\n",
       " ['말고', '말을', '해줘'],\n",
       " ['나를', '날게', '해줘'],\n",
       " ['천국을', '안게', '해줘'],\n",
       " ['품에', '안게', '해줘'],\n",
       " ['게', '말만', '해줘'],\n",
       " ['깊은', '표현을', '해줘']]"
      ]
     },
     "execution_count": 263,
     "metadata": {},
     "output_type": "execute_result"
    }
   ],
   "source": [
    "unique(before_word(male_t, '해줘'))"
   ]
  },
  {
   "cell_type": "code",
   "execution_count": 34,
   "metadata": {},
   "outputs": [],
   "source": [
    "yo = end_of_word(female_t, r\".{1,4}요$\")"
   ]
  },
  {
   "cell_type": "code",
   "execution_count": 35,
   "metadata": {},
   "outputs": [
    {
     "data": {
      "text/plain": [
       "[('말아요', 198),\n",
       " ('봐요', 190),\n",
       " ('필요', 180),\n",
       " ('마요', 169),\n",
       " ('사랑해요', 150),\n",
       " ('있어요', 137),\n",
       " ('해요', 129),\n",
       " ('와요', 126),\n",
       " ('몰라요', 122),\n",
       " ('없어요', 114),\n",
       " ('있나요', 107),\n",
       " ('좋아요', 104),\n",
       " ('줘요', 101),\n",
       " ('싶어요', 90),\n",
       " ('않아요', 90),\n",
       " ('안아줘요', 84),\n",
       " ('해봐요', 80),\n",
       " ('주세요', 79),\n",
       " ('없나요', 73),\n",
       " ('말해줘요', 71)]"
      ]
     },
     "execution_count": 35,
     "metadata": {},
     "output_type": "execute_result"
    }
   ],
   "source": [
    "yo"
   ]
  },
  {
   "cell_type": "code",
   "execution_count": 53,
   "metadata": {},
   "outputs": [],
   "source": [
    "# 정규표현식을 이용하여 어떤 어미가 쓰였는지 알아보는 함수\n",
    "\n",
    "r = re.compile(r\".{1,4}요$\")\n",
    "result = list(filter(r.match, female_t))"
   ]
  },
  {
   "cell_type": "code",
   "execution_count": 54,
   "metadata": {},
   "outputs": [
    {
     "data": {
      "text/plain": [
       "['느껴져요',\n",
       " '없나요',\n",
       " '들어줘요',\n",
       " '싶어요',\n",
       " '괜찮아요',\n",
       " '괜찮아요',\n",
       " '느껴져요',\n",
       " '들어줘요',\n",
       " '싶어요',\n",
       " '괜찮아요',\n",
       " '괜찮아요',\n",
       " '떠나가나요',\n",
       " '있었나요',\n",
       " '말해줘요',\n",
       " '건가요',\n",
       " '없나요',\n",
       " '줘요',\n",
       " '있어줘요',\n",
       " '싫어요',\n",
       " '말아줘요',\n",
       " '있어요',\n",
       " '사랑해요',\n",
       " '사랑해요',\n",
       " '없네요',\n",
       " '필요',\n",
       " '필요',\n",
       " '필요',\n",
       " '말아요',\n",
       " '모를래요',\n",
       " '살래요',\n",
       " '아니었나요',\n",
       " '사랑해요',\n",
       " '헤어져요',\n",
       " '들리나요',\n",
       " '잊어요',\n",
       " '지울까요',\n",
       " '닦아요',\n",
       " '안되나봐요',\n",
       " '사랑해요',\n",
       " '헤어져요',\n",
       " '들리나요',\n",
       " '잊어요',\n",
       " '지울까요',\n",
       " '미안해요',\n",
       " '못해요',\n",
       " '원해요',\n",
       " '없어요',\n",
       " '중요',\n",
       " '있어요',\n",
       " '없어요',\n",
       " '있네요',\n",
       " '슬퍼져요',\n",
       " '없어요',\n",
       " '원하잖아요',\n",
       " '느끼나요',\n",
       " '있어요',\n",
       " '없어요',\n",
       " '있어요',\n",
       " '없어요',\n",
       " '없어요',\n",
       " '다가갈래요',\n",
       " '얘기할래요',\n",
       " '다가갈래요',\n",
       " '얘기할래요',\n",
       " '가나요',\n",
       " '필요해요',\n",
       " '안아줘요',\n",
       " '안아줘요',\n",
       " '안아줘요',\n",
       " '안아줘요',\n",
       " '안아줘요',\n",
       " '들리나요',\n",
       " '들리나요',\n",
       " '다가와줘요',\n",
       " '줘요',\n",
       " '줘요',\n",
       " '께요',\n",
       " '잊지마요',\n",
       " '안아줘요',\n",
       " '잊지마요',\n",
       " '안아줘요',\n",
       " '잊지마요',\n",
       " '안아줘요',\n",
       " '고백해요',\n",
       " '고백해요',\n",
       " '기회예요',\n",
       " '고백해요',\n",
       " '말을해요',\n",
       " '고백해줘요',\n",
       " '고백해요',\n",
       " '고백해요',\n",
       " '기회예요',\n",
       " '돼요',\n",
       " '고백해요',\n",
       " '고백해요',\n",
       " '기회예요',\n",
       " '빛나요',\n",
       " '안아줄래요',\n",
       " '말해요',\n",
       " '말해요',\n",
       " '줄께요',\n",
       " '싶어요',\n",
       " '할께요',\n",
       " '들어요',\n",
       " '참아봐요',\n",
       " '기다려요',\n",
       " '들려요',\n",
       " '줘요',\n",
       " '이예요',\n",
       " '다가와요',\n",
       " '다가와요',\n",
       " '싶어요',\n",
       " '말해요',\n",
       " '말해요',\n",
       " '줄께요',\n",
       " '굴지마요',\n",
       " '마요',\n",
       " '다가와요',\n",
       " '몰라요',\n",
       " '놀라요',\n",
       " '건가요',\n",
       " '쓰러져요',\n",
       " '해요',\n",
       " '말해줘요',\n",
       " '말해줘요',\n",
       " '말해줘요',\n",
       " '떠나요',\n",
       " '말해줘요',\n",
       " '말해줘요',\n",
       " '말해줘요',\n",
       " '말해줘요',\n",
       " '말해줘요',\n",
       " '말해줘요',\n",
       " '말해줘요',\n",
       " '말해줘요',\n",
       " '말해줘요',\n",
       " '말해줘요',\n",
       " '말해줘요',\n",
       " '말아요',\n",
       " '떠나요',\n",
       " '말해줘요',\n",
       " '말해줘요',\n",
       " '말해줘요',\n",
       " '할래요',\n",
       " '말해줘요',\n",
       " '말해줘요',\n",
       " '불어요',\n",
       " '드나요',\n",
       " '불어요',\n",
       " '불어요',\n",
       " '드나요',\n",
       " '불어요',\n",
       " '불어요',\n",
       " '드나요',\n",
       " '불어요',\n",
       " '비켜나세요',\n",
       " '비켜나세요',\n",
       " '깨워줘요',\n",
       " '따라와요',\n",
       " '춰요',\n",
       " '따라와요',\n",
       " '춰요',\n",
       " '따라와요',\n",
       " '춰요',\n",
       " '해요',\n",
       " '가져요',\n",
       " '있네요',\n",
       " '들어요',\n",
       " '봐요',\n",
       " '있네요',\n",
       " '들어요',\n",
       " '마요',\n",
       " '바다예요',\n",
       " '느껴보세요',\n",
       " '사랑해요',\n",
       " '보세요',\n",
       " '있네요',\n",
       " '데려다줘요',\n",
       " '나요',\n",
       " '걸요',\n",
       " '웃네요',\n",
       " '데려다줘요',\n",
       " '함께해요',\n",
       " '둘게요',\n",
       " '상관없어요',\n",
       " '안돼요',\n",
       " '자랐어요',\n",
       " '걸어와줘요',\n",
       " '나요',\n",
       " '보여요',\n",
       " '힘들어요',\n",
       " '나요',\n",
       " '와줘요',\n",
       " '와줘요',\n",
       " '나요',\n",
       " '나빠요',\n",
       " '아파요',\n",
       " '떨려요',\n",
       " '좋아해요',\n",
       " '같아요',\n",
       " '사랑해요',\n",
       " '필요',\n",
       " '마요',\n",
       " '마요',\n",
       " '마요',\n",
       " '괜찮아요',\n",
       " '그래요',\n",
       " '웃어요',\n",
       " '웃어요',\n",
       " '웃어요',\n",
       " '해줘요',\n",
       " '해줘요',\n",
       " '잠설쳐요',\n",
       " '필요',\n",
       " '봐요',\n",
       " '거닐어요',\n",
       " '봐요',\n",
       " '없는데요',\n",
       " '그래요',\n",
       " '봐요',\n",
       " '봐요',\n",
       " '필요',\n",
       " '거예요',\n",
       " '거예요',\n",
       " '필요',\n",
       " '필요',\n",
       " '필요',\n",
       " '필요',\n",
       " '할까요',\n",
       " '할까요',\n",
       " '줘요',\n",
       " '와요',\n",
       " '싫어요',\n",
       " '날이에요',\n",
       " '아나요',\n",
       " '알아요',\n",
       " '와요',\n",
       " '싫어요',\n",
       " '날이에요',\n",
       " '상상해요',\n",
       " '와요',\n",
       " '싫어요',\n",
       " '날이에요',\n",
       " '와요',\n",
       " '싫어요',\n",
       " '날이에요',\n",
       " '처음이에요',\n",
       " '처음이에요',\n",
       " '건가요',\n",
       " '건가요',\n",
       " '알아요',\n",
       " '필요',\n",
       " '믿어줄게요',\n",
       " '되어요',\n",
       " '돼줘요',\n",
       " '비춰줘요',\n",
       " '아나요',\n",
       " '비춰요',\n",
       " '믿어줄게요',\n",
       " '되어요',\n",
       " '있나요',\n",
       " '않나요',\n",
       " '않나요',\n",
       " '되어요',\n",
       " '되어요',\n",
       " '들었어요',\n",
       " '고마워요',\n",
       " '반가워요',\n",
       " '고마워요',\n",
       " '약속해줘요',\n",
       " '반가워요',\n",
       " '고마워요',\n",
       " '볼래요',\n",
       " '아나요',\n",
       " '보아요',\n",
       " '잡아요',\n",
       " '보아요',\n",
       " '잡아요',\n",
       " '않아요',\n",
       " '어색해요',\n",
       " '부족해요',\n",
       " '아껴줬어요',\n",
       " '행복한가요',\n",
       " '기다렸나요',\n",
       " '걸어가요',\n",
       " '봐요',\n",
       " '땐요',\n",
       " '잡아줘요',\n",
       " '있어요',\n",
       " '함께해요',\n",
       " '전에는요',\n",
       " '좋은걸요',\n",
       " '있어줘요',\n",
       " '약속해요',\n",
       " '행복한가요',\n",
       " '기다렸나요',\n",
       " '걸어가요',\n",
       " '웃어봐요',\n",
       " '땐요',\n",
       " '잡아줘요',\n",
       " '있어요',\n",
       " '함께해요',\n",
       " '걸어가요',\n",
       " '웃어봐요',\n",
       " '땐요',\n",
       " '잡아줘요',\n",
       " '있어요',\n",
       " '함께해요',\n",
       " '행복해요',\n",
       " '고마워요',\n",
       " '미안해요',\n",
       " '사랑해요',\n",
       " '따라줘요',\n",
       " '계신가요',\n",
       " '갔나요',\n",
       " '갔나요',\n",
       " '갔나요',\n",
       " '없네요',\n",
       " '말아요',\n",
       " '않아요',\n",
       " '바라봐요',\n",
       " '밝혀요',\n",
       " '바라봐요',\n",
       " '밝혀요',\n",
       " '돼요',\n",
       " '약해져요',\n",
       " '건가요',\n",
       " '말아요',\n",
       " '말아요',\n",
       " '안다구요',\n",
       " '필요해요',\n",
       " '아이라구요',\n",
       " '마요',\n",
       " '돼요',\n",
       " '적셔줘요',\n",
       " '봐요',\n",
       " '말아요',\n",
       " '가요',\n",
       " '이봐요',\n",
       " '봐요',\n",
       " '보지말아요',\n",
       " '어딜가요',\n",
       " '이봐요',\n",
       " '여길봐요',\n",
       " '말아요',\n",
       " '가요',\n",
       " '이봐요',\n",
       " '되요',\n",
       " '몰라요',\n",
       " '중독돼요',\n",
       " '줄게요',\n",
       " '알아갈래요',\n",
       " '않을래요',\n",
       " '사랑해요',\n",
       " '안돼요',\n",
       " '봐요',\n",
       " '채워줘요',\n",
       " '채워줘요',\n",
       " '있나요',\n",
       " '잡아줘요',\n",
       " '말할래요',\n",
       " '품인걸요',\n",
       " '보이네요',\n",
       " '않은걸요',\n",
       " '말할래요',\n",
       " '품인걸요',\n",
       " '보이네요',\n",
       " '품인걸요',\n",
       " '보이네요',\n",
       " '지켜봐요',\n",
       " '지켜봐요',\n",
       " '보나요',\n",
       " '않나요',\n",
       " '말해줘요',\n",
       " '거에요',\n",
       " '맞출게요',\n",
       " '봐요',\n",
       " '걸까요',\n",
       " '걸까요',\n",
       " '봐요',\n",
       " '있잖아요',\n",
       " '마요',\n",
       " '없네요',\n",
       " '떠나가나요',\n",
       " '건가요',\n",
       " '어떡해요',\n",
       " '있을까요',\n",
       " '없을까요',\n",
       " '없네요',\n",
       " '채워줄래요',\n",
       " '솔직해져요',\n",
       " '꺼내줘요',\n",
       " '좋아요',\n",
       " '할래요',\n",
       " '좋아요',\n",
       " '다가갈래요',\n",
       " '몰라요',\n",
       " '몰라요',\n",
       " '그래요',\n",
       " '좋아요',\n",
       " '봐요',\n",
       " '몰라요',\n",
       " '봐요',\n",
       " '걸요',\n",
       " '걸요',\n",
       " '걸요',\n",
       " '어딘가요',\n",
       " '없나요',\n",
       " '어딘가요',\n",
       " '대답해줘요',\n",
       " '누군가요',\n",
       " '봐요',\n",
       " '됐어요',\n",
       " '있어줘요',\n",
       " '나만봐요',\n",
       " '됐어요',\n",
       " '있어줘요',\n",
       " '말아요',\n",
       " '말아요',\n",
       " '말아요',\n",
       " '바랄게요',\n",
       " '기억나요',\n",
       " '바랄게요',\n",
       " '감사해요',\n",
       " '감사해요',\n",
       " '감사해요',\n",
       " '가려주네요',\n",
       " '좋아요',\n",
       " '죽겠어요',\n",
       " '필요',\n",
       " '잘해요',\n",
       " '좋아요',\n",
       " '죽겠어요',\n",
       " '좋아요',\n",
       " '죽겠어요',\n",
       " '느끼나요',\n",
       " '들리나요',\n",
       " '느끼나요',\n",
       " '들리나요',\n",
       " '잊어가나요',\n",
       " '지워가나요',\n",
       " '들리나요',\n",
       " '않아요',\n",
       " '알려주세요',\n",
       " '않아요',\n",
       " '비춰주세요',\n",
       " '않아요',\n",
       " '않아요',\n",
       " '알려주세요',\n",
       " '않아요',\n",
       " '비춰주세요',\n",
       " '않아요',\n",
       " '알려주세요',\n",
       " '않아요',\n",
       " '비춰주세요',\n",
       " '다가와요',\n",
       " '세울까요',\n",
       " '해요',\n",
       " '안아줄래요',\n",
       " '되어줄래요',\n",
       " '줄게요',\n",
       " '마요',\n",
       " '기다려줘요',\n",
       " '안아줄래요',\n",
       " '되어줄래요',\n",
       " '마요',\n",
       " '마요',\n",
       " '안아줄래요',\n",
       " '되어줄래요',\n",
       " '지워줘요',\n",
       " '돌려줘요',\n",
       " '필요',\n",
       " '녹여주네요',\n",
       " '될까요',\n",
       " '싶어요',\n",
       " '않아요',\n",
       " '낼래요',\n",
       " '잡아줘요',\n",
       " '내디뎌요',\n",
       " '될까요',\n",
       " '싶어요',\n",
       " '않아요',\n",
       " '낼래요',\n",
       " '잡아줘요',\n",
       " '있어요',\n",
       " '있어요',\n",
       " '말아요',\n",
       " '고마워요',\n",
       " '저기요',\n",
       " '충분해요',\n",
       " '걸요',\n",
       " '춰요',\n",
       " '걸요',\n",
       " '걸요',\n",
       " '이뻐졌대요',\n",
       " '그래요',\n",
       " '봐요',\n",
       " '있었거든요',\n",
       " '좋겠어요',\n",
       " '싶어요',\n",
       " '멋져요',\n",
       " '있어요',\n",
       " '있어요',\n",
       " '좋겠어요',\n",
       " '싶어요',\n",
       " '멋져요',\n",
       " '있어요',\n",
       " '있어요',\n",
       " '봤어요',\n",
       " '멋져요',\n",
       " '있어요',\n",
       " '있어요',\n",
       " '있어요',\n",
       " '있나요',\n",
       " '있나요',\n",
       " '그랬었나요',\n",
       " '해봐요',\n",
       " '간직해요',\n",
       " '말아요',\n",
       " '간직해요',\n",
       " '말아줘요',\n",
       " '아프니까요',\n",
       " '있나요',\n",
       " '있나요',\n",
       " '했었나요',\n",
       " '그랬었나요',\n",
       " '해봐요',\n",
       " '간직해요',\n",
       " '말아요',\n",
       " '간직해요',\n",
       " '말아줘요',\n",
       " '아프니까요',\n",
       " '간직해요',\n",
       " '말아요',\n",
       " '간직해요',\n",
       " '말아줘요',\n",
       " '아프니까요',\n",
       " '믿어요',\n",
       " '믿어요',\n",
       " '마음인걸요',\n",
       " '볼게요',\n",
       " '할게요',\n",
       " '느끼나요',\n",
       " '믿어요',\n",
       " '믿어요',\n",
       " '마음인걸요',\n",
       " '볼게요',\n",
       " '약속할게요',\n",
       " '보내요',\n",
       " '나요',\n",
       " '있어요',\n",
       " '잡아요',\n",
       " '있나요',\n",
       " '있나요',\n",
       " '느끼나요',\n",
       " '사랑해요',\n",
       " '사랑해요',\n",
       " '사랑해요',\n",
       " '사랑해요',\n",
       " '맴돌아요',\n",
       " '불어와요',\n",
       " '좋아요',\n",
       " '깨끗해요',\n",
       " '그래요',\n",
       " '않을래요',\n",
       " '불러요',\n",
       " '않아요',\n",
       " '왔네요',\n",
       " '괜찮아요',\n",
       " '않을래요',\n",
       " '꿔요',\n",
       " '들어요',\n",
       " '믿어요',\n",
       " '마요',\n",
       " '없잖아요',\n",
       " '마요',\n",
       " '없잖아요',\n",
       " '말아요',\n",
       " '떠나요',\n",
       " '춰요',\n",
       " '말이에요',\n",
       " '그대가요',\n",
       " '걸요',\n",
       " '걸요',\n",
       " '차려요',\n",
       " '잊으래요',\n",
       " '안돼요',\n",
       " '필래요',\n",
       " '걸요',\n",
       " '차려요',\n",
       " '있나요',\n",
       " '있나요',\n",
       " '이건가요',\n",
       " '돌아와요',\n",
       " '꾸었나요',\n",
       " '겨웠나요',\n",
       " '지워요',\n",
       " '찾아올게요',\n",
       " '지워요',\n",
       " '찾아올게요',\n",
       " '거둘게요',\n",
       " '멈출게요',\n",
       " '돌려요',\n",
       " '둘게요',\n",
       " '알아요',\n",
       " '걸요',\n",
       " '반짝거려요',\n",
       " '싫어요',\n",
       " '해줘요',\n",
       " '반짝거려요',\n",
       " '못해요',\n",
       " '있어요',\n",
       " '있어요',\n",
       " '예뻐요',\n",
       " '예뻐요',\n",
       " '예뻐요',\n",
       " '예쁘네요',\n",
       " '예뻐요',\n",
       " '예뻐요',\n",
       " '예뻐요',\n",
       " '예쁘네요',\n",
       " '예뻐요',\n",
       " '예뻐요',\n",
       " '예뻐요',\n",
       " '예쁘네요',\n",
       " '예뻐요',\n",
       " '예뻐요',\n",
       " '예뻐요',\n",
       " '예뻐요',\n",
       " '예뻐요',\n",
       " '예쁘네요',\n",
       " '예뻐요',\n",
       " '예뻐요',\n",
       " '예뻐요',\n",
       " '예쁘네요',\n",
       " '예뻐요',\n",
       " '예뻐요',\n",
       " '예뻐요',\n",
       " '예쁘네요',\n",
       " '예뻐요',\n",
       " '예뻐요',\n",
       " '예뻐요',\n",
       " '예뻐요',\n",
       " '예뻐요',\n",
       " '예쁘네요',\n",
       " '예뻐요',\n",
       " '예뻐요',\n",
       " '예뻐요',\n",
       " '예쁘네요',\n",
       " '예뻐요',\n",
       " '예뻐요',\n",
       " '예뻐요',\n",
       " '예쁘네요',\n",
       " '예뻐요',\n",
       " '예뻐요',\n",
       " '날아갈래요',\n",
       " '보여요',\n",
       " '있나요',\n",
       " '갈래요',\n",
       " '보여요',\n",
       " '있나요',\n",
       " '있어요',\n",
       " '날아요',\n",
       " '힘들었나요',\n",
       " '보여요',\n",
       " '줄게요',\n",
       " '잡아줄게요',\n",
       " '내요',\n",
       " '지켜줄게요',\n",
       " '꿔요',\n",
       " '없나요',\n",
       " '먹어요',\n",
       " '그려요',\n",
       " '잡아줄게요',\n",
       " '내요',\n",
       " '지켜줄게요',\n",
       " '꿔요',\n",
       " '말아요',\n",
       " '그래요',\n",
       " '내요',\n",
       " '꿔요',\n",
       " '맴도나요',\n",
       " '똑같잖아요',\n",
       " '꾸나요',\n",
       " '없어요',\n",
       " '없나요',\n",
       " '잡아줘요',\n",
       " '말해봐요',\n",
       " '마요',\n",
       " '싶어요',\n",
       " '담아줘요',\n",
       " '잡아줘요',\n",
       " '봐요',\n",
       " '속삭여줘요',\n",
       " '잡아줘요',\n",
       " '안돼요',\n",
       " '안돼요',\n",
       " '마요',\n",
       " '나는요',\n",
       " '나는요',\n",
       " '걸요',\n",
       " '하네요',\n",
       " '알아요',\n",
       " '알아요',\n",
       " '그래요',\n",
       " '그래요',\n",
       " '남아있어요',\n",
       " '기다려요',\n",
       " '보이나요',\n",
       " '기억해요',\n",
       " '안돼요',\n",
       " '안돼요',\n",
       " '거예요',\n",
       " '돼요',\n",
       " '아나요',\n",
       " '아나요',\n",
       " '몰라요',\n",
       " '몰라요',\n",
       " '떠나갔나요',\n",
       " '기도해요',\n",
       " '있어요',\n",
       " '기다려요',\n",
       " '보이나요',\n",
       " '기억해요',\n",
       " '말아요',\n",
       " '말아요',\n",
       " '있어요',\n",
       " '조심해줘요',\n",
       " '말아요',\n",
       " '말아요',\n",
       " '돼요',\n",
       " '보내요',\n",
       " '드려요',\n",
       " '말아요',\n",
       " '말아요',\n",
       " '걸어요',\n",
       " '알아요',\n",
       " '보내요',\n",
       " '드려요',\n",
       " '보내요',\n",
       " '드려요',\n",
       " '보내요',\n",
       " '드려요',\n",
       " '보내요',\n",
       " '드려요',\n",
       " '아나요',\n",
       " '아나요',\n",
       " '드네요',\n",
       " '꾸네요',\n",
       " '아나요',\n",
       " '아나요',\n",
       " '알아요',\n",
       " '알아요',\n",
       " '알까요',\n",
       " '아파요',\n",
       " '알까요',\n",
       " '아파요',\n",
       " '싶은걸요',\n",
       " '알까요',\n",
       " '아파요',\n",
       " '보아요',\n",
       " '담아요',\n",
       " '인걸요',\n",
       " '않아요',\n",
       " '없는걸요',\n",
       " '인걸요',\n",
       " '않아요',\n",
       " '말아요',\n",
       " '있어요',\n",
       " '자리예요',\n",
       " '바라봐요',\n",
       " '있네요',\n",
       " '아나요',\n",
       " '알까요',\n",
       " '기억해요',\n",
       " '기억할까요',\n",
       " '기억해줘요',\n",
       " '마요',\n",
       " '알아요',\n",
       " '떠올려요',\n",
       " '기억할까요',\n",
       " '기억해줘요',\n",
       " '마요',\n",
       " '가요',\n",
       " '있을게요',\n",
       " '돌아와요',\n",
       " '있을게요',\n",
       " '생각해요',\n",
       " '기다렸어요',\n",
       " '와줘요',\n",
       " '기다릴게요',\n",
       " '기다릴래요',\n",
       " '저기요',\n",
       " '없나요',\n",
       " '저기요',\n",
       " '저기요',\n",
       " '저기요',\n",
       " '저기요',\n",
       " '저기요',\n",
       " '없나요',\n",
       " '나예요',\n",
       " '들려요',\n",
       " '있어요',\n",
       " '거예요',\n",
       " '몰라요',\n",
       " '어때요',\n",
       " '이상한가요',\n",
       " '와요',\n",
       " '번져요',\n",
       " '소심해져요',\n",
       " '어때요',\n",
       " '심각한가요',\n",
       " '와요',\n",
       " '번져요',\n",
       " '싫어요',\n",
       " '좋아요',\n",
       " '몰라요',\n",
       " '좋아요',\n",
       " '와요',\n",
       " '번져요',\n",
       " '저기요',\n",
       " '없나요',\n",
       " '나예요',\n",
       " '들려요',\n",
       " '있어요',\n",
       " '떨려와요',\n",
       " '안돼요',\n",
       " '겁이나요',\n",
       " '겁이나요',\n",
       " '해요',\n",
       " '들켜줄게요',\n",
       " '지켜봐요',\n",
       " '않을게요',\n",
       " '떨려와요',\n",
       " '안돼요',\n",
       " '겁이나요',\n",
       " '겁이나요',\n",
       " '해요',\n",
       " '들켜줄게요',\n",
       " '지켜봐요',\n",
       " '꿈꿔왔어요',\n",
       " '숨어있어요',\n",
       " '보여줄게요',\n",
       " '기다려줘요',\n",
       " '지켜봐요',\n",
       " '않을래요',\n",
       " '줘요',\n",
       " '춤춰요',\n",
       " '좋아요',\n",
       " '춤춰요',\n",
       " '줘요',\n",
       " '춤춰요',\n",
       " '좋아요',\n",
       " '춤춰요',\n",
       " '하네요',\n",
       " '때래요',\n",
       " '봤나요',\n",
       " '받나요',\n",
       " '낼게요',\n",
       " '떠나봐요',\n",
       " '내줘요',\n",
       " '낼게요',\n",
       " '떠나봐요',\n",
       " '내줘요',\n",
       " '들려줘요',\n",
       " '줘요',\n",
       " '줘요',\n",
       " '들려줘요',\n",
       " '줘요',\n",
       " '줘요',\n",
       " '말해줘요',\n",
       " '말해줘요',\n",
       " '말해줘요',\n",
       " '말해줘요',\n",
       " '말해줘요',\n",
       " '말해줘요',\n",
       " '말해줘요',\n",
       " '말해줘요',\n",
       " '말해줘요',\n",
       " '묻어있어요',\n",
       " '기울여줘요',\n",
       " '울었대요',\n",
       " '미웠대요',\n",
       " '지냈더래요',\n",
       " '이상해요',\n",
       " '아물어요',\n",
       " '머물러요',\n",
       " '어때요',\n",
       " '이상해요',\n",
       " '편한걸요',\n",
       " '웃어요',\n",
       " '머물러요',\n",
       " '녹아가요',\n",
       " '흘러가요',\n",
       " '사라져요',\n",
       " '지나가요',\n",
       " '머물러요',\n",
       " '척해줘요',\n",
       " '척해줘요',\n",
       " '줘요',\n",
       " '있나요',\n",
       " '않을게요',\n",
       " '걸어요',\n",
       " '번져요',\n",
       " '좋아해요',\n",
       " '좋아요',\n",
       " '좋아해요',\n",
       " '않을게요',\n",
       " '걸어요',\n",
       " '번져요',\n",
       " '좋아해요',\n",
       " '좋아요',\n",
       " '좋아해요',\n",
       " '볼게요',\n",
       " '바래요',\n",
       " '물들어가요',\n",
       " '번져요',\n",
       " '번져요',\n",
       " '좋아해요',\n",
       " '좋아요',\n",
       " '맞춰요',\n",
       " '줄래요',\n",
       " '번져요',\n",
       " '좋아해요',\n",
       " '머물러줘요',\n",
       " '빛나네요',\n",
       " '하나요',\n",
       " '반겨요',\n",
       " '꾸나요',\n",
       " '반겨요',\n",
       " '거예요',\n",
       " '있잖아요',\n",
       " '느껴지네요',\n",
       " '하네요',\n",
       " '줄래요',\n",
       " '말해줄게요',\n",
       " '해줘요',\n",
       " '반겨요',\n",
       " '거예요',\n",
       " '있잖아요',\n",
       " '주세요',\n",
       " '주세요',\n",
       " '어서요',\n",
       " '켜둘게요',\n",
       " '입맞춰줘요',\n",
       " '녹아요',\n",
       " '감아요',\n",
       " '처음이에요',\n",
       " '거에요',\n",
       " '가까워요',\n",
       " '않는걸요',\n",
       " '거에요',\n",
       " '봐요',\n",
       " '거에요',\n",
       " '거에요',\n",
       " '거에요',\n",
       " '꺼내요',\n",
       " '없나요',\n",
       " '어디인가요',\n",
       " '멈춰졌어요',\n",
       " '됐어요',\n",
       " '없나요',\n",
       " '어디인가요',\n",
       " '지나요',\n",
       " '마요',\n",
       " '없나요',\n",
       " '어디인가요',\n",
       " '봐요',\n",
       " '해요',\n",
       " '해요',\n",
       " '전화했게요',\n",
       " '봐요',\n",
       " '더워져요',\n",
       " '빌어봐요',\n",
       " '빌어봐요',\n",
       " '피어나요',\n",
       " '마요',\n",
       " '했어요',\n",
       " '해요',\n",
       " '고백해요',\n",
       " '두려울까요',\n",
       " '비쳐요',\n",
       " '해요',\n",
       " '고백해요',\n",
       " '싶어요',\n",
       " '거에요',\n",
       " '두려울까요',\n",
       " '말아요',\n",
       " '안아요',\n",
       " '두려울까요',\n",
       " '둘게요',\n",
       " '걸어요',\n",
       " '생각하나요',\n",
       " '떠올리나요',\n",
       " '웃나요',\n",
       " '말해줘요',\n",
       " '처음인가요',\n",
       " '나만큼요',\n",
       " '싶어요',\n",
       " '바보처럼요',\n",
       " ...]"
      ]
     },
     "execution_count": 54,
     "metadata": {},
     "output_type": "execute_result"
    }
   ],
   "source": [
    "result"
   ]
  },
  {
   "cell_type": "code",
   "execution_count": 55,
   "metadata": {},
   "outputs": [
    {
     "data": {
      "text/plain": [
       "\"['느껴져요', '없나요', '들어줘요', '싶어요', '괜찮아요', '괜찮아요', '느껴져요', '들어줘요', '싶어요', '괜찮아요', '괜찮아요', '떠나가나요', '있었나요', '말해줘요', '건가요', '없나요', '줘요', '있어줘요', '싫어요', '말아줘요', '있어요', '사랑해요', '사랑해요', '없네요', '필요', '필요', '필요', '말아요', '모를래요', '살래요', '아니었나요', '사랑해요', '헤어져요', '들리나요', '잊어요', '지울까요', '닦아요', '안되나봐요', '사랑해요', '헤어져요', '들리나요', '잊어요', '지울까요', '미안해요', '못해요', '원해요', '없어요', '중요', '있어요', '없어요', '있네요', '슬퍼져요', '없어요', '원하잖아요', '느끼나요', '있어요', '없어요', '있어요', '없어요', '없어요', '다가갈래요', '얘기할래요', '다가갈래요', '얘기할래요', '가나요', '필요해요', '안아줘요', '안아줘요', '안아줘요', '안아줘요', '안아줘요', '들리나요', '들리나요', '다가와줘요', '줘요', '줘요', '께요', '잊지마요', '안아줘요', '잊지마요', '안아줘요', '잊지마요', '안아줘요', '고백해요', '고백해요', '기회예요', '고백해요', '말을해요', '고백해줘요', '고백해요', '고백해요', '기회예요', '돼요', '고백해요', '고백해요', '기회예요', '빛나요', '안아줄래요', '말해요', '말해요', '줄께요', '싶어요', '할께요', '들어요', '참아봐요', '기다려요', '들려요', '줘요', '이예요', '다가와요', '다가와요', '싶어요', '말해요', '말해요', '줄께요', '굴지마요', '마요', '다가와요', '몰라요', '놀라요', '건가요', '쓰러져요', '해요', '말해줘요', '말해줘요', '말해줘요', '떠나요', '말해줘요', '말해줘요', '말해줘요', '말해줘요', '말해줘요', '말해줘요', '말해줘요', '말해줘요', '말해줘요', '말해줘요', '말해줘요', '말아요', '떠나요', '말해줘요', '말해줘요', '말해줘요', '할래요', '말해줘요', '말해줘요', '불어요', '드나요', '불어요', '불어요', '드나요', '불어요', '불어요', '드나요', '불어요', '비켜나세요', '비켜나세요', '깨워줘요', '따라와요', '춰요', '따라와요', '춰요', '따라와요', '춰요', '해요', '가져요', '있네요', '들어요', '봐요', '있네요', '들어요', '마요', '바다예요', '느껴보세요', '사랑해요', '보세요', '있네요', '데려다줘요', '나요', '걸요', '웃네요', '데려다줘요', '함께해요', '둘게요', '상관없어요', '안돼요', '자랐어요', '걸어와줘요', '나요', '보여요', '힘들어요', '나요', '와줘요', '와줘요', '나요', '나빠요', '아파요', '떨려요', '좋아해요', '같아요', '사랑해요', '필요', '마요', '마요', '마요', '괜찮아요', '그래요', '웃어요', '웃어요', '웃어요', '해줘요', '해줘요', '잠설쳐요', '필요', '봐요', '거닐어요', '봐요', '없는데요', '그래요', '봐요', '봐요', '필요', '거예요', '거예요', '필요', '필요', '필요', '필요', '할까요', '할까요', '줘요', '와요', '싫어요', '날이에요', '아나요', '알아요', '와요', '싫어요', '날이에요', '상상해요', '와요', '싫어요', '날이에요', '와요', '싫어요', '날이에요', '처음이에요', '처음이에요', '건가요', '건가요', '알아요', '필요', '믿어줄게요', '되어요', '돼줘요', '비춰줘요', '아나요', '비춰요', '믿어줄게요', '되어요', '있나요', '않나요', '않나요', '되어요', '되어요', '들었어요', '고마워요', '반가워요', '고마워요', '약속해줘요', '반가워요', '고마워요', '볼래요', '아나요', '보아요', '잡아요', '보아요', '잡아요', '않아요', '어색해요', '부족해요', '아껴줬어요', '행복한가요', '기다렸나요', '걸어가요', '봐요', '땐요', '잡아줘요', '있어요', '함께해요', '전에는요', '좋은걸요', '있어줘요', '약속해요', '행복한가요', '기다렸나요', '걸어가요', '웃어봐요', '땐요', '잡아줘요', '있어요', '함께해요', '걸어가요', '웃어봐요', '땐요', '잡아줘요', '있어요', '함께해요', '행복해요', '고마워요', '미안해요', '사랑해요', '따라줘요', '계신가요', '갔나요', '갔나요', '갔나요', '없네요', '말아요', '않아요', '바라봐요', '밝혀요', '바라봐요', '밝혀요', '돼요', '약해져요', '건가요', '말아요', '말아요', '안다구요', '필요해요', '아이라구요', '마요', '돼요', '적셔줘요', '봐요', '말아요', '가요', '이봐요', '봐요', '보지말아요', '어딜가요', '이봐요', '여길봐요', '말아요', '가요', '이봐요', '되요', '몰라요', '중독돼요', '줄게요', '알아갈래요', '않을래요', '사랑해요', '안돼요', '봐요', '채워줘요', '채워줘요', '있나요', '잡아줘요', '말할래요', '품인걸요', '보이네요', '않은걸요', '말할래요', '품인걸요', '보이네요', '품인걸요', '보이네요', '지켜봐요', '지켜봐요', '보나요', '않나요', '말해줘요', '거에요', '맞출게요', '봐요', '걸까요', '걸까요', '봐요', '있잖아요', '마요', '없네요', '떠나가나요', '건가요', '어떡해요', '있을까요', '없을까요', '없네요', '채워줄래요', '솔직해져요', '꺼내줘요', '좋아요', '할래요', '좋아요', '다가갈래요', '몰라요', '몰라요', '그래요', '좋아요', '봐요', '몰라요', '봐요', '걸요', '걸요', '걸요', '어딘가요', '없나요', '어딘가요', '대답해줘요', '누군가요', '봐요', '됐어요', '있어줘요', '나만봐요', '됐어요', '있어줘요', '말아요', '말아요', '말아요', '바랄게요', '기억나요', '바랄게요', '감사해요', '감사해요', '감사해요', '가려주네요', '좋아요', '죽겠어요', '필요', '잘해요', '좋아요', '죽겠어요', '좋아요', '죽겠어요', '느끼나요', '들리나요', '느끼나요', '들리나요', '잊어가나요', '지워가나요', '들리나요', '않아요', '알려주세요', '않아요', '비춰주세요', '않아요', '않아요', '알려주세요', '않아요', '비춰주세요', '않아요', '알려주세요', '않아요', '비춰주세요', '다가와요', '세울까요', '해요', '안아줄래요', '되어줄래요', '줄게요', '마요', '기다려줘요', '안아줄래요', '되어줄래요', '마요', '마요', '안아줄래요', '되어줄래요', '지워줘요', '돌려줘요', '필요', '녹여주네요', '될까요', '싶어요', '않아요', '낼래요', '잡아줘요', '내디뎌요', '될까요', '싶어요', '않아요', '낼래요', '잡아줘요', '있어요', '있어요', '말아요', '고마워요', '저기요', '충분해요', '걸요', '춰요', '걸요', '걸요', '이뻐졌대요', '그래요', '봐요', '있었거든요', '좋겠어요', '싶어요', '멋져요', '있어요', '있어요', '좋겠어요', '싶어요', '멋져요', '있어요', '있어요', '봤어요', '멋져요', '있어요', '있어요', '있어요', '있나요', '있나요', '그랬었나요', '해봐요', '간직해요', '말아요', '간직해요', '말아줘요', '아프니까요', '있나요', '있나요', '했었나요', '그랬었나요', '해봐요', '간직해요', '말아요', '간직해요', '말아줘요', '아프니까요', '간직해요', '말아요', '간직해요', '말아줘요', '아프니까요', '믿어요', '믿어요', '마음인걸요', '볼게요', '할게요', '느끼나요', '믿어요', '믿어요', '마음인걸요', '볼게요', '약속할게요', '보내요', '나요', '있어요', '잡아요', '있나요', '있나요', '느끼나요', '사랑해요', '사랑해요', '사랑해요', '사랑해요', '맴돌아요', '불어와요', '좋아요', '깨끗해요', '그래요', '않을래요', '불러요', '않아요', '왔네요', '괜찮아요', '않을래요', '꿔요', '들어요', '믿어요', '마요', '없잖아요', '마요', '없잖아요', '말아요', '떠나요', '춰요', '말이에요', '그대가요', '걸요', '걸요', '차려요', '잊으래요', '안돼요', '필래요', '걸요', '차려요', '있나요', '있나요', '이건가요', '돌아와요', '꾸었나요', '겨웠나요', '지워요', '찾아올게요', '지워요', '찾아올게요', '거둘게요', '멈출게요', '돌려요', '둘게요', '알아요', '걸요', '반짝거려요', '싫어요', '해줘요', '반짝거려요', '못해요', '있어요', '있어요', '예뻐요', '예뻐요', '예뻐요', '예쁘네요', '예뻐요', '예뻐요', '예뻐요', '예쁘네요', '예뻐요', '예뻐요', '예뻐요', '예쁘네요', '예뻐요', '예뻐요', '예뻐요', '예뻐요', '예뻐요', '예쁘네요', '예뻐요', '예뻐요', '예뻐요', '예쁘네요', '예뻐요', '예뻐요', '예뻐요', '예쁘네요', '예뻐요', '예뻐요', '예뻐요', '예뻐요', '예뻐요', '예쁘네요', '예뻐요', '예뻐요', '예뻐요', '예쁘네요', '예뻐요', '예뻐요', '예뻐요', '예쁘네요', '예뻐요', '예뻐요', '날아갈래요', '보여요', '있나요', '갈래요', '보여요', '있나요', '있어요', '날아요', '힘들었나요', '보여요', '줄게요', '잡아줄게요', '내요', '지켜줄게요', '꿔요', '없나요', '먹어요', '그려요', '잡아줄게요', '내요', '지켜줄게요', '꿔요', '말아요', '그래요', '내요', '꿔요', '맴도나요', '똑같잖아요', '꾸나요', '없어요', '없나요', '잡아줘요', '말해봐요', '마요', '싶어요', '담아줘요', '잡아줘요', '봐요', '속삭여줘요', '잡아줘요', '안돼요', '안돼요', '마요', '나는요', '나는요', '걸요', '하네요', '알아요', '알아요', '그래요', '그래요', '남아있어요', '기다려요', '보이나요', '기억해요', '안돼요', '안돼요', '거예요', '돼요', '아나요', '아나요', '몰라요', '몰라요', '떠나갔나요', '기도해요', '있어요', '기다려요', '보이나요', '기억해요', '말아요', '말아요', '있어요', '조심해줘요', '말아요', '말아요', '돼요', '보내요', '드려요', '말아요', '말아요', '걸어요', '알아요', '보내요', '드려요', '보내요', '드려요', '보내요', '드려요', '보내요', '드려요', '아나요', '아나요', '드네요', '꾸네요', '아나요', '아나요', '알아요', '알아요', '알까요', '아파요', '알까요', '아파요', '싶은걸요', '알까요', '아파요', '보아요', '담아요', '인걸요', '않아요', '없는걸요', '인걸요', '않아요', '말아요', '있어요', '자리예요', '바라봐요', '있네요', '아나요', '알까요', '기억해요', '기억할까요', '기억해줘요', '마요', '알아요', '떠올려요', '기억할까요', '기억해줘요', '마요', '가요', '있을게요', '돌아와요', '있을게요', '생각해요', '기다렸어요', '와줘요', '기다릴게요', '기다릴래요', '저기요', '없나요', '저기요', '저기요', '저기요', '저기요', '저기요', '없나요', '나예요', '들려요', '있어요', '거예요', '몰라요', '어때요', '이상한가요', '와요', '번져요', '소심해져요', '어때요', '심각한가요', '와요', '번져요', '싫어요', '좋아요', '몰라요', '좋아요', '와요', '번져요', '저기요', '없나요', '나예요', '들려요', '있어요', '떨려와요', '안돼요', '겁이나요', '겁이나요', '해요', '들켜줄게요', '지켜봐요', '않을게요', '떨려와요', '안돼요', '겁이나요', '겁이나요', '해요', '들켜줄게요', '지켜봐요', '꿈꿔왔어요', '숨어있어요', '보여줄게요', '기다려줘요', '지켜봐요', '않을래요', '줘요', '춤춰요', '좋아요', '춤춰요', '줘요', '춤춰요', '좋아요', '춤춰요', '하네요', '때래요', '봤나요', '받나요', '낼게요', '떠나봐요', '내줘요', '낼게요', '떠나봐요', '내줘요', '들려줘요', '줘요', '줘요', '들려줘요', '줘요', '줘요', '말해줘요', '말해줘요', '말해줘요', '말해줘요', '말해줘요', '말해줘요', '말해줘요', '말해줘요', '말해줘요', '묻어있어요', '기울여줘요', '울었대요', '미웠대요', '지냈더래요', '이상해요', '아물어요', '머물러요', '어때요', '이상해요', '편한걸요', '웃어요', '머물러요', '녹아가요', '흘러가요', '사라져요', '지나가요', '머물러요', '척해줘요', '척해줘요', '줘요', '있나요', '않을게요', '걸어요', '번져요', '좋아해요', '좋아요', '좋아해요', '않을게요', '걸어요', '번져요', '좋아해요', '좋아요', '좋아해요', '볼게요', '바래요', '물들어가요', '번져요', '번져요', '좋아해요', '좋아요', '맞춰요', '줄래요', '번져요', '좋아해요', '머물러줘요', '빛나네요', '하나요', '반겨요', '꾸나요', '반겨요', '거예요', '있잖아요', '느껴지네요', '하네요', '줄래요', '말해줄게요', '해줘요', '반겨요', '거예요', '있잖아요', '주세요', '주세요', '어서요', '켜둘게요', '입맞춰줘요', '녹아요', '감아요', '처음이에요', '거에요', '가까워요', '않는걸요', '거에요', '봐요', '거에요', '거에요', '거에요', '꺼내요', '없나요', '어디인가요', '멈춰졌어요', '됐어요', '없나요', '어디인가요', '지나요', '마요', '없나요', '어디인가요', '봐요', '해요', '해요', '전화했게요', '봐요', '더워져요', '빌어봐요', '빌어봐요', '피어나요', '마요', '했어요', '해요', '고백해요', '두려울까요', '비쳐요', '해요', '고백해요', '싶어요', '거에요', '두려울까요', '말아요', '안아요', '두려울까요', '둘게요', '걸어요', '생각하나요', '떠올리나요', '웃나요', '말해줘요', '처음인가요', '나만큼요', '싶어요', '바보처럼요', '배워요', '사랑인가요', '솔직해져요', '예뻐져요', '없었던걸요', '이런가요', '말해줘요', '처음인가요', '나만큼요', '싶어요', '바보처럼요', '반쪽처럼요', '채워요', '말해줘요', '처음인가요', '나만큼요', '싶어요', '바보처럼요', '바꿔줄게요', '사랑해요', '없어요', '바꿔줄게요', '바꿔줄게요', '잡아요', '필요', '안아줘요', '없나요', '꿈이라니요', '멀어졌나요', '않나요', '잊으셨나요', '없어요', '없어요', '싶어요', '들어요', '있어요', '기다려요', '원해요', '건가요', '없나요', '없어요', '싶어요', '들어요', '있어요', '기다려요', '원해요', '없어요', '그뿐이에요', '거예요', '믿어요', '좋아해요', '필요', '불러내요', '같아요', '달라졌어요', '됐어요', '놀라요', '좋아요', '해요', '있나요', '거예요', '않아요', '돼요', '웃네요', '멈춰져요', '거예요', '좋아해요', '그렇잖아요', '전화해요', '가요', '돌아요', '새로워요', '사랑인가요', '기억하나요', '원해요', '거예요', '신나니까요', '원해봐요', '떠나요', '거예요', '거예요', '신나니까요', '거예요', '거예요', '신나니까요', '있잖아요', '주세요', '않을게요', '저기요', '저기요', '저기요', '가려주네요', '늦었네요', '불러요', '고여요', '말아요', '불러요', '고여요', '이래요', '변해요', '좋아요', '멋져요', '멋져요', '많아요', '많아요', '울어요', '어지러워요', '슬퍼요', '슬퍼요', '멋져요', '넘쳐요', '미쳐요', '미쳐요', '울어요', '울어요', '자요', '슬퍼요', '슬퍼요', '외로워요', '싫어요', '볼까요', '원해요', '봐요', '줘요', '안돼요', '안돼요', '안돼요', '안돼요', '안돼요', '안돼요', '안돼요', '안돼요', '안돼요', '안돼요', '안돼요', '안돼요', '않아요', '보이나요', '안돼요', '돼요', '없잖아요', '않아요', '보이나요', '줘요', '기울여봐요', '알잖아요', '안돼요', '모르나요', '피어나줘요', '않아요', '해줘요', '젖어있어요', '필요', '흐려질까요', '없나요', '대답해줘요', '쉬어둘게요', '쉴게요', '쉬어둘게요', '나요', '놓아줄게요', '쉬어둘게요', '놓아줄게요', '쉴게요', '주세요', '주세요', '사랑해요', '사랑해요', '사랑해요', '잊었나요', '봐요', '봐요', '잖아요', '맡겨봐요', '사랑인가요', '봐요', '봐요', '잖아요', '맡겨봐요', '사랑인가요', '봐요', '봐요', '잖아요', '맡겨봐요', '사랑인가요', '필요', '그래요', '없나봐요', '그래요', '없나봐요', '나요', '없나봐요', '그래요', '없나봐요', '서요', '대요', '대요', '대요', '쌓여가네요', '궁금해요', '상상해요', '누군가요', '안아주세요', '받아주세요', '춰요', '안아주세요', '받아주세요', '안돼요', '안아주세요', '받아주세요', '쉬어요', '없나요', '궁금해요', '궁금해요', '변했나요', '안아주세요', '잡아주세요', '말해줘요', '안아주세요', '받아주세요', '춰요', '슬퍼요', '기대해요', '나요', '나요', '될게요', '돼요', '나요', '나요', '안아줘요', '따라올게요', '내버려둬요', '쳐다볼게요', '내버려둬요', '말할래요', '모르나요', '올까요', '알아줘요', '왜요', '왜요', '귀찮아요', '놔요', '놔요', '따분해요', '아니에요', '알아주세요', '마요', '말할래요', '모르나요', '올까요', '알아줘요', '내려봐요', '봐요', '고쳐봐요', '말할래요', '모르나요', '올까요', '알아줘요', '올까요', '있네요', '들어요', '봐요', '있네요', '들어요', '마요', '바다예요', '느껴보세요', '사랑해요', '보세요', '있나요', '알아요', '이해할게요', '않아요', '말할게요', '생각해요', '알아요', '보여줄까요', '있나요', '좋아요', '좋아요', '알아요', '말아요', '말해요', '마요', '않아요', '말할게요', '생각해요', '알아요', '보여줄까요', '있나요', '말이에요', '봐요', '마요', '마요', '마요', '말이에요', '봐요', '마요', '마요', '마요', '말이에요', '봐요', '마요', '마요', '말이에요', '봐요', '마요', '마요', '바래요', '바래요', '바래요', '날이거든요', '받아줄까요', '어떤가요', '봐요', '드네요', '어떤가요', '봐요', '드네요', '몰라주나요', '어떤가요', '봐요', '드네요', '멈춰서요', '다가갈게요', '필요', '필요', '필요', '필요', '있으세요', '와요', '봐요', '주세요', '놀아요', '갈래요', '싶어지네요', '다가와줘요', '싶어지네요', '다가와줘요', '여기요', '저기요', '봐줘요', '예뻐요', '내줘요', '필요', '필요', '필요', '할래요', '되나요', '도와줘요', '누구예요', '돼요', '거예요', '믿어보세요', '쳐주세요', '돼요', '거예요', '돼요', '거예요', '뻗어요', '돼요', '거예요', '지내요', '드릴게요', '잡을까요', '이봐요', '작아요', '깔아봐요', '소용없나요', '반가워요', '어때요', '원해요', '반가워요', '어때요', '어때요', '원해요', '떠나요', '떠나요', '떠나요', '떠나요', '가나요', '않나요', '떠나요', '떠나요', '떠나요', '떠나요', '떠나요', '떠나요', '빠져들어요', '말하잖아요', '말아요', '챙겨먹어요', '말아요', '말아요', '어떡해요', '필요', '필요', '줘요', '와줘요', '안아줘요', '걸어요', '좋아요', '않네요', '따뜻해요', '와줘요', '안아줘요', '걸어요', '좋아요', '따뜻해요', '와줘요', '안아줘요', '걸어요', '좋아요', '좋아요', '괜찮아요', '마요', '마요', '마요', '봐요', '봐요', '봐요', '봐요', '봐요', '봐요', '봐요', '풀어봐요', '바라봐요', '봐요', '봐요', '봐요', '봐요', '봐요', '찾아와요', '줘요', '찾아와요', '줘요', '해요', '줘요', '여보세요', '스타인데요', '불러주세요', '올해요', '고래요', '말아요', '아나요', '아나요', '기다려요', '말아요', '무서웠어요', '힘들어요', '참아요', '잡아줘요', '아나요', '와요', '안아줄게요', '진심이에요', '감사해요', '어땠나요', '지쳤나요', '괜찮아요', '와요', '안아주세요', '힘들어요', '고마워요', '사랑해요', '괜찮아요', '괜찮아요', '있나요', '보이나요', '제자린걸요', '있나요', '보이나요', '제자린걸요', '떠나가요', '잊지말아요', '화사해져요', '달콤해요', '웃어요', '화사해져요', '달콤해요', '웃어요', '보여요', '반짝거려요', '두근거려요', '용감해져요', '웃어요', '있나요', '잡아보아요', '말아요', '잡아보아요', '말아요', '느끼나요', '느끼나요', '있나요', '봐요', '있어요', '이름요', '아픔요', '들리나요', '몰라요', '있어요', '이름요', '아픔요', '들리나요', '들리나요', '들리나요', '들리나요', '들리나요', '흘러요', '봐요', '모른대요', '흘러요', '사랑해요', '말해요', '사랑해요', '말해요', '거에요', '알까요', '거에요', '같아요', '있어요', '될까요', '건가요', '살아가요', '있어요', '될까요', '있네요', '있어요', '해요', '아나요', '하네요', '받아주세요', '받아주세요', '필요', '필요', '해줘요', '않아요', '봐줘요', '해줘요', '않아요', '봐줘요', '싶어요', '해줘요', '않아요', '봐줘요', '어떡해요', '그랬나요', '보여요', '건가요', '걱정돼요', '보여요', '건가요', '걱정돼요', '잡아요', '괜찮아요', '거에요', '거에요', '거예요', '있을게요', '고마워요', '없나요', '맞나요', '할까요', '않나요', '않나요', '바래요', '말아요', '나인걸요', '그래요', '감아요', '감아요', '가요', '하진마요', '잘했어요', '잘했어요', '여자에요', '고마웠어요', '싶어져요', '잘가요', '잘가요', '살아요', '되요', '마요', '낼거에요', '되요', '떠요', '봐요', '떠나요', '아나요', '말예요', '그래요', '필요', '필요', '빌었어요', '반했어요', '좋아요', '가깝나요', '물들어요', '사랑해요', '싶어요', '말해요', '믿어요', '좋아요', '함께해요', '설레어와요', '말해요', '믿어요', '좋아요', '함께해요', '설레어와요', '와요', '말해줘요', '좋아요', '함께해요', '설레어와요', '어땠나요', '어땠나요', '믿어보아요', '어땠나요', '어땠나요', '찾아요', '찾아요', '없나요', '틀어줘요', '틀어줘요', '줘요', '줘요', '줘요', '줘요', '틀어줘요', '틀어줘요', '줘요', '와요', '들어요', '줘요', '줘요', '틀어줘요', '필요', '필요', '필요', '봐요', '가요', '마요', '봐줘요', '못해요', '미숙해요', '마요', '봐줘요', '마요', '봐줘요', '필요', '강요', '필요', '필요', '줄래요', '없어요', '따라가요', '걸까요', '없네요', '걸까요', '없네요', '있네요', '아니예요', '믿어줘요', '기다려줘요', '낯설은걸요', '없는걸요', '하지말아요', '낯설은걸요', '낯설은걸요', '낯설은걸요', '기억해줘요', '있을까요', '떳떳할까요', '아파요', '않네요', '같아요', '있을까요', '떳떳할까요', '있을까요', '떳떳할까요', '살까요', '걸요', '떳떳할까요', '와요', '필요', '필요', '와요', '필요', '필요', '와요', '필요', '두드리네요', '떨려요', '같아요', '보여요', '떨려요', '같아요', '보여요', '떨려요', '같아요', '보여요', '헤어졌어요', '기다렸어요', '없나요', '찾아갔어요', '만난데요', '있나요', '있나요', '돌아올까요', '알까요', '줄까요', '갈래요', '갈래요', '바래요', '갈래요', '닫혀있네요', '보이네요', '건가요', '그런가요', '몰라요', '몰라요', '달라요', '몰라요', '기다려봐요', '있어요', '거예요', '거예요', '줘요', '봐요', '거예요', '건가요', '그래요', '있어요', '거예요', '거예요', '줘요', '있어요', '봐요', '거예요', '거예요', '줘요', '걸어봐요', '있어요', '그리워요', '있어요', '사랑해요', '사랑해요', '사랑해요', '사랑해요', '느껴져요', '있어요', '사랑해요', '사랑해요', '사랑해요', '사랑해요', '사랑해요', '사랑해요', '사랑해요', '사랑해요', '사랑해요', '사랑해요', '사랑해요', '받았대요', '먹었대요', '아니거든요', '했대요', '녹여줘요', '녹여줘요', '있나요', '있나요', '봐요', '봐요', '진동해요', '입었어요', '필요', '흔들어요', '줘요', '가요', '거예요', '미련해져요', '나예요', '있을까요', '있을까요', '같아요', '없어요', '같아요', '없어요', '해요', '없어요', '없어요', '없어요', '없어요', '없어요', '없어요', '없어요', '없어요', '필요', '없어요', '없어요', '사줘요', '와요', '생각나요', '있나요', '감싸줘요', '말해줘요', '춰요', '말해줘요', '말해줘요', '필요해요', '있어줘요', '필요해요', '많나요', '말해줄게요', '안되나요', '말아줘요', '주세요', '써주세요', '좁혀요', '캐묻지마요', '마요', '짜주세요', '봐요', '캐묻지마요', '없나요', '맴도네요', '없나요', '맴도네요', '뒤척이네요', '없나요', '맴도네요', '필요', '필요', '드릴께요', '말해요', '드릴께요', '말해요', '걸요', '기억해요', '보내요', '걸요', '기억해요', '기다릴께요', '걸요', '기억해요', '필요', '말아요', '하나요', '그래요', '사랑해요', '사랑해요', '사랑해요', '가져가요', '될께요', '주세요', '해요', '걸요', '하나요', '그래요', '사랑해요', '사랑해요', '사랑해요', '가져가요', '될께요', '고마워요', '행복해요', '사랑할께요', '그래요', '사랑해요', '사랑해요', '사랑해요', '가져가요', '될께요', '웃어요', '않아요', '봐요', '웃어요', '살아보아요', '웃어요', '않아요', '봐요', '웃어요', '살아보아요', '봐요', '봐요', '예뻐요', '웃어요', '봐요', '봐요', '예뻐요', '웃어요', '봐요', '봐요', '예뻐요', '웃어요', '봐요', '봐요', '예뻐요', '웃어요', '왔어요', '남겨둘게요', '약속해요', '떠나갈게요', '두려워요', '약속해요', '떠나갈게요', '고마워요', '사랑해요', '잊지말아요', '하네요', '알아보나요', '기도할께요', '하네요', '지켜갈께요', '기도할께요', '필요', '마요', '있어요', '사로잡아요', '마요', '있어요', '사로잡아요', '마요', '있어요', '사로잡아요', '하네요', '하네요', '부탁해요', '시작해요', '찾아온걸요', '도와주세요', '할래요', '말할께요', '믿어요', '고마워요', '울지마요', '용서해요', '아픈걸요', '지울께요', '고마워요', '할께요', '충분한걸요', '행복한가요', '해요', '인걸요', '기도드려요', '사랑해요', '돌아와줘요', '행복한가요', '해요', '지울께요', '왔어요', '남겨둘게요', '약속해요', '떠나갈게요', '두려워요', '약속해요', '떠나갈게요', '고마워요', '사랑해요', '잊지말아요', '안해요', '빗물같아요', '빗물같아요', '있어요', '빗물같아요', '빗물같아요', '빗물같아요', '빗물같아요', '눈을떠봐요', '별을봐요', '지쳤나봐요', '사람같아요', '사랑할께요', '상관없어요', '사랑할께요', '상관없어요', '살게요', '필요', '필요', '필요', '필요', '필요', '필요', '노래해요', '춰요', '좋아요', '노래해요', '춰요', '오세요', '놀아요', '해봐요', '지쳤나봐요', '같아요', '사랑할게요', '상관없어요', '사랑할게요', '상관없어요', '살게요', '말아요', '안다구요', '어딜가요', '죄송해요', '즐거워요', '하나요', '내요', '않아요', '말아요', '편질써요', '몰라요', '입맞춰줘요', '원하나요', '할까요', '바꿀까요', '입을까요', '원해요', '봐요', '아픈걸요', '미워요', '필요', '맞나요', '봐요', '듣나요', '들리나요', '몰라요', '맞나요', '봐요', '보나요', '보이나요', '몰라요', '볼래요', '말아요', '괜찮아요', '가요', '미안했어요', '할래요', '고마웠어요', '볼게요', '있어요', '부탁할게요', '행복해요', '있어요', '부탁할게요', '행복해요', '부탁할게요', '웃을게요', '웃어줘요', '떠나요', '볼래요', '좋네요', '떠나요', '떠나요', '떠나요', '좋아요', '해요', '될까요', '될까요', '하나요', '있나요', '하나요', '날이에요', '사랑해요', '알까요', '하나요', '있나요', '하나요', '날이에요', '사랑해요', '없나요', '못해요', '못해요', '찾아가요', '아파요', '찾아가요', '아파요', '사랑해요', '그리워요', '없어요', '어딨나요', '헤매나요', '행복한가요', '없나요', '궁금한걸요', '봐요', '안되네요', '걸까요', '안되네요', '그리워요', '어딨나요', '돌아와요', '돌아와요', '돌아와요', '돌아와요', '헤매요', '아나요', '찾아요', '찾아요', '말아요', '마요', '있어요', '잡아요', '말아요', '있어요', '웃어요', '웃어봐요', '나눠요', '거에요', '말아요', '마요', '있어요', '잡아요', '웃어요', '나눠요', '거에요', '봐요', '있어요', '말아요', '마요', '있어요', '잡아요', '감아요', '들어요', '말아요', '마요', '있어요', '잡아요', '말아요', '마요', '있어요', '잡아요', '웃어요', '나눠요', '거에요', '아파요', '있어요', '주세요', '열어봐요', '열어봐요', '열어봐요', '참고봤어요', '읽고있어요', '이상해요', '어찌하나요', '울지않아요', '하네요', '이상해요', '않나요', '쓰여요', '궁금해져요', '싶어요', '보이나요', '않나요', '쓰여요', '궁금해져요', '알고싶어요', '그래요', '주질않네요', '하려드네요', '싫은건가요', '가요', '못해요', '가요', '못해요', '말아요', '없어요', '사랑해요', '가지말아요', '있어요', '못해요', '돼요', '않아요', '없나요', '떨리네요', '왔잖아요', '말하나요', '약속해요', '잘할께요', '편일께요', '있어요', '인가요', '같나요', '잘할께요', '편일께요', '있어요', '같나요', '사랑해요', '약속해요', '같나요', '같나요', '아나요', '마요', '보이나요', '싶어요', '보이네요', '빛나네요', '내려요', '내려요', '있는걸요', '사랑해요', '서둘러요', '쌓여가요', '축복하네요', '내려요', '내려요', '있는걸요', '사랑해요', '말아요', '마요', '약속해요', '사랑해요', '사랑할게요', '좋겠어요', '않아요', '와요', '와요', '와요', '와요', '와요', '와요', '와요', '와요', '부탁해요', '부탁해요', '잊혀질까요', '녹아요', '왜요', '왜요', '왜요', '왜요', '달려가네요', '마셔줄래요', '있나요', '왜요', '왜요', '왜요', '왜요', '왜요', '왜요', '왜요', '달려가네요', '마셔줄래요', '해요', '저질렀어요', '마요', '놓을까요', '받았게요', '이러시나요', '말인가요', '털어볼까요', '필요', '존재예요', '마요', '즐기라구요', '구해줘요', '즐겁게요', '마요', '즐기라구요', '마요', '와요', '바래요', '아녜요', '아니에요', '없어요', '다가와요', '다가와요', '아니에요', '나와요', '말해줘요', '말해줘요', '아나요', '아나요', '아나요', '몰라요', '아나요', '아나요', '아나요', '몰라요', '아나요', '아나요', '아나요', '몰라요', '어렸어요', '되요', '있나요', '생각하나요', '할래요', '봐요', '신었잖아요', '없어요', '없어요', '봐요', '신었잖아요', '없어요', '없어요', '없어요', '없어요', '마요', '지나가요', '마요', '지나가요', '좋아요', '좋아요', '좋아요', '마요', '마요', '있어요', '떠나가네요', '하나요', '줘요', '바라봐줘요', '마요', '마요', '필요', '필요', '필요', '가져봐요', '몰라요', '가져봐요', '몰라요', '가져봐요', '다가오네요', '어떡하나요', '아파요', '웃어요', '인가요', '멈추지마요', '해요', '멈추지마요', '이뤄주세요', '멈추지마요', '멈추지마요', '필요', '필요', '필요', '필요', '필요', '필요', '필요', '필요', '필요', '있네요', '바래요', '있단걸요', '아파하네요', '바래요', '있단걸요', '만나요', '바래요', '있단걸요', '필요', '따라해요', '있어요', '해봐요', '있어요', '해봐요', '필요', '해요', '오세요', '얘기해요', '오세요', '괜찮아요', '어쩔라구요', '다쳤어요', '사랑해요', '살아요', '안돼요', '쌓여있어요', '웃어요', '웃어요', '좋아요', '보아요', '말할꺼예요', '할께요', '같아요', '축복하네요', '가네요', '맞네요', '같아요', '축복하네요', '쌓여가네요', '맞네요', '말할꺼예요', '사랑할래요', '끌어요', '끌어요', '있는데요', '좋겠구요', '갖구싶구요', '싶구요', '해주세요', '시켜주세요', '주세요', '죽겠어요', '해주세요', '해주시구요', '계세요', '말아요', '잊지말아요', '기억해요', '말아요', '잊지말아요', '말아요', '잊지말아요', '기억해요', '어서오세요', '어서오세요', '괜찮아요', '어쩔라구요', '다쳤어요', '사랑해요', '말아요', '말아요', '사랑해요', '없나요', '잃었어요', '이해해줘요', '말아요', '말아요', '사랑해요', '했어요', '필요했어요', '말아요', '가세요', '헤어져요', '행복해요', '기도해요', '사랑해요', '나타나요', '가요', '같아요', '같아요', '같아요', '같아요', '같아요', '같아요', '같아요', '같아요', '좋아요', '싶은데요', '와요', '같아요', '같아요', '같아요', '같아요', '같아요', '같아요', '같아요', '같아요', '같아요', '같아요', '아닌가요', '미워하나요', '미안해요', '이해해요', '그래요', '행복해요', '나요', '없나요', '기다려요', '사랑했나요', '돌아서나요', '떠나나요', '슬퍼요', '위해서야요', '흘려요', '잊어요', '잊어요', '괜찮아요', '잊어요', '슬퍼지네요', '아니잖아요', '없어요', '슬퍼지네요', '아닌가요', '슬퍼지네요', '아니잖아요', '없어요', '슬퍼지네요', '아닌가요', '아닌가요', '가져가요', '슬퍼지네요', '아닌가요', '해결해봐요', '많잖아요', '믿어요', '느껴요', '말아요', '있어줘요', '않아요', '가졌어요', '않아요', '가졌어요', '바랄께요', '아마요', '드릴거에요', '생각해요', '행복해요', '몰라요', '아마요', '드릴거에요', '생각해요', '된걸요', '필요한걸요', '소중한걸요', '생각해요', '사랑해요', '있나요', '않나요', '그런가요', '버린건가요', '말아요', '머물러줘요', '그리운걸요', '해줘요', '버린건가요', '말아요', '두려워요', '두려워요', '바라봐줘요', '바라봐줘요', '바라봐줘요', '필요', '알아요', '녹여주네요', '바라봐줘요', '받아줘요', '안아줘요', '필요', '필요', '필요', '힘들어요', '가요', '녹아요', '간직해줘요', '속삭여줘요', '취해요', '설레와요', '보여요', '보이네요', '맞춰요', '보이네요', '마요', '반했어요', '주세요', '없어요', '없어요', '춰요', '없어요', '아나요', '사랑하나요', '사랑인가요', '와요', '알아요', '믿어요', '와요', '설레이나요', '없어요', '사랑하나요', '시작인가요', '와요', '알아요', '믿어요', '와요', '속삭여봐요', '와요', '와요', '알아요', '믿어요', '와요', '말해요', '해요', '져요', '해요', '해줘요', '착해질게요', '해요', '져요', '해요', '말아요', '말아요', '말아요', '말아요', '말아요', '모르잖아요', '말아요', '말아요', '말아요', '말아요', '말아요', '말아요', '모르잖아요', '말아요', '말아요', '축하해요', '믿어요', '될래요', '축하해요', '믿어요', '될래요', '갔구요', '믿어요', '될래요', '믿어요', '걸요', '바래요', '바래요', '걸요', '바래요', '줄게요', '줄게요', '줄게요', '가요', '와줘요', '주세요', '슬퍼말아요', '있어요', '와줘요', '주세요', '들리나요', '와줘요', '주세요', '있나요', '있어요', '가는걸요', '날아가요', '약속해요', '있잖아요', '꿈인걸요', '꿈인걸요', '보여요', '있잖아요', '마요', '되요', '있을까요', '모르나요', '서둘러줘요', '있을까요', '모르나요', '봐요', '그랬나봐요', '없나요', '몰라요', '있을까요', '모르나요', '말해요', '있는걸요', '해요', '해요', '해줘요', '착해질게요', '있는걸요', '해요', '해요', '모르네요', '바라보네요', '내려와요', '줄게요', '줄게요', '봐요', '들리나요', '말해요', '말아요', '말아요', '말아요', '모르잖아요', '말아요', '말아요', '말아요', '말아요', '말아요', '말아요', '축하해요', '믿어요', '걸요', '걸요', '해요', '해요', '줄게요', '줄게요', '말아요', '마요', '있어요', '잡아요', '말아요', '있어요', '웃어요', '웃어봐요', '나눠요', '거에요', '말아요', '마요', '있어요', '잡아요', '웃어요', '나눠요', '거에요', '봐요', '있어요', '말아요', '마요', '있어요', '잡아요', '감아요', '들어요', '말아요', '마요', '있어요', '잡아요', '말아요', '마요', '있어요', '잡아요', '웃어요', '나눠요', '거에요', '줘요', '생각해요', '해요', '줘요', '생각해요', '줘요', '생각해요', '나는요', '바본가봐요', '그래요', '좋아요', '나는요', '떠올라요', '될께요', '될께요', '지켜갈께요', '같아요', '될께요', '될께요', '지켜갈께요', '걸요', '될께요', '줘요', '될께요', '지켜갈께요', '가질께요', '사랑해요', '기다리나요', '아파하나요', '마요', '받아줘요', '찾아요', '말아요', '멀어지나요', '감싸줘요', '말아요', '말해요', '마요', '믿어요', '그래요', '그래요', '그래요', '돼요', '흘려요', '이래요', '가요', '돼요', '해요', '이래요', '그래요', '들어요', '보여요', '말아요', '들려요', '필요', '떨려와요', '필요', '머물러요', '해줘요', '필요', '머물러요', '해줘요', '예뻐요', '기대줘요', '필요', '머물러요', '해줘요', '봐요', '봐요', '봐요', '봐요', '만들어요', '펼쳐요', '봐요', '봐요', '만들어요', '떨려와요', '하는걸요', '웃지마요', '말아요', '치는걸요', '웃지마요', '말아요', '하나요', '말아줘요', '어때요', '싶나요', '좋아요', '말해요', '어때요', '하나요', '두근거려요', '해봐요', '바라봐요', '생각해요', '있나요', '떠올려요', '바라봐요', '생각해요', '바라봐요', '생각해요', '바라봐요', '생각해요', '있나요', '떠올려요', '바라봐요', '생각해요', '바라봐요', '생각해요', '없잖아요', '잘못이네요', '괜찮아요', '용서해줘요', '졌어요', '봐요', '고마워요', '사랑해요', '믿어요', '마요', '와요', '와요', '와요', '와요', '시간있어요', '웃어봐요', '크게요', '웃어봐요', '크게요', '어떡하나요', '해봐요', '좋아져요', '이렇게요', '돼요', '웃어요', '웃어봐요', '크게요', '웃어봐요', '크게요', '마요', '마요', '다가와요', '떨려와요', '만들어요', '들리나요', '들떴나요', '따라갈래요', '아나요', '할게요', '힘든가요', '지쳤나요', '많나요', '알아요', '책임져요', '환해져요', '해요', '걸어요', '걸어요', '걸어요', '걸어가요', '걸어요', '걸어요', '걸어요', '걸어가요', '봐요', '이상해요', '사랑해요', '사랑해요', '함께라면요', '행복한걸요', '보이나요', '어떡해요', '있네요', '보일래요', '사랑해요', '함께라면요', '행복한걸요', '보이나요', '어떡해요', '사랑해요', '해요', '사랑해요', '함께라면요', '행복한걸요', '보이나요', '어떡해요', '상관없어요', '봐요', '싫어요', '말아요', '나는요', '해요', '좋아요', '오늘만요', '말아요', '나는요', '말아요', '나는요', '구름인가요', '있어요', '그래요', '바라보네요', '그녀인가요', '않아요', '하지만요', '기다려요', '있어요', '그래요', '아닌가요', '그런가요', '지나가요', '마요', '마요', '지나가요', '해요', '묻어요', '봐요', '태어나요', '싶어요', '않아요', '사랑해요', '사랑해요', '텐가요', '주네요', '두드리네요', '밝혀줘요', '주네요', '기억해요', '주네요', '말아요', '말아요', '가요', '말아요', '마요', '뿌려줘요', '와요', '알아요', '보네요', '와요', '알아요', '와요', '와요', '알아요', '없어요', '걸요', '걸요', '걸요', '말아요', '말아요', '말아요', '쉬어요', '같군요', '같군요', '얘긴가요', '쓰군요', '필요', '좋아요', '돌려줘요', '기도해요', '없나요', '버린걸요', '걸요', '좋아요', '돌려줘요', '기도해요', '없나요', '버린걸요', '걸요', '건가요', '가져가요', '기대해요', '없나요', '걸요', '걸요', '필요', '들어줘요', '와줘요', '사랑해요', '느꼈어요', '할래요', '떠나가요', '떠나가요', '있나요', '주세요', '들었어요', '기뻤어요', '했어요', '어울렸어요', '주세요', '였다구요', '믿어요', '할꺼에요', '행복해요', '바래요', '있었어요', '자라요', '싹티워요', '있어요', '할꺼예요', '필요', '필요', '간직해요', '열어둘게요', '감사해요', '행복해요', '드려요', '만들어가요', '감사해요', '행복해요', '드려요', '반길게요', '감사해요', '행복해요', '사랑해요', '드려요', '감싸요', '걸까요', '걸까요', '보내요', '있는걸요', '붙잡나봐요', '지워요', '미안해요', '있나요', '하네요', '느껴요', '미안해요', '있나요', '함께하네요', '깨달아요', '미안해요', '생각나요', '원해요', '미안해요', '설명할까요', '충분할까요', '달라져가요', '해요', '살아가요', '감사해요', '아쉬워져요', '그래요', '살아가요', '감사해요', '바래요', '기억하나요', '말아요', '지켜줘요', '기도할께요', '지켜줘요', '기도할께요', '지켜줘요', '기도할께요', '기도할께요', '기도할께요', '필요', '알아요', '거예요', '고백해요', '말해요', '궁금해져요', '고백해요', '말해요', '그대론걸요', '미안해요', '걸요', '가득해요', '필요', '필요', '필요', '필요', '후회하나요', '건가요', '따라요', '마요', '하나요', '따라요', '못해요', '웃어요', '없어요', '주세요', '알아요', '해요', '없어요', '했어요', '변해가요', '몰랐어요', '지나가요', '칠해줘요', '비워줘요', '식혀줘요', '꾸며줘요', '필요', '필요', '필요', '바라봐요', '아나봐요', '어지러워요', '떨려요', '어지러워요', '떨려요', '줘요', '줄래요', '줄래요', '잠깐만요', '만나네요', '들리나요', '남자에요', '궁금해요', '모르니까요', '들리나요', '남자에요', '없어요', '빛나요', '줄래요', '아나요', '어떤가요', '기도해요', '행복한가요', '있어요', '행복한가요', '있어요', '있어요', '없어요', '없어요', '들어요', '아파요', '방안이네요', '있어요', '모르겠어요', '아파요', '부족하네요', '없어요', '없어요', '모르겠어요', '모르겠어요', '아파요', '방안이네요', '필요', '말해줄래요', '해요', '할거에요', '있을게요', '없어요', '힘들었어요', '기다렸어요', '놓아줄게요', '없어요', '힘들었어요', '기다렸어요', '놓아줄게요', '기다렸어요', '보여줄게요', '보여줄게요', '없어요', '힘들었어요', '기다렸어요', '놓아줄게요', '기다렸어요', '기다렸어요', '힘들었어요', '시간이에요', '봐봐요', '거리네요', '않아요', '말해요', '사랑해요', '좋아해요', '사랑해요', '좋아해요', '고마워요', '건네요', '묻네요', '맞나봐요', '사랑해요', '좋아해요', '사랑해요', '좋아해요', '고마워요', '바보예요', '알았어요', '같다구요', '사랑해요', '사랑해요', '알아줘요', '좋아해요', '진짜예요', '행복해요', '행복해요', '사랑해요', '좋아해요', '고마워요', '보이나요', '느끼나요', '속삭여줘요', '말아요', '안아줘요', '속삭여줘요', '말아요', '안아줘요', '말아요', '안아줘요', '고마워요', '아침이네요', '있나요', '지내요', '걸요', '그래요', '봐요', '떨려요', '전부니까요', '아름다워요', '때문이에요', '걸요', '걸어요', '전부니까요', '바라봐요', '전부니까요', '없네요', '넘겨줘요', '기다려요', '난다구요', '싶어요', '생각나요', '오시려나요', '넘겨줘요', '기다려요', '난다구요', '안아줘요', '넘겨줘요', '기다려요', '난다구요', '아라리요', '아라리요', '아파요', '필요', '필요', '주세요', '주세요', '같아요', '주세요', '주세요', '같아요', '주세요', '주세요', '같아요', '있네요', '들어요', '봐요', '있네요', '들어요', '마요', '바다예요', '느껴보세요', '사랑해요', '보세요', '살려야해요', '걸까요', '알았어요', '거예요', '없었어요', '거예요', '없어요', '안돼요', '있어요', '없어요', '하나인걸요', '느껴지네요', '기다릴게요', '와요', '날까지요', '나랠펴요', '느껴지네요', '기다릴게요', '와요', '날까지요', '지쳐가요', '아나요', '떠줘요', '안되나요', '지쳐가요', '아나요', '떠줘요', '안되나요', '접을께요', '돌아와줘요', '몰라요', '떠나가네요', '나요', '야속해요', '들어요', '들어요', '전해요', '보내요', '가요', '없네요', '고마워요', '미안해요', '마요', '돌아와요', '들어요', '들어요', '전해요', '보내요', '가요', '없네요', '고마워요', '미안해요', '마요', '돌아와요', '잊어요', '끊어요', '전해요', '보내요', '말아주세요', '내일봐요', '미안해요', '안가요', '미안해요', '단둘이가요', '없을꺼에요', '내일봐요', '떠나요', '떠나요', '떠나요', '맞대요', '잘못했대요', '늦은거래요', '당기지마요', '아파요', '없어요', '사랑해요', '꺼져있어요', '당기지마요', '아파요', '없어요', '사랑해요', '참아주세요', '좋아요', '이상한건요', '좋아요', '있어요', '줄게요', '해줘요', '벗겠어요', '매겠어요', '나빠요', '빠졌네요', '안보여요', '안들려요', '미안해요', '미안해요', '해줘요', '미안해요', '보네요', '차네요', '있네요', '부네요', '약속해줘요', '걸어요', '안겨요', '지켜줄게요', '않을게요', '말아요', '고마워요', '믿어요', '결혼할래요', '못해요', '노력할게요', '걸어요', '안겨요', '지켜줄게요', '않을게요', '말아요', '고마워요', '믿어요', '결혼할래요', '사랑해요', '믿어요', '약속해요', '믿어요', '결혼할래요', '내버려둬요', '짜증이나요', '풍요', '같아요', '있나요', '할래요', '전화해요', '마요', '봐요', '말해봐요', '말아요', '괜찮아요', '않아요', '않아요', '마요', '마요', '마요', '마요', '아나요', '해요', '마요', '마요', '그래요', '아녜요', '건가요', '그래요', '미워하나요', '건가요', '그래요', '없나요', '아껴줄게요', '표현할게요', '아나요', '아껴줄게요', '내려와요', '놀아볼래요', '원해요', '원해요', '원해요', '없어요', '슬퍼요', '아파요', '싫어요', '말아줘요', '줘요', '차요', '차요', '생각해요', '슬퍼요', '아파요', '무너져요', '싫어요', '말아줘요', '줘요', '걸어요', '봐요', '반짝거려요', '봐요', '반짝거려요', '봐요', '반짝거려요', '믿어봐요', '있어요', '흔들어요', '다해요', '데려가요', '태워가요', '데려가요', '태워가요', '데려가요', '태워가요', '데려가요', '태워가요', '데려가요', '태워가요', '데려가요', '태워가요', '되는가요', '되는가요', '되는가요', '바라봐요', '외쳐요', '느끼나요', '바라봐요', '느껴지나요', '외쳐요', '느끼나요', '해요', '알아요', '약속해요', '만나요', '빌어요', '해요', '해요', '약속해요', '만나요', '느끼나요', '싶어요', '안아줘요', '모르나요', '받아주세요', '하는가요', '싶어요', '안아줘요', '모르나요', '주세요', '주세요', '놀랬나요', '말해봐요', '없나요', '말해줘요', '말할래요', '느껴봐요', '않은가요', '싫어요', '안되나요', '말할래요', '느껴봐요', '않은가요', '싫어요', '말할래요', '느껴봐요', '않은가요', '싫어요', '해요', '떠나요', '있어요', '불러요', '불러요', '해요', '잊지말아요', '떠나요', '있어요', '불러요', '불러요', '행복했어요', '해요', '바래요', '되요', '바래요', '바래요', '춰요', '아파요', '어디있나요', '아나요', '사랑해요', '없네요', '보세요', '안되요', '사랑해요', '남았네요', '지쳤어요', '사랑해요', '필요', '필요', '필요', '해요', '해요', '아요', '해요', '안되요', '안되요', '말해요', '힘이든가요', '안되요', '안되요', '하세요', '안되요', '안되요', '말해요', '힘이든가요', '안되요', '안되요', '하세요', '싶어요', '싶어요', '안되요', '안되요', '말해요', '힘이든가요', '안되요', '안되요', '하세요', '몰라요', '알려줘요', '조마해요', '모르겠어요', '싶어요', '몰라요', '알려줘요', '조마해요', '모르겠어요', '몰라요', '알려줘요', '조마해요', '모르겠어요', '싶어요', '저기요', '잠시만요', '들리나요', '보이나요', '들리나요', '보이나요', '들리나요', '보이나요', '들리나요', '보이나요', '필요', '필요', '못해요', '못해요', '노래해요', '사랑해요', '사랑해요', '사랑해요', '커져가요', '사랑해요', '사랑해요', '끝인가요', '끝인가요', '줘요', '줘요', '줘요', '줘요', '기다려져요', '기다려져요', '기다려져요', '가요', '뛰어봐요', '가요', '뛰어봐요', '가요', '빠져봐요', '가요', '그래요', '뛰어봐요', '필요', '뛰어봐요', '가요', '봐요', '써요', '봐요', '써요', '봐요', '써요', '봐요', '써요', '피곤하게요', '피곤하게요', '어지러워요', '미쳐가나요', '몰라요', '쉬었다가요', '왔어요', '놀래요', '살릴래요', '안아줘요', '안아줘요', '보이나요', '짓네요', '안아줘요', '안아줘요', '보이나요', '짓네요', '안아줘요', '안아줘요', '보이나요', '짓네요', '필요', '필요', '필요', '눈부셔요', '녹아요', '주세요', '몰라요', '걸어요', '말아줘요', '말아줘요', '몰라요', '사랑해요', '가려요', '해요', '가려요', '해요', '보여요', '가려요', '해요', '필요', '사라져요', '깜깜해요', '여보세요', '안돼요', '말아요', '안돼요', '안돼요', '안돼요', '말아요', '안돼요', '안돼요', '주세요', '주세요', '주세요', '주세요', '주세요', '주세요', '주세요', '주세요', '주세요', '불러요', '불러요', '걸요', '걸요', '걸요', '걸요', '될까요', '할래요', '할래요', '배워요', '어떡해요', '간직할게요', '줄래요', '같아요', '필요', '나요', '봐요', '빨라져요', '마주쳐요', '상상해요', '심각해요', '되나요', '하나요', '불안해요', '해요', '불안해요', '해요', '불안해요', '해요', '말해줄래요', '들려줄래요', '말해줄래요', '들려줄래요', '느껴지나요', '말해줄래요', '들려줄래요', '느껴지나요', '느껴지나요', '마요', '말아요', '놔요', '큰일나요', '마요', '잘못돼요', '봐요', '놔두세요', '놔두세요', '아니에요', '아니에요', '아니예요', '해요', '달라요', '봐요', '그만해요', '달라요', '놔두세요', '놔두세요', '아니에요', '아니에요', '아니에요', '마음이에요', '몰라요', '필요', '놔두세요', '놔두세요', '아니에요', '아니에요', '보일까요', '알아요', '보였나요', '알잖아요', '척해요', '보일까요', '어떡해요', '있어줄래요', '알잖아요', '척해요', '보일까요', '내볼래요', '열어줘요', '보일까요', '들리나요', '들리나요', '그만해요', '있어요', '마요', '있나요', '나타나봐요', '봐줘요', '불안해요', '걸리잖아요', '그만해요', '있어요', '마요', '있나요', '나타나봐요', '봐줘요', '불안해요', '걸리잖아요', '아파요', '걸까요', '해요', '답답해요', '몰라요', '척할래요', '드네요', '해요', '답답해요', '몰라요', '척할래요', '드네요', '나요', '어떡하나요', '몰라요', '척할게요', '봐요', '알려줘요', '해주세요', '않아요', '센치해요', '말아요', '미안해요', '필요', '않아요', '안아줘요', '같아요', '나네요', '건가요', '보이나요', '어떡해요', '보이나요', '어떡해요', '어떡해요', '하나요', '않아요', '있어요', '하나요', '않아요', '없어요', '기다릴께요', '할께요', '놓았나요', '있어요', '하나요', '않아요', '없어요', '기다릴께요', '할께요', '하나요', '않아요', '없어요', '기다릴께요', '할께요', '하나요', '않아요', '없어요', '기억하나요', '우연인가요', '걸어보지요', '약속할께요', '꺼예요', '나요', '생각이나요', '어떡해요', '때문이예요', '걸어보지요', '약속할께요', '꺼예요', '약속할께요', '꺼예요', '지나갈게요', '보여줄게요', '지나갈게요', '보여줄게요', '지나갈게요', '보여줄게요', '보여줄게요', '나빠요', '있어요', '있어요', '기다렸나요', '말해줘요', '있나요', '안아줘요', '있나요', '안아줘요', '상관없어요', '있나요', '있나요', '안아줘요', '느껴봐요', '느껴봐요', '있나요', '들어요', '들려오나요', '나요', '있나요', '없어요', '사랑해요', '고마워요', '있을게요', '있을게요', '못들어요', '들려오나요', '들려오나요', '말아요', '말아줘요', '필요', '달아요', '머물러줘요', '찾네요', '않아요', '괜찮아요', '않아요', '만나요', '있을게요', '않아요', '괜찮아요', '없네요', '알아요', '울게요', '않아요', '괜찮아요', '필요', '힘들어요', '나요', '않나요', '사랑해요', '않나요', '사랑해요', '사랑해요', '필요', '않았어요', '느껴요', '돌아와요', '필요', '니꺼할래요', '있어요', '떨어졌나요', '좋은건가요', '니꺼할래요', '말해요', '떨어졌나요', '좋은건가요', '니꺼할래요', '없을거에요', '사랑해요', '약속해요', '꿈꿔요', '뛰나요', '니꺼할래요', '필요', '보이나요', '기다릴께요', '꿔요', '느끼나요', '간직할래요', '기다릴께요', '받아줘요', '약속할께요', '보이나요', '싶어요', '보이네요', '빛나네요', '내려요', '내려요', '있는걸요', '사랑해요', '서둘러요', '쌓여가요', '축복하네요', '내려요', '내려요', '있는걸요', '사랑해요', '말아요', '마요', '약속해요', '사랑해요', '사랑할게요', '좋겠어요', '않아요', '기다려요', '봐요', '내요', '봐요', '올라봐요', '질러봐요', '내어봐요', '응원할게요', '왔어요', '고백할게요', '믿어요', '있나요', '잡아요', '고백할게요', '믿어요', '있나요', '알아요', '고백할게요', '믿어요', '있나요', '싶어요', '버려요', '없어요', '나와봤어요', '웃어봤어요', '못했어요', '없어요', '않을게요', '바래요', '지나가요', '줘요', '있나요', '지내요', '지내요', '떨려오네요', '줘요', '있나요', '지내요', '지내요', '떨려오네요', '돌아와요', '말아줘요', '견디잖아요', '마요', '울어요', '말아줘요', '견디잖아요', '마요', '있나요', '와줘요', '말아줘요', '견디잖아요', '마요', '필요', '나와요', '사이잖아요', '묻어둘래요', '아픈건가요', '기억하면요', '여보세요', '미안해요', '아픈건가요', '기억하면요', '빌게요', '살아요', '없나요', '사랑해요', '사랑해요', '말아요', '생겼어요', '만들었어요', '변해가네요', '벗어나네요', '밝혀줄래요', '같아요', '안아줘요', '줄래요', '놓아요', '밝혀줄래요', '잠깐만요', '하네요', '걸요', '피어나요', '만나요', '안아줄게요', '꿔요', '보내요', '있어주네요', '같아요', '피어나요', '만나요', '안아줄게요', '간직해요', '피어나요', '피어나요', '만나요', '안아줄게요', '보아요', '없잖아요', '아니예요', '닦아요', '있어요', '없잖아요', '아니예요', '닦아요', '있어요', '있어요', '있어요', '싶어요', '싶어요', '싶어요', '안녕하세요', '아녜요', '떠나요', '가요', '흔들어요', '외쳐요', '해봐요', '아녜요', '떠나요', '가요', '흔들어요', '외쳐요', '해봐요', '떠나요', '가요', '흔들어요', '외쳐요', '해봐요', '거에요', '거예요', '느껴요', '없나요', '될까요', '말해주세요', '만들어가요', '여보세요', '할테니까요', '좋겠어요', '말이예요', '좋겠어요', '좋겠어요', '되거든요', '기억해줘요', '기억해줘요', '기억해줘요', '감아요', '느껴지나요', '않을꺼예요', '보여요', '말아요', '해줘요', '나요', '해줘요', '않을꺼예요', '해줘요', '왔어요', '골라요', '되나요', '그럼요', '예뻐요', '알아요', '넣어요', '넣어요', '왔는데요', '왔는데요', '신갈인데요', '분당인데요', '분당이요', '분당이요', '생물학과요', '미안해요', '미안했어요', '고백할께요', '하실거에요', '찼어요', '찼어요', '오세요', '줘요', '닫아요', '말아요', '싶어요', '필요', '해줘요', '와요', '해줘요', '담을께요', '와요', '해줘요', '함께해요', '와요', '사랑해요', '말아요', '봐요', '않나요', '말아요', '없어요', '없나요', '있어요', '알아주세요', '드릴게요', '보여줘요', '흘러요', '갈게요', '슬퍼져요', '드릴게요', '전해줘요', '전해요', '드릴게요', '전해줘요', '봐요', '잊어버려요', '약속해줘요', '노래해요', '봐요', '궁금했어요', '있나요', '없어요', '말할꺼예요', '그래요', '않되나봐요', '건가요', '기다렸어요', '없어요', '말할꺼예요', '같아요', '할께요', '없어요', '말할꺼예요', '아닐까요', '봐요', '가진걸요', '그래요', '않을까요', '아닐까요', '벌려봐요', '걸요', '봐요', '벌려봐요', '걸요', '벌려봐요', '걸요', '싶어요', '없어요', '싶어요', '싶어요', '봐요', '시작돼요', '나누어봐요', '전해줘요', '들려줘요', '살아갈게요', '전해줘요', '들려줘요', '살아갈게요', '껴안아봐요', '그리워져요', '말아요', '껴안아봐요', '사랑할래요', '보이나요', '느끼나요', '잡아요', '감아요', '느껴봐요', '말아요', '말해주세요', '말아요', '말해주세요', '말아요', '껴안아봐요', '그리워져요', '껴안아봐요', '사랑할래요', '줄게요', '줄게요', '걸어가요', '담아둘게요', '기억나요', '줄게요', '줄게요', '흐를까요', '걸어가요', '담아둘게요', '전할래요', '마요', '가져요', '마요', '가져요', '마요', '가져요', '거예요', '있어요', '알아요', '거예요', '거예요', '걸어요', '감아요', '사랑할래요', '거예요', '그려봐요', '거예요', '감사해요', '거예요', '그래요', '버려요', '와요', '떠올라요', '기다려요', '있지요', '버려요', '보여요', '해요', '보여요', '해요', '없어요', '말해요', '보여요', '해요', '없어요', '말해요', '간직해요', '불러봐요', '해요', '약속해요', '간직해요', '불러봐요', '들리나요', '그래요', '알아요', '믿어요', '함께해요', '기억해요', '사랑해요', '간직해요', '불러봐요', '해요', '기다려요', '간직할께요', '설레요', '기다려요', '간직할께요', '간직할께요', '지겨운가요', '힘든가요', '찼나요', '지겨운가요', '힘든가요', '찼나요', '생각해요', '기도해요', '잊어요', '줘요', '하잖아요', '잊어요', '없어요', '떠나줘요', '줘요', '잊어요', '줘요', '걸요', '줘요', '적셔요', '날려버려요', '적셔요', '날려버려요', '건가요', '없어요', '거예요', '적셔요', '날려버려요', '없어요', '않아요', '보여요', '않아요', '슬프네요', '않아요', '느껴요', '않아요', '걸요', '줘요', '적셔요', '날려버려요', '적셔요', '날려버려요', '건가요', '없어요', '거예요', '적셔요', '날려버려요', '없어요', '기억해줘요', '기억해줘요', '필요', '것이요', '것이요', '것이요', '것이요', '들리나요', '살아갈께요', '있어요', '찾아갈께요', '지워져요', '미안해요', '보여요', '말아요', '싶어요', '봐요', '필요', '적어요', '미쳐요', '적어요', '감사해요', '걸요', '걸요', '걸요', '믿으니까요', '걸요', '걸요', '걸요', '믿으니까요', '걸요', '걸요', '믿으니까요', '감사해요', '있네요', '지우나요', '없네요', '있네요', '지우나요', '없네요', '견디나요', '없네요', '걱정되네요', '미안해요', '알아요', '말아요', '있어요', '가세요', '괜찮아요', '흘릴께요', '흘릴께요', '않아요', '말아요', '떠나요', '않아요', '바라봐요', '바라봐요', '바라봐요', '내릴꺼예요', '날바라봐요', '내릴꺼예요', '괜찮아요', '흘릴께요', '흘릴께요', '기다릴께요', '반했어요', '사랑해줘요', '반했어요', '반했어요', '필요', '필요', '필요', '없어요', '위로해줘요', '없어요', '위로해줘요', '없어요', '위로해줘요', '대요', '봐요', '어떡해요', '어색해요', '거예요', '좋아요', '좋아요', '좋아요', '대요', '봐요', '어떡해요', '어색해요', '거예요', '좋아요', '좋아요', '좋아요', '거예요', '마요', '어색해요', '거예요', '몰라요', '가요', '좋아요', '좋아요', '좋아요', '거예요', '좋아요', '좋아요', '좋아요', '좋아요', '좋아요', '거예요', '좋아요', '좋아요', '좋아요', '좋아요', '좋아요', '거예요', '좋아요', '좋아요', '싫증났나요', '않아요', '없어졌네요', '아프잖아요', '떠나갔네요', '무너져가요', '있나요', '돌아와요', '싫증났나요', '않아요', '없어졌네요', '아프잖아요', '떠나갔네요', '무너져가요', '있나요', '돌아와요', '통해요', '몰라요', '통해요', '통해요', '몰라요', '통해요', '통해요', '몰라요', '통해요', '같아요', '할래요', '해줘요', '줘요', '싶어요', '돼요', '먹어주세요', '웃어주세요', '안아주세요', '해줘요', '넘었어요', '해요', '아침이에요', '있나요', '괴로워요', '몰라요', '지켜줘요', '해주세요', '말아요', '넘었어요', '해요', '아침이에요', '있나요', '괴로워요', '몰라요', '여자예요', '여자예요', '알아줘요', '넘었어요', '해요', '아침이에요', '있나요', '괴로워요', '몰라요', '선명한데요', '그대론데요', '기억나요', '아파요', '없나요', '갔나요', '없나요', '둬요', '아파요', '아파요', '울어요', '어떡해요', '없어요', '없어요', '선명한데요', '그대론데요', '기억나요', '아파요', '없나요', '갔나요', '없나요', '둬요', '아파요', '아파요', '울어요', '어떡해요', '없나요', '없나요', '버렸어요', '버렸어요', '버렸어요', '버렸어요', '버렸어요', '버렸어요', '보나요', '있는데요', '살아요', '버렸어요', '버렸어요', '떠나요', '가네요', '떠나가네요', '원해요', '좋은데요', '나눌래요', '가네요', '떠나가네요', '원해요', '좋은데요', '나눌래요', '줘요', '떠나갔나요', '달래주네요', '않네요', '줘요', '줘요', '떠나갔나요', '달래주네요', '않네요', '불러요', '싶어요', '나요', '갔나요', '되어줘요', '외로워요', '싶어요', '나요', '갔나요', '말아요', '사랑해줘요', '바라봐줘요', '말아요', '사랑해줘요', '맞춰줘요', '실례할게요', '봐요', '원해요', '실례할게요', '잠깐만요', '잠깐만요', '있나요', '봐요', '원하잖아요', '있어요', '잠깐만요', '있나요', '봐요', '원하잖아요', '있어요', '잠깐만요', '있나요', '봐요', '원하잖아요', '있어요', '필요', '뭔가요', '넘었네요', '힘드네요', '넘었네요', '힘드네요', '뿌려줘요', '아껴주세요', '뿌려줘요', '될래요', '허락해줘요', '아껴주세요', '뿌려줘요', '원해요', '해줘요', '돼요', '돼요', '웃어요', '돼요', '돼요', '특별해요', '내가요', '나요', '나요', '나요', '나요', '나요', '나요', '나요', '나요', '나요', '나요', '나요', '해줄래요', '못해요', '만들어요', '좋게해줘요', '어떡해요', '그래요', '몰라요', '만들어요', '좋게해줘요', '만들어요', '좋게해줘요', '필요', '필요', '필요', '필요', '필요', '필요', '올라가요', '올라가요', '싶어요', '싶어요', '싶어요', '싶어요', '와줘요', '머물러요', '말아요', '싶어요', '싶어요', '줘요', '어떡할까요', '안아줘요', '알잖아요', '가네요', '보재요', '싶어요', '알잖아요', '마요', '싶어요', '기다려요', '채워줄게요', '줘요', '않아요', '해요', '걱정돼요', '아껴줄게요', '줘요', '않아요', '기다릴게요', '줘요', '않아요', '기다려져요', '나타나줘요', '궁금해요', '될까요', '될까요', '떨려와요', '걸까요', '줘요', '궁금해요', '될까요', '나타나줘요', '궁금해요', '될까요', '될까요', '기도할게요', '난요', '걸요', '거예요', '기도할게요', '난요', '걸요', '거예요', '담아둘래요', '기도할게요', '난요', '걸요', '거예요', '들리나요', '있나요', '아나요', '응원해줘요', '칭찬해줘요', '시작해봐요', '좋아요', '멋져요', '힘내요', '믿어요', '존중해줘요', '배려해줘요', '시작해봐요', '좋아요', '멋져요', '힘내요', '믿어요', '위로해줘요', '돼줘요', '시작해봐요', '좋아요', '멋져요', '힘내요', '믿어요', '해요', '됐대요', '했대요', '빌었대요', '달래요', '빌었대요', '바래요', '그래요', '앓아요', '빌었대요', '해요', '줄래요', '해줘요', '돼요', '약속해줘요', '있어요', '안아줘요', '돼요', '봐요', '부담돼요', '마요', '해요', '해요', '가요', '해요', '해요', '잘해요', '해요', '해요', '좋아진걸요', '설레요', '떨려요', '안아줘요', '좋아진걸요', '설레요', '떨려요', '안아줘요', '떨려요', '보네요', '좋아진걸요', '설레요', '떨려요', '안아줘요', '있네요', '될까요', '될까요', '될까요', '될까요', '될까요', '있네요', '없나요', '있네요', '될까요', '될까요', '될까요', '될까요', '있네요', '이상해요', '없어요', '같아요', '말할래요', '된대요', '안돼요', '무거워져요', '나요', '말할래요', '된대요', '안돼요', '무거워져요', '말할래요', '된대요', '안돼요', '무거워져요', '나요', '있어요', '약속할래요', '약속할래요', '약속할래요', '약속할래요', '약속할래요', '말아요', '기다려요', '함께해요', '지나가요', '지나가요', '지나가요', '마요', '몰라요', '몰라요', '마요', '없어요', '몰라요', '떨려요', '생각해요', '몰라요', '몰라요', '몰라요', '해주세요', '해주세요', '해주세요', '해주세요', '해주세요', '해주세요', '해주세요', '해주세요', '해주세요', '해주세요', '해주세요', '말아요', '알아요', '알아요', '싶어요', '말해줘요', '말해줘요', '보여요', '마요', '떠오르네요', '있어줄래요', '지켜줄게요', '고마워요', '지켜줄게요', '될게요', '싶어요', '몰라요', '주세요', '싶어요', '줄래요', '다가와요', '설레게요', '싶어요', '몰라요', '주세요', '싶어요', '줄래요', '다가와요', '설레게요', '따라와요', '와요', '몰라요', '어떤가요', '보네요', '어떡해요', '말할래요', '좋아요', '보네요', '나요', '어떡해요', '갈래요', '좋아요', '좋아요', '잡아요', '힘든가요', '잡아요', '참았나요', '잡아요', '잡아요', '웃어요', '아나요', '안아주세요', '않아요', '아나요', '보이나요', '걸어요', '말아요', '불러요', '말아요', '말아요', '있어줘요', '걸어요', '말아요', '불러요', '걸어요', '말아요', '불러요', '믿어요', '알아요', '알아요', '알아요', '흔들어놔요', '흔들어놔요', '들어줘요', '흔들어놔요', '비춰줘요', '같아요', '알아요', '봐요', '같아요', '알아요', '깨달아요', '없나요', '없네요', '기억하나요', '설레이나요', '없나요', '필요', '기억하나요', '설레이나요', '없나요', '기억하나요', '설레이나요', '없나요', '기억하나요', '설레이나요', '없나요', '보여요', '될까요', '생각해요', '좋아요', '그리네요', '흘러요', '될까요', '생각해요', '좋아요', '그리네요', '속삭여요', '마요', '넘어가나요', '굴래요', '아녜요', '못해주나요', '굴래요', '아녜요', '사랑해줘요', '알아봐줘요', '울리나요', '바라봐줘요', '아녜요', '기다려요', '그려요', '맞나요', '그려요', '그려요', '기억하나요', '떠나요', '기억하나요', '떠나요', '망설여요', '가요', '던져버려요', '기억하나요', '할까요', '궁금해요', '아나요', '하네요', '마요', '떨려요', '이러나요', '이건요', '고민돼요', '말까요', '대답해줘요', '안돼요', '이건요', '고민돼요', '말까요', '대답해줘요', '말해요', '말까요', '대답해줘요', '줘요', '말해줘요', '줘요', '안아줘요', '지켜줘요', '잡아줘요', '필요', '필요', '필요', '보아요', '있나요', '있나요', '말해요', '있나요', '없네요', '말려줘요', '없네요', '와요', '와요', '와요', '와요', '와요', '와요', '와요', '와요', '와요', '와요', '와요', '와요', '와요', '와요', '와요', '와요', '와요', '와요', '와요', '와요', '와요', '와요', '와요', '와요', '와요', '와요', '와요', '와요', '와요', '와요', '와요', '와요', '와요', '와요', '와요', '와요', '와요', '와요', '와요', '와요', '와요', '와요', '돼요', '돼요', '돼요', '좋아요', '눌러요', '좋아요', '없나요', '좋아요', '말해요', '없나요', '좋아요', '두근대요', '좋아요', '눌러요', '좋아요', '없나요', '좋아요', '좋아요', '눌러요', '좋아요', '없나요', '좋아요', '말해요', '없나요', '좋아요', '녹여줘요', '녹여줘요', '녹여줘요', '가요', '필요', '열어줘요', '열어줘요', '열어줘요', '나요', '우울해요', '봐요', '마요', '가요', '가요', '아나요', '와요', '기다렸어요', '말해요', '봐요', '진대요', '마요', '시작해요', '가요', '아나요', '와요', '기다렸어요', '말해요', '싶어요', '싶어요', '나는요', '싫어요', '둘이에요', '가요', '사랑해요', '온건가요', '기다렸어요', '말해요', '가요', '아나요', '와요', '기다렸어요', '말해요', '기억하나요', '기억해요', '약속해요', '않은걸요', '괜찮아요', '약속해요', '않은걸요', '괜찮아요', '않은걸요', '뛰어요', '뛰어요', '뛰어요', '뛰어요', '가져가요', '행복해요', '고마워요', '가져가요', '많아요', '어떡해요', '모르겠어요', '들어봐요', '녹아요', '좋아요', '버려요', '말할거예요', '녹아요', '봐요', '장난쳐요', '없어요', '가르쳐줘요', '줘요', '용서해요', '괜찮아요', '필요', '잘못인걸요', '알아요', '고였잖아요', '맘인걸요', '알잖아요', '해볼게요', '괜찮아요', '필요', '그대인걸요', '영원한걸요', '알아요', '고였잖아요', '맘인걸요', '알잖아요', '해볼게요', '걸요', '알아요', '흐르잖아요', '맘인걸요', '알잖아요', '해볼게요', '못해요', '되나요', '되나요', '없나요', '얇게요', '달게요', '상큼해요', '가요', '이런건가요', '멀어져가요', '말아요', '불러요', '불러요', '인사해요', '불러요', '뭔가요', '나요', '붙어요', '붙어요', '붙어요', '모여요', '모여요', '모여요', '필요', '고요', '심해져요', '않아요', '뱉어내요', '뱉어내요', '뱉어내요', '뱉어내요', '발견했어요', '있던걸요', '털어가요', '털어가요', '걸요', '털어가요', '따라와요', '따라와요', '기다려요', '따라와요', '따라와요', '따라와요', '따라와요', '다녀가요', '데려가요', '알아요', '나요', '같아요', '빛나요', '기적이에요', '빛나요', '빛나요', '기적이에요', '기적이에요', '와요', '가져가요', '그래요', '그래요', '환영해요', '않았나요', '열어요', '준비됐어요', '와요', '가져가요', '그래요', '그래요', '환영해요', '데워요', '시작할게요', '와요', '가져가요', '그래요', '그래요', '환영해요', '받아요', '환영해요', '뛰어요', '머물러줘요', '와요', '가져가요', '그래요', '그래요', '환영해요', '받아요', '환영해요', '해줘요', '말아요', '안돼요', '안돼요', '가요', '있을까요', '했잖아요', '안돼요', '안돼요', '왔나요', '제발요', '봐요', '뭐했었나요', '숨었었네요', '궁금해져요', '거에요', '잊으셨나요', '괜찮은가요', '뭐했었나요', '숨었었네요', '궁금해져요', '만들거예요', '걸어줘요', '용감하게요', '몰라요', '있어줄래요', '확실해요', '아세요', '아세요', '탓일까요', '말아요', '탓일까요', '말아요', '말아요', '있어줘요', '보였나요', '걱정됐나요', '같나요', '불안해마요', '같나요', '잡아줄게요', '감싸줄게요', '없어요', '안아줄게요', '감싸줄게요', '필요', '없어요', '없어요', '행복해요', '들리나요', '둘게요', '좋아해요', '질까요', '고백할게요', '봐요', '좋아해요', '약속해요', '둘게요', '주세요', '고백할게요', '봐요', '줄게요', '있어요', '좋아해요', '그려요', '기억하나요', '기억하나요', '가요', '말아요', '잡아요', '하나요', '믿어요', '말아요', '말아요', '있을게요', '보이네요', '마요', '믿어요', '바라봐요', '어떡해요', '물들어가요', '밝혀주네요', '필요하나요', '밝혀주네요', '사라지네요', '못해요', '같아요', '번져요', '숨겨요', '설레어가요', '있나요', '번져요', '숨겨요', '설레어가요', '번져요', '숨겨요', '설레어가요', '주세요', '떠날래요', '속삭여줘요', '할게요', '봤어요', '마요', '줘요', '있어요', '싶은걸요', '고마워요', '알아줄래요', '싶은걸요', '거에요', '낼게요', '싶은걸요', '고마워요', '알아줄래요', '떠올라요', '쓸까요', '희미해요', '쓸까요', '있나요', '풀려요', '있어요', '걸요', '있어요', '생겨요', '기도해요', '기도해요', '있어요', '사랑해요', '떨려오네요', '두근대요', '기적일까요', '마요', '젖어오네요', '기다려요', '같아요', '못하겠어요', '도와줘요', '그랬어요', '도와줘요', '말아요', '알아줘요', '않아요', '그래요', '있나요', '알아요', '하나요', '하나요', '생각해봐요', '소리쳐봐요', '사랑해요', '어색해요', '이뤄요', '생각해봐요', '소리쳐봐요', '사랑해요', '생각해봐요', '바꿔요', '소리쳐봐요', '사랑해요', '내요', '웃어요', '늦나요', '놀아요', '내요', '웃어요', '보세요', '있어요', '내요', '웃어요', '내요', '웃어요', '힘내세요', '내요', '사랑해요', '웃어요', '건강하세요', '사랑해요', '고마워요', '잘해볼께요', '하나요', '필요', '어떤가요', '같은가요', '안되나요', '어린가요', '아파요', '보이나요', '아파요', '보나요', '들려요', '않아요', '울려퍼져요', '같아요', '같아요', '와요', '들려요', '않아요', '울려퍼져요', '같아요', '같아요', '들려요', '않아요', '울려퍼져요', '같아요', '몰라요', '될까요', '달라니까요', '달라니까요', '잊었나요', '잊었나요', '줘요', '주세요', '달라니까요', '줘요', '주세요', '달라니까요', '안아줘요', '안아줘요', '안아줘요', '안아줘요', '안아줘요', '안아줘요', '들었어요', '없어요', '줘요', '주세요', '달라니까요', '줘요', '주세요', '달라니까요', '안아줘요', '안아줘요', '안아줘요', '안아줘요', '안아줘요', '안아줘요', '달라니까요', '달라니까요', '달라니까요', '안아주세요', '잘했어요', '해봐요', '죽겠어요', '어려웠나요', '해봐요', '않아요', '해봐요', '해봐요', '봐요', '해봐요', '다가요', '해봐요', '춰봐요', '봐요', '해봐요', '해요', '빼놔요', '해봐요', '봐요', '해봐요', '다가요', '해봐요', '춰봐요', '봐요', '해봐요', '해봐요', '봐요', '춰봐요', '다가요', '해봐요', '춰봐요', '봐요', '해봐요', '마요', '보여줘요', '보여줘요', '보여줘요', '보여줘요', '보여줘요', '보여줘요', '줘요', '줘요', '주세요', '보여줄게요', '보여줄게요', '보여줄게요', '물어보아요', '물어요', '궁금한걸요', '궁금한걸요', '물어보아요', '물어요', '궁금한걸요', '궁금한걸요', '주세요', '궁금한걸요', '궁금한걸요', '궁금한걸요', '궁금한걸요', '줘요', '궁금한걸요', '말해주세요', '궁금한걸요', '아나요', '봐요', '보여요', '놀아봐요', '놀아봐요', '밀어요', '올라요', '이겨버려요', '주세요', '놀아봐요', '놀아봐요', '밀어요', '올라요', '이겨버려요', '놀아봐요', '놀아봐요', '밀어요', '올라요', '이겨버려요', '어때요', '예뻐요', '믿어요', '웃어요', '못해요', '못해요', '물어요', '어때요', '말해요', '못해요', '못해요', '있나요', '봐요', '맞아요', '봐요', '맞아요', '다가와요', '마요', '해요', '필요해요', '뜨거워요', '어때요', '알려줘요', '마요', '기다릴게요', '있나요', '아나요', '응원해줘요', '칭찬해줘요', '시작해봐요', '좋아요', '멋져요', '힘내요', '믿어요', '존중해줘요', '배려해줘요', '시작해봐요', '좋아요', '멋져요', '힘내요', '믿어요', '위로해줘요', '돼줘요', '시작해봐요', '좋아요', '멋져요', '힘내요', '믿어요', '해요', '알아요', '하네요', '하나요', '보여요', '같아요', '보이나요', '생각해봐요', '하나요', '보여요', '괜찮아요', '하나요', '보여요', '센치하구요', '가득찼구요', '알까요', '않아요', '않아요', '돼요', '안아줘요', '거예요', '거예요', '살았대요', '싶어요', '좋아해요', '이럴까요', '봐요', '싶어요', '보고파요', '이럴까요', '봐요', '이럴까요', '봐요', '봐요', '필요', '장소예요', '할까요', '거에요', '할까요', '거에요', '거에요', '거예요', '돼요', '해요', '걸요', '거예요', '거예요', '거예요', '돼요', '해요', '걸요', '거예요', '거예요', '거에요', '거예요', '거예요', '거예요', '거예요', '거에요', '거에요', '나요', '마요', '필요', '커져요', '마요', '하세요', '지켜주세요', '주세요', '빠졌어요', '싶어요', '봤어요', '주세요', '빠졌어요', '싶어요', '주세요', '빠졌어요', '싶어요', '있어요', '마요', '하세요', '지켜주세요', '보네요', '준비하네요', '속할까요', '하는가요', '필요', '마요', '마요', '달라요', '필요', '필요', '필요', '필요', '들어줘요', '줄게요', '들어줘요', '줄게요', '있어요', '나예요', '있어요', '나예요', '생각나요', '누군데요', '봐요', '봐요', '봐줘요', '봐요', '봐요', '봐요', '넘어가요', '봐요', '봐요', '봐요', '봐요', '싶어요', '있어요', '그래요', '그래요', '그래요', '속삭여줘요', '해줘요', '벅차요', '주세요', '주세요', '말해요', '내꺼예요', '주세요', '주세요', '주세요', '주세요', '싶어요', '말해줘요', '좋아지나요', '내꺼예요', '주세요', '주세요', '주세요', '주세요', '싶어요', '말해줘요', '주세요', '주세요', '서둘러줘요', '주세요', '주세요', '싫어요', '말해줘요', '마요', '마요', '마요', '말해요', '말이에요', '죽겠어요', '말이에요', '죽겠어요', '않나요', '않나요', '지켜줘요', '말해요', '말이에요', '죽겠어요', '말이에요', '죽겠어요', '말이에요', '같이해요', '좋아해요', '좋아요', '난걸요', '나오네요', '변했대요', '필요', '봐줘요', '잘해볼게요', '나오네요', '변했대요', '행복해요', '예쁘대요', '같아요', '봐요', '안아줘요', '변했대요', '웃어줘요', '큰일났어요', '웃어줘요', '웃어줘요', '웃어줘요', '여봐요', '나오세요', '쓰여요', '몰라요', '뭐해요', '있는데요', '않아요', '달달해요', '해요', '안돼요', '달달해요', '달달해요', '가요', '사랑인가요', '다녀올게요', '부르네요', '가요', '주네요', '가요', '행복하네요', '가요', '주네요', '약속해요', '가요', '주네요', '해줄래요', '해줄래요', '할게요', '해줄래요', '안녕하세요', '좋아요', '끝내줬어요', '했어요', '이뻐요', '좋아요', '좋아요', '몰라요', '즐겁잖아요', '없나요', '할까요', '쌀쌀하네요', '쓰네요', '해요', '되나요', '싶어요', '괜찮아요', '할게요', '즐겁잖아요', '없나요', '할까요', '안녕하세요', '부탁해요', '안녕하세요', '안녕하세요', '부탁해요', '안녕하세요', '계세요', '고마워요', '필요', '왜요', '왜요', '돼요', '돼요', '왜요', '왜요', '돼요', '돼요', '나는요', '봐줘요', '여기요', '왜요', '왜요', '돼요', '돼요', '왜요', '왜요', '돼요', '돼요', '봐줘요', '나는요', '봐줘요', '여기요', '왜요', '왜요', '돼요', '돼요', '왜요', '왜요', '돼요', '돼요', '봐요', '나는요', '봐줘요', '여기요', '왜요', '왜요', '돼요', '돼요', '왜요', '왜요', '돼요', '돼요', '봐줘요', '말해줘요', '말해줘요', '말해줘요', '말해줘요', '말해줘요', '말해줘요', '줘요', '보여주세요', '있대요', '그렇게요', '줘요', '저요', '말해줘요', '줘요', '보여줘요', '줘요', '안아줘요', '줘요', '안아줘요', '줘요', '전해줘요', '줘요', '해요', '해요', '돼요', '싫어요', '않아요', '어떡해요', '줘요', '저요', '말해줘요', '줘요', '보여줘요', '줘요', '안아줘요', '줘요', '안아줘요', '줘요', '전해줘요', '줘요', '보내요', '아니예요', '잡아봐요', '줘봐요', '줘요', '저요', '말해줘요', '줘요', '보여줘요', '줘요', '안아줘요', '줘요', '안아줘요', '줘요', '전해줘요', '줘요', '아니에요', '사로잡아요', '예뻐요', '예뻐요', '예뻐요', '예뻐요', '싶어요', '마요', '몰라요', '그래요', '바래요', '안아주세요', '마요', '알아줘요', '마요', '필요', '필요', '그댄가요', '보이네요', '그댄가요', '보이네요', '여보세요', '여보세요', '달라요', '닮았네요', '말아요', '알까요', '알까요', '없나요', '없나요', '있나요', '달라요', '닮았네요', '말아요', '알까요', '알까요', '없나요', '없나요', '있나요', '알까요', '없나요', '있나요', '같나요', '같나요', '아시나요', '있잖아요', '그리워요', '훔쳐요', '불러요', '말아줘요', '게요', '부탁해요', '말예요', '헤어졌나요', '아녜요', '울어요', '아녜요', '묻나요', '용인걸요', '얘기해요', '말아줘요', '헤어졌나요', '아녜요', '울어요', '아녜요', '묻나요', '용인걸요', '있어요', '폈어요', '착각일까요', '봤어요', '폈어요', '폈어요', '폈어요', '사람이에요', '만드네요', '사람이에요', '에요', '폈어요', '폈어요', '폈어요', '폈어요', '폈어요', '폈어요', '있어요', '폈어요', '착각일까요', '사람이에요', '만드네요', '사람이에요', '에요', '폈어요', '폈어요', '폈어요', '폈어요', '폈어요', '폈어요', '사람이에요', '만드네요', '사람이에요', '에요', '폈어요', '폈어요', '폈어요', '폈어요', '폈어요', '폈어요', '멈춰줘요', '빼줘요', '봐요', '말아요', '해요', '마주쳐요', '멈춰줘요', '급해져요', '꾸어요', '되나요', '보내요', '되나요', '되나요', '안돼요', '낼게요', '안돼요', '낼게요', '싶어요', '싶어요', '싶어요', '마요', '설레요', '말래요', '같아요', '별로예요', '달라구요', '안아줘요', '만나줘요', '안아줘요', '안아줘요', '자요', '자요', '자요', '자요', '자요', '자요', '자요', '자요', '자요', '꿔요', '자요', '자요', '자요', '자요', '자요', '자요', '자요', '자요', '자요', '꿔요', '돼요', '돼요', '해요', '안아줘요', '웃어줘요', '마요', '울잖아요', '안아줘요', '웃어줘요', '마요', '울잖아요', '해요', '떠지네요', '꼈네요', '울었네요', '먹어요', '그려지네요', '느껴지네요', '싫어요', '풀려요', '생각해요', '마요', '걱정돼요', '채워지네요', '해줘요', '해줘요', '해줘요', '해요', '춤춰요', '안돼요', '기대요', '필요', '그래요', '할께요', '했던가요', '하는가요', '그래요', '했던가요', '했던가요', '좋겠어요', '믿어요', '괜찮아요', '말해봐요', '하지마요', '하지마요', '좋겠어요', '믿어요', '좋은걸요', '보여줄께요', '좋겠어요', '믿어요', '괜찮아요', '있어요', '좋겠어요', '좋겠어요', '날믿어요', '이루세요', '두려운걸요', '불안한걸요', '놀리지마요', '몰라요', '나요', '그래요', '간절한가요', '하나요', '저예요', '싶었어요', '봐요', '지잖아요', '버리잖아요', '어려워요', '믿을거예요', '지킬게요', '힘들었어요', '없었나요', '없나요', '아니잖아요', '없잖아요', '될거예요', '하겠어요', '사랑해요', '안되나요', '사랑하나요', '좋아요', '있어요', '사랑해요', '들을까요', '기다려요', '있잖아요', '벅차오네요', '이런가요', '들을까요', '기다려요', '있잖아요', '벅차오네요', '이런가요', '알잖아요', '들을까요', '기다려요', '있잖아요', '벅차오네요', '이런가요', '있잖아요', '이런가요', '알까요', '괜찮아요', '알까요', '괜찮아요', '믿어요', '괜찮아요', '없어요', '말아요', '믿어볼께요', '없어요', '말아요', '믿어볼께요', '없어요', '말아요', '믿어볼께요', '않을께요', '와요', '맞나요', '잘왔어요', '미안해마요', '마요', '안아줄래요', '잘왔어요', '미안해마요', '마요', '안아줄래요', '고마워요', '머물러요', '않을께요', '슬퍼보여요', '내려요', '사람같아요', '알려줄래요', '와줘요', '돼줘요', '말할까요', '들리나요', '알려줄래요', '와줘요', '돼줘요', '알려줄래요', '안아줄래요', '내게와줘요', '빛나줄래요', '않아요', '있나요', '붙잡아줘요', '다가와요', '믿어요', '보내요', '보내줘요', '해요', '감사해요', '다가와요', '믿어요', '보내요', '보내줘요', '해요', '감사해요', '뜨지말아요', '말아요', '싫어요', '말아요', '바꾸지마요', '부탁해요', '말아요', '그러지마요', '그러지마요', '미쳤나봐요', '가질께요', '아파보여요', '나요', '나요', '나요', '끝나나요', '있나요', '돼가네요', '일어설게요', '즐거웠어요', '가볼게요', '말아요', '마요', '있어요', '잡아요', '말아요', '있어요', '웃어요', '웃어봐요', '나눠요', '거에요', '말아요', '마요', '있어요', '잡아요', '웃어요', '나눠요', '거에요', '봐요', '있어요', '말아요', '마요', '있어요', '잡아요', '감아요', '들어요', '말아요', '마요', '있어요', '잡아요', '말아요', '마요', '있어요', '잡아요', '웃어요', '나눠요', '거에요', '아파요', '있어요', '주세요', '웃어요', '웃어요', '웃어요', '타올라요', '많이나요', '보지마요', '같이가요', '필요', '말해줘요', '보이나봐요', '말아요', '나빠요', '있나요', '아파요', '없네요', '가지마요', '가지마요', '있잖아요', '않은가요', '건가요', '아픔인가요', '없네요', '나빠요', '있나요', '아파요', '없네요', '가나요', '하나요', '가지마요', '가지마요', '있잖아요', '있잖아요', '보아요', '담아요', '보이네요', '흔들어요', '담아요', '떠올라요', '흔들어요', '흔들어요', '있네요', '견뎌나가요', '했었던가요', '있나요', '이런걸요', '드릴래요', '가질래요', '기다릴게요', '몰라요', '걸어나가요', '줘요', '했었던가요', '있나요', '들어요', '걸요', '메어있네요', '설레요', '알아요', '있어요', '사랑할래요', '맴도네요', '알아요', '하려해요', '맴도네요', '알아요', '맴도네요', '겁이나요', '않을게요', '거예요', '겁이나요', '않을게요', '겁이나요', '않을게요', '겁이나요', '않을게요', '주네요', '걸요', '머물러요', '알고싶어요', '변해가네요', '걸요', '알고있나요', '알아요', '알고싶어요', '하네요', '있잖아요', '괜찮아요', '욕하지마요', '없잖아요', '있잖아요', '괜찮아요', '욕하지마요', '말아요', '있잖아요', '괜찮아요', '욕하지마요', '입어요', '비워놓아요', '그만해요', '일어서요', '걸요', '놓아주세요', '보여줘요', '있나요', '있나요', '가요', '기다려요', '참아둬요', '꺼에요', '보여줘요', '커버리네요', '어요', '보여줘요', '하네요', '보아요', '무서워요', '지켜줘요', '잡아줘요', '안아줘요', '무서워요', '지켜줘요', '잡아줘요', '안아줘요', '무서워요', '지켜줘요', '잡아줘요', '안아줘요', '주세요', '싶어요', '만나주세요', '보고싶어요', '만나주세요', '봐요', '느껴져요', '괜찮아요', '봐요', '느껴져요', '괜찮아요', '싶어요', '봐요', '느껴져요', '괜찮아요', '몰라요', '몰라요', '몰라요', '몰라요', '지쳐있나요', '기대요', '감싸줄게요', '봐요', '마요', '지내요', '마요', '만나요', '마요', '부탁해요', '찾아오세요', '기억해요', '만나요', '마요', '부탁해요', '찾아오세요', '기억해요', '할까요', '말아줘요', '만나요', '마요', '부탁해요', '찾아오세요', '기억해요', '만나요', '마요', '부탁해요', '찾아오세요', '기억해요', '만나요', '마요', '부탁해요', '찾아오세요', '기억해요', '기억해요', '알까요', '사랑할래요', '있나요', '사랑할래요', '알까요', '사랑할래요', '느껴요', '반짝여요', '잡아줘요', '놓지마요', '할께요', '아나요', '키스해요', '할께요', '안아줘요', '할께요', '가요', '고마워요', '사랑해요', '말해요', '해요', '걸요', '말해요', '해요', '걸요', '말해요', '해요', '걸요', '말해요', '해요', '걸요', '알잖아요', '나요', '깜깜해요', '멀었나요', '봐요', '말아요', '할께요', '볼께요', '알잖아요', '나요', '깜깜해요', '않아요', '해줘요', '알까요', '알잖아요', '나요', '깜깜해요', '않아요', '해줘요', '요를레이요', '불러봐요', '요를레이요', '외쳐봐요', '요를레이요', '요를레이요', '불러봐요', '요를레이요', '외쳐봐요', '요를레이요', '지겹잖아요', '어렵잖아요', '잘했잖아요', '아니잖아요', '할래요', '필요', '없어요', '기다릴게요', '믿어요', '믿어요', '편지할게요', '드려요', '편지할게요', '싶어요', '드려요', '드려요', '필요', '서있어요', '있어요', '전해요', '들리나요', '약속해요', '걸어갈래요', '만날거예요', '있어요', '전해요', '들리나요', '약속해요', '걸어갈래요', '전해요', '들리나요', '사랑해요', '함께해요', '줄까요', '기다릴까요', '줄까요', '기다릴까요', '줄래요', '줄래요', '봐요', '헤어지나요', '마세요', '안아줘요', '얘기해요', '헤어지나요', '마세요', '안아줘요', '얘기해요', '헤어지나요', '마세요', '안아줘요', '얘기해요', '할까요', '할까요', '할까요', '밤이에요', '해줘요', '보네요', '뭐에요', '소개해줘요', '해줘요', '파세요', '살게요', '해줘요', '해줘요', '있나요', '잊었나요', '건가요', '보내요', '와요', '위험해요', '해요', '위로해줘요', '알아요', '쳐요', '말아요', '와요', '위험해요', '해요', '그만해요', '필요', '위험해요', '해요', '위험해요', '해요', '위로해줘요', '쌓여가네요', '쏴줘요', '걷네요', '멈춰서네요', '기도드려요', '바래요', '잊어요', '지어요', '여보세요', '와요', '사실이예요', '진짜예요', '걸렸어요', '붙여주세요', '찾아올까요', '미워요', '갈래요', '지어요', '노래해요', '있나요', '들어요', '돌아와줘요', '없는가요', '있나요', '들어요', '돌아와줘요', '말아요', '말아요', '알아요', '말아요', '될께요', '줄께요', '가득한걸요', '보이네요', '알아요', '될께요', '줄께요', '가득한걸요', '잡아요', '일어서봐요', '지킬께요', '드려요', '말해주네요', '내어드려요', '필요한가요', '비춰드려요', '드려요', '감사드려요', '드려요', '드려요', '드려요', '드려요', '드려요', '믿나요', '꾸어요', '슬퍼말아요', '잖아요', '기도해요', '눈이와요', '행복해요', '눈이와요', '드려요', '말아요', '잖아요', '기도해요', '행복해요', '주어요', '잊어요', '줄께요', '와요', '행복해요', '감사드려요', '감사드려요', '있네요', '안아주네요', '있어요', '잡아주어요', '있어요', '사랑해요', '있어요', '떨려요', '느끼나봐요', '말해줘요', '싶어요', '말해줘요', '싶어요', '말해줘요', '싶어요', '말해줘요', '싶어요', '말해줘요', '싶어요', '되네요', '말할꺼예요', '되네요', '말할꺼예요', '마요', '웃어봐요', '마요', '나눌게요', '마요', '나눌게요', '웃어봐요', '예쁜걸요', '믿어요', '말할래요', '얘기해요', '해요', '얘기해요', '수고해요', '조심해요', '인사해봐요', '고마워요', '사랑해요', '말해주세요', '생각하세요', '지켜내세요', '둬요', '함께해요', '생각하세요', '지켜내세요', '둬요', '함께해요', '생각하세요', '지켜내세요', '생각하세요', '지켜내세요', '감천이요', '주세요', '와요', '주세요', '와요', '주세요', '와요', '와요', '없어요', '좋아요', '말해요', '말해요', '춤춰요', '말해요', '말해요', '춤춰요', '말해요', '말해요', '춤춰요', '보세요', '어때요', '느껴져요', '싫어요', '미워요', '장난치나요', '느껴져요', '말아요', '속삭여요', '말아요', '속삭여요', '떨려요', '통해요', '말아요', '속삭여요', '춰요', '보지마요', '흔들어요', '돌아봐요', '춰요', '보지마요', '흔들어요', '돌아봐요', '춰요', '보지마요', '돌아봐요', '춤을춰요', '춤을춰요', '외로워요', '춤을춰요', '춤을춰요', '외로워요', '춤을춰요', '춤을춰요', '춤을춰요', '춤을춰요', '춤을춰요', '춤을춰요', '춤을춰요', '춤을춰요', '춤을춰요', '외로워요', '춤을춰요', '춤을춰요', '외로워요', '춤을춰요', '춤을춰요', '춤을춰요', '춤을춰요', '춤을춰요', '떠나요', '떠나요', '떠나요', '떠나요', '불러요', '불러요', '불러요', '불러요', '불러요', '불러요', '불러요', '불러요', '불러요', '살아봐요', '요요요요요', '살아봐요', '요요요요요', '살아봐요', '요요요요요', '똑같나요', '나요', '똑같나요', '나요', '똑같나요', '나요', '똑같나요', '나요', '똑같나요', '나요', '똑같나요', '나요', '기억하나요', '처음이에요', '어지러워요', '흔들어요', '따라해요', '바라봐요', '흔들어요', '따라해요', '바라봐요', '좋아요', '거려요', '준비됐나요', '준비됐어요', '따라해요', '바라봐요', '필요', '비밀인가요', '아닌가요', '기도인가요', '말았어요', '기억해요', '괜찮아요', '있어줘요', '있나요', '기억해요', '기억해요', '괜찮아요', '있어줘요', '있나요', '기억해요', '괜찮아요', '있어줘요', '기도해요', '기도해요', '기도해요', '사랑했어요', '생각해요', '간직할게요', '사랑했어요', '필요', '필요', '아나요', '와요', '바라나요', '보여줘요', '있어줘요', '와요', '와요', '봐요', '있네요', '봐요', '혼자인걸요', '힘들었나요', '못하겠어요', '행복하세요', '행복하세요', '살아갈께요', '지났나봐요', '혼자인걸요', '이해할께요', '받았잖아요', '행복하세요', '행복하세요', '불어요', '해요', '해요', '해요', '말해요', '생겨요', '해봐요', '없어요', '빨라요', '갈께요', '똑같아요', '말해요', '생겨요', '해봐요', '차려요', '해요', '부끄러워요', '오세요', '갈께요', '똑같아요', '가요', '찾아요', '말구요', '외쳐요', '찾아요', '사랑말구요', '해봐요', '필요', '안아줄래요', '예뻐요', '보여요', '싶어요', '아파요', '착해요', '없어요', '예뻐요', '보여요', '있나요', '있나요', '있나요', '줄래요', '사랑해요', '되나요', '있나요', '줄래요', '사랑해요', '있나요', '어떻해요', '해요', '건가요', '건가요', '없네요', '멀리있네요', '흐르네요', '용서해요', '알아요', '물어요', '멀리있네요', '흐르네요', '싶나요', '있나요', '지쳐가요', '해요', '말해줄래요', '싶어요', '아름다워요', '행복이예요', '않을거에요', '내봐요', '키스해줘요', '같아요', '나라는걸요', '사랑해요', '알아요', '건가요', '필요', '필요', '필요', '어땠나요', '않았었나요', '마요', '어때요', '웃어요', '미워요', '말아요', '들리나요', '웃어요', '미워요', '말아요', '들리나요', '지워버려요', '번져요', '봐요', '웃어줘요', '좋아요', '줘요', '해요', '봐요', '부끄러워요', '장난마요', '열여요', '생략해줘요', '해줘요', '부드러워요', '장난마요', '상처받아요', '생략해줘요', '그만해줘요', '말려줘요', '생략해줘요', '해줘요', '돼요', '아나요', '어떡할까요', '느껴요', '돼요', '아나요', '늦었어요', '나요', '돼요', '아나요', '줘요', '돼요', '아나요', '돼요', '아나요', '춰요', '다쳐요', '안아줄래요', '사랑해줘요', '와줘요', '안아줘요', '위로해줘요', '전화해줘요', '싶네요', '사랑해줘요', '와줘요', '안아줘요', '위로해줘요', '전화해줘요', '싶네요', '해봐요', '해봐요', '해봐요', '해봐요', '해봐요', '해봐요', '해봐요', '해봐요', '해봐요', '해봐요', '해봐요', '해봐요', '해봐요', '해봐요', '해봐요', '해봐요', '해봐요', '해봐요', '해봐요', '해봐요', '해봐요', '해봐요', '해봐요', '해봐요', '해봐요', '해봐요', '해봐요', '해봐요', '해봐요', '해봐요', '해봐요', '해봐요', '해봐요', '해봐요', '해봐요', '해봐요', '해봐요', '해봐요', '해봐요', '해봐요', '해봐요', '해봐요', '해봐요', '해봐요', '해봐요', '해봐요', '해봐요', '해봐요', '해봐요', '봐요', '건가요', '해줘요', '건가요', '아파요', '건가요', '건가요', '해줘요', '아파요', '불러요', '보여요', '슬퍼말아요', '불러요', '보여요', '감아요', '마요', '끝인가요', '끝인가요', '할게요', '말아요', '잘해줘요', '웃어줘요', '마요', '마요', '두려워요', '줘봐요', '마요', '마요', '바라봐요', '잡아줘요', '마요', '마요', '바라봐요', '잡아줘요', '말아줘요', '솔직해져요', '마요', '마요', '궁금해요', '귀찮나요', '마요', '마요', '흔들어줘요', '마요', '마요', '미워요', '그리워해요', '그리워해요', '그리워해요', '그리워해요', '그리워해요', '마요', '웃어요', '미워요', '그리워해요', '그리워해요', '그리워해요', '그리워해요', '그리워해요', '나네요', '해요', '기억해요', '필요', '사랑해요', '사랑해요', '줄께요', '줄께요', '말아요', '머물러줘요', '있을께요', '바래요', '사랑해요', '사랑해요', '줄께요', '줄께요', '말아요', '머물러줘요', '있을께요', '바래요', '원해요', '원해요', '원해요', '그것뿐예요', '사랑해줘요', '치료해줘요', '원해요', '원해요', '원해요', '그것뿐예요', '사랑해줘요', '치료해줘요', '아파요', '사랑해줘요', '원해요', '원해요', '원해요', '그것뿐예요', '사랑해줘요', '치료해줘요', '마요', '자요', '내버려둬요', '내버려둬요', '심했어요', '심해져요', '봐요', '와요', '밀어내요', '필요', '필요', '필요', '들어요', '들어요', '가요', '못하나요', '않았나요', '없나요', '몰라요', '와요', '용서해요', '테니까요', '봐요', '와요', '봐요', '봐요', '몰랐어요', '몰라요', '와요', '용서해요', '테니까요', '봐요', '와요', '몰라요', '와요', '용서해요', '테니까요', '봐요', '와요', '봐요', '와요', '와요', '와요', '알까요', '안돼요', '찾아와봐요', '찾아와줘요', '맡겨봐요', '믿어봐요', '완벽한걸요', '믿어요', '특별한걸요', '믿어봐요', '완벽한걸요', '믿어요', '특별한걸요', '믿어봐요', '완벽한걸요', '믿어요', '특별한걸요', '걸요', '닫혀요', '줄래요', '필요', '줄래요', '걸요', '있어줘요', '바래요', '않아요', '생각해봐요', '녹아요', '말해줘요', '되어줘요', '남네요', '생각해봐요', '녹아요', '말해줘요', '되어줘요', '아나요', '보여요', '감아봐요', '말할게요', '되어줘요', '같아요', '좋아요', '좋아요', '다가와요', '알아줘요', '필요', '필요', '필요', '마요', '몰라요', '몰라요', '돌릴게요', '어땠나요', '없었나요', '내요', '자요', '만나요', '떠올려봐요', '와요', '자요', '어땠나요', '꿨었나요', '내요', '자요', '만나요', '떠올려봐요', '와요', '떠올려봐요', '와요', '자요', '자요', '만나요', '했어요', '쉬어요', '찾아갈게요', '자요', '필요', '걸어요', '보인데요', '일이래요', '보인데요', '일이래요', '아파요', '않네요', '따를래요', '해볼래요', '춰봐요', '비추네요', '춰요', '춤춰요', '흔들어요', '춤춰요', '줘요', '해요', '해요', '해요', '해요', '느껴요', '해요', '해요', '해요', '해요', '해요', '해요', '해요', '해요', '걸어요', '보인데요', '보인데요', '아파요', '않네요', '변하나요', '쉬운가요', '변하나요', '쉬운가요', '변하나요', '쉬운가요', '이럴까요', '아플까요', '말아요', '변하나요', '쉬운가요', '몰라요', '몰라요', '몰라요', '돌아와요', '봐요', '안되요', '몰라요', '몰라요', '살아요', '살아요', '살만한걸요', '보내요', '괜찮아요', '없네요', '살아요', '살아요', '살만한걸요', '괜찮아요', '안해요', '살아요', '살아요', '살만한걸요', '괜찮아요', '사랑했어요', '웃어요', '걸요', '괜찮아요', '오셨나요', '가네요', '드네요', '망설이네요', '보나요', '드네요', '이상하네요', '떨리네요', '망설이네요', '가요', '가요', '가요', '오셨나요', '가네요', '드네요', '망설이네요', '보나요', '드네요', '이상하네요', '떨리네요', '망설이네요', '비춰줄래요', '사랑해요', '말아요', '사랑해요', '사랑해요', '나요', '원해요', '사랑해요', '사랑해줘요', '안돼요', '보이나요', '들리나요', '사랑해요', '사랑해줘요', '안돼요', '보이나요', '들리나요', '기다릴게요', '보이나요', '들리나요', '사랑해줘요', '멈춰요', '날부르네요', '멈춰요', '와요', '받아줘요', '느끼나요', '멈춰요', '싫어요', '있어줘요', '마요', '들어오네요', '멈춰요', '봐요', '잡아요', '느끼나요', '느끼나요', '줘요', '않아요', '않아요', '찔러요', '질러요', '않아요', '삼켜요', '낫질않아요', '줘요', '낫질않아요', '줘요', '않아요', '같아요', '보여요', '마요', '같아요', '축복해요', '같아요', '하네요', '기억해요', '있잖아요', '아프거든요', '미워요', '말아요', '잊었나요', '자요', '그래요', '그래요', '있나요', '돌아와요', '말아요', '드네요', '있잖아요', '아프거든요', '미워요', '말아요', '잊었나요', '자요', '그래요', '그래요', '있나요', '돌아와요', '말아요', '자요', '그래요', '그래요', '있나요', '돌아와요', '아나요', '건가요', '건가요', '느낌인가요', '해줘요', '착각인가요', '오네요', '뭐해요', '먹었나요', '하나요', '말해줘요', '해줘요', '착각인가요', '많아요', '많아요', '흔들어요', '말해줘요', '해줘요', '착각인가요', '안돼요', '아파요', '마요', '나빠요', '미워요', '안보이나요', '봐요', '봐요', '사랑해요', '사랑해요', '사랑해요', '나요', '사랑해요', '알아요', '싫어요', '미워요', '보이네요', '봐요', '사랑해요', '사랑해요', '사랑해요', '나요', '사랑해요', '사랑해요', '아나요', '사랑해요', '나요', '사랑해요', '죽겠어요', '죽겠어요', '죽겠어요', '믿겠어요', '안나요', '아나요', '어딘데요', '건가요', '와봐요', '하네요', '귀엽네요', '별로네요', '그런건가요', '헷갈리네요', '말이에요', '아니라요', '그리워요', '없나봐요', '않아요', '해요', '뭔가요', '뭔가요', '무거워져요', '헷갈리네요', '뭘해요', '기분에요', '그러네요', '없나봐요', '않아요', '해요', '해요', '여기봐요', '그거봐요', '봐요', '여기봐요', '바로봐요', '그래봐요', '여기봐요', '봐요', '봐요', '여기봐요', '바로봐요', '그래봐요', '싶었어요', '어떤가요', '있네요', '있나봐요', '돌아와줘요', '어떡해요', '읽으니까요', '어떡해요', '읽으니까요', '어떡해요', '읽으니까요', '그리워요', '기다려요', '서있어요', '어떤가요', '그리워요', '기다려요', '서있어요', '말아요', '돌아봐줘요', '돌아서나요', '줄래요', '그리워요', '기다려요', '서있어요', '듯해요', '한듯해요', '걸요', '않은걸요', '않아요', '말아요', '않아요', '필요', '필요', '데려와줘요', '기다려요', '나타나줘요', '찾아요', '보이나요', '기다려요', '나타나줘요', '찾아요', '기분일까요', '기다려요', '나타나줘요', '찾아요', '기다려요', '기다려요', '기억해요', '아나요', '머물러요', '말해줘요', '어려웠나요', '보시나요', '잊어요', '아나요', '있었나요', '느껴져요', '와요', '말아요', '어려웠나요', '보시나요', '줘요', '아녜요', '없어요', '믿어주세요', '기다려요', '떠나요', '떠나봐요', '보내줘요', '믿어줘요', '싶어요', '싶어요', '기다려요', '떠나요', '떠나봐요', '잡아주세요', '알아줘요', '말아요', '몰라요', '몰라요', '없나요', '보네요', '몰라요', '몰라요', '몰라요', '몰라요', '몰라요', '아네요', '없어요', '봐요', '먹네요', '몰라요', '몰라요', '몰라요', '몰라요', '몰라요', '어렵네요', '그래요', '아네요', '몰라요', '몰라요', '몰라요', '말아요', '큰일나요', '몰라요', '줘요', '않아요', '않아요', '찔러요', '질러요', '않아요', '삼켜요', '낫질않아요', '줘요', '낫질않아요', '줘요', '않아요', '오세요', '왔나요', '기다렸어요', '싫어요', '무서워요', '해줄래요', '안아줘요', '안아줘요', '안아줘요', '키스해줘요', '키스해줘요', '좋아요', '못해요', '아파요', '좋아요', '빠진걸요', '해줄래요', '안아줘요', '안아줘요', '안아줘요', '키스해줘요', '키스해줘요', '안아줘요', '안아줘요', '안아줘요', '키스해줘요', '키스해줘요', '져요', '줘요', '약해져요', '말해줘요', '봐요', '있나봐요', '가요', '잊어요', '되요', '봐요', '있나봐요', '가요', '잊어요', '되요', '비춰요', '있나봐요', '사랑해요', '필요', '필요', '필요', '필요', '필요', '말아줘요', '알아요', '알아요', '돼요', '뭐예요', '뭐예요', '뭐예요', '뭐예요', '뭐예요', '들리나요', '말이예요', '싫어요', '웃어줘요', '들어봐요', '들어오네요', '뭐예요', '살이예요', '어디예요', '봐요', '뭐예요', '살이예요', '아니예요', '뭐예요', '뭐예요', '뭐예요', '내줘요', '뭐예요', '뭐예요', '뭐예요', '뭐예요', '뭐예요', '놀아요', '들어봐요', '들어오네요', '뭐예요', '살이예요', '어디예요', '봐요', '뭐예요', '살이예요', '아니예요', '뭐예요', '뭐예요', '뭐예요', '내줘요', '뭐예요', '뭐예요', '뭐예요', '뭐예요', '뭐예요', '놀아요', '뭐예요', '뭐예요', '뭐예요', '뭐예요', '뭐예요', '사양할게요', '올라요', '좋아요', '해요', '좋아요', '되나요', '좋아요', '해요', '좋아요', '되나요', '걸어요', '말아요', '불러요', '말아요', '말아요', '있어줘요', '걸어요', '말아요', '불러요', '걸어요', '말아요', '불러요', '몰라요', '마요', '없나요', '없나요', '하나요', '싫어요', '전화할게요', '전화할게요', '내리네요', '내리네요', '드네요', '드네요', '마요', '둬요', '둬요', '둬요', '않아요', '가요', '가요', '봐요', '나가요', '남았네요', '마요', '가요', '가요', '가요', '가요', '필요', '필요', '않아요', '싶어요', '한잔해요', '한잔해요', '좋아요', '괜찮아요', '들었어요', '꼬셨어요', '한잔해요', '좋아요', '괜찮아요', '맞나봐요', '닮았어요', '더해요', '그랬어요', '하던가요', '계산해요', '치워요', '줄까요', '줄까요', '줄까요', '줄까요', '줄까요', '줄까요', '허요', '허요', '행복허요', '괜찮아요', '괜찮아요', '멋져요', '괜찮아요', '괜찮아요', '나오드래요', '아까워요', '죽어요', '죽어요', '해요', '기다려져요', '있어요', '있을까요', '있을까요', '있어요', '걸요', '해요', '있어요', '좋겠어요', '거에요', '다가갈게요', '기다려줘요', '준비됐어요', '거에요', '할거에요', '싶어요', '났어요', '있었나요', '나이에요', '설레요', '세어봐요', '싶었나요', '마음인가요', '두었나요', '돼요', '폈어요', '폈어요', '세어봐요', '번져요', '세어봐요', '여보세요', '보내주세요', '여보세요', '보내주세요', '안아줘요', '위험해요', '들어요', '안아줘요', '위험해요', '안아줘요', '웃어줘요', '필요', '필요', '싶어요', '싶어요', '말해줘요', '하거든요', '어떤가요', '되나요', '채워요', '머물러요', '나요', '날아와요', '머물러요', '나요', '머물러요', '나요', '몰라요', '몰라요', '몰라요', '몰라요', '뭔가요', '몰라요', '몰라요', '몰라요', '몰라요', '몰라요', '몰라요', '몰라요', '몰라요', '몰라요', '몰라요', '몰라요', '몰라요', '그래요', '건가요', '그래요', '그래요', '몰라요', '구나요', '저질렀나요', '몰라요', '몰라요', '몰라요', '뭔가요', '몰라요', '뭔가요', '처음이에요', '뭔가요', '몰라요', '건가요', '늦었네요', '있어요', '있어요', '몰라요', '건가요', '건가요', '봐요', '몰라요', '뭔가요', '처음이에요', '뭔가요', '몰라요', '안되나요', '뭔가요', '처음이에요', '뭔가요', '몰라요', '몰라요', '몰라요', '뭔가요', '몰라요', '몰라요', '몰라요', '뭔가요', '몰라요', '들었어요', '끌린다구요', '그랬어요', '말이래요', '모르잖아요', '해요', '있다면요', '할래요', '할까요', '봐요', '할까요', '있나요', '나가요', '확인해봐요', '자요', '나온대요', '해봐요', '좋아요', '해봐요', '할래요', '할까요', '봐요', '할까요', '나인가요', '있나요', '기다릴까요', '봐요', '할까요', '있나요', '나가요', '봐요', '구해줘요', '구해줘요', '구해줘요', '구해줘요', '구해줘요', '구해줘요', '있었나요', '없어요', '꺼줘요', '꺼줘요', '꺼줘요', '꺼줘요', '말아요', '닦아줘요', '꺼줘요', '꺼줘요', '꺼줘요', '꺼줘요', '숨겨줘요', '꺼줘요', '해요', '해요', '없나요', '원해요', '짠해요', '바래요', '필요', '와줘요', '줘요', '와줘요', '오려해요', '돌아와요', '찾는걸요', '오려해요', '줄게요', '보이나요', '지워버려요', '않아요', '미안해요', '알았어요', '기억해요', '없어요', '할게요', '미안해요', '기다렸나요', '알았어요', '기억해요', '없어요', '할게요', '아나요', '소중해요', '사랑할게요', '빌어요', '생각해요', '기다려요', '없어요', '기도드려요', '없어요', '알아요', '봐요', '믿어요', '잡아요', '지켜줄께요', '기억해요', '가요', '꿈꿔요', '간직해요', '기억해요', '가요', '사랑해요', '기억해요', '가요', '모르겠어요', '편안했어요', '이상해요', '간절해져요', '있나요', '싶어요', '알아줄래요', '두려워져요', '어린가봐요', '되요', '있나요', '싶어요', '허락할께요', '그래요', '믿어요', '약속할께요', '모르겠어요', '편안했어요', '이상해요', '간절해져요', '있나요', '믿고싶어요', '안아줄래요', '두려워져요', '어린가봐요', '되요', '있나요', '믿고싶어요', '허락할게요', '그래요', '믿어요', '약속할게요', '말해요', '있어요', '않아요', '믿어요', '지켜가요', '말아요', '잊었나요', '믿어요', '기억해요', '믿어요', '믿어요', '믿어요', '필요', '사랑할래요', '있나요', '잊었나봐요', '쉬웠나요', '편한가요', '그랬어요', '같아요', '용서해요', '아파요', '하는건가요', '보아요', '그래요', '기억해줘요', '않도록요', '건가요', '보여요', '나요', '행복일까요', '기도할게요', '주세요', '있나요', '말아요', '않아요', '생각해요', '영원해요', '돼줘요', '있게요', '말해요', '마요', '생각해요', '영원해요', '영원해요', '영원해요', '불러주세요', '게요', '주세요', '나요', '주세요', '나요', '나요', '있네요', '슬퍼져요', '없어요', '원하잖아요', '느끼나요', '있어요', '없어요', '없어요', '원하잖아요', '느끼나요', '있어요', '없어요', '없어요', '몰랐어요', '아픔이에요', '없어요', '뿐이예요', '기억해줘요', '아픔이에요', '없어요', '뿐이예요', '기억해줘요', '없어요', '모르겠어요', '없어요', '포기했어요', '없어요', '모르겠어요', '없어요', '포기했어요', '없어요', '오려해요', '돌아와요', '찾는걸요', '오려해요', '행복했어요', '많을걸요', '있었던가요', '않네요', '있었던가요', '않네요', '알까요', '없는걸요', '둘께요', '행복했어요', '믿어요', '고마워져요', '주세요', '말아요', '주세요', '있어요', '잊지마요', '아나요', '없었나요', '드려요', '없었나요', '없었나요', '드려요', '없었나요', '착각였나요', '없었던가요', '그랬나요', '하나요', '알아요', '그대잖아요', '했나요', '없나요', '사랑해요', '되나요', '욕심인가요', '사랑해요', '되나요', '오려해요', '돌아와요', '찾는걸요', '오려해요', '할게요', '말아요', '좋아요', '사랑해요', '아나요', '아나요', '아나요', '사랑해요', '아나요', '아나요', '아나요', '사랑해요', '아나요', '아나요', '아나요', '모르나요', '안들리나요', '안보이나요', '몰라요', '안들리나요', '안보이나요', '소리쳐요', '사랑해요', '말할게요', '주세요', '싫어요', '싶나요', '마실래요', '길어요', '싶어요', '부탁할게요', '말할게요', '주세요', '싫어요', '싶나요', '마실래요', '마실래요', '들어와요', '주세요', '싫어요', '싶나요', '마실래요', '길어요', '싶어요', '부탁할게요', '잠깐만요', '잠깐만요', '바라봐요', '말아요', '볼게요', '잠깐만요', '보여요', '흘러요', '아파요', '지나가네요', '없나요', '보여요', '흘러요', '아파요', '있나요', '보여요', '흘러요', '아파요', '말할게요', '주세요', '싫어요', '싶나요', '마실래요', '길어요', '싶어요', '부탁할게요', '말할게요', '주세요', '싫어요', '싶나요', '마실래요', '마실래요', '들어와요', '주세요', '싫어요', '싶나요', '마실래요', '길어요', '싶어요', '부탁할게요', '되요', '해봐요', '되요', '알아요', '해봐요', '되요', '봐요', '줄게요', '있어요', '섹시한가요', '없어요', '속삭여요', '잡아봐요', '속삭여요', '잡아봐요', '안아줘요', '말해줘요', '신비로와요', '신비로와요', '보이나요', '줄게요', '보이나요', '줄게요', '와요', '놀아봐요', '놀아봐요', '끌려요', '같아요', '보여요', '없나요', '없나요', '짓네요', '보여요', '필요', '예뻐요', '닮을게요', '닮을래요', '떠나려나요', '떠나려나요', '없나요', '없나요', '속삭여줘요', '없나요', '들리나요', '모자라요', '못살아요', '말아요', '사랑해요', '마요']\""
      ]
     },
     "execution_count": 55,
     "metadata": {},
     "output_type": "execute_result"
    }
   ],
   "source": [
    "# '필요'라는 단어는 어미가 포함되지 않은 단어이므로 제외한다.\n",
    "# import re\n",
    "\n",
    "# text = re.sub(pattern, ' ', text)\n",
    "\n",
    "result2 = re.sub(\"^(?!.*필).*$\", '', str(result))\n",
    "result2"
   ]
  },
  {
   "cell_type": "code",
   "execution_count": 56,
   "metadata": {},
   "outputs": [
    {
     "data": {
      "text/plain": [
       "[(\"'\", 17046),\n",
       " ('요', 8550),\n",
       " (',', 8522),\n",
       " (' ', 8522),\n",
       " ('아', 1317),\n",
       " ('해', 1184),\n",
       " ('어', 1166),\n",
       " ('나', 967),\n",
       " ('줘', 685),\n",
       " ('봐', 507),\n",
       " ('가', 438),\n",
       " ('말', 430),\n",
       " ('있', 379),\n",
       " ('네', 301),\n",
       " ('래', 288),\n",
       " ('마', 267),\n",
       " ('려', 260),\n",
       " ('없', 250),\n",
       " ('게', 247),\n",
       " ('안', 245)]"
      ]
     },
     "execution_count": 56,
     "metadata": {},
     "output_type": "execute_result"
    }
   ],
   "source": [
    "Counter(result).most_common(20)"
   ]
  },
  {
   "cell_type": "code",
   "execution_count": 33,
   "metadata": {},
   "outputs": [],
   "source": [
    "re.sub?"
   ]
  },
  {
   "cell_type": "code",
   "execution_count": null,
   "metadata": {},
   "outputs": [],
   "source": [
    "word_in_song2(female_t, r\".{1,4}요$\")"
   ]
  },
  {
   "cell_type": "code",
   "execution_count": null,
   "metadata": {},
   "outputs": [],
   "source": [
    "# tf-idf로 여자 아이돌의 가사에만 많이 나오는 단어, 남자 아이돌의 가사에만 많이 나오는 단어를 보고 싶다."
   ]
  }
 ],
 "metadata": {
  "kernelspec": {
   "display_name": "Python 3",
   "language": "python",
   "name": "python3"
  },
  "language_info": {
   "codemirror_mode": {
    "name": "ipython",
    "version": 3
   },
   "file_extension": ".py",
   "mimetype": "text/x-python",
   "name": "python",
   "nbconvert_exporter": "python",
   "pygments_lexer": "ipython3",
   "version": "3.6.5"
  }
 },
 "nbformat": 4,
 "nbformat_minor": 2
}
