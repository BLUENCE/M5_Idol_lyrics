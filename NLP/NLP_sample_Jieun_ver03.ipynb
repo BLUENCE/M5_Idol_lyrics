{
  "nbformat": 4,
  "nbformat_minor": 0,
  "metadata": {
    "colab": {
      "name": "NLP_sample_Jieun_ver03.ipynb",
      "version": "0.3.2",
      "provenance": [],
      "include_colab_link": true
    },
    "kernelspec": {
      "display_name": "Python 3",
      "language": "python",
      "name": "python3"
    }
  },
  "cells": [
    {
      "cell_type": "markdown",
      "metadata": {
        "id": "view-in-github",
        "colab_type": "text"
      },
      "source": [
        "[View in Colaboratory](https://colab.research.google.com/github/BLUENCE/M5_Idol_lyrics/blob/master/NLP/NLP_sample_Jieun_ver03.ipynb)"
      ]
    },
    {
      "metadata": {
        "id": "-7rG_uXfcnCZ",
        "colab_type": "code",
        "colab": {}
      },
      "cell_type": "code",
      "source": [
        "import pandas as pd \n",
        "import numpy as np\n",
        "import re\n",
        "from soynlp.tokenizer import RegexTokenizer\n",
        "import gensim\n",
        "from gensim.models import Phrases\n",
        "from gensim.models.word2vec import LineSentence\n",
        "from gensim import corpora, models\n",
        "from gensim.models import LdaMulticore\n",
        "from gensim.models import Word2Vec\n",
        "from gensim.corpora import Dictionary, MmCorpus"
      ],
      "execution_count": 0,
      "outputs": []
    },
    {
      "metadata": {
        "id": "VQPnUAg4cnCc",
        "colab_type": "code",
        "colab": {}
      },
      "cell_type": "code",
      "source": [
        "# 참고자료 \n",
        "# http://nbviewer.jupyter.org/github/KMJJ1/hiphop/blob/master/RNN%20-%20LSTM%EC%9D%84%20%EC%9D%B4%EC%9A%A9%ED%95%9C%20Hiphop%20%EA%B0%80%EC%82%AC%20%EC%83%9D%EC%84%B1.ipynb\n",
        "# https://github.com/dyelax/encore.ai"
      ],
      "execution_count": 0,
      "outputs": []
    },
    {
      "metadata": {
        "id": "gKV5gCUjcnCg",
        "colab_type": "code",
        "colab": {},
        "outputId": "f208b46f-518b-4752-8527-6ad87343876d"
      },
      "cell_type": "code",
      "source": [
        "%pwd"
      ],
      "execution_count": 0,
      "outputs": [
        {
          "output_type": "execute_result",
          "data": {
            "text/plain": [
              "'/Users/jieun/projects/M5_Idol_lyrics'"
            ]
          },
          "metadata": {
            "tags": []
          },
          "execution_count": 239
        }
      ]
    },
    {
      "metadata": {
        "id": "EbkLqRticnCk",
        "colab_type": "code",
        "colab": {},
        "outputId": "87c710ae-7d0b-44cd-a11a-c467a57ad34e"
      },
      "cell_type": "code",
      "source": [
        "# !pip install soynlp\n",
        "!pip show soynlp"
      ],
      "execution_count": 0,
      "outputs": [
        {
          "output_type": "stream",
          "text": [
            "Name: soynlp\r\n",
            "Version: 0.0.46\r\n",
            "Summary: Unsupervised Korean Natural Language Processing Toolkits\r\n",
            "Home-page: https://github.com/lovit/soynlp\r\n",
            "Author: Lovit\r\n",
            "Author-email: soy.lovit@gmail.com\r\n",
            "License: UNKNOWN\r\n",
            "Location: /Users/jieun/anaconda3/lib/python3.6/site-packages\r\n",
            "Requires: psutil, numpy\r\n",
            "Required-by: \r\n"
          ],
          "name": "stdout"
        }
      ]
    },
    {
      "metadata": {
        "id": "9-tnXsmKcnCo",
        "colab_type": "code",
        "colab": {}
      },
      "cell_type": "code",
      "source": [
        "data= pd.read_csv(\"song_data_fixed.csv\")"
      ],
      "execution_count": 0,
      "outputs": []
    },
    {
      "metadata": {
        "id": "5CznYs-RcnCq",
        "colab_type": "code",
        "colab": {}
      },
      "cell_type": "code",
      "source": [
        "song = pd.DataFrame(data)"
      ],
      "execution_count": 0,
      "outputs": []
    },
    {
      "metadata": {
        "id": "nWCJFiidcnCs",
        "colab_type": "code",
        "colab": {},
        "outputId": "144c5c84-b0d9-487e-b378-20f5995aa310"
      },
      "cell_type": "code",
      "source": [
        "song.head(3)"
      ],
      "execution_count": 0,
      "outputs": [
        {
          "output_type": "execute_result",
          "data": {
            "text/html": [
              "<div>\n",
              "<style scoped>\n",
              "    .dataframe tbody tr th:only-of-type {\n",
              "        vertical-align: middle;\n",
              "    }\n",
              "\n",
              "    .dataframe tbody tr th {\n",
              "        vertical-align: top;\n",
              "    }\n",
              "\n",
              "    .dataframe thead th {\n",
              "        text-align: right;\n",
              "    }\n",
              "</style>\n",
              "<table border=\"1\" class=\"dataframe\">\n",
              "  <thead>\n",
              "    <tr style=\"text-align: right;\">\n",
              "      <th></th>\n",
              "      <th>Unnamed: 0</th>\n",
              "      <th>title</th>\n",
              "      <th>artist</th>\n",
              "      <th>album</th>\n",
              "      <th>release_date</th>\n",
              "      <th>song_genre</th>\n",
              "      <th>is_title</th>\n",
              "      <th>like</th>\n",
              "      <th>creator</th>\n",
              "      <th>lyrics</th>\n",
              "    </tr>\n",
              "  </thead>\n",
              "  <tbody>\n",
              "    <tr>\n",
              "      <th>0</th>\n",
              "      <td>0</td>\n",
              "      <td>태지 보이스</td>\n",
              "      <td>서태지와 아이들</td>\n",
              "      <td>시대유감(時代遺憾)</td>\n",
              "      <td>1996.06.07</td>\n",
              "      <td>Rock</td>\n",
              "      <td>NaN</td>\n",
              "      <td>269</td>\n",
              "      <td>서태지\\r\\r\\n작사\\r\\r\\n서태지\\r\\r\\n작곡\\r\\r\\n서태지\\r\\r\\n편곡</td>\n",
              "      <td>갈수 없는 곳이란 우리에겐 없어\\r\\r\\n보이는 길밖에도 세상은 있어\\r\\r\\n언제...</td>\n",
              "    </tr>\n",
              "    <tr>\n",
              "      <th>1</th>\n",
              "      <td>1</td>\n",
              "      <td>시대유감(時代遺憾)</td>\n",
              "      <td>서태지와 아이들</td>\n",
              "      <td>시대유감(時代遺憾)</td>\n",
              "      <td>1996.06.07</td>\n",
              "      <td>Rock</td>\n",
              "      <td>타이틀 곡</td>\n",
              "      <td>3,256</td>\n",
              "      <td>서태지\\r\\r\\n작사\\r\\r\\n서태지\\r\\r\\n작곡\\r\\r\\n서태지\\r\\r\\n편곡</td>\n",
              "      <td>왜 기다려 왔잖아\\r\\r\\n모든 삶을 포기하는 소리를\\r\\r\\n이 세상이 모두 미쳐...</td>\n",
              "    </tr>\n",
              "    <tr>\n",
              "      <th>2</th>\n",
              "      <td>2</td>\n",
              "      <td>수시아(誰是我)</td>\n",
              "      <td>서태지와 아이들</td>\n",
              "      <td>시대유감(時代遺憾)</td>\n",
              "      <td>1996.06.07</td>\n",
              "      <td>Rock</td>\n",
              "      <td>NaN</td>\n",
              "      <td>488</td>\n",
              "      <td>서태지\\r\\r\\n작사\\r\\r\\n서태지\\r\\r\\n작곡\\r\\r\\n서태지\\r\\r\\n편곡</td>\n",
              "      <td>이 세상 그 누구도 나를 닮을 순 없네\\r\\r\\n날 세상에 알릴 거야\\r\\r\\n나 ...</td>\n",
              "    </tr>\n",
              "  </tbody>\n",
              "</table>\n",
              "</div>"
            ],
            "text/plain": [
              "   Unnamed: 0       title    artist       album release_date song_genre  \\\n",
              "0           0      태지 보이스  서태지와 아이들  시대유감(時代遺憾)   1996.06.07       Rock   \n",
              "1           1  시대유감(時代遺憾)  서태지와 아이들  시대유감(時代遺憾)   1996.06.07       Rock   \n",
              "2           2    수시아(誰是我)  서태지와 아이들  시대유감(時代遺憾)   1996.06.07       Rock   \n",
              "\n",
              "  is_title   like                                        creator  \\\n",
              "0      NaN    269  서태지\\r\\r\\n작사\\r\\r\\n서태지\\r\\r\\n작곡\\r\\r\\n서태지\\r\\r\\n편곡   \n",
              "1    타이틀 곡  3,256  서태지\\r\\r\\n작사\\r\\r\\n서태지\\r\\r\\n작곡\\r\\r\\n서태지\\r\\r\\n편곡   \n",
              "2      NaN    488  서태지\\r\\r\\n작사\\r\\r\\n서태지\\r\\r\\n작곡\\r\\r\\n서태지\\r\\r\\n편곡   \n",
              "\n",
              "                                              lyrics  \n",
              "0  갈수 없는 곳이란 우리에겐 없어\\r\\r\\n보이는 길밖에도 세상은 있어\\r\\r\\n언제...  \n",
              "1  왜 기다려 왔잖아\\r\\r\\n모든 삶을 포기하는 소리를\\r\\r\\n이 세상이 모두 미쳐...  \n",
              "2  이 세상 그 누구도 나를 닮을 순 없네\\r\\r\\n날 세상에 알릴 거야\\r\\r\\n나 ...  "
            ]
          },
          "metadata": {
            "tags": []
          },
          "execution_count": 357
        }
      ]
    },
    {
      "metadata": {
        "id": "hyORuSeBcnCv",
        "colab_type": "code",
        "colab": {},
        "outputId": "e9cd6ba2-bd57-4367-babe-746a326dcb6c"
      },
      "cell_type": "code",
      "source": [
        "song.columns"
      ],
      "execution_count": 0,
      "outputs": [
        {
          "output_type": "execute_result",
          "data": {
            "text/plain": [
              "Index(['Unnamed: 0', 'title', 'artist', 'album', 'release_date', 'song_genre',\n",
              "       'is_title', 'like', 'creator', 'lyrics'],\n",
              "      dtype='object')"
            ]
          },
          "metadata": {
            "tags": []
          },
          "execution_count": 358
        }
      ]
    },
    {
      "metadata": {
        "id": "-h8M0oszcnCz",
        "colab_type": "code",
        "colab": {},
        "outputId": "ecde986c-300d-47ff-8eae-691d0e50f20a"
      },
      "cell_type": "code",
      "source": [
        "song['artist'].value_counts().head()"
      ],
      "execution_count": 0,
      "outputs": [
        {
          "output_type": "execute_result",
          "data": {
            "text/plain": [
              "동방신기     865\n",
              "키스       839\n",
              "슈퍼주니어    518\n",
              "샤이니      469\n",
              "쿨        375\n",
              "Name: artist, dtype: int64"
            ]
          },
          "metadata": {
            "tags": []
          },
          "execution_count": 359
        }
      ]
    },
    {
      "metadata": {
        "id": "6ZRM1mqAcnC2",
        "colab_type": "code",
        "colab": {},
        "outputId": "09e5861c-f949-42f8-bb0c-01131556fb64"
      },
      "cell_type": "code",
      "source": [
        "song[song['artist'] == '키스'].head(3) # 키스는 누구인가? => 미국가수, 삭제예정"
      ],
      "execution_count": 0,
      "outputs": [
        {
          "output_type": "execute_result",
          "data": {
            "text/html": [
              "<div>\n",
              "<style scoped>\n",
              "    .dataframe tbody tr th:only-of-type {\n",
              "        vertical-align: middle;\n",
              "    }\n",
              "\n",
              "    .dataframe tbody tr th {\n",
              "        vertical-align: top;\n",
              "    }\n",
              "\n",
              "    .dataframe thead th {\n",
              "        text-align: right;\n",
              "    }\n",
              "</style>\n",
              "<table border=\"1\" class=\"dataframe\">\n",
              "  <thead>\n",
              "    <tr style=\"text-align: right;\">\n",
              "      <th></th>\n",
              "      <th>Unnamed: 0</th>\n",
              "      <th>title</th>\n",
              "      <th>artist</th>\n",
              "      <th>album</th>\n",
              "      <th>release_date</th>\n",
              "      <th>song_genre</th>\n",
              "      <th>is_title</th>\n",
              "      <th>like</th>\n",
              "      <th>creator</th>\n",
              "      <th>lyrics</th>\n",
              "    </tr>\n",
              "  </thead>\n",
              "  <tbody>\n",
              "    <tr>\n",
              "      <th>5088</th>\n",
              "      <td>5088</td>\n",
              "      <td>Rock And Roll All Nite</td>\n",
              "      <td>키스</td>\n",
              "      <td>Torcida 2018 - Nacional e Internacional</td>\n",
              "      <td>2018.06.01</td>\n",
              "      <td>World</td>\n",
              "      <td>`게임 쉬리` OST (`이젠` Metal Ver.) 와 동영상 수록</td>\n",
              "      <td>1</td>\n",
              "      <td>NaN</td>\n",
              "      <td>You show us everything you've got\\r\\r\\nYou kee...</td>\n",
              "    </tr>\n",
              "    <tr>\n",
              "      <th>5089</th>\n",
              "      <td>5089</td>\n",
              "      <td>Rock And Roll All Nite</td>\n",
              "      <td>키스</td>\n",
              "      <td>New Year`s Eve Countdown</td>\n",
              "      <td>2017.12.15</td>\n",
              "      <td>기타</td>\n",
              "      <td>NaN</td>\n",
              "      <td>7</td>\n",
              "      <td>NaN</td>\n",
              "      <td>NaN</td>\n",
              "    </tr>\n",
              "    <tr>\n",
              "      <th>5090</th>\n",
              "      <td>5090</td>\n",
              "      <td>Calling Dr. Love</td>\n",
              "      <td>키스</td>\n",
              "      <td>Throwback Tunes: Classic Rock</td>\n",
              "      <td>2017.10.20</td>\n",
              "      <td>Pop</td>\n",
              "      <td>NaN</td>\n",
              "      <td>1</td>\n",
              "      <td>NaN</td>\n",
              "      <td>NaN</td>\n",
              "    </tr>\n",
              "  </tbody>\n",
              "</table>\n",
              "</div>"
            ],
            "text/plain": [
              "      Unnamed: 0                   title artist  \\\n",
              "5088        5088  Rock And Roll All Nite     키스   \n",
              "5089        5089  Rock And Roll All Nite     키스   \n",
              "5090        5090        Calling Dr. Love     키스   \n",
              "\n",
              "                                        album release_date song_genre  \\\n",
              "5088  Torcida 2018 - Nacional e Internacional   2018.06.01      World   \n",
              "5089                 New Year`s Eve Countdown   2017.12.15         기타   \n",
              "5090            Throwback Tunes: Classic Rock   2017.10.20        Pop   \n",
              "\n",
              "                                    is_title like creator  \\\n",
              "5088  `게임 쉬리` OST (`이젠` Metal Ver.) 와 동영상 수록    1     NaN   \n",
              "5089                                     NaN    7     NaN   \n",
              "5090                                     NaN    1     NaN   \n",
              "\n",
              "                                                 lyrics  \n",
              "5088  You show us everything you've got\\r\\r\\nYou kee...  \n",
              "5089                                                NaN  \n",
              "5090                                                NaN  "
            ]
          },
          "metadata": {
            "tags": []
          },
          "execution_count": 361
        }
      ]
    },
    {
      "metadata": {
        "id": "S9l_t2yPcnC5",
        "colab_type": "code",
        "colab": {},
        "outputId": "d49d0897-8f30-4fe6-d5fd-696fd146d84e"
      },
      "cell_type": "code",
      "source": [
        "# 유니크한 가수의 수 \n",
        "len(song['artist'].unique())"
      ],
      "execution_count": 0,
      "outputs": [
        {
          "output_type": "execute_result",
          "data": {
            "text/plain": [
              "331"
            ]
          },
          "metadata": {
            "tags": []
          },
          "execution_count": 362
        }
      ]
    },
    {
      "metadata": {
        "id": "rvCF-qnqcnC8",
        "colab_type": "code",
        "colab": {},
        "outputId": "4c363484-7572-4cd6-b1b0-645d2157798c"
      },
      "cell_type": "code",
      "source": [
        "# 곡의 수 \n",
        "song.shape"
      ],
      "execution_count": 0,
      "outputs": [
        {
          "output_type": "execute_result",
          "data": {
            "text/plain": [
              "(19165, 10)"
            ]
          },
          "metadata": {
            "tags": []
          },
          "execution_count": 363
        }
      ]
    },
    {
      "metadata": {
        "id": "CgTf7Q8ccnC9",
        "colab_type": "code",
        "colab": {},
        "outputId": "15bc40cb-a5a3-4b45-88ca-f68ddb757d41"
      },
      "cell_type": "code",
      "source": [
        "song['lyrics'].isnull().sum()"
      ],
      "execution_count": 0,
      "outputs": [
        {
          "output_type": "execute_result",
          "data": {
            "text/plain": [
              "2788"
            ]
          },
          "metadata": {
            "tags": []
          },
          "execution_count": 364
        }
      ]
    },
    {
      "metadata": {
        "id": "AOCpcpsdcnDB",
        "colab_type": "code",
        "colab": {}
      },
      "cell_type": "code",
      "source": [
        "song = song['lyrics'].dropna().reset_index() #inplace=True 를 하면 원래 데이터프레임에서 날라간다"
      ],
      "execution_count": 0,
      "outputs": []
    },
    {
      "metadata": {
        "id": "IAe-7ipvcnDD",
        "colab_type": "code",
        "colab": {},
        "outputId": "864ed21b-7217-4958-adc0-4e908e5715b7"
      },
      "cell_type": "code",
      "source": [
        "song['lyrics'].isnull().sum()"
      ],
      "execution_count": 0,
      "outputs": [
        {
          "output_type": "execute_result",
          "data": {
            "text/plain": [
              "0"
            ]
          },
          "metadata": {
            "tags": []
          },
          "execution_count": 366
        }
      ]
    },
    {
      "metadata": {
        "id": "RW7XEAZ_cnDG",
        "colab_type": "code",
        "colab": {},
        "outputId": "a09111f1-9067-4347-fe37-bb49e8f132bf"
      },
      "cell_type": "code",
      "source": [
        "song"
      ],
      "execution_count": 0,
      "outputs": [
        {
          "output_type": "execute_result",
          "data": {
            "text/html": [
              "<div>\n",
              "<style scoped>\n",
              "    .dataframe tbody tr th:only-of-type {\n",
              "        vertical-align: middle;\n",
              "    }\n",
              "\n",
              "    .dataframe tbody tr th {\n",
              "        vertical-align: top;\n",
              "    }\n",
              "\n",
              "    .dataframe thead th {\n",
              "        text-align: right;\n",
              "    }\n",
              "</style>\n",
              "<table border=\"1\" class=\"dataframe\">\n",
              "  <thead>\n",
              "    <tr style=\"text-align: right;\">\n",
              "      <th></th>\n",
              "      <th>index</th>\n",
              "      <th>lyrics</th>\n",
              "    </tr>\n",
              "  </thead>\n",
              "  <tbody>\n",
              "    <tr>\n",
              "      <th>0</th>\n",
              "      <td>0</td>\n",
              "      <td>갈수 없는 곳이란 우리에겐 없어\\r\\r\\n보이는 길밖에도 세상은 있어\\r\\r\\n언제...</td>\n",
              "    </tr>\n",
              "    <tr>\n",
              "      <th>1</th>\n",
              "      <td>1</td>\n",
              "      <td>왜 기다려 왔잖아\\r\\r\\n모든 삶을 포기하는 소리를\\r\\r\\n이 세상이 모두 미쳐...</td>\n",
              "    </tr>\n",
              "    <tr>\n",
              "      <th>2</th>\n",
              "      <td>2</td>\n",
              "      <td>이 세상 그 누구도 나를 닮을 순 없네\\r\\r\\n날 세상에 알릴 거야\\r\\r\\n나 ...</td>\n",
              "    </tr>\n",
              "    <tr>\n",
              "      <th>3</th>\n",
              "      <td>3</td>\n",
              "      <td>옛 생각에 까페 문을열고\\r\\r\\n지난 추억을 기억하려했지\\r\\r\\n부드러운 음악소...</td>\n",
              "    </tr>\n",
              "    <tr>\n",
              "      <th>4</th>\n",
              "      <td>4</td>\n",
              "      <td>항상 난 지나치기만 했네\\r\\r\\n이젠 난 미련없이 끝내\\r\\r\\n됐어 찾아냈어 난...</td>\n",
              "    </tr>\n",
              "    <tr>\n",
              "      <th>5</th>\n",
              "      <td>5</td>\n",
              "      <td>난 알아요이밤이 흐르고 흐르면 누군가가\\r\\r\\n나를 떠나버려야 한다는 그사실을\\r...</td>\n",
              "    </tr>\n",
              "    <tr>\n",
              "      <th>6</th>\n",
              "      <td>6</td>\n",
              "      <td>너와 함께 한 시간 속에서-\\r\\r\\n \\r\\r\\n너를 처음 만난 그때를\\r\\r\\n...</td>\n",
              "    </tr>\n",
              "    <tr>\n",
              "      <th>7</th>\n",
              "      <td>7</td>\n",
              "      <td>환상속의 그대\\r\\r\\n\\r\\r\\n결코! 시간이 멈추어 줄 순 없다 Yo!\\r\\r\\...</td>\n",
              "    </tr>\n",
              "    <tr>\n",
              "      <th>8</th>\n",
              "      <td>8</td>\n",
              "      <td>너에게 모든걸 뺏겨버렸던\\r\\r\\n마음이\\r\\r\\n다시 내게 돌아오는 걸\\r\\r\\n...</td>\n",
              "    </tr>\n",
              "    <tr>\n",
              "      <th>9</th>\n",
              "      <td>9</td>\n",
              "      <td>니가 아무리 지금 날 좋아한다고 해도\\r\\r\\n그건 지금뿐일지도 몰라\\r\\r\\n왜냐...</td>\n",
              "    </tr>\n",
              "    <tr>\n",
              "      <th>10</th>\n",
              "      <td>10</td>\n",
              "      <td>한결 같은 너희들의 정성이\\r\\r\\n우리에겐 너무 커다란 힘이 되었지\\r\\r\\n편지...</td>\n",
              "    </tr>\n",
              "    <tr>\n",
              "      <th>11</th>\n",
              "      <td>12</td>\n",
              "      <td>내 친구야 창 밖을 봐\\r\\r\\n내 친구야 창 밖을 봐\\r\\r\\n눈이 오잖아\\r\\r...</td>\n",
              "    </tr>\n",
              "    <tr>\n",
              "      <th>12</th>\n",
              "      <td>13</td>\n",
              "      <td>진정 나에겐 단 한가지\\r\\r\\n내가 소망하는 게 있어\\r\\r\\n갈려진 땅의 친구들...</td>\n",
              "    </tr>\n",
              "    <tr>\n",
              "      <th>13</th>\n",
              "      <td>14</td>\n",
              "      <td>내가 멀리 있다 느껴져도\\r\\r\\n그대여 슬퍼하지 마세요\\r\\r\\n나의 그리움이 항...</td>\n",
              "    </tr>\n",
              "    <tr>\n",
              "      <th>14</th>\n",
              "      <td>15</td>\n",
              "      <td>됐어 됐어 됐어 됐어\\r\\r\\n이제 그런 가르침은 됐어\\r\\r\\n그걸로 족해 족해 ...</td>\n",
              "    </tr>\n",
              "    <tr>\n",
              "      <th>15</th>\n",
              "      <td>16</td>\n",
              "      <td>우연히 길을 걷다\\r\\r\\n마주친 그 모습에 너무 놀랬어\\r\\r\\n작고 귀엽고 깨물...</td>\n",
              "    </tr>\n",
              "    <tr>\n",
              "      <th>16</th>\n",
              "      <td>17</td>\n",
              "      <td>난 지금 무엇을 찾으려고\\r\\r\\n애를 쓰는 걸까\\r\\r\\n난 지금 어디로 쉬지않고...</td>\n",
              "    </tr>\n",
              "    <tr>\n",
              "      <th>17</th>\n",
              "      <td>18</td>\n",
              "      <td>나는 몇 해 전인가\\r\\r\\n빛을 버리고\\r\\r\\n어둠을 맞이 할 수 밖에\\r\\r\\...</td>\n",
              "    </tr>\n",
              "    <tr>\n",
              "      <th>18</th>\n",
              "      <td>19</td>\n",
              "      <td>난 버림받았어\\r\\r\\n한마디로 얘기하자면\\r\\r\\n보기좋게 차인것 같아\\r\\r\\n...</td>\n",
              "    </tr>\n",
              "    <tr>\n",
              "      <th>19</th>\n",
              "      <td>20</td>\n",
              "      <td>지나간 일을 난 오늘\\r\\r\\n생각해봤지\\r\\r\\n내겐 아름다웠던\\r\\r\\n기억들만...</td>\n",
              "    </tr>\n",
              "    <tr>\n",
              "      <th>20</th>\n",
              "      <td>22</td>\n",
              "      <td>난 알아요 이 밤이 흐르고 흐르면\\r\\r\\n누군가가 나를 떠나 버려야 한다는\\r\\r...</td>\n",
              "    </tr>\n",
              "    <tr>\n",
              "      <th>21</th>\n",
              "      <td>23</td>\n",
              "      <td>나는 몇해전인가 빛을 버리고\\r\\r\\n어둠을 맞이할 수밖에 없었네\\r\\r\\n이젠 분...</td>\n",
              "    </tr>\n",
              "    <tr>\n",
              "      <th>22</th>\n",
              "      <td>24</td>\n",
              "      <td>난 버림받았어\\r\\r\\n한마디로 얘기하자면\\r\\r\\n보기좋게 차인것 같아\\r\\r\\n...</td>\n",
              "    </tr>\n",
              "    <tr>\n",
              "      <th>23</th>\n",
              "      <td>25</td>\n",
              "      <td>난 지금 무엇을 찾으려고\\r\\r\\n애를 쓰는 걸까\\r\\r\\n난 지금 어디로 쉬지않고...</td>\n",
              "    </tr>\n",
              "    <tr>\n",
              "      <th>24</th>\n",
              "      <td>26</td>\n",
              "      <td>왜 기다려왔잖아\\r\\r\\n모든 삶을\\r\\r\\n포기하는 소리를\\r\\r\\n이 세상이 모...</td>\n",
              "    </tr>\n",
              "    <tr>\n",
              "      <th>25</th>\n",
              "      <td>27</td>\n",
              "      <td>천구백구육 아직도 수많은 넋이 나가있고\\r\\r\\n모두가 돈을 만들기 위해서\\r\\r\\...</td>\n",
              "    </tr>\n",
              "    <tr>\n",
              "      <th>26</th>\n",
              "      <td>28</td>\n",
              "      <td>갈 수 없는 곳이란\\r\\r\\n우리에겐 없어\\r\\r\\n보이는 길 밖에도 세상은 있어\\...</td>\n",
              "    </tr>\n",
              "    <tr>\n",
              "      <th>27</th>\n",
              "      <td>29</td>\n",
              "      <td>샤랄랄라라라라라라라\\r\\r\\n샤랄랄라라라라라라라\\r\\r\\n샤랄랄라라라라라라라\\r\\r...</td>\n",
              "    </tr>\n",
              "    <tr>\n",
              "      <th>28</th>\n",
              "      <td>30</td>\n",
              "      <td>항상 난 지나치기만 했네\\r\\r\\n이젠 난 미련없이 끝내\\r\\r\\n됐어 찾아냈어 난...</td>\n",
              "    </tr>\n",
              "    <tr>\n",
              "      <th>29</th>\n",
              "      <td>33</td>\n",
              "      <td>우연히 길을걷다\\r\\r\\n음 마주친 그 모습에 너무 놀랬어\\r\\r\\n작고 귀엽고 깨...</td>\n",
              "    </tr>\n",
              "    <tr>\n",
              "      <th>...</th>\n",
              "      <td>...</td>\n",
              "      <td>...</td>\n",
              "    </tr>\n",
              "    <tr>\n",
              "      <th>16347</th>\n",
              "      <td>18799</td>\n",
              "      <td>I'm telling you now\\r\\r\\nI'm telling you\\r\\r\\n...</td>\n",
              "    </tr>\n",
              "    <tr>\n",
              "      <th>16348</th>\n",
              "      <td>18800</td>\n",
              "      <td>왜 자꾸 쳐다보니 헷갈리잖아\\r\\r\\n날 좋아하는 거니 혹시 그런 거니 너\\r\\r\\...</td>\n",
              "    </tr>\n",
              "    <tr>\n",
              "      <th>16349</th>\n",
              "      <td>18801</td>\n",
              "      <td>oh no no no more\\r\\r\\n선을 넘어 넘어 넘어\\r\\r\\n아무렇지 않게...</td>\n",
              "    </tr>\n",
              "    <tr>\n",
              "      <th>16350</th>\n",
              "      <td>18802</td>\n",
              "      <td>Woo yeh\\r\\r\\n어딘가에 네가\\r\\r\\n째깍 째깍 시계소리 들려\\r\\r\\n문...</td>\n",
              "    </tr>\n",
              "    <tr>\n",
              "      <th>16351</th>\n",
              "      <td>18803</td>\n",
              "      <td>네 멋대로 Get It Get It\\r\\r\\n망설이지 말고\\r\\r\\n너 지금 바로 ...</td>\n",
              "    </tr>\n",
              "    <tr>\n",
              "      <th>16352</th>\n",
              "      <td>18804</td>\n",
              "      <td>깊은 꿈 너머로 온 듯한\\r\\r\\n빛을 따라 잠시 멈춰 나를 비춰\\r\\r\\n길을 잃...</td>\n",
              "    </tr>\n",
              "    <tr>\n",
              "      <th>16353</th>\n",
              "      <td>18805</td>\n",
              "      <td>I am WHO\\r\\r\\nI am WHAT\\r\\r\\nWhat’s the reason...</td>\n",
              "    </tr>\n",
              "    <tr>\n",
              "      <th>16354</th>\n",
              "      <td>18806</td>\n",
              "      <td>NaNaNaNaNaNa\\r\\r\\n아 이게 아닌데\\r\\r\\nNaNaNaNaNaNa\\r...</td>\n",
              "    </tr>\n",
              "    <tr>\n",
              "      <th>16355</th>\n",
              "      <td>18807</td>\n",
              "      <td>더 이상은 듣기 싫은\\r\\r\\n차가운 목소리 귀를 막아도\\r\\r\\n아무런 소용없이 ...</td>\n",
              "    </tr>\n",
              "    <tr>\n",
              "      <th>16356</th>\n",
              "      <td>18808</td>\n",
              "      <td>Hey Tell me what you want\\r\\r\\n나나나 나나나 나나나나\\r\\...</td>\n",
              "    </tr>\n",
              "    <tr>\n",
              "      <th>16357</th>\n",
              "      <td>18809</td>\n",
              "      <td>어두운 밤이 모둘 재울 때\\r\\r\\n모두 잠에 들 때\\r\\r\\n수많은 생각에 잠 못...</td>\n",
              "    </tr>\n",
              "    <tr>\n",
              "      <th>16358</th>\n",
              "      <td>18810</td>\n",
              "      <td>아무리 적응해도 아닌 것 같아\\r\\r\\n네가 웃고 있는 게\\r\\r\\n누가 봐도 어색...</td>\n",
              "    </tr>\n",
              "    <tr>\n",
              "      <th>16359</th>\n",
              "      <td>18811</td>\n",
              "      <td>일단 웃자\\r\\r\\n웃고 말자\\r\\r\\n울다 웃음 엉덩이에 뿔 난댔잖아\\r\\r\\n그...</td>\n",
              "    </tr>\n",
              "    <tr>\n",
              "      <th>16360</th>\n",
              "      <td>18812</td>\n",
              "      <td>They say people are born different\\r\\r\\nBut wh...</td>\n",
              "    </tr>\n",
              "    <tr>\n",
              "      <th>16361</th>\n",
              "      <td>18813</td>\n",
              "      <td>Talk talk 참 말들이 많아\\r\\r\\nWhat what 헛소리만 늘어\\r\\r\\...</td>\n",
              "    </tr>\n",
              "    <tr>\n",
              "      <th>16362</th>\n",
              "      <td>18814</td>\n",
              "      <td>Where am I\\r\\r\\nWho am I\\r\\r\\nI am not me\\r\\r\\...</td>\n",
              "    </tr>\n",
              "    <tr>\n",
              "      <th>16363</th>\n",
              "      <td>18815</td>\n",
              "      <td>불편한 속\\r\\r\\nThere's something wrong\\r\\r\\n처음으로 나...</td>\n",
              "    </tr>\n",
              "    <tr>\n",
              "      <th>16364</th>\n",
              "      <td>18816</td>\n",
              "      <td>Yeah yeah You know me\\r\\r\\nNo no no that's not...</td>\n",
              "    </tr>\n",
              "    <tr>\n",
              "      <th>16365</th>\n",
              "      <td>18817</td>\n",
              "      <td>Woah Eyo Woah Oh Oh\\r\\r\\nWoah Eyo Woah\\r\\r\\n잠시...</td>\n",
              "    </tr>\n",
              "    <tr>\n",
              "      <th>16366</th>\n",
              "      <td>18818</td>\n",
              "      <td>눈을 감아 보이는 3rd Eye\\r\\r\\n원하는 걸 보여줘 3rd Eye\\r\\r\\n...</td>\n",
              "    </tr>\n",
              "    <tr>\n",
              "      <th>16367</th>\n",
              "      <td>18819</td>\n",
              "      <td>내 삶은 밑바닥 낭떠러지\\r\\r\\n어두운 터널 속을 걷고 있어\\r\\r\\n내게 잔인하...</td>\n",
              "    </tr>\n",
              "    <tr>\n",
              "      <th>16368</th>\n",
              "      <td>18820</td>\n",
              "      <td>총량의 법칙\\r\\r\\nGrrr 정신은 지저분해\\r\\r\\n난폭한 개마냥 누구 앞에\\r...</td>\n",
              "    </tr>\n",
              "    <tr>\n",
              "      <th>16369</th>\n",
              "      <td>18821</td>\n",
              "      <td>어리게 보이기 싫어서\\r\\r\\n괜히 짓궂은 옷만 계속 바꿔 입고\\r\\r\\n어른스럽고...</td>\n",
              "    </tr>\n",
              "    <tr>\n",
              "      <th>16370</th>\n",
              "      <td>18822</td>\n",
              "      <td>Stray Kids\\r\\r\\nWatch out\\r\\r\\n2018\\r\\r\\n야야 야야...</td>\n",
              "    </tr>\n",
              "    <tr>\n",
              "      <th>16371</th>\n",
              "      <td>18823</td>\n",
              "      <td>쉬어도 되지만 아직 일러\\r\\r\\n쉬어야 하지만 아직 멀어\\r\\r\\n우리가 가야 할...</td>\n",
              "    </tr>\n",
              "    <tr>\n",
              "      <th>16372</th>\n",
              "      <td>18824</td>\n",
              "      <td>아침 7시 알람이 댕\\r\\r\\n창문 사이 햇빛은 쨍\\r\\r\\n일어나란 엄마의 잔소리...</td>\n",
              "    </tr>\n",
              "    <tr>\n",
              "      <th>16373</th>\n",
              "      <td>18825</td>\n",
              "      <td>너는 어떻게 지내\\r\\r\\n텅 빈 내 옆자리는 허전해\\r\\r\\n잊을 수 없는 날들 ...</td>\n",
              "    </tr>\n",
              "    <tr>\n",
              "      <th>16374</th>\n",
              "      <td>18826</td>\n",
              "      <td>내 삶은 밑바닥 낭떠러지\\r\\r\\n어두운 터널 속을 걷고 있어\\r\\r\\n내게 잔인하...</td>\n",
              "    </tr>\n",
              "    <tr>\n",
              "      <th>16375</th>\n",
              "      <td>18829</td>\n",
              "      <td>너는 질투 유발자\\r\\r\\n너 자꾸 그래봤자\\r\\r\\n그럴수록 네 마음은 다 들키는...</td>\n",
              "    </tr>\n",
              "    <tr>\n",
              "      <th>16376</th>\n",
              "      <td>18830</td>\n",
              "      <td>Shuby-Ruby-Ruby-Ruby Heart\\r\\r\\n새빨갛게 빛나는\\r\\r\\n...</td>\n",
              "    </tr>\n",
              "  </tbody>\n",
              "</table>\n",
              "<p>16377 rows × 2 columns</p>\n",
              "</div>"
            ],
            "text/plain": [
              "       index                                             lyrics\n",
              "0          0  갈수 없는 곳이란 우리에겐 없어\\r\\r\\n보이는 길밖에도 세상은 있어\\r\\r\\n언제...\n",
              "1          1  왜 기다려 왔잖아\\r\\r\\n모든 삶을 포기하는 소리를\\r\\r\\n이 세상이 모두 미쳐...\n",
              "2          2  이 세상 그 누구도 나를 닮을 순 없네\\r\\r\\n날 세상에 알릴 거야\\r\\r\\n나 ...\n",
              "3          3  옛 생각에 까페 문을열고\\r\\r\\n지난 추억을 기억하려했지\\r\\r\\n부드러운 음악소...\n",
              "4          4  항상 난 지나치기만 했네\\r\\r\\n이젠 난 미련없이 끝내\\r\\r\\n됐어 찾아냈어 난...\n",
              "5          5  난 알아요이밤이 흐르고 흐르면 누군가가\\r\\r\\n나를 떠나버려야 한다는 그사실을\\r...\n",
              "6          6  너와 함께 한 시간 속에서-\\r\\r\\n \\r\\r\\n너를 처음 만난 그때를\\r\\r\\n...\n",
              "7          7  환상속의 그대\\r\\r\\n\\r\\r\\n결코! 시간이 멈추어 줄 순 없다 Yo!\\r\\r\\...\n",
              "8          8  너에게 모든걸 뺏겨버렸던\\r\\r\\n마음이\\r\\r\\n다시 내게 돌아오는 걸\\r\\r\\n...\n",
              "9          9  니가 아무리 지금 날 좋아한다고 해도\\r\\r\\n그건 지금뿐일지도 몰라\\r\\r\\n왜냐...\n",
              "10        10  한결 같은 너희들의 정성이\\r\\r\\n우리에겐 너무 커다란 힘이 되었지\\r\\r\\n편지...\n",
              "11        12  내 친구야 창 밖을 봐\\r\\r\\n내 친구야 창 밖을 봐\\r\\r\\n눈이 오잖아\\r\\r...\n",
              "12        13  진정 나에겐 단 한가지\\r\\r\\n내가 소망하는 게 있어\\r\\r\\n갈려진 땅의 친구들...\n",
              "13        14  내가 멀리 있다 느껴져도\\r\\r\\n그대여 슬퍼하지 마세요\\r\\r\\n나의 그리움이 항...\n",
              "14        15  됐어 됐어 됐어 됐어\\r\\r\\n이제 그런 가르침은 됐어\\r\\r\\n그걸로 족해 족해 ...\n",
              "15        16  우연히 길을 걷다\\r\\r\\n마주친 그 모습에 너무 놀랬어\\r\\r\\n작고 귀엽고 깨물...\n",
              "16        17  난 지금 무엇을 찾으려고\\r\\r\\n애를 쓰는 걸까\\r\\r\\n난 지금 어디로 쉬지않고...\n",
              "17        18  나는 몇 해 전인가\\r\\r\\n빛을 버리고\\r\\r\\n어둠을 맞이 할 수 밖에\\r\\r\\...\n",
              "18        19  난 버림받았어\\r\\r\\n한마디로 얘기하자면\\r\\r\\n보기좋게 차인것 같아\\r\\r\\n...\n",
              "19        20  지나간 일을 난 오늘\\r\\r\\n생각해봤지\\r\\r\\n내겐 아름다웠던\\r\\r\\n기억들만...\n",
              "20        22  난 알아요 이 밤이 흐르고 흐르면\\r\\r\\n누군가가 나를 떠나 버려야 한다는\\r\\r...\n",
              "21        23  나는 몇해전인가 빛을 버리고\\r\\r\\n어둠을 맞이할 수밖에 없었네\\r\\r\\n이젠 분...\n",
              "22        24  난 버림받았어\\r\\r\\n한마디로 얘기하자면\\r\\r\\n보기좋게 차인것 같아\\r\\r\\n...\n",
              "23        25  난 지금 무엇을 찾으려고\\r\\r\\n애를 쓰는 걸까\\r\\r\\n난 지금 어디로 쉬지않고...\n",
              "24        26  왜 기다려왔잖아\\r\\r\\n모든 삶을\\r\\r\\n포기하는 소리를\\r\\r\\n이 세상이 모...\n",
              "25        27  천구백구육 아직도 수많은 넋이 나가있고\\r\\r\\n모두가 돈을 만들기 위해서\\r\\r\\...\n",
              "26        28  갈 수 없는 곳이란\\r\\r\\n우리에겐 없어\\r\\r\\n보이는 길 밖에도 세상은 있어\\...\n",
              "27        29  샤랄랄라라라라라라라\\r\\r\\n샤랄랄라라라라라라라\\r\\r\\n샤랄랄라라라라라라라\\r\\r...\n",
              "28        30  항상 난 지나치기만 했네\\r\\r\\n이젠 난 미련없이 끝내\\r\\r\\n됐어 찾아냈어 난...\n",
              "29        33  우연히 길을걷다\\r\\r\\n음 마주친 그 모습에 너무 놀랬어\\r\\r\\n작고 귀엽고 깨...\n",
              "...      ...                                                ...\n",
              "16347  18799  I'm telling you now\\r\\r\\nI'm telling you\\r\\r\\n...\n",
              "16348  18800  왜 자꾸 쳐다보니 헷갈리잖아\\r\\r\\n날 좋아하는 거니 혹시 그런 거니 너\\r\\r\\...\n",
              "16349  18801  oh no no no more\\r\\r\\n선을 넘어 넘어 넘어\\r\\r\\n아무렇지 않게...\n",
              "16350  18802  Woo yeh\\r\\r\\n어딘가에 네가\\r\\r\\n째깍 째깍 시계소리 들려\\r\\r\\n문...\n",
              "16351  18803  네 멋대로 Get It Get It\\r\\r\\n망설이지 말고\\r\\r\\n너 지금 바로 ...\n",
              "16352  18804  깊은 꿈 너머로 온 듯한\\r\\r\\n빛을 따라 잠시 멈춰 나를 비춰\\r\\r\\n길을 잃...\n",
              "16353  18805  I am WHO\\r\\r\\nI am WHAT\\r\\r\\nWhat’s the reason...\n",
              "16354  18806  NaNaNaNaNaNa\\r\\r\\n아 이게 아닌데\\r\\r\\nNaNaNaNaNaNa\\r...\n",
              "16355  18807  더 이상은 듣기 싫은\\r\\r\\n차가운 목소리 귀를 막아도\\r\\r\\n아무런 소용없이 ...\n",
              "16356  18808  Hey Tell me what you want\\r\\r\\n나나나 나나나 나나나나\\r\\...\n",
              "16357  18809  어두운 밤이 모둘 재울 때\\r\\r\\n모두 잠에 들 때\\r\\r\\n수많은 생각에 잠 못...\n",
              "16358  18810  아무리 적응해도 아닌 것 같아\\r\\r\\n네가 웃고 있는 게\\r\\r\\n누가 봐도 어색...\n",
              "16359  18811  일단 웃자\\r\\r\\n웃고 말자\\r\\r\\n울다 웃음 엉덩이에 뿔 난댔잖아\\r\\r\\n그...\n",
              "16360  18812  They say people are born different\\r\\r\\nBut wh...\n",
              "16361  18813  Talk talk 참 말들이 많아\\r\\r\\nWhat what 헛소리만 늘어\\r\\r\\...\n",
              "16362  18814  Where am I\\r\\r\\nWho am I\\r\\r\\nI am not me\\r\\r\\...\n",
              "16363  18815  불편한 속\\r\\r\\nThere's something wrong\\r\\r\\n처음으로 나...\n",
              "16364  18816  Yeah yeah You know me\\r\\r\\nNo no no that's not...\n",
              "16365  18817  Woah Eyo Woah Oh Oh\\r\\r\\nWoah Eyo Woah\\r\\r\\n잠시...\n",
              "16366  18818  눈을 감아 보이는 3rd Eye\\r\\r\\n원하는 걸 보여줘 3rd Eye\\r\\r\\n...\n",
              "16367  18819  내 삶은 밑바닥 낭떠러지\\r\\r\\n어두운 터널 속을 걷고 있어\\r\\r\\n내게 잔인하...\n",
              "16368  18820  총량의 법칙\\r\\r\\nGrrr 정신은 지저분해\\r\\r\\n난폭한 개마냥 누구 앞에\\r...\n",
              "16369  18821  어리게 보이기 싫어서\\r\\r\\n괜히 짓궂은 옷만 계속 바꿔 입고\\r\\r\\n어른스럽고...\n",
              "16370  18822  Stray Kids\\r\\r\\nWatch out\\r\\r\\n2018\\r\\r\\n야야 야야...\n",
              "16371  18823  쉬어도 되지만 아직 일러\\r\\r\\n쉬어야 하지만 아직 멀어\\r\\r\\n우리가 가야 할...\n",
              "16372  18824  아침 7시 알람이 댕\\r\\r\\n창문 사이 햇빛은 쨍\\r\\r\\n일어나란 엄마의 잔소리...\n",
              "16373  18825  너는 어떻게 지내\\r\\r\\n텅 빈 내 옆자리는 허전해\\r\\r\\n잊을 수 없는 날들 ...\n",
              "16374  18826  내 삶은 밑바닥 낭떠러지\\r\\r\\n어두운 터널 속을 걷고 있어\\r\\r\\n내게 잔인하...\n",
              "16375  18829  너는 질투 유발자\\r\\r\\n너 자꾸 그래봤자\\r\\r\\n그럴수록 네 마음은 다 들키는...\n",
              "16376  18830  Shuby-Ruby-Ruby-Ruby Heart\\r\\r\\n새빨갛게 빛나는\\r\\r\\n...\n",
              "\n",
              "[16377 rows x 2 columns]"
            ]
          },
          "metadata": {
            "tags": []
          },
          "execution_count": 367
        }
      ]
    },
    {
      "metadata": {
        "id": "R9JBCFMtcnDJ",
        "colab_type": "text"
      },
      "cell_type": "markdown",
      "source": [
        "## 텍스트 데이터 전처리"
      ]
    },
    {
      "metadata": {
        "id": "tRnYOD7dcnDJ",
        "colab_type": "code",
        "colab": {},
        "collapsed": true
      },
      "cell_type": "code",
      "source": [
        "def preprocessing(text):\n",
        "    # 개행문자 제거\n",
        "    text =  text.strip('\\t\\n\\r')\n",
        "    pattern = re.compile(r'\\s+')\n",
        "    text = re.sub(pattern, ' ', text)\n",
        "    # 특수문자 제거\n",
        "    # 특수문자나 이모티콘 등은 때로는 의미를 갖기도 하지만 여기에서는 제거했습니다.\n",
        "    # text = re.sub('[?.,;:|\\)*~`’!^\\-_+<>@\\#$%&-=#}※]', '', text)\n",
        "    # 한글, 영문, 숫자만 남기고 모두 제거하도록 합니다.\n",
        "    # text = re.sub('[^가-힣ㄱ-ㅎㅏ-ㅣa-zA-Z0-9]', ' ', text)\n",
        "    # 한글, 영문만 남기고 모두 제거하도록 합니다.\n",
        "    text = re.sub('[^가-힣ㄱ-ㅎㅏ-ㅣa-zA-Z]', ' ', text)\n",
        "    return text"
      ],
      "execution_count": 0,
      "outputs": []
    },
    {
      "metadata": {
        "id": "WpkJQb3mcnDL",
        "colab_type": "code",
        "colab": {},
        "outputId": "381cf300-fd48-47be-b34c-62ce2308dca5"
      },
      "cell_type": "code",
      "source": [
        "sample_content = song['lyrics'][100]\n",
        "type(sample_content)"
      ],
      "execution_count": 0,
      "outputs": [
        {
          "output_type": "execute_result",
          "data": {
            "text/plain": [
              "str"
            ]
          },
          "metadata": {
            "tags": []
          },
          "execution_count": 369
        }
      ]
    },
    {
      "metadata": {
        "id": "xUHe3nRrcnDN",
        "colab_type": "code",
        "colab": {},
        "outputId": "c1ca60d3-490d-46c1-d22c-7e9f52a982fd"
      },
      "cell_type": "code",
      "source": [
        "sample_content = preprocessing(sample_content)\n",
        "sample_content[:1000]"
      ],
      "execution_count": 0,
      "outputs": [
        {
          "output_type": "execute_result",
          "data": {
            "text/plain": [
              "'그대여 내게 아픈 말은 하지마 슬프지 않은 미소지며 잠시 떨려오는 마지막 눈빛으로 헤어짐을 간직하라는 이젠 네가없는 내가 힘들어 나를 포기할 수 있기에 너를 내 꿈속에 스치듯 찾아들면 그때 갈께 너의 곁으로 떠난 그대여 슬퍼 하지마 우리 잃어버린 사랑은 영원할꺼야 다른 세상에 기대고 있어 아직 살아있는 나를 기다려줘 우리 헤어짐은 이대로 간직할께 눈물에 흘리지 않고 그리고 바라보면 언제나 내가 있어 그대 떠난 그대여 슬퍼 하지마 우리 잃어버린 사랑은 영원할꺼야 다른 세상에 기대고있어 아직 살아있는 나를 기다려줘 우리 헤어짐은 이대로 간직할게 눈물에 흘리지 않고 그리워 바라보면 언제나 내가있어 그대'"
            ]
          },
          "metadata": {
            "tags": []
          },
          "execution_count": 370
        }
      ]
    },
    {
      "metadata": {
        "id": "lK6PcP3McnDQ",
        "colab_type": "code",
        "colab": {},
        "outputId": "56663a5d-08ae-4744-bf81-4dd222eeb8f0"
      },
      "cell_type": "code",
      "source": [
        "# %time을 찍어주면 해당 코드를 실행할 때 걸리는 시간을 출력해 줍니다\n",
        "%time sentences = song['lyrics'].apply(preprocessing)"
      ],
      "execution_count": 0,
      "outputs": [
        {
          "output_type": "stream",
          "text": [
            "CPU times: user 2.55 s, sys: 29.9 ms, total: 2.58 s\n",
            "Wall time: 2.6 s\n"
          ],
          "name": "stdout"
        }
      ]
    },
    {
      "metadata": {
        "id": "jprg3ZN0cnDS",
        "colab_type": "code",
        "colab": {},
        "outputId": "31d19829-a6d2-4555-febe-7240bcca145e"
      },
      "cell_type": "code",
      "source": [
        "sentences.head()"
      ],
      "execution_count": 0,
      "outputs": [
        {
          "output_type": "execute_result",
          "data": {
            "text/plain": [
              "0    갈수 없는 곳이란 우리에겐 없어 보이는 길밖에도 세상은 있어 언제나 식지않는 마음이...\n",
              "1    왜 기다려 왔잖아 모든 삶을 포기하는 소리를 이 세상이 모두 미쳐버릴 일이 벌어질것...\n",
              "2    이 세상 그 누구도 나를 닮을 순 없네 날 세상에 알릴 거야 나 역시 그 누구를 따...\n",
              "3    옛 생각에 까페 문을열고 지난 추억을 기억하려했지 부드러운 음악소리마저 내마음을 아...\n",
              "4    항상 난 지나치기만 했네 이젠 난 미련없이 끝내 됐어 찾아냈어 난 모두가 또 나를 ...\n",
              "Name: lyrics, dtype: object"
            ]
          },
          "metadata": {
            "tags": []
          },
          "execution_count": 396
        }
      ]
    },
    {
      "metadata": {
        "id": "Ha8g3LodcnDX",
        "colab_type": "text"
      },
      "cell_type": "markdown",
      "source": [
        "## Bigram 만들기\n",
        "\n",
        "'말이 되는' 가사 생성에 도움받기 위해 자주 나오는 단어들을 묶어 어구로 만들어야 한다.\n",
        "\n",
        "n-gram 이라는 기법으로 bigram(두 단어씩 묶기), trigram(세 단어씩 묶기) 등의 방법이 있다.\n",
        "\n",
        "`bigram = gensim.models.Phrases(tokens, min_count=1, threshold=100)`이런식으로 만들 수 있다.\n",
        "\n",
        "trigram을 하려면 bigram 으로 나온 것을 한번 더 Phrases에 넣고 돌려주는 방식으로 하면 된다.\n",
        "\n",
        "// to create the bigrams\n",
        "bigram_model = Phrases(unigram_sentences)\n",
        "\n",
        "// apply the trained model to a sentence\n",
        " for unigram_sentence in unigram_sentences:                \n",
        "            bigram_sentence = u' '.join(bigram_model[unigram_sentence])\n",
        "\n",
        "// get a trigram model out of the bigram\n",
        "trigram_model = Phrases(bigram_sentences)"
      ]
    },
    {
      "metadata": {
        "id": "IBkQzp7ZcnDX",
        "colab_type": "code",
        "colab": {},
        "outputId": "72fce77a-bc94-42e7-ea01-5420c8801c51"
      },
      "cell_type": "code",
      "source": [
        "# 토크나이징 하기 전 sentences 로 txt파일 생성\n",
        "\n",
        "%%time\n",
        "USE_PREMADE_TEXT = False\n",
        "\n",
        "text_filepath = 'all_lyrics_text.txt'\n",
        "if not USE_PREMADE_TEXT:\n",
        "    with open(text_filepath, 'w', encoding='utf-8') as f:\n",
        "        for lyrics in sentences.values:\n",
        "            if pd.isnull(lyrics): # null값 있다면 그 다음으로 넘어감\n",
        "                continue\n",
        "            f.write(lyrics + '\\n')\n",
        "else:\n",
        "    assert path.exists(text_filepath)"
      ],
      "execution_count": 0,
      "outputs": [
        {
          "output_type": "stream",
          "text": [
            "CPU times: user 79.3 ms, sys: 22.6 ms, total: 102 ms\n",
            "Wall time: 125 ms\n"
          ],
          "name": "stdout"
        }
      ]
    },
    {
      "metadata": {
        "id": "SlEGqvuVcnDb",
        "colab_type": "code",
        "colab": {},
        "outputId": "75586027-05d7-4d6c-b91e-607d9b02428e"
      },
      "cell_type": "code",
      "source": [
        "# bigram model 저장 \n",
        "\n",
        "\n",
        "USE_PREMADE_BIGRAM_MODEL = False\n",
        "\n",
        "all_bigram_model_filepath = 'all_bigram_model'\n",
        "all_sentences_normalized_filepath = 'all_lyrics_text.txt'\n",
        "\n",
        "all_unigram_sentences = LineSentence(all_sentences_normalized_filepath)\n",
        "\n",
        "if not USE_PREMADE_BIGRAM_MODEL:    \n",
        "    \n",
        "    all_bigram_model = Phrases(all_unigram_sentences) #phrase냐 아니냐를 판단해줌\n",
        "    all_bigram_model.save(all_bigram_model_filepath)\n",
        "    \n",
        "else:\n",
        "    all_bigram_model = Phrases.load(all_bigram_model_filepath)"
      ],
      "execution_count": 0,
      "outputs": [
        {
          "output_type": "stream",
          "text": [
            "2018-09-11 15:16:53,728 : INFO : collecting all words and their counts\n",
            "2018-09-11 15:16:53,731 : INFO : PROGRESS: at sentence #0, processed 0 words and 0 word types\n",
            "2018-09-11 15:16:58,468 : INFO : PROGRESS: at sentence #10000, processed 2161735 words and 749207 word types\n",
            "2018-09-11 15:17:01,897 : INFO : collected 1187907 word types from a corpus of 3820065 words (unigram + bigrams) and 16371 sentences\n",
            "2018-09-11 15:17:01,899 : INFO : using 1187907 counts as vocab in Phrases<0 vocab, min_count=5, threshold=10.0, max_vocab_size=40000000>\n",
            "2018-09-11 15:17:01,938 : INFO : saving Phrases object under all_bigram_model, separately None\n",
            "2018-09-11 15:17:04,442 : INFO : saved all_bigram_model\n"
          ],
          "name": "stderr"
        }
      ]
    },
    {
      "metadata": {
        "id": "wiQmmnQlcnDe",
        "colab_type": "code",
        "colab": {},
        "outputId": "d8ef22c4-08bd-47f7-c1fe-3c0013d5c41c"
      },
      "cell_type": "code",
      "source": [
        "%%time\n",
        "USE_PREMADE_BIGRAM_SENTENCES = False\n",
        "\n",
        "all_bigram_sentences_filepath = 'all_sentences_for_word2vec.txt'\n",
        "\n",
        "if not USE_PREMADE_BIGRAM_SENTENCES:\n",
        "    \n",
        "    with open(all_bigram_sentences_filepath, 'w', encoding='utf-8') as f:\n",
        "        for unigram_sentence in all_unigram_sentences:\n",
        "            all_bigram_sentence = all_bigram_model[unigram_sentence]\n",
        "            f.write(' '.join(all_bigram_sentence) + '\\n')\n",
        "else:\n",
        "    assert path.exists(all_bigram_sentences_filepath)"
      ],
      "execution_count": 0,
      "outputs": [
        {
          "output_type": "stream",
          "text": [
            "/Users/jieun/anaconda3/lib/python3.6/site-packages/gensim/models/phrases.py:494: UserWarning: For a faster implementation, use the gensim.models.phrases.Phraser class\n",
            "  warnings.warn(\"For a faster implementation, use the gensim.models.phrases.Phraser class\")\n"
          ],
          "name": "stderr"
        },
        {
          "output_type": "stream",
          "text": [
            "CPU times: user 15.2 s, sys: 109 ms, total: 15.3 s\n",
            "Wall time: 15.4 s\n"
          ],
          "name": "stdout"
        }
      ]
    },
    {
      "metadata": {
        "id": "GDB7sIuvcnDh",
        "colab_type": "text"
      },
      "cell_type": "markdown",
      "source": [
        "## Word2vec 모델 만들기\n",
        "\n",
        "Skip-gram 방식으로 word2vec 하였다.\n",
        "\n",
        "Skip-Gram 방식은 CBOW 방식과 반대로 특정한 단어로부터 문맥이 될 수 있는 단어를 예측한다. \n",
        "\n",
        "보통 입력 단어 주변의 kk개 단어를 문맥으로 보고 예측 모형을 만드는데 이 kk 값을 window size 라고 한다.\n"
      ]
    },
    {
      "metadata": {
        "id": "JQJmzmuvcnDi",
        "colab_type": "code",
        "colab": {},
        "collapsed": true
      },
      "cell_type": "code",
      "source": [
        "# word2vec 모델 학습에 로그를 찍을 수 있도록 합니다.\n",
        "\n",
        "import logging\n",
        "logging.basicConfig(\n",
        "    format='%(asctime)s : %(levelname)s : %(message)s', \n",
        "    level=logging.INFO)"
      ],
      "execution_count": 0,
      "outputs": []
    },
    {
      "metadata": {
        "id": "nVK63KLJcnDj",
        "colab_type": "code",
        "colab": {},
        "outputId": "203af042-916e-48b0-ebbe-9719102700a4"
      },
      "cell_type": "code",
      "source": [
        "%%time\n",
        "USE_PREMADE_WORD2VEC = False\n",
        "\n",
        "all2vec_filepath = 'all_word2vec_model'\n",
        "\n",
        "if not USE_PREMADE_WORD2VEC:\n",
        "    \n",
        "    lyrics_for_word2vec = LineSentence(all_bigram_sentences_filepath)\n",
        "\n",
        "    all2vec = Word2Vec(lyrics_for_word2vec, size=100, window=5, min_count=1, sg=1)\n",
        "    # sg=0 cbow 1=Skip-Gram Model\n",
        "    # 100차원으로 가져옴 / 보통 20~100 정도\n",
        "    # window = 5 앞 5개, 뒤 5개 단어를 보겠다는 뜻\n",
        "    # window size 작을수록 문법적인 의미가 너무 중요해짐, 클수록 주제 지향적으로 문맥적인 정보를 많이 담게 됨    \n",
        "    for _ in range(9):\n",
        "        all2vec.train(lyrics_for_word2vec,total_examples=16377, epochs=1)\n",
        "        # 총 곡 가사에 총 16377 문장이 있다는 것 명시\n",
        "        \n",
        "    all2vec.save(all2vec_filepath)\n",
        "else:\n",
        "    all2vec = Word2Vec.load(all2vec_filepath)\n",
        "all2vec.init_sims()"
      ],
      "execution_count": 0,
      "outputs": [
        {
          "output_type": "stream",
          "text": [
            "2018-09-11 15:20:44,681 : INFO : collecting all words and their counts\n",
            "2018-09-11 15:20:44,684 : INFO : PROGRESS: at sentence #0, processed 0 words, keeping 0 word types\n",
            "2018-09-11 15:20:45,371 : INFO : PROGRESS: at sentence #10000, processed 1718729 words, keeping 148677 word types\n",
            "2018-09-11 15:20:45,932 : INFO : collected 204703 word types from a corpus of 3015649 raw words and 16371 sentences\n",
            "2018-09-11 15:20:45,934 : INFO : Loading a fresh vocabulary\n",
            "2018-09-11 15:20:46,758 : INFO : min_count=1 retains 204703 unique words (100% of original 204703, drops 0)\n",
            "2018-09-11 15:20:46,760 : INFO : min_count=1 leaves 3015649 word corpus (100% of original 3015649, drops 0)\n",
            "2018-09-11 15:20:47,369 : INFO : deleting the raw counts dictionary of 204703 items\n",
            "2018-09-11 15:20:47,374 : INFO : sample=0.001 downsamples 27 most-common words\n",
            "2018-09-11 15:20:47,376 : INFO : downsampling leaves estimated 2882655 word corpus (95.6% of prior 3015649)\n",
            "2018-09-11 15:20:47,982 : INFO : estimated required memory for 204703 words and 100 dimensions: 266113900 bytes\n",
            "2018-09-11 15:20:47,984 : INFO : resetting layer weights\n",
            "2018-09-11 15:20:50,131 : INFO : training model with 3 workers on 204703 vocabulary and 100 features, using sg=1 hs=0 sample=0.001 negative=5 window=5\n",
            "2018-09-11 15:20:51,137 : INFO : EPOCH 1 - PROGRESS: at 9.76% examples, 228205 words/s, in_qsize 5, out_qsize 0\n",
            "2018-09-11 15:20:52,223 : INFO : EPOCH 1 - PROGRESS: at 17.84% examples, 222583 words/s, in_qsize 5, out_qsize 0\n",
            "2018-09-11 15:20:53,278 : INFO : EPOCH 1 - PROGRESS: at 27.69% examples, 228726 words/s, in_qsize 5, out_qsize 0\n",
            "2018-09-11 15:20:54,349 : INFO : EPOCH 1 - PROGRESS: at 38.13% examples, 231312 words/s, in_qsize 5, out_qsize 0\n",
            "2018-09-11 15:20:55,356 : INFO : EPOCH 1 - PROGRESS: at 46.20% examples, 232031 words/s, in_qsize 5, out_qsize 0\n",
            "2018-09-11 15:20:56,376 : INFO : EPOCH 1 - PROGRESS: at 54.99% examples, 233591 words/s, in_qsize 5, out_qsize 0\n",
            "2018-09-11 15:20:57,422 : INFO : EPOCH 1 - PROGRESS: at 63.50% examples, 234875 words/s, in_qsize 5, out_qsize 0\n",
            "2018-09-11 15:20:58,475 : INFO : EPOCH 1 - PROGRESS: at 71.78% examples, 235789 words/s, in_qsize 5, out_qsize 0\n",
            "2018-09-11 15:20:59,540 : INFO : EPOCH 1 - PROGRESS: at 79.31% examples, 236367 words/s, in_qsize 5, out_qsize 0\n",
            "2018-09-11 15:21:00,542 : INFO : EPOCH 1 - PROGRESS: at 86.64% examples, 237231 words/s, in_qsize 6, out_qsize 0\n",
            "2018-09-11 15:21:01,587 : INFO : EPOCH 1 - PROGRESS: at 94.51% examples, 236326 words/s, in_qsize 5, out_qsize 0\n",
            "2018-09-11 15:21:02,230 : INFO : worker thread finished; awaiting finish of 2 more threads\n",
            "2018-09-11 15:21:02,299 : INFO : worker thread finished; awaiting finish of 1 more threads\n",
            "2018-09-11 15:21:02,306 : INFO : worker thread finished; awaiting finish of 0 more threads\n",
            "2018-09-11 15:21:02,308 : INFO : EPOCH - 1 : training on 3015649 raw words (2882940 effective words) took 12.2s, 236803 effective words/s\n",
            "2018-09-11 15:21:03,387 : INFO : EPOCH 2 - PROGRESS: at 10.12% examples, 221802 words/s, in_qsize 6, out_qsize 0\n",
            "2018-09-11 15:21:04,443 : INFO : EPOCH 2 - PROGRESS: at 19.11% examples, 231607 words/s, in_qsize 5, out_qsize 0\n",
            "2018-09-11 15:21:05,476 : INFO : EPOCH 2 - PROGRESS: at 28.73% examples, 236011 words/s, in_qsize 5, out_qsize 0\n",
            "2018-09-11 15:21:06,539 : INFO : EPOCH 2 - PROGRESS: at 39.06% examples, 237354 words/s, in_qsize 5, out_qsize 0\n",
            "2018-09-11 15:21:07,592 : INFO : EPOCH 2 - PROGRESS: at 48.02% examples, 238439 words/s, in_qsize 5, out_qsize 0\n",
            "2018-09-11 15:21:08,651 : INFO : EPOCH 2 - PROGRESS: at 56.83% examples, 238873 words/s, in_qsize 5, out_qsize 0\n",
            "2018-09-11 15:21:09,697 : INFO : EPOCH 2 - PROGRESS: at 65.26% examples, 239436 words/s, in_qsize 5, out_qsize 0\n",
            "2018-09-11 15:21:10,770 : INFO : EPOCH 2 - PROGRESS: at 73.43% examples, 239206 words/s, in_qsize 5, out_qsize 0\n",
            "2018-09-11 15:21:11,827 : INFO : EPOCH 2 - PROGRESS: at 81.09% examples, 239579 words/s, in_qsize 5, out_qsize 0\n",
            "2018-09-11 15:21:12,844 : INFO : EPOCH 2 - PROGRESS: at 88.26% examples, 238952 words/s, in_qsize 5, out_qsize 0\n",
            "2018-09-11 15:21:13,884 : INFO : EPOCH 2 - PROGRESS: at 96.21% examples, 238789 words/s, in_qsize 5, out_qsize 0\n",
            "2018-09-11 15:21:14,307 : INFO : worker thread finished; awaiting finish of 2 more threads\n",
            "2018-09-11 15:21:14,354 : INFO : worker thread finished; awaiting finish of 1 more threads\n",
            "2018-09-11 15:21:14,386 : INFO : worker thread finished; awaiting finish of 0 more threads\n",
            "2018-09-11 15:21:14,389 : INFO : EPOCH - 2 : training on 3015649 raw words (2882678 effective words) took 12.1s, 238698 effective words/s\n",
            "2018-09-11 15:21:15,479 : INFO : EPOCH 3 - PROGRESS: at 10.12% examples, 219372 words/s, in_qsize 5, out_qsize 0\n",
            "2018-09-11 15:21:16,561 : INFO : EPOCH 3 - PROGRESS: at 19.11% examples, 227531 words/s, in_qsize 5, out_qsize 0\n",
            "2018-09-11 15:21:17,606 : INFO : EPOCH 3 - PROGRESS: at 28.73% examples, 232333 words/s, in_qsize 5, out_qsize 0\n",
            "2018-09-11 15:21:18,686 : INFO : EPOCH 3 - PROGRESS: at 39.06% examples, 233628 words/s, in_qsize 5, out_qsize 0\n",
            "2018-09-11 15:21:19,756 : INFO : EPOCH 3 - PROGRESS: at 48.02% examples, 234657 words/s, in_qsize 5, out_qsize 0\n",
            "2018-09-11 15:21:20,810 : INFO : EPOCH 3 - PROGRESS: at 56.83% examples, 235874 words/s, in_qsize 5, out_qsize 0\n",
            "2018-09-11 15:21:21,857 : INFO : EPOCH 3 - PROGRESS: at 65.26% examples, 236812 words/s, in_qsize 5, out_qsize 0\n",
            "2018-09-11 15:21:22,911 : INFO : EPOCH 3 - PROGRESS: at 73.43% examples, 237482 words/s, in_qsize 5, out_qsize 0\n",
            "2018-09-11 15:21:23,971 : INFO : EPOCH 3 - PROGRESS: at 81.09% examples, 237934 words/s, in_qsize 5, out_qsize 0\n",
            "2018-09-11 15:21:24,982 : INFO : EPOCH 3 - PROGRESS: at 88.62% examples, 238523 words/s, in_qsize 5, out_qsize 0\n",
            "2018-09-11 15:21:26,055 : INFO : EPOCH 3 - PROGRESS: at 96.21% examples, 236898 words/s, in_qsize 5, out_qsize 0\n",
            "2018-09-11 15:21:26,490 : INFO : worker thread finished; awaiting finish of 2 more threads\n",
            "2018-09-11 15:21:26,565 : INFO : worker thread finished; awaiting finish of 1 more threads\n",
            "2018-09-11 15:21:26,575 : INFO : worker thread finished; awaiting finish of 0 more threads\n",
            "2018-09-11 15:21:26,578 : INFO : EPOCH - 3 : training on 3015649 raw words (2882342 effective words) took 12.2s, 236544 effective words/s\n",
            "2018-09-11 15:21:27,632 : INFO : EPOCH 4 - PROGRESS: at 9.00% examples, 199640 words/s, in_qsize 5, out_qsize 0\n",
            "2018-09-11 15:21:28,675 : INFO : EPOCH 4 - PROGRESS: at 16.60% examples, 208568 words/s, in_qsize 5, out_qsize 0\n",
            "2018-09-11 15:21:29,693 : INFO : EPOCH 4 - PROGRESS: at 25.70% examples, 216223 words/s, in_qsize 5, out_qsize 0\n",
            "2018-09-11 15:21:30,741 : INFO : EPOCH 4 - PROGRESS: at 35.60% examples, 220561 words/s, in_qsize 5, out_qsize 0\n",
            "2018-09-11 15:21:31,755 : INFO : EPOCH 4 - PROGRESS: at 44.37% examples, 225081 words/s, in_qsize 5, out_qsize 0\n",
            "2018-09-11 15:21:32,805 : INFO : EPOCH 4 - PROGRESS: at 52.93% examples, 225112 words/s, in_qsize 5, out_qsize 0\n",
            "2018-09-11 15:21:33,888 : INFO : EPOCH 4 - PROGRESS: at 61.52% examples, 226587 words/s, in_qsize 5, out_qsize 0\n",
            "2018-09-11 15:21:34,894 : INFO : EPOCH 4 - PROGRESS: at 69.09% examples, 226310 words/s, in_qsize 6, out_qsize 0\n",
            "2018-09-11 15:21:35,912 : INFO : EPOCH 4 - PROGRESS: at 75.63% examples, 226064 words/s, in_qsize 5, out_qsize 0\n",
            "2018-09-11 15:21:36,929 : INFO : EPOCH 4 - PROGRESS: at 82.93% examples, 226718 words/s, in_qsize 5, out_qsize 0\n",
            "2018-09-11 15:21:37,989 : INFO : EPOCH 4 - PROGRESS: at 90.56% examples, 227270 words/s, in_qsize 5, out_qsize 0\n",
            "2018-09-11 15:21:38,995 : INFO : EPOCH 4 - PROGRESS: at 98.66% examples, 228713 words/s, in_qsize 5, out_qsize 0\n",
            "2018-09-11 15:21:39,114 : INFO : worker thread finished; awaiting finish of 2 more threads\n",
            "2018-09-11 15:21:39,181 : INFO : worker thread finished; awaiting finish of 1 more threads\n",
            "2018-09-11 15:21:39,188 : INFO : worker thread finished; awaiting finish of 0 more threads\n",
            "2018-09-11 15:21:39,190 : INFO : EPOCH - 4 : training on 3015649 raw words (2882827 effective words) took 12.6s, 228645 effective words/s\n",
            "2018-09-11 15:21:40,205 : INFO : EPOCH 5 - PROGRESS: at 9.39% examples, 216752 words/s, in_qsize 5, out_qsize 0\n",
            "2018-09-11 15:21:41,231 : INFO : EPOCH 5 - PROGRESS: at 16.60% examples, 214182 words/s, in_qsize 6, out_qsize 0\n"
          ],
          "name": "stderr"
        },
        {
          "output_type": "stream",
          "text": [
            "2018-09-11 15:21:42,237 : INFO : EPOCH 5 - PROGRESS: at 25.06% examples, 214710 words/s, in_qsize 5, out_qsize 0\n",
            "2018-09-11 15:21:43,273 : INFO : EPOCH 5 - PROGRESS: at 34.34% examples, 217878 words/s, in_qsize 5, out_qsize 0\n",
            "2018-09-11 15:21:44,275 : INFO : EPOCH 5 - PROGRESS: at 43.02% examples, 219835 words/s, in_qsize 5, out_qsize 0\n",
            "2018-09-11 15:21:45,318 : INFO : EPOCH 5 - PROGRESS: at 50.67% examples, 217903 words/s, in_qsize 5, out_qsize 0\n",
            "2018-09-11 15:21:46,365 : INFO : EPOCH 5 - PROGRESS: at 58.56% examples, 218980 words/s, in_qsize 5, out_qsize 0\n",
            "2018-09-11 15:21:47,374 : INFO : EPOCH 5 - PROGRESS: at 66.25% examples, 219534 words/s, in_qsize 5, out_qsize 0\n",
            "2018-09-11 15:21:48,391 : INFO : EPOCH 5 - PROGRESS: at 73.43% examples, 219956 words/s, in_qsize 5, out_qsize 0\n",
            "2018-09-11 15:21:49,417 : INFO : EPOCH 5 - PROGRESS: at 80.29% examples, 220195 words/s, in_qsize 5, out_qsize 0\n",
            "2018-09-11 15:21:50,431 : INFO : EPOCH 5 - PROGRESS: at 87.28% examples, 221395 words/s, in_qsize 5, out_qsize 0\n",
            "2018-09-11 15:21:51,478 : INFO : EPOCH 5 - PROGRESS: at 95.37% examples, 222609 words/s, in_qsize 5, out_qsize 0\n",
            "2018-09-11 15:21:52,024 : INFO : worker thread finished; awaiting finish of 2 more threads\n",
            "2018-09-11 15:21:52,080 : INFO : worker thread finished; awaiting finish of 1 more threads\n",
            "2018-09-11 15:21:52,098 : INFO : worker thread finished; awaiting finish of 0 more threads\n",
            "2018-09-11 15:21:52,100 : INFO : EPOCH - 5 : training on 3015649 raw words (2882807 effective words) took 12.9s, 223348 effective words/s\n",
            "2018-09-11 15:21:52,103 : INFO : training on a 15078245 raw words (14413594 effective words) took 62.0s, 232594 effective words/s\n",
            "2018-09-11 15:21:52,105 : WARNING : Effective 'alpha' higher than previous training cycles\n",
            "2018-09-11 15:21:52,108 : INFO : training model with 3 workers on 204703 vocabulary and 100 features, using sg=1 hs=0 sample=0.001 negative=5 window=5\n",
            "2018-09-11 15:21:53,120 : INFO : EPOCH 1 - PROGRESS: at 9.76% examples, 226830 words/s, in_qsize 5, out_qsize 0\n",
            "2018-09-11 15:21:54,192 : INFO : EPOCH 1 - PROGRESS: at 17.84% examples, 223520 words/s, in_qsize 5, out_qsize 0\n",
            "2018-09-11 15:21:55,198 : INFO : EPOCH 1 - PROGRESS: at 26.43% examples, 224038 words/s, in_qsize 5, out_qsize 0\n",
            "2018-09-11 15:21:56,215 : INFO : EPOCH 1 - PROGRESS: at 36.58% examples, 228300 words/s, in_qsize 5, out_qsize 0\n",
            "2018-09-11 15:21:57,224 : INFO : EPOCH 1 - PROGRESS: at 44.35% examples, 227811 words/s, in_qsize 5, out_qsize 0\n",
            "2018-09-11 15:21:58,230 : INFO : EPOCH 1 - PROGRESS: at 52.20% examples, 225874 words/s, in_qsize 5, out_qsize 0\n",
            "2018-09-11 15:21:59,311 : INFO : EPOCH 1 - PROGRESS: at 59.54% examples, 222116 words/s, in_qsize 5, out_qsize 0\n",
            "2018-09-11 15:22:00,323 : INFO : EPOCH 1 - PROGRESS: at 66.56% examples, 219860 words/s, in_qsize 5, out_qsize 0\n",
            "2018-09-11 15:22:01,361 : INFO : EPOCH 1 - PROGRESS: at 73.40% examples, 218725 words/s, in_qsize 5, out_qsize 0\n",
            "2018-09-11 15:22:02,422 : INFO : EPOCH 1 - PROGRESS: at 80.27% examples, 218339 words/s, in_qsize 6, out_qsize 0\n",
            "2018-09-11 15:22:03,465 : INFO : EPOCH 1 - PROGRESS: at 86.92% examples, 218289 words/s, in_qsize 5, out_qsize 0\n",
            "2018-09-11 15:22:04,480 : INFO : EPOCH 1 - PROGRESS: at 94.47% examples, 218803 words/s, in_qsize 5, out_qsize 0\n",
            "2018-09-11 15:22:05,151 : INFO : worker thread finished; awaiting finish of 2 more threads\n",
            "2018-09-11 15:22:05,218 : INFO : worker thread finished; awaiting finish of 1 more threads\n",
            "2018-09-11 15:22:05,226 : INFO : worker thread finished; awaiting finish of 0 more threads\n",
            "2018-09-11 15:22:05,228 : INFO : EPOCH - 1 : training on 3015649 raw words (2882867 effective words) took 13.1s, 219770 effective words/s\n",
            "2018-09-11 15:22:05,230 : WARNING : EPOCH - 1 : supplied example count (16371) did not equal expected count (16377)\n",
            "2018-09-11 15:22:05,232 : INFO : training on a 3015649 raw words (2882867 effective words) took 13.1s, 219696 effective words/s\n",
            "2018-09-11 15:22:05,233 : WARNING : Effective 'alpha' higher than previous training cycles\n",
            "2018-09-11 15:22:05,236 : INFO : training model with 3 workers on 204703 vocabulary and 100 features, using sg=1 hs=0 sample=0.001 negative=5 window=5\n",
            "2018-09-11 15:22:06,343 : INFO : EPOCH 1 - PROGRESS: at 8.99% examples, 189995 words/s, in_qsize 6, out_qsize 0\n",
            "2018-09-11 15:22:07,351 : INFO : EPOCH 1 - PROGRESS: at 16.60% examples, 206759 words/s, in_qsize 5, out_qsize 0\n",
            "2018-09-11 15:22:08,359 : INFO : EPOCH 1 - PROGRESS: at 25.69% examples, 215586 words/s, in_qsize 5, out_qsize 0\n",
            "2018-09-11 15:22:09,390 : INFO : EPOCH 1 - PROGRESS: at 34.71% examples, 216463 words/s, in_qsize 5, out_qsize 0\n",
            "2018-09-11 15:22:10,394 : INFO : EPOCH 1 - PROGRESS: at 43.23% examples, 218575 words/s, in_qsize 5, out_qsize 0\n",
            "2018-09-11 15:22:11,447 : INFO : EPOCH 1 - PROGRESS: at 51.28% examples, 218054 words/s, in_qsize 5, out_qsize 0\n",
            "2018-09-11 15:22:12,484 : INFO : EPOCH 1 - PROGRESS: at 58.54% examples, 216800 words/s, in_qsize 5, out_qsize 0\n",
            "2018-09-11 15:22:13,526 : INFO : EPOCH 1 - PROGRESS: at 66.23% examples, 216748 words/s, in_qsize 5, out_qsize 0\n",
            "2018-09-11 15:22:14,539 : INFO : EPOCH 1 - PROGRESS: at 73.11% examples, 216569 words/s, in_qsize 5, out_qsize 0\n",
            "2018-09-11 15:22:15,561 : INFO : EPOCH 1 - PROGRESS: at 79.67% examples, 216308 words/s, in_qsize 6, out_qsize 0\n",
            "2018-09-11 15:22:16,572 : INFO : EPOCH 1 - PROGRESS: at 86.61% examples, 217899 words/s, in_qsize 5, out_qsize 0\n",
            "2018-09-11 15:22:17,630 : INFO : EPOCH 1 - PROGRESS: at 94.47% examples, 218446 words/s, in_qsize 5, out_qsize 0\n",
            "2018-09-11 15:22:18,279 : INFO : worker thread finished; awaiting finish of 2 more threads\n",
            "2018-09-11 15:22:18,347 : INFO : worker thread finished; awaiting finish of 1 more threads\n",
            "2018-09-11 15:22:18,353 : INFO : worker thread finished; awaiting finish of 0 more threads\n",
            "2018-09-11 15:22:18,355 : INFO : EPOCH - 1 : training on 3015649 raw words (2883099 effective words) took 13.1s, 219817 effective words/s\n",
            "2018-09-11 15:22:18,356 : WARNING : EPOCH - 1 : supplied example count (16371) did not equal expected count (16377)\n",
            "2018-09-11 15:22:18,358 : INFO : training on a 3015649 raw words (2883099 effective words) took 13.1s, 219745 effective words/s\n",
            "2018-09-11 15:22:18,360 : WARNING : Effective 'alpha' higher than previous training cycles\n",
            "2018-09-11 15:22:18,361 : INFO : training model with 3 workers on 204703 vocabulary and 100 features, using sg=1 hs=0 sample=0.001 negative=5 window=5\n",
            "2018-09-11 15:22:19,445 : INFO : EPOCH 1 - PROGRESS: at 10.12% examples, 220543 words/s, in_qsize 5, out_qsize 0\n",
            "2018-09-11 15:22:20,448 : INFO : EPOCH 1 - PROGRESS: at 18.32% examples, 227814 words/s, in_qsize 5, out_qsize 0\n",
            "2018-09-11 15:22:21,525 : INFO : EPOCH 1 - PROGRESS: at 27.68% examples, 227567 words/s, in_qsize 6, out_qsize 0\n",
            "2018-09-11 15:22:22,525 : INFO : EPOCH 1 - PROGRESS: at 37.38% examples, 229731 words/s, in_qsize 6, out_qsize 0\n",
            "2018-09-11 15:22:23,542 : INFO : EPOCH 1 - PROGRESS: at 44.96% examples, 228538 words/s, in_qsize 5, out_qsize 0\n",
            "2018-09-11 15:22:24,544 : INFO : EPOCH 1 - PROGRESS: at 53.23% examples, 228258 words/s, in_qsize 5, out_qsize 0\n",
            "2018-09-11 15:22:25,575 : INFO : EPOCH 1 - PROGRESS: at 61.21% examples, 228310 words/s, in_qsize 6, out_qsize 0\n",
            "2018-09-11 15:22:26,631 : INFO : EPOCH 1 - PROGRESS: at 69.06% examples, 227545 words/s, in_qsize 5, out_qsize 0\n",
            "2018-09-11 15:22:27,638 : INFO : EPOCH 1 - PROGRESS: at 75.88% examples, 228471 words/s, in_qsize 5, out_qsize 0\n",
            "2018-09-11 15:22:28,653 : INFO : EPOCH 1 - PROGRESS: at 83.23% examples, 228927 words/s, in_qsize 5, out_qsize 0\n",
            "2018-09-11 15:22:29,711 : INFO : EPOCH 1 - PROGRESS: at 90.52% examples, 228480 words/s, in_qsize 5, out_qsize 0\n",
            "2018-09-11 15:22:30,778 : INFO : EPOCH 1 - PROGRESS: at 98.90% examples, 229448 words/s, in_qsize 4, out_qsize 0\n",
            "2018-09-11 15:22:30,816 : INFO : worker thread finished; awaiting finish of 2 more threads\n",
            "2018-09-11 15:22:30,884 : INFO : worker thread finished; awaiting finish of 1 more threads\n",
            "2018-09-11 15:22:30,901 : INFO : worker thread finished; awaiting finish of 0 more threads\n",
            "2018-09-11 15:22:30,903 : INFO : EPOCH - 1 : training on 3015649 raw words (2882698 effective words) took 12.5s, 229908 effective words/s\n",
            "2018-09-11 15:22:30,905 : WARNING : EPOCH - 1 : supplied example count (16371) did not equal expected count (16377)\n"
          ],
          "name": "stderr"
        },
        {
          "output_type": "stream",
          "text": [
            "2018-09-11 15:22:30,907 : INFO : training on a 3015649 raw words (2882698 effective words) took 12.5s, 229817 effective words/s\n",
            "2018-09-11 15:22:30,910 : WARNING : Effective 'alpha' higher than previous training cycles\n",
            "2018-09-11 15:22:30,912 : INFO : training model with 3 workers on 204703 vocabulary and 100 features, using sg=1 hs=0 sample=0.001 negative=5 window=5\n",
            "2018-09-11 15:22:31,996 : INFO : EPOCH 1 - PROGRESS: at 10.12% examples, 220497 words/s, in_qsize 5, out_qsize 0\n",
            "2018-09-11 15:22:33,054 : INFO : EPOCH 1 - PROGRESS: at 19.10% examples, 230693 words/s, in_qsize 6, out_qsize 0\n",
            "2018-09-11 15:22:34,083 : INFO : EPOCH 1 - PROGRESS: at 28.72% examples, 235746 words/s, in_qsize 5, out_qsize 0\n",
            "2018-09-11 15:22:35,151 : INFO : EPOCH 1 - PROGRESS: at 39.04% examples, 236973 words/s, in_qsize 5, out_qsize 0\n",
            "2018-09-11 15:22:36,207 : INFO : EPOCH 1 - PROGRESS: at 48.00% examples, 237959 words/s, in_qsize 5, out_qsize 0\n",
            "2018-09-11 15:22:37,271 : INFO : EPOCH 1 - PROGRESS: at 56.81% examples, 238279 words/s, in_qsize 5, out_qsize 0\n",
            "2018-09-11 15:22:38,328 : INFO : EPOCH 1 - PROGRESS: at 65.23% examples, 238537 words/s, in_qsize 5, out_qsize 0\n",
            "2018-09-11 15:22:39,396 : INFO : EPOCH 1 - PROGRESS: at 73.40% examples, 238598 words/s, in_qsize 5, out_qsize 0\n",
            "2018-09-11 15:22:40,459 : INFO : EPOCH 1 - PROGRESS: at 81.06% examples, 238877 words/s, in_qsize 5, out_qsize 0\n",
            "2018-09-11 15:22:41,524 : INFO : EPOCH 1 - PROGRESS: at 88.95% examples, 239046 words/s, in_qsize 5, out_qsize 0\n",
            "2018-09-11 15:22:42,529 : INFO : EPOCH 1 - PROGRESS: at 96.46% examples, 238766 words/s, in_qsize 5, out_qsize 1\n",
            "2018-09-11 15:22:42,885 : INFO : worker thread finished; awaiting finish of 2 more threads\n",
            "2018-09-11 15:22:42,949 : INFO : worker thread finished; awaiting finish of 1 more threads\n",
            "2018-09-11 15:22:42,958 : INFO : worker thread finished; awaiting finish of 0 more threads\n",
            "2018-09-11 15:22:42,960 : INFO : EPOCH - 1 : training on 3015649 raw words (2882887 effective words) took 12.0s, 239340 effective words/s\n",
            "2018-09-11 15:22:42,962 : WARNING : EPOCH - 1 : supplied example count (16371) did not equal expected count (16377)\n",
            "2018-09-11 15:22:42,963 : INFO : training on a 3015649 raw words (2882887 effective words) took 12.0s, 239258 effective words/s\n",
            "2018-09-11 15:22:42,965 : WARNING : Effective 'alpha' higher than previous training cycles\n",
            "2018-09-11 15:22:42,967 : INFO : training model with 3 workers on 204703 vocabulary and 100 features, using sg=1 hs=0 sample=0.001 negative=5 window=5\n",
            "2018-09-11 15:22:44,054 : INFO : EPOCH 1 - PROGRESS: at 10.12% examples, 220164 words/s, in_qsize 6, out_qsize 0\n",
            "2018-09-11 15:22:45,109 : INFO : EPOCH 1 - PROGRESS: at 19.10% examples, 230836 words/s, in_qsize 5, out_qsize 0\n",
            "2018-09-11 15:22:46,142 : INFO : EPOCH 1 - PROGRESS: at 28.72% examples, 235492 words/s, in_qsize 5, out_qsize 0\n",
            "2018-09-11 15:22:47,169 : INFO : EPOCH 1 - PROGRESS: at 38.73% examples, 236778 words/s, in_qsize 5, out_qsize 0\n",
            "2018-09-11 15:22:48,194 : INFO : EPOCH 1 - PROGRESS: at 46.96% examples, 235642 words/s, in_qsize 5, out_qsize 0\n",
            "2018-09-11 15:22:49,209 : INFO : EPOCH 1 - PROGRESS: at 55.59% examples, 236729 words/s, in_qsize 5, out_qsize 0\n",
            "2018-09-11 15:22:50,230 : INFO : EPOCH 1 - PROGRESS: at 63.11% examples, 234513 words/s, in_qsize 5, out_qsize 0\n",
            "2018-09-11 15:22:51,233 : INFO : EPOCH 1 - PROGRESS: at 69.82% examples, 231135 words/s, in_qsize 6, out_qsize 0\n",
            "2018-09-11 15:22:52,300 : INFO : EPOCH 1 - PROGRESS: at 76.47% examples, 229132 words/s, in_qsize 5, out_qsize 0\n",
            "2018-09-11 15:22:53,325 : INFO : EPOCH 1 - PROGRESS: at 83.55% examples, 228403 words/s, in_qsize 5, out_qsize 0\n",
            "2018-09-11 15:22:54,330 : INFO : EPOCH 1 - PROGRESS: at 90.52% examples, 228238 words/s, in_qsize 5, out_qsize 0\n",
            "2018-09-11 15:22:55,333 : INFO : EPOCH 1 - PROGRESS: at 97.34% examples, 226608 words/s, in_qsize 5, out_qsize 0\n",
            "2018-09-11 15:22:55,575 : INFO : worker thread finished; awaiting finish of 2 more threads\n",
            "2018-09-11 15:22:55,629 : INFO : worker thread finished; awaiting finish of 1 more threads\n",
            "2018-09-11 15:22:55,649 : INFO : worker thread finished; awaiting finish of 0 more threads\n",
            "2018-09-11 15:22:55,652 : INFO : EPOCH - 1 : training on 3015649 raw words (2882750 effective words) took 12.7s, 227338 effective words/s\n",
            "2018-09-11 15:22:55,654 : WARNING : EPOCH - 1 : supplied example count (16371) did not equal expected count (16377)\n",
            "2018-09-11 15:22:55,656 : INFO : training on a 3015649 raw words (2882750 effective words) took 12.7s, 227247 effective words/s\n",
            "2018-09-11 15:22:55,657 : WARNING : Effective 'alpha' higher than previous training cycles\n",
            "2018-09-11 15:22:55,659 : INFO : training model with 3 workers on 204703 vocabulary and 100 features, using sg=1 hs=0 sample=0.001 negative=5 window=5\n",
            "2018-09-11 15:22:56,757 : INFO : EPOCH 1 - PROGRESS: at 10.12% examples, 218154 words/s, in_qsize 5, out_qsize 0\n",
            "2018-09-11 15:22:57,859 : INFO : EPOCH 1 - PROGRESS: at 19.10% examples, 224714 words/s, in_qsize 5, out_qsize 0\n",
            "2018-09-11 15:22:58,892 : INFO : EPOCH 1 - PROGRESS: at 27.68% examples, 222733 words/s, in_qsize 5, out_qsize 0\n",
            "2018-09-11 15:22:59,908 : INFO : EPOCH 1 - PROGRESS: at 36.97% examples, 222911 words/s, in_qsize 5, out_qsize 0\n",
            "2018-09-11 15:23:00,941 : INFO : EPOCH 1 - PROGRESS: at 44.65% examples, 222435 words/s, in_qsize 5, out_qsize 0\n",
            "2018-09-11 15:23:01,948 : INFO : EPOCH 1 - PROGRESS: at 52.91% examples, 222948 words/s, in_qsize 5, out_qsize 0\n",
            "2018-09-11 15:23:02,961 : INFO : EPOCH 1 - PROGRESS: at 60.84% examples, 224296 words/s, in_qsize 5, out_qsize 0\n",
            "2018-09-11 15:23:03,964 : INFO : EPOCH 1 - PROGRESS: at 68.47% examples, 224352 words/s, in_qsize 5, out_qsize 0\n",
            "2018-09-11 15:23:04,977 : INFO : EPOCH 1 - PROGRESS: at 75.32% examples, 225445 words/s, in_qsize 5, out_qsize 0\n",
            "2018-09-11 15:23:06,007 : INFO : EPOCH 1 - PROGRESS: at 82.29% examples, 224962 words/s, in_qsize 6, out_qsize 0\n",
            "2018-09-11 15:23:07,071 : INFO : EPOCH 1 - PROGRESS: at 89.77% examples, 224757 words/s, in_qsize 6, out_qsize 0\n",
            "2018-09-11 15:23:08,080 : INFO : EPOCH 1 - PROGRESS: at 97.69% examples, 226359 words/s, in_qsize 5, out_qsize 0\n",
            "2018-09-11 15:23:08,309 : INFO : worker thread finished; awaiting finish of 2 more threads\n",
            "2018-09-11 15:23:08,382 : INFO : worker thread finished; awaiting finish of 1 more threads\n",
            "2018-09-11 15:23:08,406 : INFO : worker thread finished; awaiting finish of 0 more threads\n",
            "2018-09-11 15:23:08,408 : INFO : EPOCH - 1 : training on 3015649 raw words (2882785 effective words) took 12.7s, 226200 effective words/s\n",
            "2018-09-11 15:23:08,410 : WARNING : EPOCH - 1 : supplied example count (16371) did not equal expected count (16377)\n",
            "2018-09-11 15:23:08,412 : INFO : training on a 3015649 raw words (2882785 effective words) took 12.7s, 226103 effective words/s\n",
            "2018-09-11 15:23:08,414 : WARNING : Effective 'alpha' higher than previous training cycles\n",
            "2018-09-11 15:23:08,415 : INFO : training model with 3 workers on 204703 vocabulary and 100 features, using sg=1 hs=0 sample=0.001 negative=5 window=5\n",
            "2018-09-11 15:23:09,506 : INFO : EPOCH 1 - PROGRESS: at 10.12% examples, 219105 words/s, in_qsize 5, out_qsize 0\n",
            "2018-09-11 15:23:10,511 : INFO : EPOCH 1 - PROGRESS: at 18.32% examples, 226680 words/s, in_qsize 5, out_qsize 0\n",
            "2018-09-11 15:23:11,571 : INFO : EPOCH 1 - PROGRESS: at 27.68% examples, 227997 words/s, in_qsize 5, out_qsize 0\n",
            "2018-09-11 15:23:12,645 : INFO : EPOCH 1 - PROGRESS: at 38.11% examples, 230646 words/s, in_qsize 5, out_qsize 0\n",
            "2018-09-11 15:23:13,654 : INFO : EPOCH 1 - PROGRESS: at 45.75% examples, 229599 words/s, in_qsize 6, out_qsize 0\n",
            "2018-09-11 15:23:14,710 : INFO : EPOCH 1 - PROGRESS: at 54.97% examples, 231687 words/s, in_qsize 5, out_qsize 0\n",
            "2018-09-11 15:23:15,724 : INFO : EPOCH 1 - PROGRESS: at 62.73% examples, 231741 words/s, in_qsize 5, out_qsize 0\n",
            "2018-09-11 15:23:16,742 : INFO : EPOCH 1 - PROGRESS: at 70.11% examples, 230587 words/s, in_qsize 5, out_qsize 0\n",
            "2018-09-11 15:23:17,749 : INFO : EPOCH 1 - PROGRESS: at 76.99% examples, 231121 words/s, in_qsize 5, out_qsize 0\n",
            "2018-09-11 15:23:18,809 : INFO : EPOCH 1 - PROGRESS: at 84.36% examples, 230287 words/s, in_qsize 5, out_qsize 0\n",
            "2018-09-11 15:23:19,827 : INFO : EPOCH 1 - PROGRESS: at 91.47% examples, 229725 words/s, in_qsize 5, out_qsize 0\n"
          ],
          "name": "stderr"
        },
        {
          "output_type": "stream",
          "text": [
            "2018-09-11 15:23:20,844 : INFO : EPOCH 1 - PROGRESS: at 98.63% examples, 228469 words/s, in_qsize 5, out_qsize 0\n",
            "2018-09-11 15:23:20,966 : INFO : worker thread finished; awaiting finish of 2 more threads\n",
            "2018-09-11 15:23:21,028 : INFO : worker thread finished; awaiting finish of 1 more threads\n",
            "2018-09-11 15:23:21,048 : INFO : worker thread finished; awaiting finish of 0 more threads\n",
            "2018-09-11 15:23:21,051 : INFO : EPOCH - 1 : training on 3015649 raw words (2882576 effective words) took 12.6s, 228186 effective words/s\n",
            "2018-09-11 15:23:21,053 : WARNING : EPOCH - 1 : supplied example count (16371) did not equal expected count (16377)\n",
            "2018-09-11 15:23:21,056 : INFO : training on a 3015649 raw words (2882576 effective words) took 12.6s, 228077 effective words/s\n",
            "2018-09-11 15:23:21,058 : WARNING : Effective 'alpha' higher than previous training cycles\n",
            "2018-09-11 15:23:21,060 : INFO : training model with 3 workers on 204703 vocabulary and 100 features, using sg=1 hs=0 sample=0.001 negative=5 window=5\n",
            "2018-09-11 15:23:22,064 : INFO : EPOCH 1 - PROGRESS: at 8.01% examples, 180996 words/s, in_qsize 5, out_qsize 0\n",
            "2018-09-11 15:23:23,148 : INFO : EPOCH 1 - PROGRESS: at 15.76% examples, 196097 words/s, in_qsize 5, out_qsize 0\n",
            "2018-09-11 15:23:24,210 : INFO : EPOCH 1 - PROGRESS: at 24.45% examples, 201906 words/s, in_qsize 5, out_qsize 0\n",
            "2018-09-11 15:23:25,299 : INFO : EPOCH 1 - PROGRESS: at 33.03% examples, 203274 words/s, in_qsize 5, out_qsize 0\n",
            "2018-09-11 15:23:26,348 : INFO : EPOCH 1 - PROGRESS: at 42.25% examples, 206143 words/s, in_qsize 5, out_qsize 0\n",
            "2018-09-11 15:23:27,412 : INFO : EPOCH 1 - PROGRESS: at 49.98% examples, 207380 words/s, in_qsize 5, out_qsize 0\n",
            "2018-09-11 15:23:28,417 : INFO : EPOCH 1 - PROGRESS: at 57.68% examples, 209792 words/s, in_qsize 5, out_qsize 0\n",
            "2018-09-11 15:23:29,430 : INFO : EPOCH 1 - PROGRESS: at 65.23% examples, 211408 words/s, in_qsize 5, out_qsize 0\n",
            "2018-09-11 15:23:30,443 : INFO : EPOCH 1 - PROGRESS: at 72.60% examples, 212751 words/s, in_qsize 5, out_qsize 0\n",
            "2018-09-11 15:23:31,509 : INFO : EPOCH 1 - PROGRESS: at 79.28% examples, 212881 words/s, in_qsize 6, out_qsize 0\n",
            "2018-09-11 15:23:32,523 : INFO : EPOCH 1 - PROGRESS: at 85.99% examples, 213868 words/s, in_qsize 5, out_qsize 0\n",
            "2018-09-11 15:23:33,557 : INFO : EPOCH 1 - PROGRESS: at 93.53% examples, 214394 words/s, in_qsize 5, out_qsize 0\n",
            "2018-09-11 15:23:34,457 : INFO : worker thread finished; awaiting finish of 2 more threads\n",
            "2018-09-11 15:23:34,511 : INFO : worker thread finished; awaiting finish of 1 more threads\n",
            "2018-09-11 15:23:34,534 : INFO : worker thread finished; awaiting finish of 0 more threads\n",
            "2018-09-11 15:23:34,537 : INFO : EPOCH - 1 : training on 3015649 raw words (2883044 effective words) took 13.5s, 213997 effective words/s\n",
            "2018-09-11 15:23:34,539 : WARNING : EPOCH - 1 : supplied example count (16371) did not equal expected count (16377)\n",
            "2018-09-11 15:23:34,542 : INFO : training on a 3015649 raw words (2883044 effective words) took 13.5s, 213894 effective words/s\n",
            "2018-09-11 15:23:34,544 : WARNING : Effective 'alpha' higher than previous training cycles\n",
            "2018-09-11 15:23:34,545 : INFO : training model with 3 workers on 204703 vocabulary and 100 features, using sg=1 hs=0 sample=0.001 negative=5 window=5\n",
            "2018-09-11 15:23:35,579 : INFO : EPOCH 1 - PROGRESS: at 8.99% examples, 203457 words/s, in_qsize 5, out_qsize 0\n",
            "2018-09-11 15:23:36,608 : INFO : EPOCH 1 - PROGRESS: at 16.60% examples, 212095 words/s, in_qsize 5, out_qsize 0\n",
            "2018-09-11 15:23:37,612 : INFO : EPOCH 1 - PROGRESS: at 25.69% examples, 219704 words/s, in_qsize 5, out_qsize 0\n",
            "2018-09-11 15:23:38,658 : INFO : EPOCH 1 - PROGRESS: at 35.59% examples, 223326 words/s, in_qsize 5, out_qsize 0\n",
            "2018-09-11 15:23:39,661 : INFO : EPOCH 1 - PROGRESS: at 43.74% examples, 224151 words/s, in_qsize 5, out_qsize 0\n",
            "2018-09-11 15:23:40,708 : INFO : EPOCH 1 - PROGRESS: at 52.20% examples, 224433 words/s, in_qsize 5, out_qsize 0\n",
            "2018-09-11 15:23:41,724 : INFO : EPOCH 1 - PROGRESS: at 59.54% examples, 222900 words/s, in_qsize 5, out_qsize 0\n",
            "2018-09-11 15:23:42,733 : INFO : EPOCH 1 - PROGRESS: at 67.19% examples, 222967 words/s, in_qsize 5, out_qsize 0\n",
            "2018-09-11 15:23:43,748 : INFO : EPOCH 1 - PROGRESS: at 73.66% examples, 220993 words/s, in_qsize 5, out_qsize 0\n",
            "2018-09-11 15:23:44,761 : INFO : EPOCH 1 - PROGRESS: at 80.27% examples, 220489 words/s, in_qsize 5, out_qsize 0\n",
            "2018-09-11 15:23:45,793 : INFO : EPOCH 1 - PROGRESS: at 86.92% examples, 220445 words/s, in_qsize 5, out_qsize 0\n",
            "2018-09-11 15:23:46,852 : INFO : EPOCH 1 - PROGRESS: at 93.86% examples, 218460 words/s, in_qsize 5, out_qsize 0\n",
            "2018-09-11 15:23:47,649 : INFO : worker thread finished; awaiting finish of 2 more threads\n",
            "2018-09-11 15:23:47,672 : INFO : worker thread finished; awaiting finish of 1 more threads\n",
            "2018-09-11 15:23:47,734 : INFO : worker thread finished; awaiting finish of 0 more threads\n",
            "2018-09-11 15:23:47,737 : INFO : EPOCH - 1 : training on 3015649 raw words (2883012 effective words) took 13.2s, 218605 effective words/s\n",
            "2018-09-11 15:23:47,738 : WARNING : EPOCH - 1 : supplied example count (16371) did not equal expected count (16377)\n",
            "2018-09-11 15:23:47,740 : INFO : training on a 3015649 raw words (2883012 effective words) took 13.2s, 218530 effective words/s\n",
            "2018-09-11 15:23:47,742 : INFO : saving Word2Vec object under all_word2vec_model, separately None\n",
            "2018-09-11 15:23:47,745 : INFO : storing np array 'vectors' to all_word2vec_model.wv.vectors.npy\n",
            "2018-09-11 15:23:47,834 : INFO : not storing attribute vectors_norm\n",
            "2018-09-11 15:23:47,836 : INFO : storing np array 'syn1neg' to all_word2vec_model.trainables.syn1neg.npy\n",
            "2018-09-11 15:23:47,972 : INFO : not storing attribute cum_table\n",
            "2018-09-11 15:23:48,507 : INFO : saved all_word2vec_model\n",
            "2018-09-11 15:23:48,509 : INFO : precomputing L2-norms of word weight vectors\n"
          ],
          "name": "stderr"
        },
        {
          "output_type": "stream",
          "text": [
            "CPU times: user 8min 48s, sys: 3.99 s, total: 8min 52s\n",
            "Wall time: 3min 3s\n"
          ],
          "name": "stdout"
        }
      ]
    },
    {
      "metadata": {
        "id": "iEo1IQSmcnDm",
        "colab_type": "code",
        "colab": {},
        "outputId": "803e5629-64bd-4cd6-ccc1-b4e8694aac97"
      },
      "cell_type": "code",
      "source": [
        "all2vec_filepath = 'all_word2vec_model'\n",
        "all2vec = Word2Vec.load(all2vec_filepath)"
      ],
      "execution_count": 0,
      "outputs": [
        {
          "output_type": "stream",
          "text": [
            "2018-09-11 15:23:57,009 : INFO : loading Word2Vec object from all_word2vec_model\n",
            "2018-09-11 15:23:57,931 : INFO : loading wv recursively from all_word2vec_model.wv.* with mmap=None\n",
            "2018-09-11 15:23:57,933 : INFO : loading vectors from all_word2vec_model.wv.vectors.npy with mmap=None\n",
            "2018-09-11 15:23:57,994 : INFO : setting ignored attribute vectors_norm to None\n",
            "2018-09-11 15:23:57,996 : INFO : loading vocabulary recursively from all_word2vec_model.vocabulary.* with mmap=None\n",
            "2018-09-11 15:23:57,998 : INFO : loading trainables recursively from all_word2vec_model.trainables.* with mmap=None\n",
            "2018-09-11 15:23:58,001 : INFO : loading syn1neg from all_word2vec_model.trainables.syn1neg.npy with mmap=None\n",
            "2018-09-11 15:23:58,117 : INFO : setting ignored attribute cum_table to None\n",
            "2018-09-11 15:23:58,119 : INFO : loaded all_word2vec_model\n"
          ],
          "name": "stderr"
        }
      ]
    },
    {
      "metadata": {
        "id": "wtEo2RN6cnDq",
        "colab_type": "code",
        "colab": {},
        "outputId": "da81a23f-6f73-407e-f047-954a84c41275"
      },
      "cell_type": "code",
      "source": [
        "# 에러나면 건너뛰어도 되는 부분임 \n",
        "# total_examples  \n",
        "# 총 곡 가사에 총 16377 문장이 있다는 것 명시\n",
        "\n",
        "model.corpus_count"
      ],
      "execution_count": 0,
      "outputs": [
        {
          "output_type": "execute_result",
          "data": {
            "text/plain": [
              "16377"
            ]
          },
          "metadata": {
            "tags": []
          },
          "execution_count": 402
        }
      ]
    },
    {
      "metadata": {
        "id": "M4PVKzbtcnDs",
        "colab_type": "code",
        "colab": {},
        "outputId": "c7a8c8d9-999d-477e-b11e-10708e2d8989"
      },
      "cell_type": "code",
      "source": [
        "# 총 20만 4703개의 단어들을 얻었다 \n",
        "\n",
        "a = pd.DataFrame(all2vec.wv.index2word)\n",
        "len(a)"
      ],
      "execution_count": 0,
      "outputs": [
        {
          "output_type": "execute_result",
          "data": {
            "text/plain": [
              "204703"
            ]
          },
          "metadata": {
            "tags": []
          },
          "execution_count": 413
        }
      ]
    },
    {
      "metadata": {
        "id": "bpX2C6I_cnDu",
        "colab_type": "code",
        "colab": {},
        "outputId": "3fd7a8dd-1ba7-44c5-eef6-9f4d1af41082"
      },
      "cell_type": "code",
      "source": [
        "len(a)"
      ],
      "execution_count": 0,
      "outputs": [
        {
          "output_type": "execute_result",
          "data": {
            "text/plain": [
              "204703"
            ]
          },
          "metadata": {
            "tags": []
          },
          "execution_count": 412
        }
      ]
    },
    {
      "metadata": {
        "id": "aTAgerNwcnD0",
        "colab_type": "text"
      },
      "cell_type": "markdown",
      "source": [
        "## 100회 이상 등장한 단어들만 가지고 t-SNE 시각화\n",
        "\n",
        "t-SNE란 차원축소 기법의 하나로 시각화를 위해 주로 사용된다\n",
        "\n",
        "t-SNE는 고차원에서 가까운 포인트를 저차원에서도 계속 가깝게 두고, 먼 포인트는 계속 멀게 유지시킨다\n",
        "\n",
        "데이터간의 유사도를 통해 데이터의 패턴을 찾을 수 있다\n",
        "\n",
        "단어 중 100회 초과 등장한 단어들을 대상으로, word2vec로 얻어진 각 단어의 numpy 행렬값을 매핑시킨 후 2차원 그래프로 시각화하였다.\n"
      ]
    },
    {
      "metadata": {
        "id": "H6dbSZdacnD1",
        "colab_type": "code",
        "colab": {},
        "outputId": "66de595c-252b-48d0-9f6f-9cb86c76ad8d"
      },
      "cell_type": "code",
      "source": [
        "%%time\n",
        "words = []\n",
        "for i in (range(204703)):\n",
        "    cnt = all2vec.wv.vocab[a[0][i]] # 횟수 카운트\n",
        "    if cnt.count > 100:\n",
        "        words.append(a[0][i]) # 횟수 100회 초과하는 단어만 리스트화\n",
        "    i += 1"
      ],
      "execution_count": 0,
      "outputs": [
        {
          "output_type": "stream",
          "text": [
            "CPU times: user 2.79 s, sys: 27 ms, total: 2.82 s\n",
            "Wall time: 2.89 s\n"
          ],
          "name": "stdout"
        }
      ]
    },
    {
      "metadata": {
        "id": "CCIQn8kqcnD4",
        "colab_type": "code",
        "colab": {},
        "outputId": "14c5014a-dddd-475a-e891-39fe5499bc58"
      },
      "cell_type": "code",
      "source": [
        "len (words)  # 100회 이상 등장한 단어는 3140개 "
      ],
      "execution_count": 0,
      "outputs": [
        {
          "output_type": "execute_result",
          "data": {
            "text/plain": [
              "3140"
            ]
          },
          "metadata": {
            "tags": []
          },
          "execution_count": 416
        }
      ]
    },
    {
      "metadata": {
        "id": "ycq8egYYcnD7",
        "colab_type": "code",
        "colab": {},
        "collapsed": true
      },
      "cell_type": "code",
      "source": [
        "# 100회 이상 등장한 단어들에 대해 vector값 가져오기\n",
        "\n",
        "X = []\n",
        "for i in words:\n",
        "    X.append(all2vec.wv[i])"
      ],
      "execution_count": 0,
      "outputs": []
    },
    {
      "metadata": {
        "id": "TZ-sb39EcnD8",
        "colab_type": "code",
        "colab": {},
        "collapsed": true
      },
      "cell_type": "code",
      "source": [
        "X2 = pd.DataFrame(X, index = words)"
      ],
      "execution_count": 0,
      "outputs": []
    },
    {
      "metadata": {
        "id": "c4djIuLvcnD_",
        "colab_type": "code",
        "colab": {},
        "outputId": "3bbf492e-269d-41be-9b71-856f0649763c"
      },
      "cell_type": "code",
      "source": [
        "# 단어와 각 vector 값으로 데이터 프레임 생성\n",
        "X2.head()"
      ],
      "execution_count": 0,
      "outputs": [
        {
          "output_type": "execute_result",
          "data": {
            "text/html": [
              "<div>\n",
              "<style scoped>\n",
              "    .dataframe tbody tr th:only-of-type {\n",
              "        vertical-align: middle;\n",
              "    }\n",
              "\n",
              "    .dataframe tbody tr th {\n",
              "        vertical-align: top;\n",
              "    }\n",
              "\n",
              "    .dataframe thead th {\n",
              "        text-align: right;\n",
              "    }\n",
              "</style>\n",
              "<table border=\"1\" class=\"dataframe\">\n",
              "  <thead>\n",
              "    <tr style=\"text-align: right;\">\n",
              "      <th></th>\n",
              "      <th>0</th>\n",
              "      <th>1</th>\n",
              "      <th>2</th>\n",
              "      <th>3</th>\n",
              "      <th>4</th>\n",
              "      <th>5</th>\n",
              "      <th>6</th>\n",
              "      <th>7</th>\n",
              "      <th>8</th>\n",
              "      <th>9</th>\n",
              "      <th>...</th>\n",
              "      <th>90</th>\n",
              "      <th>91</th>\n",
              "      <th>92</th>\n",
              "      <th>93</th>\n",
              "      <th>94</th>\n",
              "      <th>95</th>\n",
              "      <th>96</th>\n",
              "      <th>97</th>\n",
              "      <th>98</th>\n",
              "      <th>99</th>\n",
              "    </tr>\n",
              "  </thead>\n",
              "  <tbody>\n",
              "    <tr>\n",
              "      <th>you</th>\n",
              "      <td>-0.705365</td>\n",
              "      <td>0.391794</td>\n",
              "      <td>-0.197246</td>\n",
              "      <td>0.049586</td>\n",
              "      <td>-0.021167</td>\n",
              "      <td>-0.323827</td>\n",
              "      <td>-0.163044</td>\n",
              "      <td>0.389152</td>\n",
              "      <td>-0.418769</td>\n",
              "      <td>-0.273438</td>\n",
              "      <td>...</td>\n",
              "      <td>0.403136</td>\n",
              "      <td>0.466988</td>\n",
              "      <td>-0.180873</td>\n",
              "      <td>0.462283</td>\n",
              "      <td>-0.230707</td>\n",
              "      <td>-0.337114</td>\n",
              "      <td>-0.424592</td>\n",
              "      <td>-0.181719</td>\n",
              "      <td>-0.128530</td>\n",
              "      <td>-0.276971</td>\n",
              "    </tr>\n",
              "    <tr>\n",
              "      <th>난</th>\n",
              "      <td>-0.317604</td>\n",
              "      <td>0.064615</td>\n",
              "      <td>-0.357556</td>\n",
              "      <td>-0.482136</td>\n",
              "      <td>-0.121594</td>\n",
              "      <td>-0.302870</td>\n",
              "      <td>0.518841</td>\n",
              "      <td>0.289600</td>\n",
              "      <td>-0.596155</td>\n",
              "      <td>-0.238924</td>\n",
              "      <td>...</td>\n",
              "      <td>0.043901</td>\n",
              "      <td>0.286696</td>\n",
              "      <td>-0.407465</td>\n",
              "      <td>-0.171813</td>\n",
              "      <td>-0.048432</td>\n",
              "      <td>0.198343</td>\n",
              "      <td>0.171555</td>\n",
              "      <td>-0.406401</td>\n",
              "      <td>0.134302</td>\n",
              "      <td>-0.292124</td>\n",
              "    </tr>\n",
              "    <tr>\n",
              "      <th>I</th>\n",
              "      <td>-0.568430</td>\n",
              "      <td>0.610572</td>\n",
              "      <td>-0.442661</td>\n",
              "      <td>0.016073</td>\n",
              "      <td>-0.395260</td>\n",
              "      <td>-0.029218</td>\n",
              "      <td>0.391157</td>\n",
              "      <td>0.585260</td>\n",
              "      <td>0.004106</td>\n",
              "      <td>0.166876</td>\n",
              "      <td>...</td>\n",
              "      <td>0.341181</td>\n",
              "      <td>-0.252807</td>\n",
              "      <td>-0.309727</td>\n",
              "      <td>0.016246</td>\n",
              "      <td>-0.074286</td>\n",
              "      <td>-0.281652</td>\n",
              "      <td>-0.142109</td>\n",
              "      <td>-0.356793</td>\n",
              "      <td>0.146877</td>\n",
              "      <td>0.282610</td>\n",
              "    </tr>\n",
              "    <tr>\n",
              "      <th>내</th>\n",
              "      <td>-0.454561</td>\n",
              "      <td>-0.136615</td>\n",
              "      <td>-0.467783</td>\n",
              "      <td>-0.500490</td>\n",
              "      <td>0.206679</td>\n",
              "      <td>-0.235675</td>\n",
              "      <td>0.658305</td>\n",
              "      <td>-0.288216</td>\n",
              "      <td>-0.261776</td>\n",
              "      <td>-0.570032</td>\n",
              "      <td>...</td>\n",
              "      <td>-0.266372</td>\n",
              "      <td>0.027186</td>\n",
              "      <td>0.119860</td>\n",
              "      <td>-0.298427</td>\n",
              "      <td>0.333138</td>\n",
              "      <td>-0.066748</td>\n",
              "      <td>0.005722</td>\n",
              "      <td>-0.690182</td>\n",
              "      <td>-0.241884</td>\n",
              "      <td>-0.064313</td>\n",
              "    </tr>\n",
              "    <tr>\n",
              "      <th>날</th>\n",
              "      <td>-0.746987</td>\n",
              "      <td>-0.144306</td>\n",
              "      <td>-0.172632</td>\n",
              "      <td>-0.282175</td>\n",
              "      <td>0.231667</td>\n",
              "      <td>-0.297856</td>\n",
              "      <td>0.145883</td>\n",
              "      <td>0.369615</td>\n",
              "      <td>-0.274195</td>\n",
              "      <td>-0.662311</td>\n",
              "      <td>...</td>\n",
              "      <td>-0.274271</td>\n",
              "      <td>0.532227</td>\n",
              "      <td>-0.336424</td>\n",
              "      <td>-0.330417</td>\n",
              "      <td>-0.026896</td>\n",
              "      <td>-0.180967</td>\n",
              "      <td>0.393605</td>\n",
              "      <td>0.058947</td>\n",
              "      <td>-0.198354</td>\n",
              "      <td>-0.079493</td>\n",
              "    </tr>\n",
              "  </tbody>\n",
              "</table>\n",
              "<p>5 rows × 100 columns</p>\n",
              "</div>"
            ],
            "text/plain": [
              "           0         1         2         3         4         5         6   \\\n",
              "you -0.705365  0.391794 -0.197246  0.049586 -0.021167 -0.323827 -0.163044   \n",
              "난   -0.317604  0.064615 -0.357556 -0.482136 -0.121594 -0.302870  0.518841   \n",
              "I   -0.568430  0.610572 -0.442661  0.016073 -0.395260 -0.029218  0.391157   \n",
              "내   -0.454561 -0.136615 -0.467783 -0.500490  0.206679 -0.235675  0.658305   \n",
              "날   -0.746987 -0.144306 -0.172632 -0.282175  0.231667 -0.297856  0.145883   \n",
              "\n",
              "           7         8         9     ...           90        91        92  \\\n",
              "you  0.389152 -0.418769 -0.273438    ...     0.403136  0.466988 -0.180873   \n",
              "난    0.289600 -0.596155 -0.238924    ...     0.043901  0.286696 -0.407465   \n",
              "I    0.585260  0.004106  0.166876    ...     0.341181 -0.252807 -0.309727   \n",
              "내   -0.288216 -0.261776 -0.570032    ...    -0.266372  0.027186  0.119860   \n",
              "날    0.369615 -0.274195 -0.662311    ...    -0.274271  0.532227 -0.336424   \n",
              "\n",
              "           93        94        95        96        97        98        99  \n",
              "you  0.462283 -0.230707 -0.337114 -0.424592 -0.181719 -0.128530 -0.276971  \n",
              "난   -0.171813 -0.048432  0.198343  0.171555 -0.406401  0.134302 -0.292124  \n",
              "I    0.016246 -0.074286 -0.281652 -0.142109 -0.356793  0.146877  0.282610  \n",
              "내   -0.298427  0.333138 -0.066748  0.005722 -0.690182 -0.241884 -0.064313  \n",
              "날   -0.330417 -0.026896 -0.180967  0.393605  0.058947 -0.198354 -0.079493  \n",
              "\n",
              "[5 rows x 100 columns]"
            ]
          },
          "metadata": {
            "tags": []
          },
          "execution_count": 420
        }
      ]
    },
    {
      "metadata": {
        "id": "oXHo8lZ9cnEC",
        "colab_type": "code",
        "colab": {},
        "collapsed": true
      },
      "cell_type": "code",
      "source": [
        "import pickle\n",
        "\n",
        "from sklearn.feature_extraction.text import CountVectorizer\n",
        "from sklearn.manifold import TSNE\n",
        "\n",
        "# t-SNE 모델 모델링 \n",
        "\n",
        "USE_PREMADE_TSNE = False\n",
        "\n",
        "tsne_filepath = 'tsne.pkl'\n",
        "\n",
        "if not USE_PREMADE_TSNE:\n",
        "    \n",
        "    tsne = TSNE(random_state=0)\n",
        "    tsne_points = tsne.fit_transform(X2)\n",
        "    with open(tsne_filepath, 'wb') as f:\n",
        "        pickle.dump(tsne_points, f)\n",
        "else:\n",
        "    with open(tsne_filepath, 'rb') as f:\n",
        "        tsne_points = pickle.load(f)\n",
        "\n",
        "tsne_df = pd.DataFrame(tsne_points, index=X2.index, columns=['x_coord', 'y_coord'])\n",
        "tsne_df['word'] = tsne_df.index"
      ],
      "execution_count": 0,
      "outputs": []
    },
    {
      "metadata": {
        "id": "p5DgMThhcnEE",
        "colab_type": "code",
        "colab": {},
        "outputId": "ae39d241-2129-4292-83fc-1b2fbe888b96"
      },
      "cell_type": "code",
      "source": [
        "# t-SNE 모델 시각화\n",
        "\n",
        "from bokeh.plotting import figure, show, output_notebook\n",
        "from bokeh.models import HoverTool, ColumnDataSource, value\n",
        "output_notebook()\n",
        "\n",
        "# prepare the data in a form suitable for bokeh.\n",
        "plot_data = ColumnDataSource(tsne_df)\n",
        "\n",
        "# create the plot and configure it\n",
        "tsne_plot = figure(title='t-SNE Word Embeddings',\n",
        "                   plot_width = 800,\n",
        "                   plot_height = 800,\n",
        "                   active_scroll='wheel_zoom'\n",
        "                  )\n",
        "\n",
        "# add a hover tool to display words on roll-over\n",
        "tsne_plot.add_tools( HoverTool(tooltips = '@word') )\n",
        "\n",
        "tsne_plot.circle('x_coord', 'y_coord', source=plot_data,\n",
        "                 color='blue', line_alpha=0.2, fill_alpha=0.1,\n",
        "                 size=10, hover_line_color='orange')\n",
        "\n",
        "# adjust visual elements of the plot\n",
        "tsne_plot.title.text_font_size = value('16pt')\n",
        "tsne_plot.xaxis.visible = False\n",
        "tsne_plot.yaxis.visible = False\n",
        "tsne_plot.grid.grid_line_color = None\n",
        "tsne_plot.outline_line_color = None\n",
        "\n",
        "# show time!\n",
        "show(tsne_plot);"
      ],
      "execution_count": 0,
      "outputs": [
        {
          "output_type": "display_data",
          "data": {
            "text/html": [
              "\n",
              "    <div class=\"bk-root\">\n",
              "        <a href=\"https://bokeh.pydata.org\" target=\"_blank\" class=\"bk-logo bk-logo-small bk-logo-notebook\"></a>\n",
              "        <span id=\"5ada3aed-e58a-4bcf-ba84-5d4c3bef2a48\">Loading BokehJS ...</span>\n",
              "    </div>"
            ]
          },
          "metadata": {
            "tags": []
          }
        },
        {
          "output_type": "display_data",
          "data": {
            "application/javascript": [
              "\n",
              "(function(root) {\n",
              "  function now() {\n",
              "    return new Date();\n",
              "  }\n",
              "\n",
              "  var force = true;\n",
              "\n",
              "  if (typeof (root._bokeh_onload_callbacks) === \"undefined\" || force === true) {\n",
              "    root._bokeh_onload_callbacks = [];\n",
              "    root._bokeh_is_loading = undefined;\n",
              "  }\n",
              "\n",
              "  var JS_MIME_TYPE = 'application/javascript';\n",
              "  var HTML_MIME_TYPE = 'text/html';\n",
              "  var EXEC_MIME_TYPE = 'application/vnd.bokehjs_exec.v0+json';\n",
              "  var CLASS_NAME = 'output_bokeh rendered_html';\n",
              "\n",
              "  /**\n",
              "   * Render data to the DOM node\n",
              "   */\n",
              "  function render(props, node) {\n",
              "    var script = document.createElement(\"script\");\n",
              "    node.appendChild(script);\n",
              "  }\n",
              "\n",
              "  /**\n",
              "   * Handle when an output is cleared or removed\n",
              "   */\n",
              "  function handleClearOutput(event, handle) {\n",
              "    var cell = handle.cell;\n",
              "\n",
              "    var id = cell.output_area._bokeh_element_id;\n",
              "    var server_id = cell.output_area._bokeh_server_id;\n",
              "    // Clean up Bokeh references\n",
              "    if (id !== undefined) {\n",
              "      Bokeh.index[id].model.document.clear();\n",
              "      delete Bokeh.index[id];\n",
              "    }\n",
              "\n",
              "    if (server_id !== undefined) {\n",
              "      // Clean up Bokeh references\n",
              "      var cmd = \"from bokeh.io.state import curstate; print(curstate().uuid_to_server['\" + server_id + \"'].get_sessions()[0].document.roots[0]._id)\";\n",
              "      cell.notebook.kernel.execute(cmd, {\n",
              "        iopub: {\n",
              "          output: function(msg) {\n",
              "            var element_id = msg.content.text.trim();\n",
              "            Bokeh.index[element_id].model.document.clear();\n",
              "            delete Bokeh.index[element_id];\n",
              "          }\n",
              "        }\n",
              "      });\n",
              "      // Destroy server and session\n",
              "      var cmd = \"import bokeh.io.notebook as ion; ion.destroy_server('\" + server_id + \"')\";\n",
              "      cell.notebook.kernel.execute(cmd);\n",
              "    }\n",
              "  }\n",
              "\n",
              "  /**\n",
              "   * Handle when a new output is added\n",
              "   */\n",
              "  function handleAddOutput(event, handle) {\n",
              "    var output_area = handle.output_area;\n",
              "    var output = handle.output;\n",
              "\n",
              "    // limit handleAddOutput to display_data with EXEC_MIME_TYPE content only\n",
              "    if ((output.output_type != \"display_data\") || (!output.data.hasOwnProperty(EXEC_MIME_TYPE))) {\n",
              "      return\n",
              "    }\n",
              "\n",
              "    var toinsert = output_area.element.find(`.${CLASS_NAME.split(' ')[0]}`);\n",
              "\n",
              "    if (output.metadata[EXEC_MIME_TYPE][\"id\"] !== undefined) {\n",
              "      toinsert[0].firstChild.textContent = output.data[JS_MIME_TYPE];\n",
              "      // store reference to embed id on output_area\n",
              "      output_area._bokeh_element_id = output.metadata[EXEC_MIME_TYPE][\"id\"];\n",
              "    }\n",
              "    if (output.metadata[EXEC_MIME_TYPE][\"server_id\"] !== undefined) {\n",
              "      var bk_div = document.createElement(\"div\");\n",
              "      bk_div.innerHTML = output.data[HTML_MIME_TYPE];\n",
              "      var script_attrs = bk_div.children[0].attributes;\n",
              "      for (var i = 0; i < script_attrs.length; i++) {\n",
              "        toinsert[0].firstChild.setAttribute(script_attrs[i].name, script_attrs[i].value);\n",
              "      }\n",
              "      // store reference to server id on output_area\n",
              "      output_area._bokeh_server_id = output.metadata[EXEC_MIME_TYPE][\"server_id\"];\n",
              "    }\n",
              "  }\n",
              "\n",
              "  function register_renderer(events, OutputArea) {\n",
              "\n",
              "    function append_mime(data, metadata, element) {\n",
              "      // create a DOM node to render to\n",
              "      var toinsert = this.create_output_subarea(\n",
              "        metadata,\n",
              "        CLASS_NAME,\n",
              "        EXEC_MIME_TYPE\n",
              "      );\n",
              "      this.keyboard_manager.register_events(toinsert);\n",
              "      // Render to node\n",
              "      var props = {data: data, metadata: metadata[EXEC_MIME_TYPE]};\n",
              "      render(props, toinsert[0]);\n",
              "      element.append(toinsert);\n",
              "      return toinsert\n",
              "    }\n",
              "\n",
              "    /* Handle when an output is cleared or removed */\n",
              "    events.on('clear_output.CodeCell', handleClearOutput);\n",
              "    events.on('delete.Cell', handleClearOutput);\n",
              "\n",
              "    /* Handle when a new output is added */\n",
              "    events.on('output_added.OutputArea', handleAddOutput);\n",
              "\n",
              "    /**\n",
              "     * Register the mime type and append_mime function with output_area\n",
              "     */\n",
              "    OutputArea.prototype.register_mime_type(EXEC_MIME_TYPE, append_mime, {\n",
              "      /* Is output safe? */\n",
              "      safe: true,\n",
              "      /* Index of renderer in `output_area.display_order` */\n",
              "      index: 0\n",
              "    });\n",
              "  }\n",
              "\n",
              "  // register the mime type if in Jupyter Notebook environment and previously unregistered\n",
              "  if (root.Jupyter !== undefined) {\n",
              "    var events = require('base/js/events');\n",
              "    var OutputArea = require('notebook/js/outputarea').OutputArea;\n",
              "\n",
              "    if (OutputArea.prototype.mime_types().indexOf(EXEC_MIME_TYPE) == -1) {\n",
              "      register_renderer(events, OutputArea);\n",
              "    }\n",
              "  }\n",
              "\n",
              "  \n",
              "  if (typeof (root._bokeh_timeout) === \"undefined\" || force === true) {\n",
              "    root._bokeh_timeout = Date.now() + 5000;\n",
              "    root._bokeh_failed_load = false;\n",
              "  }\n",
              "\n",
              "  var NB_LOAD_WARNING = {'data': {'text/html':\n",
              "     \"<div style='background-color: #fdd'>\\n\"+\n",
              "     \"<p>\\n\"+\n",
              "     \"BokehJS does not appear to have successfully loaded. If loading BokehJS from CDN, this \\n\"+\n",
              "     \"may be due to a slow or bad network connection. Possible fixes:\\n\"+\n",
              "     \"</p>\\n\"+\n",
              "     \"<ul>\\n\"+\n",
              "     \"<li>re-rerun `output_notebook()` to attempt to load from CDN again, or</li>\\n\"+\n",
              "     \"<li>use INLINE resources instead, as so:</li>\\n\"+\n",
              "     \"</ul>\\n\"+\n",
              "     \"<code>\\n\"+\n",
              "     \"from bokeh.resources import INLINE\\n\"+\n",
              "     \"output_notebook(resources=INLINE)\\n\"+\n",
              "     \"</code>\\n\"+\n",
              "     \"</div>\"}};\n",
              "\n",
              "  function display_loaded() {\n",
              "    var el = document.getElementById(\"5ada3aed-e58a-4bcf-ba84-5d4c3bef2a48\");\n",
              "    if (el != null) {\n",
              "      el.textContent = \"BokehJS is loading...\";\n",
              "    }\n",
              "    if (root.Bokeh !== undefined) {\n",
              "      if (el != null) {\n",
              "        el.textContent = \"BokehJS \" + root.Bokeh.version + \" successfully loaded.\";\n",
              "      }\n",
              "    } else if (Date.now() < root._bokeh_timeout) {\n",
              "      setTimeout(display_loaded, 100)\n",
              "    }\n",
              "  }\n",
              "\n",
              "\n",
              "  function run_callbacks() {\n",
              "    try {\n",
              "      root._bokeh_onload_callbacks.forEach(function(callback) { callback() });\n",
              "    }\n",
              "    finally {\n",
              "      delete root._bokeh_onload_callbacks\n",
              "    }\n",
              "    console.info(\"Bokeh: all callbacks have finished\");\n",
              "  }\n",
              "\n",
              "  function load_libs(js_urls, callback) {\n",
              "    root._bokeh_onload_callbacks.push(callback);\n",
              "    if (root._bokeh_is_loading > 0) {\n",
              "      console.log(\"Bokeh: BokehJS is being loaded, scheduling callback at\", now());\n",
              "      return null;\n",
              "    }\n",
              "    if (js_urls == null || js_urls.length === 0) {\n",
              "      run_callbacks();\n",
              "      return null;\n",
              "    }\n",
              "    console.log(\"Bokeh: BokehJS not loaded, scheduling load and callback at\", now());\n",
              "    root._bokeh_is_loading = js_urls.length;\n",
              "    for (var i = 0; i < js_urls.length; i++) {\n",
              "      var url = js_urls[i];\n",
              "      var s = document.createElement('script');\n",
              "      s.src = url;\n",
              "      s.async = false;\n",
              "      s.onreadystatechange = s.onload = function() {\n",
              "        root._bokeh_is_loading--;\n",
              "        if (root._bokeh_is_loading === 0) {\n",
              "          console.log(\"Bokeh: all BokehJS libraries loaded\");\n",
              "          run_callbacks()\n",
              "        }\n",
              "      };\n",
              "      s.onerror = function() {\n",
              "        console.warn(\"failed to load library \" + url);\n",
              "      };\n",
              "      console.log(\"Bokeh: injecting script tag for BokehJS library: \", url);\n",
              "      document.getElementsByTagName(\"head\")[0].appendChild(s);\n",
              "    }\n",
              "  };var element = document.getElementById(\"5ada3aed-e58a-4bcf-ba84-5d4c3bef2a48\");\n",
              "  if (element == null) {\n",
              "    console.log(\"Bokeh: ERROR: autoload.js configured with elementid '5ada3aed-e58a-4bcf-ba84-5d4c3bef2a48' but no matching script tag was found. \")\n",
              "    return false;\n",
              "  }\n",
              "\n",
              "  var js_urls = [\"https://cdn.pydata.org/bokeh/release/bokeh-0.12.10.min.js\", \"https://cdn.pydata.org/bokeh/release/bokeh-widgets-0.12.10.min.js\", \"https://cdn.pydata.org/bokeh/release/bokeh-tables-0.12.10.min.js\", \"https://cdn.pydata.org/bokeh/release/bokeh-gl-0.12.10.min.js\"];\n",
              "\n",
              "  var inline_js = [\n",
              "    function(Bokeh) {\n",
              "      Bokeh.set_log_level(\"info\");\n",
              "    },\n",
              "    \n",
              "    function(Bokeh) {\n",
              "      \n",
              "    },\n",
              "    function(Bokeh) {\n",
              "      console.log(\"Bokeh: injecting CSS: https://cdn.pydata.org/bokeh/release/bokeh-0.12.10.min.css\");\n",
              "      Bokeh.embed.inject_css(\"https://cdn.pydata.org/bokeh/release/bokeh-0.12.10.min.css\");\n",
              "      console.log(\"Bokeh: injecting CSS: https://cdn.pydata.org/bokeh/release/bokeh-widgets-0.12.10.min.css\");\n",
              "      Bokeh.embed.inject_css(\"https://cdn.pydata.org/bokeh/release/bokeh-widgets-0.12.10.min.css\");\n",
              "      console.log(\"Bokeh: injecting CSS: https://cdn.pydata.org/bokeh/release/bokeh-tables-0.12.10.min.css\");\n",
              "      Bokeh.embed.inject_css(\"https://cdn.pydata.org/bokeh/release/bokeh-tables-0.12.10.min.css\");\n",
              "    }\n",
              "  ];\n",
              "\n",
              "  function run_inline_js() {\n",
              "    \n",
              "    if ((root.Bokeh !== undefined) || (force === true)) {\n",
              "      for (var i = 0; i < inline_js.length; i++) {\n",
              "        inline_js[i].call(root, root.Bokeh);\n",
              "      }if (force === true) {\n",
              "        display_loaded();\n",
              "      }} else if (Date.now() < root._bokeh_timeout) {\n",
              "      setTimeout(run_inline_js, 100);\n",
              "    } else if (!root._bokeh_failed_load) {\n",
              "      console.log(\"Bokeh: BokehJS failed to load within specified timeout.\");\n",
              "      root._bokeh_failed_load = true;\n",
              "    } else if (force !== true) {\n",
              "      var cell = $(document.getElementById(\"5ada3aed-e58a-4bcf-ba84-5d4c3bef2a48\")).parents('.cell').data().cell;\n",
              "      cell.output_area.append_execute_result(NB_LOAD_WARNING)\n",
              "    }\n",
              "\n",
              "  }\n",
              "\n",
              "  if (root._bokeh_is_loading === 0) {\n",
              "    console.log(\"Bokeh: BokehJS loaded, going straight to plotting\");\n",
              "    run_inline_js();\n",
              "  } else {\n",
              "    load_libs(js_urls, function() {\n",
              "      console.log(\"Bokeh: BokehJS plotting callback run at\", now());\n",
              "      run_inline_js();\n",
              "    });\n",
              "  }\n",
              "}(window));"
            ],
            "application/vnd.bokehjs_load.v0+json": "\n(function(root) {\n  function now() {\n    return new Date();\n  }\n\n  var force = true;\n\n  if (typeof (root._bokeh_onload_callbacks) === \"undefined\" || force === true) {\n    root._bokeh_onload_callbacks = [];\n    root._bokeh_is_loading = undefined;\n  }\n\n  \n\n  \n  if (typeof (root._bokeh_timeout) === \"undefined\" || force === true) {\n    root._bokeh_timeout = Date.now() + 5000;\n    root._bokeh_failed_load = false;\n  }\n\n  var NB_LOAD_WARNING = {'data': {'text/html':\n     \"<div style='background-color: #fdd'>\\n\"+\n     \"<p>\\n\"+\n     \"BokehJS does not appear to have successfully loaded. If loading BokehJS from CDN, this \\n\"+\n     \"may be due to a slow or bad network connection. Possible fixes:\\n\"+\n     \"</p>\\n\"+\n     \"<ul>\\n\"+\n     \"<li>re-rerun `output_notebook()` to attempt to load from CDN again, or</li>\\n\"+\n     \"<li>use INLINE resources instead, as so:</li>\\n\"+\n     \"</ul>\\n\"+\n     \"<code>\\n\"+\n     \"from bokeh.resources import INLINE\\n\"+\n     \"output_notebook(resources=INLINE)\\n\"+\n     \"</code>\\n\"+\n     \"</div>\"}};\n\n  function display_loaded() {\n    var el = document.getElementById(\"5ada3aed-e58a-4bcf-ba84-5d4c3bef2a48\");\n    if (el != null) {\n      el.textContent = \"BokehJS is loading...\";\n    }\n    if (root.Bokeh !== undefined) {\n      if (el != null) {\n        el.textContent = \"BokehJS \" + root.Bokeh.version + \" successfully loaded.\";\n      }\n    } else if (Date.now() < root._bokeh_timeout) {\n      setTimeout(display_loaded, 100)\n    }\n  }\n\n\n  function run_callbacks() {\n    try {\n      root._bokeh_onload_callbacks.forEach(function(callback) { callback() });\n    }\n    finally {\n      delete root._bokeh_onload_callbacks\n    }\n    console.info(\"Bokeh: all callbacks have finished\");\n  }\n\n  function load_libs(js_urls, callback) {\n    root._bokeh_onload_callbacks.push(callback);\n    if (root._bokeh_is_loading > 0) {\n      console.log(\"Bokeh: BokehJS is being loaded, scheduling callback at\", now());\n      return null;\n    }\n    if (js_urls == null || js_urls.length === 0) {\n      run_callbacks();\n      return null;\n    }\n    console.log(\"Bokeh: BokehJS not loaded, scheduling load and callback at\", now());\n    root._bokeh_is_loading = js_urls.length;\n    for (var i = 0; i < js_urls.length; i++) {\n      var url = js_urls[i];\n      var s = document.createElement('script');\n      s.src = url;\n      s.async = false;\n      s.onreadystatechange = s.onload = function() {\n        root._bokeh_is_loading--;\n        if (root._bokeh_is_loading === 0) {\n          console.log(\"Bokeh: all BokehJS libraries loaded\");\n          run_callbacks()\n        }\n      };\n      s.onerror = function() {\n        console.warn(\"failed to load library \" + url);\n      };\n      console.log(\"Bokeh: injecting script tag for BokehJS library: \", url);\n      document.getElementsByTagName(\"head\")[0].appendChild(s);\n    }\n  };var element = document.getElementById(\"5ada3aed-e58a-4bcf-ba84-5d4c3bef2a48\");\n  if (element == null) {\n    console.log(\"Bokeh: ERROR: autoload.js configured with elementid '5ada3aed-e58a-4bcf-ba84-5d4c3bef2a48' but no matching script tag was found. \")\n    return false;\n  }\n\n  var js_urls = [\"https://cdn.pydata.org/bokeh/release/bokeh-0.12.10.min.js\", \"https://cdn.pydata.org/bokeh/release/bokeh-widgets-0.12.10.min.js\", \"https://cdn.pydata.org/bokeh/release/bokeh-tables-0.12.10.min.js\", \"https://cdn.pydata.org/bokeh/release/bokeh-gl-0.12.10.min.js\"];\n\n  var inline_js = [\n    function(Bokeh) {\n      Bokeh.set_log_level(\"info\");\n    },\n    \n    function(Bokeh) {\n      \n    },\n    function(Bokeh) {\n      console.log(\"Bokeh: injecting CSS: https://cdn.pydata.org/bokeh/release/bokeh-0.12.10.min.css\");\n      Bokeh.embed.inject_css(\"https://cdn.pydata.org/bokeh/release/bokeh-0.12.10.min.css\");\n      console.log(\"Bokeh: injecting CSS: https://cdn.pydata.org/bokeh/release/bokeh-widgets-0.12.10.min.css\");\n      Bokeh.embed.inject_css(\"https://cdn.pydata.org/bokeh/release/bokeh-widgets-0.12.10.min.css\");\n      console.log(\"Bokeh: injecting CSS: https://cdn.pydata.org/bokeh/release/bokeh-tables-0.12.10.min.css\");\n      Bokeh.embed.inject_css(\"https://cdn.pydata.org/bokeh/release/bokeh-tables-0.12.10.min.css\");\n    }\n  ];\n\n  function run_inline_js() {\n    \n    if ((root.Bokeh !== undefined) || (force === true)) {\n      for (var i = 0; i < inline_js.length; i++) {\n        inline_js[i].call(root, root.Bokeh);\n      }if (force === true) {\n        display_loaded();\n      }} else if (Date.now() < root._bokeh_timeout) {\n      setTimeout(run_inline_js, 100);\n    } else if (!root._bokeh_failed_load) {\n      console.log(\"Bokeh: BokehJS failed to load within specified timeout.\");\n      root._bokeh_failed_load = true;\n    } else if (force !== true) {\n      var cell = $(document.getElementById(\"5ada3aed-e58a-4bcf-ba84-5d4c3bef2a48\")).parents('.cell').data().cell;\n      cell.output_area.append_execute_result(NB_LOAD_WARNING)\n    }\n\n  }\n\n  if (root._bokeh_is_loading === 0) {\n    console.log(\"Bokeh: BokehJS loaded, going straight to plotting\");\n    run_inline_js();\n  } else {\n    load_libs(js_urls, function() {\n      console.log(\"Bokeh: BokehJS plotting callback run at\", now());\n      run_inline_js();\n    });\n  }\n}(window));"
          },
          "metadata": {
            "tags": []
          }
        },
        {
          "output_type": "display_data",
          "data": {
            "text/html": [
              "\n",
              "<div class=\"bk-root\">\n",
              "    <div class=\"bk-plotdiv\" id=\"69ced1b8-56bf-454a-8721-d3c35289d5df\"></div>\n",
              "</div>"
            ]
          },
          "metadata": {
            "tags": []
          }
        },
        {
          "output_type": "display_data",
          "data": {
            "application/javascript": [
              "(function(root) {\n",
              "  function embed_document(root) {\n",
              "    var docs_json = {\"efab0385-7da9-4847-a18d-274a5cd3f0f2\":{\"roots\":{\"references\":[{\"attributes\":{},\"id\":\"2bdc34ef-406d-42ba-8502-2568fb41c6fe\",\"type\":\"LinearScale\"},{\"attributes\":{\"grid_line_color\":{\"value\":null},\"plot\":{\"id\":\"56b59436-08ee-4dd2-9dc3-5ea52c627ec8\",\"subtype\":\"Figure\",\"type\":\"Plot\"},\"ticker\":{\"id\":\"515b32b9-1fb9-4902-8740-bd5ab0e1209b\",\"type\":\"BasicTicker\"}},\"id\":\"87f1f92b-9243-4cc9-a1f3-4d8e5d466e77\",\"type\":\"Grid\"},{\"attributes\":{\"formatter\":{\"id\":\"0e363318-a513-46de-b5da-f6c4ff0ee14e\",\"type\":\"BasicTickFormatter\"},\"plot\":{\"id\":\"56b59436-08ee-4dd2-9dc3-5ea52c627ec8\",\"subtype\":\"Figure\",\"type\":\"Plot\"},\"ticker\":{\"id\":\"515b32b9-1fb9-4902-8740-bd5ab0e1209b\",\"type\":\"BasicTicker\"},\"visible\":false},\"id\":\"be7dc5d6-0847-4bbb-931c-e619cf57054d\",\"type\":\"LinearAxis\"},{\"attributes\":{},\"id\":\"515b32b9-1fb9-4902-8740-bd5ab0e1209b\",\"type\":\"BasicTicker\"},{\"attributes\":{\"formatter\":{\"id\":\"6dd8664d-d2b5-4e5e-bcee-ea2fe0ffc1c4\",\"type\":\"BasicTickFormatter\"},\"plot\":{\"id\":\"56b59436-08ee-4dd2-9dc3-5ea52c627ec8\",\"subtype\":\"Figure\",\"type\":\"Plot\"},\"ticker\":{\"id\":\"e23e68fb-dca6-494a-b3d6-ef1b93cd9607\",\"type\":\"BasicTicker\"},\"visible\":false},\"id\":\"5e41b3b0-e846-43a2-a7f0-dfed43da2f98\",\"type\":\"LinearAxis\"},{\"attributes\":{},\"id\":\"e23e68fb-dca6-494a-b3d6-ef1b93cd9607\",\"type\":\"BasicTicker\"},{\"attributes\":{\"dimension\":1,\"grid_line_color\":{\"value\":null},\"plot\":{\"id\":\"56b59436-08ee-4dd2-9dc3-5ea52c627ec8\",\"subtype\":\"Figure\",\"type\":\"Plot\"},\"ticker\":{\"id\":\"e23e68fb-dca6-494a-b3d6-ef1b93cd9607\",\"type\":\"BasicTicker\"}},\"id\":\"9ce36ce9-5d01-4fcd-85c6-2e7fdf2cfe3e\",\"type\":\"Grid\"},{\"attributes\":{\"callback\":null,\"tooltips\":\"@word\"},\"id\":\"2aa828a6-86fd-4b9d-b195-9f4b4f0c0745\",\"type\":\"HoverTool\"},{\"attributes\":{\"fill_color\":{\"value\":\"#1f77b4\"},\"line_color\":{\"value\":\"orange\"},\"size\":{\"units\":\"screen\",\"value\":10},\"x\":{\"field\":\"x_coord\"},\"y\":{\"field\":\"y_coord\"}},\"id\":\"d8fe0847-fdcf-4487-81e8-1b1e29a5d8d6\",\"type\":\"Circle\"},{\"attributes\":{\"fill_alpha\":{\"value\":0.1},\"fill_color\":{\"value\":\"blue\"},\"line_alpha\":{\"value\":0.2},\"line_color\":{\"value\":\"blue\"},\"size\":{\"units\":\"screen\",\"value\":10},\"x\":{\"field\":\"x_coord\"},\"y\":{\"field\":\"y_coord\"}},\"id\":\"2eed5c25-8227-467e-8726-02fb5e6e7f2e\",\"type\":\"Circle\"},{\"attributes\":{},\"id\":\"864b3afc-f58c-4494-82c2-af3a83afde04\",\"type\":\"WheelZoomTool\"},{\"attributes\":{},\"id\":\"033ecfe1-31ce-4d51-86ec-9e4c3e6bc43e\",\"type\":\"SaveTool\"},{\"attributes\":{},\"id\":\"6dd8664d-d2b5-4e5e-bcee-ea2fe0ffc1c4\",\"type\":\"BasicTickFormatter\"},{\"attributes\":{\"overlay\":{\"id\":\"13e60167-f1bb-40e6-a501-1fb5cd5c2b9e\",\"type\":\"BoxAnnotation\"}},\"id\":\"9392bda8-d09a-40bf-bcbb-ee8027839637\",\"type\":\"BoxZoomTool\"},{\"attributes\":{\"bottom_units\":\"screen\",\"fill_alpha\":{\"value\":0.5},\"fill_color\":{\"value\":\"lightgrey\"},\"left_units\":\"screen\",\"level\":\"overlay\",\"line_alpha\":{\"value\":1.0},\"line_color\":{\"value\":\"black\"},\"line_dash\":[4,4],\"line_width\":{\"value\":2},\"plot\":null,\"render_mode\":\"css\",\"right_units\":\"screen\",\"top_units\":\"screen\"},\"id\":\"13e60167-f1bb-40e6-a501-1fb5cd5c2b9e\",\"type\":\"BoxAnnotation\"},{\"attributes\":{\"fill_alpha\":{\"value\":0.1},\"fill_color\":{\"value\":\"#1f77b4\"},\"line_alpha\":{\"value\":0.1},\"line_color\":{\"value\":\"#1f77b4\"},\"size\":{\"units\":\"screen\",\"value\":10},\"x\":{\"field\":\"x_coord\"},\"y\":{\"field\":\"y_coord\"}},\"id\":\"f331bd71-0d0e-47d5-93e2-a0f4ec90349c\",\"type\":\"Circle\"},{\"attributes\":{},\"id\":\"e2279c4c-9788-4e4e-9d33-83f7179a7252\",\"type\":\"PanTool\"},{\"attributes\":{},\"id\":\"0e363318-a513-46de-b5da-f6c4ff0ee14e\",\"type\":\"BasicTickFormatter\"},{\"attributes\":{\"plot\":null,\"text\":\"t-SNE Word Embeddings\",\"text_font_size\":{\"value\":\"16pt\"}},\"id\":\"559cc1c9-a472-4b85-a7ce-be0f34b9e624\",\"type\":\"Title\"},{\"attributes\":{},\"id\":\"bd15fdd2-c60c-4ada-9475-b0b42cf552c5\",\"type\":\"ResetTool\"},{\"attributes\":{\"callback\":null},\"id\":\"d2746527-2131-4b21-bc9f-0d6d422a9c07\",\"type\":\"DataRange1d\"},{\"attributes\":{},\"id\":\"febe541a-cd68-4fea-b7d0-9e7e4419e8b0\",\"type\":\"HelpTool\"},{\"attributes\":{\"active_drag\":\"auto\",\"active_inspect\":\"auto\",\"active_scroll\":{\"id\":\"864b3afc-f58c-4494-82c2-af3a83afde04\",\"type\":\"WheelZoomTool\"},\"active_tap\":\"auto\",\"tools\":[{\"id\":\"e2279c4c-9788-4e4e-9d33-83f7179a7252\",\"type\":\"PanTool\"},{\"id\":\"864b3afc-f58c-4494-82c2-af3a83afde04\",\"type\":\"WheelZoomTool\"},{\"id\":\"9392bda8-d09a-40bf-bcbb-ee8027839637\",\"type\":\"BoxZoomTool\"},{\"id\":\"033ecfe1-31ce-4d51-86ec-9e4c3e6bc43e\",\"type\":\"SaveTool\"},{\"id\":\"bd15fdd2-c60c-4ada-9475-b0b42cf552c5\",\"type\":\"ResetTool\"},{\"id\":\"febe541a-cd68-4fea-b7d0-9e7e4419e8b0\",\"type\":\"HelpTool\"},{\"id\":\"2aa828a6-86fd-4b9d-b195-9f4b4f0c0745\",\"type\":\"HoverTool\"}]},\"id\":\"190e9050-f674-4c21-87f7-0f21a2d0edfb\",\"type\":\"Toolbar\"},{\"attributes\":{\"callback\":null,\"column_names\":[\"x_coord\",\"y_coord\",\"word\",\"index\"],\"data\":{\"index\":[\"you\",\"\\ub09c\",\"I\",\"\\ub0b4\",\"\\ub0a0\",\"\\ub110\",\"love\",\"me\",\"\\ub0b4\\uac00\",\"\\ub098\",\"\\ub10c\",\"baby\",\"\\uadf8\",\"\\ub108\\uc758\",\"Oh\",\"\\ub098\\ub97c\",\"I_m\",\"\\ub108\\ub97c\",\"it\",\"to\",\"\\ub098\\uc758\",\"\\ub108\",\"\\ub2e4\",\"\\ub610\",\"my\",\"\\ub354\",\"oh\",\"\\ub0b4\\uac8c\",\"and\",\"Baby\",\"\\ub098\\ub294\",\"\\uc5c6\\uc5b4\",\"\\ub2c8\\uac00\",\"\\uc774\\uc820\",\"\\uc65c\",\"\\ub2e4\\uc2dc\",\"girl\",\"the\",\"You\",\"\\uadf8\\ub300\",\"\\uc774\",\"\\uc774\\uc81c\",\"\\ub124\",\"\\uc6b0\\ub9ac\",\"\\uac78\",\"\\uc5c6\\ub294\",\"\\uc788\\uc5b4\",\"\\ub108\\ubb34\",\"\\uc774\\ub807\\uac8c\",\"don_t\",\"\\ud574\",\"\\ub124\\uac00\",\"\\uc9c0\\uae08\",\"oh_oh\",\"go\",\"yeah\",\"\\ubaa8\\ub450\",\"know\",\"\\ub2c8\",\"\\uc815\\ub9d0\",\"s\",\"up\",\"\\ub108\\ub294\",\"a\",\"Yeah\",\"\\ubd10\",\"\\uc0ac\\ub791\",\"\\uac70\\uc57c\",\"on\",\"now\",\"for\",\"It_s\",\"\\uadf8\\ub798\",\"be\",\"\\ub108\\uc640\",\"that\",\"\\uc0ac\\ub791\\uc744\",\"\\ub9d0\",\"\\uc5b8\\uc81c\\ub098\",\"Don_t\",\"\\uc774\\ub7f0\",\"like\",\"\\uc788\\ub294\",\"\\uadf8\\ub807\\uac8c\",\"\\ub108\\uc5d0\\uac8c\",\"\\ub3fc\",\"Hey\",\"\\uc6b0\\ub9b0\",\"Let_s\",\"\\uc0ac\\ub791\\ud574\",\"no\",\"do\",\"\\uc790\\uafb8\",\"\\ud56d\\uc0c1\",\"\\ubab0\\ub77c\",\"get\",\"\\ud558\\uc9c0\\ub9cc\",\"I_wanna\",\"\\uadf8\\ub7f0\",\"all\",\"I_ll\",\"My\",\"can_t\",\"\\uadf8\\ub0e5\",\"is\",\"\\ub0b4_\\ub9d8\",\"just\",\"\\uc601\\uc6d0\\ud788\",\"\\uac74\",\"what\",\"\\uc880\",\"U\",\"\\uac19\\uc740\",\"Love\",\"\\uc774\\uc81c\\ub294\",\"say\",\"You_re\",\"got\",\"\\uc544\\uc9c1\",\"\\ud55c\",\"\\ud568\\uaed8\",\"Girl\",\"\\uc54a\\uc544\",\"can\",\"\\ub9c8\\uc74c\",\"So\",\"your\",\"\\uc81c\\ubc1c\",\"\\ub9e4\\uc77c\",\"Oh_Oh\",\"And\",\"feel\",\"\\ub098\\ub3c4\",\"you_re\",\"Just\",\"with\",\"\\uc88b\\uc544\",\"I_want\",\"time\",\"in\",\"of\",\"\\ub0b4_\\ub9d8\\uc744\",\"\\uc774\\ubbf8\",\"\\uc624\",\"\\uac19\\uc544\",\"\\uac8c\",\"\\ub124\\uac8c\",\"stop\",\"want\",\"\\uc548\",\"so\",\"boy\",\"\\uc2f6\\uc5b4\",\"\\uc0ac\\ub791\\uc774\",\"\\uc5c6\\uc774\",\"\\uc18d\\uc5d0\",\"\\ub54c\",\"\\ubaa8\\ub4e0\",\"\\uc0ac\\ub791\\uc740\",\"\\ub108\\ub9cc\",\"tonight\",\"\\uc0ac\\ub78c\",\"\\ub298\",\"\\uc544\\uc9c1\\ub3c4\",\"\\ub2e4\\ub978\",\"\\uc5b4\\ub5bb\\uac8c\",\"down\",\"\\uc624\\ub298\",\"i\",\"\\uaf2d\",\"\\ubaa8\\uc2b5\",\"I_need\",\"Come_on\",\"\\ubabb\",\"We\",\"\\uc624\\ub298\\ub3c4\",\"\\ub0b4\\uac90\",\"\\ub9d8\",\"\\ub354_\\uc774\\uc0c1\",\"one\",\"\\ub9c8\",\"\\uacc4\\uc18d\",\"\\uac83_\\uac19\\uc544\",\"\\ub098\\uc5d0\\uac8c\",\"we\",\"come_on\",\"\\ud574\\ub3c4\",\"\\uadf8\\ub300\\uac00\",\"\\uc798\",\"\\uadf8\\ub308\",\"No\",\"out\",\"\\ubaa8\\ub4e0_\\uac78\",\"this\",\"\\uc800\",\"back\",\"\\ub9ce\\uc774\",\"see\",\"in_the\",\"\\uc54c\\uc544\",\"\\uadf8\\uc800\",\"\\ubc14\\ub85c\",\"wanna\",\"\\ud558\\ub098\",\"right\",\"hey\",\"la_la\",\"\\uac83\",\"Go\",\"\\uc774\\ub300\\ub85c\",\"\\ub9c8\\uce58\",\"\\ubaa8\\ub450_\\ub2e4\",\"day\",\"\\ud558\\ub294\",\"\\uc788\\uac8c\",\"\\ub108\\ub3c4\",\"\\ubcf4\\uace0\",\"\\uc808\\ub300\",\"\\ubabb\\ud574\",\"let\",\"u\",\"tell_me\",\"\\uc21c\\uac04\",\"\\ub0b4_\\uacc1\\uc5d0\",\"\\uc2dc\\uac04\",\"\\uc5ec\\uae30\",\"What\",\"uh\",\"\\ub108\\uc640_\\ub098\",\"\\uc788\\ub2e4\\uba74\",\"\\uc918\",\"\\ub9d0\\uace0\",\"But\",\"\\uad1c\\ucc2e\\uc544\",\"yo\",\"\\uc2eb\\uc5b4\",\"\\uac19\\uc774\",\"\\ud63c\\uc790\",\"\\uc2dc\\uac04\\uc774\",\"\\ud560_\\uc218\",\"\\ub108\\ubb34\\ub098\",\"\\uc791\\uc740\",\"\\uc790\\uafb8\\ub9cc\",\"your_love\",\"good\",\"\\uc880_\\ub354\",\"\\ubaa8\\ub4e0_\\uac8c\",\"\\ub208\\ubb3c\",\"\\uac00\",\"\\uc544\\ub984\\ub2e4\\uc6b4\",\"\\uc704\\ud574\",\"my_heart\",\"\\uadf8\\ub300\\ub97c\",\"\\uc548\\ub3fc\",\"\\ucc38\",\"but\",\"\\uc624\\uc9c1\",\"only\",\"are\",\"ni\",\"come\",\"Now\",\"night\",\"crazy\",\"\\ub9c8\\uc74c\\uc774\",\"\\ub9d0\\uc744\",\"make\",\"\\uc544\\ub0d0\",\"Let_me\",\"\\uc6d0\\ud574\",\"de\",\"way\",\"\\ubcfc_\\uc218\",\"\\uc6b0\\ub9ac\\uac00\",\"\\ub9d8\\uc744\",\"\\ub098\\ub9cc\",\"\\uac00\\uc2b4\\uc774\",\"Uh\",\"\\uc788\\uc796\\uc544\",\"\\ub9c8\\uc9c0\\ub9c9\",\"take\",\"\\ub2e4\\uac00\\uc640\",\"\\ud560\",\"let_s\",\"show\",\"\\ubc24\",\"t\",\"\\ub4ef\",\"\\ub9ce\\uc740\",\"\\ubcf4\\uba74\",\"Do\",\"\\ud558\\uace0\",\"\\ub9d0\\ud574\",\"\\uc138\\uc0c1\",\"\\ub108\\uc640_\\ud568\\uaed8\",\"in_my\",\"babe\",\"woo\",\"\\uc790\",\"All\",\"\\ub208\\ubb3c\\uc774\",\"do_it\",\"\\ub0b4_\\ub9d8\\uc774\",\"\\ubcf4\\uc5ec\",\"\\uc5b4\\ub5a4\",\"\\uacc1\\uc5d0\",\"You_know\",\"\\uadf8\\ub300\\uc758\",\"like_a\",\"\\ud55c_\\ubc88\",\"\\uc624\\ub298\\uc740\",\"A\",\"\\uadf8\\uac8c\",\"\\uc810\\uc810\",\"\\ud558\\uc9c0\\ub9c8\",\"not\",\"about\",\"\\uadf8\\ub798\\ub3c4\",\"Woo\",\"\\ud639\\uc2dc\",\"\\uc544\\ub2cc\",\"yeah_yeah\",\"Can\",\"ya\",\"\\ub098\\uc640\",\"\\uc640\",\"\\uc544\",\"never\",\"Say\",\"\\uadf8\\ub9ac\\uace0\",\"\\ub2ec\\ucf64\\ud55c\",\"\\ub9c8\\uc74c\\uc744\",\"\\uc5b4\\ub5a1\\ud574\",\"\\ub204\\uac00\",\"let_me\",\"\\uadf8\\ub300\\ub85c\",\"Cause\",\"You_are\",\"Tell_me\",\"\\uc218_\\uc5c6\\uc5b4\",\"\\uc11c\\ub85c\",\"\\ub2e4\\uc2e0\",\"cry\",\"\\ub208\\uc744\",\"\\uc6b0\\ub9ac\\uc758\",\"\\uc5b4\\ub290\\uc0c8\",\"man\",\"\\uadf8\\ub304\",\"why\",\"\\ub208\",\"\\uc88b\\uc740\",\"na_na\",\"\\uc608\\uc05c\",\"\\ubd10\\ub3c4\",\"\\ub098\\ub9cc\\uc758\",\"no_no\",\"\\ub0b4_\\ub9c8\\uc74c\\uc744\",\"\\uc544\\ud508\",\"\\uadf8\\ub9cc\",\"\\uac00\\uc2b4\\uc5d0\",\"\\ub9d8\\uc774\",\"forever\",\"\\uc774\\uac74\",\"need\",\"uh_uh\",\"Get\",\"\\uc27d\\uac8c\",\"\\ub108\\ub97c_\\uc0ac\\ub791\\ud574\",\"\\uc2ac\\ud508\",\"\\uc54c_\\uc218\",\"\\uc0ac\\ub791\\ud558\\ub294\",\"\\uc5bc\\ub9c8\\ub098\",\"\\uc138\\uc0c1\\uc5d0\",\"\\ubbf8\\uc548\\ud574\",\"again\",\"\\uc544\\ub2c8\",\"\\uc9c4\\uc9dc\",\"\\ub530\\ub77c\",\"Everybody\",\"\\ubb50\",\"La_La\",\"heart\",\"Let\",\"Come\",\"\\uadf8\\ub54c\",\"\\ub354\\ub294\",\"woo_woo\",\"\\uc870\\uae08\\uc529\",\"\\uc55e\\uc5d0\",\"\\uae30\\ub2e4\\ub824\",\"wo\",\"\\ud55c\\ubc88\",\"\\uc218\",\"with_me\",\"alright\",\"ma\",\"\\uc544\\ub2c8\\uc57c\",\"\\uc544\\ubb34\\uac83\\ub3c4\",\"\\ub110_\\uc704\\ud574\",\"No_No\",\"\\ub208\\ube5b\",\"The\",\"Yeah_Yeah\",\"\\uc218_\\uc5c6\\ub294\",\"Boy\",\"\\uc0dd\\uac01\\ud574\",\"\\ub9cc\\ud07c\",\"\\uc870\\uae08\",\"\\uc9c0\\uae08_\\uc774\",\"It\",\"eh_eh\",\"\\uc7a0\\uc2dc\",\"\\uba40\\ub9ac\",\"\\ubb58\",\"Ah\",\"it_up\",\"Yes\",\"\\ucc98\\uc74c\",\"\\uc804\\ubd80\",\"\\ubcf4\\ub294\",\"\\uc6b0\\ub9b4\",\"party\",\"\\uc5c6\\uc796\\uc544\",\"\\uc138\\uc0c1\\uc744\",\"life\",\"the_one\",\"I_ve\",\"\\uc788\\uc744\\uae4c\",\"\\uc544\\uc8fc\",\"won_t\",\"\\uc548\\uc5d0\",\"\\uac00\\ub054\",\"\\uadf8\\ub300\\ub294\",\"\\ud588\\uc5b4\",\"\\uc138\\uc0c1\\uc774\",\"the_way\",\"\\uc804\\uc5d0\",\"\\uc5ec\\uc804\\ud788\",\"\\uc5b8\\uc820\\uac00\",\"\\uac70\",\"\\uac00\\ub294\",\"\\ub531\",\"\\uadf8\\ub798\\uc11c\",\"\\uc0ac\\ub791\\uc5d0\",\"\\uc0dd\\uac01\",\"\\ubaa8\\ub4e0\\uac78\",\"body\",\"\\ub108_\\ub54c\\ubb38\\uc5d0\",\"ah_ah\",\"Can_t\",\"my_life\",\"\\uc904\",\"just_wanna\",\"\\ubc84\\ub9b0\",\"give_it\",\"\\ub410\\uc5b4\",\"mine\",\"\\uac74\\uc9c0\",\"\\ub208\\uc774\",\"\\ud588\\ub358\",\"\\uc18c\\uc911\\ud55c\",\"\\ubbff\\uc5b4\",\"\\uae30\\uc5b5\\ud574\",\"\\ub0b4_\\uc548\\uc5d0\",\"ah\",\"Stop\",\"\\ub0b4_\\ub9d8\\uc740\",\"\\ubcf4\\uba70\",\"\\ub550\",\"\\uac00\\uc2b4\",\"\\uc774\\uac8c\",\"\\ub9d8\\uc5d0\",\"\\uc870\\uae08_\\ub354\",\"\\ucc99\",\"One\",\"\\uacb0\\uad6d\",\"\\ub05d\\uae4c\\uc9c0\",\"\\uac70\\uc9d3\\ub9d0\",\"the_night\",\"lady\",\"gonna\",\"\\ub610_\\ub2e4\\ub978\",\"\\uc544\\ubb34\\ub9ac\",\"\\uc0c8\\ub85c\\uc6b4\",\"\\uadf8\\ub300\\uc640\",\"make_me\",\"Me\",\"\\ubaa8\\ub450\\uac00\",\"\\uadf8\\ub140\",\"\\ubc14\\ub798\",\"\\ubcf4\\uace0_\\uc2f6\\uc5b4\",\"\\ucc44\",\"When\",\"ye\",\"\\ud558\\uc9c0\",\"\\ub9d0\\uc774\",\"\\uadfc\\ub370\",\"\\uc77c\",\"\\ub54c\\ubb38\\uc5d0\",\"\\uae30\\uc5b5\",\"here\",\"sorry\",\"\\ubc8c\\uc368\",\"believe\",\"\\uc0ac\\uc2e4\",\"\\ud589\\ubcf5\\ud55c\",\"\\ub450\",\"\\uc2dc\\uac04\\uc740\",\"\\ub290\\ub08c\",\"\\uba4b\\uc9c4\",\"That_s\",\"make_it\",\"Tonight\",\"\\uae38\\uc744\",\"\\uafc8\\uc744\",\"\\uba3c\\uc800\",\"\\ucc28\\ub77c\\ub9ac\",\"\\uc2ec\\uc7a5\\uc774\",\"I_am\",\"kiss\",\"\\uc218_\\uc788\\uac8c\",\"touch\",\"rock\",\"Na_Na\",\"Like\",\"\\ub54c\\uae4c\\uc9c0\",\"Ooh\",\"dance\",\"\\uac70\\ub2c8\",\"\\uc54c\\uc796\\uc544\",\"\\ub0a8\\uc790\",\"\\uc598\\uae30\",\"always\",\"\\ub208\\uc5d0\",\"\\uc544\\ubb34\\ub3c4\",\"\\uc5b8\\uc81c\\uae4c\\uc9c0\\ub098\",\"\\uc5ec\\uc790\",\"\\ucc3e\\uc544\",\"\\uc18d\",\"\\ub290\\ub084_\\uc218\",\"\\uc190\",\"\\ud558\\ub8e8_\\uc885\\uc77c\",\"by\",\"\\uc774_\\uc21c\\uac04\",\"\\ubaa8\\ub974\\uaca0\\uc5b4\",\"\\ub108\\ub9cc\\uc744\",\"\\uc5b4\\uc11c\",\"\\uc6b0\\ub9ac\\ub294\",\"\\ub2ec\\ub77c\",\"I_was\",\"na\",\"\\uac83\\ucc98\\ub7fc\",\"give\",\"\\uac78\\uae4c\",\"\\uc9c0\\ub09c\",\"Ah_Ah\",\"\\ub9d0\\ud574\\uc918\",\"\\uafc8\",\"be_your\",\"\\ud589\\ubcf5\\ud574\",\"\\ub108\\ub97c_\\uc704\\ud574\",\"\\uc54a\\uac8c\",\"\\uac83\\ub3c4\",\"all_night\",\"in_love\",\"\\ub0b4_\\ub9d8\\uc5d0\",\"will\",\"\\uac00\\ub4dd\",\"\\uc904\\uac8c\",\"\\uc190\\uc744\",\"eh\",\"\\ub728\\uac70\\uc6b4\",\"\\uc18d\\uc5d0\\uc11c\",\"\\uc5c6\\ub294\\ub370\",\"\\ube68\\ub9ac\",\"\\ubab0\\ub798\",\"She_s\",\"\\ub450\\ub824\\uc6cc\",\"\\ud558\\uc580\",\"everything\",\"Yo\",\"\\uc2dc\\uac04\\uc744\",\"\\uc78a\\uc744_\\uc218\",\"\\uc624\\ub298_\\ubc24\",\"\\ub5a0\\ub098\",\"\\uc54a\\ub294\",\"\\ubfd0\",\"over\",\"\\ubc14\\ubcf4\\ucc98\\ub7fc\",\"\\uc774_\\ubc24\",\"\\ub9d0\\uc57c\",\"\\uc218\\ub9ce\\uc740\",\"\\uc660\\uc9c0\",\"i_m\",\"You_got\",\"\\uadf8\\uac74\",\"\\uc628\",\"more\",\"no_more\",\"Take\",\"\\uac00\\uae4c\\uc774\",\"mo\",\"away\",\"\\uc138\\uc0c1\\uc740\",\"when\",\"wanna_be\",\"\\ud070\",\"cause\",\"\\uae38\",\"ready\",\"I_think\",\"\\ubaa8\\uc2b5\\uc774\",\"\\uc5b4\\ucc28\\ud53c\",\"\\ub54c\\ub860\",\"\\uc904\\ub798\",\"Uh_Uh\",\"\\ub110_\\uc704\\ud55c\",\"her\",\"\\ube5b\\uc774\",\"\\uc0ac\\uc774\",\"\\uc560\\uc368\",\"\\ud558\\uba74\",\"\\ubaa8\\ub4e0\\uac8c\",\"\\uc78a\\uace0\",\"\\ub290\\uaef4\\ubd10\",\"\\ub108\\ub780\",\"\\uc0ac\\ub791\\ud55c\\ub2e4\\uace0\",\"know_what\",\"\\ubc14\\ub77c\\ubd10\",\"\\ub108_\\ub55c\\uc5d0\",\"We_re\",\"\\ub098_\\ud63c\\uc790\",\"\\uc544\\uc9c1\\uc740\",\"\\uc218_\\uc788\\uc5b4\",\"\\ub178\\ub798\",\"To\",\"\\ub9cc\\ub098\",\"\\ubaa8\\uc2b5\\uc744\",\"\\uc5b4\",\"\\ub0a8\\uc544\",\"\\ub0b4\\uac8c\\ub85c\",\"\\uc788\\ub358\",\"there\",\"Up\",\"\\ub9c9\",\"time_to\",\"This_is\",\"\\uc704\\ub85c\",\"\\uc65c_\\uc790\\uafb8\",\"\\ubbf8\\uccd0\",\"mind\",\"Your\",\"get_up\",\"high\",\"\\ud754\\ub4e4\\uc5b4\",\"\\ucc28\\uac00\\uc6b4\",\"\\ub9d0\\uc740\",\"give_me\",\"please\",\"if_you\",\"still\",\"\\uc544\\ub9c8\",\"fly\",\"\\uc5b4\\uca4c\\uba74\",\"ain_t\",\"\\uc5c6\\uac8c\",\"\\ub9d0\\uc774\\uc57c\",\"\\uc0ac\\ub791\\uc758\",\"\\ub5a0\\ub09c\",\"\\ub9cc\\ub4e4\\uc5b4\",\"\\uc788\\ub294\\ub370\",\"\\uc9c0\\uce5c\",\"\\ub420\",\"\\uadf8\\ub300\\uc5ec\",\"\\ub108_\\ud558\\ub098\\ub9cc\",\"Party\",\"OK\",\"\\uc774_\\uc138\\uc0c1\",\"\\uc774_\\ubc24\\uc774\",\"right_now\",\"\\uc544\\ud30c\",\"\\uadf8\\ub550\",\"\\uc788\\uc8e0\",\"Do_it\",\"\\ud544\\uc694_\\uc5c6\\uc5b4\",\"\\ub0b4_\\ud488\\uc5d0\",\"\\ub208\\ubd80\\uc2e0\",\"how\",\"\\uacc1\\uc5d0\\uc11c\",\"\\ub354\\uc6b1\",\"break\",\"\\uc0ac\\ub791\\ud588\\ub358\",\"\\ubbff\\uace0\",\"\\uacf3\\uc5d0\",\"take_it\",\"\\uc2f6\\uc740\",\"\\ub418\\uc5b4\",\"\\uc544\\ubb34\",\"Hello_Hello\",\"\\ub3c4\\ub300\\uccb4\",\"\\ub450\\uace0\",\"\\ub098\\ub3c4_\\ubaa8\\ub974\\uac8c\",\"\\ub9c8\\uc74c\\uc5d0\",\"da\",\"\\ub2e4\\uc2dc\\ub294\",\"Why\",\"What_s\",\"\\uc5c6\\ub2e4\\uace0\",\"\\ub110_\\ud5a5\\ud55c\",\"\\uc5c6\\uc5c8\\uc5b4\",\"\\uc18c\\ub9ac\",\"\\uadf8\\ub140\\uac00\",\"\\ud574\\uc918\",\"\\ud798\\ub4e4\\uc5b4\",\"\\uc6b0\",\"keep\",\"Back\",\"\\ub0b4_\\uc606\\uc5d0\",\"hold\",\"hands_up\",\"Baby_Baby\",\"\\uc5c6\\ub358\",\"\\uc54a\\uace0\",\"\\uc5b8\\uc81c\\uae4c\\uc9c0\",\"\\ub110_\\ubcf4\\uba74\",\"\\ubcf4\\uc5ec\\uc918\",\"For\",\"\\uae4a\\uc774\",\"everybody\",\"ooh\",\"\\ud798\\ub4e0\",\"\\ub208\\ubb3c\\uc744\",\"\\ucc9c\\ucc9c\\ud788\",\"We_can\",\"\\uc5bc\\uad74\",\"the_world\",\"\\uae30\\ubd84\",\"\\uc5c6\\uc9c0\",\"\\uce5c\\uad6c\",\"\\uc774\\ubcc4\\uc744\",\"gotta\",\"\\ud5a5\\ud574\",\"\\ubd88\\ub7ec\",\"\\uc7a1\\uace0\",\"\\ub611\\uac19\\uc740\",\"Babe\",\"\\ubb54\\uac00\",\"ever\",\"\\uc0b4\\uc9dd\",\"\\uae4a\\uc740\",\"\\uc0ac\\ub791\\ub3c4\",\"Show_me\",\"\\ud558\\ub8e8\",\"\\ud558\\ub8e8\\uac00\",\"\\uc624\\ub298\\ubc24\",\"\\uac83\\ub9cc_\\uac19\\uc544\",\"\\uc218\\uac00_\\uc5c6\\uc5b4\",\"\\ub9e4\\uc77c_\\ubc24\",\"\\uadf8_\\ub204\\uad6c\\ub3c4\",\"\\uc788\\ub2c8\",\"\\uc6cc\",\"\\uc0ac\\ub791\\ud574\\uc694\",\"dream\",\"\\uadf8\\ub9ac\\uc6cc\",\"bye\",\"\\uc5c6\\uc9c0\\ub9cc\",\"\\ud798\\uc774\",\"\\uad1c\\ud788\",\"do_do\",\"\\uc704\\ud574\\uc11c\",\"\\uc900\",\"\\uac00\\ub054\\uc740\",\"\\ub108\\ubb34\\ub098\\ub3c4\",\"Are_you\",\"\\ub458\\uc774\",\"Hello\",\"\\ubd10\\uc694\",\"\\uc0ac\\ub791\\ud55c\",\"\\ub9d0\\uc544\\uc694\",\"O\",\"tell\",\"\\ub108\\ub9cc_\\ubcf4\\uba74\",\"\\ud574\\uc694\",\"\\uc5b4\\ub54c\",\"gonna_be\",\"\\ub9d0\\ud574\\ubd10\",\"bye_bye\",\"be_with\",\"\\ub204\\uad6c\\ub3c4\",\"\\ub3cc\\uc544\\uc640\",\"\\ub5a8\\ub9ac\\ub294\",\"the_only\",\"ooh_ooh\",\"\\ub450_\\ub208\\uc744\",\"\\ub0a8\\uc740\",\"\\uadf8\\ub300\\uc5d0\\uac8c\",\"light\",\"\\ub290\\uaef4\",\"\\uc54c\\uace0\",\"\\uc800\\uae30\",\"\\uacf3\",\"\\uadf8_\\uc21c\\uac04\",\"\\ubfd0\\uc774\\uc57c\",\"\\ub300\\uccb4\",\"\\uadf8\\ub140\\ub97c\",\"\\ub9c8\\uc694\",\"Love_Love\",\"\\uc0b4\\uc544\",\"\\uc544\\ub2c8\\uba74\",\"o\",\"\\uc0b4\\uba70\\uc2dc\",\"\\ube60\\uc838\",\"You_make\",\"\\ub098\\uc5d0\\uac90\",\"move\",\"\\ube5b\\ub098\\ub294\",\"\\uc808\\ub300\\ub85c\",\"live\",\"\\ub0b4\\uac8c_\\ub2e4\\uac00\\uc640\",\"hear\",\"world\",\"ha\",\"true\",\"\\ub418\\ub294\",\"Give_me\",\"\\uc601\\uc6d0\\ud1a0\\ub85d\",\"\\ubc84\\ub824\",\"\\uc774\\uc720\",\"\\ub4e4\\uc5b4\",\"\\uc54a\\uc740\",\"\\ucd94\\uc5b5\",\"shake_it\",\"\\ub450_\\ubc88\",\"If\",\"\\uc5b4\\ub290\",\"\\ubaa8\\ub4e0_\\uac83\\uc744\",\"\\uc788\\uc5b4\\uc694\",\"\\uc704\\ud55c\",\"\\uc774\\ub984\",\"\\uc0ac\\ub791\\uc774\\ub780\",\"\\ubc24\\uc0c8\",\"\\ubed4\\ud55c\",\"I_miss\",\"\\uadf8\\ub7fc\",\"\\uace0\\ub9c8\\uc6cc\",\"\\ub4ef\\uc774\",\"Feel\",\"\\ubbf8\\uc18c\",\"If_you\",\"\\uc774\\uc81c\\uc57c\",\"my_name\",\"Go_Go\",\"\\ubaa8\\ub974\\ub294\",\"hot\",\"\\ubb50\\uac00\",\"Crazy\",\"like_this\",\"\\ubc84\\ub9ac\\uace0\",\"\\uc788\\uc9c0\",\"star\",\"On\",\"\\uac83\\uc744\",\"Give_it\",\"\\uadf8\\ub148\",\"be_there\",\"\\uc608\",\"\\uc5ec\\uae30\\uc11c\",\"\\ubaa9\\uc18c\\ub9ac\",\"\\uc774\\uc81c_\\uadf8\\ub9cc\",\"run\",\"\\ub098\\uc640_\\ud568\\uaed8\",\"\\uc11c\\ub85c\\ub97c\",\"\\uc6b0\\ub9ac_\\ub458\\uc774\",\"\\ub9d0\\uc544\\uc918\",\"she_s\",\"at\",\"\\ub204\\uad6c\\ubcf4\\ub2e4\",\"from\",\"have\",\"\\uc694\\uc998\",\"Love_is\",\"\\ub530\\ub73b\\ud55c\",\"\\uc0ac\\ub78c\\uc774\",\"\\uadf8_\\uc5b4\\ub5a4\",\"\\uc228\\uc774\",\"\\ud558\\ub098_\\ub458\",\"\\ubabb\\ud55c\",\"\\ub2e4\\ub4e4\",\"\\uc6d0\\ud558\\ub294\",\"Forever\",\"Dance\",\"\\uc6b8\\uace0\",\"\\uc5c6\\uc5b4\\uc694\",\"\\uc0ac\\ub791\\ud55c\\ub2e4\",\"\\ud544\\uc694\\ud574\",\"\\uadf8\\ub140\\uc758\",\"\\uafc8\\uc774\",\"Everyday\",\"\\ub354_\\uc774\\uc0c1\\uc740\",\"\\uc548_\\ub3fc\",\"\\uc190\\uc5d0\",\"\\uc785\\uc220\",\"\\uc190\\uc744_\\uc7a1\\uace0\",\"feel_so\",\"\\uc788\\uc5b4\\ub3c4\",\"\\uac83\\uc774\",\"together\",\"\\ubaa8\\ub450\\ub2e4\",\"\\uc870\\uae08\\uc740\",\"\\ub728\\uac81\\uac8c\",\"Never\",\"\\uc0ac\\ub294\",\"\\uc544\\ub294\",\"where\",\"your_hands\",\"\\ub418\\uace0\",\"\\uac00\\uace0\",\"\\uc544\\ub984\\ub2e4\\uc6cc\",\"\\ubb34\\uc2a8\",\"\\uc5b4\\ub514\",\"\\ubcc4\",\"Please\",\"\\uc65c_\\uc774\\ub798\",\"\\uac78\\uc5b4\",\"\\uc0ac\\ub77c\\uc838\",\"\\uae34\",\"\\uc7a0\\ub4e0\",\"Lady\",\"\\ub05d\\uc774\",\"\\uc608\\ubed0\",\"Make\",\"\\ubcfc\",\"\\uc6c3\\uc73c\\uba70\",\"yes\",\"Good\",\"\\uc810\\uc810_\\ub354\",\"\\uad81\\uae08\\ud574\",\"We_are\",\"\\uc57c\",\"\\ub4a4\\ub85c\",\"\\uac00\\uc9c4\",\"\\uc0c1\\ucc98\",\"\\ub108\\uc640\\uc758\",\"care\",\"\\ucd94\\uc5b5\\uc774\",\"\\uc6c3\\uace0\",\"\\uc904_\\uc218\",\"\\ub208\\ubb3c\\ub85c\",\"\\ub2e8_\\ud55c\",\"\\uadf8\\ub140\\ub294\",\"\\uc815\\ub9d0\\ub85c\",\"\\uc788\\uc5b4\\uc918\",\"\\ub108\\ub77c\\ub294\",\"\\uc5b8\\uc81c\\ub77c\\ub3c4\",\"us\",\"\\ub2e4\\uc2dc_\\ud55c\\ubc88\",\"\\ubcf4\\uc774\\ub294\",\"\\uc9c0\\uae08\\ub3c4\",\"\\uc5c6\\uc5b4\\ub3c4\",\"\\uba48\\ucd9c_\\uc218\",\"\\ub9d0\\ub3c4\",\"\\ub2c8_\\ubaa8\\uc2b5\",\"\\uc9c0\\uae08\\uc740\",\"\\uc800_\\uba40\\ub9ac\",\"go_go\",\"\\uc548\\uc5d0\\uc11c\",\"got_a\",\"like_that\",\"my_mind\",\"\\ud63c\\uc790\\uc11c\",\"\\uc194\\uc9c1\\ud788\",\"\\uac16\\uace0\",\"alone\",\"\\uc0ac\\ub791\\ud574_\\uc0ac\\ub791\\ud574\",\"rock_and\",\"\\ubab0\\ub77c_\\ubab0\\ub77c\",\"the_music\",\"all_right\",\"\\uc57d\\uc18d\\ud574\",\"know_that\",\"Get_up\",\"\\uac00\\uc2b4\\uc744\",\"\\ud558\\ub8e8\\ud558\\ub8e8\",\"\\uc9c0\\uae08\\ubd80\\ud130\",\"\\uc704\\uc5d0\",\"Like_a\",\"\\uc218_\\uc788\\ub294\",\"\\uc788\\uc5c8\\uc5b4\",\"ll\",\"gone\",\"\\ub124_\\uacc1\\uc5d0\",\"\\ub54c\\uba74\",\"lover\",\"Run\",\"\\ub0a0\\uc774\",\"she\",\"\\uc774\\ubcc4\",\"sweet\",\"girls\",\"\\uc55e\\uc5d0\\uc11c\",\"\\ubcf4\\ub2e4\",\"\\ub108\\ub9cc\\uc758\",\"\\uc2dc\\uc791\\ud574\",\"or\",\"\\uc5b4\\ub514\\ub4e0\",\"\\uc0ac\\ub78c\\ub4e4\",\"B\",\"\\uc6c3\\ub294\",\"\\ub108\\uc57c\",\"La_la\",\"\\ub108\\ubb34\\ub3c4\",\"\\ubaa8\\ub4e0_\\uac83\\uc774\",\"\\ubabb\\ud558\\uace0\",\"Be\",\"\\uac00\\ub4dd\\ud55c\",\"your_mind\",\"call\",\"beautiful\",\"Hey_Hey\",\"\\ub204\\uad70\\uac00\",\"\\uac11\\uc790\\uae30\",\"\\uc9c0\\uccd0\",\"\\ud55c_\\ubc88\\ub9cc\",\"look_at\",\"\\ub098\\uc05c\",\"one_more\",\"pain\",\"\\ucc98\\uc74c\\ubd80\\ud130\",\"\\ubab0\\ub790\\uc5b4\",\"\\uc62c\",\"Beautiful\",\"\\uc18c\\ub9ac\\uccd0\",\"\\uc788\\ub3c4\\ub85d\",\"we_can\",\"\\uc54c\\uc558\\uc5b4\",\"\\uc628\\ud1b5\",\"Here_we\",\"everyday\",\"\\uc5c6\\ub2e4\",\"\\ubaa8\\uc2b5\\uc5d0\",\"real\",\"\\ub108\\ubb34_\\uc88b\\uc544\",\"are_my\",\"\\ud45c\\uc815\",\"\\uc5b8\\uc820\\uac04\",\"\\ub9cc\\ub09c\",\"\\uc870\\uae08\\ub9cc_\\ub354\",\"\\uba48\\ucdb0\",\"really\",\"feeling\",\"step\",\"s_gonna\",\"\\uc601\\uc6d0\\ud55c\",\"My_Love\",\"fall_in\",\"we_re\",\"lovin\",\"\\uc57d\\uc18d\",\"better\",\"\\ub4ef\\ud55c\",\"\\ubc14\\ub77c\\ubcf4\\ub294\",\"\\uc783\\uc5b4\\ubc84\\ub9b0\",\"long\",\"\\ub2ec\\ub824\",\"\\uc548\\ub155\",\"zai\",\"\\ub9c8\\uc74c\\uc740\",\"\\uc624_\\uc624\",\"\\uc788\\ub2e4\\uace0\",\"\\ud758\\ub7ec\",\"\\uc5b4\\uca5c\",\"wa\",\"free\",\"there_s\",\"\\ub9d0\\ub85c\",\"\\ub2ec\\ub824\\uac00\",\"\\ube5b\\uc744\",\"\\ub450_\\uc190\",\"\\uac70\\ub77c\\uace0\",\"your_eyes\",\"your_heart\",\"only_one\",\"Shake_it\",\"\\uc544\\ubb34_\\ub9d0\\ub3c4\",\"this_is\",\"\\ub098\\uc57c\",\"\\ub300\\ub85c\",\"\\ud558\\ub298\",\"\\ud0a4\\ubbf8\\ub178\",\"\\ub108_\\uc5c6\\uc778\",\"\\ub110_\\ud5a5\\ud574\",\"That\",\"off\",\"\\uc788\\uc744\",\"li\",\"shi\",\"te\",\"\\ub05d\\uc5d0\",\"\\ub4e4\\uc5b4\\uc640\",\"\\ub9d8\\uc740\",\"stay\",\"How\",\"e\",\"\\ud558\\ub298\\uc744\",\"\\ub450_\\uc190\\uc744\",\"\\ubab8\\uc744\",\"\\ub354\\uc774\\uc0c1\",\"\\uc228\\uc744\",\"\\ub108\\ub97c_\\uc6d0\\ud574\",\"\\ub098_\\uc5b4\\ub5a1\\ud574\",\"will_be\",\"as\",\"get_down\",\"Hot\",\"Wanna\",\"so_beautiful\",\"\\uc6c3\\uc744_\\uc218\",\"\\ud55c\\ub9c8\\ub514\",\"lie\",\"play\",\"Here\",\"was\",\"\\uc2dc\\uac04\\uc5d0\",\"This\",\"\\uac70\\uae30\",\"\\ub9de\\ucdb0\",\"Only\",\"\\ud558\\ub294\\uc9c0\",\"they\",\"\\uacac\\ub51c_\\uc218\",\"\\ub41c\",\"my_god\",\"just_want\",\"\\ud5a5\\ud55c\",\"\\uac00\\ub9cc\\ud788\",\"tight\",\"\\ub2e4\\uac00\\uac00\",\"have_to\",\"good_bye\",\"\\uc774\\uc57c\\uae30\",\"\\uc788\\uace0\",\"\\ub0b4_\\ub9c8\\uc74c\\uc740\",\"\\uc5c6\\uace0\",\"\\uc788\\ub294\\uc9c0\",\"know_why\",\"\\uc218_\\uc788\\ub2e4\\uba74\",\"\\uac00\\uc7a5\",\"smile\",\"put\",\"\\ubc1b\\uc544\\uc918\",\"\\uc6d0\\ub798\",\"\\uc788\\uc9c0\\ub9cc\",\"\\ub108\\ub97c_\\ud5a5\\ud55c\",\"Time\",\"\\ud14c\\ub2c8\\uae4c\",\"\\ub05d\\ub0b4\",\"\\uc6c3\\uc5b4\",\"\\ud558\\ub298\\uc5d0\",\"\\ub354_\\ud06c\\uac8c\",\"\\ubaa8\\ub974\\uace0\",\"\\ub2f4\\uc544\",\"something\",\"ga\",\"\\ub6f0\\uc5b4\",\"\\ubc14\\ubcf4\",\"\\ub204\\uac00_\\ubb50\\ub798\\ub3c4\",\"\\ub108\\ub85c\",\"\\ub0b4_\\ub9d8\\uc18d\\uc5d0\",\"too\",\"\\uc6b0\\ub9ac\\ub4e4\\uc758\",\"\\ub5a0\\uc62c\\ub77c\",\"Bye_Bye\",\"say_goodbye\",\"\\ubcf8\",\"\\ub450_\\ub208\\uc5d0\",\"\\ubc84\\ub838\\uc5b4\",\"\\ub3cc\\uc544\",\"\\uc774\\ubcc4\\uc774\",\"\\uc544\\ubb34\\ub7f0\",\"\\uc5c6\\ub294\\uac78\",\"without_you\",\"\\uc0dd\\uac01\\uc5d0\",\"\\uadf8\\ub300\\ub9cc\",\"\\ub4e4\\uc5b4\\ubd10\",\"\\ucc28\\uac11\\uac8c\",\"re\",\"out_of\",\"wow\",\"\\ub54c\\ub9c8\\ub2e4\",\"eyes\",\"\\ub108\\ub9cc\\uc774\",\"\\uc6b0\\ub9ac_\\ub458\",\"Gee_Gee\",\"\\ud558\\ub294\\ub370\",\"\\ubd24\\uc5b4\",\"\\uc8fc\\ub294\",\"\\ub0b4\\uac8c\\ub85c_\\uc640\",\"\\ub450_\\ub208\",\"\\uc78a\\uc5b4\",\"\\uc21c_\\uc5c6\\uc5b4\",\"\\ub2c8_\\ub9d8\\uc744\",\"leave_me\",\"\\ubc24\\uc774\",\"Alright\",\"\\ub9ce\\uc544\",\"\\ub208\\ube5b\\uc774\",\"\\ub098\\ub3c4_\\ubab0\\ub798\",\"\\uc788\\uc73c\\uba74\",\"\\uc88b\\uaca0\\uc5b4\",\"kiss_me\",\"\\ub108\\ub97c_\\uc704\\ud55c\",\"\\uc7a1\\uc544\",\"\\ud06c\\uac8c\",\"\\ubbf8\\uc18c\\uac00\",\"around\",\"\\ub208\\uc744_\\uac10\\uace0\",\"ni_de\",\"LOVE\",\"\\ud14c\\ub2c8\",\"Come_On\",\"\\ub0b4\\uac8c\\uc11c\",\"\\uc2f6\\uc740\\ub370\",\"\\uc548\\uace0\",\"\\ub2e4\\uc2dc_\\ub3cc\\uc544\\uc640\",\"get_enough\",\"\\ub05d\",\"\\uc704\\ud5d8\\ud574\",\"\\uac83\\uc740\",\"\\ub610\\ub2e4\\uc2dc\",\"fire\",\"\\ud558\\uc597\\uac8c\",\"going\",\"\\uc598\\uae38\",\"\\uc0ac\\ub791\\ud558\\uace0\",\"\\ub9c8\\ub2e4\",\"falling_in\",\"\\uc55e\\uc73c\\ub85c\",\"\\ub098\\ucc98\\ub7fc\",\"\\uac00\\uc9c8_\\uc218\",\"yi\",\"your_body\",\"\\uc0ac\\ub791\\ud560_\\uc218\",\"\\uc544\\ubb34_\\ub9d0\",\"\\uac16\\uace0_\\uc2f6\\uc5b4\",\"\\uc544\\ud30c\\ub3c4\",\"\\ubc16\\uc5d0\",\"She\",\"\\uc544\\ub798\",\"\\ubbff\\uc744_\\uc218\",\"\\ub2e8\",\"\\ubc14\\ubcf4\\uac19\\uc774\",\"come_back\",\"\\ucf54\\ub178\",\"\\uadf8\\ud1a0\\ub85d\",\"\\ub3cc\\uc544\\uac00\",\"\\uc5b8\\uc820\\uac00\\ub294\",\"give_up\",\"\\ub0b4\\ub9d8\",\"\\uc644\\ubcbd\\ud55c\",\"\\ud150\\ub370\",\"\\ub534\",\"one_two\",\"\\uc790\\uc2e0\\uc744\",\"Girls\",\"\\ud0c0\\uace0\",\"\\ud558\\uc9c0_\\ub9c8\",\"I_hate\",\"\\ubabb\\ud560\",\"\\ud558\\uace0_\\uc2f6\\uc740\",\"Got\",\"beat\",\"\\uc0c1\\uad00\\uc5c6\\uc5b4\",\"\\ud2b9\\ubcc4\\ud55c\",\"\\uc544\\ub2d8\",\"my_everything\",\"Kiss\",\"back_to\",\"\\uc544\\ud504\\uac8c\",\"forget\",\"thing\",\"we_are\",\"\\ub530\\uc2a4\\ud55c\",\"if\",\"\\uc785\\uc220\\uc774\",\"change\",\"\\uae30\\ub2e4\\ub9b4\\uac8c\",\"remember\",\"Wake_up\",\"U_U\",\"One_Two\",\"\\uac00\\ub054\\uc529\",\"Know\",\"\\ub0b4\\uc77c\",\"\\uc7a0\\uae50\",\"\\ub290\\uaef4\\uc838\",\"\\uae30\\uc5b5\\uc774\",\"\\ub2e4_\\uac19\\uc774\",\"\\ub300\\uc2e0\",\"\\uc54a\\uc744\",\"the_same\",\"\\uac00\\uc2b4\\uc18d\\uc5d0\",\"You_gotta\",\"call_me\",\"L_O\",\"\\uc624\\ub294\",\"\\uc544_\\uc544\",\"\\uc0dd\\uac01\\uc774\",\"\\ubabb\\ud558\\uac8c\",\"\\ub108_\\uc544\\ub2c8\\uba74\",\"my_lady\",\"roll\",\"\\ubbf8\\uce58\\uaca0\\uc5b4\",\"No_more\",\"\\uc5ed\\uc2dc\",\"\\ud558\\ub8e8\\uc885\\uc77c\",\"\\uae30\\ub2e4\\ub9ac\\ub294\",\"\\uc77c\\uc5b4\\ub098\",\"BABY\",\"\\ub108\\ub9cc_\\uc788\\uc73c\\uba74\",\"Good_bye\",\"s_over\",\"\\ud568\\uaed8_\\ud560\",\"Look_at\",\"\\uc9c0\\uae08\\uae4c\\uc9c0\",\"try\",\"\\ubcf4\\uc5ec\\uc904\\uac8c\",\"\\ubc14\\ub78c\",\"sky\",\"\\ubc24\\uc5d0\",\"\\uc0ac\\ub791\\uc73c\\ub85c\",\"leave\",\"\\uc2dc\\uac04_\\uc18d\\uc5d0\",\"\\ubb50\\uc57c\",\"\\uc0ac\\uc2e4\\uc740\",\"\\uc0ac\\ub78c\\uc740\",\"\\uae30\\ub300\",\"tu_tu\",\"\\ubaa8\\uc2b5\\uc740\",\"\\uc6b0\\uc5f0\\ud788\",\"\\ud798\\uc744\",\"\\uc774\\uc81c\\ubd80\\ud130\",\"think\",\"could\",\"\\uc9c0\\ucf1c\",\"\\ub9e4\\uc77c_\\ub9e4\\uc77c\",\"\\ud558\\uac8c\",\"\\ucc98\\ub7fc\",\"\\ub450\\uadfc\\ub450\\uadfc\",\"\\ub2e8\\uc9c0\",\"\\uc9c0\\ub098\",\"\\ud640\\ub85c\",\"\\ucc29\\ud55c\",\"\\ud750\\ub974\\ub294\",\"\\ud558\\ub8e8\\ub97c\",\"been\",\"ll_be\",\"Rock\",\"I_M\",\"\\uc9c0\\uae08\\uaecf\",\"\\uc544\\ub2cc\\ub370\",\"wow_wow\",\"Sorry\",\"\\uc870\\ucc28\",\"\\ubabb\\ud558\\ub294\",\"\\uc788\\uc744\\uac8c\",\"just_can\",\"\\uc88b\\uc544\\ud574\",\"believe_in\",\"\\uadf8\\ub7ec\\ub2c8\",\"\\uc54a\\uc558\\uc5b4\",\"\\ub0b4\\ub824\",\"\\ube44\\uac00\",\"\\uc9c0\\uc6cc\",\"nothing\",\"goodbye\",\"\\uc774\\ub9c8\",\"\\uac08_\\uc218\",\"No_no\",\"\\ubbf8\\uce60_\\uac83\",\"\\ubc24\\uc744\",\"\\uafc8\\uc5d0\",\"\\ubc14\\ub77c\\ubcf4\\uba70\",\"\\ub9d0\\uc544\",\"lonely\",\"\\uc6b0\\ub9ac\\ub97c\",\"\\uadf8\\ub9ac\",\"\\ub0a8\\uaca8\\uc9c4\",\"\\ud55c\\ubc88\\ub9cc\",\"\\ud558\\ub298\\uc774\",\"\\ub4e4\\ub824\",\"\\uc54a\\uc544\\ub3c4\",\"\\ubaa8\\ub974\\uac8c\",\"my_eyes\",\"t_stop\",\"nai\",\"\\ub9e4\\uc77c\\ub9e4\\uc77c\",\"\\uc544\\ubb34\\ub3c4_\\ubaa8\\ub974\\uac8c\",\"\\uc5b4\\uca54_\\uc218\",\"\\uc190\\uc744_\\uc7a1\\uc544\",\"\\uc5ec\\uae34\",\"\\uc544\\uc774\",\"\\ud6c4\",\"\\uc788\\ub294\\uac78\",\"\\ubc14\\ubcf4_\\uac19\\uc740\",\"\\uc6d0\\ud55c\\ub2e4\\uba74\",\"\\uae30\\ub3c4\\ud574\",\"\\ub108\\uac00\",\"YOU\",\"\\ub208\\ubb3c\\ub3c4\",\"\\uc54a\\uc744\\uac8c\",\"keep_on\",\"here_we\",\"\\uc788\\ub098\\uc694\",\"\\uc77c\\uc774\",\"\\ubbf8\\uce58\\ub3c4\\ub85d\",\"made\",\"\\ud488\\uc5d0\",\"\\ub098\\ubcf4\\ub2e4\",\"\\uc9e7\\uc740\",\"la\",\"\\uc54c\\uace0_\\uc2f6\\uc5b4\",\"\\ud5a5\\uae30\",\"\\ube5b\",\"\\uac19\\uc740\\ub370\",\"Get_down\",\"he\",\"In_my\",\"\\uc0b4_\\uc218\",\"\\ud560\\uac8c\",\"never_let\",\"C_mon\",\"a_little\",\"down_down\",\"Down\",\"\\uc624\\ub298\\uc774\",\"\\uc2ec\\uc7a5\",\"chance\",\"Step\",\"Kiss_me\",\"my_world\",\"Bo_Peep\",\"\\ub05d\\uc5c6\\uc774\",\"start\",\"\\uc654\\uc5b4\",\"In\",\"\\uc7a0_\\ubabb\",\"\\ub358\\uc838\",\"\\uc54c\\uace0_\\uc788\\uc5b4\",\"\\uadd3\\uac00\\uc5d0\",\"\\uc800_\\ud558\\ub298\",\"honey\",\"\\ud560\\uae4c\",\"\\ub0a8\\uc790\\uac00\",\"\\ubab0\\ub77c\\uc694\",\"\\uc911\",\"so_fine\",\"who\",\"OH\",\"Hey_hey\",\"\\ud0a4\\ubbf8\\uc624\",\"\\ud0a4\\ubbf8\\uac00\",\"\\uc218\\uac00\",\"\\ub9e4\\ubc88\",\"\\uc5c6\\uc5c8\\ub358\",\"\\ud55c\\ubc88_\\ub354\",\"\\uc774\\ubcc4\\uc740\",\"some\",\"\\uc5b4\\uc81c\",\"\\ubaa8\\ub978_\\ucc99\",\"\\uae30\\ubd84\\uc774\",\"\\uc774_\\uc21c\\uac04\\uc744\",\"hey_hey\",\"\\ucc3e\\uc744_\\uc218\",\"put_your\",\"Ready\",\"Cuz\",\"nobody\",\"\\ub530\\uc708\",\"\\ub9e1\\uaca8\",\"\\ucc98\\uc74c_\\ubcf8\",\"\\ub290\\ub08c\\uc774\",\"Make_it\",\"\\ud55c_\\uc0ac\\ub78c\",\"\\uba38\\ub9ac\\ubd80\\ud130_\\ubc1c\\ub05d\\uae4c\\uc9c0\",\"\\uc65c_\\uc774\\ub9ac\",\"\\ub0b4\\uac8c_\\uc640\",\"\\ub108\\uc5d0\\uac8c\\ub85c\",\"\\ubb50\\ub77c\\uace0\",\"\\ub530\\ub77c\\uc640\",\"\\ub2ec\\ucf64\\ud558\\uac8c\",\"\\ud589\\ubcf5\\ud558\\uac8c\",\"\\uc0dd\\uac01\\uc740\",\"\\uc624\\ub298\\ub530\\ub77c\",\"\\ubcc4\\uc774\",\"\\uc644\\ubcbd\\ud574\",\"all_day\",\"ma_girl\",\"\\ub208\\uc55e\\uc5d0\",\"\\ubab0\\ub77c\\ub3c4\",\"\\uac00\\uc9c0\\ub9c8\",\"\\ub0b4\\uc77c\\uc740\",\"\\uc81c\\uc77c\",\"\\ud558\\ub2c8\",\"\\uc9c0\\uae08\\ucc98\\ub7fc\",\"\\ud574\\ubd10\\ub3c4\",\"the_sky\",\"xiang\",\"I_wish\",\"\\ud754\\ub4e4\\ub9ac\\ub294\",\"\\uc624\\ub798\",\"\\ubaa8\\ub4e0\\uac78_\\ub2e4\",\"\\uccab\",\"\\uac08\",\"\\ub54c\\ub3c4\",\"\\ubab8\\uc774\",\"through\",\"\\ubbf8\\uce5c\",\"\\uc74c\",\"\\uc88b\\uc544\\ud558\\ub294\",\"\\uc5b4\\ub450\\uc6b4\",\"\\ub108\\ub97c_\\ud5a5\\ud574\",\"so_much\",\"so_bad\",\"\\uba87\",\"\\uc0dd\\uac01\\ub098\",\"\\uc2dc\\uac04\\ub4e4\",\"\\uc628\\uc885\\uc77c\",\"song\",\"\\uc788\\uaca0\\uc9c0\",\"\\uc5c6\\uc8e0\",\"\\uc2dc\\uc120\",\"so_sorry\",\"come_come\",\"\\uc774_\\uc138\\uc0c1\\uc5d0\",\"\\uc9c0\\ub098\\uac04\",\"\\uc9c0\\uae08\\uc758\",\"\\ud6c4\\ud68c\",\"OH_OH\",\"roll_all\",\"\\ub0b4\\uac00_\\uba3c\\uc800\",\"My_heart\",\"\\ubd10\\ubd10\",\"\\uac00\\uc790\",\"\\uc804\\ubd80_\\ub2e4\",\"V_E\",\"\\uc606\\uc5d0\",\"\\uadf8_\\uc790\\ub9ac\\uc5d0\",\"\\ubcf4\\ub2c8\",\"\\uba38\\ub9ac\",\"listen\",\"on_fire\",\"\\ud145_\\ube48\",\"\\uac00\\ub4dd\\ud788\",\"\\uac00\\uba74\",\"\\uafc8\\ucc98\\ub7fc\",\"\\uc5c6\\uc5b4\\uc11c\",\"\\ub0b4\\uac8c_\\ub3cc\\uc544\\uc640\",\"\\ub192\\uc774\",\"sexy\",\"\\ubc14\\ub78c\\uc774\",\"waiting_for\",\"Na_na\",\"Everything\",\"\\ub9cc\\ub4e0\",\"\\ub458\",\"\\uc6c3\\uc74c\",\"\\uadf8\\ub798\\uc694\",\"We_got\",\"\\ub9d0\\ud558\\uc9c0\",\"style\",\"\\uc11c\\ub85c\\uc758\",\"\\uc804\\ud654\",\"Fly\",\"story\",\"Cuz_I\",\"\\ud639\\uc2dc\\ub098\",\"\\ud558\\ub098\\ub3c4\",\"\\uc124\\ub808\\ub294\",\"n\",\"\\ub0b4_\\ub208\\uc5d4\",\"\\ube44\\uce5c\",\"E\",\"\\uc9c0\\uc6b8_\\uc218\",\"\\uae30\\ubd84_\\uc88b\\uc740\",\"\\uc774_\\ub290\\ub08c\",\"\\ub0a0_\\uc548\\uc544\\uc918\",\"\\ub0a8\\uc790\\ub2f5\\uac8c\",\"go_away\",\"\\ub0a0_\\ub450\\uace0\",\"\\ub4a4\\uc5d0\",\"\\uafc8\\uc740\",\"\\ub0b4\\uacc1\\uc5d0\",\"\\uc870\\uae08\\ub9cc\",\"\\ubb50\\ub4e0\",\"La\",\"your_man\",\"Listen\",\"\\uac77\\uace0\",\"Christmas\",\"Break_it\",\"ai\",\"\\uc2f6\\uc5c8\\uc5b4\",\"\\uc788\\ub2e4\",\"\\uc0dd\\uac01\\ud558\\uba74\",\"days\",\"\\ub0b4_\\uac00\\uc2b4\\uc740\",\"\\ub9c8\\ub0e5\",\"\\ub4ef\\ud574\",\"\\ucc38\\uc744_\\uc218\",\"\\ubd84\\uba85\",\"\\uc54c\\uc544\\uc694\",\"\\uc54c\\uba74\\uc11c\\ub3c4\",\"\\ud574\\ubd10\",\"\\uc0c8\\ub86d\\uac8c\",\"home\",\"\\ub108_\\ubc16\\uc5d0\",\"\\uc6b0\\ub9ac_\\uc0ac\\uc774\",\"We_ll\",\"\\uc880\\ub354\",\"our\",\"\\uc5c6\\ub2e4\\uba74\",\"\\ub0b4\\uac8c_\\ub9d0\\ud574\\uc918\",\"missing_you\",\"\\uace7\",\"\\ud3c9\\uc0dd\",\"With\",\"\\ub9d0\\ud574\\ub3c4\",\"\\ud558\\ub358\",\"\\ub208\\uc774_\\ubd80\\uc154\",\"There_s\",\"\\uc27f\",\"love_gun\",\"Woo_woo\",\"\\uc9d1\\uc5d0\",\"\\ub0b4\\ub9d8\\uc744\",\"\\ub193\\uace0\",\"\\ub0a8\\uc790\\ub294\",\"\\ub458\\uc774\\uc11c\",\"\\uc774\\uc0c1\\ud574\",\"Ma\",\"wo_de\",\"\\ub098\\uc758_\\ub9c8\\uc74c\\uc744\",\"\\ub208\\ubb3c\\uc740\",\"the_best\",\"face\",\"G\",\"control\",\"hold_me\",\"\\ub0af\\uc120\",\"\\ub354_\\uac00\\uae4c\\uc774\",\"\\ubcfc\\uae4c\",\"\\ub9d0\\ub3c4_\\uc548\",\"\\uc788\\ub098\",\"\\uc548\\uaca8\",\"\\ucc3e\\ub294\",\"\\ubfd0\\uc57c\",\"\\ucd94\\uc5b5\\uc744\",\"\\uc0ac\\ub791\\ud560\",\"Boom_Boom\",\"\\uc678\\ub85c\\uc6b4\",\"\\uc918\\uc694\",\"\\ub9de\\uc544\",\"\\ub118\\uc5b4\",\"Every_day\",\"paradise\",\"\\ub108_\\ud558\\ub098\\uba74\",\"\\ub5a0\\ub098\\uac00\",\"\\ub4e3\\uace0\",\"V\",\"\\uc544\\ud514\\uc744\",\"\\uaf49\",\"ho\",\"\\ub0b4\\uac8c\\ub294\",\"\\ud55c\\uc5c6\\uc774\",\"\\ub54c\\ub85c\\ub294\",\"\\ub2e4\\uc74c\",\"game\",\"money\",\"bad\",\"\\ub290\\uaef4\\uc9c0\\ub294\",\"\\uc18d\\uc73c\\ub85c\",\"\\uc6a9\\uae30\",\"\\uc54c\\uc9c0\",\"thank_you\",\"bounce\",\"\\uc624\\ube60\",\"\\ub124\\uac00_\\ud544\\uc694\\ud574\",\"put_put\",\"\\ubcf4\\ub0b4\",\"ride\",\"\\uc54a\\uaca0\\uc5b4\",\"\\uc5b4\\uc0c9\\ud55c\",\"cuz\",\"ta\",\"\\ud798\\ub4e4\\uac8c\",\"\\ub0a0\\uc544\\uac00\",\"\\uc548\\uc544\\uc918\",\"bu\",\"\\ub9cc\\ub0a0\",\"bang\",\"\\uc8fd\\uc5b4\\ub3c4\",\"the_top\",\"\\ud589\\ubcf5\\ud588\\ub358\",\"\\ud55c_\\uac78\\uc74c\",\"look\",\"\\ubcf4\\uace0_\\uc2f6\\uc740\",\"ok\",\"go_let\",\"mei\",\"\\ub2e4\\uac19\\uc774\",\"Well\",\"\\ud589\\ubcf5\\uc744\",\"\\uace0\\ubc31\",\"\\uadf8\\uac78\",\"\\ucc44\\ub85c\",\"\\ubc18\\uc9dd\\uc774\\ub294\",\"\\uc228\",\"\\ub450_\\ub208\\uc774\",\"\\uac19\\ub358\",\"All_night\",\"a_good\",\"\\uc78a\\uc9c0_\\ubabb\\ud574\",\"feel_good\",\"\\ub0a0\\ub4e4\",\"Honey\",\"gonna_make\",\"\\uc870\\uc6a9\\ud788\",\"Dance_Dance\",\"\\uc0c8\\ud558\\uc580\",\"\\uc544\\ubb34\\ub807\\uc9c0_\\uc54a\\uc740\",\"\\ub9d0\\ud558\\uace0\",\"\\ub9c8\\uc74c\\ub3c4\",\"\\ub9d0\\ud560_\\uc218\",\"friend\",\"\\uc774_\\ubc24\\uc744\",\"\\uc544\\ud514\",\"\\ub5a0\\ub098\\uac04\",\"\\ub0b4_\\uacc1\\uc744\",\"\\uc5b4\\ub9b0\",\"\\uaca8\\uc6b8\",\"\\uc5b4\\ub514\\uc11c\",\"\\uc18c\\ub178\",\"Da_Da\",\"\\ub9cc\\ub0a0_\\uc218\",\"\\uc624\\ub7ab\\ub3d9\\uc548\",\"soul\",\"\\uae30\\uc5b5\\uc744\",\"\\ub2f5\\ub2f5\\ud574\",\"\\uac00\\uc9c0\",\"\\uc544\\ub2c8\\ub77c\\uace0\",\"\\ud558\\uc796\\uc544\",\"\\ub354_\\ub192\\uc774\",\"\\ubbf8\\ub798\",\"\\uba4b\\ub300\\ub85c\",\"boom_boom\",\"mean\",\"\\ud589\\ubcf5\",\"\\uac78_\\uc54c\\uc544\",\"\\ub2ee\\uc740\",\"loving_you\",\"\\uc0c8\",\"take_a\",\"can_make\",\"\\ub108\\ubb34_\\uc608\\ubed0\",\"inside\",\"\\ub108\\ub85c_\\uc778\\ud574\",\"I_said\",\"\\ucc3e\\uc544\\uc640\",\"turn_it\",\"See\",\"\\uac74\\ub370\",\"\\uc544\\uc9c1\\uae4c\\uc9c0\",\"\\uc78a\\uc9c0\",\"\\ub2e4\\uac00\\uc624\\ub294\",\"\\ubbf8\\uc18c\\ub97c\",\"\\uc218_\\uc788\\ub3c4\\ub85d\",\"the_beat\",\"\\uc9c0\\uae08\\uc774\",\"\\uac70\\ub9ac\",\"\\uc5bc\\uad74\\uc774\",\"wait\",\"Always\",\"good_night\",\"\\uc18d\\uc744\",\"dance_dance\",\"\\uac70\\uc8e0\",\"music\",\"myself\",\"\\ubd99\\uc7a1\\uace0\",\"fine\",\"Goodbye\",\"No_way\",\"Take_it\",\"em\",\"\\ub124_\\uc0dd\\uac01\\uc5d0\",\"\\ud588\\uc9c0\",\"we_ll\",\"\\ud558\\uba70\",\"\\uac04\\ub2e4\",\"P\",\"\\ub458\\ub9cc\\uc758\",\"\\uc785\",\"Day\",\"to_lose\",\"\\ucc98\\uc74c_\\ub9cc\\ub09c\",\"\\ub9c8\\uc74c\\uc18d\\uc5d0\",\"\\ub108\\uc5d0\\uac90\",\"\\uadf8\\ub300\\uc640_\\ud568\\uaed8\",\"\\ub9d0\\uc5d0\",\"NO\",\"\\ub9d0\\ud560\\uac8c\",\"\\uc190\\uc774\",\"\\ud558\\ub098\\ubfd0\\uc778\",\"\\uc11c\\ub85c\\uac00\",\"\\ub05d\\uc744\",\"\\ub0b4_\\uc2ec\\uc7a5\\uc740\",\"d\",\"break_it\",\"\\ud22c\\uba85\\ud55c\",\"\\ubb54\\ub370\",\"no_way\",\"know_how\",\"slow\",\"Ooh_Ooh\",\"\\uc8fc\\uace0\",\"\\ub9c8\\ub77c\",\"\\uc2ac\\ud514\",\"\\uadf8\\ub0a0\",\"\\uc5b4\\ub460\\uc774\",\"people\",\"\\uc5ec\\uc790\\ub294\",\"\\ud558\\ub098\\ub9cc\",\"\\ub108\\ub77c\\uba74\",\"\\uac00\\uc838\\uac00\",\"stay_with\",\"xin\",\"boys_out\",\"\\uaebc\\uc57c\",\"\\ub3c4\",\"\\uc774\\ub798\",\"\\uc0dd\\uac01\\uc744\",\"\\uae30\\ub2e4\\ub9b0\",\"Boom\",\"\\uc678\\ub85c\\uc6cc\",\"\\uc54a\\uc544\\uc694\",\"\\ubc14\\ub2e4\",\"\\uc6b0\\ub9ac_\\ub458\\ub9cc\\uc758\",\"\\ub098\\ud0c0\\ub098\",\"\\uc54c\\uc544\\uc918\",\"hoo\",\"\\ub4e4\\ub9ac\\ub2c8\",\"Wo\",\"\\ubd80\\ub4dc\\ub7ec\\uc6b4\",\"\\uadf8_\\ubb34\\uc5c7\\ub3c4\",\"\\ub098\\ub9cc\\uc744\",\"\\ub0b4\\uc77c\\uc774\",\"\\uc774\\ub9ac\",\"round\",\"\\ub108\\ub791\",\"gonna_do\",\"\\ubb50\\ud574\",\"\\uc5b4\\ub51c\",\"\\ub3cc\\uc774\\ud0ac_\\uc218\",\"\\ub04c\\ub824\",\"Out\",\"\\ub9c8\\uc74c\\uc73c\\ub85c\",\"\\ud654\\ub824\\ud55c\",\"ha_ha\",\"Who_s\",\"\\uadf8\\ub7ec\\uba74\",\"\\uc6c0\\uc9c1\\uc5ec\",\"ba\",\"\\ubab0\\ub790\\ub358\",\"hear_me\",\"hello\",\"\\ud0a4\\ubbf8\\uc640\",\"\\uc5c6\\ub124\",\"\\uadf8\\ub9ac\\uc6b4\",\"\\uc7a1\\uc544\\uc918\",\"\\uc644\\uc804\\ud788\",\"\\uc5ec\\uae30\\uc800\\uae30\",\"Ha\",\"\\ubaa8\",\"ma_ma\",\"Ain_t\",\"Please_don\",\"\\uadf8\\ub7f0\\ub370\",\"\\uc218_\\uc788\\uc744\\uae4c\",\"GO\",\"\\ubb38\\ub4dd\",\"\\ubcf4\\uba74\\uc11c\",\"Light\",\"my_head\",\"wanna_say\",\"Woo_Woo\",\"luv\",\"\\ub05d\\uc5c6\\ub294\",\"think_about\",\"\\uc7a0\\uc774\",\"\\ud587\\uc0b4\\uc774\",\"\\uc228\\uae38_\\uc218\",\"Maybe\",\"Uh_uh\",\"zhe\",\"from_the\",\"\\uc6b8\\uc5b4\",\"ready_to\",\"\\uc54a\\uc744_\\uac70\\uc57c\",\"\\ub418\\uba74\",\"new\",\"\\uadf8\\ub300\\ub3c4\",\"\\uc774\\uc81c\\uc640\",\"worry\",\"\\ub5a8\\ub824\",\"Right_now\",\"Call_me\",\"\\uae38\\uc774\",\"so_good\",\"\\ubc14\\ubcf4\\uc57c\",\"\\ud55c\\ubc88\\ub3c4\",\"\\uadf8\\ub140\\uc5d0\\uac8c\",\"\\ub450\\uadfc_\\ub450\\uadfc\",\"\\uba40\\ub9ac\\uc11c\",\"\\ub6f0\\ub294\",\"\\ub0b4\\uc548\\uc5d0\",\"\\uc57d\\uc18d\\ud560\\uac8c\",\"You_ve\",\"\\ubbf8\\uce5c_\\ub4ef\\uc774\",\"turn\",\"made_for\",\"\\uafc8\\uc744_\\uafb8\\ub294\",\"\\ubbf8\\uc6cc\",\"\\ub2e4\\ub978_\\uc0ac\\ub78c\",\"\\ubabb\\ud588\\uc5b4\",\"\\uc5b4\\ub514\\ub85c\",\"\\uc774\\uc720\\uac00\",\"\\ub9d0\\ud22c\",\"\\ub05d\\uc774_\\uc5c6\\ub294\",\"\\ub0a0\\uc544\\uc62c\\ub77c\",\"my_friend\",\"\\ub0b4_\\uc2ec\\uc7a5\\uc744\",\"\\uc5b8\\uc81c\\ucbe4\",\"coming\",\"\\uc9c0\\uae08_\\uc774\\ub300\\ub85c\",\"the_floor\",\"a_man\",\"\\ud558\\uc580_\\ub208\\uc774\",\"\\ub208\\ube5b\\uc5d0\",\"\\ud588\\uc9c0\\ub9cc\",\"were\",\"that_that\",\"\\ub2c8\\uac00_\\ud544\\uc694\\ud574\",\"\\uba4d\\ud558\\ub2c8\",\"\\ub0b4\\uac8c_\\ub9d0\\ud574\",\"\\uadf8\\ub9cc\\ud574\",\"live_without\",\"talk_about\",\"hui\",\"\\uc2f6\\uc9c0\\ub9cc\",\"\\uc218\\ub9cc_\\uc788\\ub2e4\\uba74\",\"head\",\"Turn_it\",\"\\ub098\\ub97c_\\ubcf4\\uba70\",\"\\uc6b8\\ub824\",\"\\uc5b8\\uc81c\",\"\\ub098\\uba74\",\"\\uc5c6\\uc73c\\ub2c8\\uae4c\",\"\\uc5ec\\uc790\\uac00\",\"\\uadf8\\ub7ac\\uc5b4\",\"\\ub0b4_\\ub9d8\\ub300\\ub85c\",\"\\uc900\\ube44\",\"Heart\",\"\\ubc1d\\uc740\",\"\\uc0ac\\ub78c\\ub4e4\\uc740\",\"\\uc788\\uc744_\\ub54c\",\"an\",\"my_side\",\"three\",\"\\uba48\\ucd9c_\\uc218\\uac00\",\"\\ube44\\ucdb0\",\"ye_ye\",\"\\ubc18\\ubcf5\\ub418\\ub294\",\"\\uc78a\\uc9c0_\\ubabb\\ud560\",\"\\uadf8\\ub54c\\ub85c\",\"\\uac77\\ub294\",\"Move\",\"lose\",\"\\uc78a\\uc9c0\\ub9c8\",\"go_back\",\"Because\",\"\\uae30\\uc5b5_\\uc18d\\uc5d0\",\"\\uc785\\uc220\\uc5d0\",\"air\",\"\\ubcfc\\ub798\",\"\\ud639\\uc2dc\\ub77c\\ub3c4\",\"\\ub9d0\\ud558\\uc9c0_\\uc54a\\uc544\\ub3c4\",\"\\ubaa8\\ub974\\ub2c8\",\"\\uc544\\uc774\\ucc98\\ub7fc\",\"\\ub55c\\uc5d0\",\"have_a\",\"Knock_Knock\",\"so_hot\",\"\\ubc14\\ub77c\\ub294\",\"understand\",\"\\uc218\\ub3c4\",\"\\uc5c6\\uaca0\\uc9c0\",\"\\ub0a0\\uc544\",\"\\ub9d0\\ub4e4\",\"\\uaca8\\uc6b0\",\"\\uc720\\uc77c\\ud55c\",\"\\ub9d1\\uc740\",\"\\ub9d0\\ub9cc\",\"find\",\"\\ub098\\ub791\",\"\\uc774\\uc81c\\uc11c\\uc57c\",\"Is\",\"\\uc11c\\ud230\",\"\\ube68\\uac04\",\"\\uc9dc\\ub9bf\\ud55c\",\"\\ub108\\ub77c\\uc11c\",\"\\uc775\\uc219\\ud55c\",\"\\uc678\\uccd0\",\"\\ub108\\ub9cc_\\ubcf4\\uc5ec\",\"\\uc774\\ub9ac_\\uc640\",\"\\uc5bc\\uad74\\uc744\",\"\\ub0a0_\\ubbf8\\uce58\\uac8c\",\"\\uba40\\uc5b4\\uc9c0\\ub294\",\"\\ucde8\\ud574\",\"destiny\",\"\\uafc8\\uc5d0\\uc11c\",\"\\uc54a\\ub2c8\",\"\\uc81c\\ub300\\ub85c\",\"\\uc790\\uc2e0\\uc774\",\"\\uc624\\uba74\",\"\\ube60\\uc9c4\",\"all_about\",\"\\uc624\\uc9c1_\\ub108\\ub9cc\",\"hands\",\"In_the\",\"fight\",\"going_crazy\",\"s_alright\",\"Back_Back\",\"Ba_Ba\",\"\\uacb0\\uad6d\\uc5d4\",\"N\",\"say_good\",\"\\uac70\\uce5c\",\"\\ub208\\uc744_\\uac10\\uc544\\ub3c4\",\"\\uc548_\\ud574\\ub3c4\",\"ready_for\",\"\\uac19\\uc544\\uc11c\",\"\\ube60\\uc838\\ub4e4\\uc5b4\",\"\\ub4a4\",\"\\ubbf8\\uc18c\\ub85c\",\"\\uae30\\uc5b5\\uc5d0\",\"\\uc5b4\\ub5bb\\uac8c_\\ud574\\uc57c\",\"\\uc544\\ub2cc_\\ub2e4\\ub978\",\"\\ubbff\\uc5b4\\uc694\",\"\\uc2dc\\uc791\",\"\\ub2e4_\\uac70\\uc9d3\\ub9d0\",\"Stay\",\"bring\",\"\\uae30\\uc5b5\\ud574\\uc918\",\"\\uc870\\uadf8\\ub9cc\",\"\\uc2dc\\uac04\\ub3c4\",\"To_the\",\"\\ud6c4\\uc5d0\",\"\\ub098\\uc774\",\"Wanna_be\",\"Beautiful_Beautiful\",\"\\ub124_\\uc606\\uc5d0\",\"\\ubc24\\uc0c8\\ub3c4\\ub85d\",\"\\uc774_\\uc21c\\uac04\\uc774\",\"\\uba3c\",\"\\uc5b4\\ub514\\uc5d0\",\"side\",\"dancing\",\"\\uc9c0\\uaca8\\uc6cc\",\"\\uc54c\\uae4c\",\"\\ub0b4_\\uacc1\\uc5d0\\ub9cc\",\"\\ubb54\\uc9c0\",\"huh\",\"\\ud658\\ud558\\uac8c\",\"You_better\",\"crazy_crazy\",\"kara\",\"\\ud558\\uace0_\\uc2f6\\uc5b4\",\"\\uc790_\\uc774\\uc81c\",\"\\uba39\\uace0\",\"\\ubcc0\\ud574\",\"\\ub108\\uc640\\ub098\",\"\\ud588\\ub294\\ub370\",\"\\uc6b0\\ub9ac\\ub9cc\\uc758\",\"\\uc560\\ud0c0\\uac8c\",\"\\uace0\\ubbfc\",\"\\uc7a1\\uc744_\\uc218\",\"\\uac04\",\"\\uc5b4\\ub5bb\\uac8c_\\ud574\",\"\\uc120\\ubb3c\",\"\\ub204\\uac00_\\ubd10\\ub3c4\",\"Wow\",\"\\uac10\\uc815\",\"\\ud0b7\\ud1a0\",\"shout_it\",\"\\ub4e4\\uace0\",\"\\ub208\\ubb3c\\ub9cc\",\"then\",\"\\ubc14\\ub77c\",\"\\ub098\\ubcf4\\ub2e4_\\ub354\",\"\\ubabb\\ub09c\",\"\\ub9d0\\ud558\\ub294\",\"nobody_nobody\",\"\\uc21c\\uac04\\uc774\",\"\\ubc97\\uc5b4\\ub0a0_\\uc218\",\"\\uc9c0\",\"\\uc911\\uc5d0\",\"\\uadf8\\ub9bc\\uc790\",\"we_go\",\"Ah_ah\",\"run_run\",\"\\ub124_\\uc55e\\uc5d0\",\"\\uc0ac\\ub78c\\uc744\",\"\\ub5a0\\ub098\\ub294\",\"\\uc624\\ub79c\",\"\\uc11c_\\uc788\\ub294\",\"\\uafc8\\uc18d\\uc5d0\",\"\\uadf8\\ub9ac\\uc6c0\",\"\\uadf8_\\ub204\\uad6c\\ubcf4\\ub2e4\",\"Right\",\"\\uac00\\uc2b4\\uc740\",\"\\uadf8\\ub9cc\\ud07c\",\"\\uba5c\\ub85c\\ub514\",\"\\uad73\\uc774\",\"\\uac71\\uc815\",\"Like_this\",\"talk_to\",\"I_WANNA\",\"\\uc774_\\uc138\\uc0c1\\uc774\",\"\\uc0dd\\uac01\\ud574\\ubd10\",\"\\uce5c\\uad6c\\uac00\",\"\\ubaa8\\uc2b5\\uc73c\\ub85c\",\"\\uc598\\uae30\\ub97c\",\"\\ud754\\ud55c\",\"\\ud558\\ub8e8\\ub3c4\",\"\\uc544\\ub9c8\\ub3c4\",\"\\ub0a0\\uc5d0\",\"\\uadf8\\ub140\\uc640\",\"\\uc138\\uc0c1_\\ubaa8\\ub4e0\",\"\\uac83_\\uac19\\uc740\",\"boys\",\"\\ub098_\\ud640\\ub85c\",\"\\ud560\\ub798\",\"\\ub4e3\\uace0_\\uc2f6\\uc5b4\",\"bad_girl\",\"A_A\",\"T\",\"Three\",\"always_be\",\"\\ub208\\uc744_\\ub728\\uba74\",\"\\uc544\\ubb34\\uac83\\ub3c4_\\ud560\",\"\\ud544\\uc694\\uc5c6\\uc5b4\",\"the_beast\",\"\\uacb0\\ucf54\",\"\\ucc28\\ub9c8\",\"\\ub208\\ubb3c\\uc5d0\",\"\\ud558\\ub294_\\ub9d0\",\"\\uc624\\uc624\",\"\\uc62c\\ub77c\",\"\\uc6d0\\ud558\\uace0\",\"\\ubaa9\\uc18c\\ub9ac\\ub85c\",\"\\ub108\\ubb34_\\uc27d\\uac8c\",\"\\ub2f5\\ub2f5\\ud55c\",\"\\ubd88\\uc548\\ud574\",\"get_away\",\"\\ubd88\\ub7ec\\uc918\",\"\\uc549\\uc544\",\"\\uad1c\\ucc2e\\uc740\",\"\\uc624\\ud788\\ub824\",\"\\uc18c\\uc911\\ud588\\ub358\",\"\\ub204\\uad6c\\ub098\",\"\\ub0b4\\uac90_\\ub108\\ubb34\",\"\\uc544\\ub984\\ub2f5\\uac8c\",\"\\uc644\\uc804\",\"\\uc5c6\\ub098\\uc694\",\"\\uac00\\ub3c4\",\"\\ud574\\uc904\\uac8c\",\"please_don\",\"every_day\",\"\\ubabb\\ub41c\",\"\\uc18d\\uc5d4\",\"\\uc774\\uacf3\\uc5d0\",\"\\uc0b4\",\"\\ubd80\\ub514\",\"\\ucc98\\uc74c\\uc73c\\ub85c\",\"\\ubaa8\\uc544\",\"mama\",\"\\uc798\\ubabb\",\"\\ub3cc\\uc544\\uc640\\uc918\",\"\\ub9cc\\ub098\\uba74\",\"Not\",\"\\ub108\\uc640_\\ud568\\uaed8\\ub77c\\uba74\",\"\\uc2dc\\uc120\\uc744\",\"\\uc548\\uc544\",\"Show\",\"\\uc2ac\\ud514\\uc774\",\"\\uba38\\ub9ac\\uac00\",\"\\ub9cc\",\"\\uc18d\\uc758\",\"\\uc624\\ub298\\ubd80\\ud130\",\"\\uc228\\uc774_\\ub9c9\\ud600\",\"the_light\",\"wanna_do\",\"Because_of\",\"Love_gun\",\"\\ubb34\\uc5c7\\uc744\",\"\\uc804\\ud654\\ub97c\",\"higher\",\"\\uc790\\uc720\\ub86d\\uac8c\",\"\\uc2dc\\uac04\\ub4e4\\uc774\",\"\\uc2e0\\ub098\\uac8c\",\"\\ub0a0_\\ubc14\\ub77c\\ubcf4\\ub294\",\"\\uc218\\uc90d\\uc740\",\"\\uc21c\\uac04\\uc744\",\"\\uc54c\\uac8c\",\"\\ud55c\\ub2e4\\uba74\",\"\\ub0a8\\uc794\",\"\\ub108\\ub97c_\\ucc3e\\uc544\",\"\\uc18d\\uc774\",\"die\",\"\\ub9d0\\uc790\",\"\\ub208\\ubd80\\uc154\",\"da_da\",\"fall\",\"\\ud558\\ub298\\uc740\",\"\\ub3c8\",\"\\uc790\\ub9ac\",\"Give\",\"wish\",\"\\ud558\\ub124\",\"\\ubc88\",\"\\uc11c\\uc11c\",\"\\uadf8\\ub7ec\\ub2e4\",\"\\ub9cc\\ub098\\uace0\",\"\\ubc18\\ub4dc\\uc2dc\",\"\\ub5a0\\ub098\\uc9c0\\ub9c8\",\"\\ucc38\\uace0\",\"\\ubab8\",\"NA_NA\",\"\\uac00\\ub4dd\\ud574\",\"bad_bad\",\"shen\",\"\\ubaa8\\ub974\\uc9c0\",\"\\ubd84\\uba85\\ud788\",\"\\ub108\\uc5d0\",\"\\ubaa8\\uc2b5_\\uadf8\\ub300\\ub85c\",\"\\uc0b4\\uace0\",\"cool\",\"\\uc2ac\\ud514\\uc744\",\"\\uc54c\",\"\\ub098\\uc11c\",\"\\ub0b4\\uc77c\\ub3c4\",\"\\uc8fd\\uaca0\\uc5b4\",\"\\uc5b4\\ub5bb\\uac8c\\ub4e0\",\"\\uac19\\uc560\",\"\\uac07\\ud600\",\"\\ub108\\uc5d0\\uac8c\\ub9cc\",\"need_you\",\"\\ub208\\ubb3c\\uc774_\\ud758\\ub7ec\",\"\\uc544\\uce68\",\"Would_you\",\"every\",\"your_life\",\"\\uc990\\uaca8\",\"\\ub0b4\\ub824\\uc640\",\"\\uc54a\\uc744\\ub798\",\"\\uc544\\ucc14\\ud55c\",\"Run_Run\",\"Dream\",\"Keep\",\"\\uc0b6\\uc744\",\"\\uc804\\ud600\",\"\\uc0ac\\ub78c\\ub4e4\\uc774\",\"listen_to\",\"Welcome_to\",\"\\ub05d\\ub0ac\\uc5b4\",\"happy\",\"\\uc0c1\\ucc98\\ub97c\",\"\\uc0b4\\uc544\\uac08\",\"be_afraid\",\"\\uc5ec\\uae30\\uc5d0\",\"\\uc774_\\ubc24\\uc5d0\",\"dance_with\",\"\\ub9cc\\ub4dc\\ub294\",\"\\ub9ce\\uc774_\\ub9ce\\uc774\",\"\\ub108\\ub3c4_\\ub098\\uc640\",\"\\uc5b4\\uc9c0\\ub7ec\\uc6cc\",\"drive\",\"rain\",\"\\uc774\\uae30\\uc801\\uc778\",\"Fall_in\",\"\\ubcf4\\ucfe0\\ub178\",\"chu\",\"zhi\",\"\\uc788\\uc73c\\ub2c8\",\"\\uc5b4\\uca4c\\ub2e4\",\"\\uc804\",\"\\ub108\\ub97c_\\uc704\\ud574\\uc11c\",\"\\ub4a4\\ub3cc\\uc544\",\"\\ud558\",\"\\ub3cc\\ub824\",\"\\ub0b4\\ub9ac\\ub294\",\"\\ub420_\\uac70\\uc57c\",\"\\uc9c0\\ucf1c\\ubd10\",\"into\",\"ah_ha\",\"\\ub2e4\\uc2dc_\\ub9cc\\ub0a0\",\"\\uba4b\\uc9c0\\uac8c\",\"\\uc78a\\uc5b4\\ubc84\\ub824\",\"\\uce5c\\uad6c\\ub4e4\",\"\\ub54c\\uac00\",\"\\uc6b0\\ub294\",\"\\ub108\\ubb34\\ub108\\ubb34\",\"\\ub2f9\\uc2e0\\uc758\",\"\\ud5c8\\ub098\",\"\\uc774\\uc81c_\\uc640\\uc11c\",\"\\uc6c3\\uc74c\\uc774\",\"\\uc88b\\uc740_\\uac78\",\"\\uc138\\uc0c1\\uc758\",\"\\ucc28\",\"\\uc774\\ub7ec\\ub2e4\",\"special\",\"\\uc54a\\ub3c4\\ub85d\",\"\\ud55c\\ucc38\\uc744\",\"\\ub208\\uc744_\\uac10\\uc544\",\"Stay_with\",\"a_bad\",\"lonely_lonely\",\"\\uc608\\uc058\\uac8c\",\"\\uc0ac\\ub791\\uc2a4\\ub7f0\",\"\\uac70\\ub77c\",\"\\ub5a8\\uc5b4\\uc838\",\"\\ub098\\uac00\",\"\\uc548\\uace0\\uc11c\",\"\\ub0b4_\\ub9d8\\ub3c4\",\"\\ub178\\ub798\\uac00\",\"\\uc9c0\\ub098\\uba74\",\"\\uc5c6\\uc73c\\ub2c8\",\"\\ube5b\\uc73c\\ub85c\",\"\\uc2f6\\uc5b4\\uc694\",\"how_we\",\"\\ub05d\\uc740\",\"\\uc54c_\\uac83\",\"\\uc544\\ubb34_\\uac83\\ub3c4\",\"\\ud574\\uac00\",\"\\uc774_\\ub178\\ub7a0\",\"\\uc774_\\ub178\\ub798\",\"\\uc7a0\\uc2dc\\ub9cc\",\"\\uadf8_\\uc0ac\\ub78c\\uc774\",\"\\ub2ec\",\"\\ubd88\\uc548\\ud55c\",\"Over\",\"the_boys\",\"sa\",\"\\ub300\",\"\\ub0b4\\uac00_\\ubbf8\\uccd0\",\"\\ub9d0\\uc5c6\\uc774\",\"\\uc0c1\\uc0c1\",\"\\uc11c\",\"\\uac08\\uc218\\ub85d\",\"hit\",\"\\ud574\\uc11c\",\"\\ub420\\uae4c\",\"\\ucda4\\uc744_\\ucdb0\",\"\\ud0c0\\ub294\",\"\\uadf8\\ub9cc_\\uc880\",\"\\uc5c6\\ub2c8\",\"the_king\",\"\\ud0a4\\ubbf8\\ub2c8\",\"dot_dot\",\"Listen_to\",\"\\ubcfc_\\uc218\\uac00\",\"\\ub5a0\\ub0a0\",\"\\ub290\\ub07c\\ub294\",\"\\uc6c3\\uace0_\\uc788\\ub294\",\"\\uc21c\\uac04\\uc5d0\",\"Rap\",\"\\uc368\",\"\\uafc8\\uafd4\\uc654\\ub358\",\"\\uc5b8\\uc81c\\ub4e0\",\"every_night\",\"\\ud0c0\",\"\\ubabb_\\ucc38\\uaca0\\uc5b4\",\"You_were\",\"Break_It\",\"got_nothin\",\"doing\",\"\\ubc1d\\uac8c\",\"\\uadf8\\ub7ec\\ub2c8\\uae4c\",\"\\ub0a0\\uc744\",\"\\uc544\\uce68\\uc774\",\"\\ub9e4\\uc77c\\uac19\\uc774\",\"\\ubc14\\ub78c\\uc5d0\",\"\\ub9d0\\ub77c\\uace0\",\"All_right\",\"power\",\"this_time\",\"\\ub188\",\"Good_night\",\"Ka_CHING\",\"\\uc788\\uc5c8\\uc9c0\",\"\\uc54c\\uba74\\uc11c\",\"Just_like\",\"\\ubd80\\ub974\\ub294\",\"\\ube48\",\"\\ubcc0\\ud55c\",\"\\ud558\\ub098\\ub85c\",\"flow\",\"\\uc0ac\\ub791\\ud55c\\ub2e4\\ub294\",\"Y\",\"\\uadf8\\ub7f4\",\"\\ubcf4\\ub358\",\"\\uc5d0\",\"\\uadf8\\ub798\\uc57c\",\"\\uc720\\ub09c\\ud788\",\"\\uc0ac\\ub791\\ud560\\uac8c\",\"\\ub108\\ub2c8\\uae4c\",\"talk\",\"Hot_Hot\",\"\\ub2c8_\\uc0dd\\uac01\\uc5d0\",\"\\uae68\\uc6cc\",\"du_du\",\"Dumb_Dumb\",\"\\ucee4\\ub2e4\\ub780\",\"\\ub208\\ube5b\\uc73c\\ub85c\",\"\\ub728\\uac70\\uc6cc\",\"\\uc54a\\uc744\\uae4c\",\"do_what\",\"\\uae30\\uc5b5\\uc740\",\"\\uac80\\uc740\",\"\\uac00\\uc9c0\\uace0\",\"\\ubc14\\ub78c\\ucc98\\ub7fc\",\"follow_me\",\"said\",\"\\uac04\\uc808\\ud788\",\"Luv\",\"One_more\",\"e_e\",\"yan\",\"\\ub0b4_\\uc0b6\\uc758\",\"\\uc0dd\\uac01\\ud588\\uc5b4\",\"\\uadf8\\ub807\\uac8c\\ub3c4\",\"\\ub108\\ubb34_\\ub9ce\\uc544\",\"\\uc138\\uc0c1\\uc5d0\\uc11c\",\"\\uae30\\ub3c4\",\"\\uc6b0\\ub9ac_\\uc11c\\ub85c\",\"\\uc6b0_\\uc6b0\",\"\\ub098\\ub97c_\\ub3cc\\uc544\\ubd10\",\"\\uc774\\uac70\",\"\\ub204\\uad74\",\"\\uba40\\uc5b4\\uc838\",\"\\ube44\\ubc00\",\"\\ub108\\ubb34_\\uc544\\ub984\\ub2e4\\uc6b4\",\"\\uc788\\uc73c\\ub2c8\\uae4c\",\"\\uc5ec\\uc794\",\"\\ubd84\\uc704\\uae30\",\"last\",\"\\ubc1c\\uac78\\uc74c\",\"\\uac04\\uc808\\ud55c\",\"my_hand\",\"more_than\",\"\\ub2e4\\uc2dc_\\uc2dc\\uc791\\ud574\",\"shine\",\"Man\",\"\\ud558\\ub098\\ubd80\\ud130_\\uc5f4\\uae4c\\uc9c0\",\"le\",\"\\uadf8\\ub0e5_\\uc774\\ub300\\ub85c\",\"\\ud558\\ub098\\uc758\",\"\\ub098\\ub97c_\\ub5a0\\ub098\",\"\\ubcf4\\ub0b8\",\"\\ud5a5\\uae30\\uac00\",\"\\uc870\\uc2ec\\uc2a4\\ub808\",\"\\ud06c\\ub9ac\\uc2a4\\ub9c8\\uc2a4\",\"\\ub204\\uad6c\\ub77c\\ub3c4\",\"\\ub4a4\\uc5d0\\uc11c\",\"\\ubaa8\\ub97c\",\"\\uc0c1\\ucc98\\uac00\",\"Fire\",\"your_smile\",\"\\uc548\\uace0_\\uc2f6\\uc5b4\",\"\\ubcf4\\uace0\\uc2f6\\uc5b4\",\"should\",\"\\ubc14\\ub77c\\ubcf4\\uace0\",\"will_never\",\"\\uc0ac\\ub791\\ud558\\ub2c8\\uae4c\",\"\\uc815\\uc2e0\",\"\\ud798\\ub4e4\\uc5b4\\ub3c4\",\"\\uc5bc\\uad74\\uc5d0\",\"\\uacf3\\uc5d0\\uc11c\",\"\\uc0b6\\uc774\",\"\\uc774\\uc81c\\uaecf\",\"\\uad6c\\ub984\",\"\\ub208\\uce58\",\"Night\",\"\\uc3df\\uc544\\uc9c0\\ub294\",\"really_really\",\"try_again\",\"Sorry_Sorry\",\"\\uac10\\uace0\",\"\\uc628_\\uc138\\uc0c1\\uc774\",\"had\",\"\\ub0b4\\uc0ac\\ub791\",\"God\",\"\\ub9d8\\uc18d\\uc5d0\",\"\\ube60\\ub974\\uac8c\",\"\\ub0b4_\\uacc1\\uc73c\\ub85c\",\"\\ub110_\\ubcf4\\ub0bc\",\"two\",\"\\uc5ec\\ub984\",\"\\uc774\\ub984\\uc744\",\"Be_my\",\"\\ub208\\ubd80\\uc2dc\\uac8c\",\"\\uc5b5\\uc9c0\\ub85c\",\"\\uc544\\ub2cc_\\ucc99\",\"\\uc774\\uc720\\ub97c\",\"\\uc788\\ub124\",\"\\uc194\\uc9c1\\ud558\\uac8c\",\"\\ud750\\ub974\\uace0\",\"\\uafc8\\uc18d\\uc5d0\\uc11c\",\"\\uc0b6\\uc740\",\"\\ud560\\uac70\\uc57c\",\"Two\",\"\\uc0ac\\uc774\\uc5d0\",\"Still\",\"\\ub208\\uc774_\\ubd80\\uc2e0\",\"\\uae4c\\ub9cc\",\"\\ubb50\\uac00_\\uadf8\\ub9ac\",\"\\ub098\\ub85c\",\"Every_time\",\"\\ub0b4_\\uc804\\ubd80\\ub97c\",\"\\uac83_\\uac19\\uc560\",\"fool\",\"Sweet\",\"\\ub208\\uc744_\\ub5c4\",\"hard\",\"before\",\"\\uac00\\ub294\\ub370\",\"\\uc5c6\\uc744\",\"times\",\"\\uc624\\ub298\\uc744\",\"\\ub098\\uc640_\\uac19\\uc740\",\"\\ucc98\\uc74c\\uc774\\uc57c\",\"Bye_bye\",\"Just_let\",\"\\ub204\\uac00_\\ubb50\\ub77c\",\"without\",\"\\ub77c\\uace0\",\"\\ub180\\ub77c\",\"NO_NO\",\"Bring_the\",\"Only_one\",\"Genie_for\",\"\\uc0ac\\ub791\\ud558\\uace0_\\uc2f6\\uc5b4\",\"\\uafc8\\uafb8\\ub358\",\"pretty\",\"\\uac10\\uc0ac\\ud574\",\"\\uc774\\ubcc4\\uc758\",\"little\",\"\\ucc44\\uc6cc\",\"\\uc6a9\\uae30\\ub97c\",\"\\ud130\\uc9c8_\\uac83\",\"\\ub611\\uac19\\uc774\",\"\\uc88b\\uc740\\ub370\",\"\\uc6b0\\ub9ac\\ub4e4\",\"top\",\"\\ub3cc\\uc544\\ubd10\",\"\\uc783\\uc740\",\"Gonna\",\"Remember\",\"gonna_get\",\"alive\",\"\\uc774_\\uae30\\ubd84\",\"ji\",\"You_Got\",\"minute\",\"dao\",\"\\uc9c4\\uc815\",\"\\uc54a\\uc744\\uac70\\uc57c\",\"\\uc788\\ub294_\\uac74\",\"Think_about\",\"your_name\",\"\\ubc14\\ubcf4\\uac00\",\"\\uc774_\\ubc24\\uc758\",\"No_matter\",\"\\ub9cc\\uc57d\",\"\\ub208\\uc740\",\"\\uc704\",\"\\ub2e4\\uac00\\uc640\\uc11c\",\"\\ub144\",\"\\ubbf8\\ub828\",\"One_two\",\"\\ubd80\\uc871\\ud574\",\"\\uac70\\uc608\\uc694\",\"\\uac70\\ub77c\\uba74\",\"\\uaf43\",\"di\",\"\\uac08\\uac8c\",\"god\",\"\\ub2c8_\\uc55e\\uc5d0\",\"\\uc7a0\\uae50\\ub9cc\",\"did\",\"\\ubcf4\\ub2e4_\\ub354\",\"\\uc608\\uc804\\uc5d0\",\"\\ubd80\\uc871\\ud55c\",\"pop\",\"\\uc790\\uc2e0\",\"\\uc228\\uaca8\\uc654\\ub358\",\"walk\",\"\\uc5f4\\uc5b4\",\"\\ub108\\ub9cc\\uc740\",\"burn\",\"I_would\",\"\\uc65c_\\uc774\\ub7ec\\ub2c8\",\"one_for\",\"LA_LA\",\"Rally_Rally\",\"dou\",\"\\uc788\\uae30\\uc5d0\",\"black\",\"\\ub290\\ub07c\\uace0\",\"\\ubd88\",\"\\ubd88\\uc744\",\"\\ud560_\\uc218\\uac00\",\"\\uac08\\ub798\",\"\\ubcf4\\uc774\\uc9c0_\\uc54a\\ub294\",\"\\uce5c\\uad6c\\ub4e4\\uc774\",\"\\ubcf4\\ub0b4\\uace0\",\"\\ud754\\ub4e4\\uc5b4\\ubd10\",\"\\ubaa8\\ub974\\ub294_\\ucc99\",\"\\uadf8\\uacf3\\uc5d0\",\"\\uac83_\\uac19\\uc740\\ub370\",\"end\",\"\\ud798\\uaecf\",\"Star\",\"angel\",\"stand\",\"\\uc54c_\\uc218\\uac00\",\"\\uac00\\uc9c8\",\"\\uacc1\\uc5d0_\\uc788\\uc5b4\",\"\\ubc84\\ub9b4\",\"\\uc5b4\\uca54_\\uc218\\uac00\",\"\\uc8fc\\uace0_\\uc2f6\\uc5b4\",\"\\ubbff\\uc9c0\",\"\\uadf8\\ub3d9\\uc548\",\"DJ\",\"\\uc5c6\\ub2e4\\ub294_\\uac78\",\"\\uc6b8\\ub9ac\\ub294\",\"\\uc190\\uc744_\\uc7a1\\uc544\\uc918\",\"\\uc0b6\\uc758\",\"\\uac00\\uc694\",\"\\uc2dc\\uc120\\uc774\",\"\\ud558\\ub8e8\\uc5d0\",\"\\ub108\\uc758_\\uacc1\\uc5d0\\uc11c\",\"\\ucd94\\uc5b5\\uc5d0\",\"\\uc9c0\\ucf1c\\uc904\\uac8c\",\"\\ub108\\ubfd0\\uc774\\uc57c\",\"\\ub9e8\\ub0a0\",\"Ooh_ooh\",\"another\",\"D\",\"\\uc6b0\\ub9ac\\uc5d0\\uac8c\",\"gave\",\"\\uc0ac\\uc774\\ub85c\",\"\\uc54c\\uc9c0\\ub9cc\",\"\\ud558\\uba74\\uc11c\",\"\\uc5ec\\uae30\\uae4c\\uc9c0\",\"m\",\"\\uc78a\\uc744_\\uc218\\uac00\",\"yourself\",\"\\ucda9\\ubd84\\ud574\",\"\\uc774\\ub9ac\\uc800\\ub9ac\",\"\\ub2e4\\uac00\\uc628\",\"Put_your\",\"\\uc5c6\\uc73c\\uba74\",\"\\ubaa8\\uc5ec\",\"\\ub2a6\\uc740\",\"\\uadf8\\uc758\",\"\\uc788\\uc5c8\\ub358\",\"Style\",\"\\ub418\\uace0_\\uc2f6\\uc5b4\",\"my_style\",\"low\",\"jiu\",\"Light_Light\",\"\\ud558\\ub098\\uac00\",\"\\ubd10\\ub77c\",\"\\uc77c\\uc740\",\"\\uc2ac\\ud514\\uc740\",\"\\ubbf8\\uc18c\\uc5d0\",\"\\uc5c6\\uc744\\uac70\\uc57c\",\"\\ud5a5\\uae30\\uc5d0\",\"\\ub5a8\\ub824\\uc640\",\"falling\",\"\\uba38\\ub9bf\\uc18d\\uc5d0\",\"\\uba40\\ub9ac_\\uba40\\ub9ac\",\"\\uac00\\uc838\",\"\\uc0ac\\ub791\\ud558\\uac8c\",\"\\uc0b4\\uc544\\uac00\\ub294\",\"\\ud754\\ub4e4\\ub824\",\"\\uc77c\\ub2e8\",\"\\uacf3\\uc740\",\"\\uadf8\\ub7f4_\\uc218\",\"\\uc5b4\\ub5a1\\ud574_\\uc5b4\\ub5a1\\ud574\",\"Want_you\",\"\\ub0b4\\uac8c_\\ub9e1\\uaca8\",\"\\uc900\\ube44\\ud55c\",\"\\ub098\\ub2c8\\uae4c\",\"\\uad1c\\ud55c\",\"\\ub108\\ubb34_\\uc544\\ud30c\",\"\\uc628_\\uc138\\uc0c1\\uc744\",\"C\",\"\\ub300\\uccb4_\\uc65c\",\"\\ubbf8\\ub85c\",\"\\ub208\\uc744_\\ub5a0\",\"Ha_Ha\",\"i_ll\",\"ay\",\"Hey_boy\",\"Hands_up\",\"\\uc904\\uaed8\",\"\\ub204\\uad6c\",\"\\ubbff\\uc5c8\\ub358\",\"\\ub108\\uc758_\\ubaa9\\uc18c\\ub9ac\",\"\\uc788\\uaca0\\ub2c8\",\"Ya\",\"\\uac8c_\\uc544\\ub0d0\",\"\\uc0dd\\uac01\\ud558\\ub294\",\"\\ub3d9\\uc548\",\"\\ub9dd\\uc124\\uc774\\uc9c0_\\ub9d0\\uace0\",\"\\ubd80\\ub4dc\\ub7fd\\uac8c\",\"\\uac10\\uc2f8\",\"\\ubcf4\\uc9c0\",\"\\ud30c\\ub3c4\",\"\\ubc1c\",\"\\ub179\\uc544\",\"Story\",\"\\ub208_\\uc55e\\uc5d0\",\"\\ub0b4_\\uc548\\uc758\",\"\\uc2f6\\uc9c0_\\uc54a\\uc544\",\"\\ud0dc\\uc591\",\"\\ubbf8\\ub798\\ub97c\",\"\\uc9c0\\ub294\",\"\\ud658\\ud55c\",\"\\ub9d8\\uc73c\\ub85c\",\"\\ud798\\ub4e4\\uc5c8\\ub358\",\"\\ubb34\\uc2a8_\\ub9d0\\uc744\",\"\\uc0ac\\ub791\\ud55c\\ub2e8\",\"\\uae30\\uc5b5\\ub4e4\",\"\\uadf8\\ub304_\\ub098\\uc758\",\"\\uc785\\uc220\\uc744\",\"\\ud560_\\ub54c\",\"\\ub784\\ub784\\ub77c\",\"\\uae30\\ub2e4\\ub9ac\\uace0\",\"\\ub9f4\\ub3cc\\uc544\",\"\\uc26c\\uc6b4\",\"\\uc2f6\\ub2e4\",\"Get_out\",\"\\ubd89\\uc740\",\"\\ub0b4\\uac8c\\ub9cc\",\"okay\",\"\\ub2ec\\uc774\",\"\\ub0b4\\ub9b0\",\"\\uc798\\ub09c\",\"tears\",\"\\uac00\\ub124\",\"\\ubb50\\ub4e0\\uc9c0\",\"\\uc2b5\\uad00\\ucc98\\ub7fc\",\"\\uc2a4\\uce58\\ub294\",\"Ye\",\"\\ub2e4\\ub974\\uac8c\",\"\\ub208\\uc73c\\ub85c\",\"\\uc624\\uc624\\uc624\",\"\\ub9d0\\ud560\",\"\\ub108\\uc758_\\ubbf8\\uc18c\",\"\\uc9c0\\ub098\\ub3c4\",\"such_a\",\"\\ub098\\uc778\\ub370\",\"\\ud558\\uc8e0\",\"\\uac10\\ud788\",\"\\uc54a\\uc9c0\\ub9cc\",\"Feel_so\",\"\\uadf8\\uac00\",\"\\uc544\\ub098\\uc694\",\"\\uc18c\",\"to_hold\",\"\\uc544\\ubb34\\ub807\\uc9c0_\\uc54a\\uac8c\",\"i_need\",\"\\uc2eb\\ub2e4\",\"Ay\",\"\\uc228_\\uc274\",\"and_again\",\"M\",\"\\uac78\\uc5b4\\uac00\",\"bang_bang\",\"the_moon\",\"\\ub9cc\\ub098\\uc11c\",\"out_loud\",\"\\ubb34\\ub108\\uc838\",\"\\uc0dd\\uac01\\ud558\\uace0\",\"\\uc5b4\\uca4c\\ub098\",\"\\uc5b4\\ub460_\\uc18d\\uc5d0\",\"\\uc11c_\\uc788\\uc5b4\",\"\\uc624\\uace0\",\"bring_the\",\"\\uaebc\\ub0b4\",\"\\ubcf4\\uc5ec\\ub3c4\",\"GIRL\",\"L\",\"\\uac70\\uc9c0\",\"\\ub4e4\\ub9ac\\ub294\",\"\\uc5c6\\uc744_\\uac70\\uc57c\",\"\\uac70\\ub9ac\\ub97c\",\"\\ub9cc\\ub098\\ub3c4\",\"\\ub098\\ub97c_\\uc548\\uc544\\uc918\",\"\\ub2ff\\uc744_\\uc218\",\"place\",\"\\uc88b\\uc544\\uc694\",\"\\ubcf4\\uace0_\\uc2f6\\uc740\\ub370\",\"\\ub108\\ub9cc\\uc744_\\uc0ac\\ub791\\ud574\",\"\\uc788\\uc5b4\\uc11c\",\"even\",\"why_why\",\"\\ube5b\\ub098\",\"\\ub110_\\uc9c0\\ucf1c\\uc904\\uac8c\",\"EASY_GO\",\"\\ub9c8\\uc74c\\ub9cc\",\"well\",\"right_here\",\"\\ubbf8\\uc548\\ud574\\uc694\",\"\\uadf8\\ub54c\\ub294\",\"l\",\"S\",\"\\ubc18\\ud574\",\"\\ubabb\\ud588\\ub358\",\"\\ud655\",\"\\ub611\\ubc14\\ub85c\",\"\\ub3cc\\uc544\\uc62c\",\"\\ub098\\ub098\\ub098\",\"fantasy\",\"\\ub9e4\\ub825\",\"\\ub3fc\\uc694\",\"I_swear\",\"Everything_s\",\"\\uc65c\\uc774\\ub798\",\"hoo_hoo\",\"Come_back\",\"summer\",\"bad_boy\",\"\\ubaa8\\uc6b0\",\"Somebody_help\",\"\\uce5c\\uad6c\\uc57c\",\"\\uc18c\\ub9ac_\\uc5c6\\uc774\",\"\\uc14b\",\"\\ucda4\\uc744\",\"\\ub41c\\ub2e4\\uba74\",\"\\uc9c0\\uc6b0\\uace0\",\"\\uc55e\\uc744\",\"\\ucd08\\ub77c\\ud55c\",\"\\uc608\\uc804\\ucc98\\ub7fc\",\"\\uacf3\\uc73c\\ub85c\",\"\\uc9c4\\uc2ec\\uc744\",\"\\ubb3c\\uc5b4\",\"\\uc9d1\",\"All_Night\",\"\\uaf43\\uc774\",\"\\uac70\\ubd80\\ud560_\\uc218\",\"Tell_Me\",\"\\uc798_\\ubab0\\ub77c\",\"\\uc6b0\\ub9ac_\\ub458\\uc758\",\"No_More\",\"the_girls\",\"ready_or\",\"too_late\",\"We_gon\",\"\\uc2ec\\uc7a5\\uc740\",\"\\ucc3e\\uace0\",\"\\uc774\\ud574\\ud560_\\uc218\",\"\\uc21c\\uac04\\ubd80\\ud130\",\"From\",\"\\ub208\\ube5b\\uc740\",\"wake_up\",\"lies\",\"\\ubbff\\uc744_\\uc218\\uac00\",\"\\ud568\\uaed8\\ub77c\\uba74\",\"ME\",\"\\ub3cc\\uc544\\uc11c\\ub294\",\"\\uae4a\\uac8c\",\"\\uc2eb\\uc740\",\"\\ud558\\ub8e8\\ub9cc\",\"They\",\"\\uc654\\ub2e4_\\uac14\\ub2e4\",\"\\ub05d\\uc5d0\\uc11c\",\"\\uc774\\uc0c1\\ud55c\",\"\\ub098\\uc796\\uc544\",\"\\ud478\\ub978\",\"\\ud588\\uc796\\uc544\",\"\\uc774\\uc81c_\\ub354\\ub294\",\"\\uc548_\\ub418\\ub294\",\"\\ubfd0\\uc778\\ub370\",\"my_soul\",\"Sexy\",\"\\ubb58_\\ud574\\ub3c4\",\"\\ub2ec\\ucf64\\ud574\",\"\\ub098\\ub9cc_\\ubc14\\ub77c\\ubd10\",\"Na\",\"\\uace0\\uac1c\\ub97c\",\"\\ub3cc\\uc544\\uc11c\",\"\\ubc14\\ubcf4\\uac19\\uc740\",\"\\uace0\\ubc31\\uc744\",\"\\uacf3\\uc744\",\"\\ud63c\\uc790\\uac00\",\"\\ub418\\uc9c0\",\"\\ub108\\uc796\\uc544\",\"\\uc9c0\\ucf1c\\uc904\",\"\\uc5b4\\ub9ac\\uc11d\\uc740\",\"\\ubcc0\\ud568\\uc5c6\\uc774\",\"\\ubc14\\uafd4\",\"\\ud544\\uc694\",\"Hold_me\",\"\\uc8fc\\uaca0\\ub2c8\",\"yeh\",\"\\uc5f4\",\"wrong\",\"High\",\"so_crazy\",\"Hoo\",\"kimi_no\",\"\\uac14\\uc5b4\",\"\\uc608\\uc804\\uc758\",\"dance_floor\",\"\\ubcc0\\ud588\\uc5b4\",\"\\uc5c6\\uc5c8\\uc9c0\",\"\\ud558\\ub8e8_\\ud558\\ub8e8\",\"\\uc790\\uae30\",\"\\uadf8\\ub308_\\uc704\\ud574\",\"\\ub0b4\\uac00_\\uc6d0\\ud55c\",\"\\uc800\\uae30_\\uc800\",\"heaven\",\"try_to\",\"\\uc0b4\\uc544\\uac00\",\"\\uc7a0\\uc744\",\"maybe\",\"\\uc790\\uc874\\uc2ec\",\"hate_you\",\"never_gonna\",\"\\uc120\",\"\\ub9d8\\ub300\\ub85c\",\"Are\",\"Feeling\",\"Shawty_Shawty\",\"rang_wo\",\"Play\",\"\\uadc0\\uc5ec\\uc6b4\",\"\\ub9d0\\ud588\\uc9c0\",\"\\uadf8\\ub97c\",\"\\uae30\\ub2e4\\ub9ac\\uace0_\\uc788\\uc5b4\",\"\\uc548\\ub3fc\\uc694\",\"\\ub4dc\\ub514\\uc5b4\",\"didn_t\",\"\\uc774\\ub7ec\\ub2e4\\uac00\",\"\\uc774\\uc720\\ub85c\",\"\\ub194\",\"\\ub108\\uc758_\\uc9d1\",\"\\ub450\\uadfc\\ub300\\ub294\",\"\\uc5b4\\ub824\\uc6cc\",\"\\uc544\\ud514\\ub3c4\",\"\\uc7a5\\ub09c\",\"the_things\",\"\\uac07\\ud78c\",\"\\uc794\\uc778\\ud55c\",\"\\ubd80\\ud0c1\\ud574\",\"\\ub9d8\\uaecf\",\"\\ub530\\ub77c_\\ud574\\ubd10\\uc694\",\"B_B\",\"\\ud3ec\\uae30\\ud560_\\uc218\",\"\\ud587\\uc0b4\",\"I_promise\",\"\\ub9d0\\ud558\\uace0_\\uc2f6\\uc5b4\",\"hate\",\"\\uadf8\\uac8c_\\ubc14\\ub85c\",\"\\uadf8\\ub807\\uc9c0\",\"\\uc544\\ub2c8\\uc796\\uc544\",\"must_be\",\"\\ub192\\uc740\",\"\\uadf8\\ub824\",\"\\uc801\",\"today\",\"\\uc0ac\\ub791\\uc5d0_\\ube60\\uc9c4\",\"\\ub0a0\\ub3c4\",\"\\uc190\\uc744_\\uaf2d\",\"\\ub193\\uc9c0\",\"miss\",\"\\uac78\\uc694\",\"\\ub2ec\\ube5b\",\"into_the\",\"\\uac15\\ud55c\",\"ooh_yeah\",\"Talk_about\",\"\\uc218\\uac00_\\uc5c6\\ub294\",\"\\uc218\\uc90d\\uac8c\",\"Think\",\"\\ubab8\\uc5d0\",\"Bounce\",\"It_Up\",\"party_tonight\",\"BEEP_BEEP\",\"\\ub098_\\uc5ed\\uc2dc\",\"\\ubc14\\ub77c\\ubcf4\\ub358\",\"\\uc9d9\\uc740\",\"goes\",\"\\uc2dc\\uac04\\uc18d\\uc5d0\",\"\\uc790\\uc2e0\\uc774_\\uc5c6\\uc5b4\",\"Turn\",\"\\uac70\\ub2c8\\uae4c\",\"\\uac8c\\uc784\",\"\\uc2dc\\uc791\\ub41c\",\"\\ube4c\\uc5b4\",\"\\ucc2c\\ub780\\ud55c\",\"\\uacc4\\uc18d\\ud574\\uc11c\",\"\\ud488\\uc5d0\\uc11c\",\"\\ub208_\\uc18d\\uc5d0\",\"\\uc6b4\\uba85\",\"\\uba48\\ucd94\\uc9c0_\\uc54a\\uc544\",\"Paradise\",\"\\uace0\\uac24\",\"\\uc785\\uc744\",\"Cry\",\"\\ub3cc\\uc544\\uc640_\\ub3cc\\uc544\\uc640\",\"Yeh\",\"\\ub098\\ube60\",\"\\ub4e4\\uc744_\\uc218\",\"\\uc544\\ub2c8\\ub77c\",\"\\ub178\\ub798\\ub97c\",\"\\uc65c_\\uadf8\\ub9ac\",\"\\ucd94\\uc5b5\\uc740\",\"\\uc544\\ud514\\uc774\",\"\\ud558\\uaca0\\uc9c0\",\"Why_Why\",\"\\uc5b4\\ub518\\uac00\",\"\\uc774\\ud574\\ud574\",\"\\uc5c6\\ub294\\uc9c0\",\"\\ucf54\",\"\\uc218\\ub294_\\uc5c6\\uc5b4\",\"shake\",\"\\uc5c6\\uae30\\uc5d0\",\"\\ub2f9\\ub2f9\\ud558\\uac8c\",\"DON_T\",\"\\uc139\\uc2dc\\ud55c\",\"\\uc54a\\uae38\",\"\\ud3bc\\uccd0\\uc9c4\",\"\\uba48\\ucd98\",\"\\ud589\\ubcf5\\ud560_\\uc218\",\"\\ubabb\\ud574\\ub3c4\",\"\\ubab8\\uc9d3\",\"\\uae38\\uc740\",\"\\uc228\\uc26c\\ub294\",\"\\ub9d8\\ub3c4\",\"\\uc5c6\\uc744_\\ub9cc\\ud07c\",\"\\ub5a8\\uc5b4\\uc9c0\\ub294\",\"\\uc11c\\uba74\",\"\\uac78\\uace0\",\"\\uc9c0\\ud0ac\\uac8c\",\"\\uc798_\\uc54c\\uc796\\uc544\",\"\\ub098\\uc640_\\uac19\\uc774\",\"come_true\",\"Do_It\",\"to_stay\",\"Touch_me\",\"\\ub2c8\\uac00_\\uba3c\\uc800\",\"With_You\",\"Without_you\",\"perfect\",\"\\uc18c\\uc6b0\",\"Day_by\",\"\\uc5ec\\ub9b0\",\"\\ub108\\ud76c\\ub4e4\\uc758\",\"till_the\",\"\\ud568\\uaed8_\\ud588\\ub358\",\"\\uc54a\\uc796\\uc544\",\"\\uae4c\\ub9e3\\uac8c\",\"\\uc2ac\\ud37c\",\"\\uc218\\uc5c6\\uc774\",\"them\",\"easy\",\"\\uae4c\\uc9c0\",\"\\uc74c\\uc545\\uc774\",\"\\uadf8_\\ub3d9\\uc548\",\"\\uad00\\uc2ec\",\"miss_you\",\"\\ub178\\ub7a0\",\"\\ub098\\uc5d0\\uac8c\\ub85c\",\"\\ub108\\ud55c\\ud14c\",\"sun\",\"\\ud568\\uaed8\\ud574\",\"\\uc544\\ub2d0\\uae4c\",\"save_me\",\"\\uc601\\ud654\\ucc98\\ub7fc\",\"a_dream\",\"\\uc624\\ub298_\\ubc24\\uc740\",\"\\ubb50\\ub2c8\",\"Fantasy\",\"Three_Four\",\"xi\",\"BANG_BANG\",\"\\ub5a0\\uc624\\ub974\\ub294\",\"\\ub204\\uad70\\uac00\\uac00\",\"\\uc228\\uacb0\",\"\\uac00\\ub054\\uc529\\uc740\",\"\\uae30\\ub098\\uae34\",\"\\ucda4\\ucd94\\ub294\",\"\\uba38\\ub9b4\",\"\\ub9de\\ub294\",\"\\ubcfc_\\ub54c\\ub9c8\\ub2e4\",\"\\uae30\\ub2e4\\ub838\\ub358\",\"\\uc0ac\\uc18c\\ud55c\",\"\\uae30\\ubd84\\uc740\",\"\\ub2ec\\ub77c\\uc9c4\",\"\\uc138\\uc0c1_\\uc18d\\uc5d0\",\"\\uc785\\uace0\",\"\\ud55c_\\uc21c\\uac04\\ub3c4\",\"feelin\",\"never_give\",\"\\ub290\\ub08c\\uc774_\\uc640\",\"love_song\",\"\\ub9e4\\uc77c\\uc774\",\"breathe\",\"\\uc5ec\\uae30_\\uc5ec\\uae30\",\"Hate_you\",\"shou\",\"jian\"],\"word\":[\"you\",\"\\ub09c\",\"I\",\"\\ub0b4\",\"\\ub0a0\",\"\\ub110\",\"love\",\"me\",\"\\ub0b4\\uac00\",\"\\ub098\",\"\\ub10c\",\"baby\",\"\\uadf8\",\"\\ub108\\uc758\",\"Oh\",\"\\ub098\\ub97c\",\"I_m\",\"\\ub108\\ub97c\",\"it\",\"to\",\"\\ub098\\uc758\",\"\\ub108\",\"\\ub2e4\",\"\\ub610\",\"my\",\"\\ub354\",\"oh\",\"\\ub0b4\\uac8c\",\"and\",\"Baby\",\"\\ub098\\ub294\",\"\\uc5c6\\uc5b4\",\"\\ub2c8\\uac00\",\"\\uc774\\uc820\",\"\\uc65c\",\"\\ub2e4\\uc2dc\",\"girl\",\"the\",\"You\",\"\\uadf8\\ub300\",\"\\uc774\",\"\\uc774\\uc81c\",\"\\ub124\",\"\\uc6b0\\ub9ac\",\"\\uac78\",\"\\uc5c6\\ub294\",\"\\uc788\\uc5b4\",\"\\ub108\\ubb34\",\"\\uc774\\ub807\\uac8c\",\"don_t\",\"\\ud574\",\"\\ub124\\uac00\",\"\\uc9c0\\uae08\",\"oh_oh\",\"go\",\"yeah\",\"\\ubaa8\\ub450\",\"know\",\"\\ub2c8\",\"\\uc815\\ub9d0\",\"s\",\"up\",\"\\ub108\\ub294\",\"a\",\"Yeah\",\"\\ubd10\",\"\\uc0ac\\ub791\",\"\\uac70\\uc57c\",\"on\",\"now\",\"for\",\"It_s\",\"\\uadf8\\ub798\",\"be\",\"\\ub108\\uc640\",\"that\",\"\\uc0ac\\ub791\\uc744\",\"\\ub9d0\",\"\\uc5b8\\uc81c\\ub098\",\"Don_t\",\"\\uc774\\ub7f0\",\"like\",\"\\uc788\\ub294\",\"\\uadf8\\ub807\\uac8c\",\"\\ub108\\uc5d0\\uac8c\",\"\\ub3fc\",\"Hey\",\"\\uc6b0\\ub9b0\",\"Let_s\",\"\\uc0ac\\ub791\\ud574\",\"no\",\"do\",\"\\uc790\\uafb8\",\"\\ud56d\\uc0c1\",\"\\ubab0\\ub77c\",\"get\",\"\\ud558\\uc9c0\\ub9cc\",\"I_wanna\",\"\\uadf8\\ub7f0\",\"all\",\"I_ll\",\"My\",\"can_t\",\"\\uadf8\\ub0e5\",\"is\",\"\\ub0b4_\\ub9d8\",\"just\",\"\\uc601\\uc6d0\\ud788\",\"\\uac74\",\"what\",\"\\uc880\",\"U\",\"\\uac19\\uc740\",\"Love\",\"\\uc774\\uc81c\\ub294\",\"say\",\"You_re\",\"got\",\"\\uc544\\uc9c1\",\"\\ud55c\",\"\\ud568\\uaed8\",\"Girl\",\"\\uc54a\\uc544\",\"can\",\"\\ub9c8\\uc74c\",\"So\",\"your\",\"\\uc81c\\ubc1c\",\"\\ub9e4\\uc77c\",\"Oh_Oh\",\"And\",\"feel\",\"\\ub098\\ub3c4\",\"you_re\",\"Just\",\"with\",\"\\uc88b\\uc544\",\"I_want\",\"time\",\"in\",\"of\",\"\\ub0b4_\\ub9d8\\uc744\",\"\\uc774\\ubbf8\",\"\\uc624\",\"\\uac19\\uc544\",\"\\uac8c\",\"\\ub124\\uac8c\",\"stop\",\"want\",\"\\uc548\",\"so\",\"boy\",\"\\uc2f6\\uc5b4\",\"\\uc0ac\\ub791\\uc774\",\"\\uc5c6\\uc774\",\"\\uc18d\\uc5d0\",\"\\ub54c\",\"\\ubaa8\\ub4e0\",\"\\uc0ac\\ub791\\uc740\",\"\\ub108\\ub9cc\",\"tonight\",\"\\uc0ac\\ub78c\",\"\\ub298\",\"\\uc544\\uc9c1\\ub3c4\",\"\\ub2e4\\ub978\",\"\\uc5b4\\ub5bb\\uac8c\",\"down\",\"\\uc624\\ub298\",\"i\",\"\\uaf2d\",\"\\ubaa8\\uc2b5\",\"I_need\",\"Come_on\",\"\\ubabb\",\"We\",\"\\uc624\\ub298\\ub3c4\",\"\\ub0b4\\uac90\",\"\\ub9d8\",\"\\ub354_\\uc774\\uc0c1\",\"one\",\"\\ub9c8\",\"\\uacc4\\uc18d\",\"\\uac83_\\uac19\\uc544\",\"\\ub098\\uc5d0\\uac8c\",\"we\",\"come_on\",\"\\ud574\\ub3c4\",\"\\uadf8\\ub300\\uac00\",\"\\uc798\",\"\\uadf8\\ub308\",\"No\",\"out\",\"\\ubaa8\\ub4e0_\\uac78\",\"this\",\"\\uc800\",\"back\",\"\\ub9ce\\uc774\",\"see\",\"in_the\",\"\\uc54c\\uc544\",\"\\uadf8\\uc800\",\"\\ubc14\\ub85c\",\"wanna\",\"\\ud558\\ub098\",\"right\",\"hey\",\"la_la\",\"\\uac83\",\"Go\",\"\\uc774\\ub300\\ub85c\",\"\\ub9c8\\uce58\",\"\\ubaa8\\ub450_\\ub2e4\",\"day\",\"\\ud558\\ub294\",\"\\uc788\\uac8c\",\"\\ub108\\ub3c4\",\"\\ubcf4\\uace0\",\"\\uc808\\ub300\",\"\\ubabb\\ud574\",\"let\",\"u\",\"tell_me\",\"\\uc21c\\uac04\",\"\\ub0b4_\\uacc1\\uc5d0\",\"\\uc2dc\\uac04\",\"\\uc5ec\\uae30\",\"What\",\"uh\",\"\\ub108\\uc640_\\ub098\",\"\\uc788\\ub2e4\\uba74\",\"\\uc918\",\"\\ub9d0\\uace0\",\"But\",\"\\uad1c\\ucc2e\\uc544\",\"yo\",\"\\uc2eb\\uc5b4\",\"\\uac19\\uc774\",\"\\ud63c\\uc790\",\"\\uc2dc\\uac04\\uc774\",\"\\ud560_\\uc218\",\"\\ub108\\ubb34\\ub098\",\"\\uc791\\uc740\",\"\\uc790\\uafb8\\ub9cc\",\"your_love\",\"good\",\"\\uc880_\\ub354\",\"\\ubaa8\\ub4e0_\\uac8c\",\"\\ub208\\ubb3c\",\"\\uac00\",\"\\uc544\\ub984\\ub2e4\\uc6b4\",\"\\uc704\\ud574\",\"my_heart\",\"\\uadf8\\ub300\\ub97c\",\"\\uc548\\ub3fc\",\"\\ucc38\",\"but\",\"\\uc624\\uc9c1\",\"only\",\"are\",\"ni\",\"come\",\"Now\",\"night\",\"crazy\",\"\\ub9c8\\uc74c\\uc774\",\"\\ub9d0\\uc744\",\"make\",\"\\uc544\\ub0d0\",\"Let_me\",\"\\uc6d0\\ud574\",\"de\",\"way\",\"\\ubcfc_\\uc218\",\"\\uc6b0\\ub9ac\\uac00\",\"\\ub9d8\\uc744\",\"\\ub098\\ub9cc\",\"\\uac00\\uc2b4\\uc774\",\"Uh\",\"\\uc788\\uc796\\uc544\",\"\\ub9c8\\uc9c0\\ub9c9\",\"take\",\"\\ub2e4\\uac00\\uc640\",\"\\ud560\",\"let_s\",\"show\",\"\\ubc24\",\"t\",\"\\ub4ef\",\"\\ub9ce\\uc740\",\"\\ubcf4\\uba74\",\"Do\",\"\\ud558\\uace0\",\"\\ub9d0\\ud574\",\"\\uc138\\uc0c1\",\"\\ub108\\uc640_\\ud568\\uaed8\",\"in_my\",\"babe\",\"woo\",\"\\uc790\",\"All\",\"\\ub208\\ubb3c\\uc774\",\"do_it\",\"\\ub0b4_\\ub9d8\\uc774\",\"\\ubcf4\\uc5ec\",\"\\uc5b4\\ub5a4\",\"\\uacc1\\uc5d0\",\"You_know\",\"\\uadf8\\ub300\\uc758\",\"like_a\",\"\\ud55c_\\ubc88\",\"\\uc624\\ub298\\uc740\",\"A\",\"\\uadf8\\uac8c\",\"\\uc810\\uc810\",\"\\ud558\\uc9c0\\ub9c8\",\"not\",\"about\",\"\\uadf8\\ub798\\ub3c4\",\"Woo\",\"\\ud639\\uc2dc\",\"\\uc544\\ub2cc\",\"yeah_yeah\",\"Can\",\"ya\",\"\\ub098\\uc640\",\"\\uc640\",\"\\uc544\",\"never\",\"Say\",\"\\uadf8\\ub9ac\\uace0\",\"\\ub2ec\\ucf64\\ud55c\",\"\\ub9c8\\uc74c\\uc744\",\"\\uc5b4\\ub5a1\\ud574\",\"\\ub204\\uac00\",\"let_me\",\"\\uadf8\\ub300\\ub85c\",\"Cause\",\"You_are\",\"Tell_me\",\"\\uc218_\\uc5c6\\uc5b4\",\"\\uc11c\\ub85c\",\"\\ub2e4\\uc2e0\",\"cry\",\"\\ub208\\uc744\",\"\\uc6b0\\ub9ac\\uc758\",\"\\uc5b4\\ub290\\uc0c8\",\"man\",\"\\uadf8\\ub304\",\"why\",\"\\ub208\",\"\\uc88b\\uc740\",\"na_na\",\"\\uc608\\uc05c\",\"\\ubd10\\ub3c4\",\"\\ub098\\ub9cc\\uc758\",\"no_no\",\"\\ub0b4_\\ub9c8\\uc74c\\uc744\",\"\\uc544\\ud508\",\"\\uadf8\\ub9cc\",\"\\uac00\\uc2b4\\uc5d0\",\"\\ub9d8\\uc774\",\"forever\",\"\\uc774\\uac74\",\"need\",\"uh_uh\",\"Get\",\"\\uc27d\\uac8c\",\"\\ub108\\ub97c_\\uc0ac\\ub791\\ud574\",\"\\uc2ac\\ud508\",\"\\uc54c_\\uc218\",\"\\uc0ac\\ub791\\ud558\\ub294\",\"\\uc5bc\\ub9c8\\ub098\",\"\\uc138\\uc0c1\\uc5d0\",\"\\ubbf8\\uc548\\ud574\",\"again\",\"\\uc544\\ub2c8\",\"\\uc9c4\\uc9dc\",\"\\ub530\\ub77c\",\"Everybody\",\"\\ubb50\",\"La_La\",\"heart\",\"Let\",\"Come\",\"\\uadf8\\ub54c\",\"\\ub354\\ub294\",\"woo_woo\",\"\\uc870\\uae08\\uc529\",\"\\uc55e\\uc5d0\",\"\\uae30\\ub2e4\\ub824\",\"wo\",\"\\ud55c\\ubc88\",\"\\uc218\",\"with_me\",\"alright\",\"ma\",\"\\uc544\\ub2c8\\uc57c\",\"\\uc544\\ubb34\\uac83\\ub3c4\",\"\\ub110_\\uc704\\ud574\",\"No_No\",\"\\ub208\\ube5b\",\"The\",\"Yeah_Yeah\",\"\\uc218_\\uc5c6\\ub294\",\"Boy\",\"\\uc0dd\\uac01\\ud574\",\"\\ub9cc\\ud07c\",\"\\uc870\\uae08\",\"\\uc9c0\\uae08_\\uc774\",\"It\",\"eh_eh\",\"\\uc7a0\\uc2dc\",\"\\uba40\\ub9ac\",\"\\ubb58\",\"Ah\",\"it_up\",\"Yes\",\"\\ucc98\\uc74c\",\"\\uc804\\ubd80\",\"\\ubcf4\\ub294\",\"\\uc6b0\\ub9b4\",\"party\",\"\\uc5c6\\uc796\\uc544\",\"\\uc138\\uc0c1\\uc744\",\"life\",\"the_one\",\"I_ve\",\"\\uc788\\uc744\\uae4c\",\"\\uc544\\uc8fc\",\"won_t\",\"\\uc548\\uc5d0\",\"\\uac00\\ub054\",\"\\uadf8\\ub300\\ub294\",\"\\ud588\\uc5b4\",\"\\uc138\\uc0c1\\uc774\",\"the_way\",\"\\uc804\\uc5d0\",\"\\uc5ec\\uc804\\ud788\",\"\\uc5b8\\uc820\\uac00\",\"\\uac70\",\"\\uac00\\ub294\",\"\\ub531\",\"\\uadf8\\ub798\\uc11c\",\"\\uc0ac\\ub791\\uc5d0\",\"\\uc0dd\\uac01\",\"\\ubaa8\\ub4e0\\uac78\",\"body\",\"\\ub108_\\ub54c\\ubb38\\uc5d0\",\"ah_ah\",\"Can_t\",\"my_life\",\"\\uc904\",\"just_wanna\",\"\\ubc84\\ub9b0\",\"give_it\",\"\\ub410\\uc5b4\",\"mine\",\"\\uac74\\uc9c0\",\"\\ub208\\uc774\",\"\\ud588\\ub358\",\"\\uc18c\\uc911\\ud55c\",\"\\ubbff\\uc5b4\",\"\\uae30\\uc5b5\\ud574\",\"\\ub0b4_\\uc548\\uc5d0\",\"ah\",\"Stop\",\"\\ub0b4_\\ub9d8\\uc740\",\"\\ubcf4\\uba70\",\"\\ub550\",\"\\uac00\\uc2b4\",\"\\uc774\\uac8c\",\"\\ub9d8\\uc5d0\",\"\\uc870\\uae08_\\ub354\",\"\\ucc99\",\"One\",\"\\uacb0\\uad6d\",\"\\ub05d\\uae4c\\uc9c0\",\"\\uac70\\uc9d3\\ub9d0\",\"the_night\",\"lady\",\"gonna\",\"\\ub610_\\ub2e4\\ub978\",\"\\uc544\\ubb34\\ub9ac\",\"\\uc0c8\\ub85c\\uc6b4\",\"\\uadf8\\ub300\\uc640\",\"make_me\",\"Me\",\"\\ubaa8\\ub450\\uac00\",\"\\uadf8\\ub140\",\"\\ubc14\\ub798\",\"\\ubcf4\\uace0_\\uc2f6\\uc5b4\",\"\\ucc44\",\"When\",\"ye\",\"\\ud558\\uc9c0\",\"\\ub9d0\\uc774\",\"\\uadfc\\ub370\",\"\\uc77c\",\"\\ub54c\\ubb38\\uc5d0\",\"\\uae30\\uc5b5\",\"here\",\"sorry\",\"\\ubc8c\\uc368\",\"believe\",\"\\uc0ac\\uc2e4\",\"\\ud589\\ubcf5\\ud55c\",\"\\ub450\",\"\\uc2dc\\uac04\\uc740\",\"\\ub290\\ub08c\",\"\\uba4b\\uc9c4\",\"That_s\",\"make_it\",\"Tonight\",\"\\uae38\\uc744\",\"\\uafc8\\uc744\",\"\\uba3c\\uc800\",\"\\ucc28\\ub77c\\ub9ac\",\"\\uc2ec\\uc7a5\\uc774\",\"I_am\",\"kiss\",\"\\uc218_\\uc788\\uac8c\",\"touch\",\"rock\",\"Na_Na\",\"Like\",\"\\ub54c\\uae4c\\uc9c0\",\"Ooh\",\"dance\",\"\\uac70\\ub2c8\",\"\\uc54c\\uc796\\uc544\",\"\\ub0a8\\uc790\",\"\\uc598\\uae30\",\"always\",\"\\ub208\\uc5d0\",\"\\uc544\\ubb34\\ub3c4\",\"\\uc5b8\\uc81c\\uae4c\\uc9c0\\ub098\",\"\\uc5ec\\uc790\",\"\\ucc3e\\uc544\",\"\\uc18d\",\"\\ub290\\ub084_\\uc218\",\"\\uc190\",\"\\ud558\\ub8e8_\\uc885\\uc77c\",\"by\",\"\\uc774_\\uc21c\\uac04\",\"\\ubaa8\\ub974\\uaca0\\uc5b4\",\"\\ub108\\ub9cc\\uc744\",\"\\uc5b4\\uc11c\",\"\\uc6b0\\ub9ac\\ub294\",\"\\ub2ec\\ub77c\",\"I_was\",\"na\",\"\\uac83\\ucc98\\ub7fc\",\"give\",\"\\uac78\\uae4c\",\"\\uc9c0\\ub09c\",\"Ah_Ah\",\"\\ub9d0\\ud574\\uc918\",\"\\uafc8\",\"be_your\",\"\\ud589\\ubcf5\\ud574\",\"\\ub108\\ub97c_\\uc704\\ud574\",\"\\uc54a\\uac8c\",\"\\uac83\\ub3c4\",\"all_night\",\"in_love\",\"\\ub0b4_\\ub9d8\\uc5d0\",\"will\",\"\\uac00\\ub4dd\",\"\\uc904\\uac8c\",\"\\uc190\\uc744\",\"eh\",\"\\ub728\\uac70\\uc6b4\",\"\\uc18d\\uc5d0\\uc11c\",\"\\uc5c6\\ub294\\ub370\",\"\\ube68\\ub9ac\",\"\\ubab0\\ub798\",\"She_s\",\"\\ub450\\ub824\\uc6cc\",\"\\ud558\\uc580\",\"everything\",\"Yo\",\"\\uc2dc\\uac04\\uc744\",\"\\uc78a\\uc744_\\uc218\",\"\\uc624\\ub298_\\ubc24\",\"\\ub5a0\\ub098\",\"\\uc54a\\ub294\",\"\\ubfd0\",\"over\",\"\\ubc14\\ubcf4\\ucc98\\ub7fc\",\"\\uc774_\\ubc24\",\"\\ub9d0\\uc57c\",\"\\uc218\\ub9ce\\uc740\",\"\\uc660\\uc9c0\",\"i_m\",\"You_got\",\"\\uadf8\\uac74\",\"\\uc628\",\"more\",\"no_more\",\"Take\",\"\\uac00\\uae4c\\uc774\",\"mo\",\"away\",\"\\uc138\\uc0c1\\uc740\",\"when\",\"wanna_be\",\"\\ud070\",\"cause\",\"\\uae38\",\"ready\",\"I_think\",\"\\ubaa8\\uc2b5\\uc774\",\"\\uc5b4\\ucc28\\ud53c\",\"\\ub54c\\ub860\",\"\\uc904\\ub798\",\"Uh_Uh\",\"\\ub110_\\uc704\\ud55c\",\"her\",\"\\ube5b\\uc774\",\"\\uc0ac\\uc774\",\"\\uc560\\uc368\",\"\\ud558\\uba74\",\"\\ubaa8\\ub4e0\\uac8c\",\"\\uc78a\\uace0\",\"\\ub290\\uaef4\\ubd10\",\"\\ub108\\ub780\",\"\\uc0ac\\ub791\\ud55c\\ub2e4\\uace0\",\"know_what\",\"\\ubc14\\ub77c\\ubd10\",\"\\ub108_\\ub55c\\uc5d0\",\"We_re\",\"\\ub098_\\ud63c\\uc790\",\"\\uc544\\uc9c1\\uc740\",\"\\uc218_\\uc788\\uc5b4\",\"\\ub178\\ub798\",\"To\",\"\\ub9cc\\ub098\",\"\\ubaa8\\uc2b5\\uc744\",\"\\uc5b4\",\"\\ub0a8\\uc544\",\"\\ub0b4\\uac8c\\ub85c\",\"\\uc788\\ub358\",\"there\",\"Up\",\"\\ub9c9\",\"time_to\",\"This_is\",\"\\uc704\\ub85c\",\"\\uc65c_\\uc790\\uafb8\",\"\\ubbf8\\uccd0\",\"mind\",\"Your\",\"get_up\",\"high\",\"\\ud754\\ub4e4\\uc5b4\",\"\\ucc28\\uac00\\uc6b4\",\"\\ub9d0\\uc740\",\"give_me\",\"please\",\"if_you\",\"still\",\"\\uc544\\ub9c8\",\"fly\",\"\\uc5b4\\uca4c\\uba74\",\"ain_t\",\"\\uc5c6\\uac8c\",\"\\ub9d0\\uc774\\uc57c\",\"\\uc0ac\\ub791\\uc758\",\"\\ub5a0\\ub09c\",\"\\ub9cc\\ub4e4\\uc5b4\",\"\\uc788\\ub294\\ub370\",\"\\uc9c0\\uce5c\",\"\\ub420\",\"\\uadf8\\ub300\\uc5ec\",\"\\ub108_\\ud558\\ub098\\ub9cc\",\"Party\",\"OK\",\"\\uc774_\\uc138\\uc0c1\",\"\\uc774_\\ubc24\\uc774\",\"right_now\",\"\\uc544\\ud30c\",\"\\uadf8\\ub550\",\"\\uc788\\uc8e0\",\"Do_it\",\"\\ud544\\uc694_\\uc5c6\\uc5b4\",\"\\ub0b4_\\ud488\\uc5d0\",\"\\ub208\\ubd80\\uc2e0\",\"how\",\"\\uacc1\\uc5d0\\uc11c\",\"\\ub354\\uc6b1\",\"break\",\"\\uc0ac\\ub791\\ud588\\ub358\",\"\\ubbff\\uace0\",\"\\uacf3\\uc5d0\",\"take_it\",\"\\uc2f6\\uc740\",\"\\ub418\\uc5b4\",\"\\uc544\\ubb34\",\"Hello_Hello\",\"\\ub3c4\\ub300\\uccb4\",\"\\ub450\\uace0\",\"\\ub098\\ub3c4_\\ubaa8\\ub974\\uac8c\",\"\\ub9c8\\uc74c\\uc5d0\",\"da\",\"\\ub2e4\\uc2dc\\ub294\",\"Why\",\"What_s\",\"\\uc5c6\\ub2e4\\uace0\",\"\\ub110_\\ud5a5\\ud55c\",\"\\uc5c6\\uc5c8\\uc5b4\",\"\\uc18c\\ub9ac\",\"\\uadf8\\ub140\\uac00\",\"\\ud574\\uc918\",\"\\ud798\\ub4e4\\uc5b4\",\"\\uc6b0\",\"keep\",\"Back\",\"\\ub0b4_\\uc606\\uc5d0\",\"hold\",\"hands_up\",\"Baby_Baby\",\"\\uc5c6\\ub358\",\"\\uc54a\\uace0\",\"\\uc5b8\\uc81c\\uae4c\\uc9c0\",\"\\ub110_\\ubcf4\\uba74\",\"\\ubcf4\\uc5ec\\uc918\",\"For\",\"\\uae4a\\uc774\",\"everybody\",\"ooh\",\"\\ud798\\ub4e0\",\"\\ub208\\ubb3c\\uc744\",\"\\ucc9c\\ucc9c\\ud788\",\"We_can\",\"\\uc5bc\\uad74\",\"the_world\",\"\\uae30\\ubd84\",\"\\uc5c6\\uc9c0\",\"\\uce5c\\uad6c\",\"\\uc774\\ubcc4\\uc744\",\"gotta\",\"\\ud5a5\\ud574\",\"\\ubd88\\ub7ec\",\"\\uc7a1\\uace0\",\"\\ub611\\uac19\\uc740\",\"Babe\",\"\\ubb54\\uac00\",\"ever\",\"\\uc0b4\\uc9dd\",\"\\uae4a\\uc740\",\"\\uc0ac\\ub791\\ub3c4\",\"Show_me\",\"\\ud558\\ub8e8\",\"\\ud558\\ub8e8\\uac00\",\"\\uc624\\ub298\\ubc24\",\"\\uac83\\ub9cc_\\uac19\\uc544\",\"\\uc218\\uac00_\\uc5c6\\uc5b4\",\"\\ub9e4\\uc77c_\\ubc24\",\"\\uadf8_\\ub204\\uad6c\\ub3c4\",\"\\uc788\\ub2c8\",\"\\uc6cc\",\"\\uc0ac\\ub791\\ud574\\uc694\",\"dream\",\"\\uadf8\\ub9ac\\uc6cc\",\"bye\",\"\\uc5c6\\uc9c0\\ub9cc\",\"\\ud798\\uc774\",\"\\uad1c\\ud788\",\"do_do\",\"\\uc704\\ud574\\uc11c\",\"\\uc900\",\"\\uac00\\ub054\\uc740\",\"\\ub108\\ubb34\\ub098\\ub3c4\",\"Are_you\",\"\\ub458\\uc774\",\"Hello\",\"\\ubd10\\uc694\",\"\\uc0ac\\ub791\\ud55c\",\"\\ub9d0\\uc544\\uc694\",\"O\",\"tell\",\"\\ub108\\ub9cc_\\ubcf4\\uba74\",\"\\ud574\\uc694\",\"\\uc5b4\\ub54c\",\"gonna_be\",\"\\ub9d0\\ud574\\ubd10\",\"bye_bye\",\"be_with\",\"\\ub204\\uad6c\\ub3c4\",\"\\ub3cc\\uc544\\uc640\",\"\\ub5a8\\ub9ac\\ub294\",\"the_only\",\"ooh_ooh\",\"\\ub450_\\ub208\\uc744\",\"\\ub0a8\\uc740\",\"\\uadf8\\ub300\\uc5d0\\uac8c\",\"light\",\"\\ub290\\uaef4\",\"\\uc54c\\uace0\",\"\\uc800\\uae30\",\"\\uacf3\",\"\\uadf8_\\uc21c\\uac04\",\"\\ubfd0\\uc774\\uc57c\",\"\\ub300\\uccb4\",\"\\uadf8\\ub140\\ub97c\",\"\\ub9c8\\uc694\",\"Love_Love\",\"\\uc0b4\\uc544\",\"\\uc544\\ub2c8\\uba74\",\"o\",\"\\uc0b4\\uba70\\uc2dc\",\"\\ube60\\uc838\",\"You_make\",\"\\ub098\\uc5d0\\uac90\",\"move\",\"\\ube5b\\ub098\\ub294\",\"\\uc808\\ub300\\ub85c\",\"live\",\"\\ub0b4\\uac8c_\\ub2e4\\uac00\\uc640\",\"hear\",\"world\",\"ha\",\"true\",\"\\ub418\\ub294\",\"Give_me\",\"\\uc601\\uc6d0\\ud1a0\\ub85d\",\"\\ubc84\\ub824\",\"\\uc774\\uc720\",\"\\ub4e4\\uc5b4\",\"\\uc54a\\uc740\",\"\\ucd94\\uc5b5\",\"shake_it\",\"\\ub450_\\ubc88\",\"If\",\"\\uc5b4\\ub290\",\"\\ubaa8\\ub4e0_\\uac83\\uc744\",\"\\uc788\\uc5b4\\uc694\",\"\\uc704\\ud55c\",\"\\uc774\\ub984\",\"\\uc0ac\\ub791\\uc774\\ub780\",\"\\ubc24\\uc0c8\",\"\\ubed4\\ud55c\",\"I_miss\",\"\\uadf8\\ub7fc\",\"\\uace0\\ub9c8\\uc6cc\",\"\\ub4ef\\uc774\",\"Feel\",\"\\ubbf8\\uc18c\",\"If_you\",\"\\uc774\\uc81c\\uc57c\",\"my_name\",\"Go_Go\",\"\\ubaa8\\ub974\\ub294\",\"hot\",\"\\ubb50\\uac00\",\"Crazy\",\"like_this\",\"\\ubc84\\ub9ac\\uace0\",\"\\uc788\\uc9c0\",\"star\",\"On\",\"\\uac83\\uc744\",\"Give_it\",\"\\uadf8\\ub148\",\"be_there\",\"\\uc608\",\"\\uc5ec\\uae30\\uc11c\",\"\\ubaa9\\uc18c\\ub9ac\",\"\\uc774\\uc81c_\\uadf8\\ub9cc\",\"run\",\"\\ub098\\uc640_\\ud568\\uaed8\",\"\\uc11c\\ub85c\\ub97c\",\"\\uc6b0\\ub9ac_\\ub458\\uc774\",\"\\ub9d0\\uc544\\uc918\",\"she_s\",\"at\",\"\\ub204\\uad6c\\ubcf4\\ub2e4\",\"from\",\"have\",\"\\uc694\\uc998\",\"Love_is\",\"\\ub530\\ub73b\\ud55c\",\"\\uc0ac\\ub78c\\uc774\",\"\\uadf8_\\uc5b4\\ub5a4\",\"\\uc228\\uc774\",\"\\ud558\\ub098_\\ub458\",\"\\ubabb\\ud55c\",\"\\ub2e4\\ub4e4\",\"\\uc6d0\\ud558\\ub294\",\"Forever\",\"Dance\",\"\\uc6b8\\uace0\",\"\\uc5c6\\uc5b4\\uc694\",\"\\uc0ac\\ub791\\ud55c\\ub2e4\",\"\\ud544\\uc694\\ud574\",\"\\uadf8\\ub140\\uc758\",\"\\uafc8\\uc774\",\"Everyday\",\"\\ub354_\\uc774\\uc0c1\\uc740\",\"\\uc548_\\ub3fc\",\"\\uc190\\uc5d0\",\"\\uc785\\uc220\",\"\\uc190\\uc744_\\uc7a1\\uace0\",\"feel_so\",\"\\uc788\\uc5b4\\ub3c4\",\"\\uac83\\uc774\",\"together\",\"\\ubaa8\\ub450\\ub2e4\",\"\\uc870\\uae08\\uc740\",\"\\ub728\\uac81\\uac8c\",\"Never\",\"\\uc0ac\\ub294\",\"\\uc544\\ub294\",\"where\",\"your_hands\",\"\\ub418\\uace0\",\"\\uac00\\uace0\",\"\\uc544\\ub984\\ub2e4\\uc6cc\",\"\\ubb34\\uc2a8\",\"\\uc5b4\\ub514\",\"\\ubcc4\",\"Please\",\"\\uc65c_\\uc774\\ub798\",\"\\uac78\\uc5b4\",\"\\uc0ac\\ub77c\\uc838\",\"\\uae34\",\"\\uc7a0\\ub4e0\",\"Lady\",\"\\ub05d\\uc774\",\"\\uc608\\ubed0\",\"Make\",\"\\ubcfc\",\"\\uc6c3\\uc73c\\uba70\",\"yes\",\"Good\",\"\\uc810\\uc810_\\ub354\",\"\\uad81\\uae08\\ud574\",\"We_are\",\"\\uc57c\",\"\\ub4a4\\ub85c\",\"\\uac00\\uc9c4\",\"\\uc0c1\\ucc98\",\"\\ub108\\uc640\\uc758\",\"care\",\"\\ucd94\\uc5b5\\uc774\",\"\\uc6c3\\uace0\",\"\\uc904_\\uc218\",\"\\ub208\\ubb3c\\ub85c\",\"\\ub2e8_\\ud55c\",\"\\uadf8\\ub140\\ub294\",\"\\uc815\\ub9d0\\ub85c\",\"\\uc788\\uc5b4\\uc918\",\"\\ub108\\ub77c\\ub294\",\"\\uc5b8\\uc81c\\ub77c\\ub3c4\",\"us\",\"\\ub2e4\\uc2dc_\\ud55c\\ubc88\",\"\\ubcf4\\uc774\\ub294\",\"\\uc9c0\\uae08\\ub3c4\",\"\\uc5c6\\uc5b4\\ub3c4\",\"\\uba48\\ucd9c_\\uc218\",\"\\ub9d0\\ub3c4\",\"\\ub2c8_\\ubaa8\\uc2b5\",\"\\uc9c0\\uae08\\uc740\",\"\\uc800_\\uba40\\ub9ac\",\"go_go\",\"\\uc548\\uc5d0\\uc11c\",\"got_a\",\"like_that\",\"my_mind\",\"\\ud63c\\uc790\\uc11c\",\"\\uc194\\uc9c1\\ud788\",\"\\uac16\\uace0\",\"alone\",\"\\uc0ac\\ub791\\ud574_\\uc0ac\\ub791\\ud574\",\"rock_and\",\"\\ubab0\\ub77c_\\ubab0\\ub77c\",\"the_music\",\"all_right\",\"\\uc57d\\uc18d\\ud574\",\"know_that\",\"Get_up\",\"\\uac00\\uc2b4\\uc744\",\"\\ud558\\ub8e8\\ud558\\ub8e8\",\"\\uc9c0\\uae08\\ubd80\\ud130\",\"\\uc704\\uc5d0\",\"Like_a\",\"\\uc218_\\uc788\\ub294\",\"\\uc788\\uc5c8\\uc5b4\",\"ll\",\"gone\",\"\\ub124_\\uacc1\\uc5d0\",\"\\ub54c\\uba74\",\"lover\",\"Run\",\"\\ub0a0\\uc774\",\"she\",\"\\uc774\\ubcc4\",\"sweet\",\"girls\",\"\\uc55e\\uc5d0\\uc11c\",\"\\ubcf4\\ub2e4\",\"\\ub108\\ub9cc\\uc758\",\"\\uc2dc\\uc791\\ud574\",\"or\",\"\\uc5b4\\ub514\\ub4e0\",\"\\uc0ac\\ub78c\\ub4e4\",\"B\",\"\\uc6c3\\ub294\",\"\\ub108\\uc57c\",\"La_la\",\"\\ub108\\ubb34\\ub3c4\",\"\\ubaa8\\ub4e0_\\uac83\\uc774\",\"\\ubabb\\ud558\\uace0\",\"Be\",\"\\uac00\\ub4dd\\ud55c\",\"your_mind\",\"call\",\"beautiful\",\"Hey_Hey\",\"\\ub204\\uad70\\uac00\",\"\\uac11\\uc790\\uae30\",\"\\uc9c0\\uccd0\",\"\\ud55c_\\ubc88\\ub9cc\",\"look_at\",\"\\ub098\\uc05c\",\"one_more\",\"pain\",\"\\ucc98\\uc74c\\ubd80\\ud130\",\"\\ubab0\\ub790\\uc5b4\",\"\\uc62c\",\"Beautiful\",\"\\uc18c\\ub9ac\\uccd0\",\"\\uc788\\ub3c4\\ub85d\",\"we_can\",\"\\uc54c\\uc558\\uc5b4\",\"\\uc628\\ud1b5\",\"Here_we\",\"everyday\",\"\\uc5c6\\ub2e4\",\"\\ubaa8\\uc2b5\\uc5d0\",\"real\",\"\\ub108\\ubb34_\\uc88b\\uc544\",\"are_my\",\"\\ud45c\\uc815\",\"\\uc5b8\\uc820\\uac04\",\"\\ub9cc\\ub09c\",\"\\uc870\\uae08\\ub9cc_\\ub354\",\"\\uba48\\ucdb0\",\"really\",\"feeling\",\"step\",\"s_gonna\",\"\\uc601\\uc6d0\\ud55c\",\"My_Love\",\"fall_in\",\"we_re\",\"lovin\",\"\\uc57d\\uc18d\",\"better\",\"\\ub4ef\\ud55c\",\"\\ubc14\\ub77c\\ubcf4\\ub294\",\"\\uc783\\uc5b4\\ubc84\\ub9b0\",\"long\",\"\\ub2ec\\ub824\",\"\\uc548\\ub155\",\"zai\",\"\\ub9c8\\uc74c\\uc740\",\"\\uc624_\\uc624\",\"\\uc788\\ub2e4\\uace0\",\"\\ud758\\ub7ec\",\"\\uc5b4\\uca5c\",\"wa\",\"free\",\"there_s\",\"\\ub9d0\\ub85c\",\"\\ub2ec\\ub824\\uac00\",\"\\ube5b\\uc744\",\"\\ub450_\\uc190\",\"\\uac70\\ub77c\\uace0\",\"your_eyes\",\"your_heart\",\"only_one\",\"Shake_it\",\"\\uc544\\ubb34_\\ub9d0\\ub3c4\",\"this_is\",\"\\ub098\\uc57c\",\"\\ub300\\ub85c\",\"\\ud558\\ub298\",\"\\ud0a4\\ubbf8\\ub178\",\"\\ub108_\\uc5c6\\uc778\",\"\\ub110_\\ud5a5\\ud574\",\"That\",\"off\",\"\\uc788\\uc744\",\"li\",\"shi\",\"te\",\"\\ub05d\\uc5d0\",\"\\ub4e4\\uc5b4\\uc640\",\"\\ub9d8\\uc740\",\"stay\",\"How\",\"e\",\"\\ud558\\ub298\\uc744\",\"\\ub450_\\uc190\\uc744\",\"\\ubab8\\uc744\",\"\\ub354\\uc774\\uc0c1\",\"\\uc228\\uc744\",\"\\ub108\\ub97c_\\uc6d0\\ud574\",\"\\ub098_\\uc5b4\\ub5a1\\ud574\",\"will_be\",\"as\",\"get_down\",\"Hot\",\"Wanna\",\"so_beautiful\",\"\\uc6c3\\uc744_\\uc218\",\"\\ud55c\\ub9c8\\ub514\",\"lie\",\"play\",\"Here\",\"was\",\"\\uc2dc\\uac04\\uc5d0\",\"This\",\"\\uac70\\uae30\",\"\\ub9de\\ucdb0\",\"Only\",\"\\ud558\\ub294\\uc9c0\",\"they\",\"\\uacac\\ub51c_\\uc218\",\"\\ub41c\",\"my_god\",\"just_want\",\"\\ud5a5\\ud55c\",\"\\uac00\\ub9cc\\ud788\",\"tight\",\"\\ub2e4\\uac00\\uac00\",\"have_to\",\"good_bye\",\"\\uc774\\uc57c\\uae30\",\"\\uc788\\uace0\",\"\\ub0b4_\\ub9c8\\uc74c\\uc740\",\"\\uc5c6\\uace0\",\"\\uc788\\ub294\\uc9c0\",\"know_why\",\"\\uc218_\\uc788\\ub2e4\\uba74\",\"\\uac00\\uc7a5\",\"smile\",\"put\",\"\\ubc1b\\uc544\\uc918\",\"\\uc6d0\\ub798\",\"\\uc788\\uc9c0\\ub9cc\",\"\\ub108\\ub97c_\\ud5a5\\ud55c\",\"Time\",\"\\ud14c\\ub2c8\\uae4c\",\"\\ub05d\\ub0b4\",\"\\uc6c3\\uc5b4\",\"\\ud558\\ub298\\uc5d0\",\"\\ub354_\\ud06c\\uac8c\",\"\\ubaa8\\ub974\\uace0\",\"\\ub2f4\\uc544\",\"something\",\"ga\",\"\\ub6f0\\uc5b4\",\"\\ubc14\\ubcf4\",\"\\ub204\\uac00_\\ubb50\\ub798\\ub3c4\",\"\\ub108\\ub85c\",\"\\ub0b4_\\ub9d8\\uc18d\\uc5d0\",\"too\",\"\\uc6b0\\ub9ac\\ub4e4\\uc758\",\"\\ub5a0\\uc62c\\ub77c\",\"Bye_Bye\",\"say_goodbye\",\"\\ubcf8\",\"\\ub450_\\ub208\\uc5d0\",\"\\ubc84\\ub838\\uc5b4\",\"\\ub3cc\\uc544\",\"\\uc774\\ubcc4\\uc774\",\"\\uc544\\ubb34\\ub7f0\",\"\\uc5c6\\ub294\\uac78\",\"without_you\",\"\\uc0dd\\uac01\\uc5d0\",\"\\uadf8\\ub300\\ub9cc\",\"\\ub4e4\\uc5b4\\ubd10\",\"\\ucc28\\uac11\\uac8c\",\"re\",\"out_of\",\"wow\",\"\\ub54c\\ub9c8\\ub2e4\",\"eyes\",\"\\ub108\\ub9cc\\uc774\",\"\\uc6b0\\ub9ac_\\ub458\",\"Gee_Gee\",\"\\ud558\\ub294\\ub370\",\"\\ubd24\\uc5b4\",\"\\uc8fc\\ub294\",\"\\ub0b4\\uac8c\\ub85c_\\uc640\",\"\\ub450_\\ub208\",\"\\uc78a\\uc5b4\",\"\\uc21c_\\uc5c6\\uc5b4\",\"\\ub2c8_\\ub9d8\\uc744\",\"leave_me\",\"\\ubc24\\uc774\",\"Alright\",\"\\ub9ce\\uc544\",\"\\ub208\\ube5b\\uc774\",\"\\ub098\\ub3c4_\\ubab0\\ub798\",\"\\uc788\\uc73c\\uba74\",\"\\uc88b\\uaca0\\uc5b4\",\"kiss_me\",\"\\ub108\\ub97c_\\uc704\\ud55c\",\"\\uc7a1\\uc544\",\"\\ud06c\\uac8c\",\"\\ubbf8\\uc18c\\uac00\",\"around\",\"\\ub208\\uc744_\\uac10\\uace0\",\"ni_de\",\"LOVE\",\"\\ud14c\\ub2c8\",\"Come_On\",\"\\ub0b4\\uac8c\\uc11c\",\"\\uc2f6\\uc740\\ub370\",\"\\uc548\\uace0\",\"\\ub2e4\\uc2dc_\\ub3cc\\uc544\\uc640\",\"get_enough\",\"\\ub05d\",\"\\uc704\\ud5d8\\ud574\",\"\\uac83\\uc740\",\"\\ub610\\ub2e4\\uc2dc\",\"fire\",\"\\ud558\\uc597\\uac8c\",\"going\",\"\\uc598\\uae38\",\"\\uc0ac\\ub791\\ud558\\uace0\",\"\\ub9c8\\ub2e4\",\"falling_in\",\"\\uc55e\\uc73c\\ub85c\",\"\\ub098\\ucc98\\ub7fc\",\"\\uac00\\uc9c8_\\uc218\",\"yi\",\"your_body\",\"\\uc0ac\\ub791\\ud560_\\uc218\",\"\\uc544\\ubb34_\\ub9d0\",\"\\uac16\\uace0_\\uc2f6\\uc5b4\",\"\\uc544\\ud30c\\ub3c4\",\"\\ubc16\\uc5d0\",\"She\",\"\\uc544\\ub798\",\"\\ubbff\\uc744_\\uc218\",\"\\ub2e8\",\"\\ubc14\\ubcf4\\uac19\\uc774\",\"come_back\",\"\\ucf54\\ub178\",\"\\uadf8\\ud1a0\\ub85d\",\"\\ub3cc\\uc544\\uac00\",\"\\uc5b8\\uc820\\uac00\\ub294\",\"give_up\",\"\\ub0b4\\ub9d8\",\"\\uc644\\ubcbd\\ud55c\",\"\\ud150\\ub370\",\"\\ub534\",\"one_two\",\"\\uc790\\uc2e0\\uc744\",\"Girls\",\"\\ud0c0\\uace0\",\"\\ud558\\uc9c0_\\ub9c8\",\"I_hate\",\"\\ubabb\\ud560\",\"\\ud558\\uace0_\\uc2f6\\uc740\",\"Got\",\"beat\",\"\\uc0c1\\uad00\\uc5c6\\uc5b4\",\"\\ud2b9\\ubcc4\\ud55c\",\"\\uc544\\ub2d8\",\"my_everything\",\"Kiss\",\"back_to\",\"\\uc544\\ud504\\uac8c\",\"forget\",\"thing\",\"we_are\",\"\\ub530\\uc2a4\\ud55c\",\"if\",\"\\uc785\\uc220\\uc774\",\"change\",\"\\uae30\\ub2e4\\ub9b4\\uac8c\",\"remember\",\"Wake_up\",\"U_U\",\"One_Two\",\"\\uac00\\ub054\\uc529\",\"Know\",\"\\ub0b4\\uc77c\",\"\\uc7a0\\uae50\",\"\\ub290\\uaef4\\uc838\",\"\\uae30\\uc5b5\\uc774\",\"\\ub2e4_\\uac19\\uc774\",\"\\ub300\\uc2e0\",\"\\uc54a\\uc744\",\"the_same\",\"\\uac00\\uc2b4\\uc18d\\uc5d0\",\"You_gotta\",\"call_me\",\"L_O\",\"\\uc624\\ub294\",\"\\uc544_\\uc544\",\"\\uc0dd\\uac01\\uc774\",\"\\ubabb\\ud558\\uac8c\",\"\\ub108_\\uc544\\ub2c8\\uba74\",\"my_lady\",\"roll\",\"\\ubbf8\\uce58\\uaca0\\uc5b4\",\"No_more\",\"\\uc5ed\\uc2dc\",\"\\ud558\\ub8e8\\uc885\\uc77c\",\"\\uae30\\ub2e4\\ub9ac\\ub294\",\"\\uc77c\\uc5b4\\ub098\",\"BABY\",\"\\ub108\\ub9cc_\\uc788\\uc73c\\uba74\",\"Good_bye\",\"s_over\",\"\\ud568\\uaed8_\\ud560\",\"Look_at\",\"\\uc9c0\\uae08\\uae4c\\uc9c0\",\"try\",\"\\ubcf4\\uc5ec\\uc904\\uac8c\",\"\\ubc14\\ub78c\",\"sky\",\"\\ubc24\\uc5d0\",\"\\uc0ac\\ub791\\uc73c\\ub85c\",\"leave\",\"\\uc2dc\\uac04_\\uc18d\\uc5d0\",\"\\ubb50\\uc57c\",\"\\uc0ac\\uc2e4\\uc740\",\"\\uc0ac\\ub78c\\uc740\",\"\\uae30\\ub300\",\"tu_tu\",\"\\ubaa8\\uc2b5\\uc740\",\"\\uc6b0\\uc5f0\\ud788\",\"\\ud798\\uc744\",\"\\uc774\\uc81c\\ubd80\\ud130\",\"think\",\"could\",\"\\uc9c0\\ucf1c\",\"\\ub9e4\\uc77c_\\ub9e4\\uc77c\",\"\\ud558\\uac8c\",\"\\ucc98\\ub7fc\",\"\\ub450\\uadfc\\ub450\\uadfc\",\"\\ub2e8\\uc9c0\",\"\\uc9c0\\ub098\",\"\\ud640\\ub85c\",\"\\ucc29\\ud55c\",\"\\ud750\\ub974\\ub294\",\"\\ud558\\ub8e8\\ub97c\",\"been\",\"ll_be\",\"Rock\",\"I_M\",\"\\uc9c0\\uae08\\uaecf\",\"\\uc544\\ub2cc\\ub370\",\"wow_wow\",\"Sorry\",\"\\uc870\\ucc28\",\"\\ubabb\\ud558\\ub294\",\"\\uc788\\uc744\\uac8c\",\"just_can\",\"\\uc88b\\uc544\\ud574\",\"believe_in\",\"\\uadf8\\ub7ec\\ub2c8\",\"\\uc54a\\uc558\\uc5b4\",\"\\ub0b4\\ub824\",\"\\ube44\\uac00\",\"\\uc9c0\\uc6cc\",\"nothing\",\"goodbye\",\"\\uc774\\ub9c8\",\"\\uac08_\\uc218\",\"No_no\",\"\\ubbf8\\uce60_\\uac83\",\"\\ubc24\\uc744\",\"\\uafc8\\uc5d0\",\"\\ubc14\\ub77c\\ubcf4\\uba70\",\"\\ub9d0\\uc544\",\"lonely\",\"\\uc6b0\\ub9ac\\ub97c\",\"\\uadf8\\ub9ac\",\"\\ub0a8\\uaca8\\uc9c4\",\"\\ud55c\\ubc88\\ub9cc\",\"\\ud558\\ub298\\uc774\",\"\\ub4e4\\ub824\",\"\\uc54a\\uc544\\ub3c4\",\"\\ubaa8\\ub974\\uac8c\",\"my_eyes\",\"t_stop\",\"nai\",\"\\ub9e4\\uc77c\\ub9e4\\uc77c\",\"\\uc544\\ubb34\\ub3c4_\\ubaa8\\ub974\\uac8c\",\"\\uc5b4\\uca54_\\uc218\",\"\\uc190\\uc744_\\uc7a1\\uc544\",\"\\uc5ec\\uae34\",\"\\uc544\\uc774\",\"\\ud6c4\",\"\\uc788\\ub294\\uac78\",\"\\ubc14\\ubcf4_\\uac19\\uc740\",\"\\uc6d0\\ud55c\\ub2e4\\uba74\",\"\\uae30\\ub3c4\\ud574\",\"\\ub108\\uac00\",\"YOU\",\"\\ub208\\ubb3c\\ub3c4\",\"\\uc54a\\uc744\\uac8c\",\"keep_on\",\"here_we\",\"\\uc788\\ub098\\uc694\",\"\\uc77c\\uc774\",\"\\ubbf8\\uce58\\ub3c4\\ub85d\",\"made\",\"\\ud488\\uc5d0\",\"\\ub098\\ubcf4\\ub2e4\",\"\\uc9e7\\uc740\",\"la\",\"\\uc54c\\uace0_\\uc2f6\\uc5b4\",\"\\ud5a5\\uae30\",\"\\ube5b\",\"\\uac19\\uc740\\ub370\",\"Get_down\",\"he\",\"In_my\",\"\\uc0b4_\\uc218\",\"\\ud560\\uac8c\",\"never_let\",\"C_mon\",\"a_little\",\"down_down\",\"Down\",\"\\uc624\\ub298\\uc774\",\"\\uc2ec\\uc7a5\",\"chance\",\"Step\",\"Kiss_me\",\"my_world\",\"Bo_Peep\",\"\\ub05d\\uc5c6\\uc774\",\"start\",\"\\uc654\\uc5b4\",\"In\",\"\\uc7a0_\\ubabb\",\"\\ub358\\uc838\",\"\\uc54c\\uace0_\\uc788\\uc5b4\",\"\\uadd3\\uac00\\uc5d0\",\"\\uc800_\\ud558\\ub298\",\"honey\",\"\\ud560\\uae4c\",\"\\ub0a8\\uc790\\uac00\",\"\\ubab0\\ub77c\\uc694\",\"\\uc911\",\"so_fine\",\"who\",\"OH\",\"Hey_hey\",\"\\ud0a4\\ubbf8\\uc624\",\"\\ud0a4\\ubbf8\\uac00\",\"\\uc218\\uac00\",\"\\ub9e4\\ubc88\",\"\\uc5c6\\uc5c8\\ub358\",\"\\ud55c\\ubc88_\\ub354\",\"\\uc774\\ubcc4\\uc740\",\"some\",\"\\uc5b4\\uc81c\",\"\\ubaa8\\ub978_\\ucc99\",\"\\uae30\\ubd84\\uc774\",\"\\uc774_\\uc21c\\uac04\\uc744\",\"hey_hey\",\"\\ucc3e\\uc744_\\uc218\",\"put_your\",\"Ready\",\"Cuz\",\"nobody\",\"\\ub530\\uc708\",\"\\ub9e1\\uaca8\",\"\\ucc98\\uc74c_\\ubcf8\",\"\\ub290\\ub08c\\uc774\",\"Make_it\",\"\\ud55c_\\uc0ac\\ub78c\",\"\\uba38\\ub9ac\\ubd80\\ud130_\\ubc1c\\ub05d\\uae4c\\uc9c0\",\"\\uc65c_\\uc774\\ub9ac\",\"\\ub0b4\\uac8c_\\uc640\",\"\\ub108\\uc5d0\\uac8c\\ub85c\",\"\\ubb50\\ub77c\\uace0\",\"\\ub530\\ub77c\\uc640\",\"\\ub2ec\\ucf64\\ud558\\uac8c\",\"\\ud589\\ubcf5\\ud558\\uac8c\",\"\\uc0dd\\uac01\\uc740\",\"\\uc624\\ub298\\ub530\\ub77c\",\"\\ubcc4\\uc774\",\"\\uc644\\ubcbd\\ud574\",\"all_day\",\"ma_girl\",\"\\ub208\\uc55e\\uc5d0\",\"\\ubab0\\ub77c\\ub3c4\",\"\\uac00\\uc9c0\\ub9c8\",\"\\ub0b4\\uc77c\\uc740\",\"\\uc81c\\uc77c\",\"\\ud558\\ub2c8\",\"\\uc9c0\\uae08\\ucc98\\ub7fc\",\"\\ud574\\ubd10\\ub3c4\",\"the_sky\",\"xiang\",\"I_wish\",\"\\ud754\\ub4e4\\ub9ac\\ub294\",\"\\uc624\\ub798\",\"\\ubaa8\\ub4e0\\uac78_\\ub2e4\",\"\\uccab\",\"\\uac08\",\"\\ub54c\\ub3c4\",\"\\ubab8\\uc774\",\"through\",\"\\ubbf8\\uce5c\",\"\\uc74c\",\"\\uc88b\\uc544\\ud558\\ub294\",\"\\uc5b4\\ub450\\uc6b4\",\"\\ub108\\ub97c_\\ud5a5\\ud574\",\"so_much\",\"so_bad\",\"\\uba87\",\"\\uc0dd\\uac01\\ub098\",\"\\uc2dc\\uac04\\ub4e4\",\"\\uc628\\uc885\\uc77c\",\"song\",\"\\uc788\\uaca0\\uc9c0\",\"\\uc5c6\\uc8e0\",\"\\uc2dc\\uc120\",\"so_sorry\",\"come_come\",\"\\uc774_\\uc138\\uc0c1\\uc5d0\",\"\\uc9c0\\ub098\\uac04\",\"\\uc9c0\\uae08\\uc758\",\"\\ud6c4\\ud68c\",\"OH_OH\",\"roll_all\",\"\\ub0b4\\uac00_\\uba3c\\uc800\",\"My_heart\",\"\\ubd10\\ubd10\",\"\\uac00\\uc790\",\"\\uc804\\ubd80_\\ub2e4\",\"V_E\",\"\\uc606\\uc5d0\",\"\\uadf8_\\uc790\\ub9ac\\uc5d0\",\"\\ubcf4\\ub2c8\",\"\\uba38\\ub9ac\",\"listen\",\"on_fire\",\"\\ud145_\\ube48\",\"\\uac00\\ub4dd\\ud788\",\"\\uac00\\uba74\",\"\\uafc8\\ucc98\\ub7fc\",\"\\uc5c6\\uc5b4\\uc11c\",\"\\ub0b4\\uac8c_\\ub3cc\\uc544\\uc640\",\"\\ub192\\uc774\",\"sexy\",\"\\ubc14\\ub78c\\uc774\",\"waiting_for\",\"Na_na\",\"Everything\",\"\\ub9cc\\ub4e0\",\"\\ub458\",\"\\uc6c3\\uc74c\",\"\\uadf8\\ub798\\uc694\",\"We_got\",\"\\ub9d0\\ud558\\uc9c0\",\"style\",\"\\uc11c\\ub85c\\uc758\",\"\\uc804\\ud654\",\"Fly\",\"story\",\"Cuz_I\",\"\\ud639\\uc2dc\\ub098\",\"\\ud558\\ub098\\ub3c4\",\"\\uc124\\ub808\\ub294\",\"n\",\"\\ub0b4_\\ub208\\uc5d4\",\"\\ube44\\uce5c\",\"E\",\"\\uc9c0\\uc6b8_\\uc218\",\"\\uae30\\ubd84_\\uc88b\\uc740\",\"\\uc774_\\ub290\\ub08c\",\"\\ub0a0_\\uc548\\uc544\\uc918\",\"\\ub0a8\\uc790\\ub2f5\\uac8c\",\"go_away\",\"\\ub0a0_\\ub450\\uace0\",\"\\ub4a4\\uc5d0\",\"\\uafc8\\uc740\",\"\\ub0b4\\uacc1\\uc5d0\",\"\\uc870\\uae08\\ub9cc\",\"\\ubb50\\ub4e0\",\"La\",\"your_man\",\"Listen\",\"\\uac77\\uace0\",\"Christmas\",\"Break_it\",\"ai\",\"\\uc2f6\\uc5c8\\uc5b4\",\"\\uc788\\ub2e4\",\"\\uc0dd\\uac01\\ud558\\uba74\",\"days\",\"\\ub0b4_\\uac00\\uc2b4\\uc740\",\"\\ub9c8\\ub0e5\",\"\\ub4ef\\ud574\",\"\\ucc38\\uc744_\\uc218\",\"\\ubd84\\uba85\",\"\\uc54c\\uc544\\uc694\",\"\\uc54c\\uba74\\uc11c\\ub3c4\",\"\\ud574\\ubd10\",\"\\uc0c8\\ub86d\\uac8c\",\"home\",\"\\ub108_\\ubc16\\uc5d0\",\"\\uc6b0\\ub9ac_\\uc0ac\\uc774\",\"We_ll\",\"\\uc880\\ub354\",\"our\",\"\\uc5c6\\ub2e4\\uba74\",\"\\ub0b4\\uac8c_\\ub9d0\\ud574\\uc918\",\"missing_you\",\"\\uace7\",\"\\ud3c9\\uc0dd\",\"With\",\"\\ub9d0\\ud574\\ub3c4\",\"\\ud558\\ub358\",\"\\ub208\\uc774_\\ubd80\\uc154\",\"There_s\",\"\\uc27f\",\"love_gun\",\"Woo_woo\",\"\\uc9d1\\uc5d0\",\"\\ub0b4\\ub9d8\\uc744\",\"\\ub193\\uace0\",\"\\ub0a8\\uc790\\ub294\",\"\\ub458\\uc774\\uc11c\",\"\\uc774\\uc0c1\\ud574\",\"Ma\",\"wo_de\",\"\\ub098\\uc758_\\ub9c8\\uc74c\\uc744\",\"\\ub208\\ubb3c\\uc740\",\"the_best\",\"face\",\"G\",\"control\",\"hold_me\",\"\\ub0af\\uc120\",\"\\ub354_\\uac00\\uae4c\\uc774\",\"\\ubcfc\\uae4c\",\"\\ub9d0\\ub3c4_\\uc548\",\"\\uc788\\ub098\",\"\\uc548\\uaca8\",\"\\ucc3e\\ub294\",\"\\ubfd0\\uc57c\",\"\\ucd94\\uc5b5\\uc744\",\"\\uc0ac\\ub791\\ud560\",\"Boom_Boom\",\"\\uc678\\ub85c\\uc6b4\",\"\\uc918\\uc694\",\"\\ub9de\\uc544\",\"\\ub118\\uc5b4\",\"Every_day\",\"paradise\",\"\\ub108_\\ud558\\ub098\\uba74\",\"\\ub5a0\\ub098\\uac00\",\"\\ub4e3\\uace0\",\"V\",\"\\uc544\\ud514\\uc744\",\"\\uaf49\",\"ho\",\"\\ub0b4\\uac8c\\ub294\",\"\\ud55c\\uc5c6\\uc774\",\"\\ub54c\\ub85c\\ub294\",\"\\ub2e4\\uc74c\",\"game\",\"money\",\"bad\",\"\\ub290\\uaef4\\uc9c0\\ub294\",\"\\uc18d\\uc73c\\ub85c\",\"\\uc6a9\\uae30\",\"\\uc54c\\uc9c0\",\"thank_you\",\"bounce\",\"\\uc624\\ube60\",\"\\ub124\\uac00_\\ud544\\uc694\\ud574\",\"put_put\",\"\\ubcf4\\ub0b4\",\"ride\",\"\\uc54a\\uaca0\\uc5b4\",\"\\uc5b4\\uc0c9\\ud55c\",\"cuz\",\"ta\",\"\\ud798\\ub4e4\\uac8c\",\"\\ub0a0\\uc544\\uac00\",\"\\uc548\\uc544\\uc918\",\"bu\",\"\\ub9cc\\ub0a0\",\"bang\",\"\\uc8fd\\uc5b4\\ub3c4\",\"the_top\",\"\\ud589\\ubcf5\\ud588\\ub358\",\"\\ud55c_\\uac78\\uc74c\",\"look\",\"\\ubcf4\\uace0_\\uc2f6\\uc740\",\"ok\",\"go_let\",\"mei\",\"\\ub2e4\\uac19\\uc774\",\"Well\",\"\\ud589\\ubcf5\\uc744\",\"\\uace0\\ubc31\",\"\\uadf8\\uac78\",\"\\ucc44\\ub85c\",\"\\ubc18\\uc9dd\\uc774\\ub294\",\"\\uc228\",\"\\ub450_\\ub208\\uc774\",\"\\uac19\\ub358\",\"All_night\",\"a_good\",\"\\uc78a\\uc9c0_\\ubabb\\ud574\",\"feel_good\",\"\\ub0a0\\ub4e4\",\"Honey\",\"gonna_make\",\"\\uc870\\uc6a9\\ud788\",\"Dance_Dance\",\"\\uc0c8\\ud558\\uc580\",\"\\uc544\\ubb34\\ub807\\uc9c0_\\uc54a\\uc740\",\"\\ub9d0\\ud558\\uace0\",\"\\ub9c8\\uc74c\\ub3c4\",\"\\ub9d0\\ud560_\\uc218\",\"friend\",\"\\uc774_\\ubc24\\uc744\",\"\\uc544\\ud514\",\"\\ub5a0\\ub098\\uac04\",\"\\ub0b4_\\uacc1\\uc744\",\"\\uc5b4\\ub9b0\",\"\\uaca8\\uc6b8\",\"\\uc5b4\\ub514\\uc11c\",\"\\uc18c\\ub178\",\"Da_Da\",\"\\ub9cc\\ub0a0_\\uc218\",\"\\uc624\\ub7ab\\ub3d9\\uc548\",\"soul\",\"\\uae30\\uc5b5\\uc744\",\"\\ub2f5\\ub2f5\\ud574\",\"\\uac00\\uc9c0\",\"\\uc544\\ub2c8\\ub77c\\uace0\",\"\\ud558\\uc796\\uc544\",\"\\ub354_\\ub192\\uc774\",\"\\ubbf8\\ub798\",\"\\uba4b\\ub300\\ub85c\",\"boom_boom\",\"mean\",\"\\ud589\\ubcf5\",\"\\uac78_\\uc54c\\uc544\",\"\\ub2ee\\uc740\",\"loving_you\",\"\\uc0c8\",\"take_a\",\"can_make\",\"\\ub108\\ubb34_\\uc608\\ubed0\",\"inside\",\"\\ub108\\ub85c_\\uc778\\ud574\",\"I_said\",\"\\ucc3e\\uc544\\uc640\",\"turn_it\",\"See\",\"\\uac74\\ub370\",\"\\uc544\\uc9c1\\uae4c\\uc9c0\",\"\\uc78a\\uc9c0\",\"\\ub2e4\\uac00\\uc624\\ub294\",\"\\ubbf8\\uc18c\\ub97c\",\"\\uc218_\\uc788\\ub3c4\\ub85d\",\"the_beat\",\"\\uc9c0\\uae08\\uc774\",\"\\uac70\\ub9ac\",\"\\uc5bc\\uad74\\uc774\",\"wait\",\"Always\",\"good_night\",\"\\uc18d\\uc744\",\"dance_dance\",\"\\uac70\\uc8e0\",\"music\",\"myself\",\"\\ubd99\\uc7a1\\uace0\",\"fine\",\"Goodbye\",\"No_way\",\"Take_it\",\"em\",\"\\ub124_\\uc0dd\\uac01\\uc5d0\",\"\\ud588\\uc9c0\",\"we_ll\",\"\\ud558\\uba70\",\"\\uac04\\ub2e4\",\"P\",\"\\ub458\\ub9cc\\uc758\",\"\\uc785\",\"Day\",\"to_lose\",\"\\ucc98\\uc74c_\\ub9cc\\ub09c\",\"\\ub9c8\\uc74c\\uc18d\\uc5d0\",\"\\ub108\\uc5d0\\uac90\",\"\\uadf8\\ub300\\uc640_\\ud568\\uaed8\",\"\\ub9d0\\uc5d0\",\"NO\",\"\\ub9d0\\ud560\\uac8c\",\"\\uc190\\uc774\",\"\\ud558\\ub098\\ubfd0\\uc778\",\"\\uc11c\\ub85c\\uac00\",\"\\ub05d\\uc744\",\"\\ub0b4_\\uc2ec\\uc7a5\\uc740\",\"d\",\"break_it\",\"\\ud22c\\uba85\\ud55c\",\"\\ubb54\\ub370\",\"no_way\",\"know_how\",\"slow\",\"Ooh_Ooh\",\"\\uc8fc\\uace0\",\"\\ub9c8\\ub77c\",\"\\uc2ac\\ud514\",\"\\uadf8\\ub0a0\",\"\\uc5b4\\ub460\\uc774\",\"people\",\"\\uc5ec\\uc790\\ub294\",\"\\ud558\\ub098\\ub9cc\",\"\\ub108\\ub77c\\uba74\",\"\\uac00\\uc838\\uac00\",\"stay_with\",\"xin\",\"boys_out\",\"\\uaebc\\uc57c\",\"\\ub3c4\",\"\\uc774\\ub798\",\"\\uc0dd\\uac01\\uc744\",\"\\uae30\\ub2e4\\ub9b0\",\"Boom\",\"\\uc678\\ub85c\\uc6cc\",\"\\uc54a\\uc544\\uc694\",\"\\ubc14\\ub2e4\",\"\\uc6b0\\ub9ac_\\ub458\\ub9cc\\uc758\",\"\\ub098\\ud0c0\\ub098\",\"\\uc54c\\uc544\\uc918\",\"hoo\",\"\\ub4e4\\ub9ac\\ub2c8\",\"Wo\",\"\\ubd80\\ub4dc\\ub7ec\\uc6b4\",\"\\uadf8_\\ubb34\\uc5c7\\ub3c4\",\"\\ub098\\ub9cc\\uc744\",\"\\ub0b4\\uc77c\\uc774\",\"\\uc774\\ub9ac\",\"round\",\"\\ub108\\ub791\",\"gonna_do\",\"\\ubb50\\ud574\",\"\\uc5b4\\ub51c\",\"\\ub3cc\\uc774\\ud0ac_\\uc218\",\"\\ub04c\\ub824\",\"Out\",\"\\ub9c8\\uc74c\\uc73c\\ub85c\",\"\\ud654\\ub824\\ud55c\",\"ha_ha\",\"Who_s\",\"\\uadf8\\ub7ec\\uba74\",\"\\uc6c0\\uc9c1\\uc5ec\",\"ba\",\"\\ubab0\\ub790\\ub358\",\"hear_me\",\"hello\",\"\\ud0a4\\ubbf8\\uc640\",\"\\uc5c6\\ub124\",\"\\uadf8\\ub9ac\\uc6b4\",\"\\uc7a1\\uc544\\uc918\",\"\\uc644\\uc804\\ud788\",\"\\uc5ec\\uae30\\uc800\\uae30\",\"Ha\",\"\\ubaa8\",\"ma_ma\",\"Ain_t\",\"Please_don\",\"\\uadf8\\ub7f0\\ub370\",\"\\uc218_\\uc788\\uc744\\uae4c\",\"GO\",\"\\ubb38\\ub4dd\",\"\\ubcf4\\uba74\\uc11c\",\"Light\",\"my_head\",\"wanna_say\",\"Woo_Woo\",\"luv\",\"\\ub05d\\uc5c6\\ub294\",\"think_about\",\"\\uc7a0\\uc774\",\"\\ud587\\uc0b4\\uc774\",\"\\uc228\\uae38_\\uc218\",\"Maybe\",\"Uh_uh\",\"zhe\",\"from_the\",\"\\uc6b8\\uc5b4\",\"ready_to\",\"\\uc54a\\uc744_\\uac70\\uc57c\",\"\\ub418\\uba74\",\"new\",\"\\uadf8\\ub300\\ub3c4\",\"\\uc774\\uc81c\\uc640\",\"worry\",\"\\ub5a8\\ub824\",\"Right_now\",\"Call_me\",\"\\uae38\\uc774\",\"so_good\",\"\\ubc14\\ubcf4\\uc57c\",\"\\ud55c\\ubc88\\ub3c4\",\"\\uadf8\\ub140\\uc5d0\\uac8c\",\"\\ub450\\uadfc_\\ub450\\uadfc\",\"\\uba40\\ub9ac\\uc11c\",\"\\ub6f0\\ub294\",\"\\ub0b4\\uc548\\uc5d0\",\"\\uc57d\\uc18d\\ud560\\uac8c\",\"You_ve\",\"\\ubbf8\\uce5c_\\ub4ef\\uc774\",\"turn\",\"made_for\",\"\\uafc8\\uc744_\\uafb8\\ub294\",\"\\ubbf8\\uc6cc\",\"\\ub2e4\\ub978_\\uc0ac\\ub78c\",\"\\ubabb\\ud588\\uc5b4\",\"\\uc5b4\\ub514\\ub85c\",\"\\uc774\\uc720\\uac00\",\"\\ub9d0\\ud22c\",\"\\ub05d\\uc774_\\uc5c6\\ub294\",\"\\ub0a0\\uc544\\uc62c\\ub77c\",\"my_friend\",\"\\ub0b4_\\uc2ec\\uc7a5\\uc744\",\"\\uc5b8\\uc81c\\ucbe4\",\"coming\",\"\\uc9c0\\uae08_\\uc774\\ub300\\ub85c\",\"the_floor\",\"a_man\",\"\\ud558\\uc580_\\ub208\\uc774\",\"\\ub208\\ube5b\\uc5d0\",\"\\ud588\\uc9c0\\ub9cc\",\"were\",\"that_that\",\"\\ub2c8\\uac00_\\ud544\\uc694\\ud574\",\"\\uba4d\\ud558\\ub2c8\",\"\\ub0b4\\uac8c_\\ub9d0\\ud574\",\"\\uadf8\\ub9cc\\ud574\",\"live_without\",\"talk_about\",\"hui\",\"\\uc2f6\\uc9c0\\ub9cc\",\"\\uc218\\ub9cc_\\uc788\\ub2e4\\uba74\",\"head\",\"Turn_it\",\"\\ub098\\ub97c_\\ubcf4\\uba70\",\"\\uc6b8\\ub824\",\"\\uc5b8\\uc81c\",\"\\ub098\\uba74\",\"\\uc5c6\\uc73c\\ub2c8\\uae4c\",\"\\uc5ec\\uc790\\uac00\",\"\\uadf8\\ub7ac\\uc5b4\",\"\\ub0b4_\\ub9d8\\ub300\\ub85c\",\"\\uc900\\ube44\",\"Heart\",\"\\ubc1d\\uc740\",\"\\uc0ac\\ub78c\\ub4e4\\uc740\",\"\\uc788\\uc744_\\ub54c\",\"an\",\"my_side\",\"three\",\"\\uba48\\ucd9c_\\uc218\\uac00\",\"\\ube44\\ucdb0\",\"ye_ye\",\"\\ubc18\\ubcf5\\ub418\\ub294\",\"\\uc78a\\uc9c0_\\ubabb\\ud560\",\"\\uadf8\\ub54c\\ub85c\",\"\\uac77\\ub294\",\"Move\",\"lose\",\"\\uc78a\\uc9c0\\ub9c8\",\"go_back\",\"Because\",\"\\uae30\\uc5b5_\\uc18d\\uc5d0\",\"\\uc785\\uc220\\uc5d0\",\"air\",\"\\ubcfc\\ub798\",\"\\ud639\\uc2dc\\ub77c\\ub3c4\",\"\\ub9d0\\ud558\\uc9c0_\\uc54a\\uc544\\ub3c4\",\"\\ubaa8\\ub974\\ub2c8\",\"\\uc544\\uc774\\ucc98\\ub7fc\",\"\\ub55c\\uc5d0\",\"have_a\",\"Knock_Knock\",\"so_hot\",\"\\ubc14\\ub77c\\ub294\",\"understand\",\"\\uc218\\ub3c4\",\"\\uc5c6\\uaca0\\uc9c0\",\"\\ub0a0\\uc544\",\"\\ub9d0\\ub4e4\",\"\\uaca8\\uc6b0\",\"\\uc720\\uc77c\\ud55c\",\"\\ub9d1\\uc740\",\"\\ub9d0\\ub9cc\",\"find\",\"\\ub098\\ub791\",\"\\uc774\\uc81c\\uc11c\\uc57c\",\"Is\",\"\\uc11c\\ud230\",\"\\ube68\\uac04\",\"\\uc9dc\\ub9bf\\ud55c\",\"\\ub108\\ub77c\\uc11c\",\"\\uc775\\uc219\\ud55c\",\"\\uc678\\uccd0\",\"\\ub108\\ub9cc_\\ubcf4\\uc5ec\",\"\\uc774\\ub9ac_\\uc640\",\"\\uc5bc\\uad74\\uc744\",\"\\ub0a0_\\ubbf8\\uce58\\uac8c\",\"\\uba40\\uc5b4\\uc9c0\\ub294\",\"\\ucde8\\ud574\",\"destiny\",\"\\uafc8\\uc5d0\\uc11c\",\"\\uc54a\\ub2c8\",\"\\uc81c\\ub300\\ub85c\",\"\\uc790\\uc2e0\\uc774\",\"\\uc624\\uba74\",\"\\ube60\\uc9c4\",\"all_about\",\"\\uc624\\uc9c1_\\ub108\\ub9cc\",\"hands\",\"In_the\",\"fight\",\"going_crazy\",\"s_alright\",\"Back_Back\",\"Ba_Ba\",\"\\uacb0\\uad6d\\uc5d4\",\"N\",\"say_good\",\"\\uac70\\uce5c\",\"\\ub208\\uc744_\\uac10\\uc544\\ub3c4\",\"\\uc548_\\ud574\\ub3c4\",\"ready_for\",\"\\uac19\\uc544\\uc11c\",\"\\ube60\\uc838\\ub4e4\\uc5b4\",\"\\ub4a4\",\"\\ubbf8\\uc18c\\ub85c\",\"\\uae30\\uc5b5\\uc5d0\",\"\\uc5b4\\ub5bb\\uac8c_\\ud574\\uc57c\",\"\\uc544\\ub2cc_\\ub2e4\\ub978\",\"\\ubbff\\uc5b4\\uc694\",\"\\uc2dc\\uc791\",\"\\ub2e4_\\uac70\\uc9d3\\ub9d0\",\"Stay\",\"bring\",\"\\uae30\\uc5b5\\ud574\\uc918\",\"\\uc870\\uadf8\\ub9cc\",\"\\uc2dc\\uac04\\ub3c4\",\"To_the\",\"\\ud6c4\\uc5d0\",\"\\ub098\\uc774\",\"Wanna_be\",\"Beautiful_Beautiful\",\"\\ub124_\\uc606\\uc5d0\",\"\\ubc24\\uc0c8\\ub3c4\\ub85d\",\"\\uc774_\\uc21c\\uac04\\uc774\",\"\\uba3c\",\"\\uc5b4\\ub514\\uc5d0\",\"side\",\"dancing\",\"\\uc9c0\\uaca8\\uc6cc\",\"\\uc54c\\uae4c\",\"\\ub0b4_\\uacc1\\uc5d0\\ub9cc\",\"\\ubb54\\uc9c0\",\"huh\",\"\\ud658\\ud558\\uac8c\",\"You_better\",\"crazy_crazy\",\"kara\",\"\\ud558\\uace0_\\uc2f6\\uc5b4\",\"\\uc790_\\uc774\\uc81c\",\"\\uba39\\uace0\",\"\\ubcc0\\ud574\",\"\\ub108\\uc640\\ub098\",\"\\ud588\\ub294\\ub370\",\"\\uc6b0\\ub9ac\\ub9cc\\uc758\",\"\\uc560\\ud0c0\\uac8c\",\"\\uace0\\ubbfc\",\"\\uc7a1\\uc744_\\uc218\",\"\\uac04\",\"\\uc5b4\\ub5bb\\uac8c_\\ud574\",\"\\uc120\\ubb3c\",\"\\ub204\\uac00_\\ubd10\\ub3c4\",\"Wow\",\"\\uac10\\uc815\",\"\\ud0b7\\ud1a0\",\"shout_it\",\"\\ub4e4\\uace0\",\"\\ub208\\ubb3c\\ub9cc\",\"then\",\"\\ubc14\\ub77c\",\"\\ub098\\ubcf4\\ub2e4_\\ub354\",\"\\ubabb\\ub09c\",\"\\ub9d0\\ud558\\ub294\",\"nobody_nobody\",\"\\uc21c\\uac04\\uc774\",\"\\ubc97\\uc5b4\\ub0a0_\\uc218\",\"\\uc9c0\",\"\\uc911\\uc5d0\",\"\\uadf8\\ub9bc\\uc790\",\"we_go\",\"Ah_ah\",\"run_run\",\"\\ub124_\\uc55e\\uc5d0\",\"\\uc0ac\\ub78c\\uc744\",\"\\ub5a0\\ub098\\ub294\",\"\\uc624\\ub79c\",\"\\uc11c_\\uc788\\ub294\",\"\\uafc8\\uc18d\\uc5d0\",\"\\uadf8\\ub9ac\\uc6c0\",\"\\uadf8_\\ub204\\uad6c\\ubcf4\\ub2e4\",\"Right\",\"\\uac00\\uc2b4\\uc740\",\"\\uadf8\\ub9cc\\ud07c\",\"\\uba5c\\ub85c\\ub514\",\"\\uad73\\uc774\",\"\\uac71\\uc815\",\"Like_this\",\"talk_to\",\"I_WANNA\",\"\\uc774_\\uc138\\uc0c1\\uc774\",\"\\uc0dd\\uac01\\ud574\\ubd10\",\"\\uce5c\\uad6c\\uac00\",\"\\ubaa8\\uc2b5\\uc73c\\ub85c\",\"\\uc598\\uae30\\ub97c\",\"\\ud754\\ud55c\",\"\\ud558\\ub8e8\\ub3c4\",\"\\uc544\\ub9c8\\ub3c4\",\"\\ub0a0\\uc5d0\",\"\\uadf8\\ub140\\uc640\",\"\\uc138\\uc0c1_\\ubaa8\\ub4e0\",\"\\uac83_\\uac19\\uc740\",\"boys\",\"\\ub098_\\ud640\\ub85c\",\"\\ud560\\ub798\",\"\\ub4e3\\uace0_\\uc2f6\\uc5b4\",\"bad_girl\",\"A_A\",\"T\",\"Three\",\"always_be\",\"\\ub208\\uc744_\\ub728\\uba74\",\"\\uc544\\ubb34\\uac83\\ub3c4_\\ud560\",\"\\ud544\\uc694\\uc5c6\\uc5b4\",\"the_beast\",\"\\uacb0\\ucf54\",\"\\ucc28\\ub9c8\",\"\\ub208\\ubb3c\\uc5d0\",\"\\ud558\\ub294_\\ub9d0\",\"\\uc624\\uc624\",\"\\uc62c\\ub77c\",\"\\uc6d0\\ud558\\uace0\",\"\\ubaa9\\uc18c\\ub9ac\\ub85c\",\"\\ub108\\ubb34_\\uc27d\\uac8c\",\"\\ub2f5\\ub2f5\\ud55c\",\"\\ubd88\\uc548\\ud574\",\"get_away\",\"\\ubd88\\ub7ec\\uc918\",\"\\uc549\\uc544\",\"\\uad1c\\ucc2e\\uc740\",\"\\uc624\\ud788\\ub824\",\"\\uc18c\\uc911\\ud588\\ub358\",\"\\ub204\\uad6c\\ub098\",\"\\ub0b4\\uac90_\\ub108\\ubb34\",\"\\uc544\\ub984\\ub2f5\\uac8c\",\"\\uc644\\uc804\",\"\\uc5c6\\ub098\\uc694\",\"\\uac00\\ub3c4\",\"\\ud574\\uc904\\uac8c\",\"please_don\",\"every_day\",\"\\ubabb\\ub41c\",\"\\uc18d\\uc5d4\",\"\\uc774\\uacf3\\uc5d0\",\"\\uc0b4\",\"\\ubd80\\ub514\",\"\\ucc98\\uc74c\\uc73c\\ub85c\",\"\\ubaa8\\uc544\",\"mama\",\"\\uc798\\ubabb\",\"\\ub3cc\\uc544\\uc640\\uc918\",\"\\ub9cc\\ub098\\uba74\",\"Not\",\"\\ub108\\uc640_\\ud568\\uaed8\\ub77c\\uba74\",\"\\uc2dc\\uc120\\uc744\",\"\\uc548\\uc544\",\"Show\",\"\\uc2ac\\ud514\\uc774\",\"\\uba38\\ub9ac\\uac00\",\"\\ub9cc\",\"\\uc18d\\uc758\",\"\\uc624\\ub298\\ubd80\\ud130\",\"\\uc228\\uc774_\\ub9c9\\ud600\",\"the_light\",\"wanna_do\",\"Because_of\",\"Love_gun\",\"\\ubb34\\uc5c7\\uc744\",\"\\uc804\\ud654\\ub97c\",\"higher\",\"\\uc790\\uc720\\ub86d\\uac8c\",\"\\uc2dc\\uac04\\ub4e4\\uc774\",\"\\uc2e0\\ub098\\uac8c\",\"\\ub0a0_\\ubc14\\ub77c\\ubcf4\\ub294\",\"\\uc218\\uc90d\\uc740\",\"\\uc21c\\uac04\\uc744\",\"\\uc54c\\uac8c\",\"\\ud55c\\ub2e4\\uba74\",\"\\ub0a8\\uc794\",\"\\ub108\\ub97c_\\ucc3e\\uc544\",\"\\uc18d\\uc774\",\"die\",\"\\ub9d0\\uc790\",\"\\ub208\\ubd80\\uc154\",\"da_da\",\"fall\",\"\\ud558\\ub298\\uc740\",\"\\ub3c8\",\"\\uc790\\ub9ac\",\"Give\",\"wish\",\"\\ud558\\ub124\",\"\\ubc88\",\"\\uc11c\\uc11c\",\"\\uadf8\\ub7ec\\ub2e4\",\"\\ub9cc\\ub098\\uace0\",\"\\ubc18\\ub4dc\\uc2dc\",\"\\ub5a0\\ub098\\uc9c0\\ub9c8\",\"\\ucc38\\uace0\",\"\\ubab8\",\"NA_NA\",\"\\uac00\\ub4dd\\ud574\",\"bad_bad\",\"shen\",\"\\ubaa8\\ub974\\uc9c0\",\"\\ubd84\\uba85\\ud788\",\"\\ub108\\uc5d0\",\"\\ubaa8\\uc2b5_\\uadf8\\ub300\\ub85c\",\"\\uc0b4\\uace0\",\"cool\",\"\\uc2ac\\ud514\\uc744\",\"\\uc54c\",\"\\ub098\\uc11c\",\"\\ub0b4\\uc77c\\ub3c4\",\"\\uc8fd\\uaca0\\uc5b4\",\"\\uc5b4\\ub5bb\\uac8c\\ub4e0\",\"\\uac19\\uc560\",\"\\uac07\\ud600\",\"\\ub108\\uc5d0\\uac8c\\ub9cc\",\"need_you\",\"\\ub208\\ubb3c\\uc774_\\ud758\\ub7ec\",\"\\uc544\\uce68\",\"Would_you\",\"every\",\"your_life\",\"\\uc990\\uaca8\",\"\\ub0b4\\ub824\\uc640\",\"\\uc54a\\uc744\\ub798\",\"\\uc544\\ucc14\\ud55c\",\"Run_Run\",\"Dream\",\"Keep\",\"\\uc0b6\\uc744\",\"\\uc804\\ud600\",\"\\uc0ac\\ub78c\\ub4e4\\uc774\",\"listen_to\",\"Welcome_to\",\"\\ub05d\\ub0ac\\uc5b4\",\"happy\",\"\\uc0c1\\ucc98\\ub97c\",\"\\uc0b4\\uc544\\uac08\",\"be_afraid\",\"\\uc5ec\\uae30\\uc5d0\",\"\\uc774_\\ubc24\\uc5d0\",\"dance_with\",\"\\ub9cc\\ub4dc\\ub294\",\"\\ub9ce\\uc774_\\ub9ce\\uc774\",\"\\ub108\\ub3c4_\\ub098\\uc640\",\"\\uc5b4\\uc9c0\\ub7ec\\uc6cc\",\"drive\",\"rain\",\"\\uc774\\uae30\\uc801\\uc778\",\"Fall_in\",\"\\ubcf4\\ucfe0\\ub178\",\"chu\",\"zhi\",\"\\uc788\\uc73c\\ub2c8\",\"\\uc5b4\\uca4c\\ub2e4\",\"\\uc804\",\"\\ub108\\ub97c_\\uc704\\ud574\\uc11c\",\"\\ub4a4\\ub3cc\\uc544\",\"\\ud558\",\"\\ub3cc\\ub824\",\"\\ub0b4\\ub9ac\\ub294\",\"\\ub420_\\uac70\\uc57c\",\"\\uc9c0\\ucf1c\\ubd10\",\"into\",\"ah_ha\",\"\\ub2e4\\uc2dc_\\ub9cc\\ub0a0\",\"\\uba4b\\uc9c0\\uac8c\",\"\\uc78a\\uc5b4\\ubc84\\ub824\",\"\\uce5c\\uad6c\\ub4e4\",\"\\ub54c\\uac00\",\"\\uc6b0\\ub294\",\"\\ub108\\ubb34\\ub108\\ubb34\",\"\\ub2f9\\uc2e0\\uc758\",\"\\ud5c8\\ub098\",\"\\uc774\\uc81c_\\uc640\\uc11c\",\"\\uc6c3\\uc74c\\uc774\",\"\\uc88b\\uc740_\\uac78\",\"\\uc138\\uc0c1\\uc758\",\"\\ucc28\",\"\\uc774\\ub7ec\\ub2e4\",\"special\",\"\\uc54a\\ub3c4\\ub85d\",\"\\ud55c\\ucc38\\uc744\",\"\\ub208\\uc744_\\uac10\\uc544\",\"Stay_with\",\"a_bad\",\"lonely_lonely\",\"\\uc608\\uc058\\uac8c\",\"\\uc0ac\\ub791\\uc2a4\\ub7f0\",\"\\uac70\\ub77c\",\"\\ub5a8\\uc5b4\\uc838\",\"\\ub098\\uac00\",\"\\uc548\\uace0\\uc11c\",\"\\ub0b4_\\ub9d8\\ub3c4\",\"\\ub178\\ub798\\uac00\",\"\\uc9c0\\ub098\\uba74\",\"\\uc5c6\\uc73c\\ub2c8\",\"\\ube5b\\uc73c\\ub85c\",\"\\uc2f6\\uc5b4\\uc694\",\"how_we\",\"\\ub05d\\uc740\",\"\\uc54c_\\uac83\",\"\\uc544\\ubb34_\\uac83\\ub3c4\",\"\\ud574\\uac00\",\"\\uc774_\\ub178\\ub7a0\",\"\\uc774_\\ub178\\ub798\",\"\\uc7a0\\uc2dc\\ub9cc\",\"\\uadf8_\\uc0ac\\ub78c\\uc774\",\"\\ub2ec\",\"\\ubd88\\uc548\\ud55c\",\"Over\",\"the_boys\",\"sa\",\"\\ub300\",\"\\ub0b4\\uac00_\\ubbf8\\uccd0\",\"\\ub9d0\\uc5c6\\uc774\",\"\\uc0c1\\uc0c1\",\"\\uc11c\",\"\\uac08\\uc218\\ub85d\",\"hit\",\"\\ud574\\uc11c\",\"\\ub420\\uae4c\",\"\\ucda4\\uc744_\\ucdb0\",\"\\ud0c0\\ub294\",\"\\uadf8\\ub9cc_\\uc880\",\"\\uc5c6\\ub2c8\",\"the_king\",\"\\ud0a4\\ubbf8\\ub2c8\",\"dot_dot\",\"Listen_to\",\"\\ubcfc_\\uc218\\uac00\",\"\\ub5a0\\ub0a0\",\"\\ub290\\ub07c\\ub294\",\"\\uc6c3\\uace0_\\uc788\\ub294\",\"\\uc21c\\uac04\\uc5d0\",\"Rap\",\"\\uc368\",\"\\uafc8\\uafd4\\uc654\\ub358\",\"\\uc5b8\\uc81c\\ub4e0\",\"every_night\",\"\\ud0c0\",\"\\ubabb_\\ucc38\\uaca0\\uc5b4\",\"You_were\",\"Break_It\",\"got_nothin\",\"doing\",\"\\ubc1d\\uac8c\",\"\\uadf8\\ub7ec\\ub2c8\\uae4c\",\"\\ub0a0\\uc744\",\"\\uc544\\uce68\\uc774\",\"\\ub9e4\\uc77c\\uac19\\uc774\",\"\\ubc14\\ub78c\\uc5d0\",\"\\ub9d0\\ub77c\\uace0\",\"All_right\",\"power\",\"this_time\",\"\\ub188\",\"Good_night\",\"Ka_CHING\",\"\\uc788\\uc5c8\\uc9c0\",\"\\uc54c\\uba74\\uc11c\",\"Just_like\",\"\\ubd80\\ub974\\ub294\",\"\\ube48\",\"\\ubcc0\\ud55c\",\"\\ud558\\ub098\\ub85c\",\"flow\",\"\\uc0ac\\ub791\\ud55c\\ub2e4\\ub294\",\"Y\",\"\\uadf8\\ub7f4\",\"\\ubcf4\\ub358\",\"\\uc5d0\",\"\\uadf8\\ub798\\uc57c\",\"\\uc720\\ub09c\\ud788\",\"\\uc0ac\\ub791\\ud560\\uac8c\",\"\\ub108\\ub2c8\\uae4c\",\"talk\",\"Hot_Hot\",\"\\ub2c8_\\uc0dd\\uac01\\uc5d0\",\"\\uae68\\uc6cc\",\"du_du\",\"Dumb_Dumb\",\"\\ucee4\\ub2e4\\ub780\",\"\\ub208\\ube5b\\uc73c\\ub85c\",\"\\ub728\\uac70\\uc6cc\",\"\\uc54a\\uc744\\uae4c\",\"do_what\",\"\\uae30\\uc5b5\\uc740\",\"\\uac80\\uc740\",\"\\uac00\\uc9c0\\uace0\",\"\\ubc14\\ub78c\\ucc98\\ub7fc\",\"follow_me\",\"said\",\"\\uac04\\uc808\\ud788\",\"Luv\",\"One_more\",\"e_e\",\"yan\",\"\\ub0b4_\\uc0b6\\uc758\",\"\\uc0dd\\uac01\\ud588\\uc5b4\",\"\\uadf8\\ub807\\uac8c\\ub3c4\",\"\\ub108\\ubb34_\\ub9ce\\uc544\",\"\\uc138\\uc0c1\\uc5d0\\uc11c\",\"\\uae30\\ub3c4\",\"\\uc6b0\\ub9ac_\\uc11c\\ub85c\",\"\\uc6b0_\\uc6b0\",\"\\ub098\\ub97c_\\ub3cc\\uc544\\ubd10\",\"\\uc774\\uac70\",\"\\ub204\\uad74\",\"\\uba40\\uc5b4\\uc838\",\"\\ube44\\ubc00\",\"\\ub108\\ubb34_\\uc544\\ub984\\ub2e4\\uc6b4\",\"\\uc788\\uc73c\\ub2c8\\uae4c\",\"\\uc5ec\\uc794\",\"\\ubd84\\uc704\\uae30\",\"last\",\"\\ubc1c\\uac78\\uc74c\",\"\\uac04\\uc808\\ud55c\",\"my_hand\",\"more_than\",\"\\ub2e4\\uc2dc_\\uc2dc\\uc791\\ud574\",\"shine\",\"Man\",\"\\ud558\\ub098\\ubd80\\ud130_\\uc5f4\\uae4c\\uc9c0\",\"le\",\"\\uadf8\\ub0e5_\\uc774\\ub300\\ub85c\",\"\\ud558\\ub098\\uc758\",\"\\ub098\\ub97c_\\ub5a0\\ub098\",\"\\ubcf4\\ub0b8\",\"\\ud5a5\\uae30\\uac00\",\"\\uc870\\uc2ec\\uc2a4\\ub808\",\"\\ud06c\\ub9ac\\uc2a4\\ub9c8\\uc2a4\",\"\\ub204\\uad6c\\ub77c\\ub3c4\",\"\\ub4a4\\uc5d0\\uc11c\",\"\\ubaa8\\ub97c\",\"\\uc0c1\\ucc98\\uac00\",\"Fire\",\"your_smile\",\"\\uc548\\uace0_\\uc2f6\\uc5b4\",\"\\ubcf4\\uace0\\uc2f6\\uc5b4\",\"should\",\"\\ubc14\\ub77c\\ubcf4\\uace0\",\"will_never\",\"\\uc0ac\\ub791\\ud558\\ub2c8\\uae4c\",\"\\uc815\\uc2e0\",\"\\ud798\\ub4e4\\uc5b4\\ub3c4\",\"\\uc5bc\\uad74\\uc5d0\",\"\\uacf3\\uc5d0\\uc11c\",\"\\uc0b6\\uc774\",\"\\uc774\\uc81c\\uaecf\",\"\\uad6c\\ub984\",\"\\ub208\\uce58\",\"Night\",\"\\uc3df\\uc544\\uc9c0\\ub294\",\"really_really\",\"try_again\",\"Sorry_Sorry\",\"\\uac10\\uace0\",\"\\uc628_\\uc138\\uc0c1\\uc774\",\"had\",\"\\ub0b4\\uc0ac\\ub791\",\"God\",\"\\ub9d8\\uc18d\\uc5d0\",\"\\ube60\\ub974\\uac8c\",\"\\ub0b4_\\uacc1\\uc73c\\ub85c\",\"\\ub110_\\ubcf4\\ub0bc\",\"two\",\"\\uc5ec\\ub984\",\"\\uc774\\ub984\\uc744\",\"Be_my\",\"\\ub208\\ubd80\\uc2dc\\uac8c\",\"\\uc5b5\\uc9c0\\ub85c\",\"\\uc544\\ub2cc_\\ucc99\",\"\\uc774\\uc720\\ub97c\",\"\\uc788\\ub124\",\"\\uc194\\uc9c1\\ud558\\uac8c\",\"\\ud750\\ub974\\uace0\",\"\\uafc8\\uc18d\\uc5d0\\uc11c\",\"\\uc0b6\\uc740\",\"\\ud560\\uac70\\uc57c\",\"Two\",\"\\uc0ac\\uc774\\uc5d0\",\"Still\",\"\\ub208\\uc774_\\ubd80\\uc2e0\",\"\\uae4c\\ub9cc\",\"\\ubb50\\uac00_\\uadf8\\ub9ac\",\"\\ub098\\ub85c\",\"Every_time\",\"\\ub0b4_\\uc804\\ubd80\\ub97c\",\"\\uac83_\\uac19\\uc560\",\"fool\",\"Sweet\",\"\\ub208\\uc744_\\ub5c4\",\"hard\",\"before\",\"\\uac00\\ub294\\ub370\",\"\\uc5c6\\uc744\",\"times\",\"\\uc624\\ub298\\uc744\",\"\\ub098\\uc640_\\uac19\\uc740\",\"\\ucc98\\uc74c\\uc774\\uc57c\",\"Bye_bye\",\"Just_let\",\"\\ub204\\uac00_\\ubb50\\ub77c\",\"without\",\"\\ub77c\\uace0\",\"\\ub180\\ub77c\",\"NO_NO\",\"Bring_the\",\"Only_one\",\"Genie_for\",\"\\uc0ac\\ub791\\ud558\\uace0_\\uc2f6\\uc5b4\",\"\\uafc8\\uafb8\\ub358\",\"pretty\",\"\\uac10\\uc0ac\\ud574\",\"\\uc774\\ubcc4\\uc758\",\"little\",\"\\ucc44\\uc6cc\",\"\\uc6a9\\uae30\\ub97c\",\"\\ud130\\uc9c8_\\uac83\",\"\\ub611\\uac19\\uc774\",\"\\uc88b\\uc740\\ub370\",\"\\uc6b0\\ub9ac\\ub4e4\",\"top\",\"\\ub3cc\\uc544\\ubd10\",\"\\uc783\\uc740\",\"Gonna\",\"Remember\",\"gonna_get\",\"alive\",\"\\uc774_\\uae30\\ubd84\",\"ji\",\"You_Got\",\"minute\",\"dao\",\"\\uc9c4\\uc815\",\"\\uc54a\\uc744\\uac70\\uc57c\",\"\\uc788\\ub294_\\uac74\",\"Think_about\",\"your_name\",\"\\ubc14\\ubcf4\\uac00\",\"\\uc774_\\ubc24\\uc758\",\"No_matter\",\"\\ub9cc\\uc57d\",\"\\ub208\\uc740\",\"\\uc704\",\"\\ub2e4\\uac00\\uc640\\uc11c\",\"\\ub144\",\"\\ubbf8\\ub828\",\"One_two\",\"\\ubd80\\uc871\\ud574\",\"\\uac70\\uc608\\uc694\",\"\\uac70\\ub77c\\uba74\",\"\\uaf43\",\"di\",\"\\uac08\\uac8c\",\"god\",\"\\ub2c8_\\uc55e\\uc5d0\",\"\\uc7a0\\uae50\\ub9cc\",\"did\",\"\\ubcf4\\ub2e4_\\ub354\",\"\\uc608\\uc804\\uc5d0\",\"\\ubd80\\uc871\\ud55c\",\"pop\",\"\\uc790\\uc2e0\",\"\\uc228\\uaca8\\uc654\\ub358\",\"walk\",\"\\uc5f4\\uc5b4\",\"\\ub108\\ub9cc\\uc740\",\"burn\",\"I_would\",\"\\uc65c_\\uc774\\ub7ec\\ub2c8\",\"one_for\",\"LA_LA\",\"Rally_Rally\",\"dou\",\"\\uc788\\uae30\\uc5d0\",\"black\",\"\\ub290\\ub07c\\uace0\",\"\\ubd88\",\"\\ubd88\\uc744\",\"\\ud560_\\uc218\\uac00\",\"\\uac08\\ub798\",\"\\ubcf4\\uc774\\uc9c0_\\uc54a\\ub294\",\"\\uce5c\\uad6c\\ub4e4\\uc774\",\"\\ubcf4\\ub0b4\\uace0\",\"\\ud754\\ub4e4\\uc5b4\\ubd10\",\"\\ubaa8\\ub974\\ub294_\\ucc99\",\"\\uadf8\\uacf3\\uc5d0\",\"\\uac83_\\uac19\\uc740\\ub370\",\"end\",\"\\ud798\\uaecf\",\"Star\",\"angel\",\"stand\",\"\\uc54c_\\uc218\\uac00\",\"\\uac00\\uc9c8\",\"\\uacc1\\uc5d0_\\uc788\\uc5b4\",\"\\ubc84\\ub9b4\",\"\\uc5b4\\uca54_\\uc218\\uac00\",\"\\uc8fc\\uace0_\\uc2f6\\uc5b4\",\"\\ubbff\\uc9c0\",\"\\uadf8\\ub3d9\\uc548\",\"DJ\",\"\\uc5c6\\ub2e4\\ub294_\\uac78\",\"\\uc6b8\\ub9ac\\ub294\",\"\\uc190\\uc744_\\uc7a1\\uc544\\uc918\",\"\\uc0b6\\uc758\",\"\\uac00\\uc694\",\"\\uc2dc\\uc120\\uc774\",\"\\ud558\\ub8e8\\uc5d0\",\"\\ub108\\uc758_\\uacc1\\uc5d0\\uc11c\",\"\\ucd94\\uc5b5\\uc5d0\",\"\\uc9c0\\ucf1c\\uc904\\uac8c\",\"\\ub108\\ubfd0\\uc774\\uc57c\",\"\\ub9e8\\ub0a0\",\"Ooh_ooh\",\"another\",\"D\",\"\\uc6b0\\ub9ac\\uc5d0\\uac8c\",\"gave\",\"\\uc0ac\\uc774\\ub85c\",\"\\uc54c\\uc9c0\\ub9cc\",\"\\ud558\\uba74\\uc11c\",\"\\uc5ec\\uae30\\uae4c\\uc9c0\",\"m\",\"\\uc78a\\uc744_\\uc218\\uac00\",\"yourself\",\"\\ucda9\\ubd84\\ud574\",\"\\uc774\\ub9ac\\uc800\\ub9ac\",\"\\ub2e4\\uac00\\uc628\",\"Put_your\",\"\\uc5c6\\uc73c\\uba74\",\"\\ubaa8\\uc5ec\",\"\\ub2a6\\uc740\",\"\\uadf8\\uc758\",\"\\uc788\\uc5c8\\ub358\",\"Style\",\"\\ub418\\uace0_\\uc2f6\\uc5b4\",\"my_style\",\"low\",\"jiu\",\"Light_Light\",\"\\ud558\\ub098\\uac00\",\"\\ubd10\\ub77c\",\"\\uc77c\\uc740\",\"\\uc2ac\\ud514\\uc740\",\"\\ubbf8\\uc18c\\uc5d0\",\"\\uc5c6\\uc744\\uac70\\uc57c\",\"\\ud5a5\\uae30\\uc5d0\",\"\\ub5a8\\ub824\\uc640\",\"falling\",\"\\uba38\\ub9bf\\uc18d\\uc5d0\",\"\\uba40\\ub9ac_\\uba40\\ub9ac\",\"\\uac00\\uc838\",\"\\uc0ac\\ub791\\ud558\\uac8c\",\"\\uc0b4\\uc544\\uac00\\ub294\",\"\\ud754\\ub4e4\\ub824\",\"\\uc77c\\ub2e8\",\"\\uacf3\\uc740\",\"\\uadf8\\ub7f4_\\uc218\",\"\\uc5b4\\ub5a1\\ud574_\\uc5b4\\ub5a1\\ud574\",\"Want_you\",\"\\ub0b4\\uac8c_\\ub9e1\\uaca8\",\"\\uc900\\ube44\\ud55c\",\"\\ub098\\ub2c8\\uae4c\",\"\\uad1c\\ud55c\",\"\\ub108\\ubb34_\\uc544\\ud30c\",\"\\uc628_\\uc138\\uc0c1\\uc744\",\"C\",\"\\ub300\\uccb4_\\uc65c\",\"\\ubbf8\\ub85c\",\"\\ub208\\uc744_\\ub5a0\",\"Ha_Ha\",\"i_ll\",\"ay\",\"Hey_boy\",\"Hands_up\",\"\\uc904\\uaed8\",\"\\ub204\\uad6c\",\"\\ubbff\\uc5c8\\ub358\",\"\\ub108\\uc758_\\ubaa9\\uc18c\\ub9ac\",\"\\uc788\\uaca0\\ub2c8\",\"Ya\",\"\\uac8c_\\uc544\\ub0d0\",\"\\uc0dd\\uac01\\ud558\\ub294\",\"\\ub3d9\\uc548\",\"\\ub9dd\\uc124\\uc774\\uc9c0_\\ub9d0\\uace0\",\"\\ubd80\\ub4dc\\ub7fd\\uac8c\",\"\\uac10\\uc2f8\",\"\\ubcf4\\uc9c0\",\"\\ud30c\\ub3c4\",\"\\ubc1c\",\"\\ub179\\uc544\",\"Story\",\"\\ub208_\\uc55e\\uc5d0\",\"\\ub0b4_\\uc548\\uc758\",\"\\uc2f6\\uc9c0_\\uc54a\\uc544\",\"\\ud0dc\\uc591\",\"\\ubbf8\\ub798\\ub97c\",\"\\uc9c0\\ub294\",\"\\ud658\\ud55c\",\"\\ub9d8\\uc73c\\ub85c\",\"\\ud798\\ub4e4\\uc5c8\\ub358\",\"\\ubb34\\uc2a8_\\ub9d0\\uc744\",\"\\uc0ac\\ub791\\ud55c\\ub2e8\",\"\\uae30\\uc5b5\\ub4e4\",\"\\uadf8\\ub304_\\ub098\\uc758\",\"\\uc785\\uc220\\uc744\",\"\\ud560_\\ub54c\",\"\\ub784\\ub784\\ub77c\",\"\\uae30\\ub2e4\\ub9ac\\uace0\",\"\\ub9f4\\ub3cc\\uc544\",\"\\uc26c\\uc6b4\",\"\\uc2f6\\ub2e4\",\"Get_out\",\"\\ubd89\\uc740\",\"\\ub0b4\\uac8c\\ub9cc\",\"okay\",\"\\ub2ec\\uc774\",\"\\ub0b4\\ub9b0\",\"\\uc798\\ub09c\",\"tears\",\"\\uac00\\ub124\",\"\\ubb50\\ub4e0\\uc9c0\",\"\\uc2b5\\uad00\\ucc98\\ub7fc\",\"\\uc2a4\\uce58\\ub294\",\"Ye\",\"\\ub2e4\\ub974\\uac8c\",\"\\ub208\\uc73c\\ub85c\",\"\\uc624\\uc624\\uc624\",\"\\ub9d0\\ud560\",\"\\ub108\\uc758_\\ubbf8\\uc18c\",\"\\uc9c0\\ub098\\ub3c4\",\"such_a\",\"\\ub098\\uc778\\ub370\",\"\\ud558\\uc8e0\",\"\\uac10\\ud788\",\"\\uc54a\\uc9c0\\ub9cc\",\"Feel_so\",\"\\uadf8\\uac00\",\"\\uc544\\ub098\\uc694\",\"\\uc18c\",\"to_hold\",\"\\uc544\\ubb34\\ub807\\uc9c0_\\uc54a\\uac8c\",\"i_need\",\"\\uc2eb\\ub2e4\",\"Ay\",\"\\uc228_\\uc274\",\"and_again\",\"M\",\"\\uac78\\uc5b4\\uac00\",\"bang_bang\",\"the_moon\",\"\\ub9cc\\ub098\\uc11c\",\"out_loud\",\"\\ubb34\\ub108\\uc838\",\"\\uc0dd\\uac01\\ud558\\uace0\",\"\\uc5b4\\uca4c\\ub098\",\"\\uc5b4\\ub460_\\uc18d\\uc5d0\",\"\\uc11c_\\uc788\\uc5b4\",\"\\uc624\\uace0\",\"bring_the\",\"\\uaebc\\ub0b4\",\"\\ubcf4\\uc5ec\\ub3c4\",\"GIRL\",\"L\",\"\\uac70\\uc9c0\",\"\\ub4e4\\ub9ac\\ub294\",\"\\uc5c6\\uc744_\\uac70\\uc57c\",\"\\uac70\\ub9ac\\ub97c\",\"\\ub9cc\\ub098\\ub3c4\",\"\\ub098\\ub97c_\\uc548\\uc544\\uc918\",\"\\ub2ff\\uc744_\\uc218\",\"place\",\"\\uc88b\\uc544\\uc694\",\"\\ubcf4\\uace0_\\uc2f6\\uc740\\ub370\",\"\\ub108\\ub9cc\\uc744_\\uc0ac\\ub791\\ud574\",\"\\uc788\\uc5b4\\uc11c\",\"even\",\"why_why\",\"\\ube5b\\ub098\",\"\\ub110_\\uc9c0\\ucf1c\\uc904\\uac8c\",\"EASY_GO\",\"\\ub9c8\\uc74c\\ub9cc\",\"well\",\"right_here\",\"\\ubbf8\\uc548\\ud574\\uc694\",\"\\uadf8\\ub54c\\ub294\",\"l\",\"S\",\"\\ubc18\\ud574\",\"\\ubabb\\ud588\\ub358\",\"\\ud655\",\"\\ub611\\ubc14\\ub85c\",\"\\ub3cc\\uc544\\uc62c\",\"\\ub098\\ub098\\ub098\",\"fantasy\",\"\\ub9e4\\ub825\",\"\\ub3fc\\uc694\",\"I_swear\",\"Everything_s\",\"\\uc65c\\uc774\\ub798\",\"hoo_hoo\",\"Come_back\",\"summer\",\"bad_boy\",\"\\ubaa8\\uc6b0\",\"Somebody_help\",\"\\uce5c\\uad6c\\uc57c\",\"\\uc18c\\ub9ac_\\uc5c6\\uc774\",\"\\uc14b\",\"\\ucda4\\uc744\",\"\\ub41c\\ub2e4\\uba74\",\"\\uc9c0\\uc6b0\\uace0\",\"\\uc55e\\uc744\",\"\\ucd08\\ub77c\\ud55c\",\"\\uc608\\uc804\\ucc98\\ub7fc\",\"\\uacf3\\uc73c\\ub85c\",\"\\uc9c4\\uc2ec\\uc744\",\"\\ubb3c\\uc5b4\",\"\\uc9d1\",\"All_Night\",\"\\uaf43\\uc774\",\"\\uac70\\ubd80\\ud560_\\uc218\",\"Tell_Me\",\"\\uc798_\\ubab0\\ub77c\",\"\\uc6b0\\ub9ac_\\ub458\\uc758\",\"No_More\",\"the_girls\",\"ready_or\",\"too_late\",\"We_gon\",\"\\uc2ec\\uc7a5\\uc740\",\"\\ucc3e\\uace0\",\"\\uc774\\ud574\\ud560_\\uc218\",\"\\uc21c\\uac04\\ubd80\\ud130\",\"From\",\"\\ub208\\ube5b\\uc740\",\"wake_up\",\"lies\",\"\\ubbff\\uc744_\\uc218\\uac00\",\"\\ud568\\uaed8\\ub77c\\uba74\",\"ME\",\"\\ub3cc\\uc544\\uc11c\\ub294\",\"\\uae4a\\uac8c\",\"\\uc2eb\\uc740\",\"\\ud558\\ub8e8\\ub9cc\",\"They\",\"\\uc654\\ub2e4_\\uac14\\ub2e4\",\"\\ub05d\\uc5d0\\uc11c\",\"\\uc774\\uc0c1\\ud55c\",\"\\ub098\\uc796\\uc544\",\"\\ud478\\ub978\",\"\\ud588\\uc796\\uc544\",\"\\uc774\\uc81c_\\ub354\\ub294\",\"\\uc548_\\ub418\\ub294\",\"\\ubfd0\\uc778\\ub370\",\"my_soul\",\"Sexy\",\"\\ubb58_\\ud574\\ub3c4\",\"\\ub2ec\\ucf64\\ud574\",\"\\ub098\\ub9cc_\\ubc14\\ub77c\\ubd10\",\"Na\",\"\\uace0\\uac1c\\ub97c\",\"\\ub3cc\\uc544\\uc11c\",\"\\ubc14\\ubcf4\\uac19\\uc740\",\"\\uace0\\ubc31\\uc744\",\"\\uacf3\\uc744\",\"\\ud63c\\uc790\\uac00\",\"\\ub418\\uc9c0\",\"\\ub108\\uc796\\uc544\",\"\\uc9c0\\ucf1c\\uc904\",\"\\uc5b4\\ub9ac\\uc11d\\uc740\",\"\\ubcc0\\ud568\\uc5c6\\uc774\",\"\\ubc14\\uafd4\",\"\\ud544\\uc694\",\"Hold_me\",\"\\uc8fc\\uaca0\\ub2c8\",\"yeh\",\"\\uc5f4\",\"wrong\",\"High\",\"so_crazy\",\"Hoo\",\"kimi_no\",\"\\uac14\\uc5b4\",\"\\uc608\\uc804\\uc758\",\"dance_floor\",\"\\ubcc0\\ud588\\uc5b4\",\"\\uc5c6\\uc5c8\\uc9c0\",\"\\ud558\\ub8e8_\\ud558\\ub8e8\",\"\\uc790\\uae30\",\"\\uadf8\\ub308_\\uc704\\ud574\",\"\\ub0b4\\uac00_\\uc6d0\\ud55c\",\"\\uc800\\uae30_\\uc800\",\"heaven\",\"try_to\",\"\\uc0b4\\uc544\\uac00\",\"\\uc7a0\\uc744\",\"maybe\",\"\\uc790\\uc874\\uc2ec\",\"hate_you\",\"never_gonna\",\"\\uc120\",\"\\ub9d8\\ub300\\ub85c\",\"Are\",\"Feeling\",\"Shawty_Shawty\",\"rang_wo\",\"Play\",\"\\uadc0\\uc5ec\\uc6b4\",\"\\ub9d0\\ud588\\uc9c0\",\"\\uadf8\\ub97c\",\"\\uae30\\ub2e4\\ub9ac\\uace0_\\uc788\\uc5b4\",\"\\uc548\\ub3fc\\uc694\",\"\\ub4dc\\ub514\\uc5b4\",\"didn_t\",\"\\uc774\\ub7ec\\ub2e4\\uac00\",\"\\uc774\\uc720\\ub85c\",\"\\ub194\",\"\\ub108\\uc758_\\uc9d1\",\"\\ub450\\uadfc\\ub300\\ub294\",\"\\uc5b4\\ub824\\uc6cc\",\"\\uc544\\ud514\\ub3c4\",\"\\uc7a5\\ub09c\",\"the_things\",\"\\uac07\\ud78c\",\"\\uc794\\uc778\\ud55c\",\"\\ubd80\\ud0c1\\ud574\",\"\\ub9d8\\uaecf\",\"\\ub530\\ub77c_\\ud574\\ubd10\\uc694\",\"B_B\",\"\\ud3ec\\uae30\\ud560_\\uc218\",\"\\ud587\\uc0b4\",\"I_promise\",\"\\ub9d0\\ud558\\uace0_\\uc2f6\\uc5b4\",\"hate\",\"\\uadf8\\uac8c_\\ubc14\\ub85c\",\"\\uadf8\\ub807\\uc9c0\",\"\\uc544\\ub2c8\\uc796\\uc544\",\"must_be\",\"\\ub192\\uc740\",\"\\uadf8\\ub824\",\"\\uc801\",\"today\",\"\\uc0ac\\ub791\\uc5d0_\\ube60\\uc9c4\",\"\\ub0a0\\ub3c4\",\"\\uc190\\uc744_\\uaf2d\",\"\\ub193\\uc9c0\",\"miss\",\"\\uac78\\uc694\",\"\\ub2ec\\ube5b\",\"into_the\",\"\\uac15\\ud55c\",\"ooh_yeah\",\"Talk_about\",\"\\uc218\\uac00_\\uc5c6\\ub294\",\"\\uc218\\uc90d\\uac8c\",\"Think\",\"\\ubab8\\uc5d0\",\"Bounce\",\"It_Up\",\"party_tonight\",\"BEEP_BEEP\",\"\\ub098_\\uc5ed\\uc2dc\",\"\\ubc14\\ub77c\\ubcf4\\ub358\",\"\\uc9d9\\uc740\",\"goes\",\"\\uc2dc\\uac04\\uc18d\\uc5d0\",\"\\uc790\\uc2e0\\uc774_\\uc5c6\\uc5b4\",\"Turn\",\"\\uac70\\ub2c8\\uae4c\",\"\\uac8c\\uc784\",\"\\uc2dc\\uc791\\ub41c\",\"\\ube4c\\uc5b4\",\"\\ucc2c\\ub780\\ud55c\",\"\\uacc4\\uc18d\\ud574\\uc11c\",\"\\ud488\\uc5d0\\uc11c\",\"\\ub208_\\uc18d\\uc5d0\",\"\\uc6b4\\uba85\",\"\\uba48\\ucd94\\uc9c0_\\uc54a\\uc544\",\"Paradise\",\"\\uace0\\uac24\",\"\\uc785\\uc744\",\"Cry\",\"\\ub3cc\\uc544\\uc640_\\ub3cc\\uc544\\uc640\",\"Yeh\",\"\\ub098\\ube60\",\"\\ub4e4\\uc744_\\uc218\",\"\\uc544\\ub2c8\\ub77c\",\"\\ub178\\ub798\\ub97c\",\"\\uc65c_\\uadf8\\ub9ac\",\"\\ucd94\\uc5b5\\uc740\",\"\\uc544\\ud514\\uc774\",\"\\ud558\\uaca0\\uc9c0\",\"Why_Why\",\"\\uc5b4\\ub518\\uac00\",\"\\uc774\\ud574\\ud574\",\"\\uc5c6\\ub294\\uc9c0\",\"\\ucf54\",\"\\uc218\\ub294_\\uc5c6\\uc5b4\",\"shake\",\"\\uc5c6\\uae30\\uc5d0\",\"\\ub2f9\\ub2f9\\ud558\\uac8c\",\"DON_T\",\"\\uc139\\uc2dc\\ud55c\",\"\\uc54a\\uae38\",\"\\ud3bc\\uccd0\\uc9c4\",\"\\uba48\\ucd98\",\"\\ud589\\ubcf5\\ud560_\\uc218\",\"\\ubabb\\ud574\\ub3c4\",\"\\ubab8\\uc9d3\",\"\\uae38\\uc740\",\"\\uc228\\uc26c\\ub294\",\"\\ub9d8\\ub3c4\",\"\\uc5c6\\uc744_\\ub9cc\\ud07c\",\"\\ub5a8\\uc5b4\\uc9c0\\ub294\",\"\\uc11c\\uba74\",\"\\uac78\\uace0\",\"\\uc9c0\\ud0ac\\uac8c\",\"\\uc798_\\uc54c\\uc796\\uc544\",\"\\ub098\\uc640_\\uac19\\uc774\",\"come_true\",\"Do_It\",\"to_stay\",\"Touch_me\",\"\\ub2c8\\uac00_\\uba3c\\uc800\",\"With_You\",\"Without_you\",\"perfect\",\"\\uc18c\\uc6b0\",\"Day_by\",\"\\uc5ec\\ub9b0\",\"\\ub108\\ud76c\\ub4e4\\uc758\",\"till_the\",\"\\ud568\\uaed8_\\ud588\\ub358\",\"\\uc54a\\uc796\\uc544\",\"\\uae4c\\ub9e3\\uac8c\",\"\\uc2ac\\ud37c\",\"\\uc218\\uc5c6\\uc774\",\"them\",\"easy\",\"\\uae4c\\uc9c0\",\"\\uc74c\\uc545\\uc774\",\"\\uadf8_\\ub3d9\\uc548\",\"\\uad00\\uc2ec\",\"miss_you\",\"\\ub178\\ub7a0\",\"\\ub098\\uc5d0\\uac8c\\ub85c\",\"\\ub108\\ud55c\\ud14c\",\"sun\",\"\\ud568\\uaed8\\ud574\",\"\\uc544\\ub2d0\\uae4c\",\"save_me\",\"\\uc601\\ud654\\ucc98\\ub7fc\",\"a_dream\",\"\\uc624\\ub298_\\ubc24\\uc740\",\"\\ubb50\\ub2c8\",\"Fantasy\",\"Three_Four\",\"xi\",\"BANG_BANG\",\"\\ub5a0\\uc624\\ub974\\ub294\",\"\\ub204\\uad70\\uac00\\uac00\",\"\\uc228\\uacb0\",\"\\uac00\\ub054\\uc529\\uc740\",\"\\uae30\\ub098\\uae34\",\"\\ucda4\\ucd94\\ub294\",\"\\uba38\\ub9b4\",\"\\ub9de\\ub294\",\"\\ubcfc_\\ub54c\\ub9c8\\ub2e4\",\"\\uae30\\ub2e4\\ub838\\ub358\",\"\\uc0ac\\uc18c\\ud55c\",\"\\uae30\\ubd84\\uc740\",\"\\ub2ec\\ub77c\\uc9c4\",\"\\uc138\\uc0c1_\\uc18d\\uc5d0\",\"\\uc785\\uace0\",\"\\ud55c_\\uc21c\\uac04\\ub3c4\",\"feelin\",\"never_give\",\"\\ub290\\ub08c\\uc774_\\uc640\",\"love_song\",\"\\ub9e4\\uc77c\\uc774\",\"breathe\",\"\\uc5ec\\uae30_\\uc5ec\\uae30\",\"Hate_you\",\"shou\",\"jian\"],\"x_coord\":{\"__ndarray__\":\"RXmhQIFfpb8nFmFAx21Cwd6c3cBOiAXBE4ZiP0v4h0CsY5dAjtUXvzETVkBEyuZAf0RkwbMlPMGkW7ZB8/jiwBBk27/BQAfBimeIQUsVuEHDrWXBixViQJOAQkHAPJ3ANM8gQbldkj6rL8ZBJBRowP0In0GorHNB/72uv4gvocFFkYJAIGQWPxM/lUE0u5nAAQ4bQRDrskFbH4tB8uTawe1dxsHuQeo+KxVAwdF8BcL58INBP1OIwW+9I8FkRTdBFwoOQLYwmb42auRAUQFmQC7sNUEMYcVBkd71QUAZwUGmpZFBRMpRQDGzOMFxeFlBxJeIQexo40EhLVZALNeQQQcQuUEf1KVBkM5zwcdWg8ClhbtBfkOvQMxi5ECH5PDAM5TlQOokRUFbg/3BaeJtQcDU+cEs2UVBWVNLwfw4875TRtRASMeoQPfAHcEMJQa/tGMmwCZ138HUfYBBgY0RwoHF8EG+PPrAD7shQj87UD9s6UJBkR9LwU+WTEHAY+RBQg8cQRNo/z9487VAdqw7Qbeu5EBMxypBueZmP9Z8p79eHJ1BNFuRwVI1XEEwUSXBNdlgQehGRb/3uk0/7mc9wKsXxUALVeC+ZKZCPzBhkMDzhk1BGaGNQGOEkMFZvIDAPj8BwmBIgEESF1LBW6B2QMIQVMHMihRBSoU8QW5EQz93v4/AZ8WzQaBAmkHV8rBAkoY0QUITSkGFdV1B9OZBP9K/T0HUEy1AyMe7QUTwPEGmvq5BwreQwUldrcCoP+JBkOrCQcjbVEHvBSPAamD8PsfMB7/ThxlBHWRwQbZeFkEkQ61B86rEwaUzBcFXoL3Bs1auwcGTdkH5KObBm1M1wQjbjUAZ68M/5oFMwaidksG4+ArCC8npQEmjA0L+48xA9DscQCA3pkC5rz5ARs8cQDQEpUAJXBpBW7zCQcTorMA2fdnA6CjsQZHD4MENVd5B6KbFQXVgHMD3dZZBm357wPSXwUFgi7BACCY6QU0028HjPD5B7AzkwT9KEEI2BfRB8ejhQE1LgEEbaZlBTiylQfjIIUE2YelAl6vYQcGVNkGaYsS/XRY2QalaBr9OZ+7BN7WvQbjGBEK1s2VBELVuQUU7AEImgXTBylyjQW+ZPkHTAulBlGL/QNKwf8GSHzpBT+EoQOcvv0G5IWhBoRX1QZEFh0B8BvLA2KwZwjpRccGXtsjB0FCkQQ9Eqb/AEu5B2UnswdRAicEQ6ajAExv1PzoY5EDMKwvBq8IYQqSo10Couv7Bx+84wbuNyMFgkFLBEVQ3Qa1VS8H5lkFBQLX4P66St0BIGHK66pRDQYmJ4MFigkRB7hSkwcURFsLLEPBAjNjkwVY3xUHbmT1BOqUYQcNhQj+k+z9B1zZEQfgoM0Kbwy9AQfygQS8uqUGsuCpBRqgpwY3+IEEtvgVBo6BfQLF9BUGrKwzAKuw0QgJQJEFv8YHBBdUWQSyT8kF8/NnAB/E1wU8GtUG6mR7BaDOMwVaTpUFOSirAuPgKQe0k8UGJkQNBdWb2wW+w0r5yIppBVOvewXCQgEGknQy+x/bUQJuidEDST+PB+1ewQeh0pkG818hAOX/cQdGWWkFp+JxB3X/7wew7C0Jb7TPBrEzZP/0eC8JcMOJBPX12QYrK2sHxG2xB8e6CwEPqmED5TIXBAbIjwsNoEcBwTslBr62VQMapeECFdlhAWe63QUhcsUAG96LA4fTBQf9M6b5MH6pAYcYFwgTLHsBUw2dBe6O+QHgQlMBrZsZAm5fowGZE8kGydVNBEFYGwt0XEkFOkG7BrGXHPVPaTEEm+O3AKbO1wdoOEcLy9/NACUZTwIK9IMFwl/jBcW4fwdTRWkECVdbBYIj1wPU7osBWz4m/MKA0Qqr4NcHYcXtA0mDAweNHIUK+x4vB1V6XwVVrYj/ag1fBNIXOQK1HgcCykIxAHuutP6Qa7kHn/rhBTCU/wbRL0MBh58nBneaEwe2M4sCVgK5BTMUGwmf8g0C2BYnA6GsDQcX5VEF+aZvB1lDkQdbphUF29L1BcCqnQZ6r9UE7UyZAEM+owd+Jgz897dxBF4k3wJ8nMcG0gA/AHXA3Qo19VsAzJt/BqNowQH/N5MB3SyBBqBE+QNTRjcG5hqxAHKoQQs0QH8FoybFBova4Qb83xcEYHoNBVAG6PntAssF6W7I+s9oYwucXt0HI/M9BtowQQEW5Cb+tu/Q/VSusQRz75EFr1qBBXwu1wVHbPEFHBbnAdyskwhuR7kEKr5jBOcDbwf4apkECs0NB/PcPQe1Zc8FJnOpAKUo9QNA1vsFDnkBAIAbUwb3Pq0A7ylZBV95SQXB3k0C5iqm/R/U2we4bU0HtrPjBA9bWQKuoA0HOhgrCB99DQR5o20B0Cc9BAha6wd6tFEK9TP4+KJ6QQfeWosCJdhZAlWmXwe4400EGhM++2oE1QbPRlUGQQUrA4a/9QMDw0sEhstFA/x2gwYFczMHM1hRCYl3Kvt62oMAu8RTBdpiqwVU1XsHb3SPCQbs4waLVA77GWJFAVhPcQRMcmMGwR5pByqSyQco7uEHejutACmwdQciDI8DGH3xAOQwOwrAM9sG4NghBg+GRQcdWvkGxLNlAxJY5QU+zfkF3MX7BU+oYQRy9zUF8BDTB3hRIQZsvVkEUX1VBcQ+BwPwTvMGfUfFA4Izsv5HDYMEs8RlAQfEkQZ8hrcEucaZB5+fIwVuBE8Dg/4RBonKvQSvn00GzLGRBzpf5wTOIAcK4RjNB6ZxewcQnNsF23qVBLkG1P6WwmsG915Y/L0rKQTT3Q0Ab94NB0Zoqwos40kFt6vNBpg6fQUBVgkHNK3tBpk7FvXSE20DW6jrB6ZWgwflVVsHOM3hBkFQswXGNv8FhJ3rBqp1iweMoK0HGhoRBe5aHwboEJkGWLzTBNIQSQANtEsIFygRAps46QanbMkKM5pxBPOo4QcAjlUGf9brB/4SqQd70E0Apb8jBaDTcQHPS58BLWJ9ADhtRQTKYVUFsLwZCmh7RPmmAMsHFLspAMInGwXHqFUEv91vB2qbOQZSldcGi0bvBo462wdIfJz9A/Y9B9L95Qc1kiUDy/5DB4fApQYDVvkFV+czBnziawQZVgkBojXvBIY95wYnV2b9Yq5VB2ncvwZ2V9sFL+JhBgAjhwc2rFUEvqlxBrQAnQbo+kkAgE1fB3qzcQIP7LcB1TapB5IQevwtrMELiC8RBpduIvmniFUETuRU+blDQwey/sEC4k/rBNS2SQXUibEAl6z9ABW4CwV/oxUAGEgPBb6mzQXr/iMFZElNBokmwwbCv5MGtHmpARcmPQSa5ksEsLTHBY6kHQbHe0MEfP/g/4NCbQKmb1sBdHWVBW6GaQVB2McFYJYvBo/7vwWmMoMH5Ya5BVhEHvnCfGcJXgnVBwzqvwTtnMMDDPt7BAhPqQO7YvUFiZ0FBp0ICwTs8pkHSlpzByLmTQXz6w0Ggw6RB6rtaQS3FS79K29FBgiSWwYgreMHyxThB6SqxP2SI/D98R6S/8tX2QDvfrcD1/5pBN5FCQf5ID0Fq5YfBV8GYQcRMycGCm4vBVn25wZKEHMFh3o3BY0/ywYvbacFdEjzBsCXwQe5yqcCAI5tBba0owtn4BkGLvmhA6JPtwIkivMGETwtCzVPXwaG+qMHCvqLBkt/QQNO7WsF4xmE+b9euQOvtwMHNfoTA4vriwQgz2EFtlrXA07TvQbVaNMHHYw9CalqXQbKvccFPpojAusSFwXYrIUJEbvRAuHHLQeqeL8A6u5rB13YhwIrYbcEkXlfB+DzhQNEax8DBSglA4YDHwd6RnEHWHK5BZm6AwVKDDEDwsuVB8geZQSKoiMGi+WnBEHP+QP0sI0FFiYNA0gngQGF5x8H6iOVBjOjVQUj9icEAMpvBsCvTPptz0EGyGTHB2rCLQaND+kBOxR7BsjUMQUrMM8EL+qZA+SDDwCW+YD8RJlDBP/W6QWz/nUHAvw9BAEW2QIMRhcCsasfB/CLtwX2IakBcBkvAlBXWwNNahECvg5RBef26wQpcVsBK95/BcqRDwYixCsIdx+7B2LtRQV7i0sAbC5XARPx1wWyjED/sjMZADumePe/0B8J1ZY3Aq6TEQEGCMkF0WphBfNcAwlFjD0LiqAHCz4fAwcd88sH7x4TBkjvqQOcQPkES5fvBUhysvbDK08CPVgpB+T+nwM9FAkCxdqDBIFuAwQOZFMEMPmxB5yraQfXwKcE1z8jBSDJiwObVzEEf2XnBpOUfwQ0oikFq6YPBBhAewqGUDcCeHZNBUBzpwS/z8cE7zAm/SpyTQRDOJcGLwC1CTNWwwGcfy7/lj4JAitjTwG0Xk0E16qnBHgm/QQRR40DvACLAqBzrQPgFj0GNnhxCh1K0QOSGkEFo6KM/colYwQLnIUHnjShAUw0Cv1uHecFhcr7BVkj1QeWQjsCQuANBPka8wfJo5UDPGMPBY0QXwiJ7XcERG+XA4biSQGJGt0HsPYdA34EbQajPwsBfn5tBdpK6QDo8MsGYP5G/KtsSwWlevMCaMQJC38oxQaksekEhVQnC0f6/QVQ7gUHPiErB+s0awXHJRUFi5L9BHziAQTuu00GKsOnB71vkQHJZxMGJYb5AdaczwbxboEHA+gdCjLUmwfYfBMIGdAHCmSFDvydFekEM0ZJB9dVGQWCgTUGqIxxBFzbvQAiU0MCUCXnBjLaKwOzGb8EhDS3BBOztwShZEcAD2ZFBad+tPrJCeMBqTQBCPqERwYzztsHAFs3AA4ufPvpX6MAZ+n5BsnScQWCoGsKqG8dBUGZLwZakDcFTdKJA7h62QL2bNMB9U5jB7ANsQSw3PUGUd9G/FxYWP8VfjkARQATCJADIQCGMj0HZCutBU9gJQCKd5MDb2Jg/QJebQQv5bUGTMrrB+LoCQO2pVkFmlKBABuWowUSbv8ErIonBhw5HQRnpgz8zqWhBX8wHQelxIkFYr3jAG8I5QRCOt0ELMQzAWSQcQReHt0G5hDFBH7RiQFkb6sF8A+zBamD9wWNic76u2KfBcot8QGxcU8FEQZrBqZbBPx5Uy8CZkOJAaEp+wY+V0MHZ2X3Bx7hqQew3CUHUJ+M/mNOVwVWSjMEG6qDBGhc3QS9e50E4WdpAc2gav7qK+0FLgLfB9IshQXUVfEG+CApBpcwZwVWiDkFzDPzAFsyvP6cd/8AodttB95BQQbGC10GCKPHAXCgXwW5H8EC0XBnARK1iwZVcysEdYeJAhAKawaHWAULaVv3B0msxwRyzFEF4wb7AbR1vwZ2ypcFFKRZBQYvkQfa/u8F7s3ZBSnzfwavw6UDnpHBBar40wS8N+75rtsLBaVUKQfijCEFNo45Atz5rwFZRhcFt1RXBImpIQGq5ZUGPZT9BfJC6wdig58AVF3pBBjPEwZwdokHvU7zACeBhQf43fUERtaG/K85rP77eBcGxsq7BLGSzQEJ0az9f1r5Bw/I5QcAXEcKCNwbB70DRwGB0bkFLQXBB5Kh7wXfe0EFW3SLB3m+3wB7M+0Gg/j9B7XCTwSE0KEDrsGZBf/1QQQ05RUEsXhnBoc83wcVKX8ELmpW/Wqy6v1V4skBLZCtBlFbsQfPcX0FHD9HB69dOQU3ZWT+JPJpBIP4ZQc6c0sG2NS9B7Ad+wSds28A1fLLBeCEGQr04WkHOh2jBl1k4QuclLr++X+JB7xJNwXh7OMHId4FB5xguQjJk80CMOF9B8E1LQUB4z0BAKazB6i1XwUVqMcDjZjxBzyQhQQ2bWEFnCfNBQ5XvwGaRpUEgUkVAU12OQfEdwMEWEjJC/b65wZEILMGgQYJBaT+sQYxc78GbijtCBy4zQu6oL0J/9snB/1dEwNTs6kE7+61A9bIxQel3I0KJ9sDBKTJUwY+vDsFUCuHBqD1VwenmJcC0ylpBg2NnQCO2UkH3YuVBaDeLQfjsoUGPa1NBUp96wQlpNEH/LYFAVpSNQSnspUF/MUxBbxrTwZXrhkHKg6JBV5QUQewhdUHHlSXBwXweQR8cr8EyjPzBz7S7QRxglED2PwrBT/LcwOPXJT5RSw2/6yrEP+X7WMBvC9rBfJ4ywaTfYMGviY3B7s4swc2T+r44tYrBsq2RwW/r5kCI1MJBXLH6wNP1kkHSiAbBUceHwZAEskGp7kHADpyCwTKyucADa7jBQJhvQdInBMGU0fHBMuhjQfZQL0KfK1dBArIhQfCRJUE9bs/BioGIwWExSUE8jvLBgSwbwRbmXMDqxIXA4j+1wef0rUCA7XfBMKG8wf1cjsEJ9mnB/buVwR8Jt8BxByrBwn3jwVPEpkH1aV7B4E4HQWVK2kG9y91BeJulwTkYHUE9r4JB677mwd58tEFU4P9AQGkLwqhOBML+Qce/InUwwbexRsEwa6jBvQCDQFa/IT/gILzBr3evQX1lcEES3//AEdmrwPofHsCaf5W/VxTMQMxCLT8BFVDBd3d/QRmsG8FOUI5BT9z7wGEFNkKdWTzAuVSGwCCJk0Ef66jB3xKmwGnwfcDugIbBJHG+P9C3rMFytXtBJixcQd3gncDPz6hBCQHbwQoPtkGGJEm+e4JCv1wWKULWBEw/tcsAQR1GhL5t3YTBirA2Qnh4zkGowpTBEHv1wC9j/cCQn1C/gqZawbBEdUHe6rPBFhB6wVa8DEDwYC3BM+dpwWuGMELMfLPBOiZJQexsNMFH4TNAloqSwUY1a8FBgK7AipncPzSXC0JGyBnCXlhyQQ7de8GAcMdB8ha9P19VgMEzPU9BZhWvQdDpm0FkprxBxCnPv8Nw10AonUxBBD6EQZf+skF/FqzAJYNUQJlQwEFFPLdBDrQFwX4M3UDlbR3B2AuoQH88iMHKJHRASngAQRR9ScCLvQ9CVx9OvjUpUEDsyjLAdHQPQG+JCMGzk6nB5ZhcQfduYcE302bBTPgAQb6BX8GE5mRBGg2QQKNRrMErROzBpUNrQdCJTEE4rwHBSE7IQR/y/ECZZ9tBr+57QY5eE8DVrdxBh1jAwSD9GcHKDkFBFB+CwWpw38GDMYrAkX2OQRMC/sFBappAWgggweqwc0B5AANBgGqHwTKoxkGnF5y/Xf71weyXDEFjVBDCgvOSQf3qBkGUPNc/8DZRwbrMLkLxWaVAuAKwwNCJBsL9BOBAGxP6QNHL40Aav8lAiGOSwE/r+kDZ5/vALsM7QcCD4MARiWPBXea8weFmcEFMag/CJIIXwcZUEEHe5OBAC9myQfuWgsF67EnBhpISQdCE3kGB0QLAXw6Dwcqr+b9x+0LBPpgZP3+tsUEkhw5AM8knQWw4UcHqMJHBkI6EwfdArcHZbExBjDsiwPl3NEKnnoLBTCMhQlr5wUG5u8TB7ymlwVwVCsFqtcVBRcMNwfgwJMJgtWtBSl2ywTCxrsECbuDBdeTCv+FwCsJg8WQ8WYreQM2e0kFyPi5CpbuSwMnYtr9XwJzBZmSmwKD2mcGX8uNAx+T9QGLNBcE5gKFAPGeiQAVkDcG4Wk1AhCyEweQT8sHA1x3BkQGDQUKQ+EGmar3B4+DIwNsxg0GbpCpB/wrjQZqon8ACY3fB68ZlQbWEPD6mqBrBJXy1wX7AvkF/IFlBXp0rQhSlrEEujlXB4iIiQZa2tkAIC9FBfsNFQUXZBUInn55BTsG2wdKnXcFek7NB9RXsQXu47z7m+09BFAHnQZeemsGCqptBMRi7QIR9mUHhVM/A87wXQWS4ur+DSQjBR9mewcA750AugIVAqRhgQXG45cFq6bXBHyAowBvyQUENGIHB2roEQm7LMELrpS9COPluwTVtS8D65GzBwx7YPpHj5MGUQ2NBIQ+NwUvrV0CKh+BAVdLQwUyrBEIfzYPB0eXoQTdOnUGULU1BFYQSQWfVr0GVMQ5BMbscwvXfyL9pLDBApRScPx42RUGa0JVBYv1zwPy9RMCwJ6RBj2MnQQcKpMAWcuXAKNiQQCUu4UCWqLPBW7WCPwZtBkJA/BRBPFmmwYF8RkGHItk9M4+DwPG+XkEr6ZlBrsNbwRMqdkB3Y7tBWuE1QjHM+D/4+njB8o9Dwb5r+ED/6s/B1p6DwYPfpcH96SPBP8F/QR1qhEGuhjJAuYIOQW2FlMF36jrBY6Y2QZrbIEHJFDZAvtrAwCxMwsEyiL3AcOuzv9q4LcHvL7jBDThtwXGjEcCVfStA7J4Iwmhrt8Gh9M3AyMdAwf1gMkDRZolBeKoHQUtRHUHamrZAOkg2QRgFPUHKT6zBQO4SwHkinMFcxFbBhUy0Pw+sIEGw/YFBCfs9wTs+rsFN+lbAiwLYwUqrpMEcH3zB/2qAQUlW9EBsHITBr3eXQKWXNEJwrSlBPyGKwFna28GjnTXBR3z0wb9aqUFeZl3BgM5XQWl80sFE9ubAwiXAQZIXcL+gpnBAmPyfQPU8WcHn65HBVPSfQSNZyz+I84/BlfN9wb+amcFB15PBSMJlwXKYnsA6jDRAqXCyv3Eu5cBQuaHBvpIBwlILcMEV0Og/AjQhQfnvvUHfhI2/7F2DQRpJ28EFFJVAfYMDQibVMEJlIpHAlEgRwdI+IMHM1YpAodfEQc1vHsGP3ZlB/32fwd3cvsEiP9XBH+ijwBgLAEFQ7wvCOhrVQN7Qg8AgQg/CCYpmQTRmVT6RP4VB16uXwUtvRECxtZK/NlbZwUqjO8Fkt2BAZE6aPvSlIUE26dNBx9NMQT6z9j8dTCxC9K/cQf+4k0DP2pPBkgBBwWGbZkHuCe7BmuMdQaIZaUHxljVCKWMdwl4AmME4UHdBLm0dQSDte8EFRrA+elKGPrzYXsGmCAbAqU+nQLuFkEG+Oh7BD36owSACksFNvAXALoy5wUEoLMHarPhBwueYwXLIpcDN6eRAWs0Mwhu5dUFroty/+GrfwW1EeMGY4xRBWyp0wcpu+MELBSPBAkQYQk7f2sDUseTAFRBlQQJN+sGkZfJBqMRfQeDNCEFw6KnAIGzewdgJD8HCgidBewOSQO4/30FIxgZBLdMswuFD6kFKX2zBTMyWQRyW5sH3jw/CeLOzQDXnLkKFZdXA40mNQccbx8BV1jdCgdjhv57xxUFOjYbBCdW+Qff0xMG8H8fBj8U+QVwnycGy0LHAfnTxQdb3NUIsJ1FBp7rvQGNQB8KYzgU++hMHQCYrlMHxMKrBvhNSwZQjH8HTq+nB2wQGQrFpCEH6UXLBq5/aP/lywME0DTpB6Ih7QcmgUcGD0v9BjSSVwZb9kkAr0g9AlaezQMsMocGnFSxBfsb2wf527cETt43BXbWEwfX9mMFnvorBjsqgQYDTMEJcxAlB03VswR47OMA1TaRBPg6hwZBjikG63uu/6eOVPsh92z/hj4FB7EC8wdhpdkEgvwfB11i5QN8fBsJZa0/AaceJwWNnj8DhnLdAw36VQdDCckAIedRB7ZA6QQvYC8KocfxByQ1xwXWh5EHrTglBznCPwAV4IsFIFnXBInyJwSnfOcFB2STClcyrQZiB/cEsUNrB2IguwSgC/kCunKdApFjbQFej3sFqQvpBhiTewaSkqkH03utA0heHwZ/lusANPMLAuuoMQpDcy0DY0HZBXivRwKOGskC4amdBqU+sQGKffsFcaHHBegbgwfiljcCG2+RBQ5guQYKztMHct5DB5/Vqv9iNCcK09e4/sEdpwe1/ND/0gjHBg1+3wdLlGcJdOBfCXwAFwV+OFUH7PgNCNdvRwX0ek0H8bNpAsLXAQNpa2EErSrhBm4UQwq5jxEGWiOfBgsaswWJdrcE7SZ9BZPxlQbbdRz9z/KE+0hfpwKZVdEDt3zVC//7vQUHme8D+fRDCQFqQQdNVrEDvyT7BM6v4QWSBBcGExNvBfwatwTvH48FoMfa/0d8TwUJK7UHTZD/B/HU+QoVCBcEM/afBCjUtwRWxq8GVuQrC/nRDQXIrEEHJ+Ze/jLwFQacamMCV343BXRORwMUJm0HTZ67BBrGjwWHhckGav7JByz8JQVyaFkEuSyxCYI8LwZc87r7IFCrBcDsxQrmkUsE9rYjBjxu4wCDt0sHhqew/EvSIQVQELkLHxx9BWoNOQdoY6b5udxxBTtQcwTB5acEG0kzBcAkYwaIozEEbjbRBXicawM+WpEFhbQtB11/bwR3ShUB+1vjAOsSSwZEWpcEl9DhAwz7tQR91NkJffYlBuz78wZvA8EHRsxXBYeivwEQUhkEnp8bBfuvdwNBkTL8nuj9BDzqlQHYAlEDh3QDCrG+pwI1iT0ER4YLBp7nQQEwjREH0REDBjh5awTnYzMGSkRnB+NsoQYncfUE2NLdBloIwQWVc08AcQ5xAElMbPxbF3EDZvNDAzM0zwbW4EsH+oQ7C0NkUwCwik8BjTG7B5C2GQE5P0EEH0XTB+3i9QVMhC0DfTdPBX2YSwXBxg0BeTzlBkQJpQXjHycF3Ai7Bb6N0QIZFmT/YTqM/dFaPQN+xNELZJ6TAoT2KwZtesEHk8+RB98AZwZb7R8GfgpNBxm/9wX/cXMFnnW5BRoMQQXfzjUG2xapAF/FpQUhFnMGPFYHBBamAwI+qI0JGyIRB/2ELQlNupMFrXa7BrWbQQYS13MAuv8nBVcYzQdHilsGfdpZBgdMxQSU9J8ByraFBlXyJQf1orMFIbwvBRjjYQVvsYkB//K5AGQ3RwdtjRkETEOnAFeHQQNu2u0FzEsFATt17QYFBfj81n8FA+YejwRC0gsHagY5BzzN3vuf4+MA5uc7Bn9qLwWtsOEFB3PNAdc+HQKwnEcHaLppBumw2wZ7HQsFTPczBvmzAv6kBg8F8bmFBNE0rwZjmNkCsNBfB8o7awH2Lc8FUfR/AdjxBQcTLPsFAB4a+6evYQDnHRMHnBLnBZqPSQJdrnkE0SjLB8raHQdLM0kGPFZtBJJG5v+0Dh0HVIK1BdlTfQG3tW8Bz7YLBm7CQwHhYBMLhNx/BfUdLQbSikUGnTLlBv50SwEGAWsGDnWTB8/WxwbEhTMGXOpvALInRwRz2+sEnkjNB1a61wPk0c0F5e6jAHhYIwjHOxcHaZMFB4DLowCO5KkKSkwFB4c+EQRGTvECyrI9ASDeCwa5vvMHaf+bAZbeDQenv0UE4NqdBqzz9QH56gcF2VTpBoO+IQWWzscFu8QdC1rGOQS/nLULjRbBBz/ICQWk0fkD4Qh3CjB/uwYTvmUCZy+HBbZoeQMlonkApq5XBrKKCwR3jNEFz4JTANiJoQavZi0Ho2ODAToQvQh24FkLj1kNASXmQwWaOCEG03E3By6CcwKydGT4QrYtBaKS0QIs7qcG73KHB5gf0wI2g0sECn4jBMtj4QVoNFUKV9AdCyEEOwSepwsAu63LBr9ujwS1S68GnJV/BWyXhwTWR4sBRoadB/6rrwWdF+L8KaZXBU2M2wZs+wT5jHK1BJjOEQKTeasG85Y7BrwgWQVLLQ8EqTIzB7y4oQG5UVcDikrnBAPXcwCyzs8H9hE1AkEPYwaUejUHwx1tBQPxPwY4W6ECL/ek/YSoeQT+gOsHfxG7BT44PQhfy7EDVuGHBpo2+wZv11cG8S/RBDNWWwWiuhMH/vJTB0CiMPWGhosEWT3dBBLjGwBul/8DetlXBxO+iQEkAF0HJdAxBdWFgQMgkYcFTtoRBRdOxwBTNycFr/9w8AinqwDPfrsHUwPpAvNvgwWhs18A9DhdBQXDivo8PgkG2FhY+ER2+wSC/JMJMEg/BZsISwtXgdsGuYq3BwcEmQtX2ID++JIDBN3A7vwV5K0FvXEHAohqewH385cBdfKFBO8mswRmGEUC779/Boi2cwUXMDkE/U8hBLNQOQVXQNL+TkMRAUk4sQkqtj8B3qe3Axi5+QTgjhkFuONLB5btkQaAk48GSmKXAOoEXwhSU4MAxwiDBM2VrQQ/KbMHacVhB4IHgQCMSCMJmAavBiBAeQgjvs0BOsaVBt+KvQaZPpUGEiHHAqok1QUnM0cELW2jAl8TiwOv2h8CQBsjA3z7SQJMtesEMIQ3BlOc9wdwNSUHBYivBT30cQdvxNkJ0jFtApjQRQGljQ8EMfbjAfzHBwFmkakF1DPnBQxoZwcevCcGdUkHAjPRkQaC4gMBbWcBBtw2VwetuF8EvUx5AqzP7wdbvPMHTDvPAYK5rQdpvIUE24fBAZVzRwZBGH8HvemHBwInkQXqtekHXoZ1BP0IFwq3tQcFzIs9ATPjrQEFKiUGNt6XBBcBxQSnwBMIfSC3BL6cIv7ylQMF7VaC/4TJCQAkk58DHGx5BSnxHQJTODUFmUXhB17uLQQoZWsDKR0w/oLstQuhPLkI19jJCe6NBwfFPgsDxfQjAq3ENQZ9pk8AGBUVAoXu/wJfRzME0A5Q/lsvpQORyh0G+64RBNs8HwpxJQEEyUs/BUzXaQHbWLcGHiBfBD1U3QeObAkIBrtQ8Aco/QLtkIMGiSAhB3uIDwtgX9UCE9wVBhOZMQbbhIcG/FSjBQMfkwD6JjUCTnx5BPzMOwWtOzsCVB23BU58hwGOrsUAubrhAm1t3wEkH98BpxqfB43MowictjMHQxabBTaa4weT1pUGBQ/vAX13FQX7abMFA/XvBqbMUQYjelsGNsuPAOQJ5vx95nMFEA4jARoSPQZiQ70F/7ixCd/GYwYVKxkGnpIjByCMEQOMgpMA0NRjAjIKUQRf1pkCD3uw/CZJRQfmEJkEaWbhBKkcHwpCQsUHf0itC9og8wPf65EC9kKnBEvtKwcF+gcD8pxjBmFtnwe6or0HkFIhA9Lv5wTQcjEAME3ZBGg5LwaCCKECdSzBBsWvFQeCQLUHaQTtBinSdwZ6o6EAM9nTA4lC0wYZPksBpd5/BqqmdP5zElUE/abFBGB8PQbdnREHdMZtAWmkwQlPvPcHYZMrAYn5tQXvanMGN4UzBs+YAwfC74MFqYqdB73orQWCZiMGErWjAPnsBwdY8x0EWVdLA1rOUwRJYHMFZB6y9q8RYQQT0i0GVlNTAkBOJwU9VKkJZ7WxBMrbMwatiucA0jHJBx7tVQE+837+9WMPBkb+QwYggCcE4J83BUB/LQHi8I0EAxJY+rTIVQKPLvEEOcSJCGw0zQiFF28HRfJ3AgE0CQe4XeEHRKfTB4Fwawi73GcKv78fBpWxtwbiwOkFO7t0/7+R0wVsk3MFnzqrBvYhfwQv8ZkGkFclAasRbQd3tBcEtKIfBMv+kQUEKwUBZMrPBZvSMQW1BnEGcukRBFjY0QmERjsEi4yDAgLpnwEWBu8GUe4TB9TyJwDQij8GTN9bB5euyQL18ysDbZ5bB4sgBQgkGtUDqGwHBZqB+QfZQy0Ap26zA5GvAQJJ0gMECEyLAl1GNwXXEKMEEouXBI/n9wZwJGMKUQJjB4MgDQZ90w0ENoLnBXc5eQMDgI0Htf9NBFsYpweaCqsF2hixBNRF1wX7EKUGs0LjB7H2ovzuvJcA+5LjBqWbgQX48wcFbW17B0hUrQfqnqcEoJArBcxN1QBuep8C3xAPBMRICQCm9LsFgklPBmeJawRqVA8J5y9tBh2/ewWfxKkGXsLHBl0GKwYOlLsIOtQ7Bm2JxQdpF1UClWJlBiqBIQZ3xSkHmQbvBAta7QXr5KkFm3sK/8VeKwcy5k0CJ9OXBah5IwYBKHkEoPaHAqmCLQZpzOUHmcYhBb67BQHILyUB/1V7BOvjvQaQ7WkHkGjPAWRepwRKs68F61DtB2r25wJYHksGDDh5Bh8DywbVLTsEHdMVBjDRKwUpAMUF51PHBQGu9QRgWVj9Wco/BMCmjQcT7b0B7inxBMl6EQY2mDEHAeTJC0HKTQVMHoUHRRzNCt8ANwj+yHMHD41nB1c0mQYw4JsD7To5Bh6IZwtdlnb65qydAxQG4wMGnocG6uDvAey2XQc1mt8Fq7wpCTm3Dv1rl/8Hv6F/A87u4weyzL0IdzsVApxc+QVOmCsHMw15A5ZEVQQaGwMFvOuk//rwhwfz6v0H+Mk3B2jc5QJL3bkEUAqHBmzO4v+Zip0GxxftAHWybQfF/bEGarb1B7SsEQg4tM0Ie+gfC3dCiQSCRyMDnz2DAOESvwNIMdcGbNapAisyswZUy1kDfYhTB1odtQe61bUBQ/eHBjB+hQSngaEEmqkRBo4d5Qfm5AEEylCBBkjU5wWb/Tb9Ni0XBiOphwZKCoME3PA9B59N3PSRHIcGEPLtBH4uPwe6FSsEPUafAM3kDwnjL/cGyip7A6odLwcmeOcEW96LBS/kdwaMUCcHqL5BBYLDWQbIEYEEPjH/B46MIwl+YPUHVMpbB0K+cwHG89kAdvvHBXLBwQD/PysH2KBlB+PR4Pxan8EBKPYnBpQTjQXr9D0CZbF9AGVbxwATbpcDwPWrBtKlRQYjs8EEagVVBbs2eQTMRNEKpsrZBuwsCQkx4tUFUXGPAEeULwnEADMFgEJrBld0Uwbq8MUG9F+c+Jk5hwbviBr+z0xVBl2oFwYLNI8EZ1TFB/sxfQG31AsIUz5DBQQ9hQTo8YEBznB9BvnapQL6UFsLFS9hAW9ddQJYp0cG2CWfB6OaUQcjJ28GEJxzBNdmJQU/t6EDYUexAJHJfQWgr0kETRRNBNuJcQSvL38EOsSTBkPpLwRACpUEN/mRASQLOPeU9osGDtfZAy0qtwMMw18BPoGDBxmJ8we/LS8Hv1hLBUteGQUtcQcGXOOTB6qfRvry0EcDA+wPC8iZ/wffbmMH+zRHBO7/Mwc4ZQEHdTThBhr/Dwch8E8G/1BPBUnLEwRrkRD8I8dXAUAk3wMJtjr8z7vbBf/orQSA4n8GPRFzABny6wATMs8GzLczBis3+wdygVEFKKt7AcQ8eQQ+x7sCNgoPBXxyKQefNbr7fVbVA8J1nQYeKLsGxvUjBoK1zwbryVkE2JHu/c8rzwfSRyUBDh2HBWHe7QKBWEkHgnN3BPT4xQqmYJUHD1DXB7tkiQGg6lEBkmlk/ITBaweXLicCOWIbBc6g7wf8cxkEOrIFBTKAAv5+3FkKRPGDB2sywwEaAGUFibJfB62PmwIkDq8CaTO9BuUZtwS7bm0A4Rn/B9kR3wfphFsCs5ULBLhCdwYo6Y8FYFcQ+IYZ2wChTgcFBw4hBrPPmwaLjwUEdBg3ByG6KwP+IJkE87P3ANoGswScJE8GOGjRC3Mktv/eaH0Gv5oNBCkDjwfzOFsEwISZA11J/wXyWnT+AKUfAQMgFQSzUrUDw00TA6ZrmwZBCEUHexLFAnVnxwVo9YMAA++LAa9FSQS5T7UFuoW7B4e87QYJZHEHC/CxCivBZQAvKPD+ZznvBLePtweQsHkB+bBjBn96iwRHic8HhHh1ALRwjwbdShcF1JBfBUws0wGunj0GxmsJBE5j+we6LwME5D8q/WZI1QXyy9cH1aP++653wQQbTlEAuNd5AtkXKQdZnv8CufYvAf04wwURQ5sHcP0tBYn3mwCpvA0EqVTpBflWnwXf6XMGbdoHBJmNlwUWTZsFLXJlAHubmQVR3DUFjBHm/gLxowWxy0kC3BJm/xh6iwXHW/j+1o+DBrHFQwdEvnb8zvD5BisOKQQLbuj+i3iRAplXMwINlRUCJwAbA1btEwRP5A8BbDME+W+SFwdh13j/kWFQ/Xgb/v3jWIcEXT/DABudFwSpqB8L4ZjbBVa6+PlPlqcE8Co0+IRYyQBonNUF2taZBr5L+v4yTvkEXGS1CCg92wXmaksF/xbdBIm+lwf4HccEuoZLBs5uHQEp5ncH4hJTBIHeYQT+Y2kDCUSNBCp0gwW4wRMFRMyVBwxD4QBZ26j/NdVNBy9SZwTKPb0F1fpFBM/2bQWEazUFJRDJCSteNQfdApMBIbpNAdUP2PoJKMUANoO/BYbjFQLGlB0EkHYNBnQkKwfD5pUEJPzHBKCyQwciaB0F6/u/BkM5cQDeNFkFOsXPBxOuWwQ0PX0Cwn0ZBnBr/QNwYkEGVvKjBP+GWwQkRdUDVZmfA0ZF8QMzbUD3/UiNB5Y7HP8um9MCRLCnASQaAwbPX+EB+lpBBxZZ3waatoMEGiUnB1rZgwYwf7UD1ON7BTKWZwYu01EFoadvAY0HWQRvIlkCnObvBC8wCwcbBMsDwrSnBhn2XQQNly0ELQuVB/Cg4QgATSsBCCQvBx1KFwah7pUGHncXBagFLwWAXukFScDvAyZmmQeM/7sE0NCbAHVyiwSD4RsG62KXB4jqKwRxWD8Ljw5pAkHXuwQizAcCB8p/B6ALUvlvwisFd1kc/bpAbQQ1hZ8FpaTc+07+fwWkjHUEcfcTB12WzwR9Lj0DnistBEp6fwVwOJUEgHgfCd2cNwEjdKMFVE9JBEPF9wSyfQEFaLHzB7cGswA0YE8Is+a/BlKxOwc3geMF6SazA0tsswd4N/sH6stXB2BTmQQAqrcFHCYzB7OULwZ2qxkCPjD3BZbhNQf4jOEGkl1FB5amtQV5/ukBc28o+SndZQC0QRcCkmr/A6UNAQc47LEIUZOhBVfiKwcHo78GZvXNBD/DEwXRUSsGua6nBl3p9QBaAjMFIh2hB7bo+QbBgKUBGj7bBSRIewVVhNcFLh29AKq6gwemqOcCHOhdBLXSNQRrzMME6xL1A1+AlQXklhcGAAlFBTLBVQRwcj0HBujFBetcPQp4gNEKQH/dAzy8jwYAJQcEPRAfBOgqVQOv2vcEtyqHBsUwDQB2kocDlDN3ADfDuwQFgNkEAt9xA55jcwK1N4MFOC9NAMji4wcs1KUGXeuFB0iQSQbd2M78s4F7A1DG7QMg6hUGt2sA/9FoxQvT2MUI=\",\"dtype\":\"float32\",\"shape\":[3140]},\"y_coord\":{\"__ndarray__\":\"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\",\"dtype\":\"float32\",\"shape\":[3140]}}},\"id\":\"02a3e174-a9f6-497f-8c37-1100c022ff6d\",\"type\":\"ColumnDataSource\"},{\"attributes\":{\"below\":[{\"id\":\"be7dc5d6-0847-4bbb-931c-e619cf57054d\",\"type\":\"LinearAxis\"}],\"left\":[{\"id\":\"5e41b3b0-e846-43a2-a7f0-dfed43da2f98\",\"type\":\"LinearAxis\"}],\"outline_line_color\":{\"value\":null},\"plot_height\":800,\"plot_width\":800,\"renderers\":[{\"id\":\"be7dc5d6-0847-4bbb-931c-e619cf57054d\",\"type\":\"LinearAxis\"},{\"id\":\"87f1f92b-9243-4cc9-a1f3-4d8e5d466e77\",\"type\":\"Grid\"},{\"id\":\"5e41b3b0-e846-43a2-a7f0-dfed43da2f98\",\"type\":\"LinearAxis\"},{\"id\":\"9ce36ce9-5d01-4fcd-85c6-2e7fdf2cfe3e\",\"type\":\"Grid\"},{\"id\":\"13e60167-f1bb-40e6-a501-1fb5cd5c2b9e\",\"type\":\"BoxAnnotation\"},{\"id\":\"daddc1d5-588e-4478-b240-04a5d605f601\",\"type\":\"GlyphRenderer\"}],\"title\":{\"id\":\"559cc1c9-a472-4b85-a7ce-be0f34b9e624\",\"type\":\"Title\"},\"toolbar\":{\"id\":\"190e9050-f674-4c21-87f7-0f21a2d0edfb\",\"type\":\"Toolbar\"},\"x_range\":{\"id\":\"d2746527-2131-4b21-bc9f-0d6d422a9c07\",\"type\":\"DataRange1d\"},\"x_scale\":{\"id\":\"e7984299-53e6-4847-8500-b7a0ec07fab7\",\"type\":\"LinearScale\"},\"y_range\":{\"id\":\"4a82a4ad-64ce-45ee-aa87-f63c0a6eb81f\",\"type\":\"DataRange1d\"},\"y_scale\":{\"id\":\"2bdc34ef-406d-42ba-8502-2568fb41c6fe\",\"type\":\"LinearScale\"}},\"id\":\"56b59436-08ee-4dd2-9dc3-5ea52c627ec8\",\"subtype\":\"Figure\",\"type\":\"Plot\"},{\"attributes\":{\"data_source\":{\"id\":\"02a3e174-a9f6-497f-8c37-1100c022ff6d\",\"type\":\"ColumnDataSource\"},\"glyph\":{\"id\":\"2eed5c25-8227-467e-8726-02fb5e6e7f2e\",\"type\":\"Circle\"},\"hover_glyph\":{\"id\":\"d8fe0847-fdcf-4487-81e8-1b1e29a5d8d6\",\"type\":\"Circle\"},\"muted_glyph\":null,\"nonselection_glyph\":{\"id\":\"f331bd71-0d0e-47d5-93e2-a0f4ec90349c\",\"type\":\"Circle\"},\"selection_glyph\":null,\"view\":{\"id\":\"0faac6c0-c987-4e2f-abcf-e979b231d283\",\"type\":\"CDSView\"}},\"id\":\"daddc1d5-588e-4478-b240-04a5d605f601\",\"type\":\"GlyphRenderer\"},{\"attributes\":{},\"id\":\"e7984299-53e6-4847-8500-b7a0ec07fab7\",\"type\":\"LinearScale\"},{\"attributes\":{\"source\":{\"id\":\"02a3e174-a9f6-497f-8c37-1100c022ff6d\",\"type\":\"ColumnDataSource\"}},\"id\":\"0faac6c0-c987-4e2f-abcf-e979b231d283\",\"type\":\"CDSView\"},{\"attributes\":{\"callback\":null},\"id\":\"4a82a4ad-64ce-45ee-aa87-f63c0a6eb81f\",\"type\":\"DataRange1d\"}],\"root_ids\":[\"56b59436-08ee-4dd2-9dc3-5ea52c627ec8\"]},\"title\":\"Bokeh Application\",\"version\":\"0.12.10\"}};\n",
              "    var render_items = [{\"docid\":\"efab0385-7da9-4847-a18d-274a5cd3f0f2\",\"elementid\":\"69ced1b8-56bf-454a-8721-d3c35289d5df\",\"modelid\":\"56b59436-08ee-4dd2-9dc3-5ea52c627ec8\"}];\n",
              "\n",
              "    root.Bokeh.embed.embed_items(docs_json, render_items);\n",
              "  }\n",
              "\n",
              "  if (root.Bokeh !== undefined) {\n",
              "    embed_document(root);\n",
              "  } else {\n",
              "    var attempts = 0;\n",
              "    var timer = setInterval(function(root) {\n",
              "      if (root.Bokeh !== undefined) {\n",
              "        embed_document(root);\n",
              "        clearInterval(timer);\n",
              "      }\n",
              "      attempts++;\n",
              "      if (attempts > 100) {\n",
              "        console.log(\"Bokeh: ERROR: Unable to embed document because BokehJS library is missing\")\n",
              "        clearInterval(timer);\n",
              "      }\n",
              "    }, 10, root)\n",
              "  }\n",
              "})(window);"
            ],
            "application/vnd.bokehjs_exec.v0+json": ""
          },
          "metadata": {
            "tags": [],
            "application/vnd.bokehjs_exec.v0+json": {
              "id": "56b59436-08ee-4dd2-9dc3-5ea52c627ec8"
            }
          }
        }
      ]
    },
    {
      "metadata": {
        "id": "HUsxhoptcnEL",
        "colab_type": "text"
      },
      "cell_type": "markdown",
      "source": [
        "각 데이터 포인트에 마우스를 올리면 어떤 단어들이 함께 맵핑되어 있는지 확인 가능하다. \n",
        "\n",
        "1. 진한 부분일 수록 비슷한 단어들이 많이 모여 있음을 알 수 있다.\n",
        "\n",
        "\n",
        "2. 한글, 영어, 일본어, 중국어들은 알아서 끼리끼리 모여서 임베딩되었다. \n",
        "\n",
        "\n",
        "3. 전처리를 1도 안한거 치고는 잘 나온다."
      ]
    },
    {
      "metadata": {
        "id": "2D8vA5dqcnEL",
        "colab_type": "text"
      },
      "cell_type": "markdown",
      "source": [
        "## (주의) 100회 이상 단어를 거르지 않고 bigram으로 학습한 전체를 사용해봤더니 상태가 안좋다. \n",
        "\n",
        "그냥 토크나이징하고, word2vec 돌리는게 훨씬 잘 나온다. 왜 그런지는 모르겠음 "
      ]
    },
    {
      "metadata": {
        "id": "oWW69B6bcnEL",
        "colab_type": "code",
        "colab": {},
        "outputId": "7b1cad75-7ec0-433d-bd7a-cce84e3d8830"
      },
      "cell_type": "code",
      "source": [
        "all2vec.most_similar(positive=['친구'])"
      ],
      "execution_count": 0,
      "outputs": [
        {
          "output_type": "stream",
          "text": [
            "/Users/jieun/anaconda3/lib/python3.6/site-packages/ipykernel_launcher.py:1: DeprecationWarning: Call to deprecated `most_similar` (Method will be removed in 4.0.0, use self.wv.most_similar() instead).\n",
            "  \"\"\"Entry point for launching an IPython kernel.\n"
          ],
          "name": "stderr"
        },
        {
          "output_type": "execute_result",
          "data": {
            "text/plain": [
              "[('꺽다리', 0.6371358036994934),\n",
              " ('범생이', 0.6322770714759827),\n",
              " ('홀쭉한', 0.6298205256462097),\n",
              " ('언변', 0.6060096621513367),\n",
              " ('술고래', 0.6045137047767639),\n",
              " ('보석이라구', 0.6043168306350708),\n",
              " ('느려터진', 0.5892539620399475),\n",
              " ('꼬맹이', 0.5878541469573975),\n",
              " ('이보게', 0.5690245032310486),\n",
              " ('친구냐', 0.5668486952781677)]"
            ]
          },
          "metadata": {
            "tags": []
          },
          "execution_count": 452
        }
      ]
    },
    {
      "metadata": {
        "id": "TI3-A1wScnEO",
        "colab_type": "code",
        "colab": {},
        "outputId": "709aeead-0803-4d51-84f0-2267c5724d64"
      },
      "cell_type": "code",
      "source": [
        "all2vec.most_similar(positive=['여자는'])"
      ],
      "execution_count": 0,
      "outputs": [
        {
          "output_type": "stream",
          "text": [
            "/Users/jieun/anaconda3/lib/python3.6/site-packages/ipykernel_launcher.py:1: DeprecationWarning: Call to deprecated `most_similar` (Method will be removed in 4.0.0, use self.wv.most_similar() instead).\n",
            "  \"\"\"Entry point for launching an IPython kernel.\n"
          ],
          "name": "stderr"
        },
        {
          "output_type": "execute_result",
          "data": {
            "text/plain": [
              "[('첨에는', 0.6622425317764282),\n",
              " ('목이긴', 0.6306084990501404),\n",
              " ('여자답게', 0.6246604323387146),\n",
              " ('날려줄게', 0.6172682046890259),\n",
              " ('모딜리아니야', 0.6172509789466858),\n",
              " ('여잔', 0.6100303530693054),\n",
              " ('여자나', 0.60744708776474),\n",
              " ('여자라', 0.6012023091316223),\n",
              " ('이용하는', 0.6000898480415344),\n",
              " ('홈런', 0.5999051332473755)]"
            ]
          },
          "metadata": {
            "tags": []
          },
          "execution_count": 453
        }
      ]
    },
    {
      "metadata": {
        "id": "Z4n7biQbcnER",
        "colab_type": "code",
        "colab": {},
        "outputId": "f0d36c0c-e15d-442a-ea3d-fe48ea9ee529"
      },
      "cell_type": "code",
      "source": [
        "all2vec.most_similar(positive=['남자는'])"
      ],
      "execution_count": 0,
      "outputs": [
        {
          "output_type": "stream",
          "text": [
            "/Users/jieun/anaconda3/lib/python3.6/site-packages/ipykernel_launcher.py:1: DeprecationWarning: Call to deprecated `most_similar` (Method will be removed in 4.0.0, use self.wv.most_similar() instead).\n",
            "  \"\"\"Entry point for launching an IPython kernel.\n"
          ],
          "name": "stderr"
        },
        {
          "output_type": "execute_result",
          "data": {
            "text/plain": [
              "[('왠만한', 0.6072508692741394),\n",
              " ('차지도', 0.6011484265327454),\n",
              " ('입보다', 0.5951322317123413),\n",
              " ('타입의', 0.5943436622619629),\n",
              " ('짐승이라', 0.5872534513473511),\n",
              " ('다짰어', 0.5795607566833496),\n",
              " ('건든', 0.578988790512085),\n",
              " ('헤프니', 0.5779929757118225),\n",
              " ('이상형이야', 0.5757358074188232),\n",
              " ('여자맘을', 0.5710512399673462)]"
            ]
          },
          "metadata": {
            "tags": []
          },
          "execution_count": 454
        }
      ]
    },
    {
      "metadata": {
        "id": "6zw3cks9cnEV",
        "colab_type": "code",
        "colab": {},
        "outputId": "8cfcfeef-f530-44d8-f1bf-c860438fc861"
      },
      "cell_type": "code",
      "source": [
        "all2vec.most_similar(positive=['여자란'])"
      ],
      "execution_count": 0,
      "outputs": [
        {
          "output_type": "stream",
          "text": [
            "/Users/jieun/anaconda3/lib/python3.6/site-packages/ipykernel_launcher.py:1: DeprecationWarning: Call to deprecated `most_similar` (Method will be removed in 4.0.0, use self.wv.most_similar() instead).\n",
            "  \"\"\"Entry point for launching an IPython kernel.\n"
          ],
          "name": "stderr"
        },
        {
          "output_type": "execute_result",
          "data": {
            "text/plain": [
              "[('다그래', 0.7713031768798828),\n",
              " ('좋아하면서도', 0.746355414390564),\n",
              " ('말야날이면', 0.7343888282775879),\n",
              " ('만나보는그런', 0.7236257195472717),\n",
              " ('비밀인데_이제는', 0.7037424445152283),\n",
              " ('응원하고', 0.7013207674026489),\n",
              " ('접어둬', 0.6976417899131775),\n",
              " ('의식한', 0.6959859132766724),\n",
              " ('만난거야', 0.6958367824554443),\n",
              " ('이기적이라', 0.6911845207214355)]"
            ]
          },
          "metadata": {
            "tags": []
          },
          "execution_count": 455
        }
      ]
    },
    {
      "metadata": {
        "id": "0SOSwD9tcnEX",
        "colab_type": "code",
        "colab": {},
        "outputId": "66f9a4b5-f1b9-4baa-a15e-16163d0545ff"
      },
      "cell_type": "code",
      "source": [
        "all2vec.most_similar(positive=['여잔'])"
      ],
      "execution_count": 0,
      "outputs": [
        {
          "output_type": "stream",
          "text": [
            "/Users/jieun/anaconda3/lib/python3.6/site-packages/ipykernel_launcher.py:1: DeprecationWarning: Call to deprecated `most_similar` (Method will be removed in 4.0.0, use self.wv.most_similar() instead).\n",
            "  \"\"\"Entry point for launching an IPython kernel.\n"
          ],
          "name": "stderr"
        },
        {
          "output_type": "execute_result",
          "data": {
            "text/plain": [
              "[('별로거든', 0.6608653664588928),\n",
              " ('나보다_착한', 0.6605855226516724),\n",
              " ('어쩜_그리', 0.6604582667350769),\n",
              " ('안필요해', 0.6561477184295654),\n",
              " ('몇명이나', 0.6539269089698792),\n",
              " ('뭐냐고', 0.6536110639572144),\n",
              " ('청각이', 0.6514410972595215),\n",
              " ('예쁜_세상에서', 0.6467814445495605),\n",
              " ('가지고_놀기만', 0.6381958723068237),\n",
              " ('사귀었던', 0.6366645097732544)]"
            ]
          },
          "metadata": {
            "tags": []
          },
          "execution_count": 457
        }
      ]
    },
    {
      "metadata": {
        "id": "-3X4tGY-cnEb",
        "colab_type": "code",
        "colab": {},
        "outputId": "874c2aa0-51d9-413d-9933-715d332000fc"
      },
      "cell_type": "code",
      "source": [
        "all2vec.most_similar(positive=['남잔'])"
      ],
      "execution_count": 0,
      "outputs": [
        {
          "output_type": "stream",
          "text": [
            "/Users/jieun/anaconda3/lib/python3.6/site-packages/ipykernel_launcher.py:1: DeprecationWarning: Call to deprecated `most_similar` (Method will be removed in 4.0.0, use self.wv.most_similar() instead).\n",
            "  \"\"\"Entry point for launching an IPython kernel.\n"
          ],
          "name": "stderr"
        },
        {
          "output_type": "execute_result",
          "data": {
            "text/plain": [
              "[('다_믿어서는', 0.6538938879966736),\n",
              " ('안된다고_하면서', 0.634789228439331),\n",
              " ('세상에서_너보다', 0.6341723203659058),\n",
              " ('내_여자니까', 0.625702977180481),\n",
              " ('상관없대', 0.6224822998046875),\n",
              " ('믿고사는', 0.62077796459198),\n",
              " ('남자', 0.6184302568435669),\n",
              " ('사랑해줄', 0.6182538866996765),\n",
              " ('전부다가', 0.6180988550186157),\n",
              " ('좋단', 0.6167598366737366)]"
            ]
          },
          "metadata": {
            "tags": []
          },
          "execution_count": 458
        }
      ]
    },
    {
      "metadata": {
        "id": "uJw3CAe6cnEc",
        "colab_type": "code",
        "colab": {},
        "outputId": "58ed9e45-8a84-4398-b83d-c14002d5c360"
      },
      "cell_type": "code",
      "source": [
        "all2vec.most_similar(positive=['girl'])"
      ],
      "execution_count": 0,
      "outputs": [
        {
          "output_type": "stream",
          "text": [
            "/Users/jieun/anaconda3/lib/python3.6/site-packages/ipykernel_launcher.py:1: DeprecationWarning: Call to deprecated `most_similar` (Method will be removed in 4.0.0, use self.wv.most_similar() instead).\n",
            "  \"\"\"Entry point for launching an IPython kernel.\n"
          ],
          "name": "stderr"
        },
        {
          "output_type": "execute_result",
          "data": {
            "text/plain": [
              "[('So_pretty', 0.6447728872299194),\n",
              " ('bad_girl', 0.6361664533615112),\n",
              " ('boy', 0.6336680054664612),\n",
              " ('little', 0.6307015419006348),\n",
              " ('Pretty', 0.6153879165649414),\n",
              " ('네무레바이이사', 0.6050360798835754),\n",
              " ('gir_gir', 0.6003468632698059),\n",
              " ('friend_friend', 0.5982957482337952),\n",
              " ('나이테시맛테', 0.5948503613471985),\n",
              " ('uh_gimme', 0.5921260714530945)]"
            ]
          },
          "metadata": {
            "tags": []
          },
          "execution_count": 460
        }
      ]
    },
    {
      "metadata": {
        "id": "kYY8p5fvcnEd",
        "colab_type": "code",
        "colab": {},
        "outputId": "3421703f-1287-49d6-978e-d3d3b7591151"
      },
      "cell_type": "code",
      "source": [
        "all2vec.most_similar(positive=['boy'])"
      ],
      "execution_count": 0,
      "outputs": [
        {
          "output_type": "stream",
          "text": [
            "/Users/jieun/anaconda3/lib/python3.6/site-packages/ipykernel_launcher.py:1: DeprecationWarning: Call to deprecated `most_similar` (Method will be removed in 4.0.0, use self.wv.most_similar() instead).\n",
            "  \"\"\"Entry point for launching an IPython kernel.\n"
          ],
          "name": "stderr"
        },
        {
          "output_type": "execute_result",
          "data": {
            "text/plain": [
              "[('Mamama', 0.635223388671875),\n",
              " ('girl', 0.6336680054664612),\n",
              " ('Casacasa', 0.6120827794075012),\n",
              " ('my', 0.6018823981285095),\n",
              " ('lover', 0.6009724140167236),\n",
              " ('살짝만', 0.5958521366119385),\n",
              " ('boy_착한', 0.5881478786468506),\n",
              " ('luv', 0.5869681239128113),\n",
              " ('hurry_up', 0.5855915546417236),\n",
              " ('완전_반했나', 0.5850681662559509)]"
            ]
          },
          "metadata": {
            "tags": []
          },
          "execution_count": 461
        }
      ]
    },
    {
      "metadata": {
        "id": "EWRSxfWDcnEh",
        "colab_type": "code",
        "colab": {},
        "outputId": "0994778c-1d83-4389-fa44-befb1ee6fc7b"
      },
      "cell_type": "code",
      "source": [
        "all2vec.most_similar(positive=['예쁜'])"
      ],
      "execution_count": 0,
      "outputs": [
        {
          "output_type": "stream",
          "text": [
            "/Users/jieun/anaconda3/lib/python3.6/site-packages/ipykernel_launcher.py:1: DeprecationWarning: Call to deprecated `most_similar` (Method will be removed in 4.0.0, use self.wv.most_similar() instead).\n",
            "  \"\"\"Entry point for launching an IPython kernel.\n"
          ],
          "name": "stderr"
        },
        {
          "output_type": "execute_result",
          "data": {
            "text/plain": [
              "[('말만_해요', 0.6039035320281982),\n",
              " ('입술은_예쁜', 0.603446900844574),\n",
              " ('나만_바라보네요', 0.5815451741218567),\n",
              " ('인형을', 0.5645400881767273),\n",
              " ('예쁜_여자들은', 0.5633821487426758),\n",
              " ('좁아', 0.5599956512451172),\n",
              " ('촛불들을', 0.5556084513664246),\n",
              " ('생김새와는', 0.554925799369812),\n",
              " ('미소', 0.5545122623443604),\n",
              " ('살며시_다가왔지', 0.5532582402229309)]"
            ]
          },
          "metadata": {
            "tags": []
          },
          "execution_count": 468
        }
      ]
    },
    {
      "metadata": {
        "id": "_ecTyApDcnEj",
        "colab_type": "code",
        "colab": {},
        "outputId": "7b5348d6-ef01-4aa1-9313-334b9a0fb2af"
      },
      "cell_type": "code",
      "source": [
        "all2vec.most_similar(positive=['몸매'])"
      ],
      "execution_count": 0,
      "outputs": [
        {
          "output_type": "stream",
          "text": [
            "/Users/jieun/anaconda3/lib/python3.6/site-packages/ipykernel_launcher.py:1: DeprecationWarning: Call to deprecated `most_similar` (Method will be removed in 4.0.0, use self.wv.most_similar() instead).\n",
            "  \"\"\"Entry point for launching an IPython kernel.\n"
          ],
          "name": "stderr"
        },
        {
          "output_type": "execute_result",
          "data": {
            "text/plain": [
              "[('쭉빠진', 0.7695958018302917),\n",
              " ('만나보니', 0.7666535377502441),\n",
              " ('섹시함', 0.7590886354446411),\n",
              " ('수영복에', 0.7533947229385376),\n",
              " ('수영장엔', 0.7325882315635681),\n",
              " ('비키니', 0.7306492328643799),\n",
              " ('몸매가', 0.7268643975257874),\n",
              " ('맵시나는', 0.7098362445831299),\n",
              " ('뭣보다', 0.705554187297821),\n",
              " ('잘록한', 0.7013905048370361)]"
            ]
          },
          "metadata": {
            "tags": []
          },
          "execution_count": 469
        }
      ]
    },
    {
      "metadata": {
        "id": "L2GOM9QpcnEl",
        "colab_type": "code",
        "colab": {},
        "outputId": "316fe078-2617-42a5-c414-e62c282cce0e"
      },
      "cell_type": "code",
      "source": [
        "all2vec.most_similar(positive=['오빤'])"
      ],
      "execution_count": 0,
      "outputs": [
        {
          "output_type": "stream",
          "text": [
            "/Users/jieun/anaconda3/lib/python3.6/site-packages/ipykernel_launcher.py:1: DeprecationWarning: Call to deprecated `most_similar` (Method will be removed in 4.0.0, use self.wv.most_similar() instead).\n",
            "  \"\"\"Entry point for launching an IPython kernel.\n"
          ],
          "name": "stderr"
        },
        {
          "output_type": "execute_result",
          "data": {
            "text/plain": [
              "[('애야', 0.7416201233863831),\n",
              " ('안들려요', 0.7361965775489807),\n",
              " ('이얼싼쓰', 0.7285964488983154),\n",
              " ('녹이는', 0.68422532081604),\n",
              " ('번지르르해', 0.6826929450035095),\n",
              " ('의견', 0.6787101030349731),\n",
              " ('넘었어', 0.6768316030502319),\n",
              " ('스타일을', 0.6745812296867371),\n",
              " ('끌리', 0.6735872626304626),\n",
              " ('네게네게네게', 0.6708297729492188)]"
            ]
          },
          "metadata": {
            "tags": []
          },
          "execution_count": 474
        }
      ]
    },
    {
      "metadata": {
        "id": "bdx0ZGW3cnEn",
        "colab_type": "code",
        "colab": {},
        "outputId": "22433183-967b-43c6-d876-025d5e016fa8"
      },
      "cell_type": "code",
      "source": [
        "model.wv.most_similar('키스')"
      ],
      "execution_count": 0,
      "outputs": [
        {
          "output_type": "execute_result",
          "data": {
            "text/plain": [
              "[('보라빛처럼', 0.8268566727638245),\n",
              " ('커피잔', 0.8117149472236633),\n",
              " ('그날들이', 0.8078254461288452),\n",
              " ('두눈', 0.8053824305534363),\n",
              " ('키스도', 0.8042495250701904),\n",
              " ('다가왔지', 0.7996252179145813),\n",
              " ('바라보아도', 0.7959368824958801),\n",
              " ('유머만', 0.7951062321662903),\n",
              " ('손가락에', 0.7936034202575684),\n",
              " ('행복하기만', 0.7925342917442322)]"
            ]
          },
          "metadata": {
            "tags": []
          },
          "execution_count": 475
        }
      ]
    },
    {
      "metadata": {
        "id": "p3IJW_9VcnEp",
        "colab_type": "code",
        "colab": {},
        "outputId": "5078febc-5624-40b0-b4a4-d91e657b9f8b"
      },
      "cell_type": "code",
      "source": [
        "model.wv.most_similar('lady')"
      ],
      "execution_count": 0,
      "outputs": [
        {
          "output_type": "execute_result",
          "data": {
            "text/plain": [
              "[('friend', 0.7407693862915039),\n",
              " ('boy', 0.7382819652557373),\n",
              " ('Pity', 0.7043216228485107),\n",
              " ('girl', 0.6931123733520508),\n",
              " ('dear', 0.6911106109619141),\n",
              " ('Lady', 0.6904165148735046),\n",
              " ('boo', 0.6769155859947205),\n",
              " ('baby', 0.6719523668289185),\n",
              " ('god', 0.6684812307357788),\n",
              " ('princess', 0.6532066464424133)]"
            ]
          },
          "metadata": {
            "tags": []
          },
          "execution_count": 477
        }
      ]
    },
    {
      "metadata": {
        "id": "dzXxZ_NtcnEq",
        "colab_type": "code",
        "colab": {},
        "outputId": "6607f380-eb37-44d5-8e95-7f8cc96f6a14"
      },
      "cell_type": "code",
      "source": [
        "model.wv.most_similar('')"
      ],
      "execution_count": 0,
      "outputs": [
        {
          "output_type": "execute_result",
          "data": {
            "text/plain": [
              "[('fool', 0.6536678075790405),\n",
              " ('freak', 0.6403539776802063),\n",
              " ('awinner', 0.6400405168533325),\n",
              " ('guy', 0.6358413100242615),\n",
              " ('lotta', 0.6308550238609314),\n",
              " ('tae', 0.628423273563385),\n",
              " ('Man', 0.6247324347496033),\n",
              " ('햐쿠닌잇타테', 0.6202173233032227),\n",
              " ('saviour', 0.6193612813949585),\n",
              " ('doctor', 0.6154305338859558)]"
            ]
          },
          "metadata": {
            "tags": []
          },
          "execution_count": 478
        }
      ]
    },
    {
      "metadata": {
        "id": "KRVpgn0scnEt",
        "colab_type": "text"
      },
      "cell_type": "markdown",
      "source": [
        "## 최근노래로 갈 수록 가중치를 줘야 할까? \n",
        "최근 아이돌의 성향을 보고싶으면,최근것만 보고 해봐야 할 것 같다. "
      ]
    },
    {
      "metadata": {
        "id": "ZvB8q2IVcnEt",
        "colab_type": "text"
      },
      "cell_type": "markdown",
      "source": [
        "## 토크나이징"
      ]
    },
    {
      "metadata": {
        "id": "9ZgrCLMvcnEt",
        "colab_type": "code",
        "colab": {},
        "outputId": "762129e9-c2b6-43a0-9df9-2cba6d4ef222"
      },
      "cell_type": "code",
      "source": [
        "tokenizer = RegexTokenizer()\n",
        "tokenizer"
      ],
      "execution_count": 0,
      "outputs": [
        {
          "output_type": "error",
          "ename": "NameError",
          "evalue": "name 'RegexTokenizer' is not defined",
          "traceback": [
            "\u001b[0;31m---------------------------------------------------------------------------\u001b[0m",
            "\u001b[0;31mNameError\u001b[0m                                 Traceback (most recent call last)",
            "\u001b[0;32m<ipython-input-23-8d2a99ae567c>\u001b[0m in \u001b[0;36m<module>\u001b[0;34m()\u001b[0m\n\u001b[0;32m----> 1\u001b[0;31m \u001b[0mtokenizer\u001b[0m \u001b[0;34m=\u001b[0m \u001b[0mRegexTokenizer\u001b[0m\u001b[0;34m(\u001b[0m\u001b[0;34m)\u001b[0m\u001b[0;34m\u001b[0m\u001b[0m\n\u001b[0m\u001b[1;32m      2\u001b[0m \u001b[0mtokenizer\u001b[0m\u001b[0;34m\u001b[0m\u001b[0m\n",
            "\u001b[0;31mNameError\u001b[0m: name 'RegexTokenizer' is not defined"
          ]
        }
      ]
    },
    {
      "metadata": {
        "id": "tMTMFjnhcnEu",
        "colab_type": "code",
        "colab": {},
        "outputId": "4cfd70b5-df2b-4f56-cfb9-1cd211ec1484"
      },
      "cell_type": "code",
      "source": [
        "# 전처리 이후의 샘플 텍스트로 토큰화\n",
        "tokened_content = tokenizer.tokenize(sample_content)\n",
        "tokened_content"
      ],
      "execution_count": 0,
      "outputs": [
        {
          "output_type": "execute_result",
          "data": {
            "text/plain": [
              "['그대여',\n",
              " '내게',\n",
              " '아픈',\n",
              " '말은',\n",
              " '하지마',\n",
              " '슬프지',\n",
              " '않은',\n",
              " '미소지며',\n",
              " '잠시',\n",
              " '떨려오는',\n",
              " '마지막',\n",
              " '눈빛으로',\n",
              " '헤어짐을',\n",
              " '간직하라는',\n",
              " '이젠',\n",
              " '네가없는',\n",
              " '내가',\n",
              " '힘들어',\n",
              " '나를',\n",
              " '포기할',\n",
              " '수',\n",
              " '있기에',\n",
              " '너를',\n",
              " '내',\n",
              " '꿈속에',\n",
              " '스치듯',\n",
              " '찾아들면',\n",
              " '그때',\n",
              " '갈께',\n",
              " '너의',\n",
              " '곁으로',\n",
              " '떠난',\n",
              " '그대여',\n",
              " '슬퍼',\n",
              " '하지마',\n",
              " '우리',\n",
              " '잃어버린',\n",
              " '사랑은',\n",
              " '영원할꺼야',\n",
              " '다른',\n",
              " '세상에',\n",
              " '기대고',\n",
              " '있어',\n",
              " '아직',\n",
              " '살아있는',\n",
              " '나를',\n",
              " '기다려줘',\n",
              " '우리',\n",
              " '헤어짐은',\n",
              " '이대로',\n",
              " '간직할께',\n",
              " '눈물에',\n",
              " '흘리지',\n",
              " '않고',\n",
              " '그리고',\n",
              " '바라보면',\n",
              " '언제나',\n",
              " '내가',\n",
              " '있어',\n",
              " '그대',\n",
              " '떠난',\n",
              " '그대여',\n",
              " '슬퍼',\n",
              " '하지마',\n",
              " '우리',\n",
              " '잃어버린',\n",
              " '사랑은',\n",
              " '영원할꺼야',\n",
              " '다른',\n",
              " '세상에',\n",
              " '기대고있어',\n",
              " '아직',\n",
              " '살아있는',\n",
              " '나를',\n",
              " '기다려줘',\n",
              " '우리',\n",
              " '헤어짐은',\n",
              " '이대로',\n",
              " '간직할게',\n",
              " '눈물에',\n",
              " '흘리지',\n",
              " '않고',\n",
              " '그리워',\n",
              " '바라보면',\n",
              " '언제나',\n",
              " '내가있어',\n",
              " '그대']"
            ]
          },
          "metadata": {
            "tags": []
          },
          "execution_count": 436
        }
      ]
    },
    {
      "metadata": {
        "id": "L3eyG461cnEx",
        "colab_type": "code",
        "colab": {},
        "outputId": "e4e2032b-02be-4d77-8dfc-31aef322407d"
      },
      "cell_type": "code",
      "source": [
        "%time tokens = sentences.apply(tokenizer.tokenize)"
      ],
      "execution_count": 0,
      "outputs": [
        {
          "output_type": "stream",
          "text": [
            "CPU times: user 24 s, sys: 293 ms, total: 24.3 s\n",
            "Wall time: 24.6 s\n"
          ],
          "name": "stdout"
        }
      ]
    },
    {
      "metadata": {
        "id": "0tO5YIHbcnEy",
        "colab_type": "code",
        "colab": {},
        "outputId": "56aed8f3-bbb0-49c9-a3fa-80f22c2c7b14"
      },
      "cell_type": "code",
      "source": [
        "tokens[:3]"
      ],
      "execution_count": 0,
      "outputs": [
        {
          "output_type": "execute_result",
          "data": {
            "text/plain": [
              "0    [갈수, 없는, 곳이란, 우리에겐, 없어, 보이는, 길밖에도, 세상은, 있어, 언제...\n",
              "1    [왜, 기다려, 왔잖아, 모든, 삶을, 포기하는, 소리를, 이, 세상이, 모두, 미...\n",
              "2    [이, 세상, 그, 누구도, 나를, 닮을, 순, 없네, 날, 세상에, 알릴, 거야,...\n",
              "Name: lyrics, dtype: object"
            ]
          },
          "metadata": {
            "tags": []
          },
          "execution_count": 438
        }
      ]
    },
    {
      "metadata": {
        "id": "P_PVZQZwcnEz",
        "colab_type": "code",
        "colab": {},
        "outputId": "a92d1040-0286-4463-dff7-4936490437c9"
      },
      "cell_type": "code",
      "source": [
        "# 워드투벡한 단어의 사전 수 보기 \n",
        "len(model.wv.vocab)"
      ],
      "execution_count": 0,
      "outputs": [
        {
          "output_type": "execute_result",
          "data": {
            "text/plain": [
              "162387"
            ]
          },
          "metadata": {
            "tags": []
          },
          "execution_count": 439
        }
      ]
    },
    {
      "metadata": {
        "id": "W3kRGuAzcnE2",
        "colab_type": "code",
        "colab": {},
        "outputId": "7d072958-d81f-4ab7-c8ef-efc87fdf3da1"
      },
      "cell_type": "code",
      "source": [
        "# 단어 사전에서 상위 10개만 보기\n",
        "vocab = model.wv.vocab\n",
        "sorted(vocab, key=vocab.get, reverse=True)[:10]"
      ],
      "execution_count": 0,
      "outputs": [
        {
          "output_type": "execute_result",
          "data": {
            "text/plain": [
              "['I', 'you', '내', '난', 'me', 't', '널', '날', '수', 'it']"
            ]
          },
          "metadata": {
            "tags": []
          },
          "execution_count": 440
        }
      ]
    },
    {
      "metadata": {
        "id": "lREkoSXwcnE6",
        "colab_type": "code",
        "colab": {},
        "outputId": "2f54fca6-af4f-4ffe-f4c0-cc1a0820b4f1"
      },
      "cell_type": "code",
      "source": [
        "# 가장 유사한 단어를 추출\n",
        "model.wv.most_similar('너')"
      ],
      "execution_count": 0,
      "outputs": [
        {
          "output_type": "execute_result",
          "data": {
            "text/plain": [
              "[('완성되지', 0.5744380354881287),\n",
              " ('억하심정인지', 0.5725435614585876),\n",
              " ('너야', 0.5635101199150085),\n",
              " ('물어볼게', 0.5609223246574402),\n",
              " ('있기', 0.5590577125549316),\n",
              " ('털고도', 0.5531821846961975),\n",
              " ('피땀에', 0.551423966884613),\n",
              " ('옛정', 0.5352168083190918),\n",
              " ('네가', 0.5340349674224854),\n",
              " ('하나만', 0.5245047807693481)]"
            ]
          },
          "metadata": {
            "tags": []
          },
          "execution_count": 441
        }
      ]
    },
    {
      "metadata": {
        "id": "7LPXujDBcnE7",
        "colab_type": "code",
        "colab": {},
        "outputId": "a92f0ae0-cb70-4b3f-f62f-4442b658f0d1"
      },
      "cell_type": "code",
      "source": [
        "model.wv.most_similar('사랑')"
      ],
      "execution_count": 0,
      "outputs": [
        {
          "output_type": "execute_result",
          "data": {
            "text/plain": [
              "[('사랑은', 0.6728729009628296),\n",
              " ('사랑을', 0.6576943397521973),\n",
              " ('사랑으로', 0.6437615156173706),\n",
              " ('행복을', 0.633502721786499),\n",
              " ('사랑아', 0.6203153729438782),\n",
              " ('마음', 0.613693356513977),\n",
              " ('바래', 0.6091277599334717),\n",
              " ('바램', 0.6004109382629395),\n",
              " ('없는거라고', 0.5848444700241089),\n",
              " ('평생', 0.5808133482933044)]"
            ]
          },
          "metadata": {
            "tags": []
          },
          "execution_count": 442
        }
      ]
    },
    {
      "metadata": {
        "id": "4CbeAgJocnE9",
        "colab_type": "code",
        "colab": {},
        "outputId": "ad4d8392-87db-4fb4-8468-3d3faa59f962"
      },
      "cell_type": "code",
      "source": [
        "model.wv.most_similar('여자')"
      ],
      "execution_count": 0,
      "outputs": [
        {
          "output_type": "execute_result",
          "data": {
            "text/plain": [
              "[('남자', 0.84284508228302),\n",
              " ('남자를', 0.7608194351196289),\n",
              " ('놈이', 0.7475835084915161),\n",
              " ('여자는', 0.7387921214103699),\n",
              " ('여자야', 0.7235146760940552),\n",
              " ('남자가', 0.7207379937171936),\n",
              " ('놈', 0.7175110578536987),\n",
              " ('여잘', 0.7169695496559143),\n",
              " ('남자야', 0.7162264585494995),\n",
              " ('여자가', 0.7151209115982056)]"
            ]
          },
          "metadata": {
            "tags": []
          },
          "execution_count": 443
        }
      ]
    },
    {
      "metadata": {
        "id": "hxW_pCObcnE_",
        "colab_type": "code",
        "colab": {},
        "outputId": "2bd4abf1-d368-453a-f011-6b38bf9ab667"
      },
      "cell_type": "code",
      "source": [
        "model.wv.most_similar('남자')"
      ],
      "execution_count": 0,
      "outputs": [
        {
          "output_type": "execute_result",
          "data": {
            "text/plain": [
              "[('여자', 0.84284508228302),\n",
              " ('여잔', 0.7740013003349304),\n",
              " ('남자가', 0.7644602060317993),\n",
              " ('여자야', 0.7559769153594971),\n",
              " ('놈', 0.7550831437110901),\n",
              " ('사람은', 0.7539772391319275),\n",
              " ('여잘', 0.753886342048645),\n",
              " ('여자를', 0.7496883273124695),\n",
              " ('놈이', 0.742708683013916),\n",
              " ('남자를', 0.7252805233001709)]"
            ]
          },
          "metadata": {
            "tags": []
          },
          "execution_count": 444
        }
      ]
    },
    {
      "metadata": {
        "id": "hTDsZmXRcnFC",
        "colab_type": "code",
        "colab": {},
        "outputId": "e5925ba4-21e2-440f-b522-f7c1736deafd"
      },
      "cell_type": "code",
      "source": [
        "model.wv.most_similar('baby')"
      ],
      "execution_count": 0,
      "outputs": [
        {
          "output_type": "execute_result",
          "data": {
            "text/plain": [
              "[('lady', 0.6719524264335632),\n",
              " ('honey', 0.6599240899085999),\n",
              " ('babe', 0.6590299606323242),\n",
              " ('뿐이기에', 0.6517203450202942),\n",
              " ('shiMega', 0.6356972455978394),\n",
              " ('girl', 0.6356855630874634),\n",
              " ('Baby', 0.6232913136482239),\n",
              " ('shiranpuri', 0.6048318147659302),\n",
              " ('눈뜨지마', 0.5972138047218323),\n",
              " ('아루요니', 0.596859335899353)]"
            ]
          },
          "metadata": {
            "tags": []
          },
          "execution_count": 445
        }
      ]
    },
    {
      "metadata": {
        "id": "IbPV5vtYcnFD",
        "colab_type": "code",
        "colab": {},
        "outputId": "1241bdf0-0ac0-41d4-8d9f-46a9e2fdc400"
      },
      "cell_type": "code",
      "source": [
        "model.wv.most_similar('이별')"
      ],
      "execution_count": 0,
      "outputs": [
        {
          "output_type": "execute_result",
          "data": {
            "text/plain": [
              "[('이별은', 0.7862210869789124),\n",
              " ('않잖냐', 0.758197546005249),\n",
              " ('슬픈', 0.7512339353561401),\n",
              " ('끝내', 0.7437535524368286),\n",
              " ('얘기', 0.7389219999313354),\n",
              " ('이별을', 0.7288054823875427),\n",
              " ('이별이', 0.7193502187728882),\n",
              " ('아니였겠지', 0.7178677916526794),\n",
              " ('어리석은', 0.7177433371543884),\n",
              " ('지나간', 0.712112307548523)]"
            ]
          },
          "metadata": {
            "tags": []
          },
          "execution_count": 142
        }
      ]
    },
    {
      "metadata": {
        "id": "CxQWVKJ5cnFF",
        "colab_type": "code",
        "colab": {},
        "outputId": "f01bd090-f93c-4c36-95f9-f17835f4488a"
      },
      "cell_type": "code",
      "source": [
        "model.wv.most_similar('sexy')"
      ],
      "execution_count": 0,
      "outputs": [
        {
          "output_type": "execute_result",
          "data": {
            "text/plain": [
              "[('pretty', 0.7721747159957886),\n",
              " ('bling', 0.683236837387085),\n",
              " ('gorgeous', 0.6781123280525208),\n",
              " ('Sexy', 0.6679773926734924),\n",
              " ('ome', 0.6646952033042908),\n",
              " ('sugar', 0.6584035158157349),\n",
              " ('caress', 0.6559441685676575),\n",
              " ('Warring', 0.6523290872573853),\n",
              " ('ter', 0.6519011855125427),\n",
              " ('Paras', 0.6474953889846802)]"
            ]
          },
          "metadata": {
            "tags": []
          },
          "execution_count": 144
        }
      ]
    },
    {
      "metadata": {
        "id": "Zb516cQfcnFG",
        "colab_type": "code",
        "colab": {},
        "outputId": "0da5d19c-4b3f-45c7-e009-4f14b4f7e746"
      },
      "cell_type": "code",
      "source": [
        "model.wv.most_similar('여자친구')"
      ],
      "execution_count": 0,
      "outputs": [
        {
          "output_type": "execute_result",
          "data": {
            "text/plain": [
              "[('예쁘더라', 0.8774560689926147),\n",
              " ('홀렸네', 0.8485866189002991),\n",
              " ('연락했니', 0.8478046655654907),\n",
              " ('얘기만', 0.8463076949119568),\n",
              " ('수첩이야', 0.8446948528289795),\n",
              " ('번호', 0.8440446853637695),\n",
              " ('연락처에', 0.8438520431518555),\n",
              " ('그녀완', 0.8435104489326477),\n",
              " ('소식', 0.8411042094230652),\n",
              " ('멀리한건', 0.8399530649185181)]"
            ]
          },
          "metadata": {
            "tags": []
          },
          "execution_count": 148
        }
      ]
    },
    {
      "metadata": {
        "id": "58dZBp_4cnFI",
        "colab_type": "code",
        "colab": {},
        "outputId": "edd2a785-ddfd-4581-fb46-49bf254b6d84"
      },
      "cell_type": "code",
      "source": [
        "model.wv.most_similar('남자친구')"
      ],
      "execution_count": 0,
      "outputs": [
        {
          "output_type": "execute_result",
          "data": {
            "text/plain": [
              "[('행세', 0.8161464333534241),\n",
              " ('수이수', 0.8149913549423218),\n",
              " ('여자친구', 0.8035971522331238),\n",
              " ('소식', 0.7937813997268677),\n",
              " ('끊어버리고', 0.7933464050292969),\n",
              " ('Isis', 0.7933018207550049),\n",
              " ('쿠라야미니이루요데', 0.7877689599990845),\n",
              " ('번호', 0.7852747440338135),\n",
              " ('올라온', 0.7846376895904541),\n",
              " ('피곤해', 0.7839388847351074)]"
            ]
          },
          "metadata": {
            "tags": []
          },
          "execution_count": 149
        }
      ]
    },
    {
      "metadata": {
        "id": "VQXAHqN7cnFJ",
        "colab_type": "code",
        "colab": {},
        "outputId": "9af69ee9-5a1b-43fe-9f54-ab264499550c"
      },
      "cell_type": "code",
      "source": [
        "model.wv.most_similar('친구')"
      ],
      "execution_count": 0,
      "outputs": [
        {
          "output_type": "execute_result",
          "data": {
            "text/plain": [
              "[('얘기', 0.7857072949409485),\n",
              " ('좋아요로', 0.747502326965332),\n",
              " ('친구가', 0.7441698312759399),\n",
              " ('친구들', 0.7215195894241333),\n",
              " ('얘길', 0.7154452204704285),\n",
              " ('빅뱅이', 0.7145744562149048),\n",
              " ('얘기를', 0.7116910219192505),\n",
              " ('애기가', 0.6933189630508423),\n",
              " ('남자들', 0.691458523273468),\n",
              " ('수는없어', 0.6835935711860657)]"
            ]
          },
          "metadata": {
            "tags": []
          },
          "execution_count": 150
        }
      ]
    },
    {
      "metadata": {
        "id": "AoCFUiUdcnFK",
        "colab_type": "text"
      },
      "cell_type": "markdown",
      "source": [
        "## LSTM 공부하고 학습 시켜보기 \n",
        "\n",
        "코드참고 : https://github.com/KMJJ1/hiphop/blob/master/test_example.ipynb"
      ]
    },
    {
      "metadata": {
        "id": "UBcNJtGjcnFK",
        "colab_type": "text"
      },
      "cell_type": "markdown",
      "source": [
        "Instructions to Train:\n",
        "If you want to use our model to train your own artists, follow these steps:\n",
        "\n",
        "Pick an artist – it should be someone with a lot of lyrics. (Over 100,000 words).\n",
        "Collect all of the artist's lyrics from your favorite lyrics website. Save each song as a text file in data/artist_name/. We recommend leaving newlines in as a special token so that the network will learn line and stanza breaks.\n",
        "Train by navigating to the code directory and running python runner.py -a <artist_name> -m <model_save_name>.\n",
        "Our models were all trained for 30,000 steps.\n",
        "Generate new songs by running \n",
        "python runner.py -a <artist_name> -l ../save/models/<model_save_name>/<ckpt_file> -t.\n",
        "Optional: If you would like to specify \"prime text\" – the initial text that the model will generate from – pass in a string with the -p flag.\n",
        "Share your trained models with us so we can feature them on our website! Create an issue with a link to a public Dropbox or Google Drive containing your model's .ckpt file."
      ]
    },
    {
      "metadata": {
        "id": "ZEwGC1w2cnFK",
        "colab_type": "text"
      },
      "cell_type": "markdown",
      "source": [
        "RNN - LSTM으로 가사 생성¶\n",
        "\n",
        "일반적인 뉴럴넷에 비해 RNN은 파라미터가 공유되며, backpropagation through time 이라는 특징이 있다\n",
        "하지만 기존의 RNN은 긴 시퀀스를 잘 처리하지 못하며, 그라디언트가 소멸되는 현상이 발생함\n",
        "LSTM이라는 RNN의 변형 모델이 등장\n",
        "LSTM은 '게이트'를 통해 상태값을 계산 시 내부의 상태값을 얼마나 기억하고 사용할지 정한다\n",
        "그라디언트 흐름을 좋게 만들고 베니싱 현상을 완화시켜 먼 과거에 대한 단어나 정보도 잘 기억할 수 있게 되었다\n",
        "1) 1000곡의 가사로 학습시킴\n",
        "Hiphop장르 1000곡의 가사를 RNN - LSTM 방식으로 학습\n",
        "23만회 학습시킨 모델을 생성\n",
        "초반 단어 3,4개를 입력하여 차후 나올 단어들을 예측"
      ]
    },
    {
      "metadata": {
        "id": "dC_UcqvocnFM",
        "colab_type": "code",
        "colab": {}
      },
      "cell_type": "code",
      "source": [
        "#!pip3 install tensorflow  "
      ],
      "execution_count": 0,
      "outputs": []
    },
    {
      "metadata": {
        "id": "5FG20pg4cnFO",
        "colab_type": "code",
        "colab": {}
      },
      "cell_type": "code",
      "source": [
        "#!pip install --upgrade tensorflow"
      ],
      "execution_count": 0,
      "outputs": []
    },
    {
      "metadata": {
        "id": "-SFARp4JcnFP",
        "colab_type": "code",
        "colab": {},
        "collapsed": true
      },
      "cell_type": "code",
      "source": [
        "# -*- coding: utf-8 -*-\n",
        "# Char-RNN 예제\n",
        "# Author : solaris33\n",
        "# Project URL : http://solarisailab.com/archives/2487\n",
        "# GitHub Repository : https://github.com/solaris33/char-rnn-tensorflow/\n",
        "# Reference : https://github.com/sherjilozair/char-rnn-tensorflow\n",
        "\n",
        "import tensorflow as tf\n",
        "import numpy as np\n",
        "\n",
        "from utils import TextLoader\n",
        "\n",
        "# 학습에 필요한 설정값들을 지정합니다.\n",
        "data_dir = 'data/tinyshakespeare' # 셰익스피어 희곡 <리처드 3세> 데이터로 학습\n",
        "#data_dir = 'data/linux' # <Linux 소스코드> 데이터로 학습\n",
        "batch_size = 50 # Training : 50, Sampling : 1\n",
        "seq_length = 50 # Training : 50, Sampling : 1\n",
        "hidden_size = 128   # 히든 레이어의 노드 개수\n",
        "learning_rate = 0.002\n",
        "num_epochs = 2\n",
        "num_hidden_layers = 2\n",
        "grad_clip = 5   # Gradient Clipping에 사용할 임계값\n",
        "\n",
        "# TextLoader를 이용해서 데이터를 불러옵니다.\n",
        "data_loader = TextLoader(data_dir, batch_size, seq_length)\n",
        "# 학습데이터에 포함된 모든 단어들을 나타내는 변수인 chars와 chars에 id를 부여해 dict 형태로 만든 vocab을 선언합니다.\n",
        "chars = data_loader.chars \n",
        "vocab = data_loader.vocab\n",
        "vocab_size = data_loader.vocab_size # 전체 단어개수\n",
        "\n",
        "# 인풋데이터와 타겟데이터, 배치 사이즈를 입력받기 위한 플레이스홀더를 설정합니다.\n",
        "input_data = tf.placeholder(tf.int32, shape=[None, None])  # input_data : [batch_size, seq_length])\n",
        "target_data = tf.placeholder(tf.int32, shape=[None, None]) # target_data : [batch_size, seq_length])\n",
        "state_batch_size = tf.placeholder(tf.int32, shape=[])      # Training : 50, Sampling : 1\n",
        "\n",
        "# RNN의 마지막 히든레이어의 출력을 소프트맥스 출력값으로 변환해주기 위한 변수들을 선언합니다.\n",
        "# hidden_size -> vocab_size\n",
        "softmax_w = tf.Variable(tf.random_normal(shape=[hidden_size, vocab_size]), dtype=tf.float32)\n",
        "softmax_b = tf.Variable(tf.random_normal(shape=[vocab_size]), dtype=tf.float32)\n",
        "\n",
        "# num_hidden_layers만큼 LSTM cell(히든레이어)를 선언합니다.\n",
        "cells = []\n",
        "for _ in range(0, num_hidden_layers):\n",
        "    cell = tf.nn.rnn_cell.BasicLSTMCell(hidden_size)\n",
        "    cells.append(cell)\n",
        "\n",
        "# cell을 종합해서 RNN을 정의합니다.\n",
        "cell = tf.contrib.rnn.MultiRNNCell(cells, state_is_tuple=True)\n",
        "\n",
        "# 인풋데이터를 변환하기 위한 Embedding Matrix를 선언합니다.\n",
        "# vocab_size -> hidden_size\n",
        "embedding = tf.Variable(tf.random_normal(shape=[vocab_size, hidden_size]), dtype=tf.float32)\n",
        "inputs = tf.nn.embedding_lookup(embedding, input_data)\n",
        "\n",
        "# 초기 state 값을 0으로 초기화합니다.\n",
        "initial_state = cell.zero_state(state_batch_size, tf.float32)\n",
        "\n",
        "# 학습을 위한 tf.nn.dynamic_rnn을 선언합니다.\n",
        "# outputs : [batch_size, seq_length, hidden_size]\n",
        "outputs, final_state = tf.nn.dynamic_rnn(cell, inputs, initial_state=initial_state, dtype=tf.float32)\n",
        "# ouputs을 [batch_size * seq_length, hidden_size]] 형태로 바꿉니다.\n",
        "output = tf.reshape(outputs, [-1, hidden_size])\n",
        "\n",
        "# 최종 출력값을 설정합니다.\n",
        "# logits : [batch_size * seq_length, vocab_size]\n",
        "logits = tf.matmul(output, softmax_w) + softmax_b\n",
        "probs = tf.nn.softmax(logits)\n",
        "\n",
        "# Cross Entropy 손실 함수를 정의합니다. \n",
        "loss = tf.reduce_mean(tf.nn.softmax_cross_entropy_with_logits(logits=logits, labels=target_data))\n",
        "\n",
        "# 옵티마이저를 선언하고 옵티마이저에 Gradient Clipping을 적용합니다.\n",
        "# grad_clip(=5)보다 큰 Gradient를 5로 Clippin합니다.\n",
        "tvars = tf.trainable_variables()\n",
        "grads, _ = tf.clip_by_global_norm(tf.gradients(loss, tvars), grad_clip)\n",
        "optimizer = tf.train.AdamOptimizer(learning_rate)\n",
        "train_step = optimizer.apply_gradients(zip(grads, tvars))\n",
        "\n",
        "# 세션을 열고 학습을 진행합니다.\n",
        "with tf.Session() as sess:\n",
        "    # 변수들에 초기값을 할당합니다.\n",
        "    sess.run(tf.global_variables_initializer())\n",
        "    \n",
        "    for e in range(num_epochs):\n",
        "        data_loader.reset_batch_pointer()\n",
        "        # 초기 상태값을 지정합니다.\n",
        "        state = sess.run(initial_state, feed_dict={state_batch_size : batch_size})\n",
        "\n",
        "        for b in range(data_loader.num_batches):\n",
        "            # x, y 데이터를 불러옵니다.\n",
        "            x, y = data_loader.next_batch()\n",
        "            # y에 one_hot 인코딩을 적용합니다. \n",
        "            y = tf.one_hot(y, vocab_size)            # y : [batch_size, seq_length, vocab_size]\n",
        "            y = tf.reshape(y, [-1, vocab_size])       # y : [batch_size * seq_length, vocab_size]\n",
        "            y = y.eval()\n",
        "\n",
        "            # feed-dict에 사용할 값들과 LSTM 초기 cell state(feed_dict[c])값과 hidden layer 출력값(feed_dict[h])을 지정합니다.\n",
        "            feed_dict = {input_data : x, target_data: y, state_batch_size : batch_size}\n",
        "            for i, (c, h) in enumerate(initial_state):\n",
        "                feed_dict[c] = state[i].c\n",
        "                feed_dict[h] = state[i].h\n",
        "\n",
        "            # 한스텝 학습을 진행합니다.\n",
        "            _, loss_print, state = sess.run([train_step, loss, final_state], feed_dict=feed_dict)\n",
        "\n",
        "            print(\"{}(학습한 배치개수)/{}(학습할 배치개수), 반복(epoch): {}, 손실함수(loss): {:.3f}\".format(\n",
        "                          e * data_loader.num_batches + b,\n",
        "                          num_epochs * data_loader.num_batches,\n",
        "                          (e+1), \n",
        "                          loss_print))\n",
        "\n",
        "    print(\"트레이닝이 끝났습니다!\")   \n",
        "    \n",
        "\n",
        "    # 샘플링 시작\n",
        "    print(\"샘플링을 시작합니다!\")\n",
        "    num_sampling = 4000  # 생성할 글자(Character)의 개수를 지정합니다. \n",
        "    prime = u' '         # 시작 글자를 ' '(공백)으로 지정합니다.\n",
        "    sampling_type = 1    # 샘플링 타입을 설정합니다.\n",
        "    state = sess.run(cell.zero_state(1, tf.float32)) # RNN의 최초 state값을 0으로 초기화합니다.\n",
        "\n",
        "    # Random Sampling을 위한 weighted_pick 함수를 정의합니다.\n",
        "    def weighted_pick(weights):\n",
        "        t = np.cumsum(weights)\n",
        "        s = np.sum(weights)\n",
        "        return(int(np.searchsorted(t, np.random.rand(1)*s)))\n",
        "\n",
        "    ret = prime       # 샘플링 결과를 리턴받을 ret 변수에 첫번째 글자를 할당합니다.\n",
        "    char = prime[-1]   # Char-RNN의 첫번쨰 인풋을 지정합니다.  \n",
        "    for n in range(num_sampling):\n",
        "        x = np.zeros((1, 1))\n",
        "        x[0, 0] = vocab[char]\n",
        "\n",
        "        # RNN을 한스텝 실행하고 Softmax 행렬을 리턴으로 받습니다.\n",
        "        feed_dict = {input_data: x, state_batch_size : 1, initial_state: state}\n",
        "        [probs_result, state] = sess.run([probs, final_state], feed_dict=feed_dict)         \n",
        "\n",
        "        # 불필요한 차원을 제거합니다.\n",
        "        # probs_result : (1,65) -> p : (65)\n",
        "        p = np.squeeze(probs_result)\n",
        "\n",
        "        # 샘플링 타입에 따라 3가지 종류로 샘플링 합니다.\n",
        "        # sampling_type : 0 -> 다음 글자를 예측할때 항상 argmax를 사용\n",
        "        # sampling_type : 1(defualt) -> 다음 글자를 예측할때 항상 random sampling을 사용\n",
        "        # sampling_type : 2 -> 다음 글자를 예측할때 이전 글자가 ' '(공백)이면 random sampling, 그렇지 않을 경우 argmax를 사용\n",
        "        if sampling_type == 0:\n",
        "            sample = np.argmax(p)\n",
        "        elif sampling_type == 2:\n",
        "            if char == ' ':\n",
        "                sample = weighted_pick(p)\n",
        "            else:\n",
        "                sample = np.argmax(p)\n",
        "        else:\n",
        "            sample = weighted_pick(p)\n",
        "\n",
        "        pred = chars[sample]\n",
        "        ret += pred     # 샘플링 결과에 현재 스텝에서 예측한 글자를 추가합니다. (예를들어 pred=L일 경우, ret = HEL -> HELL)\n",
        "        char = pred     # 예측한 글자를 다음 RNN의 인풋으로 사용합니다.\n",
        "\n",
        "    print(\"샘플링 결과:\")\n",
        "    print(ret)"
      ],
      "execution_count": 0,
      "outputs": []
    }
  ]
}