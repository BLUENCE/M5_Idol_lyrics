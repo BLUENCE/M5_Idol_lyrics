{
 "cells": [
  {
   "cell_type": "code",
   "execution_count": 2,
   "metadata": {
    "colab": {},
    "colab_type": "code",
    "id": "EbkLqRticnCk",
    "outputId": "87c710ae-7d0b-44cd-a11a-c467a57ad34e"
   },
   "outputs": [
    {
     "name": "stdout",
     "output_type": "stream",
     "text": [
      "Collecting soynlp\n",
      "\u001b[?25l  Downloading https://files.pythonhosted.org/packages/d3/75/994df0174e5f41abd8a49ca3767b7c66f544f07590cf3c7ca6d33e85fa5e/soynlp-0.0.46-py3-none-any.whl (1.5MB)\n",
      "\u001b[K    100% |████████████████████████████████| 1.5MB 3.3MB/s ta 0:00:01\n",
      "\u001b[?25hRequirement already satisfied: psutil>=5.0.1 in /anaconda3/lib/python3.6/site-packages (from soynlp) (5.4.3)\n",
      "Requirement already satisfied: numpy>=1.12.1 in /anaconda3/lib/python3.6/site-packages (from soynlp) (1.14.0)\n",
      "Installing collected packages: soynlp\n",
      "Successfully installed soynlp-0.0.46\n",
      "Name: soynlp\n",
      "Version: 0.0.46\n",
      "Summary: Unsupervised Korean Natural Language Processing Toolkits\n",
      "Home-page: https://github.com/lovit/soynlp\n",
      "Author: Lovit\n",
      "Author-email: soy.lovit@gmail.com\n",
      "License: UNKNOWN\n",
      "Location: /anaconda3/lib/python3.6/site-packages\n",
      "Requires: numpy, psutil\n",
      "Required-by: \n"
     ]
    }
   ],
   "source": [
    "!pip install soynlp\n",
    "!pip show soynlp"
   ]
  },
  {
   "cell_type": "code",
   "execution_count": 3,
   "metadata": {
    "colab": {},
    "colab_type": "code",
    "id": "-7rG_uXfcnCZ"
   },
   "outputs": [],
   "source": [
    "import pandas as pd \n",
    "import numpy as np\n",
    "import re\n",
    "from soynlp.tokenizer import RegexTokenizer\n",
    "import gensim\n",
    "from gensim.models import Phrases\n",
    "from gensim.models.word2vec import LineSentence\n",
    "from gensim import corpora, models\n",
    "from gensim.models import LdaMulticore\n",
    "from gensim.models import Word2Vec\n",
    "from gensim.corpora import Dictionary, MmCorpus"
   ]
  },
  {
   "cell_type": "code",
   "execution_count": 0,
   "metadata": {
    "colab": {},
    "colab_type": "code",
    "id": "VQPnUAg4cnCc"
   },
   "outputs": [],
   "source": [
    "# 참고자료 \n",
    "# http://nbviewer.jupyter.org/github/KMJJ1/hiphop/blob/master/RNN%20-%20LSTM%EC%9D%84%20%EC%9D%B4%EC%9A%A9%ED%95%9C%20Hiphop%20%EA%B0%80%EC%82%AC%20%EC%83%9D%EC%84%B1.ipynb\n",
    "# https://github.com/dyelax/encore.ai"
   ]
  },
  {
   "cell_type": "code",
   "execution_count": 4,
   "metadata": {
    "colab": {},
    "colab_type": "code",
    "id": "gKV5gCUjcnCg",
    "outputId": "f208b46f-518b-4752-8527-6ad87343876d"
   },
   "outputs": [
    {
     "data": {
      "text/plain": [
       "'/Users/lab/Desktop/Word2Vec_Idol'"
      ]
     },
     "execution_count": 4,
     "metadata": {},
     "output_type": "execute_result"
    }
   ],
   "source": [
    "%pwd"
   ]
  },
  {
   "cell_type": "code",
   "execution_count": 5,
   "metadata": {
    "colab": {},
    "colab_type": "code",
    "id": "9-tnXsmKcnCo"
   },
   "outputs": [],
   "source": [
    "data= pd.read_csv(\"song_data_yewon_ver05.csv\")"
   ]
  },
  {
   "cell_type": "code",
   "execution_count": 6,
   "metadata": {
    "colab": {},
    "colab_type": "code",
    "id": "5CznYs-RcnCq"
   },
   "outputs": [],
   "source": [
    "song = pd.DataFrame(data)"
   ]
  },
  {
   "cell_type": "code",
   "execution_count": 7,
   "metadata": {
    "colab": {},
    "colab_type": "code",
    "id": "nWCJFiidcnCs",
    "outputId": "144c5c84-b0d9-487e-b378-20f5995aa310"
   },
   "outputs": [
    {
     "data": {
      "text/html": [
       "<div>\n",
       "<style scoped>\n",
       "    .dataframe tbody tr th:only-of-type {\n",
       "        vertical-align: middle;\n",
       "    }\n",
       "\n",
       "    .dataframe tbody tr th {\n",
       "        vertical-align: top;\n",
       "    }\n",
       "\n",
       "    .dataframe thead th {\n",
       "        text-align: right;\n",
       "    }\n",
       "</style>\n",
       "<table border=\"1\" class=\"dataframe\">\n",
       "  <thead>\n",
       "    <tr style=\"text-align: right;\">\n",
       "      <th></th>\n",
       "      <th>title</th>\n",
       "      <th>artist</th>\n",
       "      <th>album</th>\n",
       "      <th>release_date</th>\n",
       "      <th>song_genre</th>\n",
       "      <th>is_title</th>\n",
       "      <th>like</th>\n",
       "      <th>creator</th>\n",
       "      <th>lyrics</th>\n",
       "      <th>lyricist</th>\n",
       "      <th>composer</th>\n",
       "      <th>arranger</th>\n",
       "    </tr>\n",
       "  </thead>\n",
       "  <tbody>\n",
       "    <tr>\n",
       "      <th>0</th>\n",
       "      <td>태지 보이스</td>\n",
       "      <td>서태지와 아이들</td>\n",
       "      <td>시대유감(時代遺憾)</td>\n",
       "      <td>1996.06.07</td>\n",
       "      <td>Rock</td>\n",
       "      <td>수록곡</td>\n",
       "      <td>269</td>\n",
       "      <td>서태지   작사   서태지   작곡   서태지   편곡</td>\n",
       "      <td>갈수 없는 곳이란 우리에겐 없어&lt;br&gt;보이는 길밖에도 세상은 있어&lt;br&gt;언제나 식지...</td>\n",
       "      <td>서태지</td>\n",
       "      <td>서태지</td>\n",
       "      <td>서태지</td>\n",
       "    </tr>\n",
       "    <tr>\n",
       "      <th>1</th>\n",
       "      <td>시대유감(時代遺憾)</td>\n",
       "      <td>서태지와 아이들</td>\n",
       "      <td>시대유감(時代遺憾)</td>\n",
       "      <td>1996.06.07</td>\n",
       "      <td>Rock</td>\n",
       "      <td>타이틀 곡</td>\n",
       "      <td>3,265</td>\n",
       "      <td>서태지   작사   서태지   작곡   서태지   편곡</td>\n",
       "      <td>왜 기다려 왔잖아&lt;br&gt;모든 삶을 포기하는 소리를&lt;br&gt;이 세상이 모두 미쳐버릴&lt;b...</td>\n",
       "      <td>서태지</td>\n",
       "      <td>서태지</td>\n",
       "      <td>서태지</td>\n",
       "    </tr>\n",
       "    <tr>\n",
       "      <th>2</th>\n",
       "      <td>수시아(誰是我)</td>\n",
       "      <td>서태지와 아이들</td>\n",
       "      <td>시대유감(時代遺憾)</td>\n",
       "      <td>1996.06.07</td>\n",
       "      <td>Rock</td>\n",
       "      <td>수록곡</td>\n",
       "      <td>488</td>\n",
       "      <td>서태지   작사   서태지   작곡   서태지   편곡</td>\n",
       "      <td>이 세상 그 누구도 나를 닮을 순 없네&lt;br&gt;날 세상에 알릴 거야&lt;br&gt;나 역시 그...</td>\n",
       "      <td>서태지</td>\n",
       "      <td>서태지</td>\n",
       "      <td>서태지</td>\n",
       "    </tr>\n",
       "  </tbody>\n",
       "</table>\n",
       "</div>"
      ],
      "text/plain": [
       "        title    artist       album release_date song_genre is_title   like  \\\n",
       "0      태지 보이스  서태지와 아이들  시대유감(時代遺憾)   1996.06.07       Rock      수록곡    269   \n",
       "1  시대유감(時代遺憾)  서태지와 아이들  시대유감(時代遺憾)   1996.06.07       Rock    타이틀 곡  3,265   \n",
       "2    수시아(誰是我)  서태지와 아이들  시대유감(時代遺憾)   1996.06.07       Rock      수록곡    488   \n",
       "\n",
       "                          creator  \\\n",
       "0  서태지   작사   서태지   작곡   서태지   편곡   \n",
       "1  서태지   작사   서태지   작곡   서태지   편곡   \n",
       "2  서태지   작사   서태지   작곡   서태지   편곡   \n",
       "\n",
       "                                              lyrics lyricist composer  \\\n",
       "0  갈수 없는 곳이란 우리에겐 없어<br>보이는 길밖에도 세상은 있어<br>언제나 식지...      서태지      서태지   \n",
       "1  왜 기다려 왔잖아<br>모든 삶을 포기하는 소리를<br>이 세상이 모두 미쳐버릴<b...      서태지      서태지   \n",
       "2  이 세상 그 누구도 나를 닮을 순 없네<br>날 세상에 알릴 거야<br>나 역시 그...      서태지      서태지   \n",
       "\n",
       "  arranger  \n",
       "0      서태지  \n",
       "1      서태지  \n",
       "2      서태지  "
      ]
     },
     "execution_count": 7,
     "metadata": {},
     "output_type": "execute_result"
    }
   ],
   "source": [
    "song.head(3)"
   ]
  },
  {
   "cell_type": "code",
   "execution_count": 8,
   "metadata": {
    "colab": {},
    "colab_type": "code",
    "id": "hyORuSeBcnCv",
    "outputId": "e9cd6ba2-bd57-4367-babe-746a326dcb6c"
   },
   "outputs": [
    {
     "data": {
      "text/plain": [
       "Index(['title', 'artist', 'album', 'release_date', 'song_genre', 'is_title',\n",
       "       'like', 'creator', 'lyrics', 'lyricist', 'composer', 'arranger'],\n",
       "      dtype='object')"
      ]
     },
     "execution_count": 8,
     "metadata": {},
     "output_type": "execute_result"
    }
   ],
   "source": [
    "song.columns"
   ]
  },
  {
   "cell_type": "code",
   "execution_count": 9,
   "metadata": {
    "colab": {},
    "colab_type": "code",
    "id": "-h8M0oszcnCz",
    "outputId": "ecde986c-300d-47ff-8eae-691d0e50f20a"
   },
   "outputs": [
    {
     "data": {
      "text/plain": [
       "슈퍼주니어          261\n",
       "쿨              235\n",
       "신화             225\n",
       "동방신기           192\n",
       "플라이 투 더 스카이    180\n",
       "Name: artist, dtype: int64"
      ]
     },
     "execution_count": 9,
     "metadata": {},
     "output_type": "execute_result"
    }
   ],
   "source": [
    "song['artist'].value_counts().head()"
   ]
  },
  {
   "cell_type": "code",
   "execution_count": 10,
   "metadata": {
    "colab": {},
    "colab_type": "code",
    "id": "S9l_t2yPcnC5",
    "outputId": "d49d0897-8f30-4fe6-d5fd-696fd146d84e"
   },
   "outputs": [
    {
     "data": {
      "text/plain": [
       "322"
      ]
     },
     "execution_count": 10,
     "metadata": {},
     "output_type": "execute_result"
    }
   ],
   "source": [
    "# 유니크한 가수의 수 \n",
    "len(song['artist'].unique())"
   ]
  },
  {
   "cell_type": "code",
   "execution_count": 11,
   "metadata": {
    "colab": {},
    "colab_type": "code",
    "id": "rvCF-qnqcnC8",
    "outputId": "4c363484-7572-4cd6-b1b0-645d2157798c"
   },
   "outputs": [
    {
     "data": {
      "text/plain": [
       "(9861, 12)"
      ]
     },
     "execution_count": 11,
     "metadata": {},
     "output_type": "execute_result"
    }
   ],
   "source": [
    "# 곡의 수 \n",
    "song.shape"
   ]
  },
  {
   "cell_type": "code",
   "execution_count": 12,
   "metadata": {
    "colab": {},
    "colab_type": "code",
    "id": "CgTf7Q8ccnC9",
    "outputId": "15bc40cb-a5a3-4b45-88ca-f68ddb757d41"
   },
   "outputs": [
    {
     "data": {
      "text/plain": [
       "0"
      ]
     },
     "execution_count": 12,
     "metadata": {},
     "output_type": "execute_result"
    }
   ],
   "source": [
    "song['lyrics'].isnull().sum()"
   ]
  },
  {
   "cell_type": "code",
   "execution_count": 69,
   "metadata": {
    "colab": {},
    "colab_type": "code",
    "id": "RW7XEAZ_cnDG",
    "outputId": "a09111f1-9067-4347-fe37-bb49e8f132bf"
   },
   "outputs": [
    {
     "data": {
      "text/plain": [
       "0    갈수 없는 곳이란 우리에겐 없어<br>보이는 길밖에도 세상은 있어<br>언제나 식지...\n",
       "1    왜 기다려 왔잖아<br>모든 삶을 포기하는 소리를<br>이 세상이 모두 미쳐버릴<b...\n",
       "2    이 세상 그 누구도 나를 닮을 순 없네<br>날 세상에 알릴 거야<br>나 역시 그...\n",
       "3    항상 난 지나치기만 했네<br>이젠 난 미련없이 끝내<br>됐어 찾아냈어 난<br>...\n",
       "4    난 알아요이밤이 흐르고 흐르면 누군가가<br>나를 떠나버려야 한다는 그사실을<br>...\n",
       "Name: lyrics, dtype: object"
      ]
     },
     "execution_count": 69,
     "metadata": {},
     "output_type": "execute_result"
    }
   ],
   "source": [
    "song['lyrics'].head()"
   ]
  },
  {
   "cell_type": "markdown",
   "metadata": {
    "colab_type": "text",
    "id": "R9JBCFMtcnDJ"
   },
   "source": [
    "## 텍스트 데이터 전처리"
   ]
  },
  {
   "cell_type": "code",
   "execution_count": 14,
   "metadata": {
    "colab": {},
    "colab_type": "code",
    "id": "tRnYOD7dcnDJ"
   },
   "outputs": [],
   "source": [
    "def preprocessing(text):\n",
    "    # 개행문자 제거\n",
    "    text =  text.strip('\\t\\n\\r')\n",
    "    pattern = re.compile(r'\\s+')\n",
    "    text = re.sub(pattern, ' ', text)\n",
    "    # 특수문자 제거\n",
    "    # 특수문자나 이모티콘 등은 때로는 의미를 갖기도 하지만 여기에서는 제거했습니다.\n",
    "    # text = re.sub('[?.,;:|\\)*~`’!^\\-_+<>@\\#$%&-=#}※]', '', text)\n",
    "    # 한글, 영문, 숫자만 남기고 모두 제거하도록 합니다.\n",
    "    # text = re.sub('[^가-힣ㄱ-ㅎㅏ-ㅣa-zA-Z0-9]', ' ', text)\n",
    "    # 한글, 영문만 남기고 모두 제거하도록 합니다.\n",
    "    text = re.sub('[^가-힣ㄱ-ㅎㅏ-ㅣa-zA-Z]', ' ', text)\n",
    "    return text"
   ]
  },
  {
   "cell_type": "code",
   "execution_count": 15,
   "metadata": {
    "colab": {},
    "colab_type": "code",
    "id": "WpkJQb3mcnDL",
    "outputId": "381cf300-fd48-47be-b34c-62ce2308dca5"
   },
   "outputs": [
    {
     "data": {
      "text/plain": [
       "str"
      ]
     },
     "execution_count": 15,
     "metadata": {},
     "output_type": "execute_result"
    }
   ],
   "source": [
    "sample_content = song['lyrics'][100]\n",
    "type(sample_content)"
   ]
  },
  {
   "cell_type": "code",
   "execution_count": 16,
   "metadata": {
    "colab": {},
    "colab_type": "code",
    "id": "xUHe3nRrcnDN",
    "outputId": "c1ca60d3-490d-46c1-d22c-7e9f52a982fd"
   },
   "outputs": [
    {
     "data": {
      "text/plain": [
       "'Why Why Why Why Why Oh Baby br Why Why Why Why Why br 너의 잠꼬대 속에 br 애타게 찾는 이는 br 내가 아닌 B였어 br 그것도 모자라서 br 다른 사람도 아닌 br 왜 하필 내 친구 B를 찾는 거야 br 이건 말도 안돼 도대체 넌 뭐야 br 기막혀 웃음밖에 안나와 br  류 영화속의 한심한 주연이 br 바로 너였다니 믿어지지 않아 br Why Why Why Why br B를 찾는 거야 br Why Why Why Why br 하필 내 친구야 br B는 널 보지 않아 br 문제는 오직 너야 br 난 아직 너를 사랑해 br 넌 어떻게 할꺼야 br 태도를 분명히해 br 난 B가 아니야 A란 말이야 br 이건 말도 안돼 도대체 넌 뭐야 br 기막혀 웃음밖에 안나와 br  류 영화속의 한심한 주연이 br 바로 너였다니 믿어지지않아 br Why Why Why Why Why br 왜 너는 B를 찾는 거야 br Why Why Why Why Why br 하필 내 친구야 br  br My heart beats and as we br conversate adrenaline peaks br your smiles your style br it makes you unique br I wanted to take the br friendship that we had to br a different strat br because I didn t think that br that this kind of love br was all that br pharcyde she s passing me by br I can t help it from br wondering why br Why Why Why Why Why br 왜 너는 B를 찾는 거야 br Why Why Why Why Why br 하필 내 친구야 br Why Why Why Why Why br Why Why Why Why Why br Why Why Why Why br 왜 B를 찾는 거야'"
      ]
     },
     "execution_count": 16,
     "metadata": {},
     "output_type": "execute_result"
    }
   ],
   "source": [
    "sample_content = preprocessing(sample_content)\n",
    "sample_content[:1000]"
   ]
  },
  {
   "cell_type": "code",
   "execution_count": 17,
   "metadata": {
    "colab": {},
    "colab_type": "code",
    "id": "lK6PcP3McnDQ",
    "outputId": "56663a5d-08ae-4744-bf81-4dd222eeb8f0"
   },
   "outputs": [
    {
     "name": "stdout",
     "output_type": "stream",
     "text": [
      "CPU times: user 1.32 s, sys: 11.6 ms, total: 1.33 s\n",
      "Wall time: 1.33 s\n"
     ]
    }
   ],
   "source": [
    "# %time을 찍어주면 해당 코드를 실행할 때 걸리는 시간을 출력해 줍니다\n",
    "%time sentences = song['lyrics'].apply(preprocessing)"
   ]
  },
  {
   "cell_type": "code",
   "execution_count": 18,
   "metadata": {
    "colab": {},
    "colab_type": "code",
    "id": "jprg3ZN0cnDS",
    "outputId": "31d19829-a6d2-4555-febe-7240bcca145e"
   },
   "outputs": [
    {
     "data": {
      "text/plain": [
       "0    갈수 없는 곳이란 우리에겐 없어 br 보이는 길밖에도 세상은 있어 br 언제나 식지...\n",
       "1    왜 기다려 왔잖아 br 모든 삶을 포기하는 소리를 br 이 세상이 모두 미쳐버릴 b...\n",
       "2    이 세상 그 누구도 나를 닮을 순 없네 br 날 세상에 알릴 거야 br 나 역시 그...\n",
       "3    항상 난 지나치기만 했네 br 이젠 난 미련없이 끝내 br 됐어 찾아냈어 난 br ...\n",
       "4    난 알아요이밤이 흐르고 흐르면 누군가가 br 나를 떠나버려야 한다는 그사실을 br ...\n",
       "Name: lyrics, dtype: object"
      ]
     },
     "execution_count": 18,
     "metadata": {},
     "output_type": "execute_result"
    }
   ],
   "source": [
    "sentences.head()"
   ]
  },
  {
   "cell_type": "markdown",
   "metadata": {
    "colab_type": "text",
    "id": "Ha8g3LodcnDX"
   },
   "source": [
    "## Bigram 만들기\n",
    "\n",
    "'말이 되는' 가사 생성에 도움받기 위해 자주 나오는 단어들을 묶어 어구로 만들어야 한다.\n",
    "\n",
    "n-gram 이라는 기법으로 bigram(두 단어씩 묶기), trigram(세 단어씩 묶기) 등의 방법이 있다.\n",
    "\n",
    "`bigram = gensim.models.Phrases(tokens, min_count=1, threshold=100)`이런식으로 만들 수 있다.\n",
    "\n",
    "trigram을 하려면 bigram 으로 나온 것을 한번 더 Phrases에 넣고 돌려주는 방식으로 하면 된다.\n",
    "\n",
    "// to create the bigrams\n",
    "bigram_model = Phrases(unigram_sentences)\n",
    "\n",
    "// apply the trained model to a sentence\n",
    " for unigram_sentence in unigram_sentences:                \n",
    "            bigram_sentence = u' '.join(bigram_model[unigram_sentence])\n",
    "\n",
    "// get a trigram model out of the bigram\n",
    "trigram_model = Phrases(bigram_sentences)"
   ]
  },
  {
   "cell_type": "code",
   "execution_count": 21,
   "metadata": {
    "colab": {},
    "colab_type": "code",
    "id": "IBkQzp7ZcnDX",
    "outputId": "72fce77a-bc94-42e7-ea01-5420c8801c51"
   },
   "outputs": [],
   "source": [
    "# 토크나이징 하기 전 sentences 로 txt파일 생성\n",
    "\n",
    "USE_PREMADE_TEXT = False\n",
    "\n",
    "text_filepath = 'all_lyrics_text.txt'\n",
    "if not USE_PREMADE_TEXT:\n",
    "    with open(text_filepath, 'w', encoding='utf-8') as f:\n",
    "        for lyrics in sentences.values:\n",
    "            if pd.isnull(lyrics): # null값 있다면 그 다음으로 넘어감\n",
    "                continue\n",
    "            f.write(lyrics + '\\n')\n",
    "else:\n",
    "    assert path.exists(text_filepath)"
   ]
  },
  {
   "cell_type": "code",
   "execution_count": 22,
   "metadata": {
    "colab": {},
    "colab_type": "code",
    "id": "SlEGqvuVcnDb",
    "outputId": "75586027-05d7-4d6c-b91e-607d9b02428e"
   },
   "outputs": [],
   "source": [
    "# bigram model 저장 \n",
    "\n",
    "\n",
    "USE_PREMADE_BIGRAM_MODEL = False\n",
    "\n",
    "all_bigram_model_filepath = 'all_bigram_model'\n",
    "all_sentences_normalized_filepath = 'all_lyrics_text.txt'\n",
    "\n",
    "all_unigram_sentences = LineSentence(all_sentences_normalized_filepath)\n",
    "\n",
    "if not USE_PREMADE_BIGRAM_MODEL:    \n",
    "    \n",
    "    all_bigram_model = Phrases(all_unigram_sentences) #phrase냐 아니냐를 판단해줌\n",
    "    all_bigram_model.save(all_bigram_model_filepath)\n",
    "    \n",
    "else:\n",
    "    all_bigram_model = Phrases.load(all_bigram_model_filepath)"
   ]
  },
  {
   "cell_type": "code",
   "execution_count": 23,
   "metadata": {
    "colab": {},
    "colab_type": "code",
    "id": "wiQmmnQlcnDe",
    "outputId": "d8ef22c4-08bd-47f7-c1fe-3c0013d5c41c"
   },
   "outputs": [
    {
     "name": "stderr",
     "output_type": "stream",
     "text": [
      "/anaconda3/lib/python3.6/site-packages/gensim/models/phrases.py:494: UserWarning: For a faster implementation, use the gensim.models.phrases.Phraser class\n",
      "  warnings.warn(\"For a faster implementation, use the gensim.models.phrases.Phraser class\")\n"
     ]
    },
    {
     "name": "stdout",
     "output_type": "stream",
     "text": [
      "CPU times: user 9.16 s, sys: 25 ms, total: 9.18 s\n",
      "Wall time: 9.2 s\n"
     ]
    }
   ],
   "source": [
    "%%time\n",
    "USE_PREMADE_BIGRAM_SENTENCES = False\n",
    "\n",
    "all_bigram_sentences_filepath = 'all_sentences_for_word2vec.txt'\n",
    "\n",
    "if not USE_PREMADE_BIGRAM_SENTENCES:\n",
    "    \n",
    "    with open(all_bigram_sentences_filepath, 'w', encoding='utf-8') as f:\n",
    "        for unigram_sentence in all_unigram_sentences:\n",
    "            all_bigram_sentence = all_bigram_model[unigram_sentence]\n",
    "            f.write(' '.join(all_bigram_sentence) + '\\n')\n",
    "else:\n",
    "    assert path.exists(all_bigram_sentences_filepath)"
   ]
  },
  {
   "cell_type": "markdown",
   "metadata": {
    "colab_type": "text",
    "id": "GDB7sIuvcnDh"
   },
   "source": [
    "## Word2vec 모델 만들기\n",
    "\n",
    "Skip-gram 방식으로 word2vec 하였다.\n",
    "\n",
    "Skip-Gram 방식은 CBOW 방식과 반대로 특정한 단어로부터 문맥이 될 수 있는 단어를 예측한다. \n",
    "\n",
    "보통 입력 단어 주변의 kk개 단어를 문맥으로 보고 예측 모형을 만드는데 이 kk 값을 window size 라고 한다.\n"
   ]
  },
  {
   "cell_type": "code",
   "execution_count": 24,
   "metadata": {
    "colab": {},
    "colab_type": "code",
    "id": "JQJmzmuvcnDi"
   },
   "outputs": [],
   "source": [
    "# word2vec 모델 학습에 로그를 찍을 수 있도록 합니다.\n",
    "\n",
    "import logging\n",
    "logging.basicConfig(\n",
    "    format='%(asctime)s : %(levelname)s : %(message)s', \n",
    "    level=logging.INFO)"
   ]
  },
  {
   "cell_type": "code",
   "execution_count": 33,
   "metadata": {
    "colab": {},
    "colab_type": "code",
    "id": "nVK63KLJcnDj",
    "outputId": "203af042-916e-48b0-ebbe-9719102700a4"
   },
   "outputs": [
    {
     "name": "stderr",
     "output_type": "stream",
     "text": [
      "2018-09-17 14:56:15,742 : WARNING : consider setting layer size to a multiple of 4 for greater performance\n",
      "2018-09-17 14:56:15,742 : INFO : collecting all words and their counts\n",
      "2018-09-17 14:56:15,744 : INFO : PROGRESS: at sentence #0, processed 0 words, keeping 0 word types\n",
      "2018-09-17 14:56:16,415 : INFO : collected 142657 word types from a corpus of 2464846 raw words and 9861 sentences\n",
      "2018-09-17 14:56:16,416 : INFO : Loading a fresh vocabulary\n",
      "2018-09-17 14:56:16,876 : INFO : min_count=1 retains 142657 unique words (100% of original 142657, drops 0)\n",
      "2018-09-17 14:56:16,877 : INFO : min_count=1 leaves 2464846 word corpus (100% of original 2464846, drops 0)\n",
      "2018-09-17 14:56:17,220 : INFO : deleting the raw counts dictionary of 142657 items\n",
      "2018-09-17 14:56:17,222 : INFO : sample=0.001 downsamples 19 most-common words\n",
      "2018-09-17 14:56:17,223 : INFO : downsampling leaves estimated 1885067 word corpus (76.5% of prior 2464846)\n",
      "2018-09-17 14:56:17,617 : INFO : estimated required memory for 142657 words and 50 dimensions: 128391300 bytes\n",
      "2018-09-17 14:56:17,618 : INFO : resetting layer weights\n",
      "2018-09-17 14:56:18,955 : INFO : training model with 3 workers on 142657 vocabulary and 50 features, using sg=1 hs=0 sample=0.001 negative=5 window=5\n",
      "2018-09-17 14:56:19,978 : INFO : EPOCH 1 - PROGRESS: at 17.28% examples, 295143 words/s, in_qsize 5, out_qsize 0\n",
      "2018-09-17 14:56:21,002 : INFO : EPOCH 1 - PROGRESS: at 36.38% examples, 302545 words/s, in_qsize 5, out_qsize 0\n",
      "2018-09-17 14:56:22,004 : INFO : EPOCH 1 - PROGRESS: at 53.36% examples, 304432 words/s, in_qsize 5, out_qsize 0\n",
      "2018-09-17 14:56:23,032 : INFO : EPOCH 1 - PROGRESS: at 69.51% examples, 306997 words/s, in_qsize 5, out_qsize 0\n",
      "2018-09-17 14:56:24,037 : INFO : EPOCH 1 - PROGRESS: at 83.79% examples, 306761 words/s, in_qsize 6, out_qsize 0\n",
      "2018-09-17 14:56:25,044 : INFO : EPOCH 1 - PROGRESS: at 99.61% examples, 308221 words/s, in_qsize 2, out_qsize 1\n",
      "2018-09-17 14:56:25,045 : INFO : worker thread finished; awaiting finish of 2 more threads\n",
      "2018-09-17 14:56:25,049 : INFO : worker thread finished; awaiting finish of 1 more threads\n",
      "2018-09-17 14:56:25,090 : INFO : worker thread finished; awaiting finish of 0 more threads\n",
      "2018-09-17 14:56:25,091 : INFO : EPOCH - 1 : training on 2464846 raw words (1885250 effective words) took 6.1s, 307365 effective words/s\n",
      "2018-09-17 14:56:26,146 : INFO : EPOCH 2 - PROGRESS: at 17.28% examples, 286316 words/s, in_qsize 5, out_qsize 0\n",
      "2018-09-17 14:56:27,188 : INFO : EPOCH 2 - PROGRESS: at 36.38% examples, 295083 words/s, in_qsize 5, out_qsize 0\n",
      "2018-09-17 14:56:28,189 : INFO : EPOCH 2 - PROGRESS: at 52.56% examples, 294597 words/s, in_qsize 5, out_qsize 0\n",
      "2018-09-17 14:56:29,229 : INFO : EPOCH 2 - PROGRESS: at 68.41% examples, 296964 words/s, in_qsize 5, out_qsize 0\n",
      "2018-09-17 14:56:30,234 : INFO : EPOCH 2 - PROGRESS: at 83.79% examples, 303064 words/s, in_qsize 5, out_qsize 0\n",
      "2018-09-17 14:56:31,220 : INFO : worker thread finished; awaiting finish of 2 more threads\n",
      "2018-09-17 14:56:31,225 : INFO : worker thread finished; awaiting finish of 1 more threads\n",
      "2018-09-17 14:56:31,274 : INFO : EPOCH 2 - PROGRESS: at 100.00% examples, 304957 words/s, in_qsize 0, out_qsize 1\n",
      "2018-09-17 14:56:31,275 : INFO : worker thread finished; awaiting finish of 0 more threads\n",
      "2018-09-17 14:56:31,276 : INFO : EPOCH - 2 : training on 2464846 raw words (1885066 effective words) took 6.2s, 304890 effective words/s\n",
      "2018-09-17 14:56:32,318 : INFO : EPOCH 3 - PROGRESS: at 18.98% examples, 311305 words/s, in_qsize 5, out_qsize 0\n",
      "2018-09-17 14:56:33,358 : INFO : EPOCH 3 - PROGRESS: at 39.12% examples, 318879 words/s, in_qsize 5, out_qsize 0\n",
      "2018-09-17 14:56:34,362 : INFO : EPOCH 3 - PROGRESS: at 56.73% examples, 322585 words/s, in_qsize 6, out_qsize 0\n",
      "2018-09-17 14:56:35,383 : INFO : EPOCH 3 - PROGRESS: at 72.63% examples, 321154 words/s, in_qsize 5, out_qsize 0\n",
      "2018-09-17 14:56:36,395 : INFO : EPOCH 3 - PROGRESS: at 88.23% examples, 322248 words/s, in_qsize 5, out_qsize 0\n",
      "2018-09-17 14:56:37,107 : INFO : worker thread finished; awaiting finish of 2 more threads\n",
      "2018-09-17 14:56:37,111 : INFO : worker thread finished; awaiting finish of 1 more threads\n",
      "2018-09-17 14:56:37,166 : INFO : worker thread finished; awaiting finish of 0 more threads\n",
      "2018-09-17 14:56:37,167 : INFO : EPOCH - 3 : training on 2464846 raw words (1884913 effective words) took 5.9s, 320032 effective words/s\n",
      "2018-09-17 14:56:38,177 : INFO : EPOCH 4 - PROGRESS: at 17.86% examples, 306599 words/s, in_qsize 5, out_qsize 0\n",
      "2018-09-17 14:56:39,209 : INFO : EPOCH 4 - PROGRESS: at 37.74% examples, 314283 words/s, in_qsize 5, out_qsize 0\n",
      "2018-09-17 14:56:40,226 : INFO : EPOCH 4 - PROGRESS: at 55.16% examples, 315600 words/s, in_qsize 5, out_qsize 0\n",
      "2018-09-17 14:56:41,231 : INFO : EPOCH 4 - PROGRESS: at 71.57% examples, 319118 words/s, in_qsize 5, out_qsize 0\n",
      "2018-09-17 14:56:42,243 : INFO : EPOCH 4 - PROGRESS: at 86.57% examples, 317605 words/s, in_qsize 5, out_qsize 0\n",
      "2018-09-17 14:56:43,067 : INFO : worker thread finished; awaiting finish of 2 more threads\n",
      "2018-09-17 14:56:43,069 : INFO : worker thread finished; awaiting finish of 1 more threads\n",
      "2018-09-17 14:56:43,092 : INFO : worker thread finished; awaiting finish of 0 more threads\n",
      "2018-09-17 14:56:43,093 : INFO : EPOCH - 4 : training on 2464846 raw words (1885004 effective words) took 5.9s, 318207 effective words/s\n",
      "2018-09-17 14:56:44,100 : INFO : EPOCH 5 - PROGRESS: at 17.86% examples, 307400 words/s, in_qsize 6, out_qsize 0\n",
      "2018-09-17 14:56:45,153 : INFO : EPOCH 5 - PROGRESS: at 36.38% examples, 300505 words/s, in_qsize 5, out_qsize 0\n",
      "2018-09-17 14:56:46,154 : INFO : EPOCH 5 - PROGRESS: at 54.31% examples, 310609 words/s, in_qsize 6, out_qsize 0\n",
      "2018-09-17 14:56:47,154 : INFO : EPOCH 5 - PROGRESS: at 70.53% examples, 313602 words/s, in_qsize 5, out_qsize 0\n",
      "2018-09-17 14:56:48,192 : INFO : EPOCH 5 - PROGRESS: at 86.57% examples, 316112 words/s, in_qsize 5, out_qsize 0\n",
      "2018-09-17 14:56:49,052 : INFO : worker thread finished; awaiting finish of 2 more threads\n",
      "2018-09-17 14:56:49,059 : INFO : worker thread finished; awaiting finish of 1 more threads\n",
      "2018-09-17 14:56:49,103 : INFO : worker thread finished; awaiting finish of 0 more threads\n",
      "2018-09-17 14:56:49,104 : INFO : EPOCH - 5 : training on 2464846 raw words (1884746 effective words) took 6.0s, 313652 effective words/s\n",
      "2018-09-17 14:56:49,105 : INFO : training on a 12324230 raw words (9424979 effective words) took 30.1s, 312615 effective words/s\n",
      "2018-09-17 14:56:49,126 : WARNING : Effective 'alpha' higher than previous training cycles\n",
      "2018-09-17 14:56:49,127 : INFO : training model with 3 workers on 142657 vocabulary and 50 features, using sg=1 hs=0 sample=0.001 negative=5 window=5\n",
      "2018-09-17 14:56:50,135 : INFO : EPOCH 1 - PROGRESS: at 17.28% examples, 299635 words/s, in_qsize 5, out_qsize 0\n",
      "2018-09-17 14:56:51,140 : INFO : EPOCH 1 - PROGRESS: at 35.64% examples, 300215 words/s, in_qsize 5, out_qsize 0\n",
      "2018-09-17 14:56:52,168 : INFO : EPOCH 1 - PROGRESS: at 53.68% examples, 307670 words/s, in_qsize 5, out_qsize 0\n",
      "2018-09-17 14:56:53,174 : INFO : EPOCH 1 - PROGRESS: at 69.87% examples, 311134 words/s, in_qsize 5, out_qsize 0\n",
      "2018-09-17 14:56:54,186 : INFO : EPOCH 1 - PROGRESS: at 84.58% examples, 311249 words/s, in_qsize 5, out_qsize 0\n",
      "2018-09-17 14:56:55,099 : INFO : worker thread finished; awaiting finish of 2 more threads\n",
      "2018-09-17 14:56:55,101 : INFO : worker thread finished; awaiting finish of 1 more threads\n",
      "2018-09-17 14:56:55,141 : INFO : worker thread finished; awaiting finish of 0 more threads\n",
      "2018-09-17 14:56:55,142 : INFO : EPOCH - 1 : training on 2464846 raw words (1885247 effective words) took 6.0s, 313533 effective words/s\n",
      "2018-09-17 14:56:55,143 : INFO : training on a 2464846 raw words (1885247 effective words) took 6.0s, 313425 effective words/s\n",
      "2018-09-17 14:56:55,144 : WARNING : Effective 'alpha' higher than previous training cycles\n",
      "2018-09-17 14:56:55,144 : INFO : training model with 3 workers on 142657 vocabulary and 50 features, using sg=1 hs=0 sample=0.001 negative=5 window=5\n",
      "2018-09-17 14:56:56,190 : INFO : EPOCH 1 - PROGRESS: at 18.98% examples, 310485 words/s, in_qsize 5, out_qsize 0\n",
      "2018-09-17 14:56:57,217 : INFO : EPOCH 1 - PROGRESS: at 39.12% examples, 320508 words/s, in_qsize 5, out_qsize 0\n"
     ]
    },
    {
     "name": "stderr",
     "output_type": "stream",
     "text": [
      "2018-09-17 14:56:58,227 : INFO : EPOCH 1 - PROGRESS: at 57.14% examples, 325476 words/s, in_qsize 5, out_qsize 0\n",
      "2018-09-17 14:56:59,252 : INFO : EPOCH 1 - PROGRESS: at 73.69% examples, 326676 words/s, in_qsize 5, out_qsize 0\n",
      "2018-09-17 14:57:00,277 : INFO : EPOCH 1 - PROGRESS: at 89.66% examples, 327295 words/s, in_qsize 5, out_qsize 0\n",
      "2018-09-17 14:57:00,843 : INFO : worker thread finished; awaiting finish of 2 more threads\n",
      "2018-09-17 14:57:00,847 : INFO : worker thread finished; awaiting finish of 1 more threads\n",
      "2018-09-17 14:57:00,897 : INFO : worker thread finished; awaiting finish of 0 more threads\n",
      "2018-09-17 14:57:00,898 : INFO : EPOCH - 1 : training on 2464846 raw words (1885198 effective words) took 5.8s, 327782 effective words/s\n",
      "2018-09-17 14:57:00,899 : INFO : training on a 2464846 raw words (1885198 effective words) took 5.8s, 327657 effective words/s\n",
      "2018-09-17 14:57:00,899 : WARNING : Effective 'alpha' higher than previous training cycles\n",
      "2018-09-17 14:57:00,900 : INFO : training model with 3 workers on 142657 vocabulary and 50 features, using sg=1 hs=0 sample=0.001 negative=5 window=5\n",
      "2018-09-17 14:57:01,917 : INFO : EPOCH 1 - PROGRESS: at 18.98% examples, 318946 words/s, in_qsize 5, out_qsize 0\n",
      "2018-09-17 14:57:02,919 : INFO : EPOCH 1 - PROGRESS: at 39.12% examples, 328749 words/s, in_qsize 5, out_qsize 0\n",
      "2018-09-17 14:57:03,920 : INFO : EPOCH 1 - PROGRESS: at 57.14% examples, 332122 words/s, in_qsize 5, out_qsize 0\n",
      "2018-09-17 14:57:04,927 : INFO : EPOCH 1 - PROGRESS: at 73.69% examples, 333124 words/s, in_qsize 5, out_qsize 0\n",
      "2018-09-17 14:57:05,942 : INFO : EPOCH 1 - PROGRESS: at 89.66% examples, 333112 words/s, in_qsize 5, out_qsize 0\n",
      "2018-09-17 14:57:06,534 : INFO : worker thread finished; awaiting finish of 2 more threads\n",
      "2018-09-17 14:57:06,542 : INFO : worker thread finished; awaiting finish of 1 more threads\n",
      "2018-09-17 14:57:06,559 : INFO : worker thread finished; awaiting finish of 0 more threads\n",
      "2018-09-17 14:57:06,560 : INFO : EPOCH - 1 : training on 2464846 raw words (1885020 effective words) took 5.7s, 333159 effective words/s\n",
      "2018-09-17 14:57:06,560 : INFO : training on a 2464846 raw words (1885020 effective words) took 5.7s, 333032 effective words/s\n",
      "2018-09-17 14:57:06,562 : WARNING : Effective 'alpha' higher than previous training cycles\n",
      "2018-09-17 14:57:06,562 : INFO : training model with 3 workers on 142657 vocabulary and 50 features, using sg=1 hs=0 sample=0.001 negative=5 window=5\n",
      "2018-09-17 14:57:07,571 : INFO : EPOCH 1 - PROGRESS: at 18.98% examples, 321644 words/s, in_qsize 5, out_qsize 0\n",
      "2018-09-17 14:57:08,580 : INFO : EPOCH 1 - PROGRESS: at 39.12% examples, 329166 words/s, in_qsize 5, out_qsize 0\n",
      "2018-09-17 14:57:09,583 : INFO : EPOCH 1 - PROGRESS: at 57.14% examples, 332132 words/s, in_qsize 5, out_qsize 0\n",
      "2018-09-17 14:57:10,598 : INFO : EPOCH 1 - PROGRESS: at 73.69% examples, 332501 words/s, in_qsize 5, out_qsize 0\n",
      "2018-09-17 14:57:11,617 : INFO : EPOCH 1 - PROGRESS: at 89.66% examples, 332315 words/s, in_qsize 5, out_qsize 0\n",
      "2018-09-17 14:57:12,195 : INFO : worker thread finished; awaiting finish of 2 more threads\n",
      "2018-09-17 14:57:12,238 : INFO : worker thread finished; awaiting finish of 1 more threads\n",
      "2018-09-17 14:57:12,247 : INFO : worker thread finished; awaiting finish of 0 more threads\n",
      "2018-09-17 14:57:12,248 : INFO : EPOCH - 1 : training on 2464846 raw words (1885008 effective words) took 5.7s, 331655 effective words/s\n",
      "2018-09-17 14:57:12,248 : INFO : training on a 2464846 raw words (1885008 effective words) took 5.7s, 331560 effective words/s\n",
      "2018-09-17 14:57:12,249 : WARNING : Effective 'alpha' higher than previous training cycles\n",
      "2018-09-17 14:57:12,249 : INFO : training model with 3 workers on 142657 vocabulary and 50 features, using sg=1 hs=0 sample=0.001 negative=5 window=5\n",
      "2018-09-17 14:57:13,257 : INFO : EPOCH 1 - PROGRESS: at 18.98% examples, 322120 words/s, in_qsize 5, out_qsize 0\n",
      "2018-09-17 14:57:14,262 : INFO : EPOCH 1 - PROGRESS: at 39.12% examples, 329960 words/s, in_qsize 5, out_qsize 0\n",
      "2018-09-17 14:57:15,264 : INFO : EPOCH 1 - PROGRESS: at 57.14% examples, 332799 words/s, in_qsize 5, out_qsize 0\n",
      "2018-09-17 14:57:16,276 : INFO : EPOCH 1 - PROGRESS: at 73.69% examples, 333216 words/s, in_qsize 5, out_qsize 0\n",
      "2018-09-17 14:57:17,290 : INFO : EPOCH 1 - PROGRESS: at 89.66% examples, 333211 words/s, in_qsize 5, out_qsize 0\n",
      "2018-09-17 14:57:17,876 : INFO : worker thread finished; awaiting finish of 2 more threads\n",
      "2018-09-17 14:57:17,884 : INFO : worker thread finished; awaiting finish of 1 more threads\n",
      "2018-09-17 14:57:17,902 : INFO : worker thread finished; awaiting finish of 0 more threads\n",
      "2018-09-17 14:57:17,903 : INFO : EPOCH - 1 : training on 2464846 raw words (1885122 effective words) took 5.7s, 333538 effective words/s\n",
      "2018-09-17 14:57:17,904 : INFO : training on a 2464846 raw words (1885122 effective words) took 5.7s, 333428 effective words/s\n",
      "2018-09-17 14:57:17,904 : WARNING : Effective 'alpha' higher than previous training cycles\n",
      "2018-09-17 14:57:17,905 : INFO : training model with 3 workers on 142657 vocabulary and 50 features, using sg=1 hs=0 sample=0.001 negative=5 window=5\n",
      "2018-09-17 14:57:18,915 : INFO : EPOCH 1 - PROGRESS: at 18.98% examples, 320950 words/s, in_qsize 6, out_qsize 0\n",
      "2018-09-17 14:57:19,928 : INFO : EPOCH 1 - PROGRESS: at 39.12% examples, 328072 words/s, in_qsize 5, out_qsize 0\n",
      "2018-09-17 14:57:20,935 : INFO : EPOCH 1 - PROGRESS: at 57.14% examples, 330980 words/s, in_qsize 5, out_qsize 0\n",
      "2018-09-17 14:57:21,945 : INFO : EPOCH 1 - PROGRESS: at 73.69% examples, 332088 words/s, in_qsize 6, out_qsize 0\n",
      "2018-09-17 14:57:22,947 : INFO : EPOCH 1 - PROGRESS: at 89.31% examples, 331639 words/s, in_qsize 6, out_qsize 0\n",
      "2018-09-17 14:57:23,553 : INFO : worker thread finished; awaiting finish of 2 more threads\n",
      "2018-09-17 14:57:23,560 : INFO : worker thread finished; awaiting finish of 1 more threads\n",
      "2018-09-17 14:57:23,576 : INFO : worker thread finished; awaiting finish of 0 more threads\n",
      "2018-09-17 14:57:23,577 : INFO : EPOCH - 1 : training on 2464846 raw words (1885135 effective words) took 5.7s, 332433 effective words/s\n",
      "2018-09-17 14:57:23,578 : INFO : training on a 2464846 raw words (1885135 effective words) took 5.7s, 332336 effective words/s\n",
      "2018-09-17 14:57:23,579 : WARNING : Effective 'alpha' higher than previous training cycles\n",
      "2018-09-17 14:57:23,580 : INFO : training model with 3 workers on 142657 vocabulary and 50 features, using sg=1 hs=0 sample=0.001 negative=5 window=5\n",
      "2018-09-17 14:57:24,598 : INFO : EPOCH 1 - PROGRESS: at 18.98% examples, 318797 words/s, in_qsize 6, out_qsize 0\n",
      "2018-09-17 14:57:25,608 : INFO : EPOCH 1 - PROGRESS: at 39.12% examples, 327526 words/s, in_qsize 5, out_qsize 0\n",
      "2018-09-17 14:57:26,614 : INFO : EPOCH 1 - PROGRESS: at 57.14% examples, 330730 words/s, in_qsize 6, out_qsize 0\n",
      "2018-09-17 14:57:27,624 : INFO : EPOCH 1 - PROGRESS: at 73.69% examples, 331783 words/s, in_qsize 6, out_qsize 0\n",
      "2018-09-17 14:57:28,643 : INFO : EPOCH 1 - PROGRESS: at 89.66% examples, 331750 words/s, in_qsize 5, out_qsize 0\n",
      "2018-09-17 14:57:29,230 : INFO : worker thread finished; awaiting finish of 2 more threads\n",
      "2018-09-17 14:57:29,240 : INFO : worker thread finished; awaiting finish of 1 more threads\n",
      "2018-09-17 14:57:29,266 : INFO : worker thread finished; awaiting finish of 0 more threads\n",
      "2018-09-17 14:57:29,267 : INFO : EPOCH - 1 : training on 2464846 raw words (1885095 effective words) took 5.7s, 331603 effective words/s\n",
      "2018-09-17 14:57:29,267 : INFO : training on a 2464846 raw words (1885095 effective words) took 5.7s, 331489 effective words/s\n",
      "2018-09-17 14:57:29,268 : WARNING : Effective 'alpha' higher than previous training cycles\n",
      "2018-09-17 14:57:29,268 : INFO : training model with 3 workers on 142657 vocabulary and 50 features, using sg=1 hs=0 sample=0.001 negative=5 window=5\n",
      "2018-09-17 14:57:30,274 : INFO : EPOCH 1 - PROGRESS: at 18.98% examples, 322696 words/s, in_qsize 5, out_qsize 0\n",
      "2018-09-17 14:57:31,280 : INFO : EPOCH 1 - PROGRESS: at 39.12% examples, 330173 words/s, in_qsize 5, out_qsize 0\n",
      "2018-09-17 14:57:32,284 : INFO : EPOCH 1 - PROGRESS: at 57.14% examples, 332686 words/s, in_qsize 5, out_qsize 0\n",
      "2018-09-17 14:57:33,291 : INFO : EPOCH 1 - PROGRESS: at 73.69% examples, 333522 words/s, in_qsize 5, out_qsize 0\n"
     ]
    },
    {
     "name": "stderr",
     "output_type": "stream",
     "text": [
      "2018-09-17 14:57:34,311 : INFO : EPOCH 1 - PROGRESS: at 89.66% examples, 333106 words/s, in_qsize 5, out_qsize 0\n",
      "2018-09-17 14:57:34,895 : INFO : worker thread finished; awaiting finish of 2 more threads\n",
      "2018-09-17 14:57:34,899 : INFO : worker thread finished; awaiting finish of 1 more threads\n",
      "2018-09-17 14:57:34,935 : INFO : worker thread finished; awaiting finish of 0 more threads\n",
      "2018-09-17 14:57:34,936 : INFO : EPOCH - 1 : training on 2464846 raw words (1884994 effective words) took 5.7s, 332705 effective words/s\n",
      "2018-09-17 14:57:34,937 : INFO : training on a 2464846 raw words (1884994 effective words) took 5.7s, 332585 effective words/s\n",
      "2018-09-17 14:57:34,937 : WARNING : Effective 'alpha' higher than previous training cycles\n",
      "2018-09-17 14:57:34,938 : INFO : training model with 3 workers on 142657 vocabulary and 50 features, using sg=1 hs=0 sample=0.001 negative=5 window=5\n",
      "2018-09-17 14:57:35,944 : INFO : EPOCH 1 - PROGRESS: at 18.98% examples, 322934 words/s, in_qsize 5, out_qsize 0\n",
      "2018-09-17 14:57:36,951 : INFO : EPOCH 1 - PROGRESS: at 39.12% examples, 330024 words/s, in_qsize 5, out_qsize 0\n",
      "2018-09-17 14:57:37,959 : INFO : EPOCH 1 - PROGRESS: at 57.14% examples, 332191 words/s, in_qsize 5, out_qsize 0\n",
      "2018-09-17 14:57:38,963 : INFO : EPOCH 1 - PROGRESS: at 72.63% examples, 327808 words/s, in_qsize 5, out_qsize 0\n",
      "2018-09-17 14:57:39,973 : INFO : EPOCH 1 - PROGRESS: at 86.92% examples, 321641 words/s, in_qsize 5, out_qsize 0\n",
      "2018-09-17 14:57:40,882 : INFO : worker thread finished; awaiting finish of 2 more threads\n",
      "2018-09-17 14:57:40,916 : INFO : worker thread finished; awaiting finish of 1 more threads\n",
      "2018-09-17 14:57:40,926 : INFO : worker thread finished; awaiting finish of 0 more threads\n",
      "2018-09-17 14:57:40,927 : INFO : EPOCH - 1 : training on 2464846 raw words (1885225 effective words) took 6.0s, 314934 effective words/s\n",
      "2018-09-17 14:57:40,927 : INFO : training on a 2464846 raw words (1885225 effective words) took 6.0s, 314824 effective words/s\n",
      "2018-09-17 14:57:40,928 : INFO : saving Word2Vec object under all_word2vec_model, separately None\n",
      "2018-09-17 14:57:40,929 : INFO : not storing attribute vectors_norm\n",
      "2018-09-17 14:57:40,930 : INFO : not storing attribute cum_table\n",
      "2018-09-17 14:57:41,772 : INFO : saved all_word2vec_model\n",
      "2018-09-17 14:57:41,774 : INFO : precomputing L2-norms of word weight vectors\n"
     ]
    },
    {
     "name": "stdout",
     "output_type": "stream",
     "text": [
      "CPU times: user 4min 7s, sys: 1.21 s, total: 4min 8s\n",
      "Wall time: 1min 26s\n"
     ]
    }
   ],
   "source": [
    "%%time\n",
    "USE_PREMADE_WORD2VEC = False\n",
    "\n",
    "all2vec_filepath = 'all_word2vec_model'\n",
    "\n",
    "if not USE_PREMADE_WORD2VEC:\n",
    "    \n",
    "    lyrics_for_word2vec = LineSentence(all_bigram_sentences_filepath)\n",
    "\n",
    "    all2vec = Word2Vec(lyrics_for_word2vec, size=50, window=5, min_count=1, sg=1)\n",
    "    # sg=0 cbow 1=Skip-Gram Model\n",
    "    # 100차원으로 가져옴 / 보통 20~100 정도\n",
    "    # window = 5 앞 5개, 뒤 5개 단어를 보겠다는 뜻\n",
    "    # window size 작을수록 문법적인 의미가 너무 중요해짐, 클수록 주제 지향적으로 문맥적인 정보를 많이 담게 됨    \n",
    "    for _ in range(9):\n",
    "        all2vec.train(lyrics_for_word2vec,total_examples=9861, epochs=1)\n",
    "        \n",
    "        \n",
    "    all2vec.save(all2vec_filepath)\n",
    "else:\n",
    "    all2vec = Word2Vec.load(all2vec_filepath)\n",
    "all2vec.init_sims()"
   ]
  },
  {
   "cell_type": "code",
   "execution_count": 34,
   "metadata": {
    "colab": {},
    "colab_type": "code",
    "id": "iEo1IQSmcnDm",
    "outputId": "803e5629-64bd-4cd6-ccc1-b4e8694aac97"
   },
   "outputs": [
    {
     "name": "stderr",
     "output_type": "stream",
     "text": [
      "2018-09-17 14:57:44,288 : INFO : loading Word2Vec object from all_word2vec_model\n",
      "2018-09-17 14:57:45,010 : INFO : loading wv recursively from all_word2vec_model.wv.* with mmap=None\n",
      "2018-09-17 14:57:45,011 : INFO : setting ignored attribute vectors_norm to None\n",
      "2018-09-17 14:57:45,011 : INFO : loading vocabulary recursively from all_word2vec_model.vocabulary.* with mmap=None\n",
      "2018-09-17 14:57:45,012 : INFO : loading trainables recursively from all_word2vec_model.trainables.* with mmap=None\n",
      "2018-09-17 14:57:45,012 : INFO : setting ignored attribute cum_table to None\n",
      "2018-09-17 14:57:45,013 : INFO : loaded all_word2vec_model\n"
     ]
    }
   ],
   "source": [
    "all2vec_filepath = 'all_word2vec_model'\n",
    "all2vec = Word2Vec.load(all2vec_filepath)"
   ]
  },
  {
   "cell_type": "code",
   "execution_count": 35,
   "metadata": {
    "colab": {},
    "colab_type": "code",
    "id": "M4PVKzbtcnDs",
    "outputId": "c7a8c8d9-999d-477e-b11e-10708e2d8989"
   },
   "outputs": [
    {
     "data": {
      "text/plain": [
       "142657"
      ]
     },
     "execution_count": 35,
     "metadata": {},
     "output_type": "execute_result"
    }
   ],
   "source": [
    "# 총 14만 2657개의 단어를 얻었다 \n",
    "\n",
    "a = pd.DataFrame(all2vec.wv.index2word)\n",
    "len(a)"
   ]
  },
  {
   "cell_type": "code",
   "execution_count": 36,
   "metadata": {
    "colab": {},
    "colab_type": "code",
    "id": "bpX2C6I_cnDu",
    "outputId": "3fd7a8dd-1ba7-44c5-eef6-9f4d1af41082"
   },
   "outputs": [
    {
     "data": {
      "text/plain": [
       "142657"
      ]
     },
     "execution_count": 36,
     "metadata": {},
     "output_type": "execute_result"
    }
   ],
   "source": [
    "len(a)"
   ]
  },
  {
   "cell_type": "markdown",
   "metadata": {
    "colab_type": "text",
    "id": "aTAgerNwcnD0"
   },
   "source": [
    "## 100회 이상 등장한 단어들만 가지고 t-SNE 시각화\n",
    "\n",
    "t-SNE란 차원축소 기법의 하나로 시각화를 위해 주로 사용된다\n",
    "\n",
    "t-SNE는 고차원에서 가까운 포인트를 저차원에서도 계속 가깝게 두고, 먼 포인트는 계속 멀게 유지시킨다\n",
    "\n",
    "데이터간의 유사도를 통해 데이터의 패턴을 찾을 수 있다\n",
    "\n",
    "단어 중 100회 초과 등장한 단어들을 대상으로, word2vec로 얻어진 각 단어의 numpy 행렬값을 매핑시킨 후 2차원 그래프로 시각화하였다.\n"
   ]
  },
  {
   "cell_type": "code",
   "execution_count": 37,
   "metadata": {
    "colab": {},
    "colab_type": "code",
    "id": "H6dbSZdacnD1",
    "outputId": "66de595c-252b-48d0-9f6f-9cb86c76ad8d"
   },
   "outputs": [
    {
     "name": "stdout",
     "output_type": "stream",
     "text": [
      "CPU times: user 1.58 s, sys: 6.45 ms, total: 1.59 s\n",
      "Wall time: 1.59 s\n"
     ]
    }
   ],
   "source": [
    "%%time\n",
    "words = []\n",
    "for i in (range(len(a))):\n",
    "    cnt = all2vec.wv.vocab[a[0][i]] # 횟수 카운트\n",
    "    if cnt.count > 100:\n",
    "        words.append(a[0][i]) # 횟수 100회 초과하는 단어만 리스트화\n",
    "    i += 1"
   ]
  },
  {
   "cell_type": "code",
   "execution_count": 38,
   "metadata": {
    "colab": {},
    "colab_type": "code",
    "id": "CCIQn8kqcnD4",
    "outputId": "14c5014a-dddd-475a-e891-39fe5499bc58"
   },
   "outputs": [
    {
     "data": {
      "text/plain": [
       "2232"
      ]
     },
     "execution_count": 38,
     "metadata": {},
     "output_type": "execute_result"
    }
   ],
   "source": [
    "len (words)  # 100회 이상 등장한 단어는 2232개 "
   ]
  },
  {
   "cell_type": "code",
   "execution_count": 39,
   "metadata": {
    "colab": {},
    "colab_type": "code",
    "id": "ycq8egYYcnD7"
   },
   "outputs": [],
   "source": [
    "# 100회 이상 등장한 단어들에 대해 vector값 가져오기\n",
    "\n",
    "X = []\n",
    "for i in words:\n",
    "    X.append(all2vec.wv[i])"
   ]
  },
  {
   "cell_type": "code",
   "execution_count": 40,
   "metadata": {
    "colab": {},
    "colab_type": "code",
    "id": "TZ-sb39EcnD8"
   },
   "outputs": [],
   "source": [
    "X2 = pd.DataFrame(X, index = words)"
   ]
  },
  {
   "cell_type": "code",
   "execution_count": 58,
   "metadata": {
    "colab": {},
    "colab_type": "code",
    "id": "c4djIuLvcnD_",
    "outputId": "3bbf492e-269d-41be-9b71-856f0649763c"
   },
   "outputs": [
    {
     "data": {
      "text/html": [
       "<div>\n",
       "<style scoped>\n",
       "    .dataframe tbody tr th:only-of-type {\n",
       "        vertical-align: middle;\n",
       "    }\n",
       "\n",
       "    .dataframe tbody tr th {\n",
       "        vertical-align: top;\n",
       "    }\n",
       "\n",
       "    .dataframe thead th {\n",
       "        text-align: right;\n",
       "    }\n",
       "</style>\n",
       "<table border=\"1\" class=\"dataframe\">\n",
       "  <thead>\n",
       "    <tr style=\"text-align: right;\">\n",
       "      <th></th>\n",
       "      <th>0</th>\n",
       "      <th>1</th>\n",
       "      <th>2</th>\n",
       "      <th>3</th>\n",
       "      <th>4</th>\n",
       "      <th>5</th>\n",
       "      <th>6</th>\n",
       "      <th>7</th>\n",
       "      <th>8</th>\n",
       "      <th>9</th>\n",
       "      <th>...</th>\n",
       "      <th>40</th>\n",
       "      <th>41</th>\n",
       "      <th>42</th>\n",
       "      <th>43</th>\n",
       "      <th>44</th>\n",
       "      <th>45</th>\n",
       "      <th>46</th>\n",
       "      <th>47</th>\n",
       "      <th>48</th>\n",
       "      <th>49</th>\n",
       "    </tr>\n",
       "  </thead>\n",
       "  <tbody>\n",
       "    <tr>\n",
       "      <th>br</th>\n",
       "      <td>-0.023778</td>\n",
       "      <td>0.213856</td>\n",
       "      <td>-0.182159</td>\n",
       "      <td>-0.081728</td>\n",
       "      <td>0.185672</td>\n",
       "      <td>0.165335</td>\n",
       "      <td>0.298478</td>\n",
       "      <td>-0.143742</td>\n",
       "      <td>0.466566</td>\n",
       "      <td>0.023884</td>\n",
       "      <td>...</td>\n",
       "      <td>0.171788</td>\n",
       "      <td>0.618985</td>\n",
       "      <td>-0.176627</td>\n",
       "      <td>0.203825</td>\n",
       "      <td>-0.215538</td>\n",
       "      <td>0.026004</td>\n",
       "      <td>0.016014</td>\n",
       "      <td>0.035542</td>\n",
       "      <td>-0.158892</td>\n",
       "      <td>0.184097</td>\n",
       "    </tr>\n",
       "    <tr>\n",
       "      <th>난</th>\n",
       "      <td>-0.121098</td>\n",
       "      <td>0.269243</td>\n",
       "      <td>-0.542368</td>\n",
       "      <td>-0.281212</td>\n",
       "      <td>0.282475</td>\n",
       "      <td>0.135464</td>\n",
       "      <td>0.411120</td>\n",
       "      <td>-0.494864</td>\n",
       "      <td>0.542521</td>\n",
       "      <td>-0.260719</td>\n",
       "      <td>...</td>\n",
       "      <td>0.127125</td>\n",
       "      <td>0.681417</td>\n",
       "      <td>-0.281216</td>\n",
       "      <td>-0.312138</td>\n",
       "      <td>-0.140526</td>\n",
       "      <td>-0.569822</td>\n",
       "      <td>-0.276762</td>\n",
       "      <td>0.286425</td>\n",
       "      <td>-0.183662</td>\n",
       "      <td>0.228344</td>\n",
       "    </tr>\n",
       "    <tr>\n",
       "      <th>내</th>\n",
       "      <td>-0.086487</td>\n",
       "      <td>0.077758</td>\n",
       "      <td>-0.363098</td>\n",
       "      <td>0.167812</td>\n",
       "      <td>0.417696</td>\n",
       "      <td>-0.031061</td>\n",
       "      <td>0.555183</td>\n",
       "      <td>-0.372585</td>\n",
       "      <td>0.305636</td>\n",
       "      <td>0.057293</td>\n",
       "      <td>...</td>\n",
       "      <td>-0.240544</td>\n",
       "      <td>0.697819</td>\n",
       "      <td>-0.821037</td>\n",
       "      <td>-0.269625</td>\n",
       "      <td>0.013455</td>\n",
       "      <td>-0.248477</td>\n",
       "      <td>0.418442</td>\n",
       "      <td>0.168628</td>\n",
       "      <td>-0.044590</td>\n",
       "      <td>0.020024</td>\n",
       "    </tr>\n",
       "    <tr>\n",
       "      <th>you</th>\n",
       "      <td>0.567178</td>\n",
       "      <td>0.349392</td>\n",
       "      <td>-0.668625</td>\n",
       "      <td>-0.532527</td>\n",
       "      <td>-0.367302</td>\n",
       "      <td>1.026607</td>\n",
       "      <td>0.602054</td>\n",
       "      <td>-0.326327</td>\n",
       "      <td>1.013028</td>\n",
       "      <td>-0.048605</td>\n",
       "      <td>...</td>\n",
       "      <td>-0.195361</td>\n",
       "      <td>1.107766</td>\n",
       "      <td>-0.270485</td>\n",
       "      <td>-0.278807</td>\n",
       "      <td>-0.068598</td>\n",
       "      <td>-0.629179</td>\n",
       "      <td>-0.041194</td>\n",
       "      <td>0.335897</td>\n",
       "      <td>-0.539835</td>\n",
       "      <td>0.015942</td>\n",
       "    </tr>\n",
       "    <tr>\n",
       "      <th>날</th>\n",
       "      <td>0.684609</td>\n",
       "      <td>0.233643</td>\n",
       "      <td>-0.675154</td>\n",
       "      <td>0.274687</td>\n",
       "      <td>0.448693</td>\n",
       "      <td>0.200026</td>\n",
       "      <td>0.560858</td>\n",
       "      <td>-0.533608</td>\n",
       "      <td>0.262289</td>\n",
       "      <td>0.007931</td>\n",
       "      <td>...</td>\n",
       "      <td>0.277761</td>\n",
       "      <td>0.776114</td>\n",
       "      <td>0.272793</td>\n",
       "      <td>0.017217</td>\n",
       "      <td>0.099921</td>\n",
       "      <td>0.637786</td>\n",
       "      <td>0.083665</td>\n",
       "      <td>-0.364012</td>\n",
       "      <td>-0.061177</td>\n",
       "      <td>0.034584</td>\n",
       "    </tr>\n",
       "    <tr>\n",
       "      <th>널</th>\n",
       "      <td>0.581870</td>\n",
       "      <td>-0.069966</td>\n",
       "      <td>-0.967504</td>\n",
       "      <td>0.575275</td>\n",
       "      <td>0.766563</td>\n",
       "      <td>0.075801</td>\n",
       "      <td>0.535210</td>\n",
       "      <td>-0.165211</td>\n",
       "      <td>0.776117</td>\n",
       "      <td>0.109946</td>\n",
       "      <td>...</td>\n",
       "      <td>0.228455</td>\n",
       "      <td>1.015002</td>\n",
       "      <td>0.406034</td>\n",
       "      <td>0.048769</td>\n",
       "      <td>-0.195290</td>\n",
       "      <td>-0.020796</td>\n",
       "      <td>-0.359621</td>\n",
       "      <td>0.449513</td>\n",
       "      <td>-0.097467</td>\n",
       "      <td>0.505283</td>\n",
       "    </tr>\n",
       "    <tr>\n",
       "      <th>내가</th>\n",
       "      <td>0.113316</td>\n",
       "      <td>0.045467</td>\n",
       "      <td>-0.490698</td>\n",
       "      <td>-0.499304</td>\n",
       "      <td>0.631978</td>\n",
       "      <td>-0.367080</td>\n",
       "      <td>-0.037340</td>\n",
       "      <td>0.112991</td>\n",
       "      <td>0.888338</td>\n",
       "      <td>-0.080551</td>\n",
       "      <td>...</td>\n",
       "      <td>0.129542</td>\n",
       "      <td>0.376456</td>\n",
       "      <td>0.071924</td>\n",
       "      <td>-0.629705</td>\n",
       "      <td>-0.511179</td>\n",
       "      <td>0.189828</td>\n",
       "      <td>0.179901</td>\n",
       "      <td>0.153443</td>\n",
       "      <td>-0.590409</td>\n",
       "      <td>0.001950</td>\n",
       "    </tr>\n",
       "    <tr>\n",
       "      <th>나</th>\n",
       "      <td>-0.080870</td>\n",
       "      <td>0.741188</td>\n",
       "      <td>-0.861362</td>\n",
       "      <td>-0.085301</td>\n",
       "      <td>0.733338</td>\n",
       "      <td>-0.125315</td>\n",
       "      <td>0.327789</td>\n",
       "      <td>-0.010028</td>\n",
       "      <td>0.542308</td>\n",
       "      <td>-0.027048</td>\n",
       "      <td>...</td>\n",
       "      <td>-0.109925</td>\n",
       "      <td>0.681255</td>\n",
       "      <td>0.413585</td>\n",
       "      <td>-0.881007</td>\n",
       "      <td>0.103152</td>\n",
       "      <td>-0.531105</td>\n",
       "      <td>-0.282482</td>\n",
       "      <td>0.005598</td>\n",
       "      <td>-0.601360</td>\n",
       "      <td>0.244590</td>\n",
       "    </tr>\n",
       "    <tr>\n",
       "      <th>넌</th>\n",
       "      <td>0.230829</td>\n",
       "      <td>-0.044347</td>\n",
       "      <td>0.037989</td>\n",
       "      <td>-0.153000</td>\n",
       "      <td>-0.166131</td>\n",
       "      <td>0.078545</td>\n",
       "      <td>0.456517</td>\n",
       "      <td>-0.332201</td>\n",
       "      <td>0.500992</td>\n",
       "      <td>0.461233</td>\n",
       "      <td>...</td>\n",
       "      <td>0.450883</td>\n",
       "      <td>0.920707</td>\n",
       "      <td>-0.578216</td>\n",
       "      <td>-0.294359</td>\n",
       "      <td>-0.081267</td>\n",
       "      <td>-0.320550</td>\n",
       "      <td>0.165420</td>\n",
       "      <td>0.490026</td>\n",
       "      <td>-0.243374</td>\n",
       "      <td>0.868386</td>\n",
       "    </tr>\n",
       "    <tr>\n",
       "      <th>그</th>\n",
       "      <td>0.682885</td>\n",
       "      <td>-0.056259</td>\n",
       "      <td>0.327360</td>\n",
       "      <td>0.068493</td>\n",
       "      <td>0.233073</td>\n",
       "      <td>0.009742</td>\n",
       "      <td>0.566693</td>\n",
       "      <td>-0.029091</td>\n",
       "      <td>0.900875</td>\n",
       "      <td>-0.112311</td>\n",
       "      <td>...</td>\n",
       "      <td>0.388665</td>\n",
       "      <td>0.465432</td>\n",
       "      <td>0.394259</td>\n",
       "      <td>-0.182538</td>\n",
       "      <td>0.029794</td>\n",
       "      <td>-0.260153</td>\n",
       "      <td>0.199687</td>\n",
       "      <td>-0.006659</td>\n",
       "      <td>0.573718</td>\n",
       "      <td>-0.114998</td>\n",
       "    </tr>\n",
       "  </tbody>\n",
       "</table>\n",
       "<p>10 rows × 50 columns</p>\n",
       "</div>"
      ],
      "text/plain": [
       "           0         1         2         3         4         5         6   \\\n",
       "br  -0.023778  0.213856 -0.182159 -0.081728  0.185672  0.165335  0.298478   \n",
       "난   -0.121098  0.269243 -0.542368 -0.281212  0.282475  0.135464  0.411120   \n",
       "내   -0.086487  0.077758 -0.363098  0.167812  0.417696 -0.031061  0.555183   \n",
       "you  0.567178  0.349392 -0.668625 -0.532527 -0.367302  1.026607  0.602054   \n",
       "날    0.684609  0.233643 -0.675154  0.274687  0.448693  0.200026  0.560858   \n",
       "널    0.581870 -0.069966 -0.967504  0.575275  0.766563  0.075801  0.535210   \n",
       "내가   0.113316  0.045467 -0.490698 -0.499304  0.631978 -0.367080 -0.037340   \n",
       "나   -0.080870  0.741188 -0.861362 -0.085301  0.733338 -0.125315  0.327789   \n",
       "넌    0.230829 -0.044347  0.037989 -0.153000 -0.166131  0.078545  0.456517   \n",
       "그    0.682885 -0.056259  0.327360  0.068493  0.233073  0.009742  0.566693   \n",
       "\n",
       "           7         8         9     ...           40        41        42  \\\n",
       "br  -0.143742  0.466566  0.023884    ...     0.171788  0.618985 -0.176627   \n",
       "난   -0.494864  0.542521 -0.260719    ...     0.127125  0.681417 -0.281216   \n",
       "내   -0.372585  0.305636  0.057293    ...    -0.240544  0.697819 -0.821037   \n",
       "you -0.326327  1.013028 -0.048605    ...    -0.195361  1.107766 -0.270485   \n",
       "날   -0.533608  0.262289  0.007931    ...     0.277761  0.776114  0.272793   \n",
       "널   -0.165211  0.776117  0.109946    ...     0.228455  1.015002  0.406034   \n",
       "내가   0.112991  0.888338 -0.080551    ...     0.129542  0.376456  0.071924   \n",
       "나   -0.010028  0.542308 -0.027048    ...    -0.109925  0.681255  0.413585   \n",
       "넌   -0.332201  0.500992  0.461233    ...     0.450883  0.920707 -0.578216   \n",
       "그   -0.029091  0.900875 -0.112311    ...     0.388665  0.465432  0.394259   \n",
       "\n",
       "           43        44        45        46        47        48        49  \n",
       "br   0.203825 -0.215538  0.026004  0.016014  0.035542 -0.158892  0.184097  \n",
       "난   -0.312138 -0.140526 -0.569822 -0.276762  0.286425 -0.183662  0.228344  \n",
       "내   -0.269625  0.013455 -0.248477  0.418442  0.168628 -0.044590  0.020024  \n",
       "you -0.278807 -0.068598 -0.629179 -0.041194  0.335897 -0.539835  0.015942  \n",
       "날    0.017217  0.099921  0.637786  0.083665 -0.364012 -0.061177  0.034584  \n",
       "널    0.048769 -0.195290 -0.020796 -0.359621  0.449513 -0.097467  0.505283  \n",
       "내가  -0.629705 -0.511179  0.189828  0.179901  0.153443 -0.590409  0.001950  \n",
       "나   -0.881007  0.103152 -0.531105 -0.282482  0.005598 -0.601360  0.244590  \n",
       "넌   -0.294359 -0.081267 -0.320550  0.165420  0.490026 -0.243374  0.868386  \n",
       "그   -0.182538  0.029794 -0.260153  0.199687 -0.006659  0.573718 -0.114998  \n",
       "\n",
       "[10 rows x 50 columns]"
      ]
     },
     "execution_count": 58,
     "metadata": {},
     "output_type": "execute_result"
    }
   ],
   "source": [
    "# 단어와 각 vector 값으로 데이터 프레임 생성\n",
    "X2.head(10)"
   ]
  },
  {
   "cell_type": "code",
   "execution_count": 42,
   "metadata": {
    "colab": {},
    "colab_type": "code",
    "id": "oXHo8lZ9cnEC"
   },
   "outputs": [],
   "source": [
    "import pickle\n",
    "\n",
    "from sklearn.feature_extraction.text import CountVectorizer\n",
    "from sklearn.manifold import TSNE\n",
    "\n",
    "# t-SNE 모델 모델링 \n",
    "\n",
    "USE_PREMADE_TSNE = False\n",
    "\n",
    "tsne_filepath = 'tsne.pkl'\n",
    "\n",
    "if not USE_PREMADE_TSNE:\n",
    "    \n",
    "    tsne = TSNE(random_state=0)\n",
    "    tsne_points = tsne.fit_transform(X2)\n",
    "    with open(tsne_filepath, 'wb') as f:\n",
    "        pickle.dump(tsne_points, f)\n",
    "else:\n",
    "    with open(tsne_filepath, 'rb') as f:\n",
    "        tsne_points = pickle.load(f)\n",
    "\n",
    "tsne_df = pd.DataFrame(tsne_points, index=X2.index, columns=['x_coord', 'y_coord'])\n",
    "tsne_df['word'] = tsne_df.index"
   ]
  },
  {
   "cell_type": "code",
   "execution_count": 43,
   "metadata": {
    "colab": {},
    "colab_type": "code",
    "id": "p5DgMThhcnEE",
    "outputId": "ae39d241-2129-4292-83fc-1b2fbe888b96"
   },
   "outputs": [
    {
     "data": {
      "text/html": [
       "\n",
       "    <div class=\"bk-root\">\n",
       "        <a href=\"https://bokeh.pydata.org\" target=\"_blank\" class=\"bk-logo bk-logo-small bk-logo-notebook\"></a>\n",
       "        <span id=\"5c172f84-7196-460f-97bc-f5ecc500f688\">Loading BokehJS ...</span>\n",
       "    </div>"
      ]
     },
     "metadata": {},
     "output_type": "display_data"
    },
    {
     "data": {
      "application/javascript": [
       "\n",
       "(function(root) {\n",
       "  function now() {\n",
       "    return new Date();\n",
       "  }\n",
       "\n",
       "  var force = true;\n",
       "\n",
       "  if (typeof (root._bokeh_onload_callbacks) === \"undefined\" || force === true) {\n",
       "    root._bokeh_onload_callbacks = [];\n",
       "    root._bokeh_is_loading = undefined;\n",
       "  }\n",
       "\n",
       "  var JS_MIME_TYPE = 'application/javascript';\n",
       "  var HTML_MIME_TYPE = 'text/html';\n",
       "  var EXEC_MIME_TYPE = 'application/vnd.bokehjs_exec.v0+json';\n",
       "  var CLASS_NAME = 'output_bokeh rendered_html';\n",
       "\n",
       "  /**\n",
       "   * Render data to the DOM node\n",
       "   */\n",
       "  function render(props, node) {\n",
       "    var script = document.createElement(\"script\");\n",
       "    node.appendChild(script);\n",
       "  }\n",
       "\n",
       "  /**\n",
       "   * Handle when an output is cleared or removed\n",
       "   */\n",
       "  function handleClearOutput(event, handle) {\n",
       "    var cell = handle.cell;\n",
       "\n",
       "    var id = cell.output_area._bokeh_element_id;\n",
       "    var server_id = cell.output_area._bokeh_server_id;\n",
       "    // Clean up Bokeh references\n",
       "    if (id !== undefined) {\n",
       "      Bokeh.index[id].model.document.clear();\n",
       "      delete Bokeh.index[id];\n",
       "    }\n",
       "\n",
       "    if (server_id !== undefined) {\n",
       "      // Clean up Bokeh references\n",
       "      var cmd = \"from bokeh.io.state import curstate; print(curstate().uuid_to_server['\" + server_id + \"'].get_sessions()[0].document.roots[0]._id)\";\n",
       "      cell.notebook.kernel.execute(cmd, {\n",
       "        iopub: {\n",
       "          output: function(msg) {\n",
       "            var element_id = msg.content.text.trim();\n",
       "            Bokeh.index[element_id].model.document.clear();\n",
       "            delete Bokeh.index[element_id];\n",
       "          }\n",
       "        }\n",
       "      });\n",
       "      // Destroy server and session\n",
       "      var cmd = \"import bokeh.io.notebook as ion; ion.destroy_server('\" + server_id + \"')\";\n",
       "      cell.notebook.kernel.execute(cmd);\n",
       "    }\n",
       "  }\n",
       "\n",
       "  /**\n",
       "   * Handle when a new output is added\n",
       "   */\n",
       "  function handleAddOutput(event, handle) {\n",
       "    var output_area = handle.output_area;\n",
       "    var output = handle.output;\n",
       "\n",
       "    // limit handleAddOutput to display_data with EXEC_MIME_TYPE content only\n",
       "    if ((output.output_type != \"display_data\") || (!output.data.hasOwnProperty(EXEC_MIME_TYPE))) {\n",
       "      return\n",
       "    }\n",
       "\n",
       "    var toinsert = output_area.element.find(\".\" + CLASS_NAME.split(' ')[0]);\n",
       "\n",
       "    if (output.metadata[EXEC_MIME_TYPE][\"id\"] !== undefined) {\n",
       "      toinsert[0].firstChild.textContent = output.data[JS_MIME_TYPE];\n",
       "      // store reference to embed id on output_area\n",
       "      output_area._bokeh_element_id = output.metadata[EXEC_MIME_TYPE][\"id\"];\n",
       "    }\n",
       "    if (output.metadata[EXEC_MIME_TYPE][\"server_id\"] !== undefined) {\n",
       "      var bk_div = document.createElement(\"div\");\n",
       "      bk_div.innerHTML = output.data[HTML_MIME_TYPE];\n",
       "      var script_attrs = bk_div.children[0].attributes;\n",
       "      for (var i = 0; i < script_attrs.length; i++) {\n",
       "        toinsert[0].firstChild.setAttribute(script_attrs[i].name, script_attrs[i].value);\n",
       "      }\n",
       "      // store reference to server id on output_area\n",
       "      output_area._bokeh_server_id = output.metadata[EXEC_MIME_TYPE][\"server_id\"];\n",
       "    }\n",
       "  }\n",
       "\n",
       "  function register_renderer(events, OutputArea) {\n",
       "\n",
       "    function append_mime(data, metadata, element) {\n",
       "      // create a DOM node to render to\n",
       "      var toinsert = this.create_output_subarea(\n",
       "        metadata,\n",
       "        CLASS_NAME,\n",
       "        EXEC_MIME_TYPE\n",
       "      );\n",
       "      this.keyboard_manager.register_events(toinsert);\n",
       "      // Render to node\n",
       "      var props = {data: data, metadata: metadata[EXEC_MIME_TYPE]};\n",
       "      render(props, toinsert[0]);\n",
       "      element.append(toinsert);\n",
       "      return toinsert\n",
       "    }\n",
       "\n",
       "    /* Handle when an output is cleared or removed */\n",
       "    events.on('clear_output.CodeCell', handleClearOutput);\n",
       "    events.on('delete.Cell', handleClearOutput);\n",
       "\n",
       "    /* Handle when a new output is added */\n",
       "    events.on('output_added.OutputArea', handleAddOutput);\n",
       "\n",
       "    /**\n",
       "     * Register the mime type and append_mime function with output_area\n",
       "     */\n",
       "    OutputArea.prototype.register_mime_type(EXEC_MIME_TYPE, append_mime, {\n",
       "      /* Is output safe? */\n",
       "      safe: true,\n",
       "      /* Index of renderer in `output_area.display_order` */\n",
       "      index: 0\n",
       "    });\n",
       "  }\n",
       "\n",
       "  // register the mime type if in Jupyter Notebook environment and previously unregistered\n",
       "  if (root.Jupyter !== undefined) {\n",
       "    var events = require('base/js/events');\n",
       "    var OutputArea = require('notebook/js/outputarea').OutputArea;\n",
       "\n",
       "    if (OutputArea.prototype.mime_types().indexOf(EXEC_MIME_TYPE) == -1) {\n",
       "      register_renderer(events, OutputArea);\n",
       "    }\n",
       "  }\n",
       "\n",
       "  \n",
       "  if (typeof (root._bokeh_timeout) === \"undefined\" || force === true) {\n",
       "    root._bokeh_timeout = Date.now() + 5000;\n",
       "    root._bokeh_failed_load = false;\n",
       "  }\n",
       "\n",
       "  var NB_LOAD_WARNING = {'data': {'text/html':\n",
       "     \"<div style='background-color: #fdd'>\\n\"+\n",
       "     \"<p>\\n\"+\n",
       "     \"BokehJS does not appear to have successfully loaded. If loading BokehJS from CDN, this \\n\"+\n",
       "     \"may be due to a slow or bad network connection. Possible fixes:\\n\"+\n",
       "     \"</p>\\n\"+\n",
       "     \"<ul>\\n\"+\n",
       "     \"<li>re-rerun `output_notebook()` to attempt to load from CDN again, or</li>\\n\"+\n",
       "     \"<li>use INLINE resources instead, as so:</li>\\n\"+\n",
       "     \"</ul>\\n\"+\n",
       "     \"<code>\\n\"+\n",
       "     \"from bokeh.resources import INLINE\\n\"+\n",
       "     \"output_notebook(resources=INLINE)\\n\"+\n",
       "     \"</code>\\n\"+\n",
       "     \"</div>\"}};\n",
       "\n",
       "  function display_loaded() {\n",
       "    var el = document.getElementById(\"5c172f84-7196-460f-97bc-f5ecc500f688\");\n",
       "    if (el != null) {\n",
       "      el.textContent = \"BokehJS is loading...\";\n",
       "    }\n",
       "    if (root.Bokeh !== undefined) {\n",
       "      if (el != null) {\n",
       "        el.textContent = \"BokehJS \" + root.Bokeh.version + \" successfully loaded.\";\n",
       "      }\n",
       "    } else if (Date.now() < root._bokeh_timeout) {\n",
       "      setTimeout(display_loaded, 100)\n",
       "    }\n",
       "  }\n",
       "\n",
       "\n",
       "  function run_callbacks() {\n",
       "    try {\n",
       "      root._bokeh_onload_callbacks.forEach(function(callback) { callback() });\n",
       "    }\n",
       "    finally {\n",
       "      delete root._bokeh_onload_callbacks\n",
       "    }\n",
       "    console.info(\"Bokeh: all callbacks have finished\");\n",
       "  }\n",
       "\n",
       "  function load_libs(js_urls, callback) {\n",
       "    root._bokeh_onload_callbacks.push(callback);\n",
       "    if (root._bokeh_is_loading > 0) {\n",
       "      console.log(\"Bokeh: BokehJS is being loaded, scheduling callback at\", now());\n",
       "      return null;\n",
       "    }\n",
       "    if (js_urls == null || js_urls.length === 0) {\n",
       "      run_callbacks();\n",
       "      return null;\n",
       "    }\n",
       "    console.log(\"Bokeh: BokehJS not loaded, scheduling load and callback at\", now());\n",
       "    root._bokeh_is_loading = js_urls.length;\n",
       "    for (var i = 0; i < js_urls.length; i++) {\n",
       "      var url = js_urls[i];\n",
       "      var s = document.createElement('script');\n",
       "      s.src = url;\n",
       "      s.async = false;\n",
       "      s.onreadystatechange = s.onload = function() {\n",
       "        root._bokeh_is_loading--;\n",
       "        if (root._bokeh_is_loading === 0) {\n",
       "          console.log(\"Bokeh: all BokehJS libraries loaded\");\n",
       "          run_callbacks()\n",
       "        }\n",
       "      };\n",
       "      s.onerror = function() {\n",
       "        console.warn(\"failed to load library \" + url);\n",
       "      };\n",
       "      console.log(\"Bokeh: injecting script tag for BokehJS library: \", url);\n",
       "      document.getElementsByTagName(\"head\")[0].appendChild(s);\n",
       "    }\n",
       "  };var element = document.getElementById(\"5c172f84-7196-460f-97bc-f5ecc500f688\");\n",
       "  if (element == null) {\n",
       "    console.log(\"Bokeh: ERROR: autoload.js configured with elementid '5c172f84-7196-460f-97bc-f5ecc500f688' but no matching script tag was found. \")\n",
       "    return false;\n",
       "  }\n",
       "\n",
       "  var js_urls = [\"https://cdn.pydata.org/bokeh/release/bokeh-0.12.13.min.js\", \"https://cdn.pydata.org/bokeh/release/bokeh-widgets-0.12.13.min.js\", \"https://cdn.pydata.org/bokeh/release/bokeh-tables-0.12.13.min.js\", \"https://cdn.pydata.org/bokeh/release/bokeh-gl-0.12.13.min.js\"];\n",
       "\n",
       "  var inline_js = [\n",
       "    function(Bokeh) {\n",
       "      Bokeh.set_log_level(\"info\");\n",
       "    },\n",
       "    \n",
       "    function(Bokeh) {\n",
       "      \n",
       "    },\n",
       "    function(Bokeh) {\n",
       "      console.log(\"Bokeh: injecting CSS: https://cdn.pydata.org/bokeh/release/bokeh-0.12.13.min.css\");\n",
       "      Bokeh.embed.inject_css(\"https://cdn.pydata.org/bokeh/release/bokeh-0.12.13.min.css\");\n",
       "      console.log(\"Bokeh: injecting CSS: https://cdn.pydata.org/bokeh/release/bokeh-widgets-0.12.13.min.css\");\n",
       "      Bokeh.embed.inject_css(\"https://cdn.pydata.org/bokeh/release/bokeh-widgets-0.12.13.min.css\");\n",
       "      console.log(\"Bokeh: injecting CSS: https://cdn.pydata.org/bokeh/release/bokeh-tables-0.12.13.min.css\");\n",
       "      Bokeh.embed.inject_css(\"https://cdn.pydata.org/bokeh/release/bokeh-tables-0.12.13.min.css\");\n",
       "    }\n",
       "  ];\n",
       "\n",
       "  function run_inline_js() {\n",
       "    \n",
       "    if ((root.Bokeh !== undefined) || (force === true)) {\n",
       "      for (var i = 0; i < inline_js.length; i++) {\n",
       "        inline_js[i].call(root, root.Bokeh);\n",
       "      }if (force === true) {\n",
       "        display_loaded();\n",
       "      }} else if (Date.now() < root._bokeh_timeout) {\n",
       "      setTimeout(run_inline_js, 100);\n",
       "    } else if (!root._bokeh_failed_load) {\n",
       "      console.log(\"Bokeh: BokehJS failed to load within specified timeout.\");\n",
       "      root._bokeh_failed_load = true;\n",
       "    } else if (force !== true) {\n",
       "      var cell = $(document.getElementById(\"5c172f84-7196-460f-97bc-f5ecc500f688\")).parents('.cell').data().cell;\n",
       "      cell.output_area.append_execute_result(NB_LOAD_WARNING)\n",
       "    }\n",
       "\n",
       "  }\n",
       "\n",
       "  if (root._bokeh_is_loading === 0) {\n",
       "    console.log(\"Bokeh: BokehJS loaded, going straight to plotting\");\n",
       "    run_inline_js();\n",
       "  } else {\n",
       "    load_libs(js_urls, function() {\n",
       "      console.log(\"Bokeh: BokehJS plotting callback run at\", now());\n",
       "      run_inline_js();\n",
       "    });\n",
       "  }\n",
       "}(window));"
      ],
      "application/vnd.bokehjs_load.v0+json": "\n(function(root) {\n  function now() {\n    return new Date();\n  }\n\n  var force = true;\n\n  if (typeof (root._bokeh_onload_callbacks) === \"undefined\" || force === true) {\n    root._bokeh_onload_callbacks = [];\n    root._bokeh_is_loading = undefined;\n  }\n\n  \n\n  \n  if (typeof (root._bokeh_timeout) === \"undefined\" || force === true) {\n    root._bokeh_timeout = Date.now() + 5000;\n    root._bokeh_failed_load = false;\n  }\n\n  var NB_LOAD_WARNING = {'data': {'text/html':\n     \"<div style='background-color: #fdd'>\\n\"+\n     \"<p>\\n\"+\n     \"BokehJS does not appear to have successfully loaded. If loading BokehJS from CDN, this \\n\"+\n     \"may be due to a slow or bad network connection. Possible fixes:\\n\"+\n     \"</p>\\n\"+\n     \"<ul>\\n\"+\n     \"<li>re-rerun `output_notebook()` to attempt to load from CDN again, or</li>\\n\"+\n     \"<li>use INLINE resources instead, as so:</li>\\n\"+\n     \"</ul>\\n\"+\n     \"<code>\\n\"+\n     \"from bokeh.resources import INLINE\\n\"+\n     \"output_notebook(resources=INLINE)\\n\"+\n     \"</code>\\n\"+\n     \"</div>\"}};\n\n  function display_loaded() {\n    var el = document.getElementById(\"5c172f84-7196-460f-97bc-f5ecc500f688\");\n    if (el != null) {\n      el.textContent = \"BokehJS is loading...\";\n    }\n    if (root.Bokeh !== undefined) {\n      if (el != null) {\n        el.textContent = \"BokehJS \" + root.Bokeh.version + \" successfully loaded.\";\n      }\n    } else if (Date.now() < root._bokeh_timeout) {\n      setTimeout(display_loaded, 100)\n    }\n  }\n\n\n  function run_callbacks() {\n    try {\n      root._bokeh_onload_callbacks.forEach(function(callback) { callback() });\n    }\n    finally {\n      delete root._bokeh_onload_callbacks\n    }\n    console.info(\"Bokeh: all callbacks have finished\");\n  }\n\n  function load_libs(js_urls, callback) {\n    root._bokeh_onload_callbacks.push(callback);\n    if (root._bokeh_is_loading > 0) {\n      console.log(\"Bokeh: BokehJS is being loaded, scheduling callback at\", now());\n      return null;\n    }\n    if (js_urls == null || js_urls.length === 0) {\n      run_callbacks();\n      return null;\n    }\n    console.log(\"Bokeh: BokehJS not loaded, scheduling load and callback at\", now());\n    root._bokeh_is_loading = js_urls.length;\n    for (var i = 0; i < js_urls.length; i++) {\n      var url = js_urls[i];\n      var s = document.createElement('script');\n      s.src = url;\n      s.async = false;\n      s.onreadystatechange = s.onload = function() {\n        root._bokeh_is_loading--;\n        if (root._bokeh_is_loading === 0) {\n          console.log(\"Bokeh: all BokehJS libraries loaded\");\n          run_callbacks()\n        }\n      };\n      s.onerror = function() {\n        console.warn(\"failed to load library \" + url);\n      };\n      console.log(\"Bokeh: injecting script tag for BokehJS library: \", url);\n      document.getElementsByTagName(\"head\")[0].appendChild(s);\n    }\n  };var element = document.getElementById(\"5c172f84-7196-460f-97bc-f5ecc500f688\");\n  if (element == null) {\n    console.log(\"Bokeh: ERROR: autoload.js configured with elementid '5c172f84-7196-460f-97bc-f5ecc500f688' but no matching script tag was found. \")\n    return false;\n  }\n\n  var js_urls = [\"https://cdn.pydata.org/bokeh/release/bokeh-0.12.13.min.js\", \"https://cdn.pydata.org/bokeh/release/bokeh-widgets-0.12.13.min.js\", \"https://cdn.pydata.org/bokeh/release/bokeh-tables-0.12.13.min.js\", \"https://cdn.pydata.org/bokeh/release/bokeh-gl-0.12.13.min.js\"];\n\n  var inline_js = [\n    function(Bokeh) {\n      Bokeh.set_log_level(\"info\");\n    },\n    \n    function(Bokeh) {\n      \n    },\n    function(Bokeh) {\n      console.log(\"Bokeh: injecting CSS: https://cdn.pydata.org/bokeh/release/bokeh-0.12.13.min.css\");\n      Bokeh.embed.inject_css(\"https://cdn.pydata.org/bokeh/release/bokeh-0.12.13.min.css\");\n      console.log(\"Bokeh: injecting CSS: https://cdn.pydata.org/bokeh/release/bokeh-widgets-0.12.13.min.css\");\n      Bokeh.embed.inject_css(\"https://cdn.pydata.org/bokeh/release/bokeh-widgets-0.12.13.min.css\");\n      console.log(\"Bokeh: injecting CSS: https://cdn.pydata.org/bokeh/release/bokeh-tables-0.12.13.min.css\");\n      Bokeh.embed.inject_css(\"https://cdn.pydata.org/bokeh/release/bokeh-tables-0.12.13.min.css\");\n    }\n  ];\n\n  function run_inline_js() {\n    \n    if ((root.Bokeh !== undefined) || (force === true)) {\n      for (var i = 0; i < inline_js.length; i++) {\n        inline_js[i].call(root, root.Bokeh);\n      }if (force === true) {\n        display_loaded();\n      }} else if (Date.now() < root._bokeh_timeout) {\n      setTimeout(run_inline_js, 100);\n    } else if (!root._bokeh_failed_load) {\n      console.log(\"Bokeh: BokehJS failed to load within specified timeout.\");\n      root._bokeh_failed_load = true;\n    } else if (force !== true) {\n      var cell = $(document.getElementById(\"5c172f84-7196-460f-97bc-f5ecc500f688\")).parents('.cell').data().cell;\n      cell.output_area.append_execute_result(NB_LOAD_WARNING)\n    }\n\n  }\n\n  if (root._bokeh_is_loading === 0) {\n    console.log(\"Bokeh: BokehJS loaded, going straight to plotting\");\n    run_inline_js();\n  } else {\n    load_libs(js_urls, function() {\n      console.log(\"Bokeh: BokehJS plotting callback run at\", now());\n      run_inline_js();\n    });\n  }\n}(window));"
     },
     "metadata": {},
     "output_type": "display_data"
    },
    {
     "data": {
      "text/html": [
       "\n",
       "<div class=\"bk-root\">\n",
       "    <div class=\"bk-plotdiv\" id=\"1511f823-e50a-4156-92c1-e94d4ae018bd\"></div>\n",
       "</div>"
      ]
     },
     "metadata": {},
     "output_type": "display_data"
    },
    {
     "data": {
      "application/javascript": [
       "(function(root) {\n",
       "  function embed_document(root) {\n",
       "    \n",
       "  var docs_json = {\"f2dd9ee8-79c3-4331-8cb2-fc4b7a1dc929\":{\"roots\":{\"references\":[{\"attributes\":{},\"id\":\"47489f63-cf26-45bd-b44b-6b12b2f1ec46\",\"type\":\"BasicTicker\"},{\"attributes\":{},\"id\":\"e5930332-1b41-42e8-8caa-23062f8e0482\",\"type\":\"BasicTickFormatter\"},{\"attributes\":{\"grid_line_color\":{\"value\":null},\"plot\":{\"id\":\"9abadbd0-f54e-4dfc-98c4-9dcc7bcd6ced\",\"subtype\":\"Figure\",\"type\":\"Plot\"},\"ticker\":{\"id\":\"47489f63-cf26-45bd-b44b-6b12b2f1ec46\",\"type\":\"BasicTicker\"}},\"id\":\"1a020243-5e1d-4c48-b5bd-1d47646b34cb\",\"type\":\"Grid\"},{\"attributes\":{\"formatter\":{\"id\":\"c4e16df4-703a-4e42-aa00-af674e085aa7\",\"type\":\"BasicTickFormatter\"},\"plot\":{\"id\":\"9abadbd0-f54e-4dfc-98c4-9dcc7bcd6ced\",\"subtype\":\"Figure\",\"type\":\"Plot\"},\"ticker\":{\"id\":\"9fb5167b-d349-45c0-915e-969d9f8ac749\",\"type\":\"BasicTicker\"},\"visible\":false},\"id\":\"9775495e-e06c-4a95-bfb8-90244ad878b3\",\"type\":\"LinearAxis\"},{\"attributes\":{\"bottom_units\":\"screen\",\"fill_alpha\":{\"value\":0.5},\"fill_color\":{\"value\":\"lightgrey\"},\"left_units\":\"screen\",\"level\":\"overlay\",\"line_alpha\":{\"value\":1.0},\"line_color\":{\"value\":\"black\"},\"line_dash\":[4,4],\"line_width\":{\"value\":2},\"plot\":null,\"render_mode\":\"css\",\"right_units\":\"screen\",\"top_units\":\"screen\"},\"id\":\"ac15d3d9-abea-4541-99b4-5a56aa8d4d94\",\"type\":\"BoxAnnotation\"},{\"attributes\":{},\"id\":\"9fb5167b-d349-45c0-915e-969d9f8ac749\",\"type\":\"BasicTicker\"},{\"attributes\":{\"dimension\":1,\"grid_line_color\":{\"value\":null},\"plot\":{\"id\":\"9abadbd0-f54e-4dfc-98c4-9dcc7bcd6ced\",\"subtype\":\"Figure\",\"type\":\"Plot\"},\"ticker\":{\"id\":\"9fb5167b-d349-45c0-915e-969d9f8ac749\",\"type\":\"BasicTicker\"}},\"id\":\"d9e41695-60c0-422f-a7f8-9041592ba62c\",\"type\":\"Grid\"},{\"attributes\":{\"fill_alpha\":{\"value\":0.1},\"fill_color\":{\"value\":\"#1f77b4\"},\"line_alpha\":{\"value\":0.1},\"line_color\":{\"value\":\"#1f77b4\"},\"size\":{\"units\":\"screen\",\"value\":10},\"x\":{\"field\":\"x_coord\"},\"y\":{\"field\":\"y_coord\"}},\"id\":\"772b4b21-1d76-4877-9240-319ef9068b16\",\"type\":\"Circle\"},{\"attributes\":{\"callback\":null,\"column_names\":[\"x_coord\",\"y_coord\",\"word\",\"index\"],\"data\":{\"index\":[\"br\",\"\\ub09c\",\"\\ub0b4\",\"you\",\"\\ub0a0\",\"\\ub110\",\"\\ub0b4\\uac00\",\"\\ub098\",\"\\ub10c\",\"\\uadf8\",\"I\",\"\\ub098\\ub97c\",\"\\ub108\\uc758\",\"\\ub108\\ub97c\",\"Oh\",\"\\ub2e4\",\"\\ub108\",\"\\ub098\\uc758\",\"love\",\"\\ub354\",\"\\ub610\",\"baby\",\"me\",\"\\ub0b4\\uac8c\",\"I_m\",\"\\ub2e4\\uc2dc\",\"\\uc5c6\\uc5b4\",\"\\ub2c8\\uac00\",\"\\uc774\\uc820\",\"\\uc65c\",\"\\ub098\\ub294\",\"oh\",\"Baby\",\"\\uadf8\\ub300\",\"\\ub108\\ubb34\",\"\\uc6b0\\ub9ac\",\"\\uc774\",\"\\ub124\",\"\\uac78\",\"\\uc5c6\\ub294\",\"\\uc774\\uc81c\",\"\\uc788\\uc5b4\",\"\\uc774\\ub807\\uac8c\",\"\\ud574\",\"\\ub124\\uac00\",\"girl\",\"it\",\"\\ubaa8\\ub450\",\"my\",\"\\uc9c0\\uae08\",\"You\",\"\\ub2c8\",\"\\uc815\\ub9d0\",\"\\ub108\\ub294\",\"\\uc0ac\\ub791\",\"\\uac70\\uc57c\",\"go\",\"\\ubd10\",\"and\",\"\\ub108\\uc640\",\"yeah\",\"\\uc0ac\\ub791\\uc744\",\"the\",\"oh_oh\",\"\\ub9d0\",\"\\uadf8\\ub798\",\"up\",\"to\",\"Yeah\",\"\\uadf8\\ub807\\uac8c\",\"\\uc5b8\\uc81c\\ub098\",\"\\ub108\\uc5d0\\uac8c\",\"\\uc788\\ub294\",\"\\uc774\\ub7f0\",\"\\uc6b0\\ub9b0\",\"\\uc790\\uafb8\",\"know\",\"\\uc0ac\\ub791\\ud574\",\"\\ud56d\\uc0c1\",\"\\uadf8\\ub0e5\",\"\\uc880\",\"\\ub3fc\",\"\\uadf8\\ub7f0\",\"\\ubab0\\ub77c\",\"\\ud558\\uc9c0\\ub9cc\",\"a\",\"\\uac19\\uc740\",\"\\uac74\",\"\\uc601\\uc6d0\\ud788\",\"It_s\",\"Don_t\",\"\\ub0b4_\\ub9d8\",\"\\ud568\\uaed8\",\"\\uc544\\uc9c1\",\"\\ud55c\",\"\\uc774\\uc81c\\ub294\",\"\\uc81c\\ubc1c\",\"now\",\"U\",\"Let_s\",\"\\ub9e4\\uc77c\",\"Hey\",\"\\uc54a\\uc544\",\"on\",\"\\ub098\\ub3c4\",\"\\ub9c8\\uc74c\",\"\\uc88b\\uc544\",\"\\ub124\\uac8c\",\"don_t\",\"like\",\"be\",\"\\uc774\\ubbf8\",\"\\uc548\",\"\\ub54c\",\"\\uc0ac\\ub791\\uc774\",\"\\uac19\\uc544\",\"\\ub0b4_\\ub9d8\\uc744\",\"\\uac8c\",\"Love\",\"\\uc5c6\\uc774\",\"\\ub2e4\\ub978\",\"I_ll\",\"say\",\"\\uc18d\\uc5d0\",\"\\ub298\",\"\\ubaa8\\ub4e0\",\"\\uc0ac\\ub78c\",\"I_wanna\",\"\\uc5b4\\ub5bb\\uac8c\",\"\\ub108\\ub9cc\",\"\\uc624\",\"boy\",\"\\uaf2d\",\"\\uc0ac\\ub791\\uc740\",\"do\",\"\\ubabb\",\"Girl\",\"You_re\",\"\\uc624\\ub298\",\"\\ub9d8\",\"\\uc2f6\\uc5b4\",\"\\uc544\\uc9c1\\ub3c4\",\"I_don\",\"that\",\"\\ub098\\uc5d0\\uac8c\",\"I_can\",\"no\",\"\\ub0b4\\uac90\",\"Oh_Oh\",\"\\uadf8\\ub300\\uac00\",\"\\ub9c8\",\"\\uc798\",\"\\uadf8\\ub308\",\"\\uc624\\ub298\\ub3c4\",\"\\ub9ce\\uc774\",\"\\uc21c\\uac04\",\"\\ud574\\ub3c4\",\"t\",\"feel\",\"\\uc800\",\"My\",\"\\ub354_\\uc774\\uc0c1\",\"\\uac83_\\uac19\\uc544\",\"stop\",\"my_love\",\"\\uacc4\\uc18d\",\"\\uadf8\\uc800\",\"\\ubaa8\\uc2b5\",\"I_want\",\"So\",\"\\ub108\\ub3c4\",\"\\ub108\\ubb34\\ub098\",\"just\",\"\\uc774\\ub300\\ub85c\",\"\\ud558\\ub294\",\"\\uac19\\uc774\",\"Just\",\"\\uc54c\\uc544\",\"\\ubcf4\\uace0\",\"is\",\"all\",\"it_s\",\"\\uc544\\ub984\\ub2e4\\uc6b4\",\"your\",\"\\uc2dc\\uac04\\uc774\",\"\\ud63c\\uc790\",\"\\ud558\\ub098\",\"\\ub9c8\\uce58\",\"\\uac83\",\"\\uc788\\uac8c\",\"time\",\"\\ubc14\\ub85c\",\"down\",\"so\",\"\\uc791\\uc740\",\"\\ubaa8\\ub4e0_\\uac78\",\"\\uc2dc\\uac04\",\"\\ub9d0\\uace0\",\"\\uc808\\ub300\",\"\\ucc38\",\"\\uadf8\\ub300\\ub97c\",\"\\uc6b0\\ub9ac\\uac00\",\"\\uc5ec\\uae30\",\"\\uc544\\ub0d0\",\"Come_on\",\"\\ub208\\ubb3c\",\"for\",\"tonight\",\"\\ub108\\uc640_\\ub098\",\"you_re\",\"\\uad1c\\ucc2e\\uc544\",\"\\uc788\\ub2e4\\uba74\",\"\\uc918\",\"\\uc790\\uafb8\\ub9cc\",\"\\ubabb\\ud574\",\"\\uac00\\uc2b4\\uc774\",\"want\",\"uh\",\"\\ubaa8\\ub4e0_\\uac8c\",\"\\ubaa8\\ub450_\\ub2e4\",\"\\uc548\\ub3fc\",\"\\ub098\\ub9cc\",\"get\",\"la_la\",\"\\uc2eb\\uc5b4\",\"\\ud560_\\uc218\",\"I_need\",\"\\uc704\\ud574\",\"come_on\",\"\\uc6d0\\ud574\",\"\\ub0b4_\\uacc1\\uc5d0\",\"\\ud560\",\"one\",\"\\ud558\\uace0\",\"\\uc880_\\ub354\",\"\\ub9ce\\uc740\",\"hey\",\"\\uc624\\uc9c1\",\"\\ub098\\uc640\",\"\\ub208\\ubb3c\\uc774\",\"\\ub9d0\\uc744\",\"\\ub9d8\\uc744\",\"\\ub9c8\\uc9c0\\ub9c9\",\"No\",\"\\ub9d8\\uc5d0\",\"\\ub2e4\\uac00\\uc640\",\"\\uc138\\uc0c1\",\"\\ubcf4\\uc5ec\",\"\\uc788\\uc796\\uc544\",\"We\",\"\\ub4ef\",\"\\uac00\",\"\\uacc1\\uc5d0\",\"\\ubc24\",\"back\",\"\\uadf8\\ub300\\uc758\",\"\\uc810\\uc810\",\"\\ubcf4\\uba74\",\"\\ub9c8\\uc74c\\uc774\",\"in\",\"\\ub9d0\\ud574\",\"\\uc624\\ub298\\uc740\",\"\\ubcfc_\\uc218\",\"\\uc544\\ub2cc\",\"\\uadf8\\uac8c\",\"\\uc6b0\\ub9ac\\uc758\",\"\\ub2ec\\ucf64\\ud55c\",\"to_the\",\"\\uadf8\\ub300\\ub85c\",\"\\uc5b4\\ub5a4\",\"this\",\"\\uadf8\\ub304\",\"I_just\",\"Uh\",\"Go\",\"wanna\",\"\\ud558\\uc9c0\\ub9c8\",\"right\",\"\\ub208\\uc744\",\"\\ub0b4_\\ub9d8\\uc774\",\"What\",\"u\",\"\\uadf8\\ub798\\ub3c4\",\"\\uac00\\uc2b4\\uc5d0\",\"\\ub098\\ub9cc\\uc758\",\"\\uc790\",\"\\ud639\\uc2dc\",\"what\",\"\\ub108\\uc640_\\ud568\\uaed8\",\"to_me\",\"\\uc88b\\uc740\",\"\\uc5b4\\ub5a1\\ud574\",\"\\ub204\\uac00\",\"\\uc2ac\\ud508\",\"\\uc870\\uae08\\uc529\",\"Woo\",\"\\uc608\\uc05c\",\"\\ub208\",\"\\ubd10\\ub3c4\",\"Let_me\",\"\\uc11c\\ub85c\",\"with_you\",\"\\ud55c_\\ubc88\",\"\\ud55c\\ubc88\",\"\\uc870\\uae08\",\"\\uc138\\uc0c1\\uc5d0\",\"tell_me\",\"\\uc544\\ubb34\\uac83\\ub3c4\",\"Now\",\"\\uc544\",\"\\uae30\\ub2e4\\ub824\",\"\\ub9d8\\uc774\",\"woo\",\"\\uadf8\\ub9ac\\uace0\",\"\\uc5bc\\ub9c8\\ub098\",\"babe\",\"\\uc640\",\"for_you\",\"\\ubb50\",\"\\uc5b4\\ub290\\uc0c8\",\"\\ub2e4\\uc2e0\",\"\\uc544\\ud508\",\"Say\",\"\\ub531\",\"\\uadf8\\ub54c\",\"\\ubaa8\\ub4e0\\uac78\",\"\\uc55e\\uc5d0\",\"\\uc774\\uac74\",\"\\ub530\\ub77c\",\"\\ub9c8\\uc74c\\uc744\",\"\\uc27d\\uac8c\",\"of\",\"\\ubbf8\\uc548\\ud574\",\"\\ub354\\ub294\",\"\\ub9cc\\ud07c\",\"\\uc6b0\\ub9b4\",\"uh_uh\",\"Boy\",\"i\",\"crazy\",\"\\uc544\\ub2c8\",\"my_heart\",\"\\uc0ac\\ub791\\ud558\\ub294\",\"we\",\"\\uc138\\uc0c1\\uc774\",\"yo\",\"in_the\",\"\\uc138\\uc0c1\\uc744\",\"see\",\"in_my\",\"\\ucc98\\uc74c\",\"\\uc544\\ub2c8\\uc57c\",\"\\uc7a0\\uc2dc\",\"\\ubcf4\\ub294\",\"\\uadf8\\ub9cc\",\"can\",\"\\uac00\\ub294\",\"\\uc0dd\\uac01\\ud574\",\"\\uc904\",\"good\",\"your_love\",\"can_t\",\"\\uc54c_\\uc218\",\"\\uc9c4\\uc9dc\",\"woo_woo\",\"got\",\"\\ub208\\ube5b\",\"do_it\",\"\\uc804\\ubd80\",\"\\uac70\",\"\\uba40\\ub9ac\",\"out\",\"day\",\"\\uac00\\uc2b4\",\"\\uc0ac\\ub791\\uc5d0\",\"\\uc5c6\\uc796\\uc544\",\"\\ud588\\uc5b4\",\"make\",\"\\uadf8\\ub300\\ub294\",\"only\",\"\\ubb58\",\"\\uc544\\uc8fc\",\"let_s\",\"\\uc18c\\uc911\\ud55c\",\"\\uc5b8\\uc820\\uac00\",\"\\ub0b4_\\ub9c8\\uc74c\\uc744\",\"with\",\"\\ub208\\uc774\",\"\\uc788\\uc744\\uae4c\",\"\\uc548\\uc5d0\",\"Tell_me\",\"\\uac74\\uc9c0\",\"\\uae30\\uc5b5\\ud574\",\"And\",\"\\uc218\",\"\\uc774\\uac8c\",\"\\uac00\\ub054\",\"\\ud588\\ub358\",\"But\",\"\\uc804\\uc5d0\",\"\\uc9c0\\uae08_\\uc774\",\"\\ub05d\\uae4c\\uc9c0\",\"\\uae30\\uc5b5\",\"You_are\",\"\\ub110_\\uc704\\ud574\",\"\\ubbff\\uc5b4\",\"\\uacb0\\uad6d\",\"I_got\",\"na_na\",\"\\ubc84\\ub9b0\",\"\\uba3c\\uc800\",\"no_no\",\"\\uc544\\ubb34\\ub9ac\",\"\\uc77c\",\"\\ub550\",\"\\ucc99\",\"\\ud558\\uc9c0\",\"why\",\"\\uc18d\",\"s\",\"eh_eh\",\"\\uae38\\uc744\",\"\\ubc8c\\uc368\",\"\\uadf8\\ub798\\uc11c\",\"\\uc190\\uc744\",\"never\",\"\\ubaa8\\ub450\\uac00\",\"\\ub108\\ub9cc\\uc744\",\"\\uc0dd\\uac01\",\"\\uc544\\ubb34\\ub3c4\",\"\\ubc14\\ub798\",\"\\ub108\\ub97c_\\uc0ac\\ub791\\ud574\",\"\\ud5a5\\ud574\",\"\\uba4b\\uc9c4\",\"\\uac83\\ub3c4\",\"\\ud589\\ubcf5\\ud55c\",\"ya\",\"but\",\"\\ub54c\\ubb38\\uc5d0\",\"\\uc870\\uae08_\\ub354\",\"come\",\"baby_baby\",\"\\uadf8\\ub140\",\"\\uac83\\ucc98\\ub7fc\",\"\\uafc8\\uc744\",\"\\ub450\",\"\\ub9d0\\uc774\",\"\\ub5a0\\ub098\",\"\\uc5ec\\uc804\\ud788\",\"\\uc2ec\\uc7a5\\uc774\",\"\\uc9c0\\ub09c\",\"\\ub2ec\\ub77c\",\"\\ub290\\ub08c\",\"yeah_yeah\",\"\\uc0c8\\ub85c\\uc6b4\",\"\\ub208\\uc5d0\",\"\\uc5ec\\uc790\",\"\\uac00\\ub4dd\",\"cry\",\"\\ud558\\uc580\",\"\\uc5b4\\uc11c\",\"let\",\"Yes\",\"alright\",\"\\uadf8\\ub300\\uc640\",\"\\ubcf4\\uba70\",\"\\uc598\\uae30\",\"\\uc190\",\"heart\",\"\\ucc3e\\uc544\",\"\\ub410\\uc5b4\",\"\\ub0b4_\\uc548\\uc5d0\",\"A\",\"party\",\"\\uafc8\",\"life\",\"\\ub0b4_\\ub9d8\\uc740\",\"\\uac70\\ub2c8\",\"again\",\"\\uadfc\\ub370\",\"\\ub54c\\uae4c\\uc9c0\",\"\\ucc28\\ub77c\\ub9ac\",\"let_me\",\"\\ubab0\\ub798\",\"night\",\"\\uc5c6\\ub294\\ub370\",\"\\ube68\\ub9ac\",\"you_are\",\"\\ub610_\\ub2e4\\ub978\",\"\\uac78\\uae4c\",\"\\uc0ac\\uc2e4\",\"\\uc904\\uac8c\",\"\\ubaa8\\ub4e0\\uac8c\",\"\\uadf8\\uac74\",\"\\ubcf4\\uace0_\\uc2f6\\uc5b4\",\"\\uc218_\\uc5c6\\uc5b4\",\"\\uc6b0\\ub9ac\\ub294\",\"forever\",\"get_it\",\"\\uac70\\uc9d3\\ub9d0\",\"\\uac00\\uae4c\\uc774\",\"\\ub9cc\\ub098\",\"what_you\",\"\\uc560\\uc368\",\"ah\",\"\\ub0a8\\uc790\",\"\\ubaa8\\ub974\\uaca0\\uc5b4\",\"\\uc218\\ub9ce\\uc740\",\"\\ub290\\ub084_\\uc218\",\"\\ub108_\\ub54c\\ubb38\\uc5d0\",\"You_know\",\"like_a\",\"Let\",\"Can\",\"\\uc2dc\\uac04\\uc740\",\"Everybody\",\"\\ub54c\\ub860\",\"\\ud558\\ub8e8_\\uc885\\uc77c\",\"\\ucc44\",\"\\ub290\\uaef4\\ubd10\",\"\\uc660\\uc9c0\",\"\\ud754\\ub4e4\\uc5b4\",\"All\",\"\\uc628\",\"Me\",\"Yeah_Yeah\",\"take\",\"\\ub0b4\\uac8c\\ub85c\",\"\\ub9d0\\ud574\\uc918\",\"Ah\",\"Can_t\",\"\\ub0a8\\uc544\",\"\\uc704\\ub85c\",\"\\ubc14\\ubcf4\\ucc98\\ub7fc\",\"\\ub9d0\\uc57c\",\"\\ub9d0\\uc740\",\"La_La\",\"sorry\",\"It\",\"\\ub9cc\\ub4e4\\uc5b4\",\"\\uc5b4\\uca4c\\uba74\",\"\\uc18d\\uc5d0\\uc11c\",\"\\uc5b4\\ub54c\",\"\\ud589\\ubcf5\\ud574\",\"\\uc54a\\ub294\",\"\\ubbf8\\uccd0\",\"\\uc774_\\uc21c\\uac04\",\"ma\",\"\\uc5b8\\uc81c\\uae4c\\uc9c0\\ub098\",\"\\ubbff\\uace0\",\"\\uc0b4\\uc9dd\",\"\\ub9c9\",\"\\uc544\\uc9c1\\uc740\",\"\\ubfd0\",\"\\ub728\\uac70\\uc6b4\",\"\\uc624\\ub298_\\ubc24\",\"\\uc904\\ub798\",\"ah_ah\",\"\\ub5a0\\ub09c\",\"\\ub450\\ub824\\uc6cc\",\"over\",\"\\ub418\\uc5b4\",\"\\uc54c\\uc796\\uc544\",\"\\uc0ac\\ub791\\ud55c\\ub2e4\\uace0\",\"\\ub9c8\\uc74c\\uc5d0\",\"\\uc78a\\uace0\",\"\\uadf8\\ub550\",\"way\",\"\\ub108\\ub780\",\"\\ubaa8\\uc2b5\\uc744\",\"\\uc2f6\\uc740\",\"\\uc544\\ub9c8\",\"\\uc2dc\\uac04\\uc744\",\"\\uc544\\ubb34\",\"\\ub2e4\\uc2dc\\ub294\",\"\\ubc14\\ub77c\\ubd10\",\"not\",\"\\ub9d0\\uc774\\uc57c\",\"\\uc0ac\\ub791\\uc758\",\"\\ube5b\\uc774\",\"\\uc138\\uc0c1\\uc740\",\"\\uc218_\\uc788\\uac8c\",\"\\uc774_\\ubc24\",\"\\ud070\",\"body\",\"me_now\",\"\\uc788\\ub294\\ub370\",\"\\uc0ac\\ub791\\ud588\\ub358\",\"\\ubd88\\ub7ec\",\"\\uae38\",\"man\",\"\\uc5bc\\uad74\",\"\\uc78a\\uc744_\\uc218\",\"The\",\"\\ub178\\ub798\",\"My_love\",\"\\ubcf4\\uc5ec\\uc918\",\"Tonight\",\"Do\",\"\\uc5c6\\uac8c\",\"\\uc54a\\uac8c\",\"Get\",\"with_me\",\"\\uc5b8\\uc81c\\uae4c\\uc9c0\",\"\\uc544\\ud30c\",\"\\uae30\\ubd84\",\"\\uadf8\\ub300\\uc5ec\",\"\\ub108\\ub97c_\\uc704\\ud574\",\"\\uc788\\ub358\",\"\\uc9c0\\uce5c\",\"\\ubb54\\uac00\",\"Come\",\"\\uc54c\\uace0\",\"\\uc5b4\\ucc28\\ud53c\",\"\\ub450\\uace0\",\"the_one\",\"\\uc774\\ub984\",\"\\ud558\\uba74\",\"\\uc6b0\",\"Ooh\",\"\\uad1c\\ud788\",\"\\ub300\\uccb4\",\"No_No\",\"t_know\",\"\\uc65c_\\uc790\\uafb8\",\"\\ub208\\ubb3c\\uc744\",\"\\uc18c\\ub9ac\",\"\\uc218_\\uc5c6\\ub294\",\"\\uc6b8\\uace0\",\"\\ub611\\uac19\\uc740\",\"\\ubaa8\\uc2b5\\uc774\",\"\\ub354\\uc6b1\",\"lady\",\"\\uacc1\\uc5d0\\uc11c\",\"eh\",\"it_up\",\"\\ub458\\uc774\",\"\\uae4a\\uc740\",\"\\uc0ac\\uc774\",\"\\ub208\\ubd80\\uc2e0\",\"make_me\",\"\\ucc28\\uac00\\uc6b4\",\"I_will\",\"in_love\",\"dance\",\"\\ubd10\\uc694\",\"That_s\",\"\\ub3c4\\ub300\\uccb4\",\"Up\",\"\\ub290\\uaef4\",\"i_m\",\"\\ub110_\\uc704\\ud55c\",\"\\uc5c6\\uc9c0\",\"\\ub4e4\\uc5b4\",\"\\uc5c6\\ub358\",\"\\uc788\\uc5b4\\uc694\",\"\\ud574\\uc918\",\"\\uc788\\uc8e0\",\"\\uc774_\\uc138\\uc0c1\",\"\\ub5a8\\ub9ac\\ub294\",\"\\uc0ac\\ub791\\ud574\\uc694\",\"Like\",\"\\ub110_\\ud5a5\\ud55c\",\"\\uadf8\\ub140\\uac00\",\"Stop\",\"\\uc774_\\ubc24\\uc774\",\"\\uc774\\uc81c\\uc57c\",\"One\",\"\\ud798\\ub4e0\",\"Yo\",\"\\uc704\\ud55c\",\"mind\",\"\\ub05d\\uc774\",\"\\ub0b4_\\ud488\\uc5d0\",\"\\uc0ac\\ub791\\ud55c\",\"fly\",\"\\uc5ec\\uae30\\uc11c\",\"\\uc808\\ub300\\ub85c\",\"\\ubbf8\\uc18c\",\"\\uc774\\ubcc4\\uc744\",\"\\ucc9c\\ucc9c\\ud788\",\"\\uce5c\\uad6c\",\"\\ud558\\ub8e8\\uac00\",\"\\ub098\\ub3c4_\\ubaa8\\ub974\\uac8c\",\"\\ube5b\\ub098\\ub294\",\"\\uc228\\uc774\",\"\\ubc24\\uc0c8\",\"\\ub9d0\\uc544\\uc694\",\"\\ud798\\uc774\",\"\\uc0ac\\ub78c\\uc774\",\"\\ud558\\ub8e8\",\"\\uc544\\ub2c8\\uba74\",\"\\uac78\\uc5b4\",\"\\uc11c\\ub85c\\ub97c\",\"\\ubb34\\uc2a8\",\"\\uc6d0\\ud558\\ub294\",\"my_life\",\"\\uc5b4\",\"\\ubfd0\\uc774\\uc57c\",\"\\ubc84\\ub9ac\\uace0\",\"mine\",\"give\",\"\\uadf8\\ub140\\ub97c\",\"\\uc7a1\\uace0\",\"\\uc0ac\\ub791\\ub3c4\",\"\\ub110_\\ubcf4\\uba74\",\"\\uc5c6\\ub2e4\\uace0\",\"\\uc785\\uc220\",\"\\uc788\\ub2c8\",\"\\ub108_\\ub55c\\uc5d0\",\"Na_Na\",\"\\uc5b4\\ub514\",\"\\uc900\",\"\\uc0b4\\uc544\",\"make_it\",\"\\ub728\\uac81\\uac8c\",\"\\ubed4\\ud55c\",\"\\ucd94\\uc5b5\",\"ye\",\"wanna_be\",\"\\ub098\\uc5d0\\uac90\",\"\\ube60\\uc838\",\"\\uadf8\\ub300\\uc5d0\\uac8c\",\"\\uc5c6\\uc5c8\\uc5b4\",\"\\ub3cc\\uc544\\uc640\",\"\\ub450_\\ub208\\uc744\",\"\\uacf3\",\"\\ub204\\uad6c\\ubcf4\\ub2e4\",\"\\ud63c\\uc790\\uc11c\",\"\\ub098_\\ud63c\\uc790\",\"\\ud798\\ub4e4\\uc5b4\",\"\\ubb50\\uac00\",\"\\ubaa9\\uc18c\\ub9ac\",\"rock\",\"\\uc54a\\uc740\",\"Do_it\",\"gonna\",\"\\uc774\\uc720\",\"\\uacf3\\uc5d0\",\"\\uc54a\\uace0\",\"\\uc870\\uae08\\uc740\",\"\\uc788\\uc9c0\",\"\\uc0ac\\ub791\\uc774\\ub780\",\"\\uc704\\ud574\\uc11c\",\"\\uc608\",\"\\ud544\\uc694_\\uc5c6\\uc5b4\",\"t_wanna\",\"the_way\",\"\\uc544\\ub294\",\"\\uc5c6\\uc9c0\\ub9cc\",\"\\ub418\\ub294\",\"\\ubaa8\\ub974\\ub294\",\"\\ub418\\uace0\",\"give_it\",\"\\ub108\\ubb34\\ub098\\ub3c4\",\"\\ubc84\\ub824\",\"\\uc0ac\\ub791\\ud55c\\ub2e4\",\"about\",\"\\uac00\\ub054\\uc740\",\"\\ub0a8\\uc740\",\"\\uafc8\\uc774\",\"\\uc0b4\\uba70\\uc2dc\",\"\\uc6c3\\uc73c\\uba70\",\"\\ub108_\\ud558\\ub098\\ub9cc\",\"\\ub204\\uad6c\\ub3c4\",\"\\ub9d0\\uc544\\uc918\",\"\\uc9c0\\uccd0\",\"\\ub9e4\\uc77c_\\ubc24\",\"\\uae4a\\uc774\",\"\\ub9c8\\uc694\",\"ooh\",\"\\ub530\\ub73b\\ud55c\",\"\\uadf8\\ub9ac\\uc6cc\",\"\\uac16\\uace0\",\"be_your\",\"\\uac00\\uace0\",\"\\uac00\\ub4dd\\ud55c\",\"\\uc788\\uc5b4\\ub3c4\",\"\\ub108\\uc57c\",\"Babe\",\"\\ub108\\ub9cc\\uc758\",\"\\ub0b4_\\uc606\\uc5d0\",\"Ah_Ah\",\"\\ubcc4\",\"Uh_Uh\",\"\\ub108\\uc640\\uc758\",\"\\ub450_\\ubc88\",\"\\uace0\\ub9c8\\uc6cc\",\"\\uc194\\uc9c1\\ud788\",\"\\ub9d0\\ud574\\ubd10\",\"no_more\",\"\\ub4a4\\ub85c\",\"\\uac83\\uc774\",\"\\uc57d\\uc18d\\ud574\",\"Hello\",\"\\uadf8\\ub7fc\",\"\\ub54c\\uba74\",\"\\uc704\\uc5d0\",\"\\ub098\\uc05c\",\"\\ubabb\\ud558\\uace0\",\"\\ub098\\uc640_\\ud568\\uaed8\",\"\\ubaa8\\ub450\\ub2e4\",\"I_am\",\"\\uadf8\\ub148\",\"\\uac83\\ub9cc_\\uac19\\uc544\",\"\\ud544\\uc694\\ud574\",\"OK\",\"\\uc0ac\\ub294\",\"\\uae34\",\"\\ubabb\\ud55c\",\"\\uc624\\ub298\\ubc24\",\"\\uc9c0\\uae08\\ubd80\\ud130\",\"\\ud574\\uc694\",\"\\uc544\\ubb34\\ub7f0\",\"\\uc6c3\\uace0\",\"\\uc544\\ub984\\ub2e4\\uc6cc\",\"\\ub4ef\\uc774\",\"give_me\",\"star\",\"\\uc0c1\\ucc98\",\"\\ub0b4\\uac8c_\\ub2e4\\uac00\\uc640\",\"\\ub2e4\\ub4e4\",\"take_it\",\"\\uc800\\uae30\",\"all_night\",\"\\uad81\\uae08\\ud574\",\"hands_up\",\"t_stop\",\"\\ub108\\ubb34\\ub3c4\",\"\\uc218\\uac00_\\uc5c6\\uc5b4\",\"always\",\"What_s\",\"\\ud558\\ub8e8\\ud558\\ub8e8\",\"\\uac00\\uc7a5\",\"\\uc0ac\\ub77c\\uc838\",\"\\uc0ac\\ub78c\\ub4e4\",\"\\uc774\\ubcc4\",\"\\uac70\\uae30\",\"\\uc694\\uc998\",\"\\uc65c_\\uc774\\ub798\",\"\\uc548_\\ub3fc\",\"\\uc6b0\\ub9ac_\\ub458\\uc774\",\"away\",\"\\ub0b4\\uac8c\\uc11c\",\"\\uadf8\\ub140\\ub294\",\"\\uc628\\ud1b5\",\"\\uc601\\uc6d0\\ud1a0\\ub85d\",\"\\ube5b\\uc744\",\"get_up\",\"\\ub108\\ub9cc_\\ubcf4\\uba74\",\"everybody\",\"need\",\"\\ub0b4\\uc77c\",\"\\uac00\\uc9c4\",\"\\ub9d0\\ub3c4\",\"\\ubc14\\ub77c\\ubcf4\\ub294\",\"\\uc788\\ub3c4\\ub85d\",\"\\uc6c3\\ub294\",\"\\uc190\\uc5d0\",\"\\uc5b4\\ub290\",\"\\uac00\\uc2b4\\uc744\",\"be_there\",\"Love_is\",\"\\ud45c\\uc815\",\"\\ub208\\ubb3c\\ub85c\",\"\\uc608\\ubed0\",\"\\uc774\\uc81c_\\uadf8\\ub9cc\",\"\\ub05d\\ub0b4\",\"\\ub5a0\\uc62c\\ub77c\",\"\\uc7a0\\ub4e0\",\"bye\",\"gonna_be\",\"\\ud06c\\uac8c\",\"\\ub208\\ube5b\\uc774\",\"\\uadf8_\\uc5b4\\ub5a4\",\"time_to\",\"Party\",\"\\uc5b4\\ub514\\ub4e0\",\"\\ubab0\\ub790\\uc5b4\",\"Back\",\"\\uc601\\uc6d0\\ud55c\",\"\\uadf8\\ub140\\uc758\",\"Why\",\"high\",\"\\ub0a0\\uc774\",\"\\uc788\\ub2e4\\uace0\",\"\\uc788\\uc5b4\\uc918\",\"la\",\"\\uc18c\\ub9ac\\uccd0\",\"\\ub354_\\uc774\\uc0c1\\uc740\",\"\\ubcf4\\ub2e4\",\"ready\",\"\\uba48\\ucd9c_\\uc218\",\"\\ub420\",\"\\uc57c\",\"\\uc815\\ub9d0\\ub85c\",\"\\ub098\\uc57c\",\"that_s\",\"Shake_it\",\"\\ubcf4\\uc774\\ub294\",\"\\ud558\\ub294\\uc9c0\",\"Never\",\"\\ud558\\uc597\\uac8c\",\"La_la\",\"\\uc6cc\",\"If_you\",\"\\uc5c6\\uc5b4\\ub3c4\",\"\\ud5a5\\ud55c\",\"\\uc5b4\\uca5c\",\"\\ubab8\\uc744\",\"\\ub108\\ub85c\",\"Feel\",\"\\ud558\\ub298\",\"\\uadf8_\\ub204\\uad6c\\ub3c4\",\"\\uc2dc\\uc791\\ud574\",\"here\",\"\\uc544\\ub2d8\",\"This_is\",\"\\ubaa8\\ub4e0_\\uac83\\uc744\",\"\\uc904_\\uc218\",\"\\uc78a\\uc5b4\",\"\\ucc98\\uc74c\\ubd80\\ud130\",\"\\uadf8\\ub300\\ub9cc\",\"\\uc77c\\uc5b4\\ub098\",\"\\ud558\\ub298\\uc744\",\"want_you\",\"\\uc5b8\\uc81c\\ub77c\\ub3c4\",\"\\uc228\\uc744\",\"\\ub9ce\\uc544\",\"\\ub9d8\\uc740\",\"\\ub2e4\\uac00\\uac00\",\"\\uc548\\ub155\",\"everything\",\"\\uc5c6\\uc5b4\\uc694\",\"bye_bye\",\"\\uc548\\uc5d0\\uc11c\",\"\\uc6d0\\ub798\",\"She_s\",\"\\ub54c\\ub9c8\\ub2e4\",\"Lady\",\"You_make\",\"\\uc5c6\\ub2e4\",\"\\ubc84\\ub838\\uc5b4\",\"\\uc2f6\\uc740\\ub370\",\"\\ub204\\uad70\\uac00\",\"\\ub2ec\\ub824\",\"We_re\",\"\\uc9c0\\uae08\\ub3c4\",\"\\uc7a0\\uae50\",\"\\ub4e4\\uc5b4\\uc640\",\"O\",\"Your\",\"To\",\"\\ub450\\uadfc\\ub450\\uadfc\",\"\\ud558\\ub098_\\ub458\",\"\\uac11\\uc790\\uae30\",\"\\ub2e4\\uc2dc_\\ud55c\\ubc88\",\"\\ud640\\ub85c\",\"\\uc218_\\uc788\\uc5b4\",\"\\ub290\\uaef4\\uc838\",\"\\ub9d0\\ub85c\",\"\\uc57d\\uc18d\",\"kiss\",\"\\ucd94\\uc5b5\\uc774\",\"\\uc54c\\uc558\\uc5b4\",\"\\ubc14\\ubcf4\",\"\\ucc28\\uac11\\uac8c\",\"show\",\"more\",\"\\ub534\",\"\\ubc16\\uc5d0\",\"\\ub108\\ub9cc\\uc774\",\"\\ub530\\uc708\",\"\\uc8fc\\ub294\",\"like_this\",\"\\ubcfc\",\"\\ub4ef\\ud55c\",\"\\uc548\\uace0\",\"\\uc5b8\\uc820\\uac04\",\"\\ud758\\ub7ec\",\"\\uc190\\uc744_\\uc7a1\\uace0\",\"\\ub108\\ub77c\\ub294\",\"\\uc810\\uc810_\\ub354\",\"\\ud558\\ub298\\uc5d0\",\"how\",\"right_now\",\"\\uc55e\\uc5d0\\uc11c\",\"\\ub300\\ub85c\",\"like_that\",\"\\uc544\\ud504\\uac8c\",\"\\ub2e8_\\ud55c\",\"\\uc800_\\uba40\\ub9ac\",\"please\",\"\\ub2f4\\uc544\",\"\\uac70\\ub77c\\uace0\",\"my_name\",\"\\uc5c6\\uace0\",\"\\uba48\\ucdb0\",\"\\ubaa8\\uc2b5\\uc740\",\"\\ud558\\ub294\\ub370\",\"\\ub05d\\uc5d0\",\"\\ud750\\ub974\\ub294\",\"\\ub450_\\uc190\",\"shake_it\",\"\\ubb50\\uc57c\",\"\\uc6c3\\uc744_\\uc218\",\"\\uae30\\uc5b5\\uc774\",\"\\ubcc4\\uc774\",\"I_miss\",\"Make\",\"\\ubabb\\ud560\",\"\\uc544\\ub798\",\"\\ud2b9\\ubcc4\\ud55c\",\"\\ub354\\uc774\\uc0c1\",\"\\ud558\\ub8e8\\ub97c\",\"\\uc870\\uae08\\ub9cc_\\ub354\",\"Forever\",\"We_can\",\"\\ud5a5\\uae30\",\"\\ubabb\\ud558\\uac8c\",\"\\uc704\\ud5d8\\ud574\",\"\\uc21c_\\uc5c6\\uc5b4\",\"\\uc788\\uc73c\\uba74\",\"\\uc0ac\\ub791\\ud558\\uace0\",\"For\",\"\\uc5c6\\ub294\\uac78\",\"Hello_Hello\",\"\\ubaa8\\uc2b5\\uc5d0\",\"\\uac00\\ub9cc\\ud788\",\"ooh_ooh\",\"\\uc544\\ud30c\\ub3c4\",\"\\uc9c0\\uae08\\uc740\",\"Give_it\",\"\\ub108_\\uc5c6\\uc778\",\"\\uc0ac\\ub791\\ud560\",\"\\uc0dd\\uac01\\uc5d0\",\"Give_me\",\"Only\",\"Like_a\",\"\\uc6c3\\uc5b4\",\"\\ub6f0\\uc5b4\",\"Everyday\",\"\\ud558\\ub298\\uc774\",\"\\ub9cc\\ub09c\",\"together\",\"\\ubc14\\ub78c\",\"\\uadf8\\ud1a0\\ub85d\",\"\\ubaa8\\ub4e0_\\uac83\\uc774\",\"\\ud560\\uae4c\",\"\\ud14c\\ub2c8\\uae4c\",\"\\ub098\\ucc98\\ub7fc\",\"\\ud558\\uac8c\",\"\\ubc24\\uc744\",\"break\",\"if_you\",\"\\uc5ec\\uae34\",\"\\ub0b4\\ub9d8\",\"\\ub0b4\\uac8c\\ub85c_\\uc640\",\"beautiful\",\"touch\",\"\\uac83\\uc744\",\"\\uc0dd\\uac01\\ub098\",\"\\ub124_\\uacc1\\uc5d0\",\"B\",\"at\",\"\\ud0c0\\uace0\",\"\\uc774\\ubcc4\\uc774\",\"Dance\",\"\\uc2dc\\uac04\\uc5d0\",\"\\uc598\\uae38\",\"\\uc81c\\uc77c\",\"\\ub2ec\\ub824\\uac00\",\"\\ub41c\",\"Take\",\"\\uc788\\ub294\\uc9c0\",\"\\uc0dd\\uac01\\uc774\",\"tell\",\"\\uc9c0\\uae08\\ucc98\\ub7fc\",\"ha\",\"\\ub2ec\\ucf64\\ud558\\uac8c\",\"Please\",\"my_god\",\"good_bye\",\"by\",\"without_you\",\"\\ub0b4_\\ub9d8\\uc18d\\uc5d0\",\"hot\",\"\\uc644\\ubcbd\\ud55c\",\"\\ub54c\\ub3c4\",\"feeling\",\"Show_me\",\"\\ubab0\\ub77c_\\ubab0\\ub77c\",\"\\ub290\\ub08c\\uc774\",\"\\ubaa8\\ub974\\uace0\",\"\\uc788\\uace0\",\"\\uc6b0\\ub9ac\\ub4e4\\uc758\",\"\\ub0b4\\uc77c\\uc740\",\"\\uc544\\ubb34_\\ub9d0\\ub3c4\",\"\\ubd24\\uc5b4\",\"girls\",\"\\ubc14\\ubcf4\\uac19\\uc774\",\"\\uc624\\ub298\\uc774\",\"\\uc788\\uc9c0\\ub9cc\",\"\\uc54a\\uc558\\uc5b4\",\"\\uc5ed\\uc2dc\",\"\\ubc24\\uc774\",\"\\uae30\\ub3c4\\ud574\",\"\\ub358\\uc838\",\"\\uae30\\ub2e4\\ub9b4\\uac8c\",\"\\ub3cc\\uc544\",\"\\ubbf8\\uc18c\\uac00\",\"long\",\"\\uc788\\uc5c8\\uc5b4\",\"\\ub4e4\\uc5b4\\ubd10\",\"\\ub354_\\ud06c\\uac8c\",\"all_right\",\"still\",\"\\uc544\\ub2cc\\ub370\",\"\\ubd10\\ubd10\",\"dream\",\"ma_girl\",\"\\uc88b\\uaca0\\uc5b4\",\"ain_t\",\"\\ub108\\uc5d0\\uac8c\\ub85c\",\"\\uc2dc\\uc120\",\"\\uc9c0\\ub098\",\"\\uc2ec\\uc7a5\",\"\\uadf8\\ub9ac\",\"gone\",\"\\ub9cc\\ub4e0\",\"\\ubcf4\\uc5ec\\uc904\\uac8c\",\"there\",\"\\ub450_\\ub208\\uc5d0\",\"\\ub300\\uc2e0\",\"\\uc788\\uc744\",\"My_Love\",\"\\ub108\\ubb34_\\uc88b\\uc544\",\"remember\",\"\\uc6b0\\ub9ac\\ub97c\",\"\\uc790\\uc2e0\\uc744\",\"\\uc0ac\\ub791\\uc73c\\ub85c\",\"ever\",\"\\ub2c8_\\ubaa8\\uc2b5\",\"Love_Love\",\"\\ud55c_\\ubc88\\ub9cc\",\"Crazy\",\"\\ud798\\uc744\",\"\\ubc14\\ub77c\\ubcf4\\uba70\",\"come_to\",\"\\ud55c\\ubc88\\ub9cc\",\"\\ub2e8\",\"\\uccab\",\"talk_about\",\"luv\",\"\\uc77c\\uc774\",\"\\ub05d\\uc5c6\\uc774\",\"\\uc548\\uaca8\",\"\\uc5b8\\uc820\\uac00\\ub294\",\"If\",\"\\uacac\\ub51c_\\uc218\",\"We_are\",\"\\uc7a1\\uc544\",\"\\uc11c\\ub85c\\uac00\",\"\\ucc29\\ud55c\",\"\\uc54a\\uc544\\ub3c4\",\"\\uc2dc\\uac04\\ub4e4\",\"\\ub610\\ub2e4\\uc2dc\",\"\\uba38\\ub9ac\",\"\\ub9de\\ucdb0\",\"\\uc785\",\"Good\",\"\\uc788\\uaca0\\uc9c0\",\"I_think\",\"us\",\"\\uc624\\ub798\",\"\\uc0c1\\uad00\\uc5c6\\uc5b4\",\"\\uae30\\ub300\",\"\\uc544\\ubb34_\\ub9d0\",\"\\ubaa8\\ub974\\uac8c\",\"\\ud14c\\ub2c8\",\"everyday\",\"Woo_woo\",\"fall_in\",\"\\uac00\\ub054\\uc529\",\"\\ubc24\\uc5d0\",\"\\uc783\\uc5b4\\ubc84\\ub9b0\",\"\\ubfd0\\uc57c\",\"\\uc774\\uc81c\\ubd80\\ud130\",\"\\ub108\\ub97c_\\uc6d0\\ud574\",\"\\ud150\\ub370\",\"\\ub9d0\\uc544\",\"\\uc88b\\uc544\\ud574\",\"Break_it\",\"\\uafc8\\uc5d0\",\"step\",\"\\uac00\\uc2b4\\uc18d\\uc5d0\",\"\\uae30\\ub2e4\\ub9ac\\ub294\",\"world\",\"\\ubc1b\\uc544\\uc918\",\"\\uc5c6\\uc8e0\",\"go_go\",\"\\ubcf8\",\"\\ub9e4\\ubc88\",\"\\ub208\\ubb3c\\ub3c4\",\"\\uc2ac\\ud514\",\"Be\",\"the_night\",\"Good_bye\",\"\\uba87\",\"\\ubbf8\\uce58\\ub3c4\\ub85d\",\"\\uc5b4\\uc81c\",\"\\uc9e7\\uc740\",\"\\ub0a8\\uaca8\\uc9c4\",\"\\uc55e\\uc73c\\ub85c\",\"\\uc918\\uc694\",\"\\ud574\\ubd10\\ub3c4\",\"in_your\",\"\\ubab0\\ub77c\\uc694\",\"\\uc774\\uc57c\\uae30\",\"One_Two\",\"\\ub450_\\ub208\",\"\\ube44\\uac00\",\"\\ub4a4\\uc5d0\",\"\\uc624_\\uc624\",\"\\ub530\\ub77c\\uc640\",\"\\uc624\\ub298\\ub530\\ub77c\",\"On\",\"\\uac00\\ub4dd\\ud788\",\"\\ud589\\ubcf5\\ud558\\uac8c\",\"\\ud558\\ub8e8\\uc885\\uc77c\",\"play\",\"\\ub450_\\uc190\\uc744\",\"\\ubbff\\uc744_\\uc218\",\"Girls\",\"stay\",\"\\ub0b4_\\ub9c8\\uc74c\\uc740\",\"\\ub530\\uc2a4\\ud55c\",\"\\ub0a0\\uc544\",\"\\ub458\\ub9cc\\uc758\",\"\\uc774\\ubcc4\\uc740\",\"\\ubbf8\\uce60_\\uac83\",\"Hey_Hey\",\"\\uc0dd\\uac01\\ud558\\uba74\",\"\\uc218\\ub3c4\",\"\\uc774_\\uc21c\\uac04\\uc744\",\"\\ud488\\uc5d0\",\"\\uc9c0\\ucf1c\",\"\\uc624\\ub294\",\"\\ud558\\uace0_\\uc2f6\\uc740\",\"\\ucd94\\uc5b5\\uc744\",\"\\ubcf4\\ub2c8\",\"\\uc6c3\\uc74c\",\"Cause_I\",\"\\ud558\\uc9c0_\\ub9c8\",\"\\uac16\\uace0_\\uc2f6\\uc5b4\",\"cause\",\"\\uc2f6\\uc5c8\\uc5b4\",\"\\uafc8\\ucc98\\ub7fc\",\"\\uc62c\",\"\\ucc98\\ub7fc\",\"say_goodbye\",\"Alright\",\"\\uc78a\\uc9c0\",\"\\uc11c\\ub85c\\uc758\",\"\\uadd3\\uac00\\uc5d0\",\"\\uc0ac\\uc2e4\\uc740\",\"\\uc9c0\\uae08\\uaecf\",\"\\uc6b0\\ub9ac_\\ub458\",\"my_mind\",\"yes\",\"\\uc870\\ucc28\",\"\\ubcf4\\ub0b4\",\"feel_so\",\"\\ubab8\\uc774\",\"\\uc0ac\\ub791\\ud574_\\uc0ac\\ub791\\ud574\",\"\\uac00\\uc9c8_\\uc218\",\"\\ub05d\",\"\\ub098_\\uc5b4\\ub5a1\\ud574\",\"\\ubbf8\\uce5c\",\"U_U\",\"\\uac00\\uc9c0\",\"beat\",\"\\uc788\\ub294\\uac78\",\"\\ub9e4\\uc77c_\\ub9e4\\uc77c\",\"\\uc870\\uae08\\ub9cc\",\"\\ub458\\uc774\\uc11c\",\"\\ud558\\ub2c8\",\"\\ub192\\uc774\",\"\\ubbf8\\uce58\\uaca0\\uc5b4\",\"come_back\",\"know_what\",\"\\uc788\\ub098\\uc694\",\"move\",\"\\uc911\",\"\\uc9c0\\uc6cc\",\"real\",\"are\",\"\\uc6d0\\ud55c\\ub2e4\\uba74\",\"Cause\",\"\\ub2c8_\\ub9d8\\uc744\",\"\\ub204\\uac00_\\ubb50\\ub798\\ub3c4\",\"keep\",\"\\ub2e4_\\uac19\\uc774\",\"Look_at\",\"L_O\",\"\\ub108\\ub97c_\\uc704\\ud55c\",\"\\uc606\\uc5d0\",\"\\ud798\\ub4e4\\uac8c\",\"\\uc5c6\\ub2e4\\uba74\",\"\\ud558\\ub098\\ub3c4\",\"\\ub193\\uace0\",\"Down\",\"\\ub0b4\\uacc1\\uc5d0\",\"\\ubab0\\ub77c\\ub3c4\",\"\\ub108\\ub97c_\\ud5a5\\ud55c\",\"\\ub098\\ub3c4_\\ubab0\\ub798\",\"\\uc5b4\\uca54_\\uc218\",\"\\ud568\\uaed8_\\ud560\",\"\\uc785\\uc220\\uc5d0\",\"\\ub0af\\uc120\",\"smile\",\"love_is\",\"\\ub9e1\\uaca8\",\"\\ubcfc\\uae4c\",\"true\",\"\\uc218\\uac00\",\"\\ub2e8\\uc9c0\",\"style\",\"\\uc7a1\\uc544\\uc918\",\"Get_up\",\"m\",\"This\",\"\\uc0ac\\ub791\\ud560_\\uc218\",\"\\uc678\\ub85c\\uc6b4\",\"\\ud560\\uac8c\",\"\\ub108\\uac00\",\"look_at\",\"\\uc788\\uc744\\uac8c\",\"\\uc54a\\uaca0\\uc5b4\",\"\\uc9c0\\ub098\\uac04\",\"\\uc9d1\\uc5d0\",\"\\uc9c0\\uae08\\uae4c\\uc9c0\",\"\\ud589\\ubcf5\\uc744\",\"\\uac00\\uc9c0\\ub9c8\",\"\\ub4e3\\uace0\",\"\\ub0b4\\ub824\",\"\\ub458\",\"\\ub4e4\\ub824\",\"\\uc7a0_\\ubabb\",\"\\ub9c8\\ub0e5\",\"\\uc6b0\\uc5f0\\ud788\",\"\\uac19\\uc740\\ub370\",\"\\uc544\\ud514\",\"\\ud6c4\\ud68c\",\"so_beautiful\",\"one_two\",\"leave_me\",\"my_lady\",\"\\uc788\\ub2e4\",\"\\ub9e4\\uc77c\\ub9e4\\uc77c\",\"\\ube44\\uce5c\",\"from\",\"\\uaf49\",\"\\uae30\\uc5b5\\uc744\",\"\\uc54c\\uace0_\\uc788\\uc5b4\",\"kiss_me\",\"\\ub208\\ubb3c\\uc740\",\"\\ub3cc\\uc544\\uac00\",\"\\uc0dd\\uac01\\uc740\",\"live\",\"\\uc0ac\\ub78c\\uc740\",\"\\ubc18\\uc9dd\\uc774\\ub294\",\"\\ubd99\\uc7a1\\uace0\",\"\\uac00\\uc790\",\"Go_Go\",\"\\ub9d0\\ud558\\uc9c0\",\"\\uc9c0\\uc6b8_\\uc218\",\"\\uadf8_\\uc790\\ub9ac\\uc5d0\",\"\\uc2dc\\uac04_\\uc18d\\uc5d0\",\"\\uac00\\uba74\",\"\\ub208\\uc744_\\uac10\\uace0\",\"\\uc544_\\uc544\",\"Boom\",\"\\ub098\\ubcf4\\ub2e4\",\"\\uc0b4_\\uc218\",\"\\ub108\\ub9cc_\\uc788\\uc73c\\uba74\",\"off\",\"\\uadf8\\ub7ec\\ub2c8\",\"\\ud55c\\ub9c8\\ub514\",\"\\uc54a\\uc744\\uac8c\",\"\\uc785\\uc220\\uc774\",\"\\ub4ef\\ud574\",\"Goodbye\",\"\\ub0b4\\uac8c\\ub294\",\"\\ub9d0\\ud558\\uace0\",\"\\ucc44\\ub85c\",\"\\ucc3e\\ub294\",\"\\ub0b4\\ub9d8\\uc744\",\"\\uc644\\ubcbd\\ud574\",\"\\ubc14\\ub78c\\uc774\",\"Beautiful\",\"\\ub9c8\\ub77c\",\"\\uace7\",\"\\uc88b\\uc544\\ud558\\ub294\",\"\\ubaa8\\ub978_\\ucc99\",\"\\ud754\\ub4e4\\ub9ac\\ub294\",\"\\ud639\\uc2dc\\ub098\",\"\\uc5b4\\ub450\\uc6b4\",\"\\uc218_\\uc788\\ub294\",\"\\ubabb\\ud558\\ub294\",\"\\uc804\\ud654\",\"\\uc228\",\"\\ub5a0\\ub098\\uac00\",\"light\",\"Hot\",\"\\ucc3e\\uc744_\\uc218\",\"\\ubb50\\ub77c\\uace0\",\"this_is\",\"\\uac08\",\"\\uc54a\\uc744\",\"\\uc774\\uc0c1\\ud574\",\"\\ub290\\uaef4\\uc9c0\\ub294\",\"sky\",\"\\ub9c8\\uc74c\\uc740\",\"\\ube5b\",\"what_s\",\"\\uc9c0\\uae08\\uc774\",\"Bye_Bye\",\"\\uac70\\ub9ac\",\"\\uc190\\uc774\",\"the_music\",\"\\uc190\\uc744_\\uc7a1\\uc544\",\"na\",\"\\ub9c8\\uc74c\\uc18d\\uc5d0\",\"\\ub9c8\\uc74c\\ub3c4\",\"\\uc544\\uc9c1\\uae4c\\uc9c0\",\"\\uc544\\uc774\",\"\\uc5b4\\ub9b0\",\"Know\",\"\\uae30\\ubd84\\uc774\",\"\\ub0a0\\uc544\\uac00\",\"pain\",\"show_you\",\"the_only\",\"\\uc27f\",\"\\ub0a8\\uc790\\ub2f5\\uac8c\",\"\\uac83\\uc740\",\"\\ud6c4\",\"\\uc65c_\\uc774\\ub9ac\",\"\\uc54c\\uba74\\uc11c\\ub3c4\",\"BABY\",\"\\uc644\\uc804\",\"\\uba4b\\ub300\\ub85c\",\"lonely\",\"\\ub2e4\\uac19\\uc774\",\"\\uc628\\uc885\\uc77c\",\"G\",\"Rock\",\"\\ub2f5\\ub2f5\\ud574\",\"\\ub108\\ub77c\\uba74\",\"\\ubb50\\ub4e0\",\"\\uc54c\\uace0_\\uc2f6\\uc5b4\",\"\\ud3c9\\uc0dd\",\"\\ub098\\ub9cc\\uc744\",\"\\ud55c\\ubc88_\\ub354\",\"\\ub0b4\\uac8c_\\ub3cc\\uc544\\uc640\",\"\\uc9c0\\ucf1c\\uc904\\uac8c\",\"Make_it\",\"\\uc804\\ubd80_\\ub2e4\",\"da\",\"\\ub2e4\\uc74c\",\"\\ub0b4\\uac8c_\\uc640\",\"\\uc5b4\\ub460\\uc774\",\"Bounce\",\"You_got\",\"\\ub208\\uc55e\\uc5d0\",\"\\ub0a0\\ub4e4\",\"Here\",\"\\uc124\\ub808\\ub294\",\"\\uc5c6\\uc5c8\\ub358\",\"\\uac70\\uc8e0\",\"\\uc800_\\ud558\\ub298\",\"\\uc6a9\\uae30\",\"\\ud145_\\ube48\",\"only_one\",\"\\uc774_\\uc138\\uc0c1\\uc5d0\",\"\\uc74c\",\"\\uc7a0\\uc774\",\"\\uafc8\\uc740\",\"Are_you\",\"have\",\"\\uc0c8\\ub86d\\uac8c\",\"\\uc5b4\\ub514\\ub85c\",\"YOU\",\"\\ubbf8\\uc18c\\ub97c\",\"\\uc9c0\\uae08\\uc758\",\"\\ud589\\ubcf5\\ud588\\ub358\",\"bounce\",\"\\ub0a8\\uc790\\uac00\",\"\\uc624\\uc624\",\"No_no\",\"\\uc774_\\ub290\\ub08c\",\"OH\",\"\\uba38\\ub9ac\\ubd80\\ud130_\\ubc1c\\ub05d\\uae4c\\uc9c0\",\"\\ud55c\\uc5c6\\uc774\",\"\\uc54c\\uc544\\uc694\",\"\\uc8fc\\uace0\",\"\\ud574\\ubd10\",\"\\ub354_\\ub192\\uc774\",\"\\ub0a8\\uc790\\ub294\",\"never_let\",\"\\ub0a0_\\uc548\\uc544\\uc918\",\"\\uac00\\uc838\\uac00\",\"Sorry\",\"\\uac08_\\uc218\",\"\\uadf8\\ub9ac\\uc6b4\",\"\\uc5b4\\uc0c9\\ud55c\",\"\\uc880\\ub354\",\"\\ubc14\\ubcf4_\\uac19\\uc740\",\"\\uc5b4\\ub514\\uc11c\",\"\\ud558\\ub358\",\"\\uc6b0\\ub9ac_\\uc0ac\\uc774\",\"\\ub108_\\uc544\\ub2c8\\uba74\",\"\\ubabb\\ud588\\uc5b4\",\"the_world\",\"\\uc0dd\\uac01\\uc744\",\"better\",\"\\ud55c_\\uac78\\uc74c\",\"eyes\",\"\\ubc14\\ub78c\\uc5d0\",\"\\ube60\\uc9c4\",\"\\uc5b4\\ub51c\",\"\\ubb54\\ub370\",\"Ready\",\"Ma\",\"\\ub108\\uc5d0\\uac90\",\"\\ub9d0\\ud574\\ub3c4\",\"\\ub2ee\\uc740\",\"something\",\"want_to\",\"\\ub05d\\uc744\",\"\\uc544\\ubb34\\ub3c4_\\ubaa8\\ub974\\uac8c\",\"\\ubd80\\ub4dc\\ub7ec\\uc6b4\",\"\\uc544\\ub2c8\\ub77c\\uace0\",\"\\ub9cc\\ub0a0\",\"\\ud587\\uc0b4\\uc774\",\"sweet\",\"\\ub5a0\\ub098\\uac04\",\"\\ud558\\uc796\\uc544\",\"Here_we\",\"\\uac19\\ub358\",\"\\uc654\\uc5b4\",\"\\uc544\\ud514\\uc744\",\"I_ve\",\"your_mind\",\"No_more\",\"When_I\",\"\\ub4e4\\uace0\",\"\\uae38\\uc774\",\"\\ub2e4\\uac00\\uc624\\ub294\",\"\\ud588\\ub294\\ub370\",\"\\ub108\\ub97c_\\ud5a5\\ud574\",\"\\ud22c\\uba85\\ud55c\",\"some\",\"\\uac70\\uce5c\",\"\\uc870\\uc6a9\\ud788\",\"\\uc5c6\\uc5b4\\uc11c\",\"\\uadf8\\ub7ac\\uc5b4\",\"I_believe\",\"be_with\",\"\\ub0b4_\\ub208\\uc5d4\",\"\\uc624\\ub7ab\\ub3d9\\uc548\",\"get_down\",\"re\",\"\\uc0c8\",\"\\ud558\\ub8e8\\ub3c4\",\"\\uac70\\ub77c\",\"\\uaca8\\uc6b8\",\"\\uac74\\ub370\",\"\\ub098\\ud0c0\\ub098\",\"Wanna\",\"\\uc0b4\",\"\\uae30\\ub2e4\\ub9b0\",\"\\uaebc\\uc57c\",\"\\ub108\\ub77c\\uc11c\",\"won_t\",\"so_sorry\",\"\\ubc1d\\uc740\",\"\\ub54c\\ub85c\\ub294\",\"\\uc788\\ub098\",\"\\uc9c0\\ub098\\uba74\",\"falling_in\",\"I_M\",\"\\ub0b4\\uc77c\\uc774\",\"\\uc54c\\uc9c0\",\"\\uc54a\\uc544\\uc694\",\"goodbye\",\"\\uc5bc\\uad74\\uc774\",\"\\uc54c\\uae4c\",\"\\uc678\\uccd0\",\"\\ubc14\\ub77c\\ub294\",\"\\ud589\\ubcf5\",\"\\uadf8\\ub7ec\\uba74\",\"lover\",\"\\uadf8\\ub798\\uc694\",\"\\ubaa8\\ub4e0\\uac78_\\ub2e4\",\"\\ub0a0\\uc544\\uc62c\\ub77c\",\"\\uc0c8\\ud558\\uc580\",\"\\uadf8\\ub54c\\ub85c\",\"\\ube60\\uc838\\ub4e4\\uc5b4\",\"\\ub124_\\uc0dd\\uac01\\uc5d0\",\"\\ucc98\\uc74c_\\ubcf8\",\"\\ub098\\uba74\",\"ride\",\"\\ubcf4\\uba74\\uc11c\",\"\\uc720\\uc77c\\ud55c\",\"too\",\"\\uc774\\uc81c\\uc640\",\"\\uc548\\uc544\\uc918\",\"\\ub0b4\\uc548\\uc5d0\",\"\\ub2e4\\uc2dc_\\ub3cc\\uc544\\uc640\",\"\\ub108_\\ubc16\\uc5d0\",\"\\ubcf4\\uace0_\\uc2f6\\uc740\",\"\\ub9de\\uc544\",\"\\ub108\\ub791\",\"hold\",\"have_to\",\"\\uc8fd\\uc5b4\\ub3c4\",\"\\ubcf4\\ub0b8\",\"\\uadf8\\ub0a0\",\"\\ub418\\uba74\",\"\\ubbff\\uc5b4\\uc694\",\"Ha\",\"\\ubab0\\ub790\\ub358\",\"\\uc54a\\ub3c4\\ub85d\",\"\\ub118\\uc5b4\",\"\\ub04c\\ub824\",\"Fly\",\"I_hate\",\"Step\",\"\\ub0b4\\uac00_\\uba3c\\uc800\",\"\\uba40\\uc5b4\\uc9c0\\ub294\",\"\\uc5c6\\uaca0\\uc9c0\",\"\\uace0\\ubc31\",\"\\ub5a0\\ub098\\ub294\",\"Christmas\",\"\\uc544\\ub984\\ub2f5\\uac8c\",\"sexy\",\"\\ubd88\\ub7ec\\uc918\",\"Kiss_me\",\"V_E\",\"\\uc0b6\\uc744\",\"\\uc549\\uc544\",\"\\uc0b4\\uace0\",\"\\ud558\\uba70\",\"\\uc54c\\uac8c\",\"\\uadf8\\uac78\",\"\\ub9d0\\ud560\\uac8c\",\"\\uc18d\\uc73c\\ub85c\",\"\\uc544\\uce68\",\"\\ubbf8\\uce5c_\\ub4ef\\uc774\",\"\\uadf8\\ub7f0\\ub370\",\"\\uac04\\ub2e4\",\"Cuz\",\"\\ub2e4\\ub978_\\uc0ac\\ub78c\",\"\\ucc3e\\uc544\\uc640\",\"\\ub9d0\\ud560_\\uc218\",\"\\uba40\\ub9ac\\uc11c\",\"\\uad73\\uc774\",\"\\uc900\\ube44\",\"hands\",\"Hey_hey\",\"\\ub9d1\\uc740\",\"\\ubb50\\ud574\",\"\\uc6d0\\ud558\\uace0\",\"\\ub0b4\\uac8c_\\ub9d0\\ud574\\uc918\",\"\\ubcfc\\ub798\",\"here_we\",\"\\ub5a8\\ub824\",\"\\ub098\\ub791\",\"thank_you\",\"\\ubbf8\\ub798\",\"\\uc9dc\\ub9bf\\ud55c\",\"\\ub4e4\\ub9ac\\ub2c8\",\"\\uae30\\uc5b5\\ud574\\uc918\",\"\\uc78a\\uc9c0_\\ubabb\\ud574\",\"\\ubbf8\\uc18c\\ub85c\",\"\\uc18d\\uc744\",\"\\ub0a8\\uc794\",\"\\ud558\\ub098\\ub9cc\",\"\\uc5ec\\uae30\\uc800\\uae30\",\"\\uae30\\ubd84_\\uc88b\\uc740\",\"\\uc544\\ubb34\\ub807\\uc9c0_\\uc54a\\uc740\",\"\\ubc14\\ub2e4\",\"Run\",\"Woo_Woo\",\"\\uc548\\uc544\",\"\\ucc3e\\uace0\",\"\\uc774_\\ubc24\\uc744\",\"\\uacb0\\uad6d\\uc5d4\",\"\\uafc8\\uc5d0\\uc11c\",\"\\ub420_\\uc218\",\"\\uba3c\",\"\\ubc14\\ub77c\\ubcf4\\uace0\",\"P\",\"\\ub204\\uad74\",\"\\ub354_\\uac00\\uae4c\\uc774\",\"\\uc54c\\uc544\\uc918\",\"\\uac77\\ub294\",\"paradise\",\"come_come\",\"know_that\",\"\\ub108\\ub9cc_\\ubcf4\\uc5ec\",\"\\uc5bc\\uad74\\uc744\",\"\\ud588\\uc9c0\\ub9cc\",\"\\uc6b8\\uc5b4\",\"\\uc2f6\\uc9c0\\ub9cc\",\"\\ubbf8\\uc6cc\",\"\\ud754\\ud55c\",\"\\ub05d\\uc774_\\uc5c6\\ub294\",\"\\uc6c0\\uc9c1\\uc5ec\",\"\\uadf8\\ub7f4\",\"\\uc544\\ub9c8\\ub3c4\",\"\\uc5b8\\uc81c\",\"\\uc18d\\uc758\",\"\\ub0b4_\\uacc1\\uc744\",\"air\",\"\\uac71\\uc815\",\"\\uc774\\uc81c\\uc11c\\uc57c\",\"\\ucc38\\uc744_\\uc218\",\"\\ub208\\ubd80\\uc154\",\"\\uc790\\uc720\\ub86d\\uac8c\",\"\\ub208\\ubb3c\\ub9cc\",\"\\uba39\\uace0\",\"\\uc2e0\\ub098\\uac8c\",\"\\uc2ac\\ud514\\uc744\",\"\\uba38\\ub9ac\\uac00\",\"\\uc774\\uc720\\uac00\",\"\\ubd80\\ub974\\ub294\",\"my_everything\",\"How\",\"Come_On\",\"one_more\",\"Always\",\"e\",\"\\ucc98\\uc74c_\\ub9cc\\ub09c\",\"\\uc788\\uc5c8\\uc9c0\",\"\\ub0b4_\\uc2ec\\uc7a5\\uc740\",\"\\uc0ac\\ub78c\\uc744\",\"\\ub0a0_\\ub450\\uace0\",\"\\ud588\\uc9c0\",\"\\ud55c\\ubc88\\ub3c4\",\"\\uc0ac\\ub791\\uc544\",\"\\uc5b4\\ub514\\uc5d0\",\"\\uc774\\ub798\",\"\\ubd80\\ub514\",\"E\",\"\\uc11c\",\"\\ubc1d\\uac8c\",\"bad\",\"\\uadf8\\ub300\\ub3c4\",\"\\uc6b8\\ub824\",\"\\ub3cc\\uc544\\uc640\\uc918\",\"\\uc544\\uc774\\ucc98\\ub7fc\",\"\\uc624\\ube60\",\"really\",\"Got\",\"\\ubaa8\\uc2b5\\uc73c\\ub85c\",\"\\ub4a4\",\"\\ubc14\\ub77c\",\"I_won\",\"In\",\"\\ub0b4\\ub9ac\\ub294\",\"\\uc5ec\\uc790\\uac00\",\"\\ub098\\uc11c\",\"\\ube44\\ubc00\",\"\\ub208\\ube5b\\uc5d0\",\"on_and\",\"\\uc5c6\\ub124\",\"\\uc608\\uc058\\uac8c\",\"\\uc0ac\\ub78c\\ub4e4\\uc774\",\"\\ub9d0\\uc5d0\",\"\\ud5a5\\uae30\\uac00\",\"gotta\",\"\\uc790\\uc2e0\\uc774\",\"\\uc678\\ub85c\\uc6cc\",\"\\uac04\",\"\\ub208\\ubb3c\\uc5d0\",\"\\ud798\\uaecf\",\"ha_ha\",\"Call_me\",\"nobody\",\"\\uc0ac\\ub78c\\ub4e4\\uc740\",\"\\ub54c\\uac00\",\"\\uafc8\\uc18d\\uc5d0\",\"control\",\"when\",\"hold_me\",\"\\ub9d0\\ub9cc\",\"\\uc5c6\\uc73c\\ub2c8\\uae4c\",\"touch_me\",\"\\uc120\\ubb3c\",\"loving_you\",\"\\ub450_\\ub208\\uc774\",\"\\uc6b0\\ub9ac_\\ub458\\ub9cc\\uc758\",\"\\ub0b4_\\ub9d8\\ub300\\ub85c\",\"ok\",\"\\uc5c6\\ub2c8\",\"\\uac10\\uc815\",\"go_away\",\"\\uc624\\ub79c\",\"\\ub098\\uc758_\\ub9c8\\uc74c\\uc744\",\"\\uc2dc\\uac04\\ub3c4\",\"\\ud654\\ub824\\ud55c\",\"\\ub05d\\ub0ac\\uc5b4\",\"\\ud558\\ub098\\ub85c\",\"\\ub0a0\\uc5d0\",\"\\ud558\\ub8e8\\ub9cc\",\"\\ub5a0\\ub098\\uc9c0\\ub9c8\",\"\\uc774\\ub9ac\",\"\\ubd88\\uc548\\ud574\",\"\\ud560\\ub798\",\"\\ub208\\uc774_\\ubd80\\uc154\",\"\\ub2ec\",\"my_friend\",\"will\",\"Stay\",\"\\ubabb\\ub41c\",\"\\uc804\\ud654\\ub97c\",\"\\ub178\\ub798\\ub97c\",\"\\ub108\\uc640\\ub098\",\"\\ubb38\\ub4dd\",\"\\ubaa8\\uc544\",\"Cuz_I\",\"\\ub124_\\ubaa8\\uc2b5\",\"\\uc21c\\uac04\\uc774\",\"\\uac08\\uc218\\ub85d\",\"listen\",\"\\uadf8\\ub140\\uc5d0\\uac8c\",\"\\ube44\\ucdb0\",\"\\uae30\\uc5b5_\\uc18d\\uc5d0\",\"\\ub6f0\\ub294\",\"\\uc57d\\uc18d\\ud560\\uac8c\",\"\\ub0b4\\ub824\\uc640\",\"your_body\",\"honey\",\"\\ub124\\uac00_\\ud544\\uc694\\ud574\",\"Kiss\",\"\\uc218_\\uc788\\ub2e4\\uba74\",\"\\uc6b0\\ub294\",\"\\ubc14\\ubcf4\\uc57c\",\"\\uadf8\\ub300\\uc640_\\ud568\\uaed8\",\"\\uadf8\\ub9ac\\uc6c0\",\"\\uc2f6\\uc5b4\\uc694\",\"\\ub9d0\\ud558\\ub294\",\"\\ub9d0\\ub4e4\",\"\\uc0ac\\ub791\\ud55c\\ub2e4\\ub294\",\"\\uaca8\\uc6b0\",\"\\uc6c3\\uc74c\\uc774\",\"\\ub179\\uc544\",\"\\uc2dc\\uac04\\ub4e4\\uc774\",\"\\uc78a\\uc5b4\\ubc84\\ub824\",\"\\ubc24\\uc0c8\\ub3c4\\ub85d\",\"\\ubcf4\\uace0\\uc2f6\\uc5b4\",\"\\ub108\\ub85c_\\uc778\\ud574\",\"chance\",\"we_are\",\"tight\",\"hey_hey\",\"\\uc54a\\uc744_\\uac70\\uc57c\",\"run\",\"\\uc2dc\\uc791\",\"\\ub300\",\"\\uc5b8\\uc81c\\ucbe4\",\"\\ub05d\\uc5c6\\ub294\",\"\\ub204\\uad6c\\ub098\",\"\\uc54a\\ub2c8\",\"\\uc6b0\\ub9ac\\ub9cc\\uc758\",\"\\uc81c\\ub300\\ub85c\",\"\\uc5ec\\uc790\\ub294\",\"\\ucc28\",\"\\uc785\\uc220\\uc744\",\"\\uc5ec\\uc794\",\"\\uac78_\\uc54c\\uc544\",\"alone\",\"\\ub188\",\"Uh_uh\",\"music\",\"\\uacf3\\uc73c\\ub85c\",\"\\uae30\\uc5b5\\uc5d0\",\"\\ubabb\\ub09c\",\"\\uc815\\uc2e0\",\"\\uc598\\uae30\\ub97c\",\"\\uba4d\\ud558\\ub2c8\",\"\\uae30\\ub2e4\\ub9ac\\uace0\",\"or\",\"\\ud658\\ud558\\uac8c\",\"\\uc990\\uaca8\",\"hoo\",\"da_da\",\"\\ubcc0\\ud574\",\"\\ub3cc\\ub824\",\"call\",\"\\uba40\\uc5b4\\uc838\",\"\\ub9d0\\ud22c\",\"\\uc911\\uc5d0\",\"show_me\",\"\\ube68\\uac04\",\"\\ub208\\ube5b\\uc73c\\ub85c\",\"back_to\",\"LOVE\",\"care\",\"Right_now\",\"Three\",\"\\ud558\\ub098\\uc758\",\"\\uad1c\\ucc2e\\uc740\",\"\\ub2f9\\uc2e0\\uc758\",\"\\uc0c1\\ucc98\\ub97c\",\"\\uac08\\ub798\",\"\\uc0b4\\uc544\\uac00\\ub294\",\"\\ub0b4\\uac8c_\\ub9d0\\ud574\",\"\\ub9cc\\ub4dc\\ub294\",\"ye_ye\",\"\\ud639\\uc2dc\\ub77c\\ub3c4\",\"\\ub108\\ubfd0\\uc774\\uc57c\",\"\\ud55c\\ucc38\\uc744\",\"\\uc3df\\uc544\\uc9c0\\ub294\",\"\\ub108_\\ud558\\ub098\\uba74\",\"V\",\"\\ud750\\ub974\\uace0\",\"free\",\"\\uc2dc\\uc120\\uc744\",\"\\uc18c\\uc911\\ud588\\ub358\",\"I_wish\",\"\\uc560\\ud0c0\\uac8c\",\"\\ubb34\\ub108\\uc838\",\"t_care\",\"\\ub0b4_\\uac00\\uc2b4\\uc740\",\"\\uadf8\\ub9cc\\ud07c\",\"\\ud655\",\"\\ub208\\uce58\",\"\\uac78\\uc694\",\"\\ud55c_\\uc0ac\\ub78c\",\"\\uc11c\\ud230\",\"\\uadf8\\ub9cc\\ud574\",\"\\uac04\\uc808\\ud788\",\"i_love\",\"story\",\"In_my\",\"Na_na\",\"\\uc788\\uc73c\\ub2c8\",\"\\uc0ac\\ub791\\uc2a4\\ub7f0\",\"\\uad1c\\ucc2e\\uc544\\uc694\",\"we_can\",\"That\",\"\\uc62c\\ub77c\",\"\\uba5c\\ub85c\\ub514\",\"\\uc548_\\ud574\\ub3c4\",\"\\ub0b4\\ub9b0\",\"\\ub4a4\\ub3cc\\uc544\",\"Listen\",\"was\",\"\\ud574\\uac00\",\"\\uc544\\uce68\\uc774\",\"\\ud544\\uc694\\uc5c6\\uc5b4\",\"\\ub098\\ub098\\ub098\",\"\\uadf8\\ub7ec\\ub2e4\",\"\\ub0b4\\uc77c\\ub3c4\",\"\\ud558\\uc580_\\ub208\\uc774\",\"\\ub9d0\\ud558\\uc9c0_\\uc54a\\uc544\\ub3c4\",\"\\uc774\\ub7ec\\ub2e4\",\"\\uc5ec\\ub984\",\"\\uac07\\ud600\",\"\\ub9d0\\ub3c4_\\uc548\",\"friend\",\"wait\",\"Ooh_Ooh\",\"\\ud558\\uace0_\\uc2f6\\uc5b4\",\"\\uce5c\\uad6c\\ub4e4\",\"\\uc194\\uc9c1\\ud558\\uac8c\",\"about_you\",\"\\ub5a0\\ub098\\uace0\",\"\\ub05d\\uc740\",\"think\",\"\\ud754\\ub4e4\\ub824\",\"\\uc368\",\"\\uc88b\\uc544\\uc694\",\"of_my\",\"\\uc5b8\\uc81c\\ub4e0\",\"missing_you\",\"out_of\",\"\\uc624\\ub298\\ubd80\\ud130\",\"\\uaf43\",\"\\ubcf4\\ub0b4\\ub294\",\"\\ub124_\\uc55e\\uc5d0\",\"\\uace0\\uac1c\\ub97c\",\"\\uc218\\uc90d\\uc740\",\"\\ucc98\\uc74c\\uc73c\\ub85c\",\"\\uc774\\ubcc4\\uc758\",\"believe\",\"D\",\"\\uace0\\ubbfc\",\"wow_wow\",\"\\uc644\\uc804\\ud788\",\"\\ub9cc\\ub098\\uba74\",\"break_it\",\"\\uc138\\uc0c1\\uc758\",\"\\uc5b4\\ub5bb\\uac8c\\ub4e0\",\"wow\",\"\\ubd84\\uba85\",\"all_day\",\"No_way\",\"Right\",\"Like_this\",\"do_do\",\"\\ud0dc\\uc591\",\"\\ucee4\\ub2e4\\ub780\",\"\\uc804\",\"\\uc624\\ud788\\ub824\",\"\\ub098\\uac00\",\"\\uac77\\uace0\",\"\\uc6b0\\ub9ac\\uc5d0\\uac8c\",\"\\uae30\\ub3c4\",\"\\uc0b6\\uc740\",\"\\uac70\\ub9ac\\ub97c\",\"\\uac00\\uc9c0\\uace0\",\"worry\",\"\\ubc1c\",\"\\uc7a0\\uc2dc\\ub9cc\",\"Want_you\",\"\\ud754\\ub4e4\\uc5b4\\ubd10\",\"\\ubb54\\uc9c0\",\"\\uac70\\ub77c\\uba74\",\"\\ub208\\ubb3c\\uc774_\\ud758\\ub7ec\",\"Light\",\"go_back\",\"La\",\"Bo_Peep\",\"\\uba4b\\uc9c0\\uac8c\",\"\\uc54c\\uba74\\uc11c\",\"\\uc548\\uace0\\uc11c\",\"\\ub290\\ub07c\\ub294\",\"three\",\"\\uac00\\uc2b4\\uc740\",\"\\ub4a4\\uc5d0\\uc11c\",\"Time\",\"\\uc7a1\\uc744_\\uc218\",\"\\ud30c\\ub3c4\",\"\\uc5bc\\uad74\\uc5d0\",\"\\uc78a\\uc9c0_\\ubabb\\ud560\",\"\\ubaa8\\ub97c\",\"\\ub420_\\uac70\\uc57c\",\"\\uc9c0\\uaca8\\uc6cc\",\"\\uc5b4\\uc9c0\\ub7ec\\uc6cc\",\"\\uac00\\ub4dd\\ud574\",\"\\ube5b\\ub098\",\"We_ll\",\"\\uc0dd\\uac01\\ud574\\ubd10\",\"\\uc0dd\\uac01\\ud588\\uc5b4\",\"\\ub108\\uc5d0\",\"\\uc21c\\uac04\\uc744\",\"\\ub0b4\\uac90_\\ub108\\ubb34\",\"\\uc5ec\\uae30\\uc5d0\",\"ho\",\"\\uac10\\uc2f8\",\"\\ubcf4\\ub0b4\\uace0\",\"\\uc798\\ubabb\",\"\\ubbf8\\ub828\",\"\\ud574\\uc904\\uac8c\",\"\\uadf8\\uc758\",\"\\uc775\\uc219\\ud55c\",\"\\ud558\\ub098\\ubfd0\\uc778\",\"\\uc0c1\\ucc98\\uac00\",\"going\",\"slow\",\"talk\",\"Get_down\",\"\\ube59\\uae00\\ube59\\uae00\",\"so_fine\",\"LA_LA\",\"no_way\",\"BOY\",\"bad_girl\",\"\\uc9c0\\uae08_\\uc774\\ub300\\ub85c\",\"\\uc11c_\\uc788\\ub294\",\"\\ucde8\\ud574\",\"\\uc774_\\uc21c\\uac04\\uc774\",\"\\uadf8_\\ubb34\\uc5c7\\ub3c4\",\"\\ubd88\\uc744\",\"\\uc790\\ub9ac\",\"\\ub728\\uac70\\uc6cc\",\"\\ubc97\\uc5b4\\ub0a0_\\uc218\",\"\\uae30\\uc5b5\\uc740\",\"\\ucda4\\uc744_\\ucdb0\",\"\\ub5a0\\ub0a0\",\"\\uc77c\\ub2e8\",\"\\uc778\\uc0dd\",\"\\uac00\\ub3c4\",\"\\ubd84\\uc704\\uae30\",\"\\uae4c\\ub9cc\",\"\\uac19\\uc544\\uc11c\",\"\\ub108\\ub3c4_\\ub098\\uc640\",\"look\",\"\\ub108\\ub9cc\\uc740\",\"hello\",\"Wake_up\",\"Da_Da\",\"\\uc788\\uc744_\\ub54c\",\"\\ubaa8\\ub974\\uc9c0\",\"\\ub124_\\uc606\\uc5d0\",\"\\uc804\\ud600\",\"\\uc790_\\uc774\\uc81c\",\"\\ub9cc\\ub0a0_\\uc218\",\"\\ub9c8\\uc74c\\uc73c\\ub85c\",\"\\uce5c\\uad6c\\uac00\",\"\\ub9d0\\uc5c6\\uc774\",\"nothing\",\"\\uc5c6\\uc744\",\"\\uc54a\\uc744\\uae4c\",\"thing\",\"\\uac00\\uc838\",\"\\uadf8\\ub140\\uc640\",\"\\ub2e4\\uac00\\uc640\\uc11c\",\"home\",\"\\uc88b\\uc740_\\uac78\",\"\\ub178\\ub798\\uac00\",\"minute\",\"\\ub55c\\uc5d0\",\"\\uac08\\uac8c\",\"who\",\"down_down\",\"waiting_for\",\"\\ub0b4_\\uc2ec\\uc7a5\\uc744\",\"du_du\",\"Dumb_Dumb\",\"\\ub208\\ubd80\\uc2dc\\uac8c\",\"\\ubcf4\\uc9c0\",\"\\uba38\\ub9bf\\uc18d\\uc5d0\",\"\\uac80\\uc740\",\"\\ub420\\uae4c\",\"\\ub2e4\\uac00\\uc628\",\"\\ubaa8\\uc5ec\",\"\\uc0b6\\uc774\",\"\\ub9f4\\ub3cc\\uc544\",\"\\uac19\\uc560\",\"I_was\",\"\\uc774\\uae30\\uc801\\uc778\",\"\\ubabb_\\ucc38\\uaca0\\uc5b4\",\"All_night\",\"\\uae68\\uc6cc\",\"\\uc870\\uadf8\\ub9cc\",\"\\uafc8\\uc744_\\uafb8\\ub294\",\"\\uc2ac\\ud514\\uc774\",\"\\uc5b4\\uca4c\\ub098\",\"\\ubc18\\ubcf5\\ub418\\ub294\",\"\\uc74c\\uc545\\uc774\",\"\\ud798\\ub4e4\\uc5b4\\ub3c4\",\"\\uc0ac\\ub791\\ud558\\uac8c\",\"\\uc9c0\\ucf1c\\uc904\",\"\\ub098\\ub97c_\\ubcf4\\uba70\",\"\\ubaa9\\uc18c\\ub9ac\\ub85c\",\"\\ub9cc\\ub098\\uace0\",\"\\ub9d8\\uc18d\\uc5d0\",\"\\ubcf4\\ub358\",\"\\ud06c\\ub9ac\\uc2a4\\ub9c8\\uc2a4\",\"\\ub0a0_\\ubbf8\\uce58\\uac8c\",\"\\uc9c0\\ucf1c\\ubd10\",\"lie\",\"\\uc6b0_\\uc6b0\",\"Heart\",\"one_N\",\"\\ud658\\ud55c\",\"\\uadc0\\uc5ec\\uc6b4\",\"\\uc788\\ub124\",\"\\uc7a0\\uc744\",\"Honey\",\"\\uc870\\uc2ec\\uc2a4\\ub808\",\"\\uc218\\ub9cc_\\uc788\\ub2e4\\uba74\",\"\\ubbff\\uc9c0\",\"\\uc228\\uae38_\\uc218\",\"\\uc0b4\\uc544\\uac08\",\"\\ub108\\ub97c_\\ucc3e\\uc544\",\"\\uc11c\\uc11c\",\"\\ube60\\ub974\\uac8c\",\"around\",\"\\ub108\\uc5d0\\uac8c\\ub9cc\",\"\\ub204\\uac00_\\ubd10\\ub3c4\",\"Na\",\"\\ub098_\\ud640\\ub85c\",\"\\ub108\\ubc16\\uc5d0\",\"\\ub9c8\\uc74c\\ub9cc\",\"\\ub0a0\\uc744\",\"game\",\"\\uc6a9\\uae30\\ub97c\",\"l\",\"\\ud130\\uc9c8_\\uac83\",\"follow_me\",\"\\ub2f5\\ub2f5\\ud55c\",\"\\uadf8\\ub798\\uc57c\",\"\\uac70\\uc608\\uc694\",\"\\uac04\\uc808\\ud55c\",\"All_right\",\"\\ub9d0\\uc790\",\"Please_don\",\"\\uc788\\uae30\\uc5d0\",\"\\uc21c\\uac04\\ubd80\\ud130\",\"feel_good\",\"\\uc78a\\uc9c0\\ub9c8\",\"\\ub0a0_\\ubc14\\ub77c\\ubcf4\\ub294\",\"\\ub098\\ub780\",\"put\",\"\\uc774\\uac70\",\"\\uaebc\\ub0b4\",\"\\uc544\\ubb34_\\uac83\\ub3c4\",\"N\",\"\\ud5c8\\ub098\",\"\\uc704\",\"\\uc774_\\ub178\\ub798\",\"n\",\"\\ub3cc\\uc774\\ud0ac_\\uc218\",\"\\uad6c\\ub984\",\"\\ud0c0\\ub294\",\"\\uc11c\\ub458\\ub7ec\",\"With\",\"\\uc544\\ucc14\\ud55c\",\"\\uc65c\\uc774\\ub798\",\"\\uc9c0\\ud0ac\\uac8c\",\"think_about\",\"\\uc6d0\\ud558\\uba74\",\"\\ubb50\\ub2c8\",\"OH_OH\",\"my_way\"],\"word\":[\"br\",\"\\ub09c\",\"\\ub0b4\",\"you\",\"\\ub0a0\",\"\\ub110\",\"\\ub0b4\\uac00\",\"\\ub098\",\"\\ub10c\",\"\\uadf8\",\"I\",\"\\ub098\\ub97c\",\"\\ub108\\uc758\",\"\\ub108\\ub97c\",\"Oh\",\"\\ub2e4\",\"\\ub108\",\"\\ub098\\uc758\",\"love\",\"\\ub354\",\"\\ub610\",\"baby\",\"me\",\"\\ub0b4\\uac8c\",\"I_m\",\"\\ub2e4\\uc2dc\",\"\\uc5c6\\uc5b4\",\"\\ub2c8\\uac00\",\"\\uc774\\uc820\",\"\\uc65c\",\"\\ub098\\ub294\",\"oh\",\"Baby\",\"\\uadf8\\ub300\",\"\\ub108\\ubb34\",\"\\uc6b0\\ub9ac\",\"\\uc774\",\"\\ub124\",\"\\uac78\",\"\\uc5c6\\ub294\",\"\\uc774\\uc81c\",\"\\uc788\\uc5b4\",\"\\uc774\\ub807\\uac8c\",\"\\ud574\",\"\\ub124\\uac00\",\"girl\",\"it\",\"\\ubaa8\\ub450\",\"my\",\"\\uc9c0\\uae08\",\"You\",\"\\ub2c8\",\"\\uc815\\ub9d0\",\"\\ub108\\ub294\",\"\\uc0ac\\ub791\",\"\\uac70\\uc57c\",\"go\",\"\\ubd10\",\"and\",\"\\ub108\\uc640\",\"yeah\",\"\\uc0ac\\ub791\\uc744\",\"the\",\"oh_oh\",\"\\ub9d0\",\"\\uadf8\\ub798\",\"up\",\"to\",\"Yeah\",\"\\uadf8\\ub807\\uac8c\",\"\\uc5b8\\uc81c\\ub098\",\"\\ub108\\uc5d0\\uac8c\",\"\\uc788\\ub294\",\"\\uc774\\ub7f0\",\"\\uc6b0\\ub9b0\",\"\\uc790\\uafb8\",\"know\",\"\\uc0ac\\ub791\\ud574\",\"\\ud56d\\uc0c1\",\"\\uadf8\\ub0e5\",\"\\uc880\",\"\\ub3fc\",\"\\uadf8\\ub7f0\",\"\\ubab0\\ub77c\",\"\\ud558\\uc9c0\\ub9cc\",\"a\",\"\\uac19\\uc740\",\"\\uac74\",\"\\uc601\\uc6d0\\ud788\",\"It_s\",\"Don_t\",\"\\ub0b4_\\ub9d8\",\"\\ud568\\uaed8\",\"\\uc544\\uc9c1\",\"\\ud55c\",\"\\uc774\\uc81c\\ub294\",\"\\uc81c\\ubc1c\",\"now\",\"U\",\"Let_s\",\"\\ub9e4\\uc77c\",\"Hey\",\"\\uc54a\\uc544\",\"on\",\"\\ub098\\ub3c4\",\"\\ub9c8\\uc74c\",\"\\uc88b\\uc544\",\"\\ub124\\uac8c\",\"don_t\",\"like\",\"be\",\"\\uc774\\ubbf8\",\"\\uc548\",\"\\ub54c\",\"\\uc0ac\\ub791\\uc774\",\"\\uac19\\uc544\",\"\\ub0b4_\\ub9d8\\uc744\",\"\\uac8c\",\"Love\",\"\\uc5c6\\uc774\",\"\\ub2e4\\ub978\",\"I_ll\",\"say\",\"\\uc18d\\uc5d0\",\"\\ub298\",\"\\ubaa8\\ub4e0\",\"\\uc0ac\\ub78c\",\"I_wanna\",\"\\uc5b4\\ub5bb\\uac8c\",\"\\ub108\\ub9cc\",\"\\uc624\",\"boy\",\"\\uaf2d\",\"\\uc0ac\\ub791\\uc740\",\"do\",\"\\ubabb\",\"Girl\",\"You_re\",\"\\uc624\\ub298\",\"\\ub9d8\",\"\\uc2f6\\uc5b4\",\"\\uc544\\uc9c1\\ub3c4\",\"I_don\",\"that\",\"\\ub098\\uc5d0\\uac8c\",\"I_can\",\"no\",\"\\ub0b4\\uac90\",\"Oh_Oh\",\"\\uadf8\\ub300\\uac00\",\"\\ub9c8\",\"\\uc798\",\"\\uadf8\\ub308\",\"\\uc624\\ub298\\ub3c4\",\"\\ub9ce\\uc774\",\"\\uc21c\\uac04\",\"\\ud574\\ub3c4\",\"t\",\"feel\",\"\\uc800\",\"My\",\"\\ub354_\\uc774\\uc0c1\",\"\\uac83_\\uac19\\uc544\",\"stop\",\"my_love\",\"\\uacc4\\uc18d\",\"\\uadf8\\uc800\",\"\\ubaa8\\uc2b5\",\"I_want\",\"So\",\"\\ub108\\ub3c4\",\"\\ub108\\ubb34\\ub098\",\"just\",\"\\uc774\\ub300\\ub85c\",\"\\ud558\\ub294\",\"\\uac19\\uc774\",\"Just\",\"\\uc54c\\uc544\",\"\\ubcf4\\uace0\",\"is\",\"all\",\"it_s\",\"\\uc544\\ub984\\ub2e4\\uc6b4\",\"your\",\"\\uc2dc\\uac04\\uc774\",\"\\ud63c\\uc790\",\"\\ud558\\ub098\",\"\\ub9c8\\uce58\",\"\\uac83\",\"\\uc788\\uac8c\",\"time\",\"\\ubc14\\ub85c\",\"down\",\"so\",\"\\uc791\\uc740\",\"\\ubaa8\\ub4e0_\\uac78\",\"\\uc2dc\\uac04\",\"\\ub9d0\\uace0\",\"\\uc808\\ub300\",\"\\ucc38\",\"\\uadf8\\ub300\\ub97c\",\"\\uc6b0\\ub9ac\\uac00\",\"\\uc5ec\\uae30\",\"\\uc544\\ub0d0\",\"Come_on\",\"\\ub208\\ubb3c\",\"for\",\"tonight\",\"\\ub108\\uc640_\\ub098\",\"you_re\",\"\\uad1c\\ucc2e\\uc544\",\"\\uc788\\ub2e4\\uba74\",\"\\uc918\",\"\\uc790\\uafb8\\ub9cc\",\"\\ubabb\\ud574\",\"\\uac00\\uc2b4\\uc774\",\"want\",\"uh\",\"\\ubaa8\\ub4e0_\\uac8c\",\"\\ubaa8\\ub450_\\ub2e4\",\"\\uc548\\ub3fc\",\"\\ub098\\ub9cc\",\"get\",\"la_la\",\"\\uc2eb\\uc5b4\",\"\\ud560_\\uc218\",\"I_need\",\"\\uc704\\ud574\",\"come_on\",\"\\uc6d0\\ud574\",\"\\ub0b4_\\uacc1\\uc5d0\",\"\\ud560\",\"one\",\"\\ud558\\uace0\",\"\\uc880_\\ub354\",\"\\ub9ce\\uc740\",\"hey\",\"\\uc624\\uc9c1\",\"\\ub098\\uc640\",\"\\ub208\\ubb3c\\uc774\",\"\\ub9d0\\uc744\",\"\\ub9d8\\uc744\",\"\\ub9c8\\uc9c0\\ub9c9\",\"No\",\"\\ub9d8\\uc5d0\",\"\\ub2e4\\uac00\\uc640\",\"\\uc138\\uc0c1\",\"\\ubcf4\\uc5ec\",\"\\uc788\\uc796\\uc544\",\"We\",\"\\ub4ef\",\"\\uac00\",\"\\uacc1\\uc5d0\",\"\\ubc24\",\"back\",\"\\uadf8\\ub300\\uc758\",\"\\uc810\\uc810\",\"\\ubcf4\\uba74\",\"\\ub9c8\\uc74c\\uc774\",\"in\",\"\\ub9d0\\ud574\",\"\\uc624\\ub298\\uc740\",\"\\ubcfc_\\uc218\",\"\\uc544\\ub2cc\",\"\\uadf8\\uac8c\",\"\\uc6b0\\ub9ac\\uc758\",\"\\ub2ec\\ucf64\\ud55c\",\"to_the\",\"\\uadf8\\ub300\\ub85c\",\"\\uc5b4\\ub5a4\",\"this\",\"\\uadf8\\ub304\",\"I_just\",\"Uh\",\"Go\",\"wanna\",\"\\ud558\\uc9c0\\ub9c8\",\"right\",\"\\ub208\\uc744\",\"\\ub0b4_\\ub9d8\\uc774\",\"What\",\"u\",\"\\uadf8\\ub798\\ub3c4\",\"\\uac00\\uc2b4\\uc5d0\",\"\\ub098\\ub9cc\\uc758\",\"\\uc790\",\"\\ud639\\uc2dc\",\"what\",\"\\ub108\\uc640_\\ud568\\uaed8\",\"to_me\",\"\\uc88b\\uc740\",\"\\uc5b4\\ub5a1\\ud574\",\"\\ub204\\uac00\",\"\\uc2ac\\ud508\",\"\\uc870\\uae08\\uc529\",\"Woo\",\"\\uc608\\uc05c\",\"\\ub208\",\"\\ubd10\\ub3c4\",\"Let_me\",\"\\uc11c\\ub85c\",\"with_you\",\"\\ud55c_\\ubc88\",\"\\ud55c\\ubc88\",\"\\uc870\\uae08\",\"\\uc138\\uc0c1\\uc5d0\",\"tell_me\",\"\\uc544\\ubb34\\uac83\\ub3c4\",\"Now\",\"\\uc544\",\"\\uae30\\ub2e4\\ub824\",\"\\ub9d8\\uc774\",\"woo\",\"\\uadf8\\ub9ac\\uace0\",\"\\uc5bc\\ub9c8\\ub098\",\"babe\",\"\\uc640\",\"for_you\",\"\\ubb50\",\"\\uc5b4\\ub290\\uc0c8\",\"\\ub2e4\\uc2e0\",\"\\uc544\\ud508\",\"Say\",\"\\ub531\",\"\\uadf8\\ub54c\",\"\\ubaa8\\ub4e0\\uac78\",\"\\uc55e\\uc5d0\",\"\\uc774\\uac74\",\"\\ub530\\ub77c\",\"\\ub9c8\\uc74c\\uc744\",\"\\uc27d\\uac8c\",\"of\",\"\\ubbf8\\uc548\\ud574\",\"\\ub354\\ub294\",\"\\ub9cc\\ud07c\",\"\\uc6b0\\ub9b4\",\"uh_uh\",\"Boy\",\"i\",\"crazy\",\"\\uc544\\ub2c8\",\"my_heart\",\"\\uc0ac\\ub791\\ud558\\ub294\",\"we\",\"\\uc138\\uc0c1\\uc774\",\"yo\",\"in_the\",\"\\uc138\\uc0c1\\uc744\",\"see\",\"in_my\",\"\\ucc98\\uc74c\",\"\\uc544\\ub2c8\\uc57c\",\"\\uc7a0\\uc2dc\",\"\\ubcf4\\ub294\",\"\\uadf8\\ub9cc\",\"can\",\"\\uac00\\ub294\",\"\\uc0dd\\uac01\\ud574\",\"\\uc904\",\"good\",\"your_love\",\"can_t\",\"\\uc54c_\\uc218\",\"\\uc9c4\\uc9dc\",\"woo_woo\",\"got\",\"\\ub208\\ube5b\",\"do_it\",\"\\uc804\\ubd80\",\"\\uac70\",\"\\uba40\\ub9ac\",\"out\",\"day\",\"\\uac00\\uc2b4\",\"\\uc0ac\\ub791\\uc5d0\",\"\\uc5c6\\uc796\\uc544\",\"\\ud588\\uc5b4\",\"make\",\"\\uadf8\\ub300\\ub294\",\"only\",\"\\ubb58\",\"\\uc544\\uc8fc\",\"let_s\",\"\\uc18c\\uc911\\ud55c\",\"\\uc5b8\\uc820\\uac00\",\"\\ub0b4_\\ub9c8\\uc74c\\uc744\",\"with\",\"\\ub208\\uc774\",\"\\uc788\\uc744\\uae4c\",\"\\uc548\\uc5d0\",\"Tell_me\",\"\\uac74\\uc9c0\",\"\\uae30\\uc5b5\\ud574\",\"And\",\"\\uc218\",\"\\uc774\\uac8c\",\"\\uac00\\ub054\",\"\\ud588\\ub358\",\"But\",\"\\uc804\\uc5d0\",\"\\uc9c0\\uae08_\\uc774\",\"\\ub05d\\uae4c\\uc9c0\",\"\\uae30\\uc5b5\",\"You_are\",\"\\ub110_\\uc704\\ud574\",\"\\ubbff\\uc5b4\",\"\\uacb0\\uad6d\",\"I_got\",\"na_na\",\"\\ubc84\\ub9b0\",\"\\uba3c\\uc800\",\"no_no\",\"\\uc544\\ubb34\\ub9ac\",\"\\uc77c\",\"\\ub550\",\"\\ucc99\",\"\\ud558\\uc9c0\",\"why\",\"\\uc18d\",\"s\",\"eh_eh\",\"\\uae38\\uc744\",\"\\ubc8c\\uc368\",\"\\uadf8\\ub798\\uc11c\",\"\\uc190\\uc744\",\"never\",\"\\ubaa8\\ub450\\uac00\",\"\\ub108\\ub9cc\\uc744\",\"\\uc0dd\\uac01\",\"\\uc544\\ubb34\\ub3c4\",\"\\ubc14\\ub798\",\"\\ub108\\ub97c_\\uc0ac\\ub791\\ud574\",\"\\ud5a5\\ud574\",\"\\uba4b\\uc9c4\",\"\\uac83\\ub3c4\",\"\\ud589\\ubcf5\\ud55c\",\"ya\",\"but\",\"\\ub54c\\ubb38\\uc5d0\",\"\\uc870\\uae08_\\ub354\",\"come\",\"baby_baby\",\"\\uadf8\\ub140\",\"\\uac83\\ucc98\\ub7fc\",\"\\uafc8\\uc744\",\"\\ub450\",\"\\ub9d0\\uc774\",\"\\ub5a0\\ub098\",\"\\uc5ec\\uc804\\ud788\",\"\\uc2ec\\uc7a5\\uc774\",\"\\uc9c0\\ub09c\",\"\\ub2ec\\ub77c\",\"\\ub290\\ub08c\",\"yeah_yeah\",\"\\uc0c8\\ub85c\\uc6b4\",\"\\ub208\\uc5d0\",\"\\uc5ec\\uc790\",\"\\uac00\\ub4dd\",\"cry\",\"\\ud558\\uc580\",\"\\uc5b4\\uc11c\",\"let\",\"Yes\",\"alright\",\"\\uadf8\\ub300\\uc640\",\"\\ubcf4\\uba70\",\"\\uc598\\uae30\",\"\\uc190\",\"heart\",\"\\ucc3e\\uc544\",\"\\ub410\\uc5b4\",\"\\ub0b4_\\uc548\\uc5d0\",\"A\",\"party\",\"\\uafc8\",\"life\",\"\\ub0b4_\\ub9d8\\uc740\",\"\\uac70\\ub2c8\",\"again\",\"\\uadfc\\ub370\",\"\\ub54c\\uae4c\\uc9c0\",\"\\ucc28\\ub77c\\ub9ac\",\"let_me\",\"\\ubab0\\ub798\",\"night\",\"\\uc5c6\\ub294\\ub370\",\"\\ube68\\ub9ac\",\"you_are\",\"\\ub610_\\ub2e4\\ub978\",\"\\uac78\\uae4c\",\"\\uc0ac\\uc2e4\",\"\\uc904\\uac8c\",\"\\ubaa8\\ub4e0\\uac8c\",\"\\uadf8\\uac74\",\"\\ubcf4\\uace0_\\uc2f6\\uc5b4\",\"\\uc218_\\uc5c6\\uc5b4\",\"\\uc6b0\\ub9ac\\ub294\",\"forever\",\"get_it\",\"\\uac70\\uc9d3\\ub9d0\",\"\\uac00\\uae4c\\uc774\",\"\\ub9cc\\ub098\",\"what_you\",\"\\uc560\\uc368\",\"ah\",\"\\ub0a8\\uc790\",\"\\ubaa8\\ub974\\uaca0\\uc5b4\",\"\\uc218\\ub9ce\\uc740\",\"\\ub290\\ub084_\\uc218\",\"\\ub108_\\ub54c\\ubb38\\uc5d0\",\"You_know\",\"like_a\",\"Let\",\"Can\",\"\\uc2dc\\uac04\\uc740\",\"Everybody\",\"\\ub54c\\ub860\",\"\\ud558\\ub8e8_\\uc885\\uc77c\",\"\\ucc44\",\"\\ub290\\uaef4\\ubd10\",\"\\uc660\\uc9c0\",\"\\ud754\\ub4e4\\uc5b4\",\"All\",\"\\uc628\",\"Me\",\"Yeah_Yeah\",\"take\",\"\\ub0b4\\uac8c\\ub85c\",\"\\ub9d0\\ud574\\uc918\",\"Ah\",\"Can_t\",\"\\ub0a8\\uc544\",\"\\uc704\\ub85c\",\"\\ubc14\\ubcf4\\ucc98\\ub7fc\",\"\\ub9d0\\uc57c\",\"\\ub9d0\\uc740\",\"La_La\",\"sorry\",\"It\",\"\\ub9cc\\ub4e4\\uc5b4\",\"\\uc5b4\\uca4c\\uba74\",\"\\uc18d\\uc5d0\\uc11c\",\"\\uc5b4\\ub54c\",\"\\ud589\\ubcf5\\ud574\",\"\\uc54a\\ub294\",\"\\ubbf8\\uccd0\",\"\\uc774_\\uc21c\\uac04\",\"ma\",\"\\uc5b8\\uc81c\\uae4c\\uc9c0\\ub098\",\"\\ubbff\\uace0\",\"\\uc0b4\\uc9dd\",\"\\ub9c9\",\"\\uc544\\uc9c1\\uc740\",\"\\ubfd0\",\"\\ub728\\uac70\\uc6b4\",\"\\uc624\\ub298_\\ubc24\",\"\\uc904\\ub798\",\"ah_ah\",\"\\ub5a0\\ub09c\",\"\\ub450\\ub824\\uc6cc\",\"over\",\"\\ub418\\uc5b4\",\"\\uc54c\\uc796\\uc544\",\"\\uc0ac\\ub791\\ud55c\\ub2e4\\uace0\",\"\\ub9c8\\uc74c\\uc5d0\",\"\\uc78a\\uace0\",\"\\uadf8\\ub550\",\"way\",\"\\ub108\\ub780\",\"\\ubaa8\\uc2b5\\uc744\",\"\\uc2f6\\uc740\",\"\\uc544\\ub9c8\",\"\\uc2dc\\uac04\\uc744\",\"\\uc544\\ubb34\",\"\\ub2e4\\uc2dc\\ub294\",\"\\ubc14\\ub77c\\ubd10\",\"not\",\"\\ub9d0\\uc774\\uc57c\",\"\\uc0ac\\ub791\\uc758\",\"\\ube5b\\uc774\",\"\\uc138\\uc0c1\\uc740\",\"\\uc218_\\uc788\\uac8c\",\"\\uc774_\\ubc24\",\"\\ud070\",\"body\",\"me_now\",\"\\uc788\\ub294\\ub370\",\"\\uc0ac\\ub791\\ud588\\ub358\",\"\\ubd88\\ub7ec\",\"\\uae38\",\"man\",\"\\uc5bc\\uad74\",\"\\uc78a\\uc744_\\uc218\",\"The\",\"\\ub178\\ub798\",\"My_love\",\"\\ubcf4\\uc5ec\\uc918\",\"Tonight\",\"Do\",\"\\uc5c6\\uac8c\",\"\\uc54a\\uac8c\",\"Get\",\"with_me\",\"\\uc5b8\\uc81c\\uae4c\\uc9c0\",\"\\uc544\\ud30c\",\"\\uae30\\ubd84\",\"\\uadf8\\ub300\\uc5ec\",\"\\ub108\\ub97c_\\uc704\\ud574\",\"\\uc788\\ub358\",\"\\uc9c0\\uce5c\",\"\\ubb54\\uac00\",\"Come\",\"\\uc54c\\uace0\",\"\\uc5b4\\ucc28\\ud53c\",\"\\ub450\\uace0\",\"the_one\",\"\\uc774\\ub984\",\"\\ud558\\uba74\",\"\\uc6b0\",\"Ooh\",\"\\uad1c\\ud788\",\"\\ub300\\uccb4\",\"No_No\",\"t_know\",\"\\uc65c_\\uc790\\uafb8\",\"\\ub208\\ubb3c\\uc744\",\"\\uc18c\\ub9ac\",\"\\uc218_\\uc5c6\\ub294\",\"\\uc6b8\\uace0\",\"\\ub611\\uac19\\uc740\",\"\\ubaa8\\uc2b5\\uc774\",\"\\ub354\\uc6b1\",\"lady\",\"\\uacc1\\uc5d0\\uc11c\",\"eh\",\"it_up\",\"\\ub458\\uc774\",\"\\uae4a\\uc740\",\"\\uc0ac\\uc774\",\"\\ub208\\ubd80\\uc2e0\",\"make_me\",\"\\ucc28\\uac00\\uc6b4\",\"I_will\",\"in_love\",\"dance\",\"\\ubd10\\uc694\",\"That_s\",\"\\ub3c4\\ub300\\uccb4\",\"Up\",\"\\ub290\\uaef4\",\"i_m\",\"\\ub110_\\uc704\\ud55c\",\"\\uc5c6\\uc9c0\",\"\\ub4e4\\uc5b4\",\"\\uc5c6\\ub358\",\"\\uc788\\uc5b4\\uc694\",\"\\ud574\\uc918\",\"\\uc788\\uc8e0\",\"\\uc774_\\uc138\\uc0c1\",\"\\ub5a8\\ub9ac\\ub294\",\"\\uc0ac\\ub791\\ud574\\uc694\",\"Like\",\"\\ub110_\\ud5a5\\ud55c\",\"\\uadf8\\ub140\\uac00\",\"Stop\",\"\\uc774_\\ubc24\\uc774\",\"\\uc774\\uc81c\\uc57c\",\"One\",\"\\ud798\\ub4e0\",\"Yo\",\"\\uc704\\ud55c\",\"mind\",\"\\ub05d\\uc774\",\"\\ub0b4_\\ud488\\uc5d0\",\"\\uc0ac\\ub791\\ud55c\",\"fly\",\"\\uc5ec\\uae30\\uc11c\",\"\\uc808\\ub300\\ub85c\",\"\\ubbf8\\uc18c\",\"\\uc774\\ubcc4\\uc744\",\"\\ucc9c\\ucc9c\\ud788\",\"\\uce5c\\uad6c\",\"\\ud558\\ub8e8\\uac00\",\"\\ub098\\ub3c4_\\ubaa8\\ub974\\uac8c\",\"\\ube5b\\ub098\\ub294\",\"\\uc228\\uc774\",\"\\ubc24\\uc0c8\",\"\\ub9d0\\uc544\\uc694\",\"\\ud798\\uc774\",\"\\uc0ac\\ub78c\\uc774\",\"\\ud558\\ub8e8\",\"\\uc544\\ub2c8\\uba74\",\"\\uac78\\uc5b4\",\"\\uc11c\\ub85c\\ub97c\",\"\\ubb34\\uc2a8\",\"\\uc6d0\\ud558\\ub294\",\"my_life\",\"\\uc5b4\",\"\\ubfd0\\uc774\\uc57c\",\"\\ubc84\\ub9ac\\uace0\",\"mine\",\"give\",\"\\uadf8\\ub140\\ub97c\",\"\\uc7a1\\uace0\",\"\\uc0ac\\ub791\\ub3c4\",\"\\ub110_\\ubcf4\\uba74\",\"\\uc5c6\\ub2e4\\uace0\",\"\\uc785\\uc220\",\"\\uc788\\ub2c8\",\"\\ub108_\\ub55c\\uc5d0\",\"Na_Na\",\"\\uc5b4\\ub514\",\"\\uc900\",\"\\uc0b4\\uc544\",\"make_it\",\"\\ub728\\uac81\\uac8c\",\"\\ubed4\\ud55c\",\"\\ucd94\\uc5b5\",\"ye\",\"wanna_be\",\"\\ub098\\uc5d0\\uac90\",\"\\ube60\\uc838\",\"\\uadf8\\ub300\\uc5d0\\uac8c\",\"\\uc5c6\\uc5c8\\uc5b4\",\"\\ub3cc\\uc544\\uc640\",\"\\ub450_\\ub208\\uc744\",\"\\uacf3\",\"\\ub204\\uad6c\\ubcf4\\ub2e4\",\"\\ud63c\\uc790\\uc11c\",\"\\ub098_\\ud63c\\uc790\",\"\\ud798\\ub4e4\\uc5b4\",\"\\ubb50\\uac00\",\"\\ubaa9\\uc18c\\ub9ac\",\"rock\",\"\\uc54a\\uc740\",\"Do_it\",\"gonna\",\"\\uc774\\uc720\",\"\\uacf3\\uc5d0\",\"\\uc54a\\uace0\",\"\\uc870\\uae08\\uc740\",\"\\uc788\\uc9c0\",\"\\uc0ac\\ub791\\uc774\\ub780\",\"\\uc704\\ud574\\uc11c\",\"\\uc608\",\"\\ud544\\uc694_\\uc5c6\\uc5b4\",\"t_wanna\",\"the_way\",\"\\uc544\\ub294\",\"\\uc5c6\\uc9c0\\ub9cc\",\"\\ub418\\ub294\",\"\\ubaa8\\ub974\\ub294\",\"\\ub418\\uace0\",\"give_it\",\"\\ub108\\ubb34\\ub098\\ub3c4\",\"\\ubc84\\ub824\",\"\\uc0ac\\ub791\\ud55c\\ub2e4\",\"about\",\"\\uac00\\ub054\\uc740\",\"\\ub0a8\\uc740\",\"\\uafc8\\uc774\",\"\\uc0b4\\uba70\\uc2dc\",\"\\uc6c3\\uc73c\\uba70\",\"\\ub108_\\ud558\\ub098\\ub9cc\",\"\\ub204\\uad6c\\ub3c4\",\"\\ub9d0\\uc544\\uc918\",\"\\uc9c0\\uccd0\",\"\\ub9e4\\uc77c_\\ubc24\",\"\\uae4a\\uc774\",\"\\ub9c8\\uc694\",\"ooh\",\"\\ub530\\ub73b\\ud55c\",\"\\uadf8\\ub9ac\\uc6cc\",\"\\uac16\\uace0\",\"be_your\",\"\\uac00\\uace0\",\"\\uac00\\ub4dd\\ud55c\",\"\\uc788\\uc5b4\\ub3c4\",\"\\ub108\\uc57c\",\"Babe\",\"\\ub108\\ub9cc\\uc758\",\"\\ub0b4_\\uc606\\uc5d0\",\"Ah_Ah\",\"\\ubcc4\",\"Uh_Uh\",\"\\ub108\\uc640\\uc758\",\"\\ub450_\\ubc88\",\"\\uace0\\ub9c8\\uc6cc\",\"\\uc194\\uc9c1\\ud788\",\"\\ub9d0\\ud574\\ubd10\",\"no_more\",\"\\ub4a4\\ub85c\",\"\\uac83\\uc774\",\"\\uc57d\\uc18d\\ud574\",\"Hello\",\"\\uadf8\\ub7fc\",\"\\ub54c\\uba74\",\"\\uc704\\uc5d0\",\"\\ub098\\uc05c\",\"\\ubabb\\ud558\\uace0\",\"\\ub098\\uc640_\\ud568\\uaed8\",\"\\ubaa8\\ub450\\ub2e4\",\"I_am\",\"\\uadf8\\ub148\",\"\\uac83\\ub9cc_\\uac19\\uc544\",\"\\ud544\\uc694\\ud574\",\"OK\",\"\\uc0ac\\ub294\",\"\\uae34\",\"\\ubabb\\ud55c\",\"\\uc624\\ub298\\ubc24\",\"\\uc9c0\\uae08\\ubd80\\ud130\",\"\\ud574\\uc694\",\"\\uc544\\ubb34\\ub7f0\",\"\\uc6c3\\uace0\",\"\\uc544\\ub984\\ub2e4\\uc6cc\",\"\\ub4ef\\uc774\",\"give_me\",\"star\",\"\\uc0c1\\ucc98\",\"\\ub0b4\\uac8c_\\ub2e4\\uac00\\uc640\",\"\\ub2e4\\ub4e4\",\"take_it\",\"\\uc800\\uae30\",\"all_night\",\"\\uad81\\uae08\\ud574\",\"hands_up\",\"t_stop\",\"\\ub108\\ubb34\\ub3c4\",\"\\uc218\\uac00_\\uc5c6\\uc5b4\",\"always\",\"What_s\",\"\\ud558\\ub8e8\\ud558\\ub8e8\",\"\\uac00\\uc7a5\",\"\\uc0ac\\ub77c\\uc838\",\"\\uc0ac\\ub78c\\ub4e4\",\"\\uc774\\ubcc4\",\"\\uac70\\uae30\",\"\\uc694\\uc998\",\"\\uc65c_\\uc774\\ub798\",\"\\uc548_\\ub3fc\",\"\\uc6b0\\ub9ac_\\ub458\\uc774\",\"away\",\"\\ub0b4\\uac8c\\uc11c\",\"\\uadf8\\ub140\\ub294\",\"\\uc628\\ud1b5\",\"\\uc601\\uc6d0\\ud1a0\\ub85d\",\"\\ube5b\\uc744\",\"get_up\",\"\\ub108\\ub9cc_\\ubcf4\\uba74\",\"everybody\",\"need\",\"\\ub0b4\\uc77c\",\"\\uac00\\uc9c4\",\"\\ub9d0\\ub3c4\",\"\\ubc14\\ub77c\\ubcf4\\ub294\",\"\\uc788\\ub3c4\\ub85d\",\"\\uc6c3\\ub294\",\"\\uc190\\uc5d0\",\"\\uc5b4\\ub290\",\"\\uac00\\uc2b4\\uc744\",\"be_there\",\"Love_is\",\"\\ud45c\\uc815\",\"\\ub208\\ubb3c\\ub85c\",\"\\uc608\\ubed0\",\"\\uc774\\uc81c_\\uadf8\\ub9cc\",\"\\ub05d\\ub0b4\",\"\\ub5a0\\uc62c\\ub77c\",\"\\uc7a0\\ub4e0\",\"bye\",\"gonna_be\",\"\\ud06c\\uac8c\",\"\\ub208\\ube5b\\uc774\",\"\\uadf8_\\uc5b4\\ub5a4\",\"time_to\",\"Party\",\"\\uc5b4\\ub514\\ub4e0\",\"\\ubab0\\ub790\\uc5b4\",\"Back\",\"\\uc601\\uc6d0\\ud55c\",\"\\uadf8\\ub140\\uc758\",\"Why\",\"high\",\"\\ub0a0\\uc774\",\"\\uc788\\ub2e4\\uace0\",\"\\uc788\\uc5b4\\uc918\",\"la\",\"\\uc18c\\ub9ac\\uccd0\",\"\\ub354_\\uc774\\uc0c1\\uc740\",\"\\ubcf4\\ub2e4\",\"ready\",\"\\uba48\\ucd9c_\\uc218\",\"\\ub420\",\"\\uc57c\",\"\\uc815\\ub9d0\\ub85c\",\"\\ub098\\uc57c\",\"that_s\",\"Shake_it\",\"\\ubcf4\\uc774\\ub294\",\"\\ud558\\ub294\\uc9c0\",\"Never\",\"\\ud558\\uc597\\uac8c\",\"La_la\",\"\\uc6cc\",\"If_you\",\"\\uc5c6\\uc5b4\\ub3c4\",\"\\ud5a5\\ud55c\",\"\\uc5b4\\uca5c\",\"\\ubab8\\uc744\",\"\\ub108\\ub85c\",\"Feel\",\"\\ud558\\ub298\",\"\\uadf8_\\ub204\\uad6c\\ub3c4\",\"\\uc2dc\\uc791\\ud574\",\"here\",\"\\uc544\\ub2d8\",\"This_is\",\"\\ubaa8\\ub4e0_\\uac83\\uc744\",\"\\uc904_\\uc218\",\"\\uc78a\\uc5b4\",\"\\ucc98\\uc74c\\ubd80\\ud130\",\"\\uadf8\\ub300\\ub9cc\",\"\\uc77c\\uc5b4\\ub098\",\"\\ud558\\ub298\\uc744\",\"want_you\",\"\\uc5b8\\uc81c\\ub77c\\ub3c4\",\"\\uc228\\uc744\",\"\\ub9ce\\uc544\",\"\\ub9d8\\uc740\",\"\\ub2e4\\uac00\\uac00\",\"\\uc548\\ub155\",\"everything\",\"\\uc5c6\\uc5b4\\uc694\",\"bye_bye\",\"\\uc548\\uc5d0\\uc11c\",\"\\uc6d0\\ub798\",\"She_s\",\"\\ub54c\\ub9c8\\ub2e4\",\"Lady\",\"You_make\",\"\\uc5c6\\ub2e4\",\"\\ubc84\\ub838\\uc5b4\",\"\\uc2f6\\uc740\\ub370\",\"\\ub204\\uad70\\uac00\",\"\\ub2ec\\ub824\",\"We_re\",\"\\uc9c0\\uae08\\ub3c4\",\"\\uc7a0\\uae50\",\"\\ub4e4\\uc5b4\\uc640\",\"O\",\"Your\",\"To\",\"\\ub450\\uadfc\\ub450\\uadfc\",\"\\ud558\\ub098_\\ub458\",\"\\uac11\\uc790\\uae30\",\"\\ub2e4\\uc2dc_\\ud55c\\ubc88\",\"\\ud640\\ub85c\",\"\\uc218_\\uc788\\uc5b4\",\"\\ub290\\uaef4\\uc838\",\"\\ub9d0\\ub85c\",\"\\uc57d\\uc18d\",\"kiss\",\"\\ucd94\\uc5b5\\uc774\",\"\\uc54c\\uc558\\uc5b4\",\"\\ubc14\\ubcf4\",\"\\ucc28\\uac11\\uac8c\",\"show\",\"more\",\"\\ub534\",\"\\ubc16\\uc5d0\",\"\\ub108\\ub9cc\\uc774\",\"\\ub530\\uc708\",\"\\uc8fc\\ub294\",\"like_this\",\"\\ubcfc\",\"\\ub4ef\\ud55c\",\"\\uc548\\uace0\",\"\\uc5b8\\uc820\\uac04\",\"\\ud758\\ub7ec\",\"\\uc190\\uc744_\\uc7a1\\uace0\",\"\\ub108\\ub77c\\ub294\",\"\\uc810\\uc810_\\ub354\",\"\\ud558\\ub298\\uc5d0\",\"how\",\"right_now\",\"\\uc55e\\uc5d0\\uc11c\",\"\\ub300\\ub85c\",\"like_that\",\"\\uc544\\ud504\\uac8c\",\"\\ub2e8_\\ud55c\",\"\\uc800_\\uba40\\ub9ac\",\"please\",\"\\ub2f4\\uc544\",\"\\uac70\\ub77c\\uace0\",\"my_name\",\"\\uc5c6\\uace0\",\"\\uba48\\ucdb0\",\"\\ubaa8\\uc2b5\\uc740\",\"\\ud558\\ub294\\ub370\",\"\\ub05d\\uc5d0\",\"\\ud750\\ub974\\ub294\",\"\\ub450_\\uc190\",\"shake_it\",\"\\ubb50\\uc57c\",\"\\uc6c3\\uc744_\\uc218\",\"\\uae30\\uc5b5\\uc774\",\"\\ubcc4\\uc774\",\"I_miss\",\"Make\",\"\\ubabb\\ud560\",\"\\uc544\\ub798\",\"\\ud2b9\\ubcc4\\ud55c\",\"\\ub354\\uc774\\uc0c1\",\"\\ud558\\ub8e8\\ub97c\",\"\\uc870\\uae08\\ub9cc_\\ub354\",\"Forever\",\"We_can\",\"\\ud5a5\\uae30\",\"\\ubabb\\ud558\\uac8c\",\"\\uc704\\ud5d8\\ud574\",\"\\uc21c_\\uc5c6\\uc5b4\",\"\\uc788\\uc73c\\uba74\",\"\\uc0ac\\ub791\\ud558\\uace0\",\"For\",\"\\uc5c6\\ub294\\uac78\",\"Hello_Hello\",\"\\ubaa8\\uc2b5\\uc5d0\",\"\\uac00\\ub9cc\\ud788\",\"ooh_ooh\",\"\\uc544\\ud30c\\ub3c4\",\"\\uc9c0\\uae08\\uc740\",\"Give_it\",\"\\ub108_\\uc5c6\\uc778\",\"\\uc0ac\\ub791\\ud560\",\"\\uc0dd\\uac01\\uc5d0\",\"Give_me\",\"Only\",\"Like_a\",\"\\uc6c3\\uc5b4\",\"\\ub6f0\\uc5b4\",\"Everyday\",\"\\ud558\\ub298\\uc774\",\"\\ub9cc\\ub09c\",\"together\",\"\\ubc14\\ub78c\",\"\\uadf8\\ud1a0\\ub85d\",\"\\ubaa8\\ub4e0_\\uac83\\uc774\",\"\\ud560\\uae4c\",\"\\ud14c\\ub2c8\\uae4c\",\"\\ub098\\ucc98\\ub7fc\",\"\\ud558\\uac8c\",\"\\ubc24\\uc744\",\"break\",\"if_you\",\"\\uc5ec\\uae34\",\"\\ub0b4\\ub9d8\",\"\\ub0b4\\uac8c\\ub85c_\\uc640\",\"beautiful\",\"touch\",\"\\uac83\\uc744\",\"\\uc0dd\\uac01\\ub098\",\"\\ub124_\\uacc1\\uc5d0\",\"B\",\"at\",\"\\ud0c0\\uace0\",\"\\uc774\\ubcc4\\uc774\",\"Dance\",\"\\uc2dc\\uac04\\uc5d0\",\"\\uc598\\uae38\",\"\\uc81c\\uc77c\",\"\\ub2ec\\ub824\\uac00\",\"\\ub41c\",\"Take\",\"\\uc788\\ub294\\uc9c0\",\"\\uc0dd\\uac01\\uc774\",\"tell\",\"\\uc9c0\\uae08\\ucc98\\ub7fc\",\"ha\",\"\\ub2ec\\ucf64\\ud558\\uac8c\",\"Please\",\"my_god\",\"good_bye\",\"by\",\"without_you\",\"\\ub0b4_\\ub9d8\\uc18d\\uc5d0\",\"hot\",\"\\uc644\\ubcbd\\ud55c\",\"\\ub54c\\ub3c4\",\"feeling\",\"Show_me\",\"\\ubab0\\ub77c_\\ubab0\\ub77c\",\"\\ub290\\ub08c\\uc774\",\"\\ubaa8\\ub974\\uace0\",\"\\uc788\\uace0\",\"\\uc6b0\\ub9ac\\ub4e4\\uc758\",\"\\ub0b4\\uc77c\\uc740\",\"\\uc544\\ubb34_\\ub9d0\\ub3c4\",\"\\ubd24\\uc5b4\",\"girls\",\"\\ubc14\\ubcf4\\uac19\\uc774\",\"\\uc624\\ub298\\uc774\",\"\\uc788\\uc9c0\\ub9cc\",\"\\uc54a\\uc558\\uc5b4\",\"\\uc5ed\\uc2dc\",\"\\ubc24\\uc774\",\"\\uae30\\ub3c4\\ud574\",\"\\ub358\\uc838\",\"\\uae30\\ub2e4\\ub9b4\\uac8c\",\"\\ub3cc\\uc544\",\"\\ubbf8\\uc18c\\uac00\",\"long\",\"\\uc788\\uc5c8\\uc5b4\",\"\\ub4e4\\uc5b4\\ubd10\",\"\\ub354_\\ud06c\\uac8c\",\"all_right\",\"still\",\"\\uc544\\ub2cc\\ub370\",\"\\ubd10\\ubd10\",\"dream\",\"ma_girl\",\"\\uc88b\\uaca0\\uc5b4\",\"ain_t\",\"\\ub108\\uc5d0\\uac8c\\ub85c\",\"\\uc2dc\\uc120\",\"\\uc9c0\\ub098\",\"\\uc2ec\\uc7a5\",\"\\uadf8\\ub9ac\",\"gone\",\"\\ub9cc\\ub4e0\",\"\\ubcf4\\uc5ec\\uc904\\uac8c\",\"there\",\"\\ub450_\\ub208\\uc5d0\",\"\\ub300\\uc2e0\",\"\\uc788\\uc744\",\"My_Love\",\"\\ub108\\ubb34_\\uc88b\\uc544\",\"remember\",\"\\uc6b0\\ub9ac\\ub97c\",\"\\uc790\\uc2e0\\uc744\",\"\\uc0ac\\ub791\\uc73c\\ub85c\",\"ever\",\"\\ub2c8_\\ubaa8\\uc2b5\",\"Love_Love\",\"\\ud55c_\\ubc88\\ub9cc\",\"Crazy\",\"\\ud798\\uc744\",\"\\ubc14\\ub77c\\ubcf4\\uba70\",\"come_to\",\"\\ud55c\\ubc88\\ub9cc\",\"\\ub2e8\",\"\\uccab\",\"talk_about\",\"luv\",\"\\uc77c\\uc774\",\"\\ub05d\\uc5c6\\uc774\",\"\\uc548\\uaca8\",\"\\uc5b8\\uc820\\uac00\\ub294\",\"If\",\"\\uacac\\ub51c_\\uc218\",\"We_are\",\"\\uc7a1\\uc544\",\"\\uc11c\\ub85c\\uac00\",\"\\ucc29\\ud55c\",\"\\uc54a\\uc544\\ub3c4\",\"\\uc2dc\\uac04\\ub4e4\",\"\\ub610\\ub2e4\\uc2dc\",\"\\uba38\\ub9ac\",\"\\ub9de\\ucdb0\",\"\\uc785\",\"Good\",\"\\uc788\\uaca0\\uc9c0\",\"I_think\",\"us\",\"\\uc624\\ub798\",\"\\uc0c1\\uad00\\uc5c6\\uc5b4\",\"\\uae30\\ub300\",\"\\uc544\\ubb34_\\ub9d0\",\"\\ubaa8\\ub974\\uac8c\",\"\\ud14c\\ub2c8\",\"everyday\",\"Woo_woo\",\"fall_in\",\"\\uac00\\ub054\\uc529\",\"\\ubc24\\uc5d0\",\"\\uc783\\uc5b4\\ubc84\\ub9b0\",\"\\ubfd0\\uc57c\",\"\\uc774\\uc81c\\ubd80\\ud130\",\"\\ub108\\ub97c_\\uc6d0\\ud574\",\"\\ud150\\ub370\",\"\\ub9d0\\uc544\",\"\\uc88b\\uc544\\ud574\",\"Break_it\",\"\\uafc8\\uc5d0\",\"step\",\"\\uac00\\uc2b4\\uc18d\\uc5d0\",\"\\uae30\\ub2e4\\ub9ac\\ub294\",\"world\",\"\\ubc1b\\uc544\\uc918\",\"\\uc5c6\\uc8e0\",\"go_go\",\"\\ubcf8\",\"\\ub9e4\\ubc88\",\"\\ub208\\ubb3c\\ub3c4\",\"\\uc2ac\\ud514\",\"Be\",\"the_night\",\"Good_bye\",\"\\uba87\",\"\\ubbf8\\uce58\\ub3c4\\ub85d\",\"\\uc5b4\\uc81c\",\"\\uc9e7\\uc740\",\"\\ub0a8\\uaca8\\uc9c4\",\"\\uc55e\\uc73c\\ub85c\",\"\\uc918\\uc694\",\"\\ud574\\ubd10\\ub3c4\",\"in_your\",\"\\ubab0\\ub77c\\uc694\",\"\\uc774\\uc57c\\uae30\",\"One_Two\",\"\\ub450_\\ub208\",\"\\ube44\\uac00\",\"\\ub4a4\\uc5d0\",\"\\uc624_\\uc624\",\"\\ub530\\ub77c\\uc640\",\"\\uc624\\ub298\\ub530\\ub77c\",\"On\",\"\\uac00\\ub4dd\\ud788\",\"\\ud589\\ubcf5\\ud558\\uac8c\",\"\\ud558\\ub8e8\\uc885\\uc77c\",\"play\",\"\\ub450_\\uc190\\uc744\",\"\\ubbff\\uc744_\\uc218\",\"Girls\",\"stay\",\"\\ub0b4_\\ub9c8\\uc74c\\uc740\",\"\\ub530\\uc2a4\\ud55c\",\"\\ub0a0\\uc544\",\"\\ub458\\ub9cc\\uc758\",\"\\uc774\\ubcc4\\uc740\",\"\\ubbf8\\uce60_\\uac83\",\"Hey_Hey\",\"\\uc0dd\\uac01\\ud558\\uba74\",\"\\uc218\\ub3c4\",\"\\uc774_\\uc21c\\uac04\\uc744\",\"\\ud488\\uc5d0\",\"\\uc9c0\\ucf1c\",\"\\uc624\\ub294\",\"\\ud558\\uace0_\\uc2f6\\uc740\",\"\\ucd94\\uc5b5\\uc744\",\"\\ubcf4\\ub2c8\",\"\\uc6c3\\uc74c\",\"Cause_I\",\"\\ud558\\uc9c0_\\ub9c8\",\"\\uac16\\uace0_\\uc2f6\\uc5b4\",\"cause\",\"\\uc2f6\\uc5c8\\uc5b4\",\"\\uafc8\\ucc98\\ub7fc\",\"\\uc62c\",\"\\ucc98\\ub7fc\",\"say_goodbye\",\"Alright\",\"\\uc78a\\uc9c0\",\"\\uc11c\\ub85c\\uc758\",\"\\uadd3\\uac00\\uc5d0\",\"\\uc0ac\\uc2e4\\uc740\",\"\\uc9c0\\uae08\\uaecf\",\"\\uc6b0\\ub9ac_\\ub458\",\"my_mind\",\"yes\",\"\\uc870\\ucc28\",\"\\ubcf4\\ub0b4\",\"feel_so\",\"\\ubab8\\uc774\",\"\\uc0ac\\ub791\\ud574_\\uc0ac\\ub791\\ud574\",\"\\uac00\\uc9c8_\\uc218\",\"\\ub05d\",\"\\ub098_\\uc5b4\\ub5a1\\ud574\",\"\\ubbf8\\uce5c\",\"U_U\",\"\\uac00\\uc9c0\",\"beat\",\"\\uc788\\ub294\\uac78\",\"\\ub9e4\\uc77c_\\ub9e4\\uc77c\",\"\\uc870\\uae08\\ub9cc\",\"\\ub458\\uc774\\uc11c\",\"\\ud558\\ub2c8\",\"\\ub192\\uc774\",\"\\ubbf8\\uce58\\uaca0\\uc5b4\",\"come_back\",\"know_what\",\"\\uc788\\ub098\\uc694\",\"move\",\"\\uc911\",\"\\uc9c0\\uc6cc\",\"real\",\"are\",\"\\uc6d0\\ud55c\\ub2e4\\uba74\",\"Cause\",\"\\ub2c8_\\ub9d8\\uc744\",\"\\ub204\\uac00_\\ubb50\\ub798\\ub3c4\",\"keep\",\"\\ub2e4_\\uac19\\uc774\",\"Look_at\",\"L_O\",\"\\ub108\\ub97c_\\uc704\\ud55c\",\"\\uc606\\uc5d0\",\"\\ud798\\ub4e4\\uac8c\",\"\\uc5c6\\ub2e4\\uba74\",\"\\ud558\\ub098\\ub3c4\",\"\\ub193\\uace0\",\"Down\",\"\\ub0b4\\uacc1\\uc5d0\",\"\\ubab0\\ub77c\\ub3c4\",\"\\ub108\\ub97c_\\ud5a5\\ud55c\",\"\\ub098\\ub3c4_\\ubab0\\ub798\",\"\\uc5b4\\uca54_\\uc218\",\"\\ud568\\uaed8_\\ud560\",\"\\uc785\\uc220\\uc5d0\",\"\\ub0af\\uc120\",\"smile\",\"love_is\",\"\\ub9e1\\uaca8\",\"\\ubcfc\\uae4c\",\"true\",\"\\uc218\\uac00\",\"\\ub2e8\\uc9c0\",\"style\",\"\\uc7a1\\uc544\\uc918\",\"Get_up\",\"m\",\"This\",\"\\uc0ac\\ub791\\ud560_\\uc218\",\"\\uc678\\ub85c\\uc6b4\",\"\\ud560\\uac8c\",\"\\ub108\\uac00\",\"look_at\",\"\\uc788\\uc744\\uac8c\",\"\\uc54a\\uaca0\\uc5b4\",\"\\uc9c0\\ub098\\uac04\",\"\\uc9d1\\uc5d0\",\"\\uc9c0\\uae08\\uae4c\\uc9c0\",\"\\ud589\\ubcf5\\uc744\",\"\\uac00\\uc9c0\\ub9c8\",\"\\ub4e3\\uace0\",\"\\ub0b4\\ub824\",\"\\ub458\",\"\\ub4e4\\ub824\",\"\\uc7a0_\\ubabb\",\"\\ub9c8\\ub0e5\",\"\\uc6b0\\uc5f0\\ud788\",\"\\uac19\\uc740\\ub370\",\"\\uc544\\ud514\",\"\\ud6c4\\ud68c\",\"so_beautiful\",\"one_two\",\"leave_me\",\"my_lady\",\"\\uc788\\ub2e4\",\"\\ub9e4\\uc77c\\ub9e4\\uc77c\",\"\\ube44\\uce5c\",\"from\",\"\\uaf49\",\"\\uae30\\uc5b5\\uc744\",\"\\uc54c\\uace0_\\uc788\\uc5b4\",\"kiss_me\",\"\\ub208\\ubb3c\\uc740\",\"\\ub3cc\\uc544\\uac00\",\"\\uc0dd\\uac01\\uc740\",\"live\",\"\\uc0ac\\ub78c\\uc740\",\"\\ubc18\\uc9dd\\uc774\\ub294\",\"\\ubd99\\uc7a1\\uace0\",\"\\uac00\\uc790\",\"Go_Go\",\"\\ub9d0\\ud558\\uc9c0\",\"\\uc9c0\\uc6b8_\\uc218\",\"\\uadf8_\\uc790\\ub9ac\\uc5d0\",\"\\uc2dc\\uac04_\\uc18d\\uc5d0\",\"\\uac00\\uba74\",\"\\ub208\\uc744_\\uac10\\uace0\",\"\\uc544_\\uc544\",\"Boom\",\"\\ub098\\ubcf4\\ub2e4\",\"\\uc0b4_\\uc218\",\"\\ub108\\ub9cc_\\uc788\\uc73c\\uba74\",\"off\",\"\\uadf8\\ub7ec\\ub2c8\",\"\\ud55c\\ub9c8\\ub514\",\"\\uc54a\\uc744\\uac8c\",\"\\uc785\\uc220\\uc774\",\"\\ub4ef\\ud574\",\"Goodbye\",\"\\ub0b4\\uac8c\\ub294\",\"\\ub9d0\\ud558\\uace0\",\"\\ucc44\\ub85c\",\"\\ucc3e\\ub294\",\"\\ub0b4\\ub9d8\\uc744\",\"\\uc644\\ubcbd\\ud574\",\"\\ubc14\\ub78c\\uc774\",\"Beautiful\",\"\\ub9c8\\ub77c\",\"\\uace7\",\"\\uc88b\\uc544\\ud558\\ub294\",\"\\ubaa8\\ub978_\\ucc99\",\"\\ud754\\ub4e4\\ub9ac\\ub294\",\"\\ud639\\uc2dc\\ub098\",\"\\uc5b4\\ub450\\uc6b4\",\"\\uc218_\\uc788\\ub294\",\"\\ubabb\\ud558\\ub294\",\"\\uc804\\ud654\",\"\\uc228\",\"\\ub5a0\\ub098\\uac00\",\"light\",\"Hot\",\"\\ucc3e\\uc744_\\uc218\",\"\\ubb50\\ub77c\\uace0\",\"this_is\",\"\\uac08\",\"\\uc54a\\uc744\",\"\\uc774\\uc0c1\\ud574\",\"\\ub290\\uaef4\\uc9c0\\ub294\",\"sky\",\"\\ub9c8\\uc74c\\uc740\",\"\\ube5b\",\"what_s\",\"\\uc9c0\\uae08\\uc774\",\"Bye_Bye\",\"\\uac70\\ub9ac\",\"\\uc190\\uc774\",\"the_music\",\"\\uc190\\uc744_\\uc7a1\\uc544\",\"na\",\"\\ub9c8\\uc74c\\uc18d\\uc5d0\",\"\\ub9c8\\uc74c\\ub3c4\",\"\\uc544\\uc9c1\\uae4c\\uc9c0\",\"\\uc544\\uc774\",\"\\uc5b4\\ub9b0\",\"Know\",\"\\uae30\\ubd84\\uc774\",\"\\ub0a0\\uc544\\uac00\",\"pain\",\"show_you\",\"the_only\",\"\\uc27f\",\"\\ub0a8\\uc790\\ub2f5\\uac8c\",\"\\uac83\\uc740\",\"\\ud6c4\",\"\\uc65c_\\uc774\\ub9ac\",\"\\uc54c\\uba74\\uc11c\\ub3c4\",\"BABY\",\"\\uc644\\uc804\",\"\\uba4b\\ub300\\ub85c\",\"lonely\",\"\\ub2e4\\uac19\\uc774\",\"\\uc628\\uc885\\uc77c\",\"G\",\"Rock\",\"\\ub2f5\\ub2f5\\ud574\",\"\\ub108\\ub77c\\uba74\",\"\\ubb50\\ub4e0\",\"\\uc54c\\uace0_\\uc2f6\\uc5b4\",\"\\ud3c9\\uc0dd\",\"\\ub098\\ub9cc\\uc744\",\"\\ud55c\\ubc88_\\ub354\",\"\\ub0b4\\uac8c_\\ub3cc\\uc544\\uc640\",\"\\uc9c0\\ucf1c\\uc904\\uac8c\",\"Make_it\",\"\\uc804\\ubd80_\\ub2e4\",\"da\",\"\\ub2e4\\uc74c\",\"\\ub0b4\\uac8c_\\uc640\",\"\\uc5b4\\ub460\\uc774\",\"Bounce\",\"You_got\",\"\\ub208\\uc55e\\uc5d0\",\"\\ub0a0\\ub4e4\",\"Here\",\"\\uc124\\ub808\\ub294\",\"\\uc5c6\\uc5c8\\ub358\",\"\\uac70\\uc8e0\",\"\\uc800_\\ud558\\ub298\",\"\\uc6a9\\uae30\",\"\\ud145_\\ube48\",\"only_one\",\"\\uc774_\\uc138\\uc0c1\\uc5d0\",\"\\uc74c\",\"\\uc7a0\\uc774\",\"\\uafc8\\uc740\",\"Are_you\",\"have\",\"\\uc0c8\\ub86d\\uac8c\",\"\\uc5b4\\ub514\\ub85c\",\"YOU\",\"\\ubbf8\\uc18c\\ub97c\",\"\\uc9c0\\uae08\\uc758\",\"\\ud589\\ubcf5\\ud588\\ub358\",\"bounce\",\"\\ub0a8\\uc790\\uac00\",\"\\uc624\\uc624\",\"No_no\",\"\\uc774_\\ub290\\ub08c\",\"OH\",\"\\uba38\\ub9ac\\ubd80\\ud130_\\ubc1c\\ub05d\\uae4c\\uc9c0\",\"\\ud55c\\uc5c6\\uc774\",\"\\uc54c\\uc544\\uc694\",\"\\uc8fc\\uace0\",\"\\ud574\\ubd10\",\"\\ub354_\\ub192\\uc774\",\"\\ub0a8\\uc790\\ub294\",\"never_let\",\"\\ub0a0_\\uc548\\uc544\\uc918\",\"\\uac00\\uc838\\uac00\",\"Sorry\",\"\\uac08_\\uc218\",\"\\uadf8\\ub9ac\\uc6b4\",\"\\uc5b4\\uc0c9\\ud55c\",\"\\uc880\\ub354\",\"\\ubc14\\ubcf4_\\uac19\\uc740\",\"\\uc5b4\\ub514\\uc11c\",\"\\ud558\\ub358\",\"\\uc6b0\\ub9ac_\\uc0ac\\uc774\",\"\\ub108_\\uc544\\ub2c8\\uba74\",\"\\ubabb\\ud588\\uc5b4\",\"the_world\",\"\\uc0dd\\uac01\\uc744\",\"better\",\"\\ud55c_\\uac78\\uc74c\",\"eyes\",\"\\ubc14\\ub78c\\uc5d0\",\"\\ube60\\uc9c4\",\"\\uc5b4\\ub51c\",\"\\ubb54\\ub370\",\"Ready\",\"Ma\",\"\\ub108\\uc5d0\\uac90\",\"\\ub9d0\\ud574\\ub3c4\",\"\\ub2ee\\uc740\",\"something\",\"want_to\",\"\\ub05d\\uc744\",\"\\uc544\\ubb34\\ub3c4_\\ubaa8\\ub974\\uac8c\",\"\\ubd80\\ub4dc\\ub7ec\\uc6b4\",\"\\uc544\\ub2c8\\ub77c\\uace0\",\"\\ub9cc\\ub0a0\",\"\\ud587\\uc0b4\\uc774\",\"sweet\",\"\\ub5a0\\ub098\\uac04\",\"\\ud558\\uc796\\uc544\",\"Here_we\",\"\\uac19\\ub358\",\"\\uc654\\uc5b4\",\"\\uc544\\ud514\\uc744\",\"I_ve\",\"your_mind\",\"No_more\",\"When_I\",\"\\ub4e4\\uace0\",\"\\uae38\\uc774\",\"\\ub2e4\\uac00\\uc624\\ub294\",\"\\ud588\\ub294\\ub370\",\"\\ub108\\ub97c_\\ud5a5\\ud574\",\"\\ud22c\\uba85\\ud55c\",\"some\",\"\\uac70\\uce5c\",\"\\uc870\\uc6a9\\ud788\",\"\\uc5c6\\uc5b4\\uc11c\",\"\\uadf8\\ub7ac\\uc5b4\",\"I_believe\",\"be_with\",\"\\ub0b4_\\ub208\\uc5d4\",\"\\uc624\\ub7ab\\ub3d9\\uc548\",\"get_down\",\"re\",\"\\uc0c8\",\"\\ud558\\ub8e8\\ub3c4\",\"\\uac70\\ub77c\",\"\\uaca8\\uc6b8\",\"\\uac74\\ub370\",\"\\ub098\\ud0c0\\ub098\",\"Wanna\",\"\\uc0b4\",\"\\uae30\\ub2e4\\ub9b0\",\"\\uaebc\\uc57c\",\"\\ub108\\ub77c\\uc11c\",\"won_t\",\"so_sorry\",\"\\ubc1d\\uc740\",\"\\ub54c\\ub85c\\ub294\",\"\\uc788\\ub098\",\"\\uc9c0\\ub098\\uba74\",\"falling_in\",\"I_M\",\"\\ub0b4\\uc77c\\uc774\",\"\\uc54c\\uc9c0\",\"\\uc54a\\uc544\\uc694\",\"goodbye\",\"\\uc5bc\\uad74\\uc774\",\"\\uc54c\\uae4c\",\"\\uc678\\uccd0\",\"\\ubc14\\ub77c\\ub294\",\"\\ud589\\ubcf5\",\"\\uadf8\\ub7ec\\uba74\",\"lover\",\"\\uadf8\\ub798\\uc694\",\"\\ubaa8\\ub4e0\\uac78_\\ub2e4\",\"\\ub0a0\\uc544\\uc62c\\ub77c\",\"\\uc0c8\\ud558\\uc580\",\"\\uadf8\\ub54c\\ub85c\",\"\\ube60\\uc838\\ub4e4\\uc5b4\",\"\\ub124_\\uc0dd\\uac01\\uc5d0\",\"\\ucc98\\uc74c_\\ubcf8\",\"\\ub098\\uba74\",\"ride\",\"\\ubcf4\\uba74\\uc11c\",\"\\uc720\\uc77c\\ud55c\",\"too\",\"\\uc774\\uc81c\\uc640\",\"\\uc548\\uc544\\uc918\",\"\\ub0b4\\uc548\\uc5d0\",\"\\ub2e4\\uc2dc_\\ub3cc\\uc544\\uc640\",\"\\ub108_\\ubc16\\uc5d0\",\"\\ubcf4\\uace0_\\uc2f6\\uc740\",\"\\ub9de\\uc544\",\"\\ub108\\ub791\",\"hold\",\"have_to\",\"\\uc8fd\\uc5b4\\ub3c4\",\"\\ubcf4\\ub0b8\",\"\\uadf8\\ub0a0\",\"\\ub418\\uba74\",\"\\ubbff\\uc5b4\\uc694\",\"Ha\",\"\\ubab0\\ub790\\ub358\",\"\\uc54a\\ub3c4\\ub85d\",\"\\ub118\\uc5b4\",\"\\ub04c\\ub824\",\"Fly\",\"I_hate\",\"Step\",\"\\ub0b4\\uac00_\\uba3c\\uc800\",\"\\uba40\\uc5b4\\uc9c0\\ub294\",\"\\uc5c6\\uaca0\\uc9c0\",\"\\uace0\\ubc31\",\"\\ub5a0\\ub098\\ub294\",\"Christmas\",\"\\uc544\\ub984\\ub2f5\\uac8c\",\"sexy\",\"\\ubd88\\ub7ec\\uc918\",\"Kiss_me\",\"V_E\",\"\\uc0b6\\uc744\",\"\\uc549\\uc544\",\"\\uc0b4\\uace0\",\"\\ud558\\uba70\",\"\\uc54c\\uac8c\",\"\\uadf8\\uac78\",\"\\ub9d0\\ud560\\uac8c\",\"\\uc18d\\uc73c\\ub85c\",\"\\uc544\\uce68\",\"\\ubbf8\\uce5c_\\ub4ef\\uc774\",\"\\uadf8\\ub7f0\\ub370\",\"\\uac04\\ub2e4\",\"Cuz\",\"\\ub2e4\\ub978_\\uc0ac\\ub78c\",\"\\ucc3e\\uc544\\uc640\",\"\\ub9d0\\ud560_\\uc218\",\"\\uba40\\ub9ac\\uc11c\",\"\\uad73\\uc774\",\"\\uc900\\ube44\",\"hands\",\"Hey_hey\",\"\\ub9d1\\uc740\",\"\\ubb50\\ud574\",\"\\uc6d0\\ud558\\uace0\",\"\\ub0b4\\uac8c_\\ub9d0\\ud574\\uc918\",\"\\ubcfc\\ub798\",\"here_we\",\"\\ub5a8\\ub824\",\"\\ub098\\ub791\",\"thank_you\",\"\\ubbf8\\ub798\",\"\\uc9dc\\ub9bf\\ud55c\",\"\\ub4e4\\ub9ac\\ub2c8\",\"\\uae30\\uc5b5\\ud574\\uc918\",\"\\uc78a\\uc9c0_\\ubabb\\ud574\",\"\\ubbf8\\uc18c\\ub85c\",\"\\uc18d\\uc744\",\"\\ub0a8\\uc794\",\"\\ud558\\ub098\\ub9cc\",\"\\uc5ec\\uae30\\uc800\\uae30\",\"\\uae30\\ubd84_\\uc88b\\uc740\",\"\\uc544\\ubb34\\ub807\\uc9c0_\\uc54a\\uc740\",\"\\ubc14\\ub2e4\",\"Run\",\"Woo_Woo\",\"\\uc548\\uc544\",\"\\ucc3e\\uace0\",\"\\uc774_\\ubc24\\uc744\",\"\\uacb0\\uad6d\\uc5d4\",\"\\uafc8\\uc5d0\\uc11c\",\"\\ub420_\\uc218\",\"\\uba3c\",\"\\ubc14\\ub77c\\ubcf4\\uace0\",\"P\",\"\\ub204\\uad74\",\"\\ub354_\\uac00\\uae4c\\uc774\",\"\\uc54c\\uc544\\uc918\",\"\\uac77\\ub294\",\"paradise\",\"come_come\",\"know_that\",\"\\ub108\\ub9cc_\\ubcf4\\uc5ec\",\"\\uc5bc\\uad74\\uc744\",\"\\ud588\\uc9c0\\ub9cc\",\"\\uc6b8\\uc5b4\",\"\\uc2f6\\uc9c0\\ub9cc\",\"\\ubbf8\\uc6cc\",\"\\ud754\\ud55c\",\"\\ub05d\\uc774_\\uc5c6\\ub294\",\"\\uc6c0\\uc9c1\\uc5ec\",\"\\uadf8\\ub7f4\",\"\\uc544\\ub9c8\\ub3c4\",\"\\uc5b8\\uc81c\",\"\\uc18d\\uc758\",\"\\ub0b4_\\uacc1\\uc744\",\"air\",\"\\uac71\\uc815\",\"\\uc774\\uc81c\\uc11c\\uc57c\",\"\\ucc38\\uc744_\\uc218\",\"\\ub208\\ubd80\\uc154\",\"\\uc790\\uc720\\ub86d\\uac8c\",\"\\ub208\\ubb3c\\ub9cc\",\"\\uba39\\uace0\",\"\\uc2e0\\ub098\\uac8c\",\"\\uc2ac\\ud514\\uc744\",\"\\uba38\\ub9ac\\uac00\",\"\\uc774\\uc720\\uac00\",\"\\ubd80\\ub974\\ub294\",\"my_everything\",\"How\",\"Come_On\",\"one_more\",\"Always\",\"e\",\"\\ucc98\\uc74c_\\ub9cc\\ub09c\",\"\\uc788\\uc5c8\\uc9c0\",\"\\ub0b4_\\uc2ec\\uc7a5\\uc740\",\"\\uc0ac\\ub78c\\uc744\",\"\\ub0a0_\\ub450\\uace0\",\"\\ud588\\uc9c0\",\"\\ud55c\\ubc88\\ub3c4\",\"\\uc0ac\\ub791\\uc544\",\"\\uc5b4\\ub514\\uc5d0\",\"\\uc774\\ub798\",\"\\ubd80\\ub514\",\"E\",\"\\uc11c\",\"\\ubc1d\\uac8c\",\"bad\",\"\\uadf8\\ub300\\ub3c4\",\"\\uc6b8\\ub824\",\"\\ub3cc\\uc544\\uc640\\uc918\",\"\\uc544\\uc774\\ucc98\\ub7fc\",\"\\uc624\\ube60\",\"really\",\"Got\",\"\\ubaa8\\uc2b5\\uc73c\\ub85c\",\"\\ub4a4\",\"\\ubc14\\ub77c\",\"I_won\",\"In\",\"\\ub0b4\\ub9ac\\ub294\",\"\\uc5ec\\uc790\\uac00\",\"\\ub098\\uc11c\",\"\\ube44\\ubc00\",\"\\ub208\\ube5b\\uc5d0\",\"on_and\",\"\\uc5c6\\ub124\",\"\\uc608\\uc058\\uac8c\",\"\\uc0ac\\ub78c\\ub4e4\\uc774\",\"\\ub9d0\\uc5d0\",\"\\ud5a5\\uae30\\uac00\",\"gotta\",\"\\uc790\\uc2e0\\uc774\",\"\\uc678\\ub85c\\uc6cc\",\"\\uac04\",\"\\ub208\\ubb3c\\uc5d0\",\"\\ud798\\uaecf\",\"ha_ha\",\"Call_me\",\"nobody\",\"\\uc0ac\\ub78c\\ub4e4\\uc740\",\"\\ub54c\\uac00\",\"\\uafc8\\uc18d\\uc5d0\",\"control\",\"when\",\"hold_me\",\"\\ub9d0\\ub9cc\",\"\\uc5c6\\uc73c\\ub2c8\\uae4c\",\"touch_me\",\"\\uc120\\ubb3c\",\"loving_you\",\"\\ub450_\\ub208\\uc774\",\"\\uc6b0\\ub9ac_\\ub458\\ub9cc\\uc758\",\"\\ub0b4_\\ub9d8\\ub300\\ub85c\",\"ok\",\"\\uc5c6\\ub2c8\",\"\\uac10\\uc815\",\"go_away\",\"\\uc624\\ub79c\",\"\\ub098\\uc758_\\ub9c8\\uc74c\\uc744\",\"\\uc2dc\\uac04\\ub3c4\",\"\\ud654\\ub824\\ud55c\",\"\\ub05d\\ub0ac\\uc5b4\",\"\\ud558\\ub098\\ub85c\",\"\\ub0a0\\uc5d0\",\"\\ud558\\ub8e8\\ub9cc\",\"\\ub5a0\\ub098\\uc9c0\\ub9c8\",\"\\uc774\\ub9ac\",\"\\ubd88\\uc548\\ud574\",\"\\ud560\\ub798\",\"\\ub208\\uc774_\\ubd80\\uc154\",\"\\ub2ec\",\"my_friend\",\"will\",\"Stay\",\"\\ubabb\\ub41c\",\"\\uc804\\ud654\\ub97c\",\"\\ub178\\ub798\\ub97c\",\"\\ub108\\uc640\\ub098\",\"\\ubb38\\ub4dd\",\"\\ubaa8\\uc544\",\"Cuz_I\",\"\\ub124_\\ubaa8\\uc2b5\",\"\\uc21c\\uac04\\uc774\",\"\\uac08\\uc218\\ub85d\",\"listen\",\"\\uadf8\\ub140\\uc5d0\\uac8c\",\"\\ube44\\ucdb0\",\"\\uae30\\uc5b5_\\uc18d\\uc5d0\",\"\\ub6f0\\ub294\",\"\\uc57d\\uc18d\\ud560\\uac8c\",\"\\ub0b4\\ub824\\uc640\",\"your_body\",\"honey\",\"\\ub124\\uac00_\\ud544\\uc694\\ud574\",\"Kiss\",\"\\uc218_\\uc788\\ub2e4\\uba74\",\"\\uc6b0\\ub294\",\"\\ubc14\\ubcf4\\uc57c\",\"\\uadf8\\ub300\\uc640_\\ud568\\uaed8\",\"\\uadf8\\ub9ac\\uc6c0\",\"\\uc2f6\\uc5b4\\uc694\",\"\\ub9d0\\ud558\\ub294\",\"\\ub9d0\\ub4e4\",\"\\uc0ac\\ub791\\ud55c\\ub2e4\\ub294\",\"\\uaca8\\uc6b0\",\"\\uc6c3\\uc74c\\uc774\",\"\\ub179\\uc544\",\"\\uc2dc\\uac04\\ub4e4\\uc774\",\"\\uc78a\\uc5b4\\ubc84\\ub824\",\"\\ubc24\\uc0c8\\ub3c4\\ub85d\",\"\\ubcf4\\uace0\\uc2f6\\uc5b4\",\"\\ub108\\ub85c_\\uc778\\ud574\",\"chance\",\"we_are\",\"tight\",\"hey_hey\",\"\\uc54a\\uc744_\\uac70\\uc57c\",\"run\",\"\\uc2dc\\uc791\",\"\\ub300\",\"\\uc5b8\\uc81c\\ucbe4\",\"\\ub05d\\uc5c6\\ub294\",\"\\ub204\\uad6c\\ub098\",\"\\uc54a\\ub2c8\",\"\\uc6b0\\ub9ac\\ub9cc\\uc758\",\"\\uc81c\\ub300\\ub85c\",\"\\uc5ec\\uc790\\ub294\",\"\\ucc28\",\"\\uc785\\uc220\\uc744\",\"\\uc5ec\\uc794\",\"\\uac78_\\uc54c\\uc544\",\"alone\",\"\\ub188\",\"Uh_uh\",\"music\",\"\\uacf3\\uc73c\\ub85c\",\"\\uae30\\uc5b5\\uc5d0\",\"\\ubabb\\ub09c\",\"\\uc815\\uc2e0\",\"\\uc598\\uae30\\ub97c\",\"\\uba4d\\ud558\\ub2c8\",\"\\uae30\\ub2e4\\ub9ac\\uace0\",\"or\",\"\\ud658\\ud558\\uac8c\",\"\\uc990\\uaca8\",\"hoo\",\"da_da\",\"\\ubcc0\\ud574\",\"\\ub3cc\\ub824\",\"call\",\"\\uba40\\uc5b4\\uc838\",\"\\ub9d0\\ud22c\",\"\\uc911\\uc5d0\",\"show_me\",\"\\ube68\\uac04\",\"\\ub208\\ube5b\\uc73c\\ub85c\",\"back_to\",\"LOVE\",\"care\",\"Right_now\",\"Three\",\"\\ud558\\ub098\\uc758\",\"\\uad1c\\ucc2e\\uc740\",\"\\ub2f9\\uc2e0\\uc758\",\"\\uc0c1\\ucc98\\ub97c\",\"\\uac08\\ub798\",\"\\uc0b4\\uc544\\uac00\\ub294\",\"\\ub0b4\\uac8c_\\ub9d0\\ud574\",\"\\ub9cc\\ub4dc\\ub294\",\"ye_ye\",\"\\ud639\\uc2dc\\ub77c\\ub3c4\",\"\\ub108\\ubfd0\\uc774\\uc57c\",\"\\ud55c\\ucc38\\uc744\",\"\\uc3df\\uc544\\uc9c0\\ub294\",\"\\ub108_\\ud558\\ub098\\uba74\",\"V\",\"\\ud750\\ub974\\uace0\",\"free\",\"\\uc2dc\\uc120\\uc744\",\"\\uc18c\\uc911\\ud588\\ub358\",\"I_wish\",\"\\uc560\\ud0c0\\uac8c\",\"\\ubb34\\ub108\\uc838\",\"t_care\",\"\\ub0b4_\\uac00\\uc2b4\\uc740\",\"\\uadf8\\ub9cc\\ud07c\",\"\\ud655\",\"\\ub208\\uce58\",\"\\uac78\\uc694\",\"\\ud55c_\\uc0ac\\ub78c\",\"\\uc11c\\ud230\",\"\\uadf8\\ub9cc\\ud574\",\"\\uac04\\uc808\\ud788\",\"i_love\",\"story\",\"In_my\",\"Na_na\",\"\\uc788\\uc73c\\ub2c8\",\"\\uc0ac\\ub791\\uc2a4\\ub7f0\",\"\\uad1c\\ucc2e\\uc544\\uc694\",\"we_can\",\"That\",\"\\uc62c\\ub77c\",\"\\uba5c\\ub85c\\ub514\",\"\\uc548_\\ud574\\ub3c4\",\"\\ub0b4\\ub9b0\",\"\\ub4a4\\ub3cc\\uc544\",\"Listen\",\"was\",\"\\ud574\\uac00\",\"\\uc544\\uce68\\uc774\",\"\\ud544\\uc694\\uc5c6\\uc5b4\",\"\\ub098\\ub098\\ub098\",\"\\uadf8\\ub7ec\\ub2e4\",\"\\ub0b4\\uc77c\\ub3c4\",\"\\ud558\\uc580_\\ub208\\uc774\",\"\\ub9d0\\ud558\\uc9c0_\\uc54a\\uc544\\ub3c4\",\"\\uc774\\ub7ec\\ub2e4\",\"\\uc5ec\\ub984\",\"\\uac07\\ud600\",\"\\ub9d0\\ub3c4_\\uc548\",\"friend\",\"wait\",\"Ooh_Ooh\",\"\\ud558\\uace0_\\uc2f6\\uc5b4\",\"\\uce5c\\uad6c\\ub4e4\",\"\\uc194\\uc9c1\\ud558\\uac8c\",\"about_you\",\"\\ub5a0\\ub098\\uace0\",\"\\ub05d\\uc740\",\"think\",\"\\ud754\\ub4e4\\ub824\",\"\\uc368\",\"\\uc88b\\uc544\\uc694\",\"of_my\",\"\\uc5b8\\uc81c\\ub4e0\",\"missing_you\",\"out_of\",\"\\uc624\\ub298\\ubd80\\ud130\",\"\\uaf43\",\"\\ubcf4\\ub0b4\\ub294\",\"\\ub124_\\uc55e\\uc5d0\",\"\\uace0\\uac1c\\ub97c\",\"\\uc218\\uc90d\\uc740\",\"\\ucc98\\uc74c\\uc73c\\ub85c\",\"\\uc774\\ubcc4\\uc758\",\"believe\",\"D\",\"\\uace0\\ubbfc\",\"wow_wow\",\"\\uc644\\uc804\\ud788\",\"\\ub9cc\\ub098\\uba74\",\"break_it\",\"\\uc138\\uc0c1\\uc758\",\"\\uc5b4\\ub5bb\\uac8c\\ub4e0\",\"wow\",\"\\ubd84\\uba85\",\"all_day\",\"No_way\",\"Right\",\"Like_this\",\"do_do\",\"\\ud0dc\\uc591\",\"\\ucee4\\ub2e4\\ub780\",\"\\uc804\",\"\\uc624\\ud788\\ub824\",\"\\ub098\\uac00\",\"\\uac77\\uace0\",\"\\uc6b0\\ub9ac\\uc5d0\\uac8c\",\"\\uae30\\ub3c4\",\"\\uc0b6\\uc740\",\"\\uac70\\ub9ac\\ub97c\",\"\\uac00\\uc9c0\\uace0\",\"worry\",\"\\ubc1c\",\"\\uc7a0\\uc2dc\\ub9cc\",\"Want_you\",\"\\ud754\\ub4e4\\uc5b4\\ubd10\",\"\\ubb54\\uc9c0\",\"\\uac70\\ub77c\\uba74\",\"\\ub208\\ubb3c\\uc774_\\ud758\\ub7ec\",\"Light\",\"go_back\",\"La\",\"Bo_Peep\",\"\\uba4b\\uc9c0\\uac8c\",\"\\uc54c\\uba74\\uc11c\",\"\\uc548\\uace0\\uc11c\",\"\\ub290\\ub07c\\ub294\",\"three\",\"\\uac00\\uc2b4\\uc740\",\"\\ub4a4\\uc5d0\\uc11c\",\"Time\",\"\\uc7a1\\uc744_\\uc218\",\"\\ud30c\\ub3c4\",\"\\uc5bc\\uad74\\uc5d0\",\"\\uc78a\\uc9c0_\\ubabb\\ud560\",\"\\ubaa8\\ub97c\",\"\\ub420_\\uac70\\uc57c\",\"\\uc9c0\\uaca8\\uc6cc\",\"\\uc5b4\\uc9c0\\ub7ec\\uc6cc\",\"\\uac00\\ub4dd\\ud574\",\"\\ube5b\\ub098\",\"We_ll\",\"\\uc0dd\\uac01\\ud574\\ubd10\",\"\\uc0dd\\uac01\\ud588\\uc5b4\",\"\\ub108\\uc5d0\",\"\\uc21c\\uac04\\uc744\",\"\\ub0b4\\uac90_\\ub108\\ubb34\",\"\\uc5ec\\uae30\\uc5d0\",\"ho\",\"\\uac10\\uc2f8\",\"\\ubcf4\\ub0b4\\uace0\",\"\\uc798\\ubabb\",\"\\ubbf8\\ub828\",\"\\ud574\\uc904\\uac8c\",\"\\uadf8\\uc758\",\"\\uc775\\uc219\\ud55c\",\"\\ud558\\ub098\\ubfd0\\uc778\",\"\\uc0c1\\ucc98\\uac00\",\"going\",\"slow\",\"talk\",\"Get_down\",\"\\ube59\\uae00\\ube59\\uae00\",\"so_fine\",\"LA_LA\",\"no_way\",\"BOY\",\"bad_girl\",\"\\uc9c0\\uae08_\\uc774\\ub300\\ub85c\",\"\\uc11c_\\uc788\\ub294\",\"\\ucde8\\ud574\",\"\\uc774_\\uc21c\\uac04\\uc774\",\"\\uadf8_\\ubb34\\uc5c7\\ub3c4\",\"\\ubd88\\uc744\",\"\\uc790\\ub9ac\",\"\\ub728\\uac70\\uc6cc\",\"\\ubc97\\uc5b4\\ub0a0_\\uc218\",\"\\uae30\\uc5b5\\uc740\",\"\\ucda4\\uc744_\\ucdb0\",\"\\ub5a0\\ub0a0\",\"\\uc77c\\ub2e8\",\"\\uc778\\uc0dd\",\"\\uac00\\ub3c4\",\"\\ubd84\\uc704\\uae30\",\"\\uae4c\\ub9cc\",\"\\uac19\\uc544\\uc11c\",\"\\ub108\\ub3c4_\\ub098\\uc640\",\"look\",\"\\ub108\\ub9cc\\uc740\",\"hello\",\"Wake_up\",\"Da_Da\",\"\\uc788\\uc744_\\ub54c\",\"\\ubaa8\\ub974\\uc9c0\",\"\\ub124_\\uc606\\uc5d0\",\"\\uc804\\ud600\",\"\\uc790_\\uc774\\uc81c\",\"\\ub9cc\\ub0a0_\\uc218\",\"\\ub9c8\\uc74c\\uc73c\\ub85c\",\"\\uce5c\\uad6c\\uac00\",\"\\ub9d0\\uc5c6\\uc774\",\"nothing\",\"\\uc5c6\\uc744\",\"\\uc54a\\uc744\\uae4c\",\"thing\",\"\\uac00\\uc838\",\"\\uadf8\\ub140\\uc640\",\"\\ub2e4\\uac00\\uc640\\uc11c\",\"home\",\"\\uc88b\\uc740_\\uac78\",\"\\ub178\\ub798\\uac00\",\"minute\",\"\\ub55c\\uc5d0\",\"\\uac08\\uac8c\",\"who\",\"down_down\",\"waiting_for\",\"\\ub0b4_\\uc2ec\\uc7a5\\uc744\",\"du_du\",\"Dumb_Dumb\",\"\\ub208\\ubd80\\uc2dc\\uac8c\",\"\\ubcf4\\uc9c0\",\"\\uba38\\ub9bf\\uc18d\\uc5d0\",\"\\uac80\\uc740\",\"\\ub420\\uae4c\",\"\\ub2e4\\uac00\\uc628\",\"\\ubaa8\\uc5ec\",\"\\uc0b6\\uc774\",\"\\ub9f4\\ub3cc\\uc544\",\"\\uac19\\uc560\",\"I_was\",\"\\uc774\\uae30\\uc801\\uc778\",\"\\ubabb_\\ucc38\\uaca0\\uc5b4\",\"All_night\",\"\\uae68\\uc6cc\",\"\\uc870\\uadf8\\ub9cc\",\"\\uafc8\\uc744_\\uafb8\\ub294\",\"\\uc2ac\\ud514\\uc774\",\"\\uc5b4\\uca4c\\ub098\",\"\\ubc18\\ubcf5\\ub418\\ub294\",\"\\uc74c\\uc545\\uc774\",\"\\ud798\\ub4e4\\uc5b4\\ub3c4\",\"\\uc0ac\\ub791\\ud558\\uac8c\",\"\\uc9c0\\ucf1c\\uc904\",\"\\ub098\\ub97c_\\ubcf4\\uba70\",\"\\ubaa9\\uc18c\\ub9ac\\ub85c\",\"\\ub9cc\\ub098\\uace0\",\"\\ub9d8\\uc18d\\uc5d0\",\"\\ubcf4\\ub358\",\"\\ud06c\\ub9ac\\uc2a4\\ub9c8\\uc2a4\",\"\\ub0a0_\\ubbf8\\uce58\\uac8c\",\"\\uc9c0\\ucf1c\\ubd10\",\"lie\",\"\\uc6b0_\\uc6b0\",\"Heart\",\"one_N\",\"\\ud658\\ud55c\",\"\\uadc0\\uc5ec\\uc6b4\",\"\\uc788\\ub124\",\"\\uc7a0\\uc744\",\"Honey\",\"\\uc870\\uc2ec\\uc2a4\\ub808\",\"\\uc218\\ub9cc_\\uc788\\ub2e4\\uba74\",\"\\ubbff\\uc9c0\",\"\\uc228\\uae38_\\uc218\",\"\\uc0b4\\uc544\\uac08\",\"\\ub108\\ub97c_\\ucc3e\\uc544\",\"\\uc11c\\uc11c\",\"\\ube60\\ub974\\uac8c\",\"around\",\"\\ub108\\uc5d0\\uac8c\\ub9cc\",\"\\ub204\\uac00_\\ubd10\\ub3c4\",\"Na\",\"\\ub098_\\ud640\\ub85c\",\"\\ub108\\ubc16\\uc5d0\",\"\\ub9c8\\uc74c\\ub9cc\",\"\\ub0a0\\uc744\",\"game\",\"\\uc6a9\\uae30\\ub97c\",\"l\",\"\\ud130\\uc9c8_\\uac83\",\"follow_me\",\"\\ub2f5\\ub2f5\\ud55c\",\"\\uadf8\\ub798\\uc57c\",\"\\uac70\\uc608\\uc694\",\"\\uac04\\uc808\\ud55c\",\"All_right\",\"\\ub9d0\\uc790\",\"Please_don\",\"\\uc788\\uae30\\uc5d0\",\"\\uc21c\\uac04\\ubd80\\ud130\",\"feel_good\",\"\\uc78a\\uc9c0\\ub9c8\",\"\\ub0a0_\\ubc14\\ub77c\\ubcf4\\ub294\",\"\\ub098\\ub780\",\"put\",\"\\uc774\\uac70\",\"\\uaebc\\ub0b4\",\"\\uc544\\ubb34_\\uac83\\ub3c4\",\"N\",\"\\ud5c8\\ub098\",\"\\uc704\",\"\\uc774_\\ub178\\ub798\",\"n\",\"\\ub3cc\\uc774\\ud0ac_\\uc218\",\"\\uad6c\\ub984\",\"\\ud0c0\\ub294\",\"\\uc11c\\ub458\\ub7ec\",\"With\",\"\\uc544\\ucc14\\ud55c\",\"\\uc65c\\uc774\\ub798\",\"\\uc9c0\\ud0ac\\uac8c\",\"think_about\",\"\\uc6d0\\ud558\\uba74\",\"\\ubb50\\ub2c8\",\"OH_OH\",\"my_way\"],\"x_coord\":{\"__ndarray__\":\"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\",\"dtype\":\"float32\",\"shape\":[2232]},\"y_coord\":{\"__ndarray__\":\"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\",\"dtype\":\"float32\",\"shape\":[2232]}}},\"id\":\"11cddc4b-dad4-4df7-b316-6bee8f7bf29f\",\"type\":\"ColumnDataSource\"},{\"attributes\":{\"fill_color\":{\"value\":\"#1f77b4\"},\"line_color\":{\"value\":\"orange\"},\"size\":{\"units\":\"screen\",\"value\":10},\"x\":{\"field\":\"x_coord\"},\"y\":{\"field\":\"y_coord\"}},\"id\":\"cb014e3e-1245-4955-bcc1-e67c05e439de\",\"type\":\"Circle\"},{\"attributes\":{\"active_drag\":\"auto\",\"active_inspect\":\"auto\",\"active_scroll\":{\"id\":\"a4497945-c088-4756-8515-127270fef237\",\"type\":\"WheelZoomTool\"},\"active_tap\":\"auto\",\"tools\":[{\"id\":\"12589890-0ce4-4ed0-aca4-c8c423d49578\",\"type\":\"PanTool\"},{\"id\":\"a4497945-c088-4756-8515-127270fef237\",\"type\":\"WheelZoomTool\"},{\"id\":\"67cd12db-cfa8-4a44-8025-d754b412a7d2\",\"type\":\"BoxZoomTool\"},{\"id\":\"90c88ed1-9a5b-41bf-a2e8-49a42c22b273\",\"type\":\"SaveTool\"},{\"id\":\"123cdb1b-6c18-4e27-af98-93a8f78dfe48\",\"type\":\"ResetTool\"},{\"id\":\"93b3dc2b-c723-4b5a-8c48-4f9f9fa7501a\",\"type\":\"HelpTool\"},{\"id\":\"03d98e78-c4c1-4e21-b90c-79b88d1a27c3\",\"type\":\"HoverTool\"}]},\"id\":\"350e7625-5710-4512-be27-349b0a02fa9c\",\"type\":\"Toolbar\"},{\"attributes\":{},\"id\":\"c4e16df4-703a-4e42-aa00-af674e085aa7\",\"type\":\"BasicTickFormatter\"},{\"attributes\":{\"plot\":null,\"text\":\"t-SNE Word Embeddings\",\"text_font_size\":{\"value\":\"16pt\"}},\"id\":\"51c2b60b-ee1d-4377-9fee-b7423a4ca27c\",\"type\":\"Title\"},{\"attributes\":{},\"id\":\"12589890-0ce4-4ed0-aca4-c8c423d49578\",\"type\":\"PanTool\"},{\"attributes\":{\"callback\":null},\"id\":\"64a27548-d815-46e1-a236-6544ea2109a3\",\"type\":\"DataRange1d\"},{\"attributes\":{\"source\":{\"id\":\"11cddc4b-dad4-4df7-b316-6bee8f7bf29f\",\"type\":\"ColumnDataSource\"}},\"id\":\"9a5444c6-9bf7-4917-ae18-a9c254552875\",\"type\":\"CDSView\"},{\"attributes\":{\"data_source\":{\"id\":\"11cddc4b-dad4-4df7-b316-6bee8f7bf29f\",\"type\":\"ColumnDataSource\"},\"glyph\":{\"id\":\"79790c02-a1ba-4272-83ce-0b06052ce533\",\"type\":\"Circle\"},\"hover_glyph\":{\"id\":\"cb014e3e-1245-4955-bcc1-e67c05e439de\",\"type\":\"Circle\"},\"muted_glyph\":null,\"nonselection_glyph\":{\"id\":\"772b4b21-1d76-4877-9240-319ef9068b16\",\"type\":\"Circle\"},\"selection_glyph\":null,\"view\":{\"id\":\"9a5444c6-9bf7-4917-ae18-a9c254552875\",\"type\":\"CDSView\"}},\"id\":\"3c05d8d9-e296-45c1-900d-136b3a676d99\",\"type\":\"GlyphRenderer\"},{\"attributes\":{},\"id\":\"a4497945-c088-4756-8515-127270fef237\",\"type\":\"WheelZoomTool\"},{\"attributes\":{\"overlay\":{\"id\":\"ac15d3d9-abea-4541-99b4-5a56aa8d4d94\",\"type\":\"BoxAnnotation\"}},\"id\":\"67cd12db-cfa8-4a44-8025-d754b412a7d2\",\"type\":\"BoxZoomTool\"},{\"attributes\":{},\"id\":\"8137166c-4d1a-4fea-88a7-21c9fa4f2740\",\"type\":\"LinearScale\"},{\"attributes\":{},\"id\":\"90c88ed1-9a5b-41bf-a2e8-49a42c22b273\",\"type\":\"SaveTool\"},{\"attributes\":{\"callback\":null},\"id\":\"016e13f6-fea5-4ece-928f-6438ba446282\",\"type\":\"DataRange1d\"},{\"attributes\":{},\"id\":\"123cdb1b-6c18-4e27-af98-93a8f78dfe48\",\"type\":\"ResetTool\"},{\"attributes\":{},\"id\":\"6a99a9ac-e90a-4b8d-bcb0-e3e3c6a2c1f1\",\"type\":\"LinearScale\"},{\"attributes\":{},\"id\":\"93b3dc2b-c723-4b5a-8c48-4f9f9fa7501a\",\"type\":\"HelpTool\"},{\"attributes\":{\"fill_alpha\":{\"value\":0.1},\"fill_color\":{\"value\":\"blue\"},\"line_alpha\":{\"value\":0.2},\"line_color\":{\"value\":\"blue\"},\"size\":{\"units\":\"screen\",\"value\":10},\"x\":{\"field\":\"x_coord\"},\"y\":{\"field\":\"y_coord\"}},\"id\":\"79790c02-a1ba-4272-83ce-0b06052ce533\",\"type\":\"Circle\"},{\"attributes\":{\"below\":[{\"id\":\"5389ddd7-0920-468d-96d0-85694f325c4c\",\"type\":\"LinearAxis\"}],\"left\":[{\"id\":\"9775495e-e06c-4a95-bfb8-90244ad878b3\",\"type\":\"LinearAxis\"}],\"outline_line_color\":{\"value\":null},\"plot_height\":800,\"plot_width\":800,\"renderers\":[{\"id\":\"5389ddd7-0920-468d-96d0-85694f325c4c\",\"type\":\"LinearAxis\"},{\"id\":\"1a020243-5e1d-4c48-b5bd-1d47646b34cb\",\"type\":\"Grid\"},{\"id\":\"9775495e-e06c-4a95-bfb8-90244ad878b3\",\"type\":\"LinearAxis\"},{\"id\":\"d9e41695-60c0-422f-a7f8-9041592ba62c\",\"type\":\"Grid\"},{\"id\":\"ac15d3d9-abea-4541-99b4-5a56aa8d4d94\",\"type\":\"BoxAnnotation\"},{\"id\":\"3c05d8d9-e296-45c1-900d-136b3a676d99\",\"type\":\"GlyphRenderer\"}],\"title\":{\"id\":\"51c2b60b-ee1d-4377-9fee-b7423a4ca27c\",\"type\":\"Title\"},\"toolbar\":{\"id\":\"350e7625-5710-4512-be27-349b0a02fa9c\",\"type\":\"Toolbar\"},\"x_range\":{\"id\":\"64a27548-d815-46e1-a236-6544ea2109a3\",\"type\":\"DataRange1d\"},\"x_scale\":{\"id\":\"8137166c-4d1a-4fea-88a7-21c9fa4f2740\",\"type\":\"LinearScale\"},\"y_range\":{\"id\":\"016e13f6-fea5-4ece-928f-6438ba446282\",\"type\":\"DataRange1d\"},\"y_scale\":{\"id\":\"6a99a9ac-e90a-4b8d-bcb0-e3e3c6a2c1f1\",\"type\":\"LinearScale\"}},\"id\":\"9abadbd0-f54e-4dfc-98c4-9dcc7bcd6ced\",\"subtype\":\"Figure\",\"type\":\"Plot\"},{\"attributes\":{\"formatter\":{\"id\":\"e5930332-1b41-42e8-8caa-23062f8e0482\",\"type\":\"BasicTickFormatter\"},\"plot\":{\"id\":\"9abadbd0-f54e-4dfc-98c4-9dcc7bcd6ced\",\"subtype\":\"Figure\",\"type\":\"Plot\"},\"ticker\":{\"id\":\"47489f63-cf26-45bd-b44b-6b12b2f1ec46\",\"type\":\"BasicTicker\"},\"visible\":false},\"id\":\"5389ddd7-0920-468d-96d0-85694f325c4c\",\"type\":\"LinearAxis\"},{\"attributes\":{\"callback\":null,\"tooltips\":\"@word\"},\"id\":\"03d98e78-c4c1-4e21-b90c-79b88d1a27c3\",\"type\":\"HoverTool\"}],\"root_ids\":[\"9abadbd0-f54e-4dfc-98c4-9dcc7bcd6ced\"]},\"title\":\"Bokeh Application\",\"version\":\"0.12.13\"}};\n",
       "  var render_items = [{\"docid\":\"f2dd9ee8-79c3-4331-8cb2-fc4b7a1dc929\",\"elementid\":\"1511f823-e50a-4156-92c1-e94d4ae018bd\",\"modelid\":\"9abadbd0-f54e-4dfc-98c4-9dcc7bcd6ced\"}];\n",
       "  root.Bokeh.embed.embed_items_notebook(docs_json, render_items);\n",
       "\n",
       "  }\n",
       "  if (root.Bokeh !== undefined) {\n",
       "    embed_document(root);\n",
       "  } else {\n",
       "    var attempts = 0;\n",
       "    var timer = setInterval(function(root) {\n",
       "      if (root.Bokeh !== undefined) {\n",
       "        embed_document(root);\n",
       "        clearInterval(timer);\n",
       "      }\n",
       "      attempts++;\n",
       "      if (attempts > 100) {\n",
       "        console.log(\"Bokeh: ERROR: Unable to run BokehJS code because BokehJS library is missing\")\n",
       "        clearInterval(timer);\n",
       "      }\n",
       "    }, 10, root)\n",
       "  }\n",
       "})(window);"
      ],
      "application/vnd.bokehjs_exec.v0+json": ""
     },
     "metadata": {
      "application/vnd.bokehjs_exec.v0+json": {
       "id": "9abadbd0-f54e-4dfc-98c4-9dcc7bcd6ced"
      }
     },
     "output_type": "display_data"
    }
   ],
   "source": [
    "# t-SNE 모델 시각화\n",
    "\n",
    "from bokeh.plotting import figure, show, output_notebook\n",
    "from bokeh.models import HoverTool, ColumnDataSource, value\n",
    "output_notebook()\n",
    "\n",
    "# prepare the data in a form suitable for bokeh.\n",
    "plot_data = ColumnDataSource(tsne_df)\n",
    "\n",
    "# create the plot and configure it\n",
    "tsne_plot = figure(title='t-SNE Word Embeddings',\n",
    "                   plot_width = 800,\n",
    "                   plot_height = 800,\n",
    "                   active_scroll='wheel_zoom'\n",
    "                  )\n",
    "\n",
    "# add a hover tool to display words on roll-over\n",
    "tsne_plot.add_tools( HoverTool(tooltips = '@word') )\n",
    "\n",
    "tsne_plot.circle('x_coord', 'y_coord', source=plot_data,\n",
    "                 color='blue', line_alpha=0.2, fill_alpha=0.1,\n",
    "                 size=10, hover_line_color='orange')\n",
    "\n",
    "# adjust visual elements of the plot\n",
    "tsne_plot.title.text_font_size = value('16pt')\n",
    "tsne_plot.xaxis.visible = False\n",
    "tsne_plot.yaxis.visible = False\n",
    "tsne_plot.grid.grid_line_color = None\n",
    "tsne_plot.outline_line_color = None\n",
    "\n",
    "# show \n",
    "show(tsne_plot);"
   ]
  },
  {
   "cell_type": "code",
   "execution_count": 44,
   "metadata": {},
   "outputs": [
    {
     "data": {
      "text/html": [
       "\n",
       "<div class=\"bk-root\">\n",
       "    <div class=\"bk-plotdiv\" id=\"4779ceb6-e0e3-4f0a-8c5b-43fc473a9f7e\"></div>\n",
       "</div>"
      ]
     },
     "metadata": {},
     "output_type": "display_data"
    },
    {
     "data": {
      "application/javascript": [
       "(function(root) {\n",
       "  function embed_document(root) {\n",
       "    \n",
       "  var docs_json = {\"5839a317-f588-4a51-8de4-4da50b9d503e\":{\"roots\":{\"references\":[{\"attributes\":{},\"id\":\"47489f63-cf26-45bd-b44b-6b12b2f1ec46\",\"type\":\"BasicTicker\"},{\"attributes\":{},\"id\":\"e5930332-1b41-42e8-8caa-23062f8e0482\",\"type\":\"BasicTickFormatter\"},{\"attributes\":{\"grid_line_color\":{\"value\":null},\"plot\":{\"id\":\"9abadbd0-f54e-4dfc-98c4-9dcc7bcd6ced\",\"subtype\":\"Figure\",\"type\":\"Plot\"},\"ticker\":{\"id\":\"47489f63-cf26-45bd-b44b-6b12b2f1ec46\",\"type\":\"BasicTicker\"}},\"id\":\"1a020243-5e1d-4c48-b5bd-1d47646b34cb\",\"type\":\"Grid\"},{\"attributes\":{\"formatter\":{\"id\":\"c4e16df4-703a-4e42-aa00-af674e085aa7\",\"type\":\"BasicTickFormatter\"},\"plot\":{\"id\":\"9abadbd0-f54e-4dfc-98c4-9dcc7bcd6ced\",\"subtype\":\"Figure\",\"type\":\"Plot\"},\"ticker\":{\"id\":\"9fb5167b-d349-45c0-915e-969d9f8ac749\",\"type\":\"BasicTicker\"},\"visible\":false},\"id\":\"9775495e-e06c-4a95-bfb8-90244ad878b3\",\"type\":\"LinearAxis\"},{\"attributes\":{\"bottom_units\":\"screen\",\"fill_alpha\":{\"value\":0.5},\"fill_color\":{\"value\":\"lightgrey\"},\"left_units\":\"screen\",\"level\":\"overlay\",\"line_alpha\":{\"value\":1.0},\"line_color\":{\"value\":\"black\"},\"line_dash\":[4,4],\"line_width\":{\"value\":2},\"plot\":null,\"render_mode\":\"css\",\"right_units\":\"screen\",\"top_units\":\"screen\"},\"id\":\"ac15d3d9-abea-4541-99b4-5a56aa8d4d94\",\"type\":\"BoxAnnotation\"},{\"attributes\":{},\"id\":\"9fb5167b-d349-45c0-915e-969d9f8ac749\",\"type\":\"BasicTicker\"},{\"attributes\":{\"dimension\":1,\"grid_line_color\":{\"value\":null},\"plot\":{\"id\":\"9abadbd0-f54e-4dfc-98c4-9dcc7bcd6ced\",\"subtype\":\"Figure\",\"type\":\"Plot\"},\"ticker\":{\"id\":\"9fb5167b-d349-45c0-915e-969d9f8ac749\",\"type\":\"BasicTicker\"}},\"id\":\"d9e41695-60c0-422f-a7f8-9041592ba62c\",\"type\":\"Grid\"},{\"attributes\":{\"fill_alpha\":{\"value\":0.1},\"fill_color\":{\"value\":\"#1f77b4\"},\"line_alpha\":{\"value\":0.1},\"line_color\":{\"value\":\"#1f77b4\"},\"size\":{\"units\":\"screen\",\"value\":10},\"x\":{\"field\":\"x_coord\"},\"y\":{\"field\":\"y_coord\"}},\"id\":\"772b4b21-1d76-4877-9240-319ef9068b16\",\"type\":\"Circle\"},{\"attributes\":{\"callback\":null,\"column_names\":[\"x_coord\",\"y_coord\",\"word\",\"index\"],\"data\":{\"index\":[\"br\",\"\\ub09c\",\"\\ub0b4\",\"you\",\"\\ub0a0\",\"\\ub110\",\"\\ub0b4\\uac00\",\"\\ub098\",\"\\ub10c\",\"\\uadf8\",\"I\",\"\\ub098\\ub97c\",\"\\ub108\\uc758\",\"\\ub108\\ub97c\",\"Oh\",\"\\ub2e4\",\"\\ub108\",\"\\ub098\\uc758\",\"love\",\"\\ub354\",\"\\ub610\",\"baby\",\"me\",\"\\ub0b4\\uac8c\",\"I_m\",\"\\ub2e4\\uc2dc\",\"\\uc5c6\\uc5b4\",\"\\ub2c8\\uac00\",\"\\uc774\\uc820\",\"\\uc65c\",\"\\ub098\\ub294\",\"oh\",\"Baby\",\"\\uadf8\\ub300\",\"\\ub108\\ubb34\",\"\\uc6b0\\ub9ac\",\"\\uc774\",\"\\ub124\",\"\\uac78\",\"\\uc5c6\\ub294\",\"\\uc774\\uc81c\",\"\\uc788\\uc5b4\",\"\\uc774\\ub807\\uac8c\",\"\\ud574\",\"\\ub124\\uac00\",\"girl\",\"it\",\"\\ubaa8\\ub450\",\"my\",\"\\uc9c0\\uae08\",\"You\",\"\\ub2c8\",\"\\uc815\\ub9d0\",\"\\ub108\\ub294\",\"\\uc0ac\\ub791\",\"\\uac70\\uc57c\",\"go\",\"\\ubd10\",\"and\",\"\\ub108\\uc640\",\"yeah\",\"\\uc0ac\\ub791\\uc744\",\"the\",\"oh_oh\",\"\\ub9d0\",\"\\uadf8\\ub798\",\"up\",\"to\",\"Yeah\",\"\\uadf8\\ub807\\uac8c\",\"\\uc5b8\\uc81c\\ub098\",\"\\ub108\\uc5d0\\uac8c\",\"\\uc788\\ub294\",\"\\uc774\\ub7f0\",\"\\uc6b0\\ub9b0\",\"\\uc790\\uafb8\",\"know\",\"\\uc0ac\\ub791\\ud574\",\"\\ud56d\\uc0c1\",\"\\uadf8\\ub0e5\",\"\\uc880\",\"\\ub3fc\",\"\\uadf8\\ub7f0\",\"\\ubab0\\ub77c\",\"\\ud558\\uc9c0\\ub9cc\",\"a\",\"\\uac19\\uc740\",\"\\uac74\",\"\\uc601\\uc6d0\\ud788\",\"It_s\",\"Don_t\",\"\\ub0b4_\\ub9d8\",\"\\ud568\\uaed8\",\"\\uc544\\uc9c1\",\"\\ud55c\",\"\\uc774\\uc81c\\ub294\",\"\\uc81c\\ubc1c\",\"now\",\"U\",\"Let_s\",\"\\ub9e4\\uc77c\",\"Hey\",\"\\uc54a\\uc544\",\"on\",\"\\ub098\\ub3c4\",\"\\ub9c8\\uc74c\",\"\\uc88b\\uc544\",\"\\ub124\\uac8c\",\"don_t\",\"like\",\"be\",\"\\uc774\\ubbf8\",\"\\uc548\",\"\\ub54c\",\"\\uc0ac\\ub791\\uc774\",\"\\uac19\\uc544\",\"\\ub0b4_\\ub9d8\\uc744\",\"\\uac8c\",\"Love\",\"\\uc5c6\\uc774\",\"\\ub2e4\\ub978\",\"I_ll\",\"say\",\"\\uc18d\\uc5d0\",\"\\ub298\",\"\\ubaa8\\ub4e0\",\"\\uc0ac\\ub78c\",\"I_wanna\",\"\\uc5b4\\ub5bb\\uac8c\",\"\\ub108\\ub9cc\",\"\\uc624\",\"boy\",\"\\uaf2d\",\"\\uc0ac\\ub791\\uc740\",\"do\",\"\\ubabb\",\"Girl\",\"You_re\",\"\\uc624\\ub298\",\"\\ub9d8\",\"\\uc2f6\\uc5b4\",\"\\uc544\\uc9c1\\ub3c4\",\"I_don\",\"that\",\"\\ub098\\uc5d0\\uac8c\",\"I_can\",\"no\",\"\\ub0b4\\uac90\",\"Oh_Oh\",\"\\uadf8\\ub300\\uac00\",\"\\ub9c8\",\"\\uc798\",\"\\uadf8\\ub308\",\"\\uc624\\ub298\\ub3c4\",\"\\ub9ce\\uc774\",\"\\uc21c\\uac04\",\"\\ud574\\ub3c4\",\"t\",\"feel\",\"\\uc800\",\"My\",\"\\ub354_\\uc774\\uc0c1\",\"\\uac83_\\uac19\\uc544\",\"stop\",\"my_love\",\"\\uacc4\\uc18d\",\"\\uadf8\\uc800\",\"\\ubaa8\\uc2b5\",\"I_want\",\"So\",\"\\ub108\\ub3c4\",\"\\ub108\\ubb34\\ub098\",\"just\",\"\\uc774\\ub300\\ub85c\",\"\\ud558\\ub294\",\"\\uac19\\uc774\",\"Just\",\"\\uc54c\\uc544\",\"\\ubcf4\\uace0\",\"is\",\"all\",\"it_s\",\"\\uc544\\ub984\\ub2e4\\uc6b4\",\"your\",\"\\uc2dc\\uac04\\uc774\",\"\\ud63c\\uc790\",\"\\ud558\\ub098\",\"\\ub9c8\\uce58\",\"\\uac83\",\"\\uc788\\uac8c\",\"time\",\"\\ubc14\\ub85c\",\"down\",\"so\",\"\\uc791\\uc740\",\"\\ubaa8\\ub4e0_\\uac78\",\"\\uc2dc\\uac04\",\"\\ub9d0\\uace0\",\"\\uc808\\ub300\",\"\\ucc38\",\"\\uadf8\\ub300\\ub97c\",\"\\uc6b0\\ub9ac\\uac00\",\"\\uc5ec\\uae30\",\"\\uc544\\ub0d0\",\"Come_on\",\"\\ub208\\ubb3c\",\"for\",\"tonight\",\"\\ub108\\uc640_\\ub098\",\"you_re\",\"\\uad1c\\ucc2e\\uc544\",\"\\uc788\\ub2e4\\uba74\",\"\\uc918\",\"\\uc790\\uafb8\\ub9cc\",\"\\ubabb\\ud574\",\"\\uac00\\uc2b4\\uc774\",\"want\",\"uh\",\"\\ubaa8\\ub4e0_\\uac8c\",\"\\ubaa8\\ub450_\\ub2e4\",\"\\uc548\\ub3fc\",\"\\ub098\\ub9cc\",\"get\",\"la_la\",\"\\uc2eb\\uc5b4\",\"\\ud560_\\uc218\",\"I_need\",\"\\uc704\\ud574\",\"come_on\",\"\\uc6d0\\ud574\",\"\\ub0b4_\\uacc1\\uc5d0\",\"\\ud560\",\"one\",\"\\ud558\\uace0\",\"\\uc880_\\ub354\",\"\\ub9ce\\uc740\",\"hey\",\"\\uc624\\uc9c1\",\"\\ub098\\uc640\",\"\\ub208\\ubb3c\\uc774\",\"\\ub9d0\\uc744\",\"\\ub9d8\\uc744\",\"\\ub9c8\\uc9c0\\ub9c9\",\"No\",\"\\ub9d8\\uc5d0\",\"\\ub2e4\\uac00\\uc640\",\"\\uc138\\uc0c1\",\"\\ubcf4\\uc5ec\",\"\\uc788\\uc796\\uc544\",\"We\",\"\\ub4ef\",\"\\uac00\",\"\\uacc1\\uc5d0\",\"\\ubc24\",\"back\",\"\\uadf8\\ub300\\uc758\",\"\\uc810\\uc810\",\"\\ubcf4\\uba74\",\"\\ub9c8\\uc74c\\uc774\",\"in\",\"\\ub9d0\\ud574\",\"\\uc624\\ub298\\uc740\",\"\\ubcfc_\\uc218\",\"\\uc544\\ub2cc\",\"\\uadf8\\uac8c\",\"\\uc6b0\\ub9ac\\uc758\",\"\\ub2ec\\ucf64\\ud55c\",\"to_the\",\"\\uadf8\\ub300\\ub85c\",\"\\uc5b4\\ub5a4\",\"this\",\"\\uadf8\\ub304\",\"I_just\",\"Uh\",\"Go\",\"wanna\",\"\\ud558\\uc9c0\\ub9c8\",\"right\",\"\\ub208\\uc744\",\"\\ub0b4_\\ub9d8\\uc774\",\"What\",\"u\",\"\\uadf8\\ub798\\ub3c4\",\"\\uac00\\uc2b4\\uc5d0\",\"\\ub098\\ub9cc\\uc758\",\"\\uc790\",\"\\ud639\\uc2dc\",\"what\",\"\\ub108\\uc640_\\ud568\\uaed8\",\"to_me\",\"\\uc88b\\uc740\",\"\\uc5b4\\ub5a1\\ud574\",\"\\ub204\\uac00\",\"\\uc2ac\\ud508\",\"\\uc870\\uae08\\uc529\",\"Woo\",\"\\uc608\\uc05c\",\"\\ub208\",\"\\ubd10\\ub3c4\",\"Let_me\",\"\\uc11c\\ub85c\",\"with_you\",\"\\ud55c_\\ubc88\",\"\\ud55c\\ubc88\",\"\\uc870\\uae08\",\"\\uc138\\uc0c1\\uc5d0\",\"tell_me\",\"\\uc544\\ubb34\\uac83\\ub3c4\",\"Now\",\"\\uc544\",\"\\uae30\\ub2e4\\ub824\",\"\\ub9d8\\uc774\",\"woo\",\"\\uadf8\\ub9ac\\uace0\",\"\\uc5bc\\ub9c8\\ub098\",\"babe\",\"\\uc640\",\"for_you\",\"\\ubb50\",\"\\uc5b4\\ub290\\uc0c8\",\"\\ub2e4\\uc2e0\",\"\\uc544\\ud508\",\"Say\",\"\\ub531\",\"\\uadf8\\ub54c\",\"\\ubaa8\\ub4e0\\uac78\",\"\\uc55e\\uc5d0\",\"\\uc774\\uac74\",\"\\ub530\\ub77c\",\"\\ub9c8\\uc74c\\uc744\",\"\\uc27d\\uac8c\",\"of\",\"\\ubbf8\\uc548\\ud574\",\"\\ub354\\ub294\",\"\\ub9cc\\ud07c\",\"\\uc6b0\\ub9b4\",\"uh_uh\",\"Boy\",\"i\",\"crazy\",\"\\uc544\\ub2c8\",\"my_heart\",\"\\uc0ac\\ub791\\ud558\\ub294\",\"we\",\"\\uc138\\uc0c1\\uc774\",\"yo\",\"in_the\",\"\\uc138\\uc0c1\\uc744\",\"see\",\"in_my\",\"\\ucc98\\uc74c\",\"\\uc544\\ub2c8\\uc57c\",\"\\uc7a0\\uc2dc\",\"\\ubcf4\\ub294\",\"\\uadf8\\ub9cc\",\"can\",\"\\uac00\\ub294\",\"\\uc0dd\\uac01\\ud574\",\"\\uc904\",\"good\",\"your_love\",\"can_t\",\"\\uc54c_\\uc218\",\"\\uc9c4\\uc9dc\",\"woo_woo\",\"got\",\"\\ub208\\ube5b\",\"do_it\",\"\\uc804\\ubd80\",\"\\uac70\",\"\\uba40\\ub9ac\",\"out\",\"day\",\"\\uac00\\uc2b4\",\"\\uc0ac\\ub791\\uc5d0\",\"\\uc5c6\\uc796\\uc544\",\"\\ud588\\uc5b4\",\"make\",\"\\uadf8\\ub300\\ub294\",\"only\",\"\\ubb58\",\"\\uc544\\uc8fc\",\"let_s\",\"\\uc18c\\uc911\\ud55c\",\"\\uc5b8\\uc820\\uac00\",\"\\ub0b4_\\ub9c8\\uc74c\\uc744\",\"with\",\"\\ub208\\uc774\",\"\\uc788\\uc744\\uae4c\",\"\\uc548\\uc5d0\",\"Tell_me\",\"\\uac74\\uc9c0\",\"\\uae30\\uc5b5\\ud574\",\"And\",\"\\uc218\",\"\\uc774\\uac8c\",\"\\uac00\\ub054\",\"\\ud588\\ub358\",\"But\",\"\\uc804\\uc5d0\",\"\\uc9c0\\uae08_\\uc774\",\"\\ub05d\\uae4c\\uc9c0\",\"\\uae30\\uc5b5\",\"You_are\",\"\\ub110_\\uc704\\ud574\",\"\\ubbff\\uc5b4\",\"\\uacb0\\uad6d\",\"I_got\",\"na_na\",\"\\ubc84\\ub9b0\",\"\\uba3c\\uc800\",\"no_no\",\"\\uc544\\ubb34\\ub9ac\",\"\\uc77c\",\"\\ub550\",\"\\ucc99\",\"\\ud558\\uc9c0\",\"why\",\"\\uc18d\",\"s\",\"eh_eh\",\"\\uae38\\uc744\",\"\\ubc8c\\uc368\",\"\\uadf8\\ub798\\uc11c\",\"\\uc190\\uc744\",\"never\",\"\\ubaa8\\ub450\\uac00\",\"\\ub108\\ub9cc\\uc744\",\"\\uc0dd\\uac01\",\"\\uc544\\ubb34\\ub3c4\",\"\\ubc14\\ub798\",\"\\ub108\\ub97c_\\uc0ac\\ub791\\ud574\",\"\\ud5a5\\ud574\",\"\\uba4b\\uc9c4\",\"\\uac83\\ub3c4\",\"\\ud589\\ubcf5\\ud55c\",\"ya\",\"but\",\"\\ub54c\\ubb38\\uc5d0\",\"\\uc870\\uae08_\\ub354\",\"come\",\"baby_baby\",\"\\uadf8\\ub140\",\"\\uac83\\ucc98\\ub7fc\",\"\\uafc8\\uc744\",\"\\ub450\",\"\\ub9d0\\uc774\",\"\\ub5a0\\ub098\",\"\\uc5ec\\uc804\\ud788\",\"\\uc2ec\\uc7a5\\uc774\",\"\\uc9c0\\ub09c\",\"\\ub2ec\\ub77c\",\"\\ub290\\ub08c\",\"yeah_yeah\",\"\\uc0c8\\ub85c\\uc6b4\",\"\\ub208\\uc5d0\",\"\\uc5ec\\uc790\",\"\\uac00\\ub4dd\",\"cry\",\"\\ud558\\uc580\",\"\\uc5b4\\uc11c\",\"let\",\"Yes\",\"alright\",\"\\uadf8\\ub300\\uc640\",\"\\ubcf4\\uba70\",\"\\uc598\\uae30\",\"\\uc190\",\"heart\",\"\\ucc3e\\uc544\",\"\\ub410\\uc5b4\",\"\\ub0b4_\\uc548\\uc5d0\",\"A\",\"party\",\"\\uafc8\",\"life\",\"\\ub0b4_\\ub9d8\\uc740\",\"\\uac70\\ub2c8\",\"again\",\"\\uadfc\\ub370\",\"\\ub54c\\uae4c\\uc9c0\",\"\\ucc28\\ub77c\\ub9ac\",\"let_me\",\"\\ubab0\\ub798\",\"night\",\"\\uc5c6\\ub294\\ub370\",\"\\ube68\\ub9ac\",\"you_are\",\"\\ub610_\\ub2e4\\ub978\",\"\\uac78\\uae4c\",\"\\uc0ac\\uc2e4\",\"\\uc904\\uac8c\",\"\\ubaa8\\ub4e0\\uac8c\",\"\\uadf8\\uac74\",\"\\ubcf4\\uace0_\\uc2f6\\uc5b4\",\"\\uc218_\\uc5c6\\uc5b4\",\"\\uc6b0\\ub9ac\\ub294\",\"forever\",\"get_it\",\"\\uac70\\uc9d3\\ub9d0\",\"\\uac00\\uae4c\\uc774\",\"\\ub9cc\\ub098\",\"what_you\",\"\\uc560\\uc368\",\"ah\",\"\\ub0a8\\uc790\",\"\\ubaa8\\ub974\\uaca0\\uc5b4\",\"\\uc218\\ub9ce\\uc740\",\"\\ub290\\ub084_\\uc218\",\"\\ub108_\\ub54c\\ubb38\\uc5d0\",\"You_know\",\"like_a\",\"Let\",\"Can\",\"\\uc2dc\\uac04\\uc740\",\"Everybody\",\"\\ub54c\\ub860\",\"\\ud558\\ub8e8_\\uc885\\uc77c\",\"\\ucc44\",\"\\ub290\\uaef4\\ubd10\",\"\\uc660\\uc9c0\",\"\\ud754\\ub4e4\\uc5b4\",\"All\",\"\\uc628\",\"Me\",\"Yeah_Yeah\",\"take\",\"\\ub0b4\\uac8c\\ub85c\",\"\\ub9d0\\ud574\\uc918\",\"Ah\",\"Can_t\",\"\\ub0a8\\uc544\",\"\\uc704\\ub85c\",\"\\ubc14\\ubcf4\\ucc98\\ub7fc\",\"\\ub9d0\\uc57c\",\"\\ub9d0\\uc740\",\"La_La\",\"sorry\",\"It\",\"\\ub9cc\\ub4e4\\uc5b4\",\"\\uc5b4\\uca4c\\uba74\",\"\\uc18d\\uc5d0\\uc11c\",\"\\uc5b4\\ub54c\",\"\\ud589\\ubcf5\\ud574\",\"\\uc54a\\ub294\",\"\\ubbf8\\uccd0\",\"\\uc774_\\uc21c\\uac04\",\"ma\",\"\\uc5b8\\uc81c\\uae4c\\uc9c0\\ub098\",\"\\ubbff\\uace0\",\"\\uc0b4\\uc9dd\",\"\\ub9c9\",\"\\uc544\\uc9c1\\uc740\",\"\\ubfd0\",\"\\ub728\\uac70\\uc6b4\",\"\\uc624\\ub298_\\ubc24\",\"\\uc904\\ub798\",\"ah_ah\",\"\\ub5a0\\ub09c\",\"\\ub450\\ub824\\uc6cc\",\"over\",\"\\ub418\\uc5b4\",\"\\uc54c\\uc796\\uc544\",\"\\uc0ac\\ub791\\ud55c\\ub2e4\\uace0\",\"\\ub9c8\\uc74c\\uc5d0\",\"\\uc78a\\uace0\",\"\\uadf8\\ub550\",\"way\",\"\\ub108\\ub780\",\"\\ubaa8\\uc2b5\\uc744\",\"\\uc2f6\\uc740\",\"\\uc544\\ub9c8\",\"\\uc2dc\\uac04\\uc744\",\"\\uc544\\ubb34\",\"\\ub2e4\\uc2dc\\ub294\",\"\\ubc14\\ub77c\\ubd10\",\"not\",\"\\ub9d0\\uc774\\uc57c\",\"\\uc0ac\\ub791\\uc758\",\"\\ube5b\\uc774\",\"\\uc138\\uc0c1\\uc740\",\"\\uc218_\\uc788\\uac8c\",\"\\uc774_\\ubc24\",\"\\ud070\",\"body\",\"me_now\",\"\\uc788\\ub294\\ub370\",\"\\uc0ac\\ub791\\ud588\\ub358\",\"\\ubd88\\ub7ec\",\"\\uae38\",\"man\",\"\\uc5bc\\uad74\",\"\\uc78a\\uc744_\\uc218\",\"The\",\"\\ub178\\ub798\",\"My_love\",\"\\ubcf4\\uc5ec\\uc918\",\"Tonight\",\"Do\",\"\\uc5c6\\uac8c\",\"\\uc54a\\uac8c\",\"Get\",\"with_me\",\"\\uc5b8\\uc81c\\uae4c\\uc9c0\",\"\\uc544\\ud30c\",\"\\uae30\\ubd84\",\"\\uadf8\\ub300\\uc5ec\",\"\\ub108\\ub97c_\\uc704\\ud574\",\"\\uc788\\ub358\",\"\\uc9c0\\uce5c\",\"\\ubb54\\uac00\",\"Come\",\"\\uc54c\\uace0\",\"\\uc5b4\\ucc28\\ud53c\",\"\\ub450\\uace0\",\"the_one\",\"\\uc774\\ub984\",\"\\ud558\\uba74\",\"\\uc6b0\",\"Ooh\",\"\\uad1c\\ud788\",\"\\ub300\\uccb4\",\"No_No\",\"t_know\",\"\\uc65c_\\uc790\\uafb8\",\"\\ub208\\ubb3c\\uc744\",\"\\uc18c\\ub9ac\",\"\\uc218_\\uc5c6\\ub294\",\"\\uc6b8\\uace0\",\"\\ub611\\uac19\\uc740\",\"\\ubaa8\\uc2b5\\uc774\",\"\\ub354\\uc6b1\",\"lady\",\"\\uacc1\\uc5d0\\uc11c\",\"eh\",\"it_up\",\"\\ub458\\uc774\",\"\\uae4a\\uc740\",\"\\uc0ac\\uc774\",\"\\ub208\\ubd80\\uc2e0\",\"make_me\",\"\\ucc28\\uac00\\uc6b4\",\"I_will\",\"in_love\",\"dance\",\"\\ubd10\\uc694\",\"That_s\",\"\\ub3c4\\ub300\\uccb4\",\"Up\",\"\\ub290\\uaef4\",\"i_m\",\"\\ub110_\\uc704\\ud55c\",\"\\uc5c6\\uc9c0\",\"\\ub4e4\\uc5b4\",\"\\uc5c6\\ub358\",\"\\uc788\\uc5b4\\uc694\",\"\\ud574\\uc918\",\"\\uc788\\uc8e0\",\"\\uc774_\\uc138\\uc0c1\",\"\\ub5a8\\ub9ac\\ub294\",\"\\uc0ac\\ub791\\ud574\\uc694\",\"Like\",\"\\ub110_\\ud5a5\\ud55c\",\"\\uadf8\\ub140\\uac00\",\"Stop\",\"\\uc774_\\ubc24\\uc774\",\"\\uc774\\uc81c\\uc57c\",\"One\",\"\\ud798\\ub4e0\",\"Yo\",\"\\uc704\\ud55c\",\"mind\",\"\\ub05d\\uc774\",\"\\ub0b4_\\ud488\\uc5d0\",\"\\uc0ac\\ub791\\ud55c\",\"fly\",\"\\uc5ec\\uae30\\uc11c\",\"\\uc808\\ub300\\ub85c\",\"\\ubbf8\\uc18c\",\"\\uc774\\ubcc4\\uc744\",\"\\ucc9c\\ucc9c\\ud788\",\"\\uce5c\\uad6c\",\"\\ud558\\ub8e8\\uac00\",\"\\ub098\\ub3c4_\\ubaa8\\ub974\\uac8c\",\"\\ube5b\\ub098\\ub294\",\"\\uc228\\uc774\",\"\\ubc24\\uc0c8\",\"\\ub9d0\\uc544\\uc694\",\"\\ud798\\uc774\",\"\\uc0ac\\ub78c\\uc774\",\"\\ud558\\ub8e8\",\"\\uc544\\ub2c8\\uba74\",\"\\uac78\\uc5b4\",\"\\uc11c\\ub85c\\ub97c\",\"\\ubb34\\uc2a8\",\"\\uc6d0\\ud558\\ub294\",\"my_life\",\"\\uc5b4\",\"\\ubfd0\\uc774\\uc57c\",\"\\ubc84\\ub9ac\\uace0\",\"mine\",\"give\",\"\\uadf8\\ub140\\ub97c\",\"\\uc7a1\\uace0\",\"\\uc0ac\\ub791\\ub3c4\",\"\\ub110_\\ubcf4\\uba74\",\"\\uc5c6\\ub2e4\\uace0\",\"\\uc785\\uc220\",\"\\uc788\\ub2c8\",\"\\ub108_\\ub55c\\uc5d0\",\"Na_Na\",\"\\uc5b4\\ub514\",\"\\uc900\",\"\\uc0b4\\uc544\",\"make_it\",\"\\ub728\\uac81\\uac8c\",\"\\ubed4\\ud55c\",\"\\ucd94\\uc5b5\",\"ye\",\"wanna_be\",\"\\ub098\\uc5d0\\uac90\",\"\\ube60\\uc838\",\"\\uadf8\\ub300\\uc5d0\\uac8c\",\"\\uc5c6\\uc5c8\\uc5b4\",\"\\ub3cc\\uc544\\uc640\",\"\\ub450_\\ub208\\uc744\",\"\\uacf3\",\"\\ub204\\uad6c\\ubcf4\\ub2e4\",\"\\ud63c\\uc790\\uc11c\",\"\\ub098_\\ud63c\\uc790\",\"\\ud798\\ub4e4\\uc5b4\",\"\\ubb50\\uac00\",\"\\ubaa9\\uc18c\\ub9ac\",\"rock\",\"\\uc54a\\uc740\",\"Do_it\",\"gonna\",\"\\uc774\\uc720\",\"\\uacf3\\uc5d0\",\"\\uc54a\\uace0\",\"\\uc870\\uae08\\uc740\",\"\\uc788\\uc9c0\",\"\\uc0ac\\ub791\\uc774\\ub780\",\"\\uc704\\ud574\\uc11c\",\"\\uc608\",\"\\ud544\\uc694_\\uc5c6\\uc5b4\",\"t_wanna\",\"the_way\",\"\\uc544\\ub294\",\"\\uc5c6\\uc9c0\\ub9cc\",\"\\ub418\\ub294\",\"\\ubaa8\\ub974\\ub294\",\"\\ub418\\uace0\",\"give_it\",\"\\ub108\\ubb34\\ub098\\ub3c4\",\"\\ubc84\\ub824\",\"\\uc0ac\\ub791\\ud55c\\ub2e4\",\"about\",\"\\uac00\\ub054\\uc740\",\"\\ub0a8\\uc740\",\"\\uafc8\\uc774\",\"\\uc0b4\\uba70\\uc2dc\",\"\\uc6c3\\uc73c\\uba70\",\"\\ub108_\\ud558\\ub098\\ub9cc\",\"\\ub204\\uad6c\\ub3c4\",\"\\ub9d0\\uc544\\uc918\",\"\\uc9c0\\uccd0\",\"\\ub9e4\\uc77c_\\ubc24\",\"\\uae4a\\uc774\",\"\\ub9c8\\uc694\",\"ooh\",\"\\ub530\\ub73b\\ud55c\",\"\\uadf8\\ub9ac\\uc6cc\",\"\\uac16\\uace0\",\"be_your\",\"\\uac00\\uace0\",\"\\uac00\\ub4dd\\ud55c\",\"\\uc788\\uc5b4\\ub3c4\",\"\\ub108\\uc57c\",\"Babe\",\"\\ub108\\ub9cc\\uc758\",\"\\ub0b4_\\uc606\\uc5d0\",\"Ah_Ah\",\"\\ubcc4\",\"Uh_Uh\",\"\\ub108\\uc640\\uc758\",\"\\ub450_\\ubc88\",\"\\uace0\\ub9c8\\uc6cc\",\"\\uc194\\uc9c1\\ud788\",\"\\ub9d0\\ud574\\ubd10\",\"no_more\",\"\\ub4a4\\ub85c\",\"\\uac83\\uc774\",\"\\uc57d\\uc18d\\ud574\",\"Hello\",\"\\uadf8\\ub7fc\",\"\\ub54c\\uba74\",\"\\uc704\\uc5d0\",\"\\ub098\\uc05c\",\"\\ubabb\\ud558\\uace0\",\"\\ub098\\uc640_\\ud568\\uaed8\",\"\\ubaa8\\ub450\\ub2e4\",\"I_am\",\"\\uadf8\\ub148\",\"\\uac83\\ub9cc_\\uac19\\uc544\",\"\\ud544\\uc694\\ud574\",\"OK\",\"\\uc0ac\\ub294\",\"\\uae34\",\"\\ubabb\\ud55c\",\"\\uc624\\ub298\\ubc24\",\"\\uc9c0\\uae08\\ubd80\\ud130\",\"\\ud574\\uc694\",\"\\uc544\\ubb34\\ub7f0\",\"\\uc6c3\\uace0\",\"\\uc544\\ub984\\ub2e4\\uc6cc\",\"\\ub4ef\\uc774\",\"give_me\",\"star\",\"\\uc0c1\\ucc98\",\"\\ub0b4\\uac8c_\\ub2e4\\uac00\\uc640\",\"\\ub2e4\\ub4e4\",\"take_it\",\"\\uc800\\uae30\",\"all_night\",\"\\uad81\\uae08\\ud574\",\"hands_up\",\"t_stop\",\"\\ub108\\ubb34\\ub3c4\",\"\\uc218\\uac00_\\uc5c6\\uc5b4\",\"always\",\"What_s\",\"\\ud558\\ub8e8\\ud558\\ub8e8\",\"\\uac00\\uc7a5\",\"\\uc0ac\\ub77c\\uc838\",\"\\uc0ac\\ub78c\\ub4e4\",\"\\uc774\\ubcc4\",\"\\uac70\\uae30\",\"\\uc694\\uc998\",\"\\uc65c_\\uc774\\ub798\",\"\\uc548_\\ub3fc\",\"\\uc6b0\\ub9ac_\\ub458\\uc774\",\"away\",\"\\ub0b4\\uac8c\\uc11c\",\"\\uadf8\\ub140\\ub294\",\"\\uc628\\ud1b5\",\"\\uc601\\uc6d0\\ud1a0\\ub85d\",\"\\ube5b\\uc744\",\"get_up\",\"\\ub108\\ub9cc_\\ubcf4\\uba74\",\"everybody\",\"need\",\"\\ub0b4\\uc77c\",\"\\uac00\\uc9c4\",\"\\ub9d0\\ub3c4\",\"\\ubc14\\ub77c\\ubcf4\\ub294\",\"\\uc788\\ub3c4\\ub85d\",\"\\uc6c3\\ub294\",\"\\uc190\\uc5d0\",\"\\uc5b4\\ub290\",\"\\uac00\\uc2b4\\uc744\",\"be_there\",\"Love_is\",\"\\ud45c\\uc815\",\"\\ub208\\ubb3c\\ub85c\",\"\\uc608\\ubed0\",\"\\uc774\\uc81c_\\uadf8\\ub9cc\",\"\\ub05d\\ub0b4\",\"\\ub5a0\\uc62c\\ub77c\",\"\\uc7a0\\ub4e0\",\"bye\",\"gonna_be\",\"\\ud06c\\uac8c\",\"\\ub208\\ube5b\\uc774\",\"\\uadf8_\\uc5b4\\ub5a4\",\"time_to\",\"Party\",\"\\uc5b4\\ub514\\ub4e0\",\"\\ubab0\\ub790\\uc5b4\",\"Back\",\"\\uc601\\uc6d0\\ud55c\",\"\\uadf8\\ub140\\uc758\",\"Why\",\"high\",\"\\ub0a0\\uc774\",\"\\uc788\\ub2e4\\uace0\",\"\\uc788\\uc5b4\\uc918\",\"la\",\"\\uc18c\\ub9ac\\uccd0\",\"\\ub354_\\uc774\\uc0c1\\uc740\",\"\\ubcf4\\ub2e4\",\"ready\",\"\\uba48\\ucd9c_\\uc218\",\"\\ub420\",\"\\uc57c\",\"\\uc815\\ub9d0\\ub85c\",\"\\ub098\\uc57c\",\"that_s\",\"Shake_it\",\"\\ubcf4\\uc774\\ub294\",\"\\ud558\\ub294\\uc9c0\",\"Never\",\"\\ud558\\uc597\\uac8c\",\"La_la\",\"\\uc6cc\",\"If_you\",\"\\uc5c6\\uc5b4\\ub3c4\",\"\\ud5a5\\ud55c\",\"\\uc5b4\\uca5c\",\"\\ubab8\\uc744\",\"\\ub108\\ub85c\",\"Feel\",\"\\ud558\\ub298\",\"\\uadf8_\\ub204\\uad6c\\ub3c4\",\"\\uc2dc\\uc791\\ud574\",\"here\",\"\\uc544\\ub2d8\",\"This_is\",\"\\ubaa8\\ub4e0_\\uac83\\uc744\",\"\\uc904_\\uc218\",\"\\uc78a\\uc5b4\",\"\\ucc98\\uc74c\\ubd80\\ud130\",\"\\uadf8\\ub300\\ub9cc\",\"\\uc77c\\uc5b4\\ub098\",\"\\ud558\\ub298\\uc744\",\"want_you\",\"\\uc5b8\\uc81c\\ub77c\\ub3c4\",\"\\uc228\\uc744\",\"\\ub9ce\\uc544\",\"\\ub9d8\\uc740\",\"\\ub2e4\\uac00\\uac00\",\"\\uc548\\ub155\",\"everything\",\"\\uc5c6\\uc5b4\\uc694\",\"bye_bye\",\"\\uc548\\uc5d0\\uc11c\",\"\\uc6d0\\ub798\",\"She_s\",\"\\ub54c\\ub9c8\\ub2e4\",\"Lady\",\"You_make\",\"\\uc5c6\\ub2e4\",\"\\ubc84\\ub838\\uc5b4\",\"\\uc2f6\\uc740\\ub370\",\"\\ub204\\uad70\\uac00\",\"\\ub2ec\\ub824\",\"We_re\",\"\\uc9c0\\uae08\\ub3c4\",\"\\uc7a0\\uae50\",\"\\ub4e4\\uc5b4\\uc640\",\"O\",\"Your\",\"To\",\"\\ub450\\uadfc\\ub450\\uadfc\",\"\\ud558\\ub098_\\ub458\",\"\\uac11\\uc790\\uae30\",\"\\ub2e4\\uc2dc_\\ud55c\\ubc88\",\"\\ud640\\ub85c\",\"\\uc218_\\uc788\\uc5b4\",\"\\ub290\\uaef4\\uc838\",\"\\ub9d0\\ub85c\",\"\\uc57d\\uc18d\",\"kiss\",\"\\ucd94\\uc5b5\\uc774\",\"\\uc54c\\uc558\\uc5b4\",\"\\ubc14\\ubcf4\",\"\\ucc28\\uac11\\uac8c\",\"show\",\"more\",\"\\ub534\",\"\\ubc16\\uc5d0\",\"\\ub108\\ub9cc\\uc774\",\"\\ub530\\uc708\",\"\\uc8fc\\ub294\",\"like_this\",\"\\ubcfc\",\"\\ub4ef\\ud55c\",\"\\uc548\\uace0\",\"\\uc5b8\\uc820\\uac04\",\"\\ud758\\ub7ec\",\"\\uc190\\uc744_\\uc7a1\\uace0\",\"\\ub108\\ub77c\\ub294\",\"\\uc810\\uc810_\\ub354\",\"\\ud558\\ub298\\uc5d0\",\"how\",\"right_now\",\"\\uc55e\\uc5d0\\uc11c\",\"\\ub300\\ub85c\",\"like_that\",\"\\uc544\\ud504\\uac8c\",\"\\ub2e8_\\ud55c\",\"\\uc800_\\uba40\\ub9ac\",\"please\",\"\\ub2f4\\uc544\",\"\\uac70\\ub77c\\uace0\",\"my_name\",\"\\uc5c6\\uace0\",\"\\uba48\\ucdb0\",\"\\ubaa8\\uc2b5\\uc740\",\"\\ud558\\ub294\\ub370\",\"\\ub05d\\uc5d0\",\"\\ud750\\ub974\\ub294\",\"\\ub450_\\uc190\",\"shake_it\",\"\\ubb50\\uc57c\",\"\\uc6c3\\uc744_\\uc218\",\"\\uae30\\uc5b5\\uc774\",\"\\ubcc4\\uc774\",\"I_miss\",\"Make\",\"\\ubabb\\ud560\",\"\\uc544\\ub798\",\"\\ud2b9\\ubcc4\\ud55c\",\"\\ub354\\uc774\\uc0c1\",\"\\ud558\\ub8e8\\ub97c\",\"\\uc870\\uae08\\ub9cc_\\ub354\",\"Forever\",\"We_can\",\"\\ud5a5\\uae30\",\"\\ubabb\\ud558\\uac8c\",\"\\uc704\\ud5d8\\ud574\",\"\\uc21c_\\uc5c6\\uc5b4\",\"\\uc788\\uc73c\\uba74\",\"\\uc0ac\\ub791\\ud558\\uace0\",\"For\",\"\\uc5c6\\ub294\\uac78\",\"Hello_Hello\",\"\\ubaa8\\uc2b5\\uc5d0\",\"\\uac00\\ub9cc\\ud788\",\"ooh_ooh\",\"\\uc544\\ud30c\\ub3c4\",\"\\uc9c0\\uae08\\uc740\",\"Give_it\",\"\\ub108_\\uc5c6\\uc778\",\"\\uc0ac\\ub791\\ud560\",\"\\uc0dd\\uac01\\uc5d0\",\"Give_me\",\"Only\",\"Like_a\",\"\\uc6c3\\uc5b4\",\"\\ub6f0\\uc5b4\",\"Everyday\",\"\\ud558\\ub298\\uc774\",\"\\ub9cc\\ub09c\",\"together\",\"\\ubc14\\ub78c\",\"\\uadf8\\ud1a0\\ub85d\",\"\\ubaa8\\ub4e0_\\uac83\\uc774\",\"\\ud560\\uae4c\",\"\\ud14c\\ub2c8\\uae4c\",\"\\ub098\\ucc98\\ub7fc\",\"\\ud558\\uac8c\",\"\\ubc24\\uc744\",\"break\",\"if_you\",\"\\uc5ec\\uae34\",\"\\ub0b4\\ub9d8\",\"\\ub0b4\\uac8c\\ub85c_\\uc640\",\"beautiful\",\"touch\",\"\\uac83\\uc744\",\"\\uc0dd\\uac01\\ub098\",\"\\ub124_\\uacc1\\uc5d0\",\"B\",\"at\",\"\\ud0c0\\uace0\",\"\\uc774\\ubcc4\\uc774\",\"Dance\",\"\\uc2dc\\uac04\\uc5d0\",\"\\uc598\\uae38\",\"\\uc81c\\uc77c\",\"\\ub2ec\\ub824\\uac00\",\"\\ub41c\",\"Take\",\"\\uc788\\ub294\\uc9c0\",\"\\uc0dd\\uac01\\uc774\",\"tell\",\"\\uc9c0\\uae08\\ucc98\\ub7fc\",\"ha\",\"\\ub2ec\\ucf64\\ud558\\uac8c\",\"Please\",\"my_god\",\"good_bye\",\"by\",\"without_you\",\"\\ub0b4_\\ub9d8\\uc18d\\uc5d0\",\"hot\",\"\\uc644\\ubcbd\\ud55c\",\"\\ub54c\\ub3c4\",\"feeling\",\"Show_me\",\"\\ubab0\\ub77c_\\ubab0\\ub77c\",\"\\ub290\\ub08c\\uc774\",\"\\ubaa8\\ub974\\uace0\",\"\\uc788\\uace0\",\"\\uc6b0\\ub9ac\\ub4e4\\uc758\",\"\\ub0b4\\uc77c\\uc740\",\"\\uc544\\ubb34_\\ub9d0\\ub3c4\",\"\\ubd24\\uc5b4\",\"girls\",\"\\ubc14\\ubcf4\\uac19\\uc774\",\"\\uc624\\ub298\\uc774\",\"\\uc788\\uc9c0\\ub9cc\",\"\\uc54a\\uc558\\uc5b4\",\"\\uc5ed\\uc2dc\",\"\\ubc24\\uc774\",\"\\uae30\\ub3c4\\ud574\",\"\\ub358\\uc838\",\"\\uae30\\ub2e4\\ub9b4\\uac8c\",\"\\ub3cc\\uc544\",\"\\ubbf8\\uc18c\\uac00\",\"long\",\"\\uc788\\uc5c8\\uc5b4\",\"\\ub4e4\\uc5b4\\ubd10\",\"\\ub354_\\ud06c\\uac8c\",\"all_right\",\"still\",\"\\uc544\\ub2cc\\ub370\",\"\\ubd10\\ubd10\",\"dream\",\"ma_girl\",\"\\uc88b\\uaca0\\uc5b4\",\"ain_t\",\"\\ub108\\uc5d0\\uac8c\\ub85c\",\"\\uc2dc\\uc120\",\"\\uc9c0\\ub098\",\"\\uc2ec\\uc7a5\",\"\\uadf8\\ub9ac\",\"gone\",\"\\ub9cc\\ub4e0\",\"\\ubcf4\\uc5ec\\uc904\\uac8c\",\"there\",\"\\ub450_\\ub208\\uc5d0\",\"\\ub300\\uc2e0\",\"\\uc788\\uc744\",\"My_Love\",\"\\ub108\\ubb34_\\uc88b\\uc544\",\"remember\",\"\\uc6b0\\ub9ac\\ub97c\",\"\\uc790\\uc2e0\\uc744\",\"\\uc0ac\\ub791\\uc73c\\ub85c\",\"ever\",\"\\ub2c8_\\ubaa8\\uc2b5\",\"Love_Love\",\"\\ud55c_\\ubc88\\ub9cc\",\"Crazy\",\"\\ud798\\uc744\",\"\\ubc14\\ub77c\\ubcf4\\uba70\",\"come_to\",\"\\ud55c\\ubc88\\ub9cc\",\"\\ub2e8\",\"\\uccab\",\"talk_about\",\"luv\",\"\\uc77c\\uc774\",\"\\ub05d\\uc5c6\\uc774\",\"\\uc548\\uaca8\",\"\\uc5b8\\uc820\\uac00\\ub294\",\"If\",\"\\uacac\\ub51c_\\uc218\",\"We_are\",\"\\uc7a1\\uc544\",\"\\uc11c\\ub85c\\uac00\",\"\\ucc29\\ud55c\",\"\\uc54a\\uc544\\ub3c4\",\"\\uc2dc\\uac04\\ub4e4\",\"\\ub610\\ub2e4\\uc2dc\",\"\\uba38\\ub9ac\",\"\\ub9de\\ucdb0\",\"\\uc785\",\"Good\",\"\\uc788\\uaca0\\uc9c0\",\"I_think\",\"us\",\"\\uc624\\ub798\",\"\\uc0c1\\uad00\\uc5c6\\uc5b4\",\"\\uae30\\ub300\",\"\\uc544\\ubb34_\\ub9d0\",\"\\ubaa8\\ub974\\uac8c\",\"\\ud14c\\ub2c8\",\"everyday\",\"Woo_woo\",\"fall_in\",\"\\uac00\\ub054\\uc529\",\"\\ubc24\\uc5d0\",\"\\uc783\\uc5b4\\ubc84\\ub9b0\",\"\\ubfd0\\uc57c\",\"\\uc774\\uc81c\\ubd80\\ud130\",\"\\ub108\\ub97c_\\uc6d0\\ud574\",\"\\ud150\\ub370\",\"\\ub9d0\\uc544\",\"\\uc88b\\uc544\\ud574\",\"Break_it\",\"\\uafc8\\uc5d0\",\"step\",\"\\uac00\\uc2b4\\uc18d\\uc5d0\",\"\\uae30\\ub2e4\\ub9ac\\ub294\",\"world\",\"\\ubc1b\\uc544\\uc918\",\"\\uc5c6\\uc8e0\",\"go_go\",\"\\ubcf8\",\"\\ub9e4\\ubc88\",\"\\ub208\\ubb3c\\ub3c4\",\"\\uc2ac\\ud514\",\"Be\",\"the_night\",\"Good_bye\",\"\\uba87\",\"\\ubbf8\\uce58\\ub3c4\\ub85d\",\"\\uc5b4\\uc81c\",\"\\uc9e7\\uc740\",\"\\ub0a8\\uaca8\\uc9c4\",\"\\uc55e\\uc73c\\ub85c\",\"\\uc918\\uc694\",\"\\ud574\\ubd10\\ub3c4\",\"in_your\",\"\\ubab0\\ub77c\\uc694\",\"\\uc774\\uc57c\\uae30\",\"One_Two\",\"\\ub450_\\ub208\",\"\\ube44\\uac00\",\"\\ub4a4\\uc5d0\",\"\\uc624_\\uc624\",\"\\ub530\\ub77c\\uc640\",\"\\uc624\\ub298\\ub530\\ub77c\",\"On\",\"\\uac00\\ub4dd\\ud788\",\"\\ud589\\ubcf5\\ud558\\uac8c\",\"\\ud558\\ub8e8\\uc885\\uc77c\",\"play\",\"\\ub450_\\uc190\\uc744\",\"\\ubbff\\uc744_\\uc218\",\"Girls\",\"stay\",\"\\ub0b4_\\ub9c8\\uc74c\\uc740\",\"\\ub530\\uc2a4\\ud55c\",\"\\ub0a0\\uc544\",\"\\ub458\\ub9cc\\uc758\",\"\\uc774\\ubcc4\\uc740\",\"\\ubbf8\\uce60_\\uac83\",\"Hey_Hey\",\"\\uc0dd\\uac01\\ud558\\uba74\",\"\\uc218\\ub3c4\",\"\\uc774_\\uc21c\\uac04\\uc744\",\"\\ud488\\uc5d0\",\"\\uc9c0\\ucf1c\",\"\\uc624\\ub294\",\"\\ud558\\uace0_\\uc2f6\\uc740\",\"\\ucd94\\uc5b5\\uc744\",\"\\ubcf4\\ub2c8\",\"\\uc6c3\\uc74c\",\"Cause_I\",\"\\ud558\\uc9c0_\\ub9c8\",\"\\uac16\\uace0_\\uc2f6\\uc5b4\",\"cause\",\"\\uc2f6\\uc5c8\\uc5b4\",\"\\uafc8\\ucc98\\ub7fc\",\"\\uc62c\",\"\\ucc98\\ub7fc\",\"say_goodbye\",\"Alright\",\"\\uc78a\\uc9c0\",\"\\uc11c\\ub85c\\uc758\",\"\\uadd3\\uac00\\uc5d0\",\"\\uc0ac\\uc2e4\\uc740\",\"\\uc9c0\\uae08\\uaecf\",\"\\uc6b0\\ub9ac_\\ub458\",\"my_mind\",\"yes\",\"\\uc870\\ucc28\",\"\\ubcf4\\ub0b4\",\"feel_so\",\"\\ubab8\\uc774\",\"\\uc0ac\\ub791\\ud574_\\uc0ac\\ub791\\ud574\",\"\\uac00\\uc9c8_\\uc218\",\"\\ub05d\",\"\\ub098_\\uc5b4\\ub5a1\\ud574\",\"\\ubbf8\\uce5c\",\"U_U\",\"\\uac00\\uc9c0\",\"beat\",\"\\uc788\\ub294\\uac78\",\"\\ub9e4\\uc77c_\\ub9e4\\uc77c\",\"\\uc870\\uae08\\ub9cc\",\"\\ub458\\uc774\\uc11c\",\"\\ud558\\ub2c8\",\"\\ub192\\uc774\",\"\\ubbf8\\uce58\\uaca0\\uc5b4\",\"come_back\",\"know_what\",\"\\uc788\\ub098\\uc694\",\"move\",\"\\uc911\",\"\\uc9c0\\uc6cc\",\"real\",\"are\",\"\\uc6d0\\ud55c\\ub2e4\\uba74\",\"Cause\",\"\\ub2c8_\\ub9d8\\uc744\",\"\\ub204\\uac00_\\ubb50\\ub798\\ub3c4\",\"keep\",\"\\ub2e4_\\uac19\\uc774\",\"Look_at\",\"L_O\",\"\\ub108\\ub97c_\\uc704\\ud55c\",\"\\uc606\\uc5d0\",\"\\ud798\\ub4e4\\uac8c\",\"\\uc5c6\\ub2e4\\uba74\",\"\\ud558\\ub098\\ub3c4\",\"\\ub193\\uace0\",\"Down\",\"\\ub0b4\\uacc1\\uc5d0\",\"\\ubab0\\ub77c\\ub3c4\",\"\\ub108\\ub97c_\\ud5a5\\ud55c\",\"\\ub098\\ub3c4_\\ubab0\\ub798\",\"\\uc5b4\\uca54_\\uc218\",\"\\ud568\\uaed8_\\ud560\",\"\\uc785\\uc220\\uc5d0\",\"\\ub0af\\uc120\",\"smile\",\"love_is\",\"\\ub9e1\\uaca8\",\"\\ubcfc\\uae4c\",\"true\",\"\\uc218\\uac00\",\"\\ub2e8\\uc9c0\",\"style\",\"\\uc7a1\\uc544\\uc918\",\"Get_up\",\"m\",\"This\",\"\\uc0ac\\ub791\\ud560_\\uc218\",\"\\uc678\\ub85c\\uc6b4\",\"\\ud560\\uac8c\",\"\\ub108\\uac00\",\"look_at\",\"\\uc788\\uc744\\uac8c\",\"\\uc54a\\uaca0\\uc5b4\",\"\\uc9c0\\ub098\\uac04\",\"\\uc9d1\\uc5d0\",\"\\uc9c0\\uae08\\uae4c\\uc9c0\",\"\\ud589\\ubcf5\\uc744\",\"\\uac00\\uc9c0\\ub9c8\",\"\\ub4e3\\uace0\",\"\\ub0b4\\ub824\",\"\\ub458\",\"\\ub4e4\\ub824\",\"\\uc7a0_\\ubabb\",\"\\ub9c8\\ub0e5\",\"\\uc6b0\\uc5f0\\ud788\",\"\\uac19\\uc740\\ub370\",\"\\uc544\\ud514\",\"\\ud6c4\\ud68c\",\"so_beautiful\",\"one_two\",\"leave_me\",\"my_lady\",\"\\uc788\\ub2e4\",\"\\ub9e4\\uc77c\\ub9e4\\uc77c\",\"\\ube44\\uce5c\",\"from\",\"\\uaf49\",\"\\uae30\\uc5b5\\uc744\",\"\\uc54c\\uace0_\\uc788\\uc5b4\",\"kiss_me\",\"\\ub208\\ubb3c\\uc740\",\"\\ub3cc\\uc544\\uac00\",\"\\uc0dd\\uac01\\uc740\",\"live\",\"\\uc0ac\\ub78c\\uc740\",\"\\ubc18\\uc9dd\\uc774\\ub294\",\"\\ubd99\\uc7a1\\uace0\",\"\\uac00\\uc790\",\"Go_Go\",\"\\ub9d0\\ud558\\uc9c0\",\"\\uc9c0\\uc6b8_\\uc218\",\"\\uadf8_\\uc790\\ub9ac\\uc5d0\",\"\\uc2dc\\uac04_\\uc18d\\uc5d0\",\"\\uac00\\uba74\",\"\\ub208\\uc744_\\uac10\\uace0\",\"\\uc544_\\uc544\",\"Boom\",\"\\ub098\\ubcf4\\ub2e4\",\"\\uc0b4_\\uc218\",\"\\ub108\\ub9cc_\\uc788\\uc73c\\uba74\",\"off\",\"\\uadf8\\ub7ec\\ub2c8\",\"\\ud55c\\ub9c8\\ub514\",\"\\uc54a\\uc744\\uac8c\",\"\\uc785\\uc220\\uc774\",\"\\ub4ef\\ud574\",\"Goodbye\",\"\\ub0b4\\uac8c\\ub294\",\"\\ub9d0\\ud558\\uace0\",\"\\ucc44\\ub85c\",\"\\ucc3e\\ub294\",\"\\ub0b4\\ub9d8\\uc744\",\"\\uc644\\ubcbd\\ud574\",\"\\ubc14\\ub78c\\uc774\",\"Beautiful\",\"\\ub9c8\\ub77c\",\"\\uace7\",\"\\uc88b\\uc544\\ud558\\ub294\",\"\\ubaa8\\ub978_\\ucc99\",\"\\ud754\\ub4e4\\ub9ac\\ub294\",\"\\ud639\\uc2dc\\ub098\",\"\\uc5b4\\ub450\\uc6b4\",\"\\uc218_\\uc788\\ub294\",\"\\ubabb\\ud558\\ub294\",\"\\uc804\\ud654\",\"\\uc228\",\"\\ub5a0\\ub098\\uac00\",\"light\",\"Hot\",\"\\ucc3e\\uc744_\\uc218\",\"\\ubb50\\ub77c\\uace0\",\"this_is\",\"\\uac08\",\"\\uc54a\\uc744\",\"\\uc774\\uc0c1\\ud574\",\"\\ub290\\uaef4\\uc9c0\\ub294\",\"sky\",\"\\ub9c8\\uc74c\\uc740\",\"\\ube5b\",\"what_s\",\"\\uc9c0\\uae08\\uc774\",\"Bye_Bye\",\"\\uac70\\ub9ac\",\"\\uc190\\uc774\",\"the_music\",\"\\uc190\\uc744_\\uc7a1\\uc544\",\"na\",\"\\ub9c8\\uc74c\\uc18d\\uc5d0\",\"\\ub9c8\\uc74c\\ub3c4\",\"\\uc544\\uc9c1\\uae4c\\uc9c0\",\"\\uc544\\uc774\",\"\\uc5b4\\ub9b0\",\"Know\",\"\\uae30\\ubd84\\uc774\",\"\\ub0a0\\uc544\\uac00\",\"pain\",\"show_you\",\"the_only\",\"\\uc27f\",\"\\ub0a8\\uc790\\ub2f5\\uac8c\",\"\\uac83\\uc740\",\"\\ud6c4\",\"\\uc65c_\\uc774\\ub9ac\",\"\\uc54c\\uba74\\uc11c\\ub3c4\",\"BABY\",\"\\uc644\\uc804\",\"\\uba4b\\ub300\\ub85c\",\"lonely\",\"\\ub2e4\\uac19\\uc774\",\"\\uc628\\uc885\\uc77c\",\"G\",\"Rock\",\"\\ub2f5\\ub2f5\\ud574\",\"\\ub108\\ub77c\\uba74\",\"\\ubb50\\ub4e0\",\"\\uc54c\\uace0_\\uc2f6\\uc5b4\",\"\\ud3c9\\uc0dd\",\"\\ub098\\ub9cc\\uc744\",\"\\ud55c\\ubc88_\\ub354\",\"\\ub0b4\\uac8c_\\ub3cc\\uc544\\uc640\",\"\\uc9c0\\ucf1c\\uc904\\uac8c\",\"Make_it\",\"\\uc804\\ubd80_\\ub2e4\",\"da\",\"\\ub2e4\\uc74c\",\"\\ub0b4\\uac8c_\\uc640\",\"\\uc5b4\\ub460\\uc774\",\"Bounce\",\"You_got\",\"\\ub208\\uc55e\\uc5d0\",\"\\ub0a0\\ub4e4\",\"Here\",\"\\uc124\\ub808\\ub294\",\"\\uc5c6\\uc5c8\\ub358\",\"\\uac70\\uc8e0\",\"\\uc800_\\ud558\\ub298\",\"\\uc6a9\\uae30\",\"\\ud145_\\ube48\",\"only_one\",\"\\uc774_\\uc138\\uc0c1\\uc5d0\",\"\\uc74c\",\"\\uc7a0\\uc774\",\"\\uafc8\\uc740\",\"Are_you\",\"have\",\"\\uc0c8\\ub86d\\uac8c\",\"\\uc5b4\\ub514\\ub85c\",\"YOU\",\"\\ubbf8\\uc18c\\ub97c\",\"\\uc9c0\\uae08\\uc758\",\"\\ud589\\ubcf5\\ud588\\ub358\",\"bounce\",\"\\ub0a8\\uc790\\uac00\",\"\\uc624\\uc624\",\"No_no\",\"\\uc774_\\ub290\\ub08c\",\"OH\",\"\\uba38\\ub9ac\\ubd80\\ud130_\\ubc1c\\ub05d\\uae4c\\uc9c0\",\"\\ud55c\\uc5c6\\uc774\",\"\\uc54c\\uc544\\uc694\",\"\\uc8fc\\uace0\",\"\\ud574\\ubd10\",\"\\ub354_\\ub192\\uc774\",\"\\ub0a8\\uc790\\ub294\",\"never_let\",\"\\ub0a0_\\uc548\\uc544\\uc918\",\"\\uac00\\uc838\\uac00\",\"Sorry\",\"\\uac08_\\uc218\",\"\\uadf8\\ub9ac\\uc6b4\",\"\\uc5b4\\uc0c9\\ud55c\",\"\\uc880\\ub354\",\"\\ubc14\\ubcf4_\\uac19\\uc740\",\"\\uc5b4\\ub514\\uc11c\",\"\\ud558\\ub358\",\"\\uc6b0\\ub9ac_\\uc0ac\\uc774\",\"\\ub108_\\uc544\\ub2c8\\uba74\",\"\\ubabb\\ud588\\uc5b4\",\"the_world\",\"\\uc0dd\\uac01\\uc744\",\"better\",\"\\ud55c_\\uac78\\uc74c\",\"eyes\",\"\\ubc14\\ub78c\\uc5d0\",\"\\ube60\\uc9c4\",\"\\uc5b4\\ub51c\",\"\\ubb54\\ub370\",\"Ready\",\"Ma\",\"\\ub108\\uc5d0\\uac90\",\"\\ub9d0\\ud574\\ub3c4\",\"\\ub2ee\\uc740\",\"something\",\"want_to\",\"\\ub05d\\uc744\",\"\\uc544\\ubb34\\ub3c4_\\ubaa8\\ub974\\uac8c\",\"\\ubd80\\ub4dc\\ub7ec\\uc6b4\",\"\\uc544\\ub2c8\\ub77c\\uace0\",\"\\ub9cc\\ub0a0\",\"\\ud587\\uc0b4\\uc774\",\"sweet\",\"\\ub5a0\\ub098\\uac04\",\"\\ud558\\uc796\\uc544\",\"Here_we\",\"\\uac19\\ub358\",\"\\uc654\\uc5b4\",\"\\uc544\\ud514\\uc744\",\"I_ve\",\"your_mind\",\"No_more\",\"When_I\",\"\\ub4e4\\uace0\",\"\\uae38\\uc774\",\"\\ub2e4\\uac00\\uc624\\ub294\",\"\\ud588\\ub294\\ub370\",\"\\ub108\\ub97c_\\ud5a5\\ud574\",\"\\ud22c\\uba85\\ud55c\",\"some\",\"\\uac70\\uce5c\",\"\\uc870\\uc6a9\\ud788\",\"\\uc5c6\\uc5b4\\uc11c\",\"\\uadf8\\ub7ac\\uc5b4\",\"I_believe\",\"be_with\",\"\\ub0b4_\\ub208\\uc5d4\",\"\\uc624\\ub7ab\\ub3d9\\uc548\",\"get_down\",\"re\",\"\\uc0c8\",\"\\ud558\\ub8e8\\ub3c4\",\"\\uac70\\ub77c\",\"\\uaca8\\uc6b8\",\"\\uac74\\ub370\",\"\\ub098\\ud0c0\\ub098\",\"Wanna\",\"\\uc0b4\",\"\\uae30\\ub2e4\\ub9b0\",\"\\uaebc\\uc57c\",\"\\ub108\\ub77c\\uc11c\",\"won_t\",\"so_sorry\",\"\\ubc1d\\uc740\",\"\\ub54c\\ub85c\\ub294\",\"\\uc788\\ub098\",\"\\uc9c0\\ub098\\uba74\",\"falling_in\",\"I_M\",\"\\ub0b4\\uc77c\\uc774\",\"\\uc54c\\uc9c0\",\"\\uc54a\\uc544\\uc694\",\"goodbye\",\"\\uc5bc\\uad74\\uc774\",\"\\uc54c\\uae4c\",\"\\uc678\\uccd0\",\"\\ubc14\\ub77c\\ub294\",\"\\ud589\\ubcf5\",\"\\uadf8\\ub7ec\\uba74\",\"lover\",\"\\uadf8\\ub798\\uc694\",\"\\ubaa8\\ub4e0\\uac78_\\ub2e4\",\"\\ub0a0\\uc544\\uc62c\\ub77c\",\"\\uc0c8\\ud558\\uc580\",\"\\uadf8\\ub54c\\ub85c\",\"\\ube60\\uc838\\ub4e4\\uc5b4\",\"\\ub124_\\uc0dd\\uac01\\uc5d0\",\"\\ucc98\\uc74c_\\ubcf8\",\"\\ub098\\uba74\",\"ride\",\"\\ubcf4\\uba74\\uc11c\",\"\\uc720\\uc77c\\ud55c\",\"too\",\"\\uc774\\uc81c\\uc640\",\"\\uc548\\uc544\\uc918\",\"\\ub0b4\\uc548\\uc5d0\",\"\\ub2e4\\uc2dc_\\ub3cc\\uc544\\uc640\",\"\\ub108_\\ubc16\\uc5d0\",\"\\ubcf4\\uace0_\\uc2f6\\uc740\",\"\\ub9de\\uc544\",\"\\ub108\\ub791\",\"hold\",\"have_to\",\"\\uc8fd\\uc5b4\\ub3c4\",\"\\ubcf4\\ub0b8\",\"\\uadf8\\ub0a0\",\"\\ub418\\uba74\",\"\\ubbff\\uc5b4\\uc694\",\"Ha\",\"\\ubab0\\ub790\\ub358\",\"\\uc54a\\ub3c4\\ub85d\",\"\\ub118\\uc5b4\",\"\\ub04c\\ub824\",\"Fly\",\"I_hate\",\"Step\",\"\\ub0b4\\uac00_\\uba3c\\uc800\",\"\\uba40\\uc5b4\\uc9c0\\ub294\",\"\\uc5c6\\uaca0\\uc9c0\",\"\\uace0\\ubc31\",\"\\ub5a0\\ub098\\ub294\",\"Christmas\",\"\\uc544\\ub984\\ub2f5\\uac8c\",\"sexy\",\"\\ubd88\\ub7ec\\uc918\",\"Kiss_me\",\"V_E\",\"\\uc0b6\\uc744\",\"\\uc549\\uc544\",\"\\uc0b4\\uace0\",\"\\ud558\\uba70\",\"\\uc54c\\uac8c\",\"\\uadf8\\uac78\",\"\\ub9d0\\ud560\\uac8c\",\"\\uc18d\\uc73c\\ub85c\",\"\\uc544\\uce68\",\"\\ubbf8\\uce5c_\\ub4ef\\uc774\",\"\\uadf8\\ub7f0\\ub370\",\"\\uac04\\ub2e4\",\"Cuz\",\"\\ub2e4\\ub978_\\uc0ac\\ub78c\",\"\\ucc3e\\uc544\\uc640\",\"\\ub9d0\\ud560_\\uc218\",\"\\uba40\\ub9ac\\uc11c\",\"\\uad73\\uc774\",\"\\uc900\\ube44\",\"hands\",\"Hey_hey\",\"\\ub9d1\\uc740\",\"\\ubb50\\ud574\",\"\\uc6d0\\ud558\\uace0\",\"\\ub0b4\\uac8c_\\ub9d0\\ud574\\uc918\",\"\\ubcfc\\ub798\",\"here_we\",\"\\ub5a8\\ub824\",\"\\ub098\\ub791\",\"thank_you\",\"\\ubbf8\\ub798\",\"\\uc9dc\\ub9bf\\ud55c\",\"\\ub4e4\\ub9ac\\ub2c8\",\"\\uae30\\uc5b5\\ud574\\uc918\",\"\\uc78a\\uc9c0_\\ubabb\\ud574\",\"\\ubbf8\\uc18c\\ub85c\",\"\\uc18d\\uc744\",\"\\ub0a8\\uc794\",\"\\ud558\\ub098\\ub9cc\",\"\\uc5ec\\uae30\\uc800\\uae30\",\"\\uae30\\ubd84_\\uc88b\\uc740\",\"\\uc544\\ubb34\\ub807\\uc9c0_\\uc54a\\uc740\",\"\\ubc14\\ub2e4\",\"Run\",\"Woo_Woo\",\"\\uc548\\uc544\",\"\\ucc3e\\uace0\",\"\\uc774_\\ubc24\\uc744\",\"\\uacb0\\uad6d\\uc5d4\",\"\\uafc8\\uc5d0\\uc11c\",\"\\ub420_\\uc218\",\"\\uba3c\",\"\\ubc14\\ub77c\\ubcf4\\uace0\",\"P\",\"\\ub204\\uad74\",\"\\ub354_\\uac00\\uae4c\\uc774\",\"\\uc54c\\uc544\\uc918\",\"\\uac77\\ub294\",\"paradise\",\"come_come\",\"know_that\",\"\\ub108\\ub9cc_\\ubcf4\\uc5ec\",\"\\uc5bc\\uad74\\uc744\",\"\\ud588\\uc9c0\\ub9cc\",\"\\uc6b8\\uc5b4\",\"\\uc2f6\\uc9c0\\ub9cc\",\"\\ubbf8\\uc6cc\",\"\\ud754\\ud55c\",\"\\ub05d\\uc774_\\uc5c6\\ub294\",\"\\uc6c0\\uc9c1\\uc5ec\",\"\\uadf8\\ub7f4\",\"\\uc544\\ub9c8\\ub3c4\",\"\\uc5b8\\uc81c\",\"\\uc18d\\uc758\",\"\\ub0b4_\\uacc1\\uc744\",\"air\",\"\\uac71\\uc815\",\"\\uc774\\uc81c\\uc11c\\uc57c\",\"\\ucc38\\uc744_\\uc218\",\"\\ub208\\ubd80\\uc154\",\"\\uc790\\uc720\\ub86d\\uac8c\",\"\\ub208\\ubb3c\\ub9cc\",\"\\uba39\\uace0\",\"\\uc2e0\\ub098\\uac8c\",\"\\uc2ac\\ud514\\uc744\",\"\\uba38\\ub9ac\\uac00\",\"\\uc774\\uc720\\uac00\",\"\\ubd80\\ub974\\ub294\",\"my_everything\",\"How\",\"Come_On\",\"one_more\",\"Always\",\"e\",\"\\ucc98\\uc74c_\\ub9cc\\ub09c\",\"\\uc788\\uc5c8\\uc9c0\",\"\\ub0b4_\\uc2ec\\uc7a5\\uc740\",\"\\uc0ac\\ub78c\\uc744\",\"\\ub0a0_\\ub450\\uace0\",\"\\ud588\\uc9c0\",\"\\ud55c\\ubc88\\ub3c4\",\"\\uc0ac\\ub791\\uc544\",\"\\uc5b4\\ub514\\uc5d0\",\"\\uc774\\ub798\",\"\\ubd80\\ub514\",\"E\",\"\\uc11c\",\"\\ubc1d\\uac8c\",\"bad\",\"\\uadf8\\ub300\\ub3c4\",\"\\uc6b8\\ub824\",\"\\ub3cc\\uc544\\uc640\\uc918\",\"\\uc544\\uc774\\ucc98\\ub7fc\",\"\\uc624\\ube60\",\"really\",\"Got\",\"\\ubaa8\\uc2b5\\uc73c\\ub85c\",\"\\ub4a4\",\"\\ubc14\\ub77c\",\"I_won\",\"In\",\"\\ub0b4\\ub9ac\\ub294\",\"\\uc5ec\\uc790\\uac00\",\"\\ub098\\uc11c\",\"\\ube44\\ubc00\",\"\\ub208\\ube5b\\uc5d0\",\"on_and\",\"\\uc5c6\\ub124\",\"\\uc608\\uc058\\uac8c\",\"\\uc0ac\\ub78c\\ub4e4\\uc774\",\"\\ub9d0\\uc5d0\",\"\\ud5a5\\uae30\\uac00\",\"gotta\",\"\\uc790\\uc2e0\\uc774\",\"\\uc678\\ub85c\\uc6cc\",\"\\uac04\",\"\\ub208\\ubb3c\\uc5d0\",\"\\ud798\\uaecf\",\"ha_ha\",\"Call_me\",\"nobody\",\"\\uc0ac\\ub78c\\ub4e4\\uc740\",\"\\ub54c\\uac00\",\"\\uafc8\\uc18d\\uc5d0\",\"control\",\"when\",\"hold_me\",\"\\ub9d0\\ub9cc\",\"\\uc5c6\\uc73c\\ub2c8\\uae4c\",\"touch_me\",\"\\uc120\\ubb3c\",\"loving_you\",\"\\ub450_\\ub208\\uc774\",\"\\uc6b0\\ub9ac_\\ub458\\ub9cc\\uc758\",\"\\ub0b4_\\ub9d8\\ub300\\ub85c\",\"ok\",\"\\uc5c6\\ub2c8\",\"\\uac10\\uc815\",\"go_away\",\"\\uc624\\ub79c\",\"\\ub098\\uc758_\\ub9c8\\uc74c\\uc744\",\"\\uc2dc\\uac04\\ub3c4\",\"\\ud654\\ub824\\ud55c\",\"\\ub05d\\ub0ac\\uc5b4\",\"\\ud558\\ub098\\ub85c\",\"\\ub0a0\\uc5d0\",\"\\ud558\\ub8e8\\ub9cc\",\"\\ub5a0\\ub098\\uc9c0\\ub9c8\",\"\\uc774\\ub9ac\",\"\\ubd88\\uc548\\ud574\",\"\\ud560\\ub798\",\"\\ub208\\uc774_\\ubd80\\uc154\",\"\\ub2ec\",\"my_friend\",\"will\",\"Stay\",\"\\ubabb\\ub41c\",\"\\uc804\\ud654\\ub97c\",\"\\ub178\\ub798\\ub97c\",\"\\ub108\\uc640\\ub098\",\"\\ubb38\\ub4dd\",\"\\ubaa8\\uc544\",\"Cuz_I\",\"\\ub124_\\ubaa8\\uc2b5\",\"\\uc21c\\uac04\\uc774\",\"\\uac08\\uc218\\ub85d\",\"listen\",\"\\uadf8\\ub140\\uc5d0\\uac8c\",\"\\ube44\\ucdb0\",\"\\uae30\\uc5b5_\\uc18d\\uc5d0\",\"\\ub6f0\\ub294\",\"\\uc57d\\uc18d\\ud560\\uac8c\",\"\\ub0b4\\ub824\\uc640\",\"your_body\",\"honey\",\"\\ub124\\uac00_\\ud544\\uc694\\ud574\",\"Kiss\",\"\\uc218_\\uc788\\ub2e4\\uba74\",\"\\uc6b0\\ub294\",\"\\ubc14\\ubcf4\\uc57c\",\"\\uadf8\\ub300\\uc640_\\ud568\\uaed8\",\"\\uadf8\\ub9ac\\uc6c0\",\"\\uc2f6\\uc5b4\\uc694\",\"\\ub9d0\\ud558\\ub294\",\"\\ub9d0\\ub4e4\",\"\\uc0ac\\ub791\\ud55c\\ub2e4\\ub294\",\"\\uaca8\\uc6b0\",\"\\uc6c3\\uc74c\\uc774\",\"\\ub179\\uc544\",\"\\uc2dc\\uac04\\ub4e4\\uc774\",\"\\uc78a\\uc5b4\\ubc84\\ub824\",\"\\ubc24\\uc0c8\\ub3c4\\ub85d\",\"\\ubcf4\\uace0\\uc2f6\\uc5b4\",\"\\ub108\\ub85c_\\uc778\\ud574\",\"chance\",\"we_are\",\"tight\",\"hey_hey\",\"\\uc54a\\uc744_\\uac70\\uc57c\",\"run\",\"\\uc2dc\\uc791\",\"\\ub300\",\"\\uc5b8\\uc81c\\ucbe4\",\"\\ub05d\\uc5c6\\ub294\",\"\\ub204\\uad6c\\ub098\",\"\\uc54a\\ub2c8\",\"\\uc6b0\\ub9ac\\ub9cc\\uc758\",\"\\uc81c\\ub300\\ub85c\",\"\\uc5ec\\uc790\\ub294\",\"\\ucc28\",\"\\uc785\\uc220\\uc744\",\"\\uc5ec\\uc794\",\"\\uac78_\\uc54c\\uc544\",\"alone\",\"\\ub188\",\"Uh_uh\",\"music\",\"\\uacf3\\uc73c\\ub85c\",\"\\uae30\\uc5b5\\uc5d0\",\"\\ubabb\\ub09c\",\"\\uc815\\uc2e0\",\"\\uc598\\uae30\\ub97c\",\"\\uba4d\\ud558\\ub2c8\",\"\\uae30\\ub2e4\\ub9ac\\uace0\",\"or\",\"\\ud658\\ud558\\uac8c\",\"\\uc990\\uaca8\",\"hoo\",\"da_da\",\"\\ubcc0\\ud574\",\"\\ub3cc\\ub824\",\"call\",\"\\uba40\\uc5b4\\uc838\",\"\\ub9d0\\ud22c\",\"\\uc911\\uc5d0\",\"show_me\",\"\\ube68\\uac04\",\"\\ub208\\ube5b\\uc73c\\ub85c\",\"back_to\",\"LOVE\",\"care\",\"Right_now\",\"Three\",\"\\ud558\\ub098\\uc758\",\"\\uad1c\\ucc2e\\uc740\",\"\\ub2f9\\uc2e0\\uc758\",\"\\uc0c1\\ucc98\\ub97c\",\"\\uac08\\ub798\",\"\\uc0b4\\uc544\\uac00\\ub294\",\"\\ub0b4\\uac8c_\\ub9d0\\ud574\",\"\\ub9cc\\ub4dc\\ub294\",\"ye_ye\",\"\\ud639\\uc2dc\\ub77c\\ub3c4\",\"\\ub108\\ubfd0\\uc774\\uc57c\",\"\\ud55c\\ucc38\\uc744\",\"\\uc3df\\uc544\\uc9c0\\ub294\",\"\\ub108_\\ud558\\ub098\\uba74\",\"V\",\"\\ud750\\ub974\\uace0\",\"free\",\"\\uc2dc\\uc120\\uc744\",\"\\uc18c\\uc911\\ud588\\ub358\",\"I_wish\",\"\\uc560\\ud0c0\\uac8c\",\"\\ubb34\\ub108\\uc838\",\"t_care\",\"\\ub0b4_\\uac00\\uc2b4\\uc740\",\"\\uadf8\\ub9cc\\ud07c\",\"\\ud655\",\"\\ub208\\uce58\",\"\\uac78\\uc694\",\"\\ud55c_\\uc0ac\\ub78c\",\"\\uc11c\\ud230\",\"\\uadf8\\ub9cc\\ud574\",\"\\uac04\\uc808\\ud788\",\"i_love\",\"story\",\"In_my\",\"Na_na\",\"\\uc788\\uc73c\\ub2c8\",\"\\uc0ac\\ub791\\uc2a4\\ub7f0\",\"\\uad1c\\ucc2e\\uc544\\uc694\",\"we_can\",\"That\",\"\\uc62c\\ub77c\",\"\\uba5c\\ub85c\\ub514\",\"\\uc548_\\ud574\\ub3c4\",\"\\ub0b4\\ub9b0\",\"\\ub4a4\\ub3cc\\uc544\",\"Listen\",\"was\",\"\\ud574\\uac00\",\"\\uc544\\uce68\\uc774\",\"\\ud544\\uc694\\uc5c6\\uc5b4\",\"\\ub098\\ub098\\ub098\",\"\\uadf8\\ub7ec\\ub2e4\",\"\\ub0b4\\uc77c\\ub3c4\",\"\\ud558\\uc580_\\ub208\\uc774\",\"\\ub9d0\\ud558\\uc9c0_\\uc54a\\uc544\\ub3c4\",\"\\uc774\\ub7ec\\ub2e4\",\"\\uc5ec\\ub984\",\"\\uac07\\ud600\",\"\\ub9d0\\ub3c4_\\uc548\",\"friend\",\"wait\",\"Ooh_Ooh\",\"\\ud558\\uace0_\\uc2f6\\uc5b4\",\"\\uce5c\\uad6c\\ub4e4\",\"\\uc194\\uc9c1\\ud558\\uac8c\",\"about_you\",\"\\ub5a0\\ub098\\uace0\",\"\\ub05d\\uc740\",\"think\",\"\\ud754\\ub4e4\\ub824\",\"\\uc368\",\"\\uc88b\\uc544\\uc694\",\"of_my\",\"\\uc5b8\\uc81c\\ub4e0\",\"missing_you\",\"out_of\",\"\\uc624\\ub298\\ubd80\\ud130\",\"\\uaf43\",\"\\ubcf4\\ub0b4\\ub294\",\"\\ub124_\\uc55e\\uc5d0\",\"\\uace0\\uac1c\\ub97c\",\"\\uc218\\uc90d\\uc740\",\"\\ucc98\\uc74c\\uc73c\\ub85c\",\"\\uc774\\ubcc4\\uc758\",\"believe\",\"D\",\"\\uace0\\ubbfc\",\"wow_wow\",\"\\uc644\\uc804\\ud788\",\"\\ub9cc\\ub098\\uba74\",\"break_it\",\"\\uc138\\uc0c1\\uc758\",\"\\uc5b4\\ub5bb\\uac8c\\ub4e0\",\"wow\",\"\\ubd84\\uba85\",\"all_day\",\"No_way\",\"Right\",\"Like_this\",\"do_do\",\"\\ud0dc\\uc591\",\"\\ucee4\\ub2e4\\ub780\",\"\\uc804\",\"\\uc624\\ud788\\ub824\",\"\\ub098\\uac00\",\"\\uac77\\uace0\",\"\\uc6b0\\ub9ac\\uc5d0\\uac8c\",\"\\uae30\\ub3c4\",\"\\uc0b6\\uc740\",\"\\uac70\\ub9ac\\ub97c\",\"\\uac00\\uc9c0\\uace0\",\"worry\",\"\\ubc1c\",\"\\uc7a0\\uc2dc\\ub9cc\",\"Want_you\",\"\\ud754\\ub4e4\\uc5b4\\ubd10\",\"\\ubb54\\uc9c0\",\"\\uac70\\ub77c\\uba74\",\"\\ub208\\ubb3c\\uc774_\\ud758\\ub7ec\",\"Light\",\"go_back\",\"La\",\"Bo_Peep\",\"\\uba4b\\uc9c0\\uac8c\",\"\\uc54c\\uba74\\uc11c\",\"\\uc548\\uace0\\uc11c\",\"\\ub290\\ub07c\\ub294\",\"three\",\"\\uac00\\uc2b4\\uc740\",\"\\ub4a4\\uc5d0\\uc11c\",\"Time\",\"\\uc7a1\\uc744_\\uc218\",\"\\ud30c\\ub3c4\",\"\\uc5bc\\uad74\\uc5d0\",\"\\uc78a\\uc9c0_\\ubabb\\ud560\",\"\\ubaa8\\ub97c\",\"\\ub420_\\uac70\\uc57c\",\"\\uc9c0\\uaca8\\uc6cc\",\"\\uc5b4\\uc9c0\\ub7ec\\uc6cc\",\"\\uac00\\ub4dd\\ud574\",\"\\ube5b\\ub098\",\"We_ll\",\"\\uc0dd\\uac01\\ud574\\ubd10\",\"\\uc0dd\\uac01\\ud588\\uc5b4\",\"\\ub108\\uc5d0\",\"\\uc21c\\uac04\\uc744\",\"\\ub0b4\\uac90_\\ub108\\ubb34\",\"\\uc5ec\\uae30\\uc5d0\",\"ho\",\"\\uac10\\uc2f8\",\"\\ubcf4\\ub0b4\\uace0\",\"\\uc798\\ubabb\",\"\\ubbf8\\ub828\",\"\\ud574\\uc904\\uac8c\",\"\\uadf8\\uc758\",\"\\uc775\\uc219\\ud55c\",\"\\ud558\\ub098\\ubfd0\\uc778\",\"\\uc0c1\\ucc98\\uac00\",\"going\",\"slow\",\"talk\",\"Get_down\",\"\\ube59\\uae00\\ube59\\uae00\",\"so_fine\",\"LA_LA\",\"no_way\",\"BOY\",\"bad_girl\",\"\\uc9c0\\uae08_\\uc774\\ub300\\ub85c\",\"\\uc11c_\\uc788\\ub294\",\"\\ucde8\\ud574\",\"\\uc774_\\uc21c\\uac04\\uc774\",\"\\uadf8_\\ubb34\\uc5c7\\ub3c4\",\"\\ubd88\\uc744\",\"\\uc790\\ub9ac\",\"\\ub728\\uac70\\uc6cc\",\"\\ubc97\\uc5b4\\ub0a0_\\uc218\",\"\\uae30\\uc5b5\\uc740\",\"\\ucda4\\uc744_\\ucdb0\",\"\\ub5a0\\ub0a0\",\"\\uc77c\\ub2e8\",\"\\uc778\\uc0dd\",\"\\uac00\\ub3c4\",\"\\ubd84\\uc704\\uae30\",\"\\uae4c\\ub9cc\",\"\\uac19\\uc544\\uc11c\",\"\\ub108\\ub3c4_\\ub098\\uc640\",\"look\",\"\\ub108\\ub9cc\\uc740\",\"hello\",\"Wake_up\",\"Da_Da\",\"\\uc788\\uc744_\\ub54c\",\"\\ubaa8\\ub974\\uc9c0\",\"\\ub124_\\uc606\\uc5d0\",\"\\uc804\\ud600\",\"\\uc790_\\uc774\\uc81c\",\"\\ub9cc\\ub0a0_\\uc218\",\"\\ub9c8\\uc74c\\uc73c\\ub85c\",\"\\uce5c\\uad6c\\uac00\",\"\\ub9d0\\uc5c6\\uc774\",\"nothing\",\"\\uc5c6\\uc744\",\"\\uc54a\\uc744\\uae4c\",\"thing\",\"\\uac00\\uc838\",\"\\uadf8\\ub140\\uc640\",\"\\ub2e4\\uac00\\uc640\\uc11c\",\"home\",\"\\uc88b\\uc740_\\uac78\",\"\\ub178\\ub798\\uac00\",\"minute\",\"\\ub55c\\uc5d0\",\"\\uac08\\uac8c\",\"who\",\"down_down\",\"waiting_for\",\"\\ub0b4_\\uc2ec\\uc7a5\\uc744\",\"du_du\",\"Dumb_Dumb\",\"\\ub208\\ubd80\\uc2dc\\uac8c\",\"\\ubcf4\\uc9c0\",\"\\uba38\\ub9bf\\uc18d\\uc5d0\",\"\\uac80\\uc740\",\"\\ub420\\uae4c\",\"\\ub2e4\\uac00\\uc628\",\"\\ubaa8\\uc5ec\",\"\\uc0b6\\uc774\",\"\\ub9f4\\ub3cc\\uc544\",\"\\uac19\\uc560\",\"I_was\",\"\\uc774\\uae30\\uc801\\uc778\",\"\\ubabb_\\ucc38\\uaca0\\uc5b4\",\"All_night\",\"\\uae68\\uc6cc\",\"\\uc870\\uadf8\\ub9cc\",\"\\uafc8\\uc744_\\uafb8\\ub294\",\"\\uc2ac\\ud514\\uc774\",\"\\uc5b4\\uca4c\\ub098\",\"\\ubc18\\ubcf5\\ub418\\ub294\",\"\\uc74c\\uc545\\uc774\",\"\\ud798\\ub4e4\\uc5b4\\ub3c4\",\"\\uc0ac\\ub791\\ud558\\uac8c\",\"\\uc9c0\\ucf1c\\uc904\",\"\\ub098\\ub97c_\\ubcf4\\uba70\",\"\\ubaa9\\uc18c\\ub9ac\\ub85c\",\"\\ub9cc\\ub098\\uace0\",\"\\ub9d8\\uc18d\\uc5d0\",\"\\ubcf4\\ub358\",\"\\ud06c\\ub9ac\\uc2a4\\ub9c8\\uc2a4\",\"\\ub0a0_\\ubbf8\\uce58\\uac8c\",\"\\uc9c0\\ucf1c\\ubd10\",\"lie\",\"\\uc6b0_\\uc6b0\",\"Heart\",\"one_N\",\"\\ud658\\ud55c\",\"\\uadc0\\uc5ec\\uc6b4\",\"\\uc788\\ub124\",\"\\uc7a0\\uc744\",\"Honey\",\"\\uc870\\uc2ec\\uc2a4\\ub808\",\"\\uc218\\ub9cc_\\uc788\\ub2e4\\uba74\",\"\\ubbff\\uc9c0\",\"\\uc228\\uae38_\\uc218\",\"\\uc0b4\\uc544\\uac08\",\"\\ub108\\ub97c_\\ucc3e\\uc544\",\"\\uc11c\\uc11c\",\"\\ube60\\ub974\\uac8c\",\"around\",\"\\ub108\\uc5d0\\uac8c\\ub9cc\",\"\\ub204\\uac00_\\ubd10\\ub3c4\",\"Na\",\"\\ub098_\\ud640\\ub85c\",\"\\ub108\\ubc16\\uc5d0\",\"\\ub9c8\\uc74c\\ub9cc\",\"\\ub0a0\\uc744\",\"game\",\"\\uc6a9\\uae30\\ub97c\",\"l\",\"\\ud130\\uc9c8_\\uac83\",\"follow_me\",\"\\ub2f5\\ub2f5\\ud55c\",\"\\uadf8\\ub798\\uc57c\",\"\\uac70\\uc608\\uc694\",\"\\uac04\\uc808\\ud55c\",\"All_right\",\"\\ub9d0\\uc790\",\"Please_don\",\"\\uc788\\uae30\\uc5d0\",\"\\uc21c\\uac04\\ubd80\\ud130\",\"feel_good\",\"\\uc78a\\uc9c0\\ub9c8\",\"\\ub0a0_\\ubc14\\ub77c\\ubcf4\\ub294\",\"\\ub098\\ub780\",\"put\",\"\\uc774\\uac70\",\"\\uaebc\\ub0b4\",\"\\uc544\\ubb34_\\uac83\\ub3c4\",\"N\",\"\\ud5c8\\ub098\",\"\\uc704\",\"\\uc774_\\ub178\\ub798\",\"n\",\"\\ub3cc\\uc774\\ud0ac_\\uc218\",\"\\uad6c\\ub984\",\"\\ud0c0\\ub294\",\"\\uc11c\\ub458\\ub7ec\",\"With\",\"\\uc544\\ucc14\\ud55c\",\"\\uc65c\\uc774\\ub798\",\"\\uc9c0\\ud0ac\\uac8c\",\"think_about\",\"\\uc6d0\\ud558\\uba74\",\"\\ubb50\\ub2c8\",\"OH_OH\",\"my_way\"],\"word\":[\"br\",\"\\ub09c\",\"\\ub0b4\",\"you\",\"\\ub0a0\",\"\\ub110\",\"\\ub0b4\\uac00\",\"\\ub098\",\"\\ub10c\",\"\\uadf8\",\"I\",\"\\ub098\\ub97c\",\"\\ub108\\uc758\",\"\\ub108\\ub97c\",\"Oh\",\"\\ub2e4\",\"\\ub108\",\"\\ub098\\uc758\",\"love\",\"\\ub354\",\"\\ub610\",\"baby\",\"me\",\"\\ub0b4\\uac8c\",\"I_m\",\"\\ub2e4\\uc2dc\",\"\\uc5c6\\uc5b4\",\"\\ub2c8\\uac00\",\"\\uc774\\uc820\",\"\\uc65c\",\"\\ub098\\ub294\",\"oh\",\"Baby\",\"\\uadf8\\ub300\",\"\\ub108\\ubb34\",\"\\uc6b0\\ub9ac\",\"\\uc774\",\"\\ub124\",\"\\uac78\",\"\\uc5c6\\ub294\",\"\\uc774\\uc81c\",\"\\uc788\\uc5b4\",\"\\uc774\\ub807\\uac8c\",\"\\ud574\",\"\\ub124\\uac00\",\"girl\",\"it\",\"\\ubaa8\\ub450\",\"my\",\"\\uc9c0\\uae08\",\"You\",\"\\ub2c8\",\"\\uc815\\ub9d0\",\"\\ub108\\ub294\",\"\\uc0ac\\ub791\",\"\\uac70\\uc57c\",\"go\",\"\\ubd10\",\"and\",\"\\ub108\\uc640\",\"yeah\",\"\\uc0ac\\ub791\\uc744\",\"the\",\"oh_oh\",\"\\ub9d0\",\"\\uadf8\\ub798\",\"up\",\"to\",\"Yeah\",\"\\uadf8\\ub807\\uac8c\",\"\\uc5b8\\uc81c\\ub098\",\"\\ub108\\uc5d0\\uac8c\",\"\\uc788\\ub294\",\"\\uc774\\ub7f0\",\"\\uc6b0\\ub9b0\",\"\\uc790\\uafb8\",\"know\",\"\\uc0ac\\ub791\\ud574\",\"\\ud56d\\uc0c1\",\"\\uadf8\\ub0e5\",\"\\uc880\",\"\\ub3fc\",\"\\uadf8\\ub7f0\",\"\\ubab0\\ub77c\",\"\\ud558\\uc9c0\\ub9cc\",\"a\",\"\\uac19\\uc740\",\"\\uac74\",\"\\uc601\\uc6d0\\ud788\",\"It_s\",\"Don_t\",\"\\ub0b4_\\ub9d8\",\"\\ud568\\uaed8\",\"\\uc544\\uc9c1\",\"\\ud55c\",\"\\uc774\\uc81c\\ub294\",\"\\uc81c\\ubc1c\",\"now\",\"U\",\"Let_s\",\"\\ub9e4\\uc77c\",\"Hey\",\"\\uc54a\\uc544\",\"on\",\"\\ub098\\ub3c4\",\"\\ub9c8\\uc74c\",\"\\uc88b\\uc544\",\"\\ub124\\uac8c\",\"don_t\",\"like\",\"be\",\"\\uc774\\ubbf8\",\"\\uc548\",\"\\ub54c\",\"\\uc0ac\\ub791\\uc774\",\"\\uac19\\uc544\",\"\\ub0b4_\\ub9d8\\uc744\",\"\\uac8c\",\"Love\",\"\\uc5c6\\uc774\",\"\\ub2e4\\ub978\",\"I_ll\",\"say\",\"\\uc18d\\uc5d0\",\"\\ub298\",\"\\ubaa8\\ub4e0\",\"\\uc0ac\\ub78c\",\"I_wanna\",\"\\uc5b4\\ub5bb\\uac8c\",\"\\ub108\\ub9cc\",\"\\uc624\",\"boy\",\"\\uaf2d\",\"\\uc0ac\\ub791\\uc740\",\"do\",\"\\ubabb\",\"Girl\",\"You_re\",\"\\uc624\\ub298\",\"\\ub9d8\",\"\\uc2f6\\uc5b4\",\"\\uc544\\uc9c1\\ub3c4\",\"I_don\",\"that\",\"\\ub098\\uc5d0\\uac8c\",\"I_can\",\"no\",\"\\ub0b4\\uac90\",\"Oh_Oh\",\"\\uadf8\\ub300\\uac00\",\"\\ub9c8\",\"\\uc798\",\"\\uadf8\\ub308\",\"\\uc624\\ub298\\ub3c4\",\"\\ub9ce\\uc774\",\"\\uc21c\\uac04\",\"\\ud574\\ub3c4\",\"t\",\"feel\",\"\\uc800\",\"My\",\"\\ub354_\\uc774\\uc0c1\",\"\\uac83_\\uac19\\uc544\",\"stop\",\"my_love\",\"\\uacc4\\uc18d\",\"\\uadf8\\uc800\",\"\\ubaa8\\uc2b5\",\"I_want\",\"So\",\"\\ub108\\ub3c4\",\"\\ub108\\ubb34\\ub098\",\"just\",\"\\uc774\\ub300\\ub85c\",\"\\ud558\\ub294\",\"\\uac19\\uc774\",\"Just\",\"\\uc54c\\uc544\",\"\\ubcf4\\uace0\",\"is\",\"all\",\"it_s\",\"\\uc544\\ub984\\ub2e4\\uc6b4\",\"your\",\"\\uc2dc\\uac04\\uc774\",\"\\ud63c\\uc790\",\"\\ud558\\ub098\",\"\\ub9c8\\uce58\",\"\\uac83\",\"\\uc788\\uac8c\",\"time\",\"\\ubc14\\ub85c\",\"down\",\"so\",\"\\uc791\\uc740\",\"\\ubaa8\\ub4e0_\\uac78\",\"\\uc2dc\\uac04\",\"\\ub9d0\\uace0\",\"\\uc808\\ub300\",\"\\ucc38\",\"\\uadf8\\ub300\\ub97c\",\"\\uc6b0\\ub9ac\\uac00\",\"\\uc5ec\\uae30\",\"\\uc544\\ub0d0\",\"Come_on\",\"\\ub208\\ubb3c\",\"for\",\"tonight\",\"\\ub108\\uc640_\\ub098\",\"you_re\",\"\\uad1c\\ucc2e\\uc544\",\"\\uc788\\ub2e4\\uba74\",\"\\uc918\",\"\\uc790\\uafb8\\ub9cc\",\"\\ubabb\\ud574\",\"\\uac00\\uc2b4\\uc774\",\"want\",\"uh\",\"\\ubaa8\\ub4e0_\\uac8c\",\"\\ubaa8\\ub450_\\ub2e4\",\"\\uc548\\ub3fc\",\"\\ub098\\ub9cc\",\"get\",\"la_la\",\"\\uc2eb\\uc5b4\",\"\\ud560_\\uc218\",\"I_need\",\"\\uc704\\ud574\",\"come_on\",\"\\uc6d0\\ud574\",\"\\ub0b4_\\uacc1\\uc5d0\",\"\\ud560\",\"one\",\"\\ud558\\uace0\",\"\\uc880_\\ub354\",\"\\ub9ce\\uc740\",\"hey\",\"\\uc624\\uc9c1\",\"\\ub098\\uc640\",\"\\ub208\\ubb3c\\uc774\",\"\\ub9d0\\uc744\",\"\\ub9d8\\uc744\",\"\\ub9c8\\uc9c0\\ub9c9\",\"No\",\"\\ub9d8\\uc5d0\",\"\\ub2e4\\uac00\\uc640\",\"\\uc138\\uc0c1\",\"\\ubcf4\\uc5ec\",\"\\uc788\\uc796\\uc544\",\"We\",\"\\ub4ef\",\"\\uac00\",\"\\uacc1\\uc5d0\",\"\\ubc24\",\"back\",\"\\uadf8\\ub300\\uc758\",\"\\uc810\\uc810\",\"\\ubcf4\\uba74\",\"\\ub9c8\\uc74c\\uc774\",\"in\",\"\\ub9d0\\ud574\",\"\\uc624\\ub298\\uc740\",\"\\ubcfc_\\uc218\",\"\\uc544\\ub2cc\",\"\\uadf8\\uac8c\",\"\\uc6b0\\ub9ac\\uc758\",\"\\ub2ec\\ucf64\\ud55c\",\"to_the\",\"\\uadf8\\ub300\\ub85c\",\"\\uc5b4\\ub5a4\",\"this\",\"\\uadf8\\ub304\",\"I_just\",\"Uh\",\"Go\",\"wanna\",\"\\ud558\\uc9c0\\ub9c8\",\"right\",\"\\ub208\\uc744\",\"\\ub0b4_\\ub9d8\\uc774\",\"What\",\"u\",\"\\uadf8\\ub798\\ub3c4\",\"\\uac00\\uc2b4\\uc5d0\",\"\\ub098\\ub9cc\\uc758\",\"\\uc790\",\"\\ud639\\uc2dc\",\"what\",\"\\ub108\\uc640_\\ud568\\uaed8\",\"to_me\",\"\\uc88b\\uc740\",\"\\uc5b4\\ub5a1\\ud574\",\"\\ub204\\uac00\",\"\\uc2ac\\ud508\",\"\\uc870\\uae08\\uc529\",\"Woo\",\"\\uc608\\uc05c\",\"\\ub208\",\"\\ubd10\\ub3c4\",\"Let_me\",\"\\uc11c\\ub85c\",\"with_you\",\"\\ud55c_\\ubc88\",\"\\ud55c\\ubc88\",\"\\uc870\\uae08\",\"\\uc138\\uc0c1\\uc5d0\",\"tell_me\",\"\\uc544\\ubb34\\uac83\\ub3c4\",\"Now\",\"\\uc544\",\"\\uae30\\ub2e4\\ub824\",\"\\ub9d8\\uc774\",\"woo\",\"\\uadf8\\ub9ac\\uace0\",\"\\uc5bc\\ub9c8\\ub098\",\"babe\",\"\\uc640\",\"for_you\",\"\\ubb50\",\"\\uc5b4\\ub290\\uc0c8\",\"\\ub2e4\\uc2e0\",\"\\uc544\\ud508\",\"Say\",\"\\ub531\",\"\\uadf8\\ub54c\",\"\\ubaa8\\ub4e0\\uac78\",\"\\uc55e\\uc5d0\",\"\\uc774\\uac74\",\"\\ub530\\ub77c\",\"\\ub9c8\\uc74c\\uc744\",\"\\uc27d\\uac8c\",\"of\",\"\\ubbf8\\uc548\\ud574\",\"\\ub354\\ub294\",\"\\ub9cc\\ud07c\",\"\\uc6b0\\ub9b4\",\"uh_uh\",\"Boy\",\"i\",\"crazy\",\"\\uc544\\ub2c8\",\"my_heart\",\"\\uc0ac\\ub791\\ud558\\ub294\",\"we\",\"\\uc138\\uc0c1\\uc774\",\"yo\",\"in_the\",\"\\uc138\\uc0c1\\uc744\",\"see\",\"in_my\",\"\\ucc98\\uc74c\",\"\\uc544\\ub2c8\\uc57c\",\"\\uc7a0\\uc2dc\",\"\\ubcf4\\ub294\",\"\\uadf8\\ub9cc\",\"can\",\"\\uac00\\ub294\",\"\\uc0dd\\uac01\\ud574\",\"\\uc904\",\"good\",\"your_love\",\"can_t\",\"\\uc54c_\\uc218\",\"\\uc9c4\\uc9dc\",\"woo_woo\",\"got\",\"\\ub208\\ube5b\",\"do_it\",\"\\uc804\\ubd80\",\"\\uac70\",\"\\uba40\\ub9ac\",\"out\",\"day\",\"\\uac00\\uc2b4\",\"\\uc0ac\\ub791\\uc5d0\",\"\\uc5c6\\uc796\\uc544\",\"\\ud588\\uc5b4\",\"make\",\"\\uadf8\\ub300\\ub294\",\"only\",\"\\ubb58\",\"\\uc544\\uc8fc\",\"let_s\",\"\\uc18c\\uc911\\ud55c\",\"\\uc5b8\\uc820\\uac00\",\"\\ub0b4_\\ub9c8\\uc74c\\uc744\",\"with\",\"\\ub208\\uc774\",\"\\uc788\\uc744\\uae4c\",\"\\uc548\\uc5d0\",\"Tell_me\",\"\\uac74\\uc9c0\",\"\\uae30\\uc5b5\\ud574\",\"And\",\"\\uc218\",\"\\uc774\\uac8c\",\"\\uac00\\ub054\",\"\\ud588\\ub358\",\"But\",\"\\uc804\\uc5d0\",\"\\uc9c0\\uae08_\\uc774\",\"\\ub05d\\uae4c\\uc9c0\",\"\\uae30\\uc5b5\",\"You_are\",\"\\ub110_\\uc704\\ud574\",\"\\ubbff\\uc5b4\",\"\\uacb0\\uad6d\",\"I_got\",\"na_na\",\"\\ubc84\\ub9b0\",\"\\uba3c\\uc800\",\"no_no\",\"\\uc544\\ubb34\\ub9ac\",\"\\uc77c\",\"\\ub550\",\"\\ucc99\",\"\\ud558\\uc9c0\",\"why\",\"\\uc18d\",\"s\",\"eh_eh\",\"\\uae38\\uc744\",\"\\ubc8c\\uc368\",\"\\uadf8\\ub798\\uc11c\",\"\\uc190\\uc744\",\"never\",\"\\ubaa8\\ub450\\uac00\",\"\\ub108\\ub9cc\\uc744\",\"\\uc0dd\\uac01\",\"\\uc544\\ubb34\\ub3c4\",\"\\ubc14\\ub798\",\"\\ub108\\ub97c_\\uc0ac\\ub791\\ud574\",\"\\ud5a5\\ud574\",\"\\uba4b\\uc9c4\",\"\\uac83\\ub3c4\",\"\\ud589\\ubcf5\\ud55c\",\"ya\",\"but\",\"\\ub54c\\ubb38\\uc5d0\",\"\\uc870\\uae08_\\ub354\",\"come\",\"baby_baby\",\"\\uadf8\\ub140\",\"\\uac83\\ucc98\\ub7fc\",\"\\uafc8\\uc744\",\"\\ub450\",\"\\ub9d0\\uc774\",\"\\ub5a0\\ub098\",\"\\uc5ec\\uc804\\ud788\",\"\\uc2ec\\uc7a5\\uc774\",\"\\uc9c0\\ub09c\",\"\\ub2ec\\ub77c\",\"\\ub290\\ub08c\",\"yeah_yeah\",\"\\uc0c8\\ub85c\\uc6b4\",\"\\ub208\\uc5d0\",\"\\uc5ec\\uc790\",\"\\uac00\\ub4dd\",\"cry\",\"\\ud558\\uc580\",\"\\uc5b4\\uc11c\",\"let\",\"Yes\",\"alright\",\"\\uadf8\\ub300\\uc640\",\"\\ubcf4\\uba70\",\"\\uc598\\uae30\",\"\\uc190\",\"heart\",\"\\ucc3e\\uc544\",\"\\ub410\\uc5b4\",\"\\ub0b4_\\uc548\\uc5d0\",\"A\",\"party\",\"\\uafc8\",\"life\",\"\\ub0b4_\\ub9d8\\uc740\",\"\\uac70\\ub2c8\",\"again\",\"\\uadfc\\ub370\",\"\\ub54c\\uae4c\\uc9c0\",\"\\ucc28\\ub77c\\ub9ac\",\"let_me\",\"\\ubab0\\ub798\",\"night\",\"\\uc5c6\\ub294\\ub370\",\"\\ube68\\ub9ac\",\"you_are\",\"\\ub610_\\ub2e4\\ub978\",\"\\uac78\\uae4c\",\"\\uc0ac\\uc2e4\",\"\\uc904\\uac8c\",\"\\ubaa8\\ub4e0\\uac8c\",\"\\uadf8\\uac74\",\"\\ubcf4\\uace0_\\uc2f6\\uc5b4\",\"\\uc218_\\uc5c6\\uc5b4\",\"\\uc6b0\\ub9ac\\ub294\",\"forever\",\"get_it\",\"\\uac70\\uc9d3\\ub9d0\",\"\\uac00\\uae4c\\uc774\",\"\\ub9cc\\ub098\",\"what_you\",\"\\uc560\\uc368\",\"ah\",\"\\ub0a8\\uc790\",\"\\ubaa8\\ub974\\uaca0\\uc5b4\",\"\\uc218\\ub9ce\\uc740\",\"\\ub290\\ub084_\\uc218\",\"\\ub108_\\ub54c\\ubb38\\uc5d0\",\"You_know\",\"like_a\",\"Let\",\"Can\",\"\\uc2dc\\uac04\\uc740\",\"Everybody\",\"\\ub54c\\ub860\",\"\\ud558\\ub8e8_\\uc885\\uc77c\",\"\\ucc44\",\"\\ub290\\uaef4\\ubd10\",\"\\uc660\\uc9c0\",\"\\ud754\\ub4e4\\uc5b4\",\"All\",\"\\uc628\",\"Me\",\"Yeah_Yeah\",\"take\",\"\\ub0b4\\uac8c\\ub85c\",\"\\ub9d0\\ud574\\uc918\",\"Ah\",\"Can_t\",\"\\ub0a8\\uc544\",\"\\uc704\\ub85c\",\"\\ubc14\\ubcf4\\ucc98\\ub7fc\",\"\\ub9d0\\uc57c\",\"\\ub9d0\\uc740\",\"La_La\",\"sorry\",\"It\",\"\\ub9cc\\ub4e4\\uc5b4\",\"\\uc5b4\\uca4c\\uba74\",\"\\uc18d\\uc5d0\\uc11c\",\"\\uc5b4\\ub54c\",\"\\ud589\\ubcf5\\ud574\",\"\\uc54a\\ub294\",\"\\ubbf8\\uccd0\",\"\\uc774_\\uc21c\\uac04\",\"ma\",\"\\uc5b8\\uc81c\\uae4c\\uc9c0\\ub098\",\"\\ubbff\\uace0\",\"\\uc0b4\\uc9dd\",\"\\ub9c9\",\"\\uc544\\uc9c1\\uc740\",\"\\ubfd0\",\"\\ub728\\uac70\\uc6b4\",\"\\uc624\\ub298_\\ubc24\",\"\\uc904\\ub798\",\"ah_ah\",\"\\ub5a0\\ub09c\",\"\\ub450\\ub824\\uc6cc\",\"over\",\"\\ub418\\uc5b4\",\"\\uc54c\\uc796\\uc544\",\"\\uc0ac\\ub791\\ud55c\\ub2e4\\uace0\",\"\\ub9c8\\uc74c\\uc5d0\",\"\\uc78a\\uace0\",\"\\uadf8\\ub550\",\"way\",\"\\ub108\\ub780\",\"\\ubaa8\\uc2b5\\uc744\",\"\\uc2f6\\uc740\",\"\\uc544\\ub9c8\",\"\\uc2dc\\uac04\\uc744\",\"\\uc544\\ubb34\",\"\\ub2e4\\uc2dc\\ub294\",\"\\ubc14\\ub77c\\ubd10\",\"not\",\"\\ub9d0\\uc774\\uc57c\",\"\\uc0ac\\ub791\\uc758\",\"\\ube5b\\uc774\",\"\\uc138\\uc0c1\\uc740\",\"\\uc218_\\uc788\\uac8c\",\"\\uc774_\\ubc24\",\"\\ud070\",\"body\",\"me_now\",\"\\uc788\\ub294\\ub370\",\"\\uc0ac\\ub791\\ud588\\ub358\",\"\\ubd88\\ub7ec\",\"\\uae38\",\"man\",\"\\uc5bc\\uad74\",\"\\uc78a\\uc744_\\uc218\",\"The\",\"\\ub178\\ub798\",\"My_love\",\"\\ubcf4\\uc5ec\\uc918\",\"Tonight\",\"Do\",\"\\uc5c6\\uac8c\",\"\\uc54a\\uac8c\",\"Get\",\"with_me\",\"\\uc5b8\\uc81c\\uae4c\\uc9c0\",\"\\uc544\\ud30c\",\"\\uae30\\ubd84\",\"\\uadf8\\ub300\\uc5ec\",\"\\ub108\\ub97c_\\uc704\\ud574\",\"\\uc788\\ub358\",\"\\uc9c0\\uce5c\",\"\\ubb54\\uac00\",\"Come\",\"\\uc54c\\uace0\",\"\\uc5b4\\ucc28\\ud53c\",\"\\ub450\\uace0\",\"the_one\",\"\\uc774\\ub984\",\"\\ud558\\uba74\",\"\\uc6b0\",\"Ooh\",\"\\uad1c\\ud788\",\"\\ub300\\uccb4\",\"No_No\",\"t_know\",\"\\uc65c_\\uc790\\uafb8\",\"\\ub208\\ubb3c\\uc744\",\"\\uc18c\\ub9ac\",\"\\uc218_\\uc5c6\\ub294\",\"\\uc6b8\\uace0\",\"\\ub611\\uac19\\uc740\",\"\\ubaa8\\uc2b5\\uc774\",\"\\ub354\\uc6b1\",\"lady\",\"\\uacc1\\uc5d0\\uc11c\",\"eh\",\"it_up\",\"\\ub458\\uc774\",\"\\uae4a\\uc740\",\"\\uc0ac\\uc774\",\"\\ub208\\ubd80\\uc2e0\",\"make_me\",\"\\ucc28\\uac00\\uc6b4\",\"I_will\",\"in_love\",\"dance\",\"\\ubd10\\uc694\",\"That_s\",\"\\ub3c4\\ub300\\uccb4\",\"Up\",\"\\ub290\\uaef4\",\"i_m\",\"\\ub110_\\uc704\\ud55c\",\"\\uc5c6\\uc9c0\",\"\\ub4e4\\uc5b4\",\"\\uc5c6\\ub358\",\"\\uc788\\uc5b4\\uc694\",\"\\ud574\\uc918\",\"\\uc788\\uc8e0\",\"\\uc774_\\uc138\\uc0c1\",\"\\ub5a8\\ub9ac\\ub294\",\"\\uc0ac\\ub791\\ud574\\uc694\",\"Like\",\"\\ub110_\\ud5a5\\ud55c\",\"\\uadf8\\ub140\\uac00\",\"Stop\",\"\\uc774_\\ubc24\\uc774\",\"\\uc774\\uc81c\\uc57c\",\"One\",\"\\ud798\\ub4e0\",\"Yo\",\"\\uc704\\ud55c\",\"mind\",\"\\ub05d\\uc774\",\"\\ub0b4_\\ud488\\uc5d0\",\"\\uc0ac\\ub791\\ud55c\",\"fly\",\"\\uc5ec\\uae30\\uc11c\",\"\\uc808\\ub300\\ub85c\",\"\\ubbf8\\uc18c\",\"\\uc774\\ubcc4\\uc744\",\"\\ucc9c\\ucc9c\\ud788\",\"\\uce5c\\uad6c\",\"\\ud558\\ub8e8\\uac00\",\"\\ub098\\ub3c4_\\ubaa8\\ub974\\uac8c\",\"\\ube5b\\ub098\\ub294\",\"\\uc228\\uc774\",\"\\ubc24\\uc0c8\",\"\\ub9d0\\uc544\\uc694\",\"\\ud798\\uc774\",\"\\uc0ac\\ub78c\\uc774\",\"\\ud558\\ub8e8\",\"\\uc544\\ub2c8\\uba74\",\"\\uac78\\uc5b4\",\"\\uc11c\\ub85c\\ub97c\",\"\\ubb34\\uc2a8\",\"\\uc6d0\\ud558\\ub294\",\"my_life\",\"\\uc5b4\",\"\\ubfd0\\uc774\\uc57c\",\"\\ubc84\\ub9ac\\uace0\",\"mine\",\"give\",\"\\uadf8\\ub140\\ub97c\",\"\\uc7a1\\uace0\",\"\\uc0ac\\ub791\\ub3c4\",\"\\ub110_\\ubcf4\\uba74\",\"\\uc5c6\\ub2e4\\uace0\",\"\\uc785\\uc220\",\"\\uc788\\ub2c8\",\"\\ub108_\\ub55c\\uc5d0\",\"Na_Na\",\"\\uc5b4\\ub514\",\"\\uc900\",\"\\uc0b4\\uc544\",\"make_it\",\"\\ub728\\uac81\\uac8c\",\"\\ubed4\\ud55c\",\"\\ucd94\\uc5b5\",\"ye\",\"wanna_be\",\"\\ub098\\uc5d0\\uac90\",\"\\ube60\\uc838\",\"\\uadf8\\ub300\\uc5d0\\uac8c\",\"\\uc5c6\\uc5c8\\uc5b4\",\"\\ub3cc\\uc544\\uc640\",\"\\ub450_\\ub208\\uc744\",\"\\uacf3\",\"\\ub204\\uad6c\\ubcf4\\ub2e4\",\"\\ud63c\\uc790\\uc11c\",\"\\ub098_\\ud63c\\uc790\",\"\\ud798\\ub4e4\\uc5b4\",\"\\ubb50\\uac00\",\"\\ubaa9\\uc18c\\ub9ac\",\"rock\",\"\\uc54a\\uc740\",\"Do_it\",\"gonna\",\"\\uc774\\uc720\",\"\\uacf3\\uc5d0\",\"\\uc54a\\uace0\",\"\\uc870\\uae08\\uc740\",\"\\uc788\\uc9c0\",\"\\uc0ac\\ub791\\uc774\\ub780\",\"\\uc704\\ud574\\uc11c\",\"\\uc608\",\"\\ud544\\uc694_\\uc5c6\\uc5b4\",\"t_wanna\",\"the_way\",\"\\uc544\\ub294\",\"\\uc5c6\\uc9c0\\ub9cc\",\"\\ub418\\ub294\",\"\\ubaa8\\ub974\\ub294\",\"\\ub418\\uace0\",\"give_it\",\"\\ub108\\ubb34\\ub098\\ub3c4\",\"\\ubc84\\ub824\",\"\\uc0ac\\ub791\\ud55c\\ub2e4\",\"about\",\"\\uac00\\ub054\\uc740\",\"\\ub0a8\\uc740\",\"\\uafc8\\uc774\",\"\\uc0b4\\uba70\\uc2dc\",\"\\uc6c3\\uc73c\\uba70\",\"\\ub108_\\ud558\\ub098\\ub9cc\",\"\\ub204\\uad6c\\ub3c4\",\"\\ub9d0\\uc544\\uc918\",\"\\uc9c0\\uccd0\",\"\\ub9e4\\uc77c_\\ubc24\",\"\\uae4a\\uc774\",\"\\ub9c8\\uc694\",\"ooh\",\"\\ub530\\ub73b\\ud55c\",\"\\uadf8\\ub9ac\\uc6cc\",\"\\uac16\\uace0\",\"be_your\",\"\\uac00\\uace0\",\"\\uac00\\ub4dd\\ud55c\",\"\\uc788\\uc5b4\\ub3c4\",\"\\ub108\\uc57c\",\"Babe\",\"\\ub108\\ub9cc\\uc758\",\"\\ub0b4_\\uc606\\uc5d0\",\"Ah_Ah\",\"\\ubcc4\",\"Uh_Uh\",\"\\ub108\\uc640\\uc758\",\"\\ub450_\\ubc88\",\"\\uace0\\ub9c8\\uc6cc\",\"\\uc194\\uc9c1\\ud788\",\"\\ub9d0\\ud574\\ubd10\",\"no_more\",\"\\ub4a4\\ub85c\",\"\\uac83\\uc774\",\"\\uc57d\\uc18d\\ud574\",\"Hello\",\"\\uadf8\\ub7fc\",\"\\ub54c\\uba74\",\"\\uc704\\uc5d0\",\"\\ub098\\uc05c\",\"\\ubabb\\ud558\\uace0\",\"\\ub098\\uc640_\\ud568\\uaed8\",\"\\ubaa8\\ub450\\ub2e4\",\"I_am\",\"\\uadf8\\ub148\",\"\\uac83\\ub9cc_\\uac19\\uc544\",\"\\ud544\\uc694\\ud574\",\"OK\",\"\\uc0ac\\ub294\",\"\\uae34\",\"\\ubabb\\ud55c\",\"\\uc624\\ub298\\ubc24\",\"\\uc9c0\\uae08\\ubd80\\ud130\",\"\\ud574\\uc694\",\"\\uc544\\ubb34\\ub7f0\",\"\\uc6c3\\uace0\",\"\\uc544\\ub984\\ub2e4\\uc6cc\",\"\\ub4ef\\uc774\",\"give_me\",\"star\",\"\\uc0c1\\ucc98\",\"\\ub0b4\\uac8c_\\ub2e4\\uac00\\uc640\",\"\\ub2e4\\ub4e4\",\"take_it\",\"\\uc800\\uae30\",\"all_night\",\"\\uad81\\uae08\\ud574\",\"hands_up\",\"t_stop\",\"\\ub108\\ubb34\\ub3c4\",\"\\uc218\\uac00_\\uc5c6\\uc5b4\",\"always\",\"What_s\",\"\\ud558\\ub8e8\\ud558\\ub8e8\",\"\\uac00\\uc7a5\",\"\\uc0ac\\ub77c\\uc838\",\"\\uc0ac\\ub78c\\ub4e4\",\"\\uc774\\ubcc4\",\"\\uac70\\uae30\",\"\\uc694\\uc998\",\"\\uc65c_\\uc774\\ub798\",\"\\uc548_\\ub3fc\",\"\\uc6b0\\ub9ac_\\ub458\\uc774\",\"away\",\"\\ub0b4\\uac8c\\uc11c\",\"\\uadf8\\ub140\\ub294\",\"\\uc628\\ud1b5\",\"\\uc601\\uc6d0\\ud1a0\\ub85d\",\"\\ube5b\\uc744\",\"get_up\",\"\\ub108\\ub9cc_\\ubcf4\\uba74\",\"everybody\",\"need\",\"\\ub0b4\\uc77c\",\"\\uac00\\uc9c4\",\"\\ub9d0\\ub3c4\",\"\\ubc14\\ub77c\\ubcf4\\ub294\",\"\\uc788\\ub3c4\\ub85d\",\"\\uc6c3\\ub294\",\"\\uc190\\uc5d0\",\"\\uc5b4\\ub290\",\"\\uac00\\uc2b4\\uc744\",\"be_there\",\"Love_is\",\"\\ud45c\\uc815\",\"\\ub208\\ubb3c\\ub85c\",\"\\uc608\\ubed0\",\"\\uc774\\uc81c_\\uadf8\\ub9cc\",\"\\ub05d\\ub0b4\",\"\\ub5a0\\uc62c\\ub77c\",\"\\uc7a0\\ub4e0\",\"bye\",\"gonna_be\",\"\\ud06c\\uac8c\",\"\\ub208\\ube5b\\uc774\",\"\\uadf8_\\uc5b4\\ub5a4\",\"time_to\",\"Party\",\"\\uc5b4\\ub514\\ub4e0\",\"\\ubab0\\ub790\\uc5b4\",\"Back\",\"\\uc601\\uc6d0\\ud55c\",\"\\uadf8\\ub140\\uc758\",\"Why\",\"high\",\"\\ub0a0\\uc774\",\"\\uc788\\ub2e4\\uace0\",\"\\uc788\\uc5b4\\uc918\",\"la\",\"\\uc18c\\ub9ac\\uccd0\",\"\\ub354_\\uc774\\uc0c1\\uc740\",\"\\ubcf4\\ub2e4\",\"ready\",\"\\uba48\\ucd9c_\\uc218\",\"\\ub420\",\"\\uc57c\",\"\\uc815\\ub9d0\\ub85c\",\"\\ub098\\uc57c\",\"that_s\",\"Shake_it\",\"\\ubcf4\\uc774\\ub294\",\"\\ud558\\ub294\\uc9c0\",\"Never\",\"\\ud558\\uc597\\uac8c\",\"La_la\",\"\\uc6cc\",\"If_you\",\"\\uc5c6\\uc5b4\\ub3c4\",\"\\ud5a5\\ud55c\",\"\\uc5b4\\uca5c\",\"\\ubab8\\uc744\",\"\\ub108\\ub85c\",\"Feel\",\"\\ud558\\ub298\",\"\\uadf8_\\ub204\\uad6c\\ub3c4\",\"\\uc2dc\\uc791\\ud574\",\"here\",\"\\uc544\\ub2d8\",\"This_is\",\"\\ubaa8\\ub4e0_\\uac83\\uc744\",\"\\uc904_\\uc218\",\"\\uc78a\\uc5b4\",\"\\ucc98\\uc74c\\ubd80\\ud130\",\"\\uadf8\\ub300\\ub9cc\",\"\\uc77c\\uc5b4\\ub098\",\"\\ud558\\ub298\\uc744\",\"want_you\",\"\\uc5b8\\uc81c\\ub77c\\ub3c4\",\"\\uc228\\uc744\",\"\\ub9ce\\uc544\",\"\\ub9d8\\uc740\",\"\\ub2e4\\uac00\\uac00\",\"\\uc548\\ub155\",\"everything\",\"\\uc5c6\\uc5b4\\uc694\",\"bye_bye\",\"\\uc548\\uc5d0\\uc11c\",\"\\uc6d0\\ub798\",\"She_s\",\"\\ub54c\\ub9c8\\ub2e4\",\"Lady\",\"You_make\",\"\\uc5c6\\ub2e4\",\"\\ubc84\\ub838\\uc5b4\",\"\\uc2f6\\uc740\\ub370\",\"\\ub204\\uad70\\uac00\",\"\\ub2ec\\ub824\",\"We_re\",\"\\uc9c0\\uae08\\ub3c4\",\"\\uc7a0\\uae50\",\"\\ub4e4\\uc5b4\\uc640\",\"O\",\"Your\",\"To\",\"\\ub450\\uadfc\\ub450\\uadfc\",\"\\ud558\\ub098_\\ub458\",\"\\uac11\\uc790\\uae30\",\"\\ub2e4\\uc2dc_\\ud55c\\ubc88\",\"\\ud640\\ub85c\",\"\\uc218_\\uc788\\uc5b4\",\"\\ub290\\uaef4\\uc838\",\"\\ub9d0\\ub85c\",\"\\uc57d\\uc18d\",\"kiss\",\"\\ucd94\\uc5b5\\uc774\",\"\\uc54c\\uc558\\uc5b4\",\"\\ubc14\\ubcf4\",\"\\ucc28\\uac11\\uac8c\",\"show\",\"more\",\"\\ub534\",\"\\ubc16\\uc5d0\",\"\\ub108\\ub9cc\\uc774\",\"\\ub530\\uc708\",\"\\uc8fc\\ub294\",\"like_this\",\"\\ubcfc\",\"\\ub4ef\\ud55c\",\"\\uc548\\uace0\",\"\\uc5b8\\uc820\\uac04\",\"\\ud758\\ub7ec\",\"\\uc190\\uc744_\\uc7a1\\uace0\",\"\\ub108\\ub77c\\ub294\",\"\\uc810\\uc810_\\ub354\",\"\\ud558\\ub298\\uc5d0\",\"how\",\"right_now\",\"\\uc55e\\uc5d0\\uc11c\",\"\\ub300\\ub85c\",\"like_that\",\"\\uc544\\ud504\\uac8c\",\"\\ub2e8_\\ud55c\",\"\\uc800_\\uba40\\ub9ac\",\"please\",\"\\ub2f4\\uc544\",\"\\uac70\\ub77c\\uace0\",\"my_name\",\"\\uc5c6\\uace0\",\"\\uba48\\ucdb0\",\"\\ubaa8\\uc2b5\\uc740\",\"\\ud558\\ub294\\ub370\",\"\\ub05d\\uc5d0\",\"\\ud750\\ub974\\ub294\",\"\\ub450_\\uc190\",\"shake_it\",\"\\ubb50\\uc57c\",\"\\uc6c3\\uc744_\\uc218\",\"\\uae30\\uc5b5\\uc774\",\"\\ubcc4\\uc774\",\"I_miss\",\"Make\",\"\\ubabb\\ud560\",\"\\uc544\\ub798\",\"\\ud2b9\\ubcc4\\ud55c\",\"\\ub354\\uc774\\uc0c1\",\"\\ud558\\ub8e8\\ub97c\",\"\\uc870\\uae08\\ub9cc_\\ub354\",\"Forever\",\"We_can\",\"\\ud5a5\\uae30\",\"\\ubabb\\ud558\\uac8c\",\"\\uc704\\ud5d8\\ud574\",\"\\uc21c_\\uc5c6\\uc5b4\",\"\\uc788\\uc73c\\uba74\",\"\\uc0ac\\ub791\\ud558\\uace0\",\"For\",\"\\uc5c6\\ub294\\uac78\",\"Hello_Hello\",\"\\ubaa8\\uc2b5\\uc5d0\",\"\\uac00\\ub9cc\\ud788\",\"ooh_ooh\",\"\\uc544\\ud30c\\ub3c4\",\"\\uc9c0\\uae08\\uc740\",\"Give_it\",\"\\ub108_\\uc5c6\\uc778\",\"\\uc0ac\\ub791\\ud560\",\"\\uc0dd\\uac01\\uc5d0\",\"Give_me\",\"Only\",\"Like_a\",\"\\uc6c3\\uc5b4\",\"\\ub6f0\\uc5b4\",\"Everyday\",\"\\ud558\\ub298\\uc774\",\"\\ub9cc\\ub09c\",\"together\",\"\\ubc14\\ub78c\",\"\\uadf8\\ud1a0\\ub85d\",\"\\ubaa8\\ub4e0_\\uac83\\uc774\",\"\\ud560\\uae4c\",\"\\ud14c\\ub2c8\\uae4c\",\"\\ub098\\ucc98\\ub7fc\",\"\\ud558\\uac8c\",\"\\ubc24\\uc744\",\"break\",\"if_you\",\"\\uc5ec\\uae34\",\"\\ub0b4\\ub9d8\",\"\\ub0b4\\uac8c\\ub85c_\\uc640\",\"beautiful\",\"touch\",\"\\uac83\\uc744\",\"\\uc0dd\\uac01\\ub098\",\"\\ub124_\\uacc1\\uc5d0\",\"B\",\"at\",\"\\ud0c0\\uace0\",\"\\uc774\\ubcc4\\uc774\",\"Dance\",\"\\uc2dc\\uac04\\uc5d0\",\"\\uc598\\uae38\",\"\\uc81c\\uc77c\",\"\\ub2ec\\ub824\\uac00\",\"\\ub41c\",\"Take\",\"\\uc788\\ub294\\uc9c0\",\"\\uc0dd\\uac01\\uc774\",\"tell\",\"\\uc9c0\\uae08\\ucc98\\ub7fc\",\"ha\",\"\\ub2ec\\ucf64\\ud558\\uac8c\",\"Please\",\"my_god\",\"good_bye\",\"by\",\"without_you\",\"\\ub0b4_\\ub9d8\\uc18d\\uc5d0\",\"hot\",\"\\uc644\\ubcbd\\ud55c\",\"\\ub54c\\ub3c4\",\"feeling\",\"Show_me\",\"\\ubab0\\ub77c_\\ubab0\\ub77c\",\"\\ub290\\ub08c\\uc774\",\"\\ubaa8\\ub974\\uace0\",\"\\uc788\\uace0\",\"\\uc6b0\\ub9ac\\ub4e4\\uc758\",\"\\ub0b4\\uc77c\\uc740\",\"\\uc544\\ubb34_\\ub9d0\\ub3c4\",\"\\ubd24\\uc5b4\",\"girls\",\"\\ubc14\\ubcf4\\uac19\\uc774\",\"\\uc624\\ub298\\uc774\",\"\\uc788\\uc9c0\\ub9cc\",\"\\uc54a\\uc558\\uc5b4\",\"\\uc5ed\\uc2dc\",\"\\ubc24\\uc774\",\"\\uae30\\ub3c4\\ud574\",\"\\ub358\\uc838\",\"\\uae30\\ub2e4\\ub9b4\\uac8c\",\"\\ub3cc\\uc544\",\"\\ubbf8\\uc18c\\uac00\",\"long\",\"\\uc788\\uc5c8\\uc5b4\",\"\\ub4e4\\uc5b4\\ubd10\",\"\\ub354_\\ud06c\\uac8c\",\"all_right\",\"still\",\"\\uc544\\ub2cc\\ub370\",\"\\ubd10\\ubd10\",\"dream\",\"ma_girl\",\"\\uc88b\\uaca0\\uc5b4\",\"ain_t\",\"\\ub108\\uc5d0\\uac8c\\ub85c\",\"\\uc2dc\\uc120\",\"\\uc9c0\\ub098\",\"\\uc2ec\\uc7a5\",\"\\uadf8\\ub9ac\",\"gone\",\"\\ub9cc\\ub4e0\",\"\\ubcf4\\uc5ec\\uc904\\uac8c\",\"there\",\"\\ub450_\\ub208\\uc5d0\",\"\\ub300\\uc2e0\",\"\\uc788\\uc744\",\"My_Love\",\"\\ub108\\ubb34_\\uc88b\\uc544\",\"remember\",\"\\uc6b0\\ub9ac\\ub97c\",\"\\uc790\\uc2e0\\uc744\",\"\\uc0ac\\ub791\\uc73c\\ub85c\",\"ever\",\"\\ub2c8_\\ubaa8\\uc2b5\",\"Love_Love\",\"\\ud55c_\\ubc88\\ub9cc\",\"Crazy\",\"\\ud798\\uc744\",\"\\ubc14\\ub77c\\ubcf4\\uba70\",\"come_to\",\"\\ud55c\\ubc88\\ub9cc\",\"\\ub2e8\",\"\\uccab\",\"talk_about\",\"luv\",\"\\uc77c\\uc774\",\"\\ub05d\\uc5c6\\uc774\",\"\\uc548\\uaca8\",\"\\uc5b8\\uc820\\uac00\\ub294\",\"If\",\"\\uacac\\ub51c_\\uc218\",\"We_are\",\"\\uc7a1\\uc544\",\"\\uc11c\\ub85c\\uac00\",\"\\ucc29\\ud55c\",\"\\uc54a\\uc544\\ub3c4\",\"\\uc2dc\\uac04\\ub4e4\",\"\\ub610\\ub2e4\\uc2dc\",\"\\uba38\\ub9ac\",\"\\ub9de\\ucdb0\",\"\\uc785\",\"Good\",\"\\uc788\\uaca0\\uc9c0\",\"I_think\",\"us\",\"\\uc624\\ub798\",\"\\uc0c1\\uad00\\uc5c6\\uc5b4\",\"\\uae30\\ub300\",\"\\uc544\\ubb34_\\ub9d0\",\"\\ubaa8\\ub974\\uac8c\",\"\\ud14c\\ub2c8\",\"everyday\",\"Woo_woo\",\"fall_in\",\"\\uac00\\ub054\\uc529\",\"\\ubc24\\uc5d0\",\"\\uc783\\uc5b4\\ubc84\\ub9b0\",\"\\ubfd0\\uc57c\",\"\\uc774\\uc81c\\ubd80\\ud130\",\"\\ub108\\ub97c_\\uc6d0\\ud574\",\"\\ud150\\ub370\",\"\\ub9d0\\uc544\",\"\\uc88b\\uc544\\ud574\",\"Break_it\",\"\\uafc8\\uc5d0\",\"step\",\"\\uac00\\uc2b4\\uc18d\\uc5d0\",\"\\uae30\\ub2e4\\ub9ac\\ub294\",\"world\",\"\\ubc1b\\uc544\\uc918\",\"\\uc5c6\\uc8e0\",\"go_go\",\"\\ubcf8\",\"\\ub9e4\\ubc88\",\"\\ub208\\ubb3c\\ub3c4\",\"\\uc2ac\\ud514\",\"Be\",\"the_night\",\"Good_bye\",\"\\uba87\",\"\\ubbf8\\uce58\\ub3c4\\ub85d\",\"\\uc5b4\\uc81c\",\"\\uc9e7\\uc740\",\"\\ub0a8\\uaca8\\uc9c4\",\"\\uc55e\\uc73c\\ub85c\",\"\\uc918\\uc694\",\"\\ud574\\ubd10\\ub3c4\",\"in_your\",\"\\ubab0\\ub77c\\uc694\",\"\\uc774\\uc57c\\uae30\",\"One_Two\",\"\\ub450_\\ub208\",\"\\ube44\\uac00\",\"\\ub4a4\\uc5d0\",\"\\uc624_\\uc624\",\"\\ub530\\ub77c\\uc640\",\"\\uc624\\ub298\\ub530\\ub77c\",\"On\",\"\\uac00\\ub4dd\\ud788\",\"\\ud589\\ubcf5\\ud558\\uac8c\",\"\\ud558\\ub8e8\\uc885\\uc77c\",\"play\",\"\\ub450_\\uc190\\uc744\",\"\\ubbff\\uc744_\\uc218\",\"Girls\",\"stay\",\"\\ub0b4_\\ub9c8\\uc74c\\uc740\",\"\\ub530\\uc2a4\\ud55c\",\"\\ub0a0\\uc544\",\"\\ub458\\ub9cc\\uc758\",\"\\uc774\\ubcc4\\uc740\",\"\\ubbf8\\uce60_\\uac83\",\"Hey_Hey\",\"\\uc0dd\\uac01\\ud558\\uba74\",\"\\uc218\\ub3c4\",\"\\uc774_\\uc21c\\uac04\\uc744\",\"\\ud488\\uc5d0\",\"\\uc9c0\\ucf1c\",\"\\uc624\\ub294\",\"\\ud558\\uace0_\\uc2f6\\uc740\",\"\\ucd94\\uc5b5\\uc744\",\"\\ubcf4\\ub2c8\",\"\\uc6c3\\uc74c\",\"Cause_I\",\"\\ud558\\uc9c0_\\ub9c8\",\"\\uac16\\uace0_\\uc2f6\\uc5b4\",\"cause\",\"\\uc2f6\\uc5c8\\uc5b4\",\"\\uafc8\\ucc98\\ub7fc\",\"\\uc62c\",\"\\ucc98\\ub7fc\",\"say_goodbye\",\"Alright\",\"\\uc78a\\uc9c0\",\"\\uc11c\\ub85c\\uc758\",\"\\uadd3\\uac00\\uc5d0\",\"\\uc0ac\\uc2e4\\uc740\",\"\\uc9c0\\uae08\\uaecf\",\"\\uc6b0\\ub9ac_\\ub458\",\"my_mind\",\"yes\",\"\\uc870\\ucc28\",\"\\ubcf4\\ub0b4\",\"feel_so\",\"\\ubab8\\uc774\",\"\\uc0ac\\ub791\\ud574_\\uc0ac\\ub791\\ud574\",\"\\uac00\\uc9c8_\\uc218\",\"\\ub05d\",\"\\ub098_\\uc5b4\\ub5a1\\ud574\",\"\\ubbf8\\uce5c\",\"U_U\",\"\\uac00\\uc9c0\",\"beat\",\"\\uc788\\ub294\\uac78\",\"\\ub9e4\\uc77c_\\ub9e4\\uc77c\",\"\\uc870\\uae08\\ub9cc\",\"\\ub458\\uc774\\uc11c\",\"\\ud558\\ub2c8\",\"\\ub192\\uc774\",\"\\ubbf8\\uce58\\uaca0\\uc5b4\",\"come_back\",\"know_what\",\"\\uc788\\ub098\\uc694\",\"move\",\"\\uc911\",\"\\uc9c0\\uc6cc\",\"real\",\"are\",\"\\uc6d0\\ud55c\\ub2e4\\uba74\",\"Cause\",\"\\ub2c8_\\ub9d8\\uc744\",\"\\ub204\\uac00_\\ubb50\\ub798\\ub3c4\",\"keep\",\"\\ub2e4_\\uac19\\uc774\",\"Look_at\",\"L_O\",\"\\ub108\\ub97c_\\uc704\\ud55c\",\"\\uc606\\uc5d0\",\"\\ud798\\ub4e4\\uac8c\",\"\\uc5c6\\ub2e4\\uba74\",\"\\ud558\\ub098\\ub3c4\",\"\\ub193\\uace0\",\"Down\",\"\\ub0b4\\uacc1\\uc5d0\",\"\\ubab0\\ub77c\\ub3c4\",\"\\ub108\\ub97c_\\ud5a5\\ud55c\",\"\\ub098\\ub3c4_\\ubab0\\ub798\",\"\\uc5b4\\uca54_\\uc218\",\"\\ud568\\uaed8_\\ud560\",\"\\uc785\\uc220\\uc5d0\",\"\\ub0af\\uc120\",\"smile\",\"love_is\",\"\\ub9e1\\uaca8\",\"\\ubcfc\\uae4c\",\"true\",\"\\uc218\\uac00\",\"\\ub2e8\\uc9c0\",\"style\",\"\\uc7a1\\uc544\\uc918\",\"Get_up\",\"m\",\"This\",\"\\uc0ac\\ub791\\ud560_\\uc218\",\"\\uc678\\ub85c\\uc6b4\",\"\\ud560\\uac8c\",\"\\ub108\\uac00\",\"look_at\",\"\\uc788\\uc744\\uac8c\",\"\\uc54a\\uaca0\\uc5b4\",\"\\uc9c0\\ub098\\uac04\",\"\\uc9d1\\uc5d0\",\"\\uc9c0\\uae08\\uae4c\\uc9c0\",\"\\ud589\\ubcf5\\uc744\",\"\\uac00\\uc9c0\\ub9c8\",\"\\ub4e3\\uace0\",\"\\ub0b4\\ub824\",\"\\ub458\",\"\\ub4e4\\ub824\",\"\\uc7a0_\\ubabb\",\"\\ub9c8\\ub0e5\",\"\\uc6b0\\uc5f0\\ud788\",\"\\uac19\\uc740\\ub370\",\"\\uc544\\ud514\",\"\\ud6c4\\ud68c\",\"so_beautiful\",\"one_two\",\"leave_me\",\"my_lady\",\"\\uc788\\ub2e4\",\"\\ub9e4\\uc77c\\ub9e4\\uc77c\",\"\\ube44\\uce5c\",\"from\",\"\\uaf49\",\"\\uae30\\uc5b5\\uc744\",\"\\uc54c\\uace0_\\uc788\\uc5b4\",\"kiss_me\",\"\\ub208\\ubb3c\\uc740\",\"\\ub3cc\\uc544\\uac00\",\"\\uc0dd\\uac01\\uc740\",\"live\",\"\\uc0ac\\ub78c\\uc740\",\"\\ubc18\\uc9dd\\uc774\\ub294\",\"\\ubd99\\uc7a1\\uace0\",\"\\uac00\\uc790\",\"Go_Go\",\"\\ub9d0\\ud558\\uc9c0\",\"\\uc9c0\\uc6b8_\\uc218\",\"\\uadf8_\\uc790\\ub9ac\\uc5d0\",\"\\uc2dc\\uac04_\\uc18d\\uc5d0\",\"\\uac00\\uba74\",\"\\ub208\\uc744_\\uac10\\uace0\",\"\\uc544_\\uc544\",\"Boom\",\"\\ub098\\ubcf4\\ub2e4\",\"\\uc0b4_\\uc218\",\"\\ub108\\ub9cc_\\uc788\\uc73c\\uba74\",\"off\",\"\\uadf8\\ub7ec\\ub2c8\",\"\\ud55c\\ub9c8\\ub514\",\"\\uc54a\\uc744\\uac8c\",\"\\uc785\\uc220\\uc774\",\"\\ub4ef\\ud574\",\"Goodbye\",\"\\ub0b4\\uac8c\\ub294\",\"\\ub9d0\\ud558\\uace0\",\"\\ucc44\\ub85c\",\"\\ucc3e\\ub294\",\"\\ub0b4\\ub9d8\\uc744\",\"\\uc644\\ubcbd\\ud574\",\"\\ubc14\\ub78c\\uc774\",\"Beautiful\",\"\\ub9c8\\ub77c\",\"\\uace7\",\"\\uc88b\\uc544\\ud558\\ub294\",\"\\ubaa8\\ub978_\\ucc99\",\"\\ud754\\ub4e4\\ub9ac\\ub294\",\"\\ud639\\uc2dc\\ub098\",\"\\uc5b4\\ub450\\uc6b4\",\"\\uc218_\\uc788\\ub294\",\"\\ubabb\\ud558\\ub294\",\"\\uc804\\ud654\",\"\\uc228\",\"\\ub5a0\\ub098\\uac00\",\"light\",\"Hot\",\"\\ucc3e\\uc744_\\uc218\",\"\\ubb50\\ub77c\\uace0\",\"this_is\",\"\\uac08\",\"\\uc54a\\uc744\",\"\\uc774\\uc0c1\\ud574\",\"\\ub290\\uaef4\\uc9c0\\ub294\",\"sky\",\"\\ub9c8\\uc74c\\uc740\",\"\\ube5b\",\"what_s\",\"\\uc9c0\\uae08\\uc774\",\"Bye_Bye\",\"\\uac70\\ub9ac\",\"\\uc190\\uc774\",\"the_music\",\"\\uc190\\uc744_\\uc7a1\\uc544\",\"na\",\"\\ub9c8\\uc74c\\uc18d\\uc5d0\",\"\\ub9c8\\uc74c\\ub3c4\",\"\\uc544\\uc9c1\\uae4c\\uc9c0\",\"\\uc544\\uc774\",\"\\uc5b4\\ub9b0\",\"Know\",\"\\uae30\\ubd84\\uc774\",\"\\ub0a0\\uc544\\uac00\",\"pain\",\"show_you\",\"the_only\",\"\\uc27f\",\"\\ub0a8\\uc790\\ub2f5\\uac8c\",\"\\uac83\\uc740\",\"\\ud6c4\",\"\\uc65c_\\uc774\\ub9ac\",\"\\uc54c\\uba74\\uc11c\\ub3c4\",\"BABY\",\"\\uc644\\uc804\",\"\\uba4b\\ub300\\ub85c\",\"lonely\",\"\\ub2e4\\uac19\\uc774\",\"\\uc628\\uc885\\uc77c\",\"G\",\"Rock\",\"\\ub2f5\\ub2f5\\ud574\",\"\\ub108\\ub77c\\uba74\",\"\\ubb50\\ub4e0\",\"\\uc54c\\uace0_\\uc2f6\\uc5b4\",\"\\ud3c9\\uc0dd\",\"\\ub098\\ub9cc\\uc744\",\"\\ud55c\\ubc88_\\ub354\",\"\\ub0b4\\uac8c_\\ub3cc\\uc544\\uc640\",\"\\uc9c0\\ucf1c\\uc904\\uac8c\",\"Make_it\",\"\\uc804\\ubd80_\\ub2e4\",\"da\",\"\\ub2e4\\uc74c\",\"\\ub0b4\\uac8c_\\uc640\",\"\\uc5b4\\ub460\\uc774\",\"Bounce\",\"You_got\",\"\\ub208\\uc55e\\uc5d0\",\"\\ub0a0\\ub4e4\",\"Here\",\"\\uc124\\ub808\\ub294\",\"\\uc5c6\\uc5c8\\ub358\",\"\\uac70\\uc8e0\",\"\\uc800_\\ud558\\ub298\",\"\\uc6a9\\uae30\",\"\\ud145_\\ube48\",\"only_one\",\"\\uc774_\\uc138\\uc0c1\\uc5d0\",\"\\uc74c\",\"\\uc7a0\\uc774\",\"\\uafc8\\uc740\",\"Are_you\",\"have\",\"\\uc0c8\\ub86d\\uac8c\",\"\\uc5b4\\ub514\\ub85c\",\"YOU\",\"\\ubbf8\\uc18c\\ub97c\",\"\\uc9c0\\uae08\\uc758\",\"\\ud589\\ubcf5\\ud588\\ub358\",\"bounce\",\"\\ub0a8\\uc790\\uac00\",\"\\uc624\\uc624\",\"No_no\",\"\\uc774_\\ub290\\ub08c\",\"OH\",\"\\uba38\\ub9ac\\ubd80\\ud130_\\ubc1c\\ub05d\\uae4c\\uc9c0\",\"\\ud55c\\uc5c6\\uc774\",\"\\uc54c\\uc544\\uc694\",\"\\uc8fc\\uace0\",\"\\ud574\\ubd10\",\"\\ub354_\\ub192\\uc774\",\"\\ub0a8\\uc790\\ub294\",\"never_let\",\"\\ub0a0_\\uc548\\uc544\\uc918\",\"\\uac00\\uc838\\uac00\",\"Sorry\",\"\\uac08_\\uc218\",\"\\uadf8\\ub9ac\\uc6b4\",\"\\uc5b4\\uc0c9\\ud55c\",\"\\uc880\\ub354\",\"\\ubc14\\ubcf4_\\uac19\\uc740\",\"\\uc5b4\\ub514\\uc11c\",\"\\ud558\\ub358\",\"\\uc6b0\\ub9ac_\\uc0ac\\uc774\",\"\\ub108_\\uc544\\ub2c8\\uba74\",\"\\ubabb\\ud588\\uc5b4\",\"the_world\",\"\\uc0dd\\uac01\\uc744\",\"better\",\"\\ud55c_\\uac78\\uc74c\",\"eyes\",\"\\ubc14\\ub78c\\uc5d0\",\"\\ube60\\uc9c4\",\"\\uc5b4\\ub51c\",\"\\ubb54\\ub370\",\"Ready\",\"Ma\",\"\\ub108\\uc5d0\\uac90\",\"\\ub9d0\\ud574\\ub3c4\",\"\\ub2ee\\uc740\",\"something\",\"want_to\",\"\\ub05d\\uc744\",\"\\uc544\\ubb34\\ub3c4_\\ubaa8\\ub974\\uac8c\",\"\\ubd80\\ub4dc\\ub7ec\\uc6b4\",\"\\uc544\\ub2c8\\ub77c\\uace0\",\"\\ub9cc\\ub0a0\",\"\\ud587\\uc0b4\\uc774\",\"sweet\",\"\\ub5a0\\ub098\\uac04\",\"\\ud558\\uc796\\uc544\",\"Here_we\",\"\\uac19\\ub358\",\"\\uc654\\uc5b4\",\"\\uc544\\ud514\\uc744\",\"I_ve\",\"your_mind\",\"No_more\",\"When_I\",\"\\ub4e4\\uace0\",\"\\uae38\\uc774\",\"\\ub2e4\\uac00\\uc624\\ub294\",\"\\ud588\\ub294\\ub370\",\"\\ub108\\ub97c_\\ud5a5\\ud574\",\"\\ud22c\\uba85\\ud55c\",\"some\",\"\\uac70\\uce5c\",\"\\uc870\\uc6a9\\ud788\",\"\\uc5c6\\uc5b4\\uc11c\",\"\\uadf8\\ub7ac\\uc5b4\",\"I_believe\",\"be_with\",\"\\ub0b4_\\ub208\\uc5d4\",\"\\uc624\\ub7ab\\ub3d9\\uc548\",\"get_down\",\"re\",\"\\uc0c8\",\"\\ud558\\ub8e8\\ub3c4\",\"\\uac70\\ub77c\",\"\\uaca8\\uc6b8\",\"\\uac74\\ub370\",\"\\ub098\\ud0c0\\ub098\",\"Wanna\",\"\\uc0b4\",\"\\uae30\\ub2e4\\ub9b0\",\"\\uaebc\\uc57c\",\"\\ub108\\ub77c\\uc11c\",\"won_t\",\"so_sorry\",\"\\ubc1d\\uc740\",\"\\ub54c\\ub85c\\ub294\",\"\\uc788\\ub098\",\"\\uc9c0\\ub098\\uba74\",\"falling_in\",\"I_M\",\"\\ub0b4\\uc77c\\uc774\",\"\\uc54c\\uc9c0\",\"\\uc54a\\uc544\\uc694\",\"goodbye\",\"\\uc5bc\\uad74\\uc774\",\"\\uc54c\\uae4c\",\"\\uc678\\uccd0\",\"\\ubc14\\ub77c\\ub294\",\"\\ud589\\ubcf5\",\"\\uadf8\\ub7ec\\uba74\",\"lover\",\"\\uadf8\\ub798\\uc694\",\"\\ubaa8\\ub4e0\\uac78_\\ub2e4\",\"\\ub0a0\\uc544\\uc62c\\ub77c\",\"\\uc0c8\\ud558\\uc580\",\"\\uadf8\\ub54c\\ub85c\",\"\\ube60\\uc838\\ub4e4\\uc5b4\",\"\\ub124_\\uc0dd\\uac01\\uc5d0\",\"\\ucc98\\uc74c_\\ubcf8\",\"\\ub098\\uba74\",\"ride\",\"\\ubcf4\\uba74\\uc11c\",\"\\uc720\\uc77c\\ud55c\",\"too\",\"\\uc774\\uc81c\\uc640\",\"\\uc548\\uc544\\uc918\",\"\\ub0b4\\uc548\\uc5d0\",\"\\ub2e4\\uc2dc_\\ub3cc\\uc544\\uc640\",\"\\ub108_\\ubc16\\uc5d0\",\"\\ubcf4\\uace0_\\uc2f6\\uc740\",\"\\ub9de\\uc544\",\"\\ub108\\ub791\",\"hold\",\"have_to\",\"\\uc8fd\\uc5b4\\ub3c4\",\"\\ubcf4\\ub0b8\",\"\\uadf8\\ub0a0\",\"\\ub418\\uba74\",\"\\ubbff\\uc5b4\\uc694\",\"Ha\",\"\\ubab0\\ub790\\ub358\",\"\\uc54a\\ub3c4\\ub85d\",\"\\ub118\\uc5b4\",\"\\ub04c\\ub824\",\"Fly\",\"I_hate\",\"Step\",\"\\ub0b4\\uac00_\\uba3c\\uc800\",\"\\uba40\\uc5b4\\uc9c0\\ub294\",\"\\uc5c6\\uaca0\\uc9c0\",\"\\uace0\\ubc31\",\"\\ub5a0\\ub098\\ub294\",\"Christmas\",\"\\uc544\\ub984\\ub2f5\\uac8c\",\"sexy\",\"\\ubd88\\ub7ec\\uc918\",\"Kiss_me\",\"V_E\",\"\\uc0b6\\uc744\",\"\\uc549\\uc544\",\"\\uc0b4\\uace0\",\"\\ud558\\uba70\",\"\\uc54c\\uac8c\",\"\\uadf8\\uac78\",\"\\ub9d0\\ud560\\uac8c\",\"\\uc18d\\uc73c\\ub85c\",\"\\uc544\\uce68\",\"\\ubbf8\\uce5c_\\ub4ef\\uc774\",\"\\uadf8\\ub7f0\\ub370\",\"\\uac04\\ub2e4\",\"Cuz\",\"\\ub2e4\\ub978_\\uc0ac\\ub78c\",\"\\ucc3e\\uc544\\uc640\",\"\\ub9d0\\ud560_\\uc218\",\"\\uba40\\ub9ac\\uc11c\",\"\\uad73\\uc774\",\"\\uc900\\ube44\",\"hands\",\"Hey_hey\",\"\\ub9d1\\uc740\",\"\\ubb50\\ud574\",\"\\uc6d0\\ud558\\uace0\",\"\\ub0b4\\uac8c_\\ub9d0\\ud574\\uc918\",\"\\ubcfc\\ub798\",\"here_we\",\"\\ub5a8\\ub824\",\"\\ub098\\ub791\",\"thank_you\",\"\\ubbf8\\ub798\",\"\\uc9dc\\ub9bf\\ud55c\",\"\\ub4e4\\ub9ac\\ub2c8\",\"\\uae30\\uc5b5\\ud574\\uc918\",\"\\uc78a\\uc9c0_\\ubabb\\ud574\",\"\\ubbf8\\uc18c\\ub85c\",\"\\uc18d\\uc744\",\"\\ub0a8\\uc794\",\"\\ud558\\ub098\\ub9cc\",\"\\uc5ec\\uae30\\uc800\\uae30\",\"\\uae30\\ubd84_\\uc88b\\uc740\",\"\\uc544\\ubb34\\ub807\\uc9c0_\\uc54a\\uc740\",\"\\ubc14\\ub2e4\",\"Run\",\"Woo_Woo\",\"\\uc548\\uc544\",\"\\ucc3e\\uace0\",\"\\uc774_\\ubc24\\uc744\",\"\\uacb0\\uad6d\\uc5d4\",\"\\uafc8\\uc5d0\\uc11c\",\"\\ub420_\\uc218\",\"\\uba3c\",\"\\ubc14\\ub77c\\ubcf4\\uace0\",\"P\",\"\\ub204\\uad74\",\"\\ub354_\\uac00\\uae4c\\uc774\",\"\\uc54c\\uc544\\uc918\",\"\\uac77\\ub294\",\"paradise\",\"come_come\",\"know_that\",\"\\ub108\\ub9cc_\\ubcf4\\uc5ec\",\"\\uc5bc\\uad74\\uc744\",\"\\ud588\\uc9c0\\ub9cc\",\"\\uc6b8\\uc5b4\",\"\\uc2f6\\uc9c0\\ub9cc\",\"\\ubbf8\\uc6cc\",\"\\ud754\\ud55c\",\"\\ub05d\\uc774_\\uc5c6\\ub294\",\"\\uc6c0\\uc9c1\\uc5ec\",\"\\uadf8\\ub7f4\",\"\\uc544\\ub9c8\\ub3c4\",\"\\uc5b8\\uc81c\",\"\\uc18d\\uc758\",\"\\ub0b4_\\uacc1\\uc744\",\"air\",\"\\uac71\\uc815\",\"\\uc774\\uc81c\\uc11c\\uc57c\",\"\\ucc38\\uc744_\\uc218\",\"\\ub208\\ubd80\\uc154\",\"\\uc790\\uc720\\ub86d\\uac8c\",\"\\ub208\\ubb3c\\ub9cc\",\"\\uba39\\uace0\",\"\\uc2e0\\ub098\\uac8c\",\"\\uc2ac\\ud514\\uc744\",\"\\uba38\\ub9ac\\uac00\",\"\\uc774\\uc720\\uac00\",\"\\ubd80\\ub974\\ub294\",\"my_everything\",\"How\",\"Come_On\",\"one_more\",\"Always\",\"e\",\"\\ucc98\\uc74c_\\ub9cc\\ub09c\",\"\\uc788\\uc5c8\\uc9c0\",\"\\ub0b4_\\uc2ec\\uc7a5\\uc740\",\"\\uc0ac\\ub78c\\uc744\",\"\\ub0a0_\\ub450\\uace0\",\"\\ud588\\uc9c0\",\"\\ud55c\\ubc88\\ub3c4\",\"\\uc0ac\\ub791\\uc544\",\"\\uc5b4\\ub514\\uc5d0\",\"\\uc774\\ub798\",\"\\ubd80\\ub514\",\"E\",\"\\uc11c\",\"\\ubc1d\\uac8c\",\"bad\",\"\\uadf8\\ub300\\ub3c4\",\"\\uc6b8\\ub824\",\"\\ub3cc\\uc544\\uc640\\uc918\",\"\\uc544\\uc774\\ucc98\\ub7fc\",\"\\uc624\\ube60\",\"really\",\"Got\",\"\\ubaa8\\uc2b5\\uc73c\\ub85c\",\"\\ub4a4\",\"\\ubc14\\ub77c\",\"I_won\",\"In\",\"\\ub0b4\\ub9ac\\ub294\",\"\\uc5ec\\uc790\\uac00\",\"\\ub098\\uc11c\",\"\\ube44\\ubc00\",\"\\ub208\\ube5b\\uc5d0\",\"on_and\",\"\\uc5c6\\ub124\",\"\\uc608\\uc058\\uac8c\",\"\\uc0ac\\ub78c\\ub4e4\\uc774\",\"\\ub9d0\\uc5d0\",\"\\ud5a5\\uae30\\uac00\",\"gotta\",\"\\uc790\\uc2e0\\uc774\",\"\\uc678\\ub85c\\uc6cc\",\"\\uac04\",\"\\ub208\\ubb3c\\uc5d0\",\"\\ud798\\uaecf\",\"ha_ha\",\"Call_me\",\"nobody\",\"\\uc0ac\\ub78c\\ub4e4\\uc740\",\"\\ub54c\\uac00\",\"\\uafc8\\uc18d\\uc5d0\",\"control\",\"when\",\"hold_me\",\"\\ub9d0\\ub9cc\",\"\\uc5c6\\uc73c\\ub2c8\\uae4c\",\"touch_me\",\"\\uc120\\ubb3c\",\"loving_you\",\"\\ub450_\\ub208\\uc774\",\"\\uc6b0\\ub9ac_\\ub458\\ub9cc\\uc758\",\"\\ub0b4_\\ub9d8\\ub300\\ub85c\",\"ok\",\"\\uc5c6\\ub2c8\",\"\\uac10\\uc815\",\"go_away\",\"\\uc624\\ub79c\",\"\\ub098\\uc758_\\ub9c8\\uc74c\\uc744\",\"\\uc2dc\\uac04\\ub3c4\",\"\\ud654\\ub824\\ud55c\",\"\\ub05d\\ub0ac\\uc5b4\",\"\\ud558\\ub098\\ub85c\",\"\\ub0a0\\uc5d0\",\"\\ud558\\ub8e8\\ub9cc\",\"\\ub5a0\\ub098\\uc9c0\\ub9c8\",\"\\uc774\\ub9ac\",\"\\ubd88\\uc548\\ud574\",\"\\ud560\\ub798\",\"\\ub208\\uc774_\\ubd80\\uc154\",\"\\ub2ec\",\"my_friend\",\"will\",\"Stay\",\"\\ubabb\\ub41c\",\"\\uc804\\ud654\\ub97c\",\"\\ub178\\ub798\\ub97c\",\"\\ub108\\uc640\\ub098\",\"\\ubb38\\ub4dd\",\"\\ubaa8\\uc544\",\"Cuz_I\",\"\\ub124_\\ubaa8\\uc2b5\",\"\\uc21c\\uac04\\uc774\",\"\\uac08\\uc218\\ub85d\",\"listen\",\"\\uadf8\\ub140\\uc5d0\\uac8c\",\"\\ube44\\ucdb0\",\"\\uae30\\uc5b5_\\uc18d\\uc5d0\",\"\\ub6f0\\ub294\",\"\\uc57d\\uc18d\\ud560\\uac8c\",\"\\ub0b4\\ub824\\uc640\",\"your_body\",\"honey\",\"\\ub124\\uac00_\\ud544\\uc694\\ud574\",\"Kiss\",\"\\uc218_\\uc788\\ub2e4\\uba74\",\"\\uc6b0\\ub294\",\"\\ubc14\\ubcf4\\uc57c\",\"\\uadf8\\ub300\\uc640_\\ud568\\uaed8\",\"\\uadf8\\ub9ac\\uc6c0\",\"\\uc2f6\\uc5b4\\uc694\",\"\\ub9d0\\ud558\\ub294\",\"\\ub9d0\\ub4e4\",\"\\uc0ac\\ub791\\ud55c\\ub2e4\\ub294\",\"\\uaca8\\uc6b0\",\"\\uc6c3\\uc74c\\uc774\",\"\\ub179\\uc544\",\"\\uc2dc\\uac04\\ub4e4\\uc774\",\"\\uc78a\\uc5b4\\ubc84\\ub824\",\"\\ubc24\\uc0c8\\ub3c4\\ub85d\",\"\\ubcf4\\uace0\\uc2f6\\uc5b4\",\"\\ub108\\ub85c_\\uc778\\ud574\",\"chance\",\"we_are\",\"tight\",\"hey_hey\",\"\\uc54a\\uc744_\\uac70\\uc57c\",\"run\",\"\\uc2dc\\uc791\",\"\\ub300\",\"\\uc5b8\\uc81c\\ucbe4\",\"\\ub05d\\uc5c6\\ub294\",\"\\ub204\\uad6c\\ub098\",\"\\uc54a\\ub2c8\",\"\\uc6b0\\ub9ac\\ub9cc\\uc758\",\"\\uc81c\\ub300\\ub85c\",\"\\uc5ec\\uc790\\ub294\",\"\\ucc28\",\"\\uc785\\uc220\\uc744\",\"\\uc5ec\\uc794\",\"\\uac78_\\uc54c\\uc544\",\"alone\",\"\\ub188\",\"Uh_uh\",\"music\",\"\\uacf3\\uc73c\\ub85c\",\"\\uae30\\uc5b5\\uc5d0\",\"\\ubabb\\ub09c\",\"\\uc815\\uc2e0\",\"\\uc598\\uae30\\ub97c\",\"\\uba4d\\ud558\\ub2c8\",\"\\uae30\\ub2e4\\ub9ac\\uace0\",\"or\",\"\\ud658\\ud558\\uac8c\",\"\\uc990\\uaca8\",\"hoo\",\"da_da\",\"\\ubcc0\\ud574\",\"\\ub3cc\\ub824\",\"call\",\"\\uba40\\uc5b4\\uc838\",\"\\ub9d0\\ud22c\",\"\\uc911\\uc5d0\",\"show_me\",\"\\ube68\\uac04\",\"\\ub208\\ube5b\\uc73c\\ub85c\",\"back_to\",\"LOVE\",\"care\",\"Right_now\",\"Three\",\"\\ud558\\ub098\\uc758\",\"\\uad1c\\ucc2e\\uc740\",\"\\ub2f9\\uc2e0\\uc758\",\"\\uc0c1\\ucc98\\ub97c\",\"\\uac08\\ub798\",\"\\uc0b4\\uc544\\uac00\\ub294\",\"\\ub0b4\\uac8c_\\ub9d0\\ud574\",\"\\ub9cc\\ub4dc\\ub294\",\"ye_ye\",\"\\ud639\\uc2dc\\ub77c\\ub3c4\",\"\\ub108\\ubfd0\\uc774\\uc57c\",\"\\ud55c\\ucc38\\uc744\",\"\\uc3df\\uc544\\uc9c0\\ub294\",\"\\ub108_\\ud558\\ub098\\uba74\",\"V\",\"\\ud750\\ub974\\uace0\",\"free\",\"\\uc2dc\\uc120\\uc744\",\"\\uc18c\\uc911\\ud588\\ub358\",\"I_wish\",\"\\uc560\\ud0c0\\uac8c\",\"\\ubb34\\ub108\\uc838\",\"t_care\",\"\\ub0b4_\\uac00\\uc2b4\\uc740\",\"\\uadf8\\ub9cc\\ud07c\",\"\\ud655\",\"\\ub208\\uce58\",\"\\uac78\\uc694\",\"\\ud55c_\\uc0ac\\ub78c\",\"\\uc11c\\ud230\",\"\\uadf8\\ub9cc\\ud574\",\"\\uac04\\uc808\\ud788\",\"i_love\",\"story\",\"In_my\",\"Na_na\",\"\\uc788\\uc73c\\ub2c8\",\"\\uc0ac\\ub791\\uc2a4\\ub7f0\",\"\\uad1c\\ucc2e\\uc544\\uc694\",\"we_can\",\"That\",\"\\uc62c\\ub77c\",\"\\uba5c\\ub85c\\ub514\",\"\\uc548_\\ud574\\ub3c4\",\"\\ub0b4\\ub9b0\",\"\\ub4a4\\ub3cc\\uc544\",\"Listen\",\"was\",\"\\ud574\\uac00\",\"\\uc544\\uce68\\uc774\",\"\\ud544\\uc694\\uc5c6\\uc5b4\",\"\\ub098\\ub098\\ub098\",\"\\uadf8\\ub7ec\\ub2e4\",\"\\ub0b4\\uc77c\\ub3c4\",\"\\ud558\\uc580_\\ub208\\uc774\",\"\\ub9d0\\ud558\\uc9c0_\\uc54a\\uc544\\ub3c4\",\"\\uc774\\ub7ec\\ub2e4\",\"\\uc5ec\\ub984\",\"\\uac07\\ud600\",\"\\ub9d0\\ub3c4_\\uc548\",\"friend\",\"wait\",\"Ooh_Ooh\",\"\\ud558\\uace0_\\uc2f6\\uc5b4\",\"\\uce5c\\uad6c\\ub4e4\",\"\\uc194\\uc9c1\\ud558\\uac8c\",\"about_you\",\"\\ub5a0\\ub098\\uace0\",\"\\ub05d\\uc740\",\"think\",\"\\ud754\\ub4e4\\ub824\",\"\\uc368\",\"\\uc88b\\uc544\\uc694\",\"of_my\",\"\\uc5b8\\uc81c\\ub4e0\",\"missing_you\",\"out_of\",\"\\uc624\\ub298\\ubd80\\ud130\",\"\\uaf43\",\"\\ubcf4\\ub0b4\\ub294\",\"\\ub124_\\uc55e\\uc5d0\",\"\\uace0\\uac1c\\ub97c\",\"\\uc218\\uc90d\\uc740\",\"\\ucc98\\uc74c\\uc73c\\ub85c\",\"\\uc774\\ubcc4\\uc758\",\"believe\",\"D\",\"\\uace0\\ubbfc\",\"wow_wow\",\"\\uc644\\uc804\\ud788\",\"\\ub9cc\\ub098\\uba74\",\"break_it\",\"\\uc138\\uc0c1\\uc758\",\"\\uc5b4\\ub5bb\\uac8c\\ub4e0\",\"wow\",\"\\ubd84\\uba85\",\"all_day\",\"No_way\",\"Right\",\"Like_this\",\"do_do\",\"\\ud0dc\\uc591\",\"\\ucee4\\ub2e4\\ub780\",\"\\uc804\",\"\\uc624\\ud788\\ub824\",\"\\ub098\\uac00\",\"\\uac77\\uace0\",\"\\uc6b0\\ub9ac\\uc5d0\\uac8c\",\"\\uae30\\ub3c4\",\"\\uc0b6\\uc740\",\"\\uac70\\ub9ac\\ub97c\",\"\\uac00\\uc9c0\\uace0\",\"worry\",\"\\ubc1c\",\"\\uc7a0\\uc2dc\\ub9cc\",\"Want_you\",\"\\ud754\\ub4e4\\uc5b4\\ubd10\",\"\\ubb54\\uc9c0\",\"\\uac70\\ub77c\\uba74\",\"\\ub208\\ubb3c\\uc774_\\ud758\\ub7ec\",\"Light\",\"go_back\",\"La\",\"Bo_Peep\",\"\\uba4b\\uc9c0\\uac8c\",\"\\uc54c\\uba74\\uc11c\",\"\\uc548\\uace0\\uc11c\",\"\\ub290\\ub07c\\ub294\",\"three\",\"\\uac00\\uc2b4\\uc740\",\"\\ub4a4\\uc5d0\\uc11c\",\"Time\",\"\\uc7a1\\uc744_\\uc218\",\"\\ud30c\\ub3c4\",\"\\uc5bc\\uad74\\uc5d0\",\"\\uc78a\\uc9c0_\\ubabb\\ud560\",\"\\ubaa8\\ub97c\",\"\\ub420_\\uac70\\uc57c\",\"\\uc9c0\\uaca8\\uc6cc\",\"\\uc5b4\\uc9c0\\ub7ec\\uc6cc\",\"\\uac00\\ub4dd\\ud574\",\"\\ube5b\\ub098\",\"We_ll\",\"\\uc0dd\\uac01\\ud574\\ubd10\",\"\\uc0dd\\uac01\\ud588\\uc5b4\",\"\\ub108\\uc5d0\",\"\\uc21c\\uac04\\uc744\",\"\\ub0b4\\uac90_\\ub108\\ubb34\",\"\\uc5ec\\uae30\\uc5d0\",\"ho\",\"\\uac10\\uc2f8\",\"\\ubcf4\\ub0b4\\uace0\",\"\\uc798\\ubabb\",\"\\ubbf8\\ub828\",\"\\ud574\\uc904\\uac8c\",\"\\uadf8\\uc758\",\"\\uc775\\uc219\\ud55c\",\"\\ud558\\ub098\\ubfd0\\uc778\",\"\\uc0c1\\ucc98\\uac00\",\"going\",\"slow\",\"talk\",\"Get_down\",\"\\ube59\\uae00\\ube59\\uae00\",\"so_fine\",\"LA_LA\",\"no_way\",\"BOY\",\"bad_girl\",\"\\uc9c0\\uae08_\\uc774\\ub300\\ub85c\",\"\\uc11c_\\uc788\\ub294\",\"\\ucde8\\ud574\",\"\\uc774_\\uc21c\\uac04\\uc774\",\"\\uadf8_\\ubb34\\uc5c7\\ub3c4\",\"\\ubd88\\uc744\",\"\\uc790\\ub9ac\",\"\\ub728\\uac70\\uc6cc\",\"\\ubc97\\uc5b4\\ub0a0_\\uc218\",\"\\uae30\\uc5b5\\uc740\",\"\\ucda4\\uc744_\\ucdb0\",\"\\ub5a0\\ub0a0\",\"\\uc77c\\ub2e8\",\"\\uc778\\uc0dd\",\"\\uac00\\ub3c4\",\"\\ubd84\\uc704\\uae30\",\"\\uae4c\\ub9cc\",\"\\uac19\\uc544\\uc11c\",\"\\ub108\\ub3c4_\\ub098\\uc640\",\"look\",\"\\ub108\\ub9cc\\uc740\",\"hello\",\"Wake_up\",\"Da_Da\",\"\\uc788\\uc744_\\ub54c\",\"\\ubaa8\\ub974\\uc9c0\",\"\\ub124_\\uc606\\uc5d0\",\"\\uc804\\ud600\",\"\\uc790_\\uc774\\uc81c\",\"\\ub9cc\\ub0a0_\\uc218\",\"\\ub9c8\\uc74c\\uc73c\\ub85c\",\"\\uce5c\\uad6c\\uac00\",\"\\ub9d0\\uc5c6\\uc774\",\"nothing\",\"\\uc5c6\\uc744\",\"\\uc54a\\uc744\\uae4c\",\"thing\",\"\\uac00\\uc838\",\"\\uadf8\\ub140\\uc640\",\"\\ub2e4\\uac00\\uc640\\uc11c\",\"home\",\"\\uc88b\\uc740_\\uac78\",\"\\ub178\\ub798\\uac00\",\"minute\",\"\\ub55c\\uc5d0\",\"\\uac08\\uac8c\",\"who\",\"down_down\",\"waiting_for\",\"\\ub0b4_\\uc2ec\\uc7a5\\uc744\",\"du_du\",\"Dumb_Dumb\",\"\\ub208\\ubd80\\uc2dc\\uac8c\",\"\\ubcf4\\uc9c0\",\"\\uba38\\ub9bf\\uc18d\\uc5d0\",\"\\uac80\\uc740\",\"\\ub420\\uae4c\",\"\\ub2e4\\uac00\\uc628\",\"\\ubaa8\\uc5ec\",\"\\uc0b6\\uc774\",\"\\ub9f4\\ub3cc\\uc544\",\"\\uac19\\uc560\",\"I_was\",\"\\uc774\\uae30\\uc801\\uc778\",\"\\ubabb_\\ucc38\\uaca0\\uc5b4\",\"All_night\",\"\\uae68\\uc6cc\",\"\\uc870\\uadf8\\ub9cc\",\"\\uafc8\\uc744_\\uafb8\\ub294\",\"\\uc2ac\\ud514\\uc774\",\"\\uc5b4\\uca4c\\ub098\",\"\\ubc18\\ubcf5\\ub418\\ub294\",\"\\uc74c\\uc545\\uc774\",\"\\ud798\\ub4e4\\uc5b4\\ub3c4\",\"\\uc0ac\\ub791\\ud558\\uac8c\",\"\\uc9c0\\ucf1c\\uc904\",\"\\ub098\\ub97c_\\ubcf4\\uba70\",\"\\ubaa9\\uc18c\\ub9ac\\ub85c\",\"\\ub9cc\\ub098\\uace0\",\"\\ub9d8\\uc18d\\uc5d0\",\"\\ubcf4\\ub358\",\"\\ud06c\\ub9ac\\uc2a4\\ub9c8\\uc2a4\",\"\\ub0a0_\\ubbf8\\uce58\\uac8c\",\"\\uc9c0\\ucf1c\\ubd10\",\"lie\",\"\\uc6b0_\\uc6b0\",\"Heart\",\"one_N\",\"\\ud658\\ud55c\",\"\\uadc0\\uc5ec\\uc6b4\",\"\\uc788\\ub124\",\"\\uc7a0\\uc744\",\"Honey\",\"\\uc870\\uc2ec\\uc2a4\\ub808\",\"\\uc218\\ub9cc_\\uc788\\ub2e4\\uba74\",\"\\ubbff\\uc9c0\",\"\\uc228\\uae38_\\uc218\",\"\\uc0b4\\uc544\\uac08\",\"\\ub108\\ub97c_\\ucc3e\\uc544\",\"\\uc11c\\uc11c\",\"\\ube60\\ub974\\uac8c\",\"around\",\"\\ub108\\uc5d0\\uac8c\\ub9cc\",\"\\ub204\\uac00_\\ubd10\\ub3c4\",\"Na\",\"\\ub098_\\ud640\\ub85c\",\"\\ub108\\ubc16\\uc5d0\",\"\\ub9c8\\uc74c\\ub9cc\",\"\\ub0a0\\uc744\",\"game\",\"\\uc6a9\\uae30\\ub97c\",\"l\",\"\\ud130\\uc9c8_\\uac83\",\"follow_me\",\"\\ub2f5\\ub2f5\\ud55c\",\"\\uadf8\\ub798\\uc57c\",\"\\uac70\\uc608\\uc694\",\"\\uac04\\uc808\\ud55c\",\"All_right\",\"\\ub9d0\\uc790\",\"Please_don\",\"\\uc788\\uae30\\uc5d0\",\"\\uc21c\\uac04\\ubd80\\ud130\",\"feel_good\",\"\\uc78a\\uc9c0\\ub9c8\",\"\\ub0a0_\\ubc14\\ub77c\\ubcf4\\ub294\",\"\\ub098\\ub780\",\"put\",\"\\uc774\\uac70\",\"\\uaebc\\ub0b4\",\"\\uc544\\ubb34_\\uac83\\ub3c4\",\"N\",\"\\ud5c8\\ub098\",\"\\uc704\",\"\\uc774_\\ub178\\ub798\",\"n\",\"\\ub3cc\\uc774\\ud0ac_\\uc218\",\"\\uad6c\\ub984\",\"\\ud0c0\\ub294\",\"\\uc11c\\ub458\\ub7ec\",\"With\",\"\\uc544\\ucc14\\ud55c\",\"\\uc65c\\uc774\\ub798\",\"\\uc9c0\\ud0ac\\uac8c\",\"think_about\",\"\\uc6d0\\ud558\\uba74\",\"\\ubb50\\ub2c8\",\"OH_OH\",\"my_way\"],\"x_coord\":{\"__ndarray__\":\"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\",\"dtype\":\"float32\",\"shape\":[2232]},\"y_coord\":{\"__ndarray__\":\"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\",\"dtype\":\"float32\",\"shape\":[2232]}}},\"id\":\"11cddc4b-dad4-4df7-b316-6bee8f7bf29f\",\"type\":\"ColumnDataSource\"},{\"attributes\":{\"fill_color\":{\"value\":\"#1f77b4\"},\"line_color\":{\"value\":\"orange\"},\"size\":{\"units\":\"screen\",\"value\":10},\"x\":{\"field\":\"x_coord\"},\"y\":{\"field\":\"y_coord\"}},\"id\":\"cb014e3e-1245-4955-bcc1-e67c05e439de\",\"type\":\"Circle\"},{\"attributes\":{\"active_drag\":\"auto\",\"active_inspect\":\"auto\",\"active_scroll\":{\"id\":\"a4497945-c088-4756-8515-127270fef237\",\"type\":\"WheelZoomTool\"},\"active_tap\":\"auto\",\"tools\":[{\"id\":\"12589890-0ce4-4ed0-aca4-c8c423d49578\",\"type\":\"PanTool\"},{\"id\":\"a4497945-c088-4756-8515-127270fef237\",\"type\":\"WheelZoomTool\"},{\"id\":\"67cd12db-cfa8-4a44-8025-d754b412a7d2\",\"type\":\"BoxZoomTool\"},{\"id\":\"90c88ed1-9a5b-41bf-a2e8-49a42c22b273\",\"type\":\"SaveTool\"},{\"id\":\"123cdb1b-6c18-4e27-af98-93a8f78dfe48\",\"type\":\"ResetTool\"},{\"id\":\"93b3dc2b-c723-4b5a-8c48-4f9f9fa7501a\",\"type\":\"HelpTool\"},{\"id\":\"03d98e78-c4c1-4e21-b90c-79b88d1a27c3\",\"type\":\"HoverTool\"}]},\"id\":\"350e7625-5710-4512-be27-349b0a02fa9c\",\"type\":\"Toolbar\"},{\"attributes\":{},\"id\":\"c4e16df4-703a-4e42-aa00-af674e085aa7\",\"type\":\"BasicTickFormatter\"},{\"attributes\":{\"plot\":null,\"text\":\"t-SNE Word Embeddings\",\"text_font_size\":{\"value\":\"16pt\"}},\"id\":\"51c2b60b-ee1d-4377-9fee-b7423a4ca27c\",\"type\":\"Title\"},{\"attributes\":{},\"id\":\"12589890-0ce4-4ed0-aca4-c8c423d49578\",\"type\":\"PanTool\"},{\"attributes\":{\"callback\":null},\"id\":\"64a27548-d815-46e1-a236-6544ea2109a3\",\"type\":\"DataRange1d\"},{\"attributes\":{\"source\":{\"id\":\"11cddc4b-dad4-4df7-b316-6bee8f7bf29f\",\"type\":\"ColumnDataSource\"}},\"id\":\"9a5444c6-9bf7-4917-ae18-a9c254552875\",\"type\":\"CDSView\"},{\"attributes\":{\"data_source\":{\"id\":\"11cddc4b-dad4-4df7-b316-6bee8f7bf29f\",\"type\":\"ColumnDataSource\"},\"glyph\":{\"id\":\"79790c02-a1ba-4272-83ce-0b06052ce533\",\"type\":\"Circle\"},\"hover_glyph\":{\"id\":\"cb014e3e-1245-4955-bcc1-e67c05e439de\",\"type\":\"Circle\"},\"muted_glyph\":null,\"nonselection_glyph\":{\"id\":\"772b4b21-1d76-4877-9240-319ef9068b16\",\"type\":\"Circle\"},\"selection_glyph\":null,\"view\":{\"id\":\"9a5444c6-9bf7-4917-ae18-a9c254552875\",\"type\":\"CDSView\"}},\"id\":\"3c05d8d9-e296-45c1-900d-136b3a676d99\",\"type\":\"GlyphRenderer\"},{\"attributes\":{},\"id\":\"a4497945-c088-4756-8515-127270fef237\",\"type\":\"WheelZoomTool\"},{\"attributes\":{\"overlay\":{\"id\":\"ac15d3d9-abea-4541-99b4-5a56aa8d4d94\",\"type\":\"BoxAnnotation\"}},\"id\":\"67cd12db-cfa8-4a44-8025-d754b412a7d2\",\"type\":\"BoxZoomTool\"},{\"attributes\":{},\"id\":\"8137166c-4d1a-4fea-88a7-21c9fa4f2740\",\"type\":\"LinearScale\"},{\"attributes\":{},\"id\":\"90c88ed1-9a5b-41bf-a2e8-49a42c22b273\",\"type\":\"SaveTool\"},{\"attributes\":{\"callback\":null},\"id\":\"016e13f6-fea5-4ece-928f-6438ba446282\",\"type\":\"DataRange1d\"},{\"attributes\":{},\"id\":\"123cdb1b-6c18-4e27-af98-93a8f78dfe48\",\"type\":\"ResetTool\"},{\"attributes\":{},\"id\":\"6a99a9ac-e90a-4b8d-bcb0-e3e3c6a2c1f1\",\"type\":\"LinearScale\"},{\"attributes\":{},\"id\":\"93b3dc2b-c723-4b5a-8c48-4f9f9fa7501a\",\"type\":\"HelpTool\"},{\"attributes\":{\"fill_alpha\":{\"value\":0.1},\"fill_color\":{\"value\":\"blue\"},\"line_alpha\":{\"value\":0.2},\"line_color\":{\"value\":\"blue\"},\"size\":{\"units\":\"screen\",\"value\":10},\"x\":{\"field\":\"x_coord\"},\"y\":{\"field\":\"y_coord\"}},\"id\":\"79790c02-a1ba-4272-83ce-0b06052ce533\",\"type\":\"Circle\"},{\"attributes\":{\"below\":[{\"id\":\"5389ddd7-0920-468d-96d0-85694f325c4c\",\"type\":\"LinearAxis\"}],\"left\":[{\"id\":\"9775495e-e06c-4a95-bfb8-90244ad878b3\",\"type\":\"LinearAxis\"}],\"outline_line_color\":{\"value\":null},\"plot_height\":800,\"plot_width\":800,\"renderers\":[{\"id\":\"5389ddd7-0920-468d-96d0-85694f325c4c\",\"type\":\"LinearAxis\"},{\"id\":\"1a020243-5e1d-4c48-b5bd-1d47646b34cb\",\"type\":\"Grid\"},{\"id\":\"9775495e-e06c-4a95-bfb8-90244ad878b3\",\"type\":\"LinearAxis\"},{\"id\":\"d9e41695-60c0-422f-a7f8-9041592ba62c\",\"type\":\"Grid\"},{\"id\":\"ac15d3d9-abea-4541-99b4-5a56aa8d4d94\",\"type\":\"BoxAnnotation\"},{\"id\":\"3c05d8d9-e296-45c1-900d-136b3a676d99\",\"type\":\"GlyphRenderer\"}],\"title\":{\"id\":\"51c2b60b-ee1d-4377-9fee-b7423a4ca27c\",\"type\":\"Title\"},\"toolbar\":{\"id\":\"350e7625-5710-4512-be27-349b0a02fa9c\",\"type\":\"Toolbar\"},\"x_range\":{\"id\":\"64a27548-d815-46e1-a236-6544ea2109a3\",\"type\":\"DataRange1d\"},\"x_scale\":{\"id\":\"8137166c-4d1a-4fea-88a7-21c9fa4f2740\",\"type\":\"LinearScale\"},\"y_range\":{\"id\":\"016e13f6-fea5-4ece-928f-6438ba446282\",\"type\":\"DataRange1d\"},\"y_scale\":{\"id\":\"6a99a9ac-e90a-4b8d-bcb0-e3e3c6a2c1f1\",\"type\":\"LinearScale\"}},\"id\":\"9abadbd0-f54e-4dfc-98c4-9dcc7bcd6ced\",\"subtype\":\"Figure\",\"type\":\"Plot\"},{\"attributes\":{\"formatter\":{\"id\":\"e5930332-1b41-42e8-8caa-23062f8e0482\",\"type\":\"BasicTickFormatter\"},\"plot\":{\"id\":\"9abadbd0-f54e-4dfc-98c4-9dcc7bcd6ced\",\"subtype\":\"Figure\",\"type\":\"Plot\"},\"ticker\":{\"id\":\"47489f63-cf26-45bd-b44b-6b12b2f1ec46\",\"type\":\"BasicTicker\"},\"visible\":false},\"id\":\"5389ddd7-0920-468d-96d0-85694f325c4c\",\"type\":\"LinearAxis\"},{\"attributes\":{\"callback\":null,\"tooltips\":\"@word\"},\"id\":\"03d98e78-c4c1-4e21-b90c-79b88d1a27c3\",\"type\":\"HoverTool\"}],\"root_ids\":[\"9abadbd0-f54e-4dfc-98c4-9dcc7bcd6ced\"]},\"title\":\"Bokeh Application\",\"version\":\"0.12.13\"}};\n",
       "  var render_items = [{\"docid\":\"5839a317-f588-4a51-8de4-4da50b9d503e\",\"elementid\":\"4779ceb6-e0e3-4f0a-8c5b-43fc473a9f7e\",\"modelid\":\"9abadbd0-f54e-4dfc-98c4-9dcc7bcd6ced\"}];\n",
       "  root.Bokeh.embed.embed_items_notebook(docs_json, render_items);\n",
       "\n",
       "  }\n",
       "  if (root.Bokeh !== undefined) {\n",
       "    embed_document(root);\n",
       "  } else {\n",
       "    var attempts = 0;\n",
       "    var timer = setInterval(function(root) {\n",
       "      if (root.Bokeh !== undefined) {\n",
       "        embed_document(root);\n",
       "        clearInterval(timer);\n",
       "      }\n",
       "      attempts++;\n",
       "      if (attempts > 100) {\n",
       "        console.log(\"Bokeh: ERROR: Unable to run BokehJS code because BokehJS library is missing\")\n",
       "        clearInterval(timer);\n",
       "      }\n",
       "    }, 10, root)\n",
       "  }\n",
       "})(window);"
      ],
      "application/vnd.bokehjs_exec.v0+json": ""
     },
     "metadata": {
      "application/vnd.bokehjs_exec.v0+json": {
       "id": "9abadbd0-f54e-4dfc-98c4-9dcc7bcd6ced"
      }
     },
     "output_type": "display_data"
    }
   ],
   "source": [
    "show(tsne_plot)"
   ]
  },
  {
   "cell_type": "markdown",
   "metadata": {
    "colab_type": "text",
    "id": "HUsxhoptcnEL"
   },
   "source": [
    "각 데이터 포인트에 마우스를 올리면 어떤 단어들이 함께 맵핑되어 있는지 확인 가능하다. \n",
    "\n",
    "- 진한 부분일 수록 비슷한 단어들이 많이 모여 있음을 알 수 있다.\n",
    "\n",
    "\n",
    "- 한글, 영어가 끼리끼리 모여서 임베딩되었다. \n",
    "\n"
   ]
  },
  {
   "cell_type": "code",
   "execution_count": 45,
   "metadata": {
    "colab": {},
    "colab_type": "code",
    "id": "oWW69B6bcnEL",
    "outputId": "7b1cad75-7ec0-433d-bd7a-cce84e3d8830"
   },
   "outputs": [
    {
     "name": "stderr",
     "output_type": "stream",
     "text": [
      "/anaconda3/lib/python3.6/site-packages/ipykernel_launcher.py:1: DeprecationWarning: Call to deprecated `most_similar` (Method will be removed in 4.0.0, use self.wv.most_similar() instead).\n",
      "  \"\"\"Entry point for launching an IPython kernel.\n",
      "2018-09-17 15:01:47,602 : INFO : precomputing L2-norms of word weight vectors\n"
     ]
    },
    {
     "data": {
      "text/plain": [
       "[('범생이', 0.6625233292579651),\n",
       " ('꺽다리', 0.6543509364128113),\n",
       " ('홀쭉한', 0.6434130072593689),\n",
       " ('꼬맹이', 0.6384218335151672),\n",
       " ('술고래', 0.6373487114906311),\n",
       " ('새겼니', 0.635798454284668),\n",
       " ('애인이', 0.6265844106674194),\n",
       " ('예전부터', 0.6073660850524902),\n",
       " ('우정에서', 0.6041829586029053),\n",
       " ('탐한', 0.6016032099723816)]"
      ]
     },
     "execution_count": 45,
     "metadata": {},
     "output_type": "execute_result"
    }
   ],
   "source": [
    "all2vec.most_similar(positive=['친구'])"
   ]
  },
  {
   "cell_type": "code",
   "execution_count": 46,
   "metadata": {
    "colab": {},
    "colab_type": "code",
    "id": "TI3-A1wScnEO",
    "outputId": "709aeead-0803-4d51-84f0-2267c5724d64"
   },
   "outputs": [
    {
     "name": "stderr",
     "output_type": "stream",
     "text": [
      "/anaconda3/lib/python3.6/site-packages/ipykernel_launcher.py:1: DeprecationWarning: Call to deprecated `most_similar` (Method will be removed in 4.0.0, use self.wv.most_similar() instead).\n",
      "  \"\"\"Entry point for launching an IPython kernel.\n"
     ]
    },
    {
     "data": {
      "text/plain": [
       "[('남자들은', 0.7101030349731445),\n",
       " ('밖에_모르는', 0.6959201097488403),\n",
       " ('여자지', 0.6932433843612671),\n",
       " ('상황은', 0.6886695623397827),\n",
       " ('여잔', 0.6764312982559204),\n",
       " ('여자답게', 0.6690301895141602),\n",
       " ('걔는', 0.6682300567626953),\n",
       " ('여잔데', 0.6679635643959045),\n",
       " ('못_잊는', 0.6637659668922424),\n",
       " ('여자', 0.661081075668335)]"
      ]
     },
     "execution_count": 46,
     "metadata": {},
     "output_type": "execute_result"
    }
   ],
   "source": [
    "all2vec.most_similar(positive=['여자는'])"
   ]
  },
  {
   "cell_type": "code",
   "execution_count": 47,
   "metadata": {
    "colab": {},
    "colab_type": "code",
    "id": "Z4n7biQbcnER",
    "outputId": "f0d36c0c-e15d-442a-ea3d-fe48ea9ee529"
   },
   "outputs": [
    {
     "name": "stderr",
     "output_type": "stream",
     "text": [
      "/anaconda3/lib/python3.6/site-packages/ipykernel_launcher.py:1: DeprecationWarning: Call to deprecated `most_similar` (Method will be removed in 4.0.0, use self.wv.most_similar() instead).\n",
      "  \"\"\"Entry point for launching an IPython kernel.\n"
     ]
    },
    {
     "data": {
      "text/plain": [
       "[('짐승', 0.7609363794326782),\n",
       " ('남잔', 0.7608175873756409),\n",
       " ('다르다고', 0.7495805025100708),\n",
       " ('여자라고', 0.7375447154045105),\n",
       " ('손해', 0.7368902564048767),\n",
       " ('애가', 0.7353352308273315),\n",
       " ('꺼내지도_마', 0.733702540397644),\n",
       " ('뻔하디_뻔한', 0.7284417152404785),\n",
       " ('걔', 0.7225561738014221),\n",
       " ('사람들은_말해', 0.7224016189575195)]"
      ]
     },
     "execution_count": 47,
     "metadata": {},
     "output_type": "execute_result"
    }
   ],
   "source": [
    "all2vec.most_similar(positive=['남자는'])"
   ]
  },
  {
   "cell_type": "code",
   "execution_count": 48,
   "metadata": {
    "colab": {},
    "colab_type": "code",
    "id": "6zw3cks9cnEV",
    "outputId": "8cfcfeef-f530-44d8-f1bf-c860438fc861"
   },
   "outputs": [
    {
     "name": "stderr",
     "output_type": "stream",
     "text": [
      "/anaconda3/lib/python3.6/site-packages/ipykernel_launcher.py:1: DeprecationWarning: Call to deprecated `most_similar` (Method will be removed in 4.0.0, use self.wv.most_similar() instead).\n",
      "  \"\"\"Entry point for launching an IPython kernel.\n"
     ]
    },
    {
     "data": {
      "text/plain": [
       "[('없다고_믿었던', 0.8485206365585327),\n",
       " ('있대도', 0.8480961918830872),\n",
       " ('헤픈', 0.8460044860839844),\n",
       " ('알릴', 0.8403252363204956),\n",
       " ('다고', 0.8365401029586792),\n",
       " ('살겠니', 0.8287050724029541),\n",
       " ('이유라고', 0.8267949819564819),\n",
       " ('다루는', 0.8246527910232544),\n",
       " ('믿지_못해', 0.8200684189796448),\n",
       " ('고민해봐야', 0.8197356462478638)]"
      ]
     },
     "execution_count": 48,
     "metadata": {},
     "output_type": "execute_result"
    }
   ],
   "source": [
    "all2vec.most_similar(positive=['여자란'])"
   ]
  },
  {
   "cell_type": "code",
   "execution_count": 53,
   "metadata": {
    "colab": {},
    "colab_type": "code",
    "id": "0SOSwD9tcnEX",
    "outputId": "66f9a4b5-f1b9-4baa-a15e-16163d0545ff"
   },
   "outputs": [
    {
     "name": "stderr",
     "output_type": "stream",
     "text": [
      "/anaconda3/lib/python3.6/site-packages/ipykernel_launcher.py:1: DeprecationWarning: Call to deprecated `most_similar` (Method will be removed in 4.0.0, use self.wv.most_similar() instead).\n",
      "  \"\"\"Entry point for launching an IPython kernel.\n"
     ]
    },
    {
     "data": {
      "text/plain": [
       "[('잘해줄', 0.7440240979194641),\n",
       " ('착하고', 0.7320570945739746),\n",
       " ('남자', 0.7310494780540466),\n",
       " ('세상에서_나보다', 0.7271991968154907),\n",
       " ('이여자는', 0.7265884876251221),\n",
       " ('남자들이', 0.7168596386909485),\n",
       " ('빼곤', 0.7076917290687561),\n",
       " ('여자', 0.705070972442627),\n",
       " ('그게_되나', 0.7045426964759827),\n",
       " ('남자들과는', 0.702836811542511)]"
      ]
     },
     "execution_count": 53,
     "metadata": {},
     "output_type": "execute_result"
    }
   ],
   "source": [
    "all2vec.most_similar(positive=['여잔'])"
   ]
  },
  {
   "cell_type": "code",
   "execution_count": 50,
   "metadata": {
    "colab": {},
    "colab_type": "code",
    "id": "-3X4tGY-cnEb",
    "outputId": "874c2aa0-51d9-413d-9933-715d332000fc"
   },
   "outputs": [
    {
     "name": "stderr",
     "output_type": "stream",
     "text": [
      "/anaconda3/lib/python3.6/site-packages/ipykernel_launcher.py:1: DeprecationWarning: Call to deprecated `most_similar` (Method will be removed in 4.0.0, use self.wv.most_similar() instead).\n",
      "  \"\"\"Entry point for launching an IPython kernel.\n"
     ]
    },
    {
     "data": {
      "text/plain": [
       "[('남자는', 0.7608175873756409),\n",
       " ('남자', 0.7482824921607971),\n",
       " ('짐승', 0.7390589714050293),\n",
       " ('거_아냐', 0.7309236526489258),\n",
       " ('나빴어', 0.7254292368888855),\n",
       " ('같은_여잔', 0.7214054465293884),\n",
       " ('정말_나빴어', 0.7200878858566284),\n",
       " ('줄_알어', 0.7049037218093872),\n",
       " ('말하기', 0.6978828310966492),\n",
       " ('바람둥이', 0.6960875988006592)]"
      ]
     },
     "execution_count": 50,
     "metadata": {},
     "output_type": "execute_result"
    }
   ],
   "source": [
    "all2vec.most_similar(positive=['남잔'])"
   ]
  },
  {
   "cell_type": "code",
   "execution_count": 54,
   "metadata": {
    "colab": {},
    "colab_type": "code",
    "id": "uJw3CAe6cnEc",
    "outputId": "58ed9e45-8a84-4398-b83d-c14002d5c360"
   },
   "outputs": [
    {
     "name": "stderr",
     "output_type": "stream",
     "text": [
      "/anaconda3/lib/python3.6/site-packages/ipykernel_launcher.py:1: DeprecationWarning: Call to deprecated `most_similar` (Method will be removed in 4.0.0, use self.wv.most_similar() instead).\n",
      "  \"\"\"Entry point for launching an IPython kernel.\n"
     ]
    },
    {
     "data": {
      "text/plain": [
       "[('Girl', 0.773356020450592),\n",
       " ('pretty_girl', 0.7523748874664307),\n",
       " ('gir_gir', 0.7517142295837402),\n",
       " ('gir', 0.750639796257019),\n",
       " ('baby', 0.7456661462783813),\n",
       " ('Oh_gorgeous', 0.7449946999549866),\n",
       " ('Korean', 0.7435527443885803),\n",
       " ('Maxican', 0.7411680221557617),\n",
       " ('really_good', 0.7367945313453674),\n",
       " ('bad_girl', 0.7362215518951416)]"
      ]
     },
     "execution_count": 54,
     "metadata": {},
     "output_type": "execute_result"
    }
   ],
   "source": [
    "all2vec.most_similar(positive=['girl'])"
   ]
  },
  {
   "cell_type": "code",
   "execution_count": 55,
   "metadata": {
    "colab": {},
    "colab_type": "code",
    "id": "kYY8p5fvcnEd",
    "outputId": "3421703f-1287-49d6-978e-d3d3b7591151"
   },
   "outputs": [
    {
     "name": "stderr",
     "output_type": "stream",
     "text": [
      "/anaconda3/lib/python3.6/site-packages/ipykernel_launcher.py:1: DeprecationWarning: Call to deprecated `most_similar` (Method will be removed in 4.0.0, use self.wv.most_similar() instead).\n",
      "  \"\"\"Entry point for launching an IPython kernel.\n"
     ]
    },
    {
     "data": {
      "text/plain": [
       "[('chu_chu', 0.7523370385169983),\n",
       " ('So_Sexy', 0.7494564652442932),\n",
       " ('my', 0.7459061145782471),\n",
       " ('handsome', 0.7457798719406128),\n",
       " ('little', 0.7406745553016663),\n",
       " ('반했나_봐', 0.7269704937934875),\n",
       " ('girl', 0.7260350584983826),\n",
       " ('Mamama', 0.7213174104690552),\n",
       " ('Hey_boy', 0.7203558683395386),\n",
       " ('너너너너너너너넌', 0.7192025780677795)]"
      ]
     },
     "execution_count": 55,
     "metadata": {},
     "output_type": "execute_result"
    }
   ],
   "source": [
    "all2vec.most_similar(positive=['boy'])"
   ]
  },
  {
   "cell_type": "code",
   "execution_count": 56,
   "metadata": {
    "colab": {},
    "colab_type": "code",
    "id": "EWRSxfWDcnEh",
    "outputId": "0994778c-1d83-4389-fa44-befb1ee6fc7b"
   },
   "outputs": [
    {
     "name": "stderr",
     "output_type": "stream",
     "text": [
      "/anaconda3/lib/python3.6/site-packages/ipykernel_launcher.py:1: DeprecationWarning: Call to deprecated `most_similar` (Method will be removed in 4.0.0, use self.wv.most_similar() instead).\n",
      "  \"\"\"Entry point for launching an IPython kernel.\n"
     ]
    },
    {
     "data": {
      "text/plain": [
       "[('별로인', 0.7442902326583862),\n",
       " ('놀라겠지', 0.674453854560852),\n",
       " ('얼굴만', 0.6641553640365601),\n",
       " ('사랑스러운', 0.6625345945358276),\n",
       " ('얼굴은', 0.6489533185958862),\n",
       " ('도도해', 0.6328843235969543),\n",
       " ('해맑게', 0.6278266906738281),\n",
       " ('예쁘기만', 0.6271035075187683),\n",
       " ('케익위에', 0.6262555122375488),\n",
       " ('거짓말이라', 0.6236047148704529)]"
      ]
     },
     "execution_count": 56,
     "metadata": {},
     "output_type": "execute_result"
    }
   ],
   "source": [
    "all2vec.most_similar(positive=['예쁜'])"
   ]
  },
  {
   "cell_type": "code",
   "execution_count": 59,
   "metadata": {
    "colab": {},
    "colab_type": "code",
    "id": "_ecTyApDcnEj",
    "outputId": "7b5348d6-ef01-4aa1-9313-334b9a0fb2af"
   },
   "outputs": [
    {
     "name": "stderr",
     "output_type": "stream",
     "text": [
      "/anaconda3/lib/python3.6/site-packages/ipykernel_launcher.py:1: DeprecationWarning: Call to deprecated `most_similar` (Method will be removed in 4.0.0, use self.wv.most_similar() instead).\n",
      "  \"\"\"Entry point for launching an IPython kernel.\n"
     ]
    },
    {
     "data": {
      "text/plain": [
       "[('쭉빠진', 0.7950356006622314),\n",
       " ('썬그라스', 0.7836313843727112),\n",
       " ('수영복에', 0.7812054753303528),\n",
       " ('바디라인', 0.7719101905822754),\n",
       " ('뿜어져', 0.7603346705436707),\n",
       " ('스타일', 0.7530008554458618),\n",
       " ('잘록한', 0.7482519745826721),\n",
       " ('뽐내', 0.7451620101928711),\n",
       " ('딱_봐도', 0.7444287538528442),\n",
       " ('비키니', 0.7432544827461243)]"
      ]
     },
     "execution_count": 59,
     "metadata": {},
     "output_type": "execute_result"
    }
   ],
   "source": [
    "all2vec.most_similar(positive=['몸매'])"
   ]
  },
  {
   "cell_type": "code",
   "execution_count": 63,
   "metadata": {
    "colab": {},
    "colab_type": "code",
    "id": "L2GOM9QpcnEl",
    "outputId": "316fe078-2617-42a5-c414-e62c282cce0e"
   },
   "outputs": [
    {
     "name": "stderr",
     "output_type": "stream",
     "text": [
      "/anaconda3/lib/python3.6/site-packages/ipykernel_launcher.py:1: DeprecationWarning: Call to deprecated `most_similar` (Method will be removed in 4.0.0, use self.wv.most_similar() instead).\n",
      "  \"\"\"Entry point for launching an IPython kernel.\n"
     ]
    },
    {
     "data": {
      "text/plain": [
       "[('넌_쉽니', 0.7305760383605957),\n",
       " ('행복했잖아', 0.6712286472320557),\n",
       " ('인사는', 0.6669461131095886),\n",
       " ('만남', 0.6662607789039612),\n",
       " ('이름조차', 0.6646117568016052),\n",
       " ('놀이는', 0.6626908779144287),\n",
       " ('쉬울테니까', 0.6620108485221863),\n",
       " ('나와의', 0.6602398157119751),\n",
       " ('수집가이죠', 0.6573875546455383),\n",
       " ('다_흔들고선', 0.6547708511352539)]"
      ]
     },
     "execution_count": 63,
     "metadata": {},
     "output_type": "execute_result"
    }
   ],
   "source": [
    "all2vec.most_similar(positive=['이별'])"
   ]
  },
  {
   "cell_type": "markdown",
   "metadata": {
    "colab_type": "text",
    "id": "KRVpgn0scnEt"
   },
   "source": [
    "## 최근노래로 갈 수록 가중치를 줘야 할까? \n",
    "최근 아이돌의 성향을 보고싶으면, 최근것만 보고 해봐야 할 것 같다. "
   ]
  },
  {
   "cell_type": "markdown",
   "metadata": {
    "colab_type": "text",
    "id": "AoCFUiUdcnFK"
   },
   "source": [
    "## LSTM 공부하고 학습 시켜보기 \n",
    "\n",
    "코드참고 : https://github.com/KMJJ1/hiphop/blob/master/test_example.ipynb"
   ]
  },
  {
   "cell_type": "markdown",
   "metadata": {
    "colab_type": "text",
    "id": "UBcNJtGjcnFK"
   },
   "source": [
    "Instructions to Train:\n",
    "If you want to use our model to train your own artists, follow these steps:\n",
    "\n",
    "Pick an artist – it should be someone with a lot of lyrics. (Over 100,000 words).\n",
    "Collect all of the artist's lyrics from your favorite lyrics website. Save each song as a text file in data/artist_name/. We recommend leaving newlines in as a special token so that the network will learn line and stanza breaks.\n",
    "Train by navigating to the code directory and running python runner.py -a <artist_name> -m <model_save_name>.\n",
    "Our models were all trained for 30,000 steps.\n",
    "Generate new songs by running \n",
    "python runner.py -a <artist_name> -l ../save/models/<model_save_name>/<ckpt_file> -t.\n",
    "Optional: If you would like to specify \"prime text\" – the initial text that the model will generate from – pass in a string with the -p flag.\n",
    "Share your trained models with us so we can feature them on our website! Create an issue with a link to a public Dropbox or Google Drive containing your model's .ckpt file."
   ]
  },
  {
   "cell_type": "markdown",
   "metadata": {
    "colab_type": "text",
    "id": "ZEwGC1w2cnFK"
   },
   "source": [
    "RNN - LSTM으로 가사 생성¶\n",
    "\n",
    "일반적인 뉴럴넷에 비해 RNN은 파라미터가 공유되며, backpropagation through time 이라는 특징이 있다\n",
    "하지만 기존의 RNN은 긴 시퀀스를 잘 처리하지 못하며, 그라디언트가 소멸되는 현상이 발생함\n",
    "LSTM이라는 RNN의 변형 모델이 등장\n",
    "LSTM은 '게이트'를 통해 상태값을 계산 시 내부의 상태값을 얼마나 기억하고 사용할지 정한다\n",
    "그라디언트 흐름을 좋게 만들고 베니싱 현상을 완화시켜 먼 과거에 대한 단어나 정보도 잘 기억할 수 있게 되었다\n",
    "1) 1000곡의 가사로 학습시킴\n",
    "Hiphop장르 1000곡의 가사를 RNN - LSTM 방식으로 학습\n",
    "23만회 학습시킨 모델을 생성\n",
    "초반 단어 3,4개를 입력하여 차후 나올 단어들을 예측"
   ]
  },
  {
   "cell_type": "code",
   "execution_count": 0,
   "metadata": {
    "colab": {},
    "colab_type": "code",
    "id": "dC_UcqvocnFM"
   },
   "outputs": [],
   "source": [
    "#!pip3 install tensorflow \n",
    "#!pip install --upgrade tensorflow"
   ]
  },
  {
   "cell_type": "code",
   "execution_count": 0,
   "metadata": {
    "colab": {},
    "colab_type": "code",
    "collapsed": true,
    "id": "-SFARp4JcnFP"
   },
   "outputs": [],
   "source": [
    "# -*- coding: utf-8 -*-\n",
    "# Char-RNN 예제\n",
    "# Author : solaris33\n",
    "# Project URL : http://solarisailab.com/archives/2487\n",
    "# GitHub Repository : https://github.com/solaris33/char-rnn-tensorflow/\n",
    "# Reference : https://github.com/sherjilozair/char-rnn-tensorflow\n",
    "\n",
    "import tensorflow as tf\n",
    "import numpy as np\n",
    "\n",
    "from utils import TextLoader\n",
    "\n",
    "# 학습에 필요한 설정값들을 지정합니다.\n",
    "data_dir = 'data/tinyshakespeare' # 셰익스피어 희곡 <리처드 3세> 데이터로 학습\n",
    "#data_dir = 'data/linux' # <Linux 소스코드> 데이터로 학습\n",
    "batch_size = 50 # Training : 50, Sampling : 1\n",
    "seq_length = 50 # Training : 50, Sampling : 1\n",
    "hidden_size = 128   # 히든 레이어의 노드 개수\n",
    "learning_rate = 0.002\n",
    "num_epochs = 2\n",
    "num_hidden_layers = 2\n",
    "grad_clip = 5   # Gradient Clipping에 사용할 임계값\n",
    "\n",
    "# TextLoader를 이용해서 데이터를 불러옵니다.\n",
    "data_loader = TextLoader(data_dir, batch_size, seq_length)\n",
    "# 학습데이터에 포함된 모든 단어들을 나타내는 변수인 chars와 chars에 id를 부여해 dict 형태로 만든 vocab을 선언합니다.\n",
    "chars = data_loader.chars \n",
    "vocab = data_loader.vocab\n",
    "vocab_size = data_loader.vocab_size # 전체 단어개수\n",
    "\n",
    "# 인풋데이터와 타겟데이터, 배치 사이즈를 입력받기 위한 플레이스홀더를 설정합니다.\n",
    "input_data = tf.placeholder(tf.int32, shape=[None, None])  # input_data : [batch_size, seq_length])\n",
    "target_data = tf.placeholder(tf.int32, shape=[None, None]) # target_data : [batch_size, seq_length])\n",
    "state_batch_size = tf.placeholder(tf.int32, shape=[])      # Training : 50, Sampling : 1\n",
    "\n",
    "# RNN의 마지막 히든레이어의 출력을 소프트맥스 출력값으로 변환해주기 위한 변수들을 선언합니다.\n",
    "# hidden_size -> vocab_size\n",
    "softmax_w = tf.Variable(tf.random_normal(shape=[hidden_size, vocab_size]), dtype=tf.float32)\n",
    "softmax_b = tf.Variable(tf.random_normal(shape=[vocab_size]), dtype=tf.float32)\n",
    "\n",
    "# num_hidden_layers만큼 LSTM cell(히든레이어)를 선언합니다.\n",
    "cells = []\n",
    "for _ in range(0, num_hidden_layers):\n",
    "    cell = tf.nn.rnn_cell.BasicLSTMCell(hidden_size)\n",
    "    cells.append(cell)\n",
    "\n",
    "# cell을 종합해서 RNN을 정의합니다.\n",
    "cell = tf.contrib.rnn.MultiRNNCell(cells, state_is_tuple=True)\n",
    "\n",
    "# 인풋데이터를 변환하기 위한 Embedding Matrix를 선언합니다.\n",
    "# vocab_size -> hidden_size\n",
    "embedding = tf.Variable(tf.random_normal(shape=[vocab_size, hidden_size]), dtype=tf.float32)\n",
    "inputs = tf.nn.embedding_lookup(embedding, input_data)\n",
    "\n",
    "# 초기 state 값을 0으로 초기화합니다.\n",
    "initial_state = cell.zero_state(state_batch_size, tf.float32)\n",
    "\n",
    "# 학습을 위한 tf.nn.dynamic_rnn을 선언합니다.\n",
    "# outputs : [batch_size, seq_length, hidden_size]\n",
    "outputs, final_state = tf.nn.dynamic_rnn(cell, inputs, initial_state=initial_state, dtype=tf.float32)\n",
    "# ouputs을 [batch_size * seq_length, hidden_size]] 형태로 바꿉니다.\n",
    "output = tf.reshape(outputs, [-1, hidden_size])\n",
    "\n",
    "# 최종 출력값을 설정합니다.\n",
    "# logits : [batch_size * seq_length, vocab_size]\n",
    "logits = tf.matmul(output, softmax_w) + softmax_b\n",
    "probs = tf.nn.softmax(logits)\n",
    "\n",
    "# Cross Entropy 손실 함수를 정의합니다. \n",
    "loss = tf.reduce_mean(tf.nn.softmax_cross_entropy_with_logits(logits=logits, labels=target_data))\n",
    "\n",
    "# 옵티마이저를 선언하고 옵티마이저에 Gradient Clipping을 적용합니다.\n",
    "# grad_clip(=5)보다 큰 Gradient를 5로 Clippin합니다.\n",
    "tvars = tf.trainable_variables()\n",
    "grads, _ = tf.clip_by_global_norm(tf.gradients(loss, tvars), grad_clip)\n",
    "optimizer = tf.train.AdamOptimizer(learning_rate)\n",
    "train_step = optimizer.apply_gradients(zip(grads, tvars))\n",
    "\n",
    "# 세션을 열고 학습을 진행합니다.\n",
    "with tf.Session() as sess:\n",
    "    # 변수들에 초기값을 할당합니다.\n",
    "    sess.run(tf.global_variables_initializer())\n",
    "    \n",
    "    for e in range(num_epochs):\n",
    "        data_loader.reset_batch_pointer()\n",
    "        # 초기 상태값을 지정합니다.\n",
    "        state = sess.run(initial_state, feed_dict={state_batch_size : batch_size})\n",
    "\n",
    "        for b in range(data_loader.num_batches):\n",
    "            # x, y 데이터를 불러옵니다.\n",
    "            x, y = data_loader.next_batch()\n",
    "            # y에 one_hot 인코딩을 적용합니다. \n",
    "            y = tf.one_hot(y, vocab_size)            # y : [batch_size, seq_length, vocab_size]\n",
    "            y = tf.reshape(y, [-1, vocab_size])       # y : [batch_size * seq_length, vocab_size]\n",
    "            y = y.eval()\n",
    "\n",
    "            # feed-dict에 사용할 값들과 LSTM 초기 cell state(feed_dict[c])값과 hidden layer 출력값(feed_dict[h])을 지정합니다.\n",
    "            feed_dict = {input_data : x, target_data: y, state_batch_size : batch_size}\n",
    "            for i, (c, h) in enumerate(initial_state):\n",
    "                feed_dict[c] = state[i].c\n",
    "                feed_dict[h] = state[i].h\n",
    "\n",
    "            # 한스텝 학습을 진행합니다.\n",
    "            _, loss_print, state = sess.run([train_step, loss, final_state], feed_dict=feed_dict)\n",
    "\n",
    "            print(\"{}(학습한 배치개수)/{}(학습할 배치개수), 반복(epoch): {}, 손실함수(loss): {:.3f}\".format(\n",
    "                          e * data_loader.num_batches + b,\n",
    "                          num_epochs * data_loader.num_batches,\n",
    "                          (e+1), \n",
    "                          loss_print))\n",
    "\n",
    "    print(\"트레이닝이 끝났습니다!\")   \n",
    "    \n",
    "\n",
    "    # 샘플링 시작\n",
    "    print(\"샘플링을 시작합니다!\")\n",
    "    num_sampling = 4000  # 생성할 글자(Character)의 개수를 지정합니다. \n",
    "    prime = u' '         # 시작 글자를 ' '(공백)으로 지정합니다.\n",
    "    sampling_type = 1    # 샘플링 타입을 설정합니다.\n",
    "    state = sess.run(cell.zero_state(1, tf.float32)) # RNN의 최초 state값을 0으로 초기화합니다.\n",
    "\n",
    "    # Random Sampling을 위한 weighted_pick 함수를 정의합니다.\n",
    "    def weighted_pick(weights):\n",
    "        t = np.cumsum(weights)\n",
    "        s = np.sum(weights)\n",
    "        return(int(np.searchsorted(t, np.random.rand(1)*s)))\n",
    "\n",
    "    ret = prime       # 샘플링 결과를 리턴받을 ret 변수에 첫번째 글자를 할당합니다.\n",
    "    char = prime[-1]   # Char-RNN의 첫번쨰 인풋을 지정합니다.  \n",
    "    for n in range(num_sampling):\n",
    "        x = np.zeros((1, 1))\n",
    "        x[0, 0] = vocab[char]\n",
    "\n",
    "        # RNN을 한스텝 실행하고 Softmax 행렬을 리턴으로 받습니다.\n",
    "        feed_dict = {input_data: x, state_batch_size : 1, initial_state: state}\n",
    "        [probs_result, state] = sess.run([probs, final_state], feed_dict=feed_dict)         \n",
    "\n",
    "        # 불필요한 차원을 제거합니다.\n",
    "        # probs_result : (1,65) -> p : (65)\n",
    "        p = np.squeeze(probs_result)\n",
    "\n",
    "        # 샘플링 타입에 따라 3가지 종류로 샘플링 합니다.\n",
    "        # sampling_type : 0 -> 다음 글자를 예측할때 항상 argmax를 사용\n",
    "        # sampling_type : 1(defualt) -> 다음 글자를 예측할때 항상 random sampling을 사용\n",
    "        # sampling_type : 2 -> 다음 글자를 예측할때 이전 글자가 ' '(공백)이면 random sampling, 그렇지 않을 경우 argmax를 사용\n",
    "        if sampling_type == 0:\n",
    "            sample = np.argmax(p)\n",
    "        elif sampling_type == 2:\n",
    "            if char == ' ':\n",
    "                sample = weighted_pick(p)\n",
    "            else:\n",
    "                sample = np.argmax(p)\n",
    "        else:\n",
    "            sample = weighted_pick(p)\n",
    "\n",
    "        pred = chars[sample]\n",
    "        ret += pred     # 샘플링 결과에 현재 스텝에서 예측한 글자를 추가합니다. (예를들어 pred=L일 경우, ret = HEL -> HELL)\n",
    "        char = pred     # 예측한 글자를 다음 RNN의 인풋으로 사용합니다.\n",
    "\n",
    "    print(\"샘플링 결과:\")\n",
    "    print(ret)"
   ]
  }
 ],
 "metadata": {
  "colab": {
   "name": "NLP_sample_Jieun_ver03.ipynb",
   "provenance": [],
   "version": "0.3.2"
  },
  "kernelspec": {
   "display_name": "Python 3",
   "language": "python",
   "name": "python3"
  }
 },
 "nbformat": 4,
 "nbformat_minor": 1
}
