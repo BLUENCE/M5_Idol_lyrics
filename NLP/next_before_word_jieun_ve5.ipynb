{
 "cells": [
  {
   "cell_type": "code",
   "execution_count": 563,
   "metadata": {
    "collapsed": true
   },
   "outputs": [],
   "source": [
    "# !pip install soynlp\n",
    "# !pip install gensim"
   ]
  },
  {
   "cell_type": "code",
   "execution_count": 1,
   "metadata": {},
   "outputs": [
    {
     "data": {
      "text/plain": [
       "<soynlp.tokenizer._tokenizer.RegexTokenizer at 0x10b619a20>"
      ]
     },
     "execution_count": 1,
     "metadata": {},
     "output_type": "execute_result"
    }
   ],
   "source": [
    "import pandas as pd\n",
    "import numpy as np\n",
    "import re\n",
    "from soynlp.tokenizer import RegexTokenizer\n",
    "import gensim\n",
    "from gensim.models import Phrases\n",
    "from gensim.models.word2vec import LineSentence\n",
    "from gensim import corpora, models\n",
    "from gensim.models import LdaMulticore\n",
    "from gensim.models import Word2Vec\n",
    "from gensim.corpora import Dictionary, MmCorpus\n",
    "\n",
    "\n",
    "tokenizer = RegexTokenizer()\n",
    "tokenizer"
   ]
  },
  {
   "cell_type": "code",
   "execution_count": 2,
   "metadata": {
    "collapsed": true
   },
   "outputs": [],
   "source": [
    "# 곡 정보 파일 불러오기\n",
    "df = pd.read_csv('data/song_tidy03.csv')"
   ]
  },
  {
   "cell_type": "code",
   "execution_count": 3,
   "metadata": {
    "scrolled": false
   },
   "outputs": [
    {
     "data": {
      "text/plain": [
       "(9582, 12)"
      ]
     },
     "execution_count": 3,
     "metadata": {},
     "output_type": "execute_result"
    }
   ],
   "source": [
    "df.shape"
   ]
  },
  {
   "cell_type": "code",
   "execution_count": 4,
   "metadata": {
    "collapsed": true
   },
   "outputs": [],
   "source": [
    "# 가수 정보 파일 불러오기\n",
    "df2 = pd.read_csv('data/artist_info_combined_ver04.csv', encoding='euc-kr')"
   ]
  },
  {
   "cell_type": "code",
   "execution_count": 5,
   "metadata": {
    "collapsed": true
   },
   "outputs": [],
   "source": [
    "# 곡 정보와 가수 정보를 머지해준다.\n",
    "song = pd.merge(df, df2, on='artist')"
   ]
  },
  {
   "cell_type": "code",
   "execution_count": 6,
   "metadata": {
    "collapsed": true
   },
   "outputs": [],
   "source": [
    "# 가사 분석에 용이하도록 <br>을 공백으로 바꿔준다.\n",
    "song['lyrics'] = song['lyrics'].str.replace(r'<br>', ' ')"
   ]
  },
  {
   "cell_type": "code",
   "execution_count": 214,
   "metadata": {
    "collapsed": true
   },
   "outputs": [],
   "source": [
    "whole_song = song['lyrics']\n",
    "f = song[song['gender'] == '여']\n",
    "whole_female = f['lyrics'].reset_index(drop=True)\n",
    "m = song[song['gender'] == '남']\n",
    "whole_male = m['lyrics'].reset_index(drop=True)"
   ]
  },
  {
   "cell_type": "code",
   "execution_count": 79,
   "metadata": {
    "collapsed": true
   },
   "outputs": [],
   "source": [
    "# 여자 전체곡수 \n",
    "female_len = whole_female.shape[0]\n",
    "# 남자 전체곡수 \n",
    "male_len = whole_male.shape[0]"
   ]
  },
  {
   "cell_type": "code",
   "execution_count": 80,
   "metadata": {
    "scrolled": false
   },
   "outputs": [
    {
     "data": {
      "text/plain": [
       "2379"
      ]
     },
     "execution_count": 80,
     "metadata": {},
     "output_type": "execute_result"
    }
   ],
   "source": [
    "# 타이틀 곡은 몇곡일까\n",
    "len(song[song.is_title == '타이틀 곡'])"
   ]
  },
  {
   "cell_type": "markdown",
   "metadata": {},
   "source": [
    "## 해당 단어를 포함한 곡의 수 "
   ]
  },
  {
   "cell_type": "code",
   "execution_count": 86,
   "metadata": {
    "collapsed": true
   },
   "outputs": [],
   "source": [
    "female_k = whole_female[whole_female['lyrics'].str.contains(\"본능\", na=False)]\n",
    "female_k = int(female_k.shape[0])"
   ]
  },
  {
   "cell_type": "code",
   "execution_count": 87,
   "metadata": {
    "scrolled": true
   },
   "outputs": [],
   "source": [
    "male_k = whole_male[whole_male['lyrics'].str.contains(\"본능\", na=False)]\n",
    "male_k = int(male_k.shape[0])"
   ]
  },
  {
   "cell_type": "code",
   "execution_count": 90,
   "metadata": {},
   "outputs": [
    {
     "data": {
      "text/plain": [
       "0.4194128220491312"
      ]
     },
     "execution_count": 90,
     "metadata": {},
     "output_type": "execute_result"
    }
   ],
   "source": [
    "# 여자그룹의 가수 곡 중에서 해당 단어의 등장 비율 보기 \n",
    "(female_k/female_len)*100  # 0.4퍼 "
   ]
  },
  {
   "cell_type": "code",
   "execution_count": 91,
   "metadata": {
    "scrolled": true
   },
   "outputs": [
    {
     "data": {
      "text/plain": [
       "0.9712046345203612"
      ]
     },
     "execution_count": 91,
     "metadata": {},
     "output_type": "execute_result"
    }
   ],
   "source": [
    "# 남자그룹의 가수 곡 중에서 해당 단어의 등장 비율 보기 \n",
    "(male_k/male_len)*100  # 1퍼 "
   ]
  },
  {
   "cell_type": "markdown",
   "metadata": {},
   "source": [
    "## 단어 전처리 및 토크나이징"
   ]
  },
  {
   "cell_type": "code",
   "execution_count": 16,
   "metadata": {
    "collapsed": true
   },
   "outputs": [],
   "source": [
    "def preprocessing(text):\n",
    "    # 개행문자 제거\n",
    "    text =  text.strip('\\t\\n\\r')\n",
    "    pattern = re.compile(r'\\s+')\n",
    "    text = re.sub(pattern, ' ', text)\n",
    "    # 특수문자 제거\n",
    "    # 특수문자나 이모티콘 등은 때로는 의미를 갖기도 하지만 여기에서는 제거했습니다.\n",
    "    # text = re.sub('[?.,;:|\\)*~`’!^\\-_+<>@\\#$%&-=#}※]', '', text)\n",
    "    # 한글, 영문, 숫자만 남기고 모두 제거하도록 합니다.\n",
    "    # text = re.sub('[^가-힣ㄱ-ㅎㅏ-ㅣa-zA-Z0-9]', ' ', text)\n",
    "    # 한글, 영문만 남기고 모두 제거하도록 합니다.\n",
    "    text = re.sub('[^가-힣ㄱ-ㅎㅏ-ㅣa-zA-Z]', ' ', text)\n",
    "    return text"
   ]
  },
  {
   "cell_type": "code",
   "execution_count": 17,
   "metadata": {
    "collapsed": true
   },
   "outputs": [],
   "source": [
    "def tokenize(df):\n",
    "    sentences = df['lyrics'].apply(preprocessing)\n",
    "    tokens = sentences.apply(tokenizer.tokenize)\n",
    "    tokens = tokens.tolist()\n",
    "    tokens_all = sum(tokens, [])\n",
    "    return tokens_all"
   ]
  },
  {
   "cell_type": "code",
   "execution_count": 18,
   "metadata": {},
   "outputs": [],
   "source": [
    "# 토크나이징 적용\n",
    "\n",
    "song_t = tokenize(song)  # 토크나이징 된 것이 해당 song_t로 들어간다.\n",
    "female_t = tokenize(female)\n",
    "male_t = tokenize(male)"
   ]
  },
  {
   "cell_type": "markdown",
   "metadata": {},
   "source": [
    "# 하다가 꼬였는가? copy 한거 쓰자!!!!!"
   ]
  },
  {
   "cell_type": "code",
   "execution_count": 19,
   "metadata": {
    "collapsed": true
   },
   "outputs": [],
   "source": [
    "# copy()\n",
    "\n",
    "song_t = song_t.copy()\n",
    "female_t = female_t.copy()\n",
    "male_t = male_t.copy()"
   ]
  },
  {
   "cell_type": "code",
   "execution_count": 20,
   "metadata": {
    "scrolled": true
   },
   "outputs": [
    {
     "data": {
      "text/plain": [
       "769211"
      ]
     },
     "execution_count": 20,
     "metadata": {},
     "output_type": "execute_result"
    }
   ],
   "source": [
    "len(female_t)  # 여그룹 총 토크나이징된 단어 769,211  약 77만 "
   ]
  },
  {
   "cell_type": "code",
   "execution_count": 21,
   "metadata": {
    "scrolled": false
   },
   "outputs": [
    {
     "data": {
      "text/plain": [
       "1409422"
      ]
     },
     "execution_count": 21,
     "metadata": {},
     "output_type": "execute_result"
    }
   ],
   "source": [
    "len(male_t)  # 남그룹 총 토크나이징된 단어  1,409,422  약 141만"
   ]
  },
  {
   "cell_type": "code",
   "execution_count": 698,
   "metadata": {
    "collapsed": true
   },
   "outputs": [],
   "source": [
    "# male_t  # 하나로 합쳐져있다."
   ]
  },
  {
   "cell_type": "markdown",
   "metadata": {},
   "source": [
    "## 앞/뒤에 오는 단어를 보는 함수"
   ]
  },
  {
   "cell_type": "code",
   "execution_count": 22,
   "metadata": {
    "collapsed": true
   },
   "outputs": [],
   "source": [
    "# 중복되는 구절이 있어서 만든 유니크한 값만 보는 함수\n",
    "\n",
    "def unique(word):\n",
    "    result = []\n",
    "    for i in word:\n",
    "        if i not in result: #inside for\n",
    "            result.append(i) #inside for inside if\n",
    "    return result\n",
    "    print(result)"
   ]
  },
  {
   "cell_type": "code",
   "execution_count": 851,
   "metadata": {
    "collapsed": true
   },
   "outputs": [],
   "source": [
    "# # 앞 5글자, 뒤 5글자 한번에 보는 함수 \n",
    "    \n",
    "# def n_f_word(tokenized_list, search_word):\n",
    "#     indices2 = [i for i, x in enumerate(tokenized_list) if x == search_word]\n",
    "#     i = 0\n",
    "#     result = []\n",
    "#     for i in range(len(indices2)):\n",
    "#         next_word_2 = tokenized_list[indices2[i] - 5 :indices2[i] + 6]  #\n",
    "#         result.append(next_word_2[1:])\n",
    "#         i+=1\n",
    "#     return result\n"
   ]
  },
  {
   "cell_type": "code",
   "execution_count": 830,
   "metadata": {
    "collapsed": true
   },
   "outputs": [],
   "source": [
    "# # search_word 뒤에 무슨 단어가 있는지 보는 함수\n",
    "\n",
    "# def next_word(tokenized_list, search_word):\n",
    "#     indices2 = [i for i, x in enumerate(tokenized_list) if x == search_word]\n",
    "#     i = 0\n",
    "#     result = []\n",
    "#     for i in range(len(indices2)):\n",
    "#         next_word_2 = tokenized_list[indices2[i]:indices2[i] + 11]  # 뒤에 10글자까지만 보기 \n",
    "#         result.append(next_word_2[1:])\n",
    "#         i+=1\n",
    "#     return result\n"
   ]
  },
  {
   "cell_type": "code",
   "execution_count": 831,
   "metadata": {
    "collapsed": true
   },
   "outputs": [],
   "source": [
    "# # search_word 앞에 무슨 단어가 있는지 보는 함수\n",
    "\n",
    "# def before_word(tokenized_list, search_word):\n",
    "#     indices2 = [i for i, x in enumerate(tokenized_list) if x == search_word]\n",
    "#     i = 0\n",
    "#     result = []\n",
    "#     for i in range(len(indices2)):\n",
    "#         next_word_2 = tokenized_list[indices2[i] - 10:indices2[i] ]  # 앞에 10글자까지만 보기 \n",
    "#         result.append(next_word_2)\n",
    "#         i+=1\n",
    "#     return result\n",
    "#     print(result)"
   ]
  },
  {
   "cell_type": "code",
   "execution_count": 833,
   "metadata": {
    "collapsed": true
   },
   "outputs": [],
   "source": [
    "# # 두 음절 이상의 단어중에서 빈도수 상위 30 번째까지 출력 \n",
    "\n",
    "# topn = 30 \n",
    "\n",
    "# def more_word(word):     \n",
    "#     more_words = []\n",
    "#     for v1 in word:\n",
    "#         for v2 in v1:\n",
    "#              if len(v2) > 1:\n",
    "#                 more_words.append(v2)\n",
    "#     result = Counter(more_words).most_common(topn)\n",
    "#     return result"
   ]
  },
  {
   "cell_type": "code",
   "execution_count": 26,
   "metadata": {
    "collapsed": true
   },
   "outputs": [],
   "source": [
    "# # search_word 앞,뒤에 무슨 단어가 있는지 보는 함수\n",
    "\n",
    "import re\n",
    "\n",
    "def before_next_word(tokens, pattern):\n",
    "    indices = [i for i, x in enumerate(tokens) if re.match(pattern, x) is not None]\n",
    "    result = [tokens[i - 5:i + 6] for i in indices]\n",
    "    return result\n"
   ]
  },
  {
   "cell_type": "markdown",
   "metadata": {},
   "source": [
    "# 원하는 키워드가 들어간 문장 '한 노래당 하나씩만' 보기 "
   ]
  },
  {
   "cell_type": "code",
   "execution_count": 147,
   "metadata": {
    "collapsed": true
   },
   "outputs": [],
   "source": [
    "# EX) '잘생' 이라는 글자가 등장하면 곡 당 제일 먼저 걸리는 한 구절만 가져오게 했습니다."
   ]
  },
  {
   "cell_type": "code",
   "execution_count": 176,
   "metadata": {},
   "outputs": [
    {
     "data": {
      "text/plain": [
       "9566"
      ]
     },
     "execution_count": 176,
     "metadata": {},
     "output_type": "execute_result"
    }
   ],
   "source": [
    "len(lyrics)"
   ]
  },
  {
   "cell_type": "code",
   "execution_count": 215,
   "metadata": {
    "scrolled": false
   },
   "outputs": [
    {
     "data": {
      "text/plain": [
       "5869"
      ]
     },
     "execution_count": 215,
     "metadata": {},
     "output_type": "execute_result"
    }
   ],
   "source": [
    "len(whole_male)"
   ]
  },
  {
   "cell_type": "code",
   "execution_count": 216,
   "metadata": {
    "scrolled": false
   },
   "outputs": [],
   "source": [
    "lyrics = whole_female  # whole_song(전체곡 중에서 보기), whole_female(여성그룹 중에서 보기), whole_male(남성그룹 중에서 보기)\n",
    "result = []\n",
    "\n",
    "import re\n",
    "\n",
    "for i in range(len(lyrics)):\n",
    "    texts = lyrics[i]\n",
    "    f = re.search('(.{0,40}잘생.{0,40})', texts)\n",
    "    if f is not None:\n",
    "        result.append('노래번호 (' + str(i) + ') ' + f[0])"
   ]
  },
  {
   "cell_type": "code",
   "execution_count": 217,
   "metadata": {
    "scrolled": true
   },
   "outputs": [
    {
     "data": {
      "text/plain": [
       "13"
      ]
     },
     "execution_count": 217,
     "metadata": {},
     "output_type": "execute_result"
    }
   ],
   "source": [
    "len(result) # 등장한 곡 수 "
   ]
  },
  {
   "cell_type": "code",
   "execution_count": 201,
   "metadata": {},
   "outputs": [
    {
     "data": {
      "text/plain": [
       "['노래번호 (315) 니 파써니 피바가지 썼니 애들이 놀린다고 기죽지마 넌 이쁘고 착하고 또 잘생기고 멋있고 널 사랑해주는 내가 있잖아 힘내라 써니 장하다 써니 내 사랑',\n",
       " '노래번호 (357)  못생겨서 주눅이 드셨나  길고 짧은 건 대봐야 아는 법이지  키 크고 잘생긴 친구들 방심할때에  너에게 돌아가는 기회가 가는거야  도대체가 꼬일대',\n",
       " '노래번호 (401) t no playboy NO NO NO No playboy 어쩐지 너무 잘생겼어 말이 너무 달콤했어 쳐다보는 눈빛이 보통이 아니었어 너무나 자연스럽',\n",
       " '노래번호 (491) 런 바보였었지 아니야 아무도 나에게 사랑을 말해준 그런 사람 없었던거야 잘생긴 외모와 든든한 학벌과 집안 그런것들을 다 사랑해야할 그런 여자들과 세',\n",
       " '노래번호 (580) 좀 봐 또 빨개지네 요즘 따라 니가 왜 남자로 보일까 오늘따라 유독 왜 잘생겨 보일까 니가 너무 좋아 자꾸 안달이나 이게 사랑인가 말 안 해도 느낌',\n",
       " '노래번호 (877) 지 않나요 너무 멋있습니다 너무 멋있 아우 아우 어 누구 멤버지 얼굴도 잘생기고 춤도 잘 추고 노래도 잘하고 노래도 잘하고 이거 누구 멤버야 삼박자',\n",
       " '노래번호 (1512)  날 믿지 못하니 나는 죽을 때까지 널 사랑해 섹시한 당신은 나의 남자 잘생긴 당신은 나의 남자 이 세상 마지막이 온대도 영원히 이 환상에 젖을래 ',\n",
       " '노래번호 (1526) 그 아저씨군 삐뚤빼뚤 다같이 Stop 왼손은 허리위로 오른손은 머리위로 잘생긴 부처님 다같이 부처핸섬 오 아재 소금이 죽었소 맞춰봐 소금이 죽으면 ',\n",
       " '노래번호 (1843)  모두 털어줄게 거덜나게 우린 멋져부러 허벌나게 내 이름 진 끊임 없이 잘생김 근데 내 별명 찐따 But 최근 들어 따가 빠졌지 Yeah 이제 내 ',\n",
       " '노래번호 (2556) 정말 마지막으로 한 마디만 할게 그때 그 사람 아니 그때 그 놈이 맞지 잘생기긴 했던데 그리 듬직해 보이진 않던데 말야 네가 무슨 잘못이니 너무 착',\n",
       " '노래번호 (3439) ke Our Time 그냥 너 나를 가져 두 시간동안 손만 잡고 있으면 잘생긴 네 얼굴을 못 보잖니 Baby Let Me Tell Ya 자꾸만 더 ',\n",
       " '노래번호 (3824)  두바퀴 올빽머리 근육빵빵 난 슈퍼맨 지구인의 친구 난 슈퍼맨 멋지구나 잘생겼다 대인배의 카리스마 사이즈가 장난아니지 어쨌거나 근육빵빵 난 슈퍼맨 ',\n",
       " '노래번호 (4111) ou R My Shy Shy Shy Boy Oh Oh Oh My Boy 잘생기지 않아도 마음이 따뜻한 그런 남자 Oh Bye Bye Bye Boy ',\n",
       " '노래번호 (4490)  신고 너에게 잘 보이려고 예쁜 옷 입고 이런 내 마음을 니가 알기나해 잘생긴 남잘 봐도 니가 최고라 하고 전화로 수다 떨다 너 땜에 빨리 끊고 혹',\n",
       " '노래번호 (4538)  땐 내가 빛이 돼 주면 돼 네 맘이 바다라면 난 그 속에 파도가 될게 잘생긴 남자들은 다 바람둥이라고 하지만 너는 좀 달라 느낌이 와 I get ',\n",
       " '노래번호 (4552) 잠시 잊을 수도 있잖아 She said 나약한 남자는 관심 없어 아무리 잘생겼다 해도 자기 여자는 지킬 줄 아는 끈기 있는 사람이 좋아 baby i',\n",
       " '노래번호 (4981) 하고 있는가 또 음악이 뭔지 과연 알까 나 만큼이나 알고 있을까 얼굴만 잘생기면 가수 또 춤 잘추면 다 가수 너도 가수 나도 가수 그러면 우리 모두',\n",
       " '노래번호 (5132) 같은 디자인의 T입고 함께 풍선껌을 불어줄 그런 애인이 생겼으면 좋겠어 잘생기진 않아도 착한 마음을 가진 오직 나만을 사랑해주는 그런 사람 없을까 ',\n",
       " '노래번호 (5318) 있어 키가 작은 남자 키 큰 여자와 팔짱 끼고 걷고 다니네 못생긴 여자 잘생긴 남자 팔짱 끼고 웃고 서있네 자 이제 모두다 유행 신경쓰지 말고 서로',\n",
       " \"노래번호 (6148) 릴 이어 I'm Here Who’s Next 너만 나타나면 TV를 돌려 잘생긴 네 얼굴도 이젠 질려 Woo Baby I'm Sorry Woo Bab\",\n",
       " '노래번호 (6224) 멀쩡하던 날 시큰하게 훌쩍거리게 줬다 폈다 왔다 갔다 Oh 멋지면 다야 잘생기면 다야 징글 징글 징글 하게 오 좋아서 미쳐 미쳐 빠져 빠져 온몸이 ',\n",
       " '노래번호 (6496) 왜요 왜요 난 안 돼요 돼요 왜요 왜요 난 안 돼요 돼요 매너 있어 잘생긴 눈 섹시한 네 입술 다 완벽해 주윌 둘러 보고 봐도 너 같은 남자는 ',\n",
       " '노래번호 (6748) Hey 거기 어디가니 이쁜이 너 이리와 Girl 잘생긴 오빠야 ba ba ba Baby Girl B C D 필요없어 A 라도',\n",
       " '노래번호 (7199) 우 라는걸 니가 뭔데 나를 버려못생긴 니가 어떻게 니가 만난 남자나보다 잘생겼다며 재주가 좋은거니 아니면 복이 많은지 이해 할수 없어 도대체 왜 만',\n",
       " '노래번호 (7387) 수가 없는 걸 지금 너는 뭘 할까 하루 종일 니 생각해 헤이헤이 너너너 잘생기고 키가 큰 것도 아닌데 왜 자꾸 네게 눈이 가 이상하게 신경 쓰여 노',\n",
       " '노래번호 (7869) 고 그래서 받아들였고 허나 근데 이게 무슨 날벼락이고 무얼믿고 들이대나 잘생긴 니얼굴은 그사람에 돈보다 못해 그런 돈 돈 돈 으로는 LOVE LOV',\n",
       " '노래번호 (7989) oh 해봐 내 사랑을 딴 남자와 달라 매력이 흠씬 이제는 잘빠진 몸매와 잘생긴 얼굴과 여기 저기서들을 서로가 쳐다보는거야 내 남자 될거야 아무도 보',\n",
       " '노래번호 (8199) 할거야  세상은 넓다 여자는 많다 꼭 그녀일 필요는 없잖아 니가 나보다 잘생겼으니까 얼마든지 기횐 더 있을 수 있잖아 만약 너에게 그녀를 빼앗긴다면']"
      ]
     },
     "execution_count": 201,
     "metadata": {},
     "output_type": "execute_result"
    }
   ],
   "source": [
    "result  # EX) '잘생' 이라는 글자가 등장하면 곡 당 제일 먼저 걸리는 한 구절만 가져오게 했습니다."
   ]
  },
  {
   "cell_type": "code",
   "execution_count": 157,
   "metadata": {
    "scrolled": true
   },
   "outputs": [
    {
     "data": {
      "text/plain": [
       "'써니 써니야 뭐가 불만이니 니 이름이 얼마나 좋은데 왜 고기써니 파써니 피바가지 썼니 애들이 놀린다고 기죽지마 넌 이쁘고 착하고 또 잘생기고 멋있고 널 사랑해주는 내가 있잖아 힘내라 써니 장하다 써니 내 사랑 써니 만만세 써니 니 이름이 얼마나 좋은 이름이니 모써니씨는 최연소 시의원도 됐잖아 차표한장 던져놓고 왜 떠났냐고 혹 기억나니 대관이 아찌 마구 울부짖었잖아 이렇게 가방 끌어안고 있는 날 보고 뭘 생각하니 느껴 내가 불쌍하지 않아 나 울지않게 해줘 제발 부탁이야 써니 나의 사랑 나의 신부 써니야  써니 이름 바꿔달라고 떼쓰지마 써니는 뭐 그냥 써니지 뭐 뭐 먹니가 되겠니 죽기가 되겠니 그러니까 제발 엄마 아빠 괴롭히지마 너는 내 곁에서 언제나 착하고 예쁜 그 모습 더도말고 그대로만 내게 있어줘 잊지마 너에겐 내가 있는걸 언제나 네 곁엔 내가 있어줄게 써니 이제 내가 니 이름 부를날도 얼마 남지도 않았는데 자기, 여보, 당신, 어이! 앞으로 나도 이렇게 부를테고 맘마, 엄마, 아줌마, 할머니 이제 니 이름도 거의 사라질텐데 니 얼굴, 마음 그리고 이쁜 너의 이름 더욱더 아껴줘야 해요 써니!!!'"
      ]
     },
     "execution_count": 157,
     "metadata": {},
     "output_type": "execute_result"
    }
   ],
   "source": [
    "lyrics[315]  # 전체 가사로 확인해보기 "
   ]
  },
  {
   "cell_type": "code",
   "execution_count": null,
   "metadata": {
    "collapsed": true
   },
   "outputs": [],
   "source": []
  },
  {
   "cell_type": "code",
   "execution_count": null,
   "metadata": {
    "collapsed": true
   },
   "outputs": [],
   "source": []
  },
  {
   "cell_type": "code",
   "execution_count": null,
   "metadata": {
    "collapsed": true
   },
   "outputs": [],
   "source": []
  },
  {
   "cell_type": "code",
   "execution_count": 140,
   "metadata": {
    "scrolled": true
   },
   "outputs": [
    {
     "data": {
      "text/plain": [
       "40"
      ]
     },
     "execution_count": 140,
     "metadata": {},
     "output_type": "execute_result"
    }
   ],
   "source": [
    "len(before_next_word(song_t, r'(잘생)'))  # 한노래에 있는 구절이 여러개 중복해서 뽑힐 수 있다. "
   ]
  },
  {
   "cell_type": "code",
   "execution_count": 145,
   "metadata": {
    "scrolled": true
   },
   "outputs": [
    {
     "data": {
      "text/plain": [
       "[['기죽지마', '넌', '이쁘고', '착하고', '또', '잘생기고', '멋있고', '널', '사랑해주는', '내가', '있잖아'],\n",
       " ['대봐야', '아는', '법이지', '키', '크고', '잘생긴', '친구들', '방심할때에', '너에게', '돌아가는', '기회가'],\n",
       " ['NO',\n",
       "  'No',\n",
       "  'playboy',\n",
       "  '어쩐지',\n",
       "  '너무',\n",
       "  '잘생겼어',\n",
       "  '말이',\n",
       "  '너무',\n",
       "  '달콤했어',\n",
       "  '쳐다보는',\n",
       "  '눈빛이'],\n",
       " ['사랑을',\n",
       "  '말해준',\n",
       "  '그런',\n",
       "  '사람',\n",
       "  '없었던거야',\n",
       "  '잘생긴',\n",
       "  '외모와',\n",
       "  '든든한',\n",
       "  '학벌과',\n",
       "  '집안',\n",
       "  '그런것들을'],\n",
       " ['남자로', '보일까', '오늘따라', '유독', '왜', '잘생겨', '보일까', '니가', '너무', '좋아', '자꾸']]"
      ]
     },
     "execution_count": 145,
     "metadata": {},
     "output_type": "execute_result"
    }
   ],
   "source": [
    "unique(before_next_word(song_t, r'(잘생)'))[:5]"
   ]
  },
  {
   "cell_type": "code",
   "execution_count": null,
   "metadata": {
    "collapsed": true
   },
   "outputs": [],
   "source": []
  },
  {
   "cell_type": "code",
   "execution_count": null,
   "metadata": {
    "collapsed": true
   },
   "outputs": [],
   "source": []
  },
  {
   "cell_type": "code",
   "execution_count": null,
   "metadata": {
    "collapsed": true
   },
   "outputs": [],
   "source": []
  },
  {
   "cell_type": "code",
   "execution_count": null,
   "metadata": {
    "collapsed": true
   },
   "outputs": [],
   "source": []
  },
  {
   "cell_type": "code",
   "execution_count": null,
   "metadata": {
    "collapsed": true
   },
   "outputs": [],
   "source": []
  },
  {
   "cell_type": "markdown",
   "metadata": {},
   "source": [
    "#  both_words_ratio함수로는 \n",
    "# (1) 두 그룹 모두에게서 등장한 단어들의 비율을 보거나 \n",
    "# (2) 한 그룹에서만 등장한 단어들의 비율을 볼 수 있습니다. \n",
    "# 원하는 부분을 제외하고 주석 처리 해주세요."
   ]
  },
  {
   "cell_type": "code",
   "execution_count": 834,
   "metadata": {
    "collapsed": true
   },
   "outputs": [],
   "source": [
    "# both_words_ratio(female_back_words, male_back_words, female_back_len, male_back_len)\n",
    "\n",
    "def both_words_ratio(f_, m_, f_count, m_count):\n",
    "       \n",
    "    f = pd.DataFrame(f_)\n",
    "    m = pd.DataFrame(m_)\n",
    "    f.columns = ['words', 'count_f']\n",
    "    m.columns = ['words', 'count_m']\n",
    "\n",
    "# (1) 두 그룹 모두에게서 등장한 단어들의 비율을 보는 함수\n",
    "\n",
    "    merged_in = pd.merge(f, m, how='inner', on=['words'])    \n",
    "    f['count_f'] = (merged_in['count_f']/f_count)*100\n",
    "    m['count_m'] = (merged_in['count_m']/m_count)*100\n",
    "    \n",
    "    f = f.dropna()\n",
    "    m = m.dropna()\n",
    "    result = pd.merge(f, m, how='inner', on=['words'])  \n",
    "    \n",
    "# # (2) 한 그룹에서만 등장한 단어들의 비율을 보는 함수    \n",
    "\n",
    "#     merged_out = pd.merge(f, m, how='outer', on=['words'])    \n",
    "#     f['count_f'] = (merged_in['count_f']/f_count)*100\n",
    "#     m['count_m'] = (merged_in['count_m']/m_count)*100\n",
    "#     result = pd.merge(f, m, how='outer', on=['words']) \n",
    "\n",
    "    return result"
   ]
  },
  {
   "cell_type": "code",
   "execution_count": 890,
   "metadata": {
    "collapsed": true
   },
   "outputs": [],
   "source": [
    "def excute_both_both(word):\n",
    "\n",
    "    female_both_words = more_word(unique(n_f_word(female_t, word)))  \n",
    "    male_both_words = more_word(unique(n_f_word(male_t, word)))\n",
    "    \n",
    "    female_both_len = len(n_f_word(female_t, word))\n",
    "    male_both_len = len(n_f_word(male_t, word))\n",
    "    \n",
    "    return female_both_words, male_both_words, female_both_len, male_both_len\n",
    "#     return (both_words_ratio(female_next_words, male_next_words, female_next_len, male_next_len))"
   ]
  },
  {
   "cell_type": "code",
   "execution_count": 835,
   "metadata": {
    "collapsed": true
   },
   "outputs": [],
   "source": [
    "def excute_before_both(word):\n",
    "\n",
    "\n",
    "    female_before_words = more_word(unique(before_word(female_t, word)))  \n",
    "    male_before_words = more_word(unique(before_word(male_t, word)))\n",
    "    \n",
    "    female_before_len = len(before_word(female_t, word))\n",
    "    male_before_len = len(before_word(male_t, word))\n",
    "    \n",
    "    return (both_words_ratio(female_before_words, male_before_words, female_before_len, male_before_len))\n",
    "    "
   ]
  },
  {
   "cell_type": "code",
   "execution_count": 836,
   "metadata": {
    "collapsed": true
   },
   "outputs": [],
   "source": [
    "def excute_next_both(word):\n",
    "\n",
    "\n",
    "    female_next_words = more_word(unique(next_word(female_t, word)))  \n",
    "    male_next_words = more_word(unique(next_word(male_t, word)))\n",
    "    \n",
    "    female_next_len = len(next_word(female_t, word))\n",
    "    male_next_len = len(next_word(male_t, word))\n",
    "    \n",
    "    return (both_words_ratio(female_next_words, male_next_words, female_next_len, male_next_len))"
   ]
  },
  {
   "cell_type": "code",
   "execution_count": null,
   "metadata": {
    "collapsed": true
   },
   "outputs": [],
   "source": [
    "엉덩이,허리,몸매,다리"
   ]
  },
  {
   "cell_type": "code",
   "execution_count": 926,
   "metadata": {
    "collapsed": true
   },
   "outputs": [],
   "source": [
    "result0 = excute_before_both('엉덩이')  # 앞, 뒤 5단어씩 보기 \n",
    "result0.to_excel('nlp_result/엉덩이.xlsx')"
   ]
  },
  {
   "cell_type": "code",
   "execution_count": null,
   "metadata": {
    "collapsed": true
   },
   "outputs": [],
   "source": [
    "f = pd.DataFrame(f_)\n",
    "m = pd.DataFrame(m_)\n",
    "f.columns = ['words', 'count_f']\n",
    "m.columns = ['words', 'count_m']\n",
    "    \n",
    "    \n",
    "merged_out = pd.merge(f, m, how='outer', on=['words'])    \n",
    "f['count_f'] = (merged_in['count_f']/f_count)*100\n",
    "m['count_m'] = (merged_in['count_m']/m_count)*100\n",
    "result = pd.merge(f, m, how='outer', on=['words']) "
   ]
  },
  {
   "cell_type": "code",
   "execution_count": null,
   "metadata": {
    "collapsed": true
   },
   "outputs": [],
   "source": []
  },
  {
   "cell_type": "code",
   "execution_count": null,
   "metadata": {
    "collapsed": true
   },
   "outputs": [],
   "source": []
  },
  {
   "cell_type": "code",
   "execution_count": null,
   "metadata": {
    "collapsed": true
   },
   "outputs": [],
   "source": []
  },
  {
   "cell_type": "code",
   "execution_count": null,
   "metadata": {
    "collapsed": true
   },
   "outputs": [],
   "source": []
  },
  {
   "cell_type": "code",
   "execution_count": null,
   "metadata": {
    "collapsed": true
   },
   "outputs": [],
   "source": []
  },
  {
   "cell_type": "code",
   "execution_count": null,
   "metadata": {
    "collapsed": true
   },
   "outputs": [],
   "source": []
  },
  {
   "cell_type": "code",
   "execution_count": null,
   "metadata": {
    "collapsed": true
   },
   "outputs": [],
   "source": []
  },
  {
   "cell_type": "code",
   "execution_count": null,
   "metadata": {
    "collapsed": true
   },
   "outputs": [],
   "source": []
  },
  {
   "cell_type": "markdown",
   "metadata": {},
   "source": [
    "# 밑에는 코드연습해본것! "
   ]
  },
  {
   "cell_type": "code",
   "execution_count": 628,
   "metadata": {
    "collapsed": true
   },
   "outputs": [],
   "source": [
    "찾을단어 = ['누나', '오빠']"
   ]
  },
  {
   "cell_type": "code",
   "execution_count": 629,
   "metadata": {
    "collapsed": true
   },
   "outputs": [],
   "source": [
    "dic_both_before = dict()  # 두 그룹에서 모두 등장한 단어\n",
    "dic_parts_before = dict()  # 하나의 그룹에서만 등장한 단어 \n",
    "\n",
    "for word in 찾을단어:\n",
    "    female_before_words = more_word(unique(before_word(female_t, word)))  \n",
    "    male_before_words = more_word(unique(before_word(male_t, word)))\n",
    "    \n",
    "    female_before_len = len(before_word(female_t, word))\n",
    "    male_before_len = len(before_word(male_t, word))\n",
    "    \n",
    "    dic_both_before[word + \"_앞_결과\"] = both_words_ratio(female_before_words, male_before_words, female_before_len, male_before_len)\n",
    "    dic_parts_before[word + \"_앞_결과\"] = parts_words_ratio(female_before_words, male_before_words, female_before_len, male_before_len)\n",
    "    \n",
    "    \n",
    "    "
   ]
  },
  {
   "cell_type": "code",
   "execution_count": 560,
   "metadata": {
    "collapsed": true
   },
   "outputs": [],
   "source": [
    "dic_both_next = dict()  # 두 그룹에서 모두 등장한 단어\n",
    "dic_parts_next = dict()  # 하나의 그룹에서만 등장한 단어 \n",
    "\n",
    "for word in 찾을단어:\n",
    "    female_back_words = more_word(unique(next_word(female_t, word)))  \n",
    "    male_back_words = more_word(unique(next_word(male_t, word)))\n",
    "    \n",
    "    female_back_len = len(next_word(female_t, word))\n",
    "    male_back_len = len(next_word(male_t, word))\n",
    "    \n",
    "    dic_both_next[word + \"_뒤_결과\"] = both_words_ratio(female_back_words, male_back_words, female_back_len, male_back_len)\n",
    "    dic_parts_next[word + \"_뒤_결과\"] = parts_words_ratio(female_back_words, male_back_words, female_back_len, male_back_len)"
   ]
  },
  {
   "cell_type": "code",
   "execution_count": 554,
   "metadata": {},
   "outputs": [
    {
     "data": {
      "text/html": [
       "<div>\n",
       "<style scoped>\n",
       "    .dataframe tbody tr th:only-of-type {\n",
       "        vertical-align: middle;\n",
       "    }\n",
       "\n",
       "    .dataframe tbody tr th {\n",
       "        vertical-align: top;\n",
       "    }\n",
       "\n",
       "    .dataframe thead th {\n",
       "        text-align: right;\n",
       "    }\n",
       "</style>\n",
       "<table border=\"1\" class=\"dataframe\">\n",
       "  <thead>\n",
       "    <tr style=\"text-align: right;\">\n",
       "      <th></th>\n",
       "      <th>words</th>\n",
       "      <th>count_f</th>\n",
       "      <th>count_m</th>\n",
       "    </tr>\n",
       "  </thead>\n",
       "  <tbody>\n",
       "    <tr>\n",
       "      <th>0</th>\n",
       "      <td>우리</td>\n",
       "      <td>250.0</td>\n",
       "      <td>NaN</td>\n",
       "    </tr>\n",
       "  </tbody>\n",
       "</table>\n",
       "</div>"
      ],
      "text/plain": [
       "  words  count_f  count_m\n",
       "0    우리    250.0      NaN"
      ]
     },
     "execution_count": 554,
     "metadata": {},
     "output_type": "execute_result"
    }
   ],
   "source": [
    "dic_both_before['누나_앞_결과']"
   ]
  },
  {
   "cell_type": "code",
   "execution_count": 555,
   "metadata": {
    "scrolled": false
   },
   "outputs": [
    {
     "data": {
      "text/html": [
       "<div>\n",
       "<style scoped>\n",
       "    .dataframe tbody tr th:only-of-type {\n",
       "        vertical-align: middle;\n",
       "    }\n",
       "\n",
       "    .dataframe tbody tr th {\n",
       "        vertical-align: top;\n",
       "    }\n",
       "\n",
       "    .dataframe thead th {\n",
       "        text-align: right;\n",
       "    }\n",
       "</style>\n",
       "<table border=\"1\" class=\"dataframe\">\n",
       "  <thead>\n",
       "    <tr style=\"text-align: right;\">\n",
       "      <th></th>\n",
       "      <th>words</th>\n",
       "      <th>count_f</th>\n",
       "      <th>count_m</th>\n",
       "    </tr>\n",
       "  </thead>\n",
       "  <tbody>\n",
       "    <tr>\n",
       "      <th>0</th>\n",
       "      <td>오빠</td>\n",
       "      <td>80.45977</td>\n",
       "      <td>38.834951</td>\n",
       "    </tr>\n",
       "    <tr>\n",
       "      <th>1</th>\n",
       "      <td>나쁜</td>\n",
       "      <td>NaN</td>\n",
       "      <td>NaN</td>\n",
       "    </tr>\n",
       "  </tbody>\n",
       "</table>\n",
       "</div>"
      ],
      "text/plain": [
       "  words   count_f    count_m\n",
       "0    오빠  80.45977  38.834951\n",
       "1    나쁜       NaN        NaN"
      ]
     },
     "execution_count": 555,
     "metadata": {},
     "output_type": "execute_result"
    }
   ],
   "source": [
    "dic_both_before['오빠_앞_결과']"
   ]
  },
  {
   "cell_type": "code",
   "execution_count": 561,
   "metadata": {
    "scrolled": true
   },
   "outputs": [
    {
     "ename": "AttributeError",
     "evalue": "'dict' object has no attribute 'loc'",
     "output_type": "error",
     "traceback": [
      "\u001b[0;31m---------------------------------------------------------------------------\u001b[0m",
      "\u001b[0;31mAttributeError\u001b[0m                            Traceback (most recent call last)",
      "\u001b[0;32m<ipython-input-561-0451fe67b687>\u001b[0m in \u001b[0;36m<module>\u001b[0;34m()\u001b[0m\n\u001b[0;32m----> 1\u001b[0;31m \u001b[0mdic_parts_next\u001b[0m\u001b[0;34m.\u001b[0m\u001b[0mloc\u001b[0m\u001b[0;34m[\u001b[0m\u001b[0mdic_parts_next\u001b[0m\u001b[0;34m[\u001b[0m\u001b[0;34m'누나_뒤_결과'\u001b[0m\u001b[0;34m]\u001b[0m\u001b[0;34m.\u001b[0m\u001b[0misnull\u001b[0m\u001b[0;34m(\u001b[0m\u001b[0;34m)\u001b[0m\u001b[0;34m]\u001b[0m\u001b[0;34m\u001b[0m\u001b[0m\n\u001b[0m",
      "\u001b[0;31mAttributeError\u001b[0m: 'dict' object has no attribute 'loc'"
     ]
    }
   ],
   "source": [
    "dic_parts_next.loc[dic_parts_next['누나_뒤_결과'].isnull()]"
   ]
  },
  {
   "cell_type": "markdown",
   "metadata": {},
   "source": [
    "# inner join했는데 왜 NaN이 나오지??  => 해결함"
   ]
  },
  {
   "cell_type": "code",
   "execution_count": 256,
   "metadata": {
    "scrolled": false
   },
   "outputs": [
    {
     "data": {
      "text/html": [
       "<div>\n",
       "<style scoped>\n",
       "    .dataframe tbody tr th:only-of-type {\n",
       "        vertical-align: middle;\n",
       "    }\n",
       "\n",
       "    .dataframe tbody tr th {\n",
       "        vertical-align: top;\n",
       "    }\n",
       "\n",
       "    .dataframe thead th {\n",
       "        text-align: right;\n",
       "    }\n",
       "</style>\n",
       "<table border=\"1\" class=\"dataframe\">\n",
       "  <thead>\n",
       "    <tr style=\"text-align: right;\">\n",
       "      <th></th>\n",
       "      <th>words</th>\n",
       "      <th>count_f</th>\n",
       "      <th>count_m</th>\n",
       "    </tr>\n",
       "  </thead>\n",
       "  <tbody>\n",
       "    <tr>\n",
       "      <th>30</th>\n",
       "      <td>벗어나고</td>\n",
       "      <td>NaN</td>\n",
       "      <td>6.802721</td>\n",
       "    </tr>\n",
       "    <tr>\n",
       "      <th>31</th>\n",
       "      <td>돌아가고</td>\n",
       "      <td>NaN</td>\n",
       "      <td>6.802721</td>\n",
       "    </tr>\n",
       "    <tr>\n",
       "      <th>32</th>\n",
       "      <td>안아주고</td>\n",
       "      <td>NaN</td>\n",
       "      <td>6.377551</td>\n",
       "    </tr>\n",
       "    <tr>\n",
       "      <th>33</th>\n",
       "      <td>지키고</td>\n",
       "      <td>NaN</td>\n",
       "      <td>5.952381</td>\n",
       "    </tr>\n",
       "    <tr>\n",
       "      <th>34</th>\n",
       "      <td>잊고</td>\n",
       "      <td>NaN</td>\n",
       "      <td>5.952381</td>\n",
       "    </tr>\n",
       "    <tr>\n",
       "      <th>35</th>\n",
       "      <td>네게</td>\n",
       "      <td>NaN</td>\n",
       "      <td>5.102041</td>\n",
       "    </tr>\n",
       "    <tr>\n",
       "      <th>36</th>\n",
       "      <td>머물고</td>\n",
       "      <td>NaN</td>\n",
       "      <td>5.102041</td>\n",
       "    </tr>\n",
       "  </tbody>\n",
       "</table>\n",
       "</div>"
      ],
      "text/plain": [
       "   words  count_f   count_m\n",
       "30  벗어나고      NaN  6.802721\n",
       "31  돌아가고      NaN  6.802721\n",
       "32  안아주고      NaN  6.377551\n",
       "33   지키고      NaN  5.952381\n",
       "34    잊고      NaN  5.952381\n",
       "35    네게      NaN  5.102041\n",
       "36   머물고      NaN  5.102041"
      ]
     },
     "execution_count": 256,
     "metadata": {},
     "output_type": "execute_result"
    }
   ],
   "source": [
    "merged_out.loc[merged_out['count_f'].isnull()]  # 남자그룹에만 등장한 단어 "
   ]
  },
  {
   "cell_type": "code",
   "execution_count": 257,
   "metadata": {},
   "outputs": [
    {
     "data": {
      "text/html": [
       "<div>\n",
       "<style scoped>\n",
       "    .dataframe tbody tr th:only-of-type {\n",
       "        vertical-align: middle;\n",
       "    }\n",
       "\n",
       "    .dataframe tbody tr th {\n",
       "        vertical-align: top;\n",
       "    }\n",
       "\n",
       "    .dataframe thead th {\n",
       "        text-align: right;\n",
       "    }\n",
       "</style>\n",
       "<table border=\"1\" class=\"dataframe\">\n",
       "  <thead>\n",
       "    <tr style=\"text-align: right;\">\n",
       "      <th></th>\n",
       "      <th>words</th>\n",
       "      <th>count_f</th>\n",
       "      <th>count_m</th>\n",
       "    </tr>\n",
       "  </thead>\n",
       "  <tbody>\n",
       "    <tr>\n",
       "      <th>17</th>\n",
       "      <td>너에게</td>\n",
       "      <td>8.124077</td>\n",
       "      <td>NaN</td>\n",
       "    </tr>\n",
       "    <tr>\n",
       "      <th>20</th>\n",
       "      <td>전하고</td>\n",
       "      <td>7.385524</td>\n",
       "      <td>NaN</td>\n",
       "    </tr>\n",
       "    <tr>\n",
       "      <th>21</th>\n",
       "      <td>영원히</td>\n",
       "      <td>6.646972</td>\n",
       "      <td>NaN</td>\n",
       "    </tr>\n",
       "    <tr>\n",
       "      <th>23</th>\n",
       "      <td>안기고</td>\n",
       "      <td>6.646972</td>\n",
       "      <td>NaN</td>\n",
       "    </tr>\n",
       "    <tr>\n",
       "      <th>24</th>\n",
       "      <td>이젠</td>\n",
       "      <td>6.646972</td>\n",
       "      <td>NaN</td>\n",
       "    </tr>\n",
       "    <tr>\n",
       "      <th>26</th>\n",
       "      <td>보여주고</td>\n",
       "      <td>5.908419</td>\n",
       "      <td>NaN</td>\n",
       "    </tr>\n",
       "    <tr>\n",
       "      <th>27</th>\n",
       "      <td>함께</td>\n",
       "      <td>5.908419</td>\n",
       "      <td>NaN</td>\n",
       "    </tr>\n",
       "  </tbody>\n",
       "</table>\n",
       "</div>"
      ],
      "text/plain": [
       "   words   count_f  count_m\n",
       "17   너에게  8.124077      NaN\n",
       "20   전하고  7.385524      NaN\n",
       "21   영원히  6.646972      NaN\n",
       "23   안기고  6.646972      NaN\n",
       "24    이젠  6.646972      NaN\n",
       "26  보여주고  5.908419      NaN\n",
       "27    함께  5.908419      NaN"
      ]
     },
     "execution_count": 257,
     "metadata": {},
     "output_type": "execute_result"
    }
   ],
   "source": [
    "merged_out.loc[merged_out['count_m'].isnull()]  # 여자그룹에만 등장한 단어 "
   ]
  },
  {
   "cell_type": "markdown",
   "metadata": {},
   "source": [
    "# soynlp_명사추출기ver2 사용해보기 "
   ]
  },
  {
   "cell_type": "code",
   "execution_count": 28,
   "metadata": {
    "scrolled": true
   },
   "outputs": [
    {
     "name": "stdout",
     "output_type": "stream",
     "text": [
      "used default noun predictor; Sejong corpus predictor\n",
      "used noun_predictor_sejong\n",
      "All 2398 r features was loaded\n",
      "scanning completed\n",
      "(L,R) has (50013, 23692) tokens\n",
      "building lr-graph completed"
     ]
    }
   ],
   "source": [
    "from soynlp.noun import LRNounExtractor\n",
    "noun_extractor = LRNounExtractor()\n",
    "nouns = noun_extractor.train_extract(sentences_all) # list of str like"
   ]
  },
  {
   "cell_type": "code",
   "execution_count": 29,
   "metadata": {},
   "outputs": [
    {
     "data": {
      "text/plain": [
       "{'영상': NounScore(frequency=8, score=0.505755, known_r_ratio=0.5),\n",
       " '루즈': NounScore(frequency=23, score=0.9989745333333333, known_r_ratio=1.0),\n",
       " '인간': NounScore(frequency=60, score=0.6711133939393938, known_r_ratio=0.7021276595744681),\n",
       " '울지': NounScore(frequency=427, score=0.9915242, known_r_ratio=0.09803921568627451),\n",
       " '의심': NounScore(frequency=169, score=0.7953841090909091, known_r_ratio=0.7534246575342466),\n",
       " '진행': NounScore(frequency=10, score=0.504724, known_r_ratio=0.25),\n",
       " '뜸들': NounScore(frequency=8, score=0.9995985000000001, known_r_ratio=0.2857142857142857),\n",
       " '깃발': NounScore(frequency=17, score=0.5694347499999999, known_r_ratio=1.0),\n",
       " '한장': NounScore(frequency=13, score=0.7171820000000001, known_r_ratio=0.875),\n",
       " '볼만': NounScore(frequency=16, score=0.9970192727272728, known_r_ratio=0.9166666666666666),\n",
       " '내면': NounScore(frequency=27, score=0.999769, known_r_ratio=0.5),\n",
       " '내품': NounScore(frequency=60, score=0.9655438723404256, known_r_ratio=0.8103448275862069),\n",
       " '거역': NounScore(frequency=5, score=0.9949033333333334, known_r_ratio=0.6),\n",
       " '큰사': NounScore(frequency=11, score=0.9581382857142857, known_r_ratio=0.6363636363636364),\n",
       " '지금': NounScore(frequency=6089, score=0.717914625652931, known_r_ratio=0.8512845849802372),\n",
       " '무식': NounScore(frequency=12, score=0.9973369, known_r_ratio=0.9090909090909091),\n",
       " '적도': NounScore(frequency=29, score=0.99954925, known_r_ratio=1.0),\n",
       " '주위': NounScore(frequency=337, score=0.9421670811808117, known_r_ratio=0.9063545150501672),\n",
       " '애절': NounScore(frequency=5, score=1.0, known_r_ratio=1.0),\n",
       " '실망': NounScore(frequency=82, score=0.5621944883720931, known_r_ratio=0.7166666666666667),\n",
       " '답인': NounScore(frequency=12, score=0.997334, known_r_ratio=0.2),\n",
       " '진부': NounScore(frequency=8, score=0.9994145, known_r_ratio=1.0),\n",
       " '어따': NounScore(frequency=6, score=0.997334, known_r_ratio=0.2),\n",
       " '발짝': NounScore(frequency=63, score=0.734661875, known_r_ratio=0.38095238095238093),\n",
       " '의사': NounScore(frequency=10, score=0.93776, known_r_ratio=0.6666666666666666),\n",
       " '공책': NounScore(frequency=6, score=0.9998133333333333, known_r_ratio=1.0),\n",
       " '통일': NounScore(frequency=15, score=0.8978424285714287, known_r_ratio=1.0),\n",
       " '망상': NounScore(frequency=15, score=0.998252, known_r_ratio=0.6),\n",
       " '우울': NounScore(frequency=119, score=0.9943967093023258, known_r_ratio=0.7543859649122807),\n",
       " '적당': NounScore(frequency=95, score=1.0, known_r_ratio=0.2111111111111111),\n",
       " '숨결': NounScore(frequency=338, score=0.830577180412371, known_r_ratio=0.9603960396039604),\n",
       " '열광': NounScore(frequency=10, score=0.9953166, known_r_ratio=1.0),\n",
       " '하곤': NounScore(frequency=29, score=0.996487, known_r_ratio=1.0),\n",
       " '기쁨': NounScore(frequency=306, score=0.7648610718232043, known_r_ratio=0.8190045248868778),\n",
       " '버스': NounScore(frequency=64, score=0.704041717948718, known_r_ratio=0.8863636363636364),\n",
       " '충고': NounScore(frequency=22, score=0.9856053333333333, known_r_ratio=0.6923076923076923),\n",
       " '그맘': NounScore(frequency=10, score=0.6695443333333332, known_r_ratio=1.0),\n",
       " '평온': NounScore(frequency=13, score=0.9163614999999999, known_r_ratio=0.46153846153846156),\n",
       " '우산': NounScore(frequency=92, score=0.626069304347826, known_r_ratio=0.8846153846153846),\n",
       " '함성': NounScore(frequency=99, score=0.5401437555555556, known_r_ratio=0.7258064516129032),\n",
       " '열번': NounScore(frequency=12, score=0.669816, known_r_ratio=0.6),\n",
       " '뒷목': NounScore(frequency=5, score=0.8014006, known_r_ratio=1.0),\n",
       " '통금': NounScore(frequency=7, score=0.999867, known_r_ratio=0.2),\n",
       " '유연': NounScore(frequency=5, score=0.9972103999999999, known_r_ratio=1.0),\n",
       " '끼리': NounScore(frequency=60, score=0.951425, known_r_ratio=0.047619047619047616),\n",
       " '수정': NounScore(frequency=5, score=0.999532, known_r_ratio=1.0),\n",
       " '성냥': NounScore(frequency=5, score=1.0, known_r_ratio=0.6666666666666666),\n",
       " '꼭꼭': NounScore(frequency=112, score=0.505755, known_r_ratio=0.125),\n",
       " '만족': NounScore(frequency=136, score=0.9816278452380952, known_r_ratio=0.7850467289719626),\n",
       " '요정': NounScore(frequency=9, score=0.505233, known_r_ratio=0.6666666666666666),\n",
       " '인형': NounScore(frequency=98, score=0.9170965074626866, known_r_ratio=0.8589743589743589),\n",
       " '손끝': NounScore(frequency=215, score=0.9181123299492386, known_r_ratio=0.9899497487437185),\n",
       " '산산': NounScore(frequency=23, score=0.9991850000000001, known_r_ratio=0.3333333333333333),\n",
       " '시험': NounScore(frequency=96, score=0.9541268787878788, known_r_ratio=0.8148148148148148),\n",
       " '온통': NounScore(frequency=300, score=0.504724, known_r_ratio=0.5),\n",
       " '사이': NounScore(frequency=1041, score=0.9739010294117647, known_r_ratio=0.9090909090909091),\n",
       " '최대': NounScore(frequency=17, score=0.9999822666666667, known_r_ratio=1.0),\n",
       " '퍼즐': NounScore(frequency=66, score=0.9522524117647059, known_r_ratio=0.8717948717948718),\n",
       " '태초': NounScore(frequency=11, score=0.9998327777777778, known_r_ratio=1.0),\n",
       " '어느': NounScore(frequency=1220, score=0.501138, known_r_ratio=0.005208333333333333),\n",
       " '시기': NounScore(frequency=27, score=0.9779978571428571, known_r_ratio=0.875),\n",
       " '정성': NounScore(frequency=19, score=0.7520830833333333, known_r_ratio=0.75),\n",
       " '담담': NounScore(frequency=38, score=0.9111787916666668, known_r_ratio=0.6666666666666666),\n",
       " '쇼윈': NounScore(frequency=17, score=0.505755, known_r_ratio=0.23529411764705882),\n",
       " '버블': NounScore(frequency=9, score=0.598157, known_r_ratio=1.0),\n",
       " '발칙': NounScore(frequency=11, score=0.9993026, known_r_ratio=0.9090909090909091),\n",
       " '새삼': NounScore(frequency=15, score=1.0, known_r_ratio=0.7272727272727273),\n",
       " '깜찍': NounScore(frequency=14, score=0.9965852857142857, known_r_ratio=1.0),\n",
       " '신발': NounScore(frequency=46, score=0.5423968000000001, known_r_ratio=0.8571428571428571),\n",
       " '수준': NounScore(frequency=16, score=0.9996766923076923, known_r_ratio=1.0),\n",
       " '한둘': NounScore(frequency=8, score=0.9995152857142857, known_r_ratio=1.0),\n",
       " '취미': NounScore(frequency=24, score=0.5323995454545455, known_r_ratio=0.9166666666666666),\n",
       " '단짝': NounScore(frequency=10, score=0.6786936, known_r_ratio=1.0),\n",
       " '맘들': NounScore(frequency=10, score=0.9287557142857145, known_r_ratio=1.0),\n",
       " '설마': NounScore(frequency=59, score=0.6534833333333333, known_r_ratio=1.0),\n",
       " '정직': NounScore(frequency=11, score=0.9984386666666667, known_r_ratio=0.9),\n",
       " '제주': NounScore(frequency=10, score=0.99961, known_r_ratio=0.25),\n",
       " '니옆': NounScore(frequency=15, score=0.99972, known_r_ratio=0.7333333333333333),\n",
       " '지진': NounScore(frequency=13, score=0.9998835714285714, known_r_ratio=0.7),\n",
       " '분주': NounScore(frequency=14, score=0.9972212727272727, known_r_ratio=0.8461538461538461),\n",
       " '방송': NounScore(frequency=8, score=0.7522245, known_r_ratio=0.4),\n",
       " '내손': NounScore(frequency=66, score=0.6187090681818183, known_r_ratio=0.8979591836734694),\n",
       " '집앞': NounScore(frequency=30, score=0.9447175555555555, known_r_ratio=0.9473684210526315),\n",
       " '이불': NounScore(frequency=76, score=0.6021924444444444, known_r_ratio=0.8181818181818182),\n",
       " '내방': NounScore(frequency=24, score=0.9996924000000001, known_r_ratio=1.0),\n",
       " '치사': NounScore(frequency=22, score=0.9907567058823529, known_r_ratio=1.0),\n",
       " '여지': NounScore(frequency=26, score=1.0, known_r_ratio=0.047619047619047616),\n",
       " '아이': NounScore(frequency=897, score=0.9411493613861386, known_r_ratio=0.47086247086247085),\n",
       " 'Ra': NounScore(frequency=620, score=0.999867, known_r_ratio=0.002352941176470588),\n",
       " '타오': NounScore(frequency=125, score=0.999605, known_r_ratio=0.13793103448275862),\n",
       " '매사': NounScore(frequency=6, score=0.9996970000000001, known_r_ratio=1.0),\n",
       " '변덕': NounScore(frequency=29, score=0.8760125, known_r_ratio=0.4444444444444444),\n",
       " '밤길': NounScore(frequency=13, score=0.8646260909090909, known_r_ratio=1.0),\n",
       " '분들': NounScore(frequency=15, score=0.9170465, known_r_ratio=1.0),\n",
       " '꽃가': NounScore(frequency=10, score=1.0, known_r_ratio=0.4444444444444444),\n",
       " '주입': NounScore(frequency=5, score=0.9902179999999999, known_r_ratio=1.0),\n",
       " '평가': NounScore(frequency=15, score=0.9911639999999999, known_r_ratio=0.8461538461538461),\n",
       " '휴식': NounScore(frequency=24, score=0.8677634, known_r_ratio=0.8333333333333334),\n",
       " '꾸밈': NounScore(frequency=21, score=1.0, known_r_ratio=0.9375),\n",
       " '그쪽': NounScore(frequency=8, score=0.6785286, known_r_ratio=1.0),\n",
       " '반반': NounScore(frequency=12, score=0.9919581111111112, known_r_ratio=0.8181818181818182),\n",
       " '커플': NounScore(frequency=55, score=0.6822353636363636, known_r_ratio=0.3548387096774194),\n",
       " '웃게': NounScore(frequency=287, score=0.9970046363636363, known_r_ratio=0.6470588235294118),\n",
       " '가늠': NounScore(frequency=11, score=0.9966025555555557, known_r_ratio=1.0),\n",
       " '부인': NounScore(frequency=7, score=1.0, known_r_ratio=0.5),\n",
       " '강요': NounScore(frequency=50, score=0.9129786896551725, known_r_ratio=0.6590909090909091),\n",
       " '전날': NounScore(frequency=8, score=1.0, known_r_ratio=1.0),\n",
       " '기침': NounScore(frequency=12, score=0.9993605714285714, known_r_ratio=1.0),\n",
       " '신혼': NounScore(frequency=7, score=0.999867, known_r_ratio=0.2),\n",
       " '따뜻': NounScore(frequency=594, score=0.9961858476190476, known_r_ratio=0.8943781942078365),\n",
       " '뻐끔': NounScore(frequency=9, score=0.995316, known_r_ratio=0.5),\n",
       " '습관': NounScore(frequency=173, score=0.90356175, known_r_ratio=0.85),\n",
       " '짓들': NounScore(frequency=6, score=0.9991953333333333, known_r_ratio=1.0),\n",
       " '루뚜': NounScore(frequency=54, score=1.0, known_r_ratio=0.09523809523809523),\n",
       " '신바': NounScore(frequency=21, score=0.706968, known_r_ratio=0.8571428571428571),\n",
       " '단점': NounScore(frequency=16, score=0.7028473, known_r_ratio=1.0),\n",
       " '열차': NounScore(frequency=8, score=0.99924625, known_r_ratio=0.6666666666666666),\n",
       " '하품': NounScore(frequency=20, score=0.9330654666666666, known_r_ratio=0.9375),\n",
       " '지각': NounScore(frequency=17, score=0.9159111666666666, known_r_ratio=0.9230769230769231),\n",
       " '노래': NounScore(frequency=1556, score=0.8620371609058405, known_r_ratio=0.8517766497461929),\n",
       " '이분': NounScore(frequency=10, score=0.9998669999999998, known_r_ratio=0.8333333333333334),\n",
       " '영역': NounScore(frequency=5, score=0.875971, known_r_ratio=0.8),\n",
       " '느릿': NounScore(frequency=10, score=0.996513, known_r_ratio=0.1),\n",
       " '친근': NounScore(frequency=6, score=0.9970855, known_r_ratio=0.6666666666666666),\n",
       " '두배': NounScore(frequency=12, score=0.8178215454545456, known_r_ratio=1.0),\n",
       " '별수': NounScore(frequency=12, score=1.0, known_r_ratio=0.6666666666666666),\n",
       " '충분': NounScore(frequency=312, score=0.9767407142857143, known_r_ratio=0.5967213114754099),\n",
       " '전투': NounScore(frequency=6, score=0.999605, known_r_ratio=0.5),\n",
       " '사서': NounScore(frequency=6, score=0.989263, known_r_ratio=0.5),\n",
       " '신부': NounScore(frequency=22, score=0.8634460833333334, known_r_ratio=0.8571428571428571),\n",
       " '갈등': NounScore(frequency=10, score=0.8342556666666666, known_r_ratio=1.0),\n",
       " '쓸데': NounScore(frequency=119, score=0.9953989722222221, known_r_ratio=1.0),\n",
       " '두뺨': NounScore(frequency=5, score=0.9997942500000001, known_r_ratio=0.8),\n",
       " '권위': NounScore(frequency=7, score=0.999867, known_r_ratio=0.5),\n",
       " '남남': NounScore(frequency=16, score=0.9996174545454545, known_r_ratio=0.8461538461538461),\n",
       " '도전': NounScore(frequency=51, score=0.7130509999999999, known_r_ratio=0.9333333333333333),\n",
       " '죄인': NounScore(frequency=37, score=0.5575057037037038, known_r_ratio=0.8709677419354839),\n",
       " '메뉴': NounScore(frequency=6, score=0.9003808000000001, known_r_ratio=0.8333333333333334),\n",
       " '피땀': NounScore(frequency=5, score=0.9998165000000001, known_r_ratio=1.0),\n",
       " '창창': NounScore(frequency=9, score=1.0, known_r_ratio=0.1111111111111111),\n",
       " '보지': NounScore(frequency=520, score=1.0, known_r_ratio=0.509090909090909),\n",
       " '악수': NounScore(frequency=9, score=0.998011, known_r_ratio=1.0),\n",
       " '질주': NounScore(frequency=25, score=0.993095375, known_r_ratio=0.8888888888888888),\n",
       " '똑똑': NounScore(frequency=69, score=0.9808112666666666, known_r_ratio=0.30612244897959184),\n",
       " 'LA': NounScore(frequency=335, score=0.99883, known_r_ratio=0.01639344262295082),\n",
       " '남들': NounScore(frequency=255, score=0.9844590812182741, known_r_ratio=0.9704433497536946),\n",
       " '위태': NounScore(frequency=63, score=0.9998006808510638, known_r_ratio=0.8545454545454545),\n",
       " '그대': NounScore(frequency=11953, score=0.7873164718488923, known_r_ratio=0.9170552964690206),\n",
       " '들수': NounScore(frequency=12, score=0.9989336, known_r_ratio=0.45454545454545453),\n",
       " '아빠': NounScore(frequency=130, score=0.6138284807692309, known_r_ratio=0.9811320754716981),\n",
       " '부탁': NounScore(frequency=309, score=0.9224206666666666, known_r_ratio=0.8673469387755102),\n",
       " '우리': NounScore(frequency=9468, score=0.6910674419427468, known_r_ratio=0.7910941475826972),\n",
       " '광주': NounScore(frequency=8, score=0.9991537500000001, known_r_ratio=1.0),\n",
       " '추락': NounScore(frequency=24, score=0.9106594736842104, known_r_ratio=0.9047619047619048),\n",
       " '치즈': NounScore(frequency=7, score=0.887134, known_r_ratio=1.0),\n",
       " '듣고': NounScore(frequency=463, score=0.6784146666666667, known_r_ratio=0.12),\n",
       " '심쿵': NounScore(frequency=27, score=0.9960189285714286, known_r_ratio=0.6666666666666666),\n",
       " '색칠': NounScore(frequency=26, score=0.8858730555555555, known_r_ratio=0.75),\n",
       " '약간': NounScore(frequency=40, score=0.8307723684210526, known_r_ratio=0.95),\n",
       " '흥분': NounScore(frequency=35, score=0.8280339999999998, known_r_ratio=0.8571428571428571),\n",
       " '기특': NounScore(frequency=6, score=0.995838, known_r_ratio=1.0),\n",
       " '등골': NounScore(frequency=8, score=0.504724, known_r_ratio=0.14285714285714285),\n",
       " '시련': NounScore(frequency=149, score=0.6198198139534883, known_r_ratio=0.7962962962962963),\n",
       " '중독': NounScore(frequency=114, score=0.9208287, known_r_ratio=0.5333333333333333),\n",
       " '별이': NounScore(frequency=320, score=1.0, known_r_ratio=0.42857142857142855),\n",
       " '상사': NounScore(frequency=8, score=0.623057, known_r_ratio=0.625),\n",
       " '안부': NounScore(frequency=41, score=0.8541325714285714, known_r_ratio=0.84),\n",
       " '청순': NounScore(frequency=15, score=0.9973977857142857, known_r_ratio=1.0),\n",
       " '변치': NounScore(frequency=221, score=0.7356165714285714, known_r_ratio=0.175),\n",
       " '처량': NounScore(frequency=10, score=0.997222125, known_r_ratio=0.8),\n",
       " '하면': NounScore(frequency=597, score=1.0, known_r_ratio=0.7142857142857143),\n",
       " '두사': NounScore(frequency=11, score=0.706968, known_r_ratio=0.7),\n",
       " '왕자': NounScore(frequency=100, score=0.746552875, known_r_ratio=0.3076923076923077),\n",
       " '무능': NounScore(frequency=7, score=1.0, known_r_ratio=0.3333333333333333),\n",
       " '안녕': NounScore(frequency=498, score=0.912220040462428, known_r_ratio=0.9351351351351351),\n",
       " '의지': NounScore(frequency=66, score=0.9635387619047622, known_r_ratio=0.875),\n",
       " '한심': NounScore(frequency=124, score=0.9966662743362834, known_r_ratio=0.9741379310344828),\n",
       " '멀게': NounScore(frequency=63, score=1.0, known_r_ratio=1.0),\n",
       " '새들': NounScore(frequency=30, score=0.8350818888888889, known_r_ratio=1.0),\n",
       " '커다': NounScore(frequency=120, score=0.537591037735849, known_r_ratio=0.8983050847457628),\n",
       " '감상': NounScore(frequency=14, score=0.9252480999999999, known_r_ratio=0.7142857142857143),\n",
       " '준비': NounScore(frequency=981, score=0.8755857547495681, known_r_ratio=0.7329113924050633),\n",
       " '향기': NounScore(frequency=951, score=0.9786883008849556, known_r_ratio=0.849624060150376),\n",
       " '후라': NounScore(frequency=7, score=0.558087, known_r_ratio=0.5),\n",
       " '고민': NounScore(frequency=678, score=0.7608822679900743, known_r_ratio=0.8108651911468813),\n",
       " '미끼': NounScore(frequency=7, score=0.9996433333333333, known_r_ratio=1.0),\n",
       " '함부': NounScore(frequency=65, score=0.9988659999999999, known_r_ratio=1.0),\n",
       " '이번': NounScore(frequency=244, score=0.9861398510638296, known_r_ratio=0.5402298850574713),\n",
       " '연구': NounScore(frequency=7, score=0.9962804000000001, known_r_ratio=0.7142857142857143),\n",
       " '낚아': NounScore(frequency=15, score=1.0, known_r_ratio=0.16666666666666666),\n",
       " '패기': NounScore(frequency=12, score=1.0, known_r_ratio=1.0),\n",
       " '차오': NounScore(frequency=125, score=0.999605, known_r_ratio=0.12280701754385964),\n",
       " '의문': NounScore(frequency=12, score=0.8348636666666667, known_r_ratio=0.5),\n",
       " '센스': NounScore(frequency=38, score=0.8962085833333333, known_r_ratio=0.8),\n",
       " '조심': NounScore(frequency=372, score=0.9979651333333331, known_r_ratio=0.5454545454545454),\n",
       " '허구': NounScore(frequency=7, score=0.9178459999999999, known_r_ratio=1.0),\n",
       " '고뇌': NounScore(frequency=12, score=0.7540677142857143, known_r_ratio=1.0),\n",
       " '그릇': NounScore(frequency=12, score=0.7702764285714286, known_r_ratio=0.875),\n",
       " '세대': NounScore(frequency=18, score=0.9783203333333333, known_r_ratio=1.0),\n",
       " '쾌락': NounScore(frequency=11, score=0.834833111111111, known_r_ratio=0.9),\n",
       " '뻘쭘': NounScore(frequency=6, score=0.9969003333333334, known_r_ratio=1.0),\n",
       " '발목': NounScore(frequency=18, score=0.6610829166666666, known_r_ratio=1.0),\n",
       " '삶속': NounScore(frequency=9, score=0.9997171111111113, known_r_ratio=1.0),\n",
       " '최후': NounScore(frequency=5, score=0.9998014999999999, known_r_ratio=0.8),\n",
       " '목청': NounScore(frequency=23, score=0.999185, known_r_ratio=0.47058823529411764),\n",
       " '함정': NounScore(frequency=32, score=0.8469997647058825, known_r_ratio=0.8947368421052632),\n",
       " '내말': NounScore(frequency=46, score=0.801827111111111, known_r_ratio=0.9473684210526315),\n",
       " '몸뚱': NounScore(frequency=6, score=0.9995925, known_r_ratio=0.6666666666666666),\n",
       " '젤리': NounScore(frequency=23, score=0.9999064, known_r_ratio=1.0),\n",
       " '아웃': NounScore(frequency=34, score=0.9997265, known_r_ratio=0.17391304347826086),\n",
       " '이해': NounScore(frequency=740, score=0.9555722436363635, known_r_ratio=0.4972875226039783),\n",
       " '색깔': NounScore(frequency=83, score=0.6763188196721311, known_r_ratio=0.9838709677419355),\n",
       " '순수': NounScore(frequency=190, score=0.9966553987341771, known_r_ratio=0.8404255319148937),\n",
       " '하와': NounScore(frequency=14, score=0.9677126923076924, known_r_ratio=1.0),\n",
       " '신선': NounScore(frequency=22, score=0.9983244000000001, known_r_ratio=0.9090909090909091),\n",
       " '알것': NounScore(frequency=25, score=0.9514250000000001, known_r_ratio=0.29411764705882354),\n",
       " '쪽지': NounScore(frequency=11, score=0.99972, known_r_ratio=1.0),\n",
       " '허전': NounScore(frequency=147, score=0.9940557142857142, known_r_ratio=0.6901408450704225),\n",
       " '불금': NounScore(frequency=7, score=1.0, known_r_ratio=1.0),\n",
       " '하기': NounScore(frequency=227, score=1.0, known_r_ratio=0.02040816326530612),\n",
       " '저격': NounScore(frequency=25, score=0.9707863999999999, known_r_ratio=1.0),\n",
       " '불씨': NounScore(frequency=38, score=0.8974126875, known_r_ratio=1.0),\n",
       " '박치': NounScore(frequency=6, score=0.957621, known_r_ratio=0.5),\n",
       " '뜬금': NounScore(frequency=11, score=1.0, known_r_ratio=0.8181818181818182),\n",
       " '행동': NounScore(frequency=196, score=0.7614328785046728, known_r_ratio=0.8629032258064516),\n",
       " '단숨': NounScore(frequency=34, score=0.9997282352941177, known_r_ratio=1.0),\n",
       " '그길': NounScore(frequency=12, score=0.9090358181818181, known_r_ratio=1.0),\n",
       " '경험': NounScore(frequency=54, score=0.8966933703703702, known_r_ratio=0.675),\n",
       " '독이': NounScore(frequency=36, score=1.0, known_r_ratio=1.0),\n",
       " '가장': NounScore(frequency=475, score=0.996344, known_r_ratio=0.6),\n",
       " '무지': NounScore(frequency=137, score=0.992272, known_r_ratio=0.03669724770642202),\n",
       " '미묘': NounScore(frequency=17, score=1.0, known_r_ratio=0.9285714285714286),\n",
       " '연주': NounScore(frequency=15, score=0.933737125, known_r_ratio=0.5714285714285714),\n",
       " '내안': NounScore(frequency=184, score=0.9970053370165749, known_r_ratio=0.9836956521739131),\n",
       " '대면': NounScore(frequency=13, score=0.9968773333333333, known_r_ratio=1.0),\n",
       " '잠시': NounScore(frequency=896, score=0.8359329809885931, known_r_ratio=0.8566775244299675),\n",
       " '베일': NounScore(frequency=44, score=0.8895895, known_r_ratio=0.7586206896551724),\n",
       " '부산': NounScore(frequency=13, score=0.9997280000000001, known_r_ratio=0.8571428571428571),\n",
       " '땅끝': NounScore(frequency=9, score=0.62931625, known_r_ratio=1.0),\n",
       " '압박': NounScore(frequency=5, score=0.9996349999999999, known_r_ratio=1.0),\n",
       " '간단': NounScore(frequency=57, score=0.9978212272727273, known_r_ratio=0.8301886792452831),\n",
       " '보통': NounScore(frequency=20, score=0.999185, known_r_ratio=0.6666666666666666),\n",
       " '대신': NounScore(frequency=353, score=0.9964054210526315, known_r_ratio=0.3931034482758621),\n",
       " '담백': NounScore(frequency=5, score=0.99912825, known_r_ratio=0.8),\n",
       " '회상': NounScore(frequency=20, score=0.8446797333333333, known_r_ratio=0.8333333333333334),\n",
       " '선택': NounScore(frequency=303, score=0.6662476418604651, known_r_ratio=0.8531746031746031),\n",
       " '개성': NounScore(frequency=28, score=0.5975583, known_r_ratio=1.0),\n",
       " '포로': NounScore(frequency=18, score=0.8554400000000001, known_r_ratio=0.8571428571428571),\n",
       " '졸업': NounScore(frequency=17, score=0.8335063333333333, known_r_ratio=0.6923076923076923),\n",
       " '장소': NounScore(frequency=19, score=0.9899601428571428, known_r_ratio=0.875),\n",
       " '공주': NounScore(frequency=66, score=0.7556844500000001, known_r_ratio=0.46511627906976744),\n",
       " '된장': NounScore(frequency=7, score=0.99972, known_r_ratio=0.4),\n",
       " '온대': NounScore(frequency=24, score=0.505755, known_r_ratio=1.0),\n",
       " '멋쟁': NounScore(frequency=26, score=0.9992093636363637, known_r_ratio=0.88),\n",
       " '야릇': NounScore(frequency=32, score=0.9979937407407408, known_r_ratio=0.9642857142857143),\n",
       " '서두': NounScore(frequency=101, score=0.999605, known_r_ratio=0.12121212121212122),\n",
       " '방황': NounScore(frequency=148, score=0.8179743523809523, known_r_ratio=0.8467741935483871),\n",
       " '조명': NounScore(frequency=156, score=0.7311993536585366, known_r_ratio=0.7884615384615384),\n",
       " '허락': NounScore(frequency=275, score=0.9196046323529413, known_r_ratio=0.5714285714285714),\n",
       " '높다': NounScore(frequency=8, score=0.548239, known_r_ratio=1.0),\n",
       " '도장': NounScore(frequency=5, score=0.7522245, known_r_ratio=1.0),\n",
       " '그애': NounScore(frequency=43, score=0.6135435714285714, known_r_ratio=0.7241379310344828),\n",
       " '없대': NounScore(frequency=34, score=0.505755, known_r_ratio=1.0),\n",
       " '정열': NounScore(frequency=7, score=0.8342463333333333, known_r_ratio=0.5),\n",
       " '인파': NounScore(frequency=7, score=0.99972, known_r_ratio=0.5),\n",
       " '처절': NounScore(frequency=7, score=0.97793575, known_r_ratio=0.5714285714285714),\n",
       " '끄떡': NounScore(frequency=8, score=0.8016045999999999, known_r_ratio=0.7142857142857143),\n",
       " '섬광': NounScore(frequency=8, score=0.8757735, known_r_ratio=1.0),\n",
       " '두눈': NounScore(frequency=122, score=0.7694596236559139, known_r_ratio=0.9207920792079208),\n",
       " '개인': NounScore(frequency=23, score=0.800075, known_r_ratio=0.625),\n",
       " '불길': NounScore(frequency=19, score=0.9665798666666667, known_r_ratio=1.0),\n",
       " '한참': NounScore(frequency=216, score=0.5571977045454545, known_r_ratio=0.8859060402684564),\n",
       " '초심': NounScore(frequency=7, score=0.8348163333333334, known_r_ratio=1.0),\n",
       " '솔깃': NounScore(frequency=8, score=0.9984386666666666, known_r_ratio=1.0),\n",
       " '세상': NounScore(frequency=5266, score=0.6852339149187592, known_r_ratio=0.9327638467897492),\n",
       " '보물': NounScore(frequency=27, score=0.752260125, known_r_ratio=0.6666666666666666),\n",
       " '손뼉': NounScore(frequency=32, score=0.6576284642857143, known_r_ratio=1.0),\n",
       " '그들': NounScore(frequency=190, score=0.9052494580152672, known_r_ratio=0.8972602739726028),\n",
       " '그안': NounScore(frequency=12, score=0.999729, known_r_ratio=1.0),\n",
       " '확실': NounScore(frequency=191, score=0.9949183170731708, known_r_ratio=0.6542553191489362),\n",
       " '바깥': NounScore(frequency=10, score=0.999608375, known_r_ratio=0.8888888888888888),\n",
       " '부담': NounScore(frequency=144, score=0.8917835396825398, known_r_ratio=0.6363636363636364),\n",
       " '입속': NounScore(frequency=8, score=0.929108, known_r_ratio=1.0),\n",
       " '나사': NounScore(frequency=6, score=0.9980005000000001, known_r_ratio=1.0),\n",
       " '우주': NounScore(frequency=192, score=0.905425, known_r_ratio=0.956140350877193),\n",
       " '살길': NounScore(frequency=13, score=0.951425, known_r_ratio=0.2),\n",
       " '정글': NounScore(frequency=26, score=0.9998150000000001, known_r_ratio=0.6),\n",
       " '구분': NounScore(frequency=14, score=0.998716375, known_r_ratio=1.0),\n",
       " '꼬여': NounScore(frequency=45, score=0.5433677777777778, known_r_ratio=0.5625),\n",
       " '발병': NounScore(frequency=5, score=0.5286575, known_r_ratio=1.0),\n",
       " '쟁취': NounScore(frequency=5, score=0.989263, known_r_ratio=0.4),\n",
       " '유명': NounScore(frequency=25, score=0.996339894736842, known_r_ratio=0.8260869565217391),\n",
       " '클럽': NounScore(frequency=38, score=0.8496620357142859, known_r_ratio=0.9032258064516129),\n",
       " '어쩜': NounScore(frequency=446, score=1.0, known_r_ratio=0.14285714285714285),\n",
       " '말따': NounScore(frequency=5, score=0.957621, known_r_ratio=0.2),\n",
       " '기립': NounScore(frequency=5, score=0.9959145, known_r_ratio=0.6666666666666666),\n",
       " '사뿐': NounScore(frequency=72, score=0.9988376666666667, known_r_ratio=0.061224489795918366),\n",
       " '안심': NounScore(frequency=19, score=0.9964375882352939, known_r_ratio=0.9444444444444444),\n",
       " '도레': NounScore(frequency=11, score=0.983612, known_r_ratio=0.2222222222222222),\n",
       " '주려': NounScore(frequency=39, score=0.9719216999999999, known_r_ratio=0.7692307692307693),\n",
       " '풀잎': NounScore(frequency=10, score=0.99972, known_r_ratio=0.125),\n",
       " '짚신': NounScore(frequency=6, score=0.5874418333333332, known_r_ratio=1.0),\n",
       " '스무': NounScore(frequency=26, score=0.995316, known_r_ratio=0.05555555555555555),\n",
       " '앞뒤': NounScore(frequency=44, score=0.9817236666666668, known_r_ratio=1.0),\n",
       " '곤란': NounScore(frequency=48, score=0.9957108888888888, known_r_ratio=0.9574468085106383),\n",
       " '말듯': NounScore(frequency=89, score=0.9985614166666666, known_r_ratio=1.0),\n",
       " '능력': NounScore(frequency=31, score=0.5481518400000001, known_r_ratio=0.9259259259259259),\n",
       " '다채': NounScore(frequency=5, score=1.0, known_r_ratio=1.0),\n",
       " '이맘': NounScore(frequency=31, score=0.504724, known_r_ratio=0.45454545454545453),\n",
       " '굉장': NounScore(frequency=36, score=0.9970012380952381, known_r_ratio=0.5833333333333334),\n",
       " '옛날': NounScore(frequency=99, score=0.9851445000000001, known_r_ratio=0.918918918918919),\n",
       " '방패': NounScore(frequency=16, score=0.9005534, known_r_ratio=0.9090909090909091),\n",
       " '판단': NounScore(frequency=44, score=0.8235412258064516, known_r_ratio=0.8378378378378378),\n",
       " '오만': NounScore(frequency=13, score=0.7753663333333334, known_r_ratio=0.75),\n",
       " '진실': NounScore(frequency=353, score=0.708141, known_r_ratio=0.8594771241830066),\n",
       " '팔지': NounScore(frequency=31, score=1.0, known_r_ratio=0.75),\n",
       " '니앞': NounScore(frequency=13, score=0.9997375384615383, known_r_ratio=1.0),\n",
       " '두잔': NounScore(frequency=9, score=0.670459, known_r_ratio=1.0),\n",
       " '딴짓': NounScore(frequency=15, score=0.715928125, known_r_ratio=0.8),\n",
       " '카드': NounScore(frequency=19, score=0.9646853076923078, known_r_ratio=1.0),\n",
       " '앓고': NounScore(frequency=26, score=0.760713, known_r_ratio=1.0),\n",
       " '한입': NounScore(frequency=13, score=0.9721242857142857, known_r_ratio=1.0),\n",
       " '예술': NounScore(frequency=37, score=0.9169026206896551, known_r_ratio=0.90625),\n",
       " '당시': NounScore(frequency=9, score=0.9997935, known_r_ratio=1.0),\n",
       " '한시': NounScore(frequency=37, score=0.67319232, known_r_ratio=0.78125),\n",
       " '점수': NounScore(frequency=13, score=0.6885306666666667, known_r_ratio=1.0),\n",
       " '고여': NounScore(frequency=68, score=0.5492451428571429, known_r_ratio=0.6666666666666666),\n",
       " '창문': NounScore(frequency=115, score=0.648237768115942, known_r_ratio=0.9078947368421053),\n",
       " '반칙': NounScore(frequency=47, score=0.9716431666666667, known_r_ratio=0.6923076923076923),\n",
       " '댓가': NounScore(frequency=13, score=0.560576, known_r_ratio=1.0),\n",
       " '한쪽': NounScore(frequency=39, score=0.758949, known_r_ratio=0.7619047619047619),\n",
       " '파파': NounScore(frequency=14, score=0.505755, known_r_ratio=0.3333333333333333),\n",
       " '표류': NounScore(frequency=11, score=0.9933453750000001, known_r_ratio=0.8888888888888888),\n",
       " '남산': NounScore(frequency=9, score=0.99972, known_r_ratio=0.5),\n",
       " '램프': NounScore(frequency=6, score=0.9989246666666668, known_r_ratio=0.75),\n",
       " '은은': NounScore(frequency=32, score=0.9980240333333333, known_r_ratio=0.9375),\n",
       " '져야': NounScore(frequency=6, score=1.0, known_r_ratio=0.16666666666666666),\n",
       " '깡통': NounScore(frequency=7, score=0.99986325, known_r_ratio=1.0),\n",
       " '울음': NounScore(frequency=32, score=0.951425, known_r_ratio=0.07142857142857142),\n",
       " '사회': NounScore(frequency=28, score=0.531468590909091, known_r_ratio=0.9565217391304348),\n",
       " '발뺌': NounScore(frequency=6, score=0.9990631999999999, known_r_ratio=0.8333333333333334),\n",
       " '무참': NounScore(frequency=12, score=0.996513, known_r_ratio=0.08333333333333333),\n",
       " '구걸': NounScore(frequency=5, score=0.9897252, known_r_ratio=1.0),\n",
       " '지하': NounScore(frequency=19, score=0.999686, known_r_ratio=0.3333333333333333),\n",
       " '신비': NounScore(frequency=162, score=0.9990970145985404, known_r_ratio=0.8838709677419355),\n",
       " '비바': NounScore(frequency=51, score=0.706968, known_r_ratio=0.46808510638297873),\n",
       " '가뿐': NounScore(frequency=15, score=0.9988327142857143, known_r_ratio=0.5833333333333334),\n",
       " '할말': NounScore(frequency=61, score=0.7342934727272726, known_r_ratio=1.0),\n",
       " '반응': NounScore(frequency=112, score=0.919994125, known_r_ratio=0.9696969696969697),\n",
       " '전쟁': NounScore(frequency=73, score=0.7092738499999999, known_r_ratio=0.7692307692307693),\n",
       " '마음': NounScore(frequency=6000, score=0.880838604166667, known_r_ratio=0.41739130434782606),\n",
       " '일기': NounScore(frequency=54, score=1.0, known_r_ratio=0.2413793103448276),\n",
       " '책장': NounScore(frequency=11, score=0.62850975, known_r_ratio=0.8),\n",
       " '쿵짝': NounScore(frequency=8, score=0.9993208333333333, known_r_ratio=1.0),\n",
       " '창조': NounScore(frequency=12, score=1.0, known_r_ratio=0.1111111111111111),\n",
       " '한번': NounScore(frequency=2097, score=0.7882660199733689, known_r_ratio=0.7671092951991828),\n",
       " '신지': NounScore(frequency=13, score=1.0, known_r_ratio=0.25),\n",
       " '으쓱': NounScore(frequency=10, score=0.9976579999999999, known_r_ratio=0.8),\n",
       " '의미': NounScore(frequency=435, score=0.8525357210526315, known_r_ratio=0.892018779342723),\n",
       " '꾸물': NounScore(frequency=12, score=1.0, known_r_ratio=0.1111111111111111),\n",
       " '간사': NounScore(frequency=5, score=0.9844366666666667, known_r_ratio=0.6),\n",
       " '쫄깃': NounScore(frequency=15, score=0.9979382307692307, known_r_ratio=0.9285714285714286),\n",
       " '한통': NounScore(frequency=13, score=0.6489943333333333, known_r_ratio=0.8571428571428571),\n",
       " '소홀': NounScore(frequency=10, score=0.9924261999999999, known_r_ratio=0.625),\n",
       " '될수': NounScore(frequency=24, score=0.9748238333333333, known_r_ratio=0.5),\n",
       " '때쯤': NounScore(frequency=59, score=0.9997963636363636, known_r_ratio=0.7857142857142857),\n",
       " '상쾌': NounScore(frequency=39, score=0.9114063823529411, known_r_ratio=0.918918918918919),\n",
       " '미지': NounScore(frequency=51, score=0.8506776153846153, known_r_ratio=0.5777777777777777),\n",
       " '희생': NounScore(frequency=17, score=0.6847663076923077, known_r_ratio=1.0),\n",
       " '신이': NounScore(frequency=68, score=0.6890499999999999, known_r_ratio=0.10714285714285714),\n",
       " '제스': NounScore(frequency=10, score=1.0, known_r_ratio=0.3333333333333333),\n",
       " '신물': NounScore(frequency=5, score=0.999674, known_r_ratio=1.0),\n",
       " '하고': NounScore(frequency=1489, score=0.61121745, known_r_ratio=0.13986013986013987),\n",
       " '방심': NounScore(frequency=33, score=0.8225013684210526, known_r_ratio=0.6333333333333333),\n",
       " '눈물': NounScore(frequency=4270, score=0.7857946257689681, known_r_ratio=0.9360204734484965),\n",
       " '빵빵': NounScore(frequency=19, score=0.998829, known_r_ratio=0.3333333333333333),\n",
       " '수수': NounScore(frequency=30, score=0.7807964444444445, known_r_ratio=0.375),\n",
       " '단비': NounScore(frequency=20, score=0.8084725882352941, known_r_ratio=1.0),\n",
       " '쫑긋': NounScore(frequency=6, score=0.9972505, known_r_ratio=1.0),\n",
       " '타입': NounScore(frequency=23, score=0.9175593333333333, known_r_ratio=0.8571428571428571),\n",
       " '타지': NounScore(frequency=21, score=0.99883, known_r_ratio=1.0),\n",
       " '다정': NounScore(frequency=117, score=0.9957172978723404, known_r_ratio=0.8245614035087719),\n",
       " '멀쩡': NounScore(frequency=51, score=0.9897735609756096, known_r_ratio=0.8541666666666666),\n",
       " '뛰게': NounScore(frequency=89, score=0.9907762499999999, known_r_ratio=1.0),\n",
       " '쉴수': NounScore(frequency=27, score=0.9543415454545454, known_r_ratio=0.7857142857142857),\n",
       " '간절': NounScore(frequency=342, score=0.9962926589595376, known_r_ratio=0.5058479532163743),\n",
       " '우연': NounScore(frequency=353, score=0.7885941481481481, known_r_ratio=0.32238805970149254),\n",
       " '천년': NounScore(frequency=34, score=0.956399652173913, known_r_ratio=0.7666666666666667),\n",
       " '강원': NounScore(frequency=9, score=0.945083888888889, known_r_ratio=1.0),\n",
       " '내야': NounScore(frequency=9, score=0.9976579999999999, known_r_ratio=0.5),\n",
       " '빨리': NounScore(frequency=766, score=0.765629425, known_r_ratio=0.39603960396039606),\n",
       " '독특': NounScore(frequency=7, score=0.9990037142857143, known_r_ratio=1.0),\n",
       " '당당': NounScore(frequency=231, score=0.9966372857142858, known_r_ratio=0.4537037037037037),\n",
       " '들판': NounScore(frequency=15, score=0.5872233333333333, known_r_ratio=1.0),\n",
       " '뭉클': NounScore(frequency=8, score=0.99624825, known_r_ratio=1.0),\n",
       " '표정': NounScore(frequency=694, score=0.6470256780185758, known_r_ratio=0.8411458333333334),\n",
       " '하필': NounScore(frequency=123, score=0.9995533999999999, known_r_ratio=1.0),\n",
       " '수리': NounScore(frequency=30, score=0.999605, known_r_ratio=0.05263157894736842),\n",
       " '언어': NounScore(frequency=30, score=0.5943919999999999, known_r_ratio=0.8),\n",
       " '눈들': NounScore(frequency=14, score=0.9993766363636364, known_r_ratio=1.0),\n",
       " '되야': NounScore(frequency=15, score=0.995316, known_r_ratio=1.0),\n",
       " '불쌍': NounScore(frequency=61, score=0.9878966415094338, known_r_ratio=0.8688524590163934),\n",
       " '공기': NounScore(frequency=169, score=1.0, known_r_ratio=0.8484848484848485),\n",
       " '짐작': NounScore(frequency=11, score=0.8322718888888889, known_r_ratio=0.9),\n",
       " '째째': NounScore(frequency=8, score=0.996948875, known_r_ratio=1.0),\n",
       " '길목': NounScore(frequency=12, score=0.9997161, known_r_ratio=0.8333333333333334),\n",
       " '감동': NounScore(frequency=120, score=0.8594109210526316, known_r_ratio=0.7676767676767676),\n",
       " '데려': NounScore(frequency=584, score=0.7832243882783883, known_r_ratio=0.5909090909090909),\n",
       " '주름': NounScore(frequency=28, score=0.6824779090909091, known_r_ratio=0.5),\n",
       " '구두': NounScore(frequency=48, score=0.9037215937499999, known_r_ratio=0.8888888888888888),\n",
       " '먼곳': NounScore(frequency=24, score=0.94842175, known_r_ratio=1.0),\n",
       " '시선': NounScore(frequency=714, score=0.5634262547945207, known_r_ratio=0.7986870897155361),\n",
       " '믿지': NounScore(frequency=224, score=1.0, known_r_ratio=0.05555555555555555),\n",
       " '전자': NounScore(frequency=5, score=0.999867, known_r_ratio=0.5),\n",
       " '여친': NounScore(frequency=12, score=0.9009793, known_r_ratio=0.9090909090909091),\n",
       " '일들': NounScore(frequency=205, score=0.8679276691729324, known_r_ratio=1.0),\n",
       " '악연': NounScore(frequency=6, score=0.999619, known_r_ratio=0.8333333333333334),\n",
       " '유영': NounScore(frequency=5, score=0.6019414, known_r_ratio=1.0),\n",
       " '통증': NounScore(frequency=5, score=0.6695443333333332, known_r_ratio=0.75),\n",
       " '사자': NounScore(frequency=9, score=0.9999556666666667, known_r_ratio=1.0),\n",
       " '서성': NounScore(frequency=83, score=0.7851214210526316, known_r_ratio=0.7125),\n",
       " '억지': NounScore(frequency=112, score=0.9978327282608696, known_r_ratio=0.9292929292929293),\n",
       " '성의': NounScore(frequency=6, score=0.5862338, known_r_ratio=0.8333333333333334),\n",
       " '빠짐': NounScore(frequency=52, score=1.0, known_r_ratio=1.0),\n",
       " '허비': NounScore(frequency=5, score=0.992989, known_r_ratio=1.0),\n",
       " '타이': NounScore(frequency=84, score=0.999605, known_r_ratio=0.030303030303030304),\n",
       " '허무': NounScore(frequency=57, score=0.9943899761904762, known_r_ratio=0.7636363636363637),\n",
       " '모레': NounScore(frequency=23, score=0.62902375, known_r_ratio=0.8571428571428571),\n",
       " '불놀': NounScore(frequency=6, score=0.999197, known_r_ratio=0.6666666666666666),\n",
       " '산길': NounScore(frequency=8, score=0.99985375, known_r_ratio=1.0),\n",
       " '염치': NounScore(frequency=6, score=0.9992328, known_r_ratio=0.8333333333333334),\n",
       " '생활': NounScore(frequency=84, score=0.50277358, known_r_ratio=0.7692307692307693),\n",
       " '능숙': NounScore(frequency=5, score=0.9972103999999999, known_r_ratio=1.0),\n",
       " '갑작': NounScore(frequency=19, score=1.0, known_r_ratio=0.15789473684210525),\n",
       " '친절': NounScore(frequency=29, score=0.9554159166666665, known_r_ratio=0.8888888888888888),\n",
       " '짧지': NounScore(frequency=11, score=1.0, known_r_ratio=1.0),\n",
       " '아름': NounScore(frequency=2174, score=0.9968636492063492, known_r_ratio=0.6176470588235294),\n",
       " '성공': NounScore(frequency=92, score=0.8986923939393937, known_r_ratio=0.8048780487804879),\n",
       " '수단': NounScore(frequency=5, score=0.999455, known_r_ratio=1.0),\n",
       " '파편': NounScore(frequency=22, score=0.928969857142857, known_r_ratio=0.4666666666666667),\n",
       " '장담': NounScore(frequency=15, score=0.7671097142857144, known_r_ratio=0.6363636363636364),\n",
       " '네곁': NounScore(frequency=38, score=0.9447471944444445, known_r_ratio=0.9473684210526315),\n",
       " '마술': NounScore(frequency=16, score=0.8348613333333333, known_r_ratio=0.6666666666666666),\n",
       " '차분': NounScore(frequency=27, score=0.9974474375, known_r_ratio=0.6153846153846154),\n",
       " '네온': NounScore(frequency=26, score=0.9449656666666666, known_r_ratio=0.5),\n",
       " '증거': NounScore(frequency=24, score=0.999086625, known_r_ratio=0.7272727272727273),\n",
       " '소복': NounScore(frequency=11, score=0.9985170000000001, known_r_ratio=0.5714285714285714),\n",
       " '차지': NounScore(frequency=68, score=0.9951582826086955, known_r_ratio=0.8846153846153846),\n",
       " '발전': NounScore(frequency=8, score=0.8552592857142857, known_r_ratio=0.875),\n",
       " '자만': NounScore(frequency=28, score=0.992198, known_r_ratio=0.3333333333333333),\n",
       " '물음': NounScore(frequency=38, score=1.0, known_r_ratio=0.04),\n",
       " '두손': NounScore(frequency=92, score=0.6786928333333333, known_r_ratio=0.8823529411764706),\n",
       " '애처': NounScore(frequency=61, score=1.0, known_r_ratio=0.13114754098360656),\n",
       " '템포': NounScore(frequency=11, score=0.9994942857142857, known_r_ratio=1.0),\n",
       " '그곳': NounScore(frequency=275, score=0.9000093625498008, known_r_ratio=0.9616858237547893),\n",
       " '실현': NounScore(frequency=7, score=1.0, known_r_ratio=0.6666666666666666),\n",
       " '요란': NounScore(frequency=5, score=0.9956292000000001, known_r_ratio=1.0),\n",
       " '쇼핑': NounScore(frequency=11, score=0.6028423999999999, known_r_ratio=0.7142857142857143),\n",
       " '들썩': NounScore(frequency=26, score=0.5916758571428572, known_r_ratio=0.3888888888888889),\n",
       " '감성': NounScore(frequency=29, score=0.8512104, known_r_ratio=0.47619047619047616),\n",
       " '초조': NounScore(frequency=43, score=0.9978114285714283, known_r_ratio=0.8536585365853658),\n",
       " '만원': NounScore(frequency=5, score=0.9999066666666666, known_r_ratio=1.0),\n",
       " '팍팍': NounScore(frequency=14, score=0.7965485999999999, known_r_ratio=1.0),\n",
       " '스스': NounScore(frequency=95, score=0.9988877777777777, known_r_ratio=0.8709677419354839),\n",
       " '물결': NounScore(frequency=55, score=0.8215833333333334, known_r_ratio=0.7777777777777778),\n",
       " '연인': NounScore(frequency=307, score=0.8414803216783215, known_r_ratio=0.6008403361344538),\n",
       " '트리': NounScore(frequency=17, score=0.96888, known_r_ratio=0.18181818181818182),\n",
       " '싸울': NounScore(frequency=21, score=0.939665, known_r_ratio=0.125),\n",
       " '혈관': NounScore(frequency=12, score=0.8346782222222222, known_r_ratio=1.0),\n",
       " '감전': NounScore(frequency=13, score=0.9998641666666667, known_r_ratio=0.5454545454545454),\n",
       " '공백': NounScore(frequency=6, score=0.8343466666666667, known_r_ratio=1.0),\n",
       " '거듭': NounScore(frequency=11, score=0.9972172, known_r_ratio=0.5),\n",
       " '교만': NounScore(frequency=9, score=1.0, known_r_ratio=1.0),\n",
       " '비열': NounScore(frequency=11, score=0.9932307, known_r_ratio=0.9090909090909091),\n",
       " '전체': NounScore(frequency=13, score=0.9992175, known_r_ratio=0.6666666666666666),\n",
       " '발견': NounScore(frequency=47, score=0.9340643333333335, known_r_ratio=0.9069767441860465),\n",
       " '내지': NounScore(frequency=38, score=1.0, known_r_ratio=0.5),\n",
       " '공유': NounScore(frequency=16, score=0.994958, known_r_ratio=0.9230769230769231),\n",
       " '뒷골': NounScore(frequency=6, score=0.999185, known_r_ratio=0.6666666666666666),\n",
       " '점령': NounScore(frequency=5, score=0.9922895, known_r_ratio=1.0),\n",
       " '미녀': NounScore(frequency=14, score=0.5039954000000001, known_r_ratio=0.8333333333333334),\n",
       " '진짠': NounScore(frequency=8, score=0.7131058571428571, known_r_ratio=1.0),\n",
       " '뻔뻔': NounScore(frequency=114, score=0.9975951704545455, known_r_ratio=0.8380952380952381),\n",
       " '지도': NounScore(frequency=77, score=0.8821405555555556, known_r_ratio=0.782608695652174),\n",
       " '날들': NounScore(frequency=503, score=0.8242609402985073, known_r_ratio=0.9781021897810219),\n",
       " '쫄지': NounScore(frequency=17, score=1.0, known_r_ratio=1.0),\n",
       " '표현': NounScore(frequency=353, score=0.847118780104712, known_r_ratio=0.6996336996336996),\n",
       " '이땅': NounScore(frequency=13, score=0.9615932307692308, known_r_ratio=1.0),\n",
       " '미워': NounScore(frequency=766, score=0.9444169464285714, known_r_ratio=0.5401929260450161),\n",
       " '퇴색': NounScore(frequency=5, score=0.9962832500000001, known_r_ratio=0.8),\n",
       " '비겁': NounScore(frequency=82, score=0.9962169102564103, known_r_ratio=0.9629629629629629),\n",
       " '빅뱅': NounScore(frequency=17, score=0.9996056363636363, known_r_ratio=1.0),\n",
       " '결정': NounScore(frequency=54, score=0.9374430294117647, known_r_ratio=0.7555555555555555),\n",
       " '줄것': NounScore(frequency=14, score=0.8842697777777778, known_r_ratio=1.0),\n",
       " '바퀴': NounScore(frequency=31, score=0.742747, known_r_ratio=0.9285714285714286),\n",
       " '접속': NounScore(frequency=11, score=0.6273719999999999, known_r_ratio=0.36363636363636365),\n",
       " '무릎': NounScore(frequency=219, score=0.7356020249999999, known_r_ratio=0.7017543859649122),\n",
       " '베개': NounScore(frequency=37, score=0.6230067826086957, known_r_ratio=0.8518518518518519),\n",
       " '전과': NounScore(frequency=11, score=0.999605, known_r_ratio=1.0),\n",
       " '수학': NounScore(frequency=7, score=0.999867, known_r_ratio=0.5),\n",
       " '눈속': NounScore(frequency=59, score=0.9997226808510639, known_r_ratio=0.8545454545454545),\n",
       " '눈치': NounScore(frequency=561, score=0.7346120544554454, known_r_ratio=0.8347107438016529),\n",
       " '고고': NounScore(frequency=10, score=1.0, known_r_ratio=0.125),\n",
       " '아담': NounScore(frequency=13, score=0.9998530833333333, known_r_ratio=0.9230769230769231),\n",
       " '기어': NounScore(frequency=46, score=0.999185, known_r_ratio=0.06666666666666667),\n",
       " '드루': NounScore(frequency=73, score=0.98444, known_r_ratio=1.0),\n",
       " '쉼표': NounScore(frequency=13, score=0.6317036666666667, known_r_ratio=1.0),\n",
       " '가사': NounScore(frequency=52, score=0.7636001935483873, known_r_ratio=0.8857142857142857),\n",
       " '보려': NounScore(frequency=101, score=0.8824211666666666, known_r_ratio=1.0),\n",
       " '묵묵': NounScore(frequency=17, score=0.996513, known_r_ratio=0.058823529411764705),\n",
       " '자들': NounScore(frequency=33, score=0.8192948500000001, known_r_ratio=1.0),\n",
       " '처참': NounScore(frequency=18, score=0.9997962499999999, known_r_ratio=0.5),\n",
       " '참고': NounScore(frequency=126, score=0.517037, known_r_ratio=0.6666666666666666),\n",
       " '여자': NounScore(frequency=2111, score=0.5000508778625954, known_r_ratio=0.6868913857677903),\n",
       " '싶을': NounScore(frequency=142, score=1.0, known_r_ratio=0.20833333333333334),\n",
       " '일년': NounScore(frequency=106, score=0.9473384857142857, known_r_ratio=0.8860759493670886),\n",
       " '주먹': NounScore(frequency=59, score=0.9995785384615385, known_r_ratio=1.0),\n",
       " '만만': NounScore(frequency=75, score=0.9133108095238095, known_r_ratio=0.7636363636363637),\n",
       " '봐줘': NounScore(frequency=141, score=0.505755, known_r_ratio=1.0),\n",
       " '소리': NounScore(frequency=1691, score=0.8792218693982077, known_r_ratio=0.7224791859389454),\n",
       " '엑셀': NounScore(frequency=8, score=0.752222, known_r_ratio=1.0),\n",
       " '손길': NounScore(frequency=287, score=0.8405479552238805, known_r_ratio=0.9804878048780488),\n",
       " '휘인': NounScore(frequency=7, score=0.50502925, known_r_ratio=0.8),\n",
       " '되풀': NounScore(frequency=22, score=0.999185, known_r_ratio=0.6111111111111112),\n",
       " '난너': NounScore(frequency=10, score=0.9767754444444444, known_r_ratio=0.9),\n",
       " '자기': NounScore(frequency=198, score=0.66457275, known_r_ratio=0.2857142857142857),\n",
       " '그날': NounScore(frequency=544, score=0.8436048757396449, known_r_ratio=0.8941798941798942),\n",
       " '꾸면': NounScore(frequency=21, score=1.0, known_r_ratio=1.0),\n",
       " '굴래': NounScore(frequency=9, score=0.999707, known_r_ratio=1.0),\n",
       " '한국': NounScore(frequency=82, score=0.9815325, known_r_ratio=0.23529411764705882),\n",
       " '호이': NounScore(frequency=34, score=0.93776, known_r_ratio=0.05263157894736842),\n",
       " '의자': NounScore(frequency=11, score=0.9996094545454546, known_r_ratio=1.0),\n",
       " '가랑': NounScore(frequency=9, score=0.9995925, known_r_ratio=0.2857142857142857),\n",
       " '방광': NounScore(frequency=6, score=0.87583725, known_r_ratio=1.0),\n",
       " '노력': NounScore(frequency=316, score=0.913050689839572, known_r_ratio=0.757085020242915),\n",
       " '원샷': NounScore(frequency=8, score=0.9997216666666667, known_r_ratio=1.0),\n",
       " '죽고': NounScore(frequency=64, score=1.0, known_r_ratio=0.4),\n",
       " '번쩍': NounScore(frequency=75, score=0.7751425000000001, known_r_ratio=0.18181818181818182),\n",
       " '등대': NounScore(frequency=19, score=0.7718612857142857, known_r_ratio=1.0),\n",
       " '남편': NounScore(frequency=9, score=0.8210146666666667, known_r_ratio=1.0),\n",
       " '동경': NounScore(frequency=17, score=0.9953637857142856, known_r_ratio=0.875),\n",
       " '썰매': NounScore(frequency=39, score=0.9259904090909091, known_r_ratio=1.0),\n",
       " '지배': NounScore(frequency=44, score=0.9931087272727273, known_r_ratio=0.825),\n",
       " '수면': NounScore(frequency=13, score=0.7527375000000001, known_r_ratio=0.5),\n",
       " '이정': NounScore(frequency=9, score=0.505755, known_r_ratio=0.375),\n",
       " '웃음': NounScore(frequency=822, score=0.8960484166666667, known_r_ratio=0.5240174672489083),\n",
       " '안내': NounScore(frequency=17, score=0.7994916, known_r_ratio=0.625),\n",
       " '아픔': NounScore(frequency=847, score=0.6147017868852458, known_r_ratio=0.8918128654970761),\n",
       " '센치': NounScore(frequency=17, score=0.9914147142857143, known_r_ratio=1.0),\n",
       " '이유': NounScore(frequency=993, score=0.5899653516666667, known_r_ratio=0.9584664536741214),\n",
       " '소주': NounScore(frequency=22, score=0.508459, known_r_ratio=0.42857142857142855),\n",
       " '나려': NounScore(frequency=8, score=0.995316, known_r_ratio=0.5),\n",
       " '외모': NounScore(frequency=47, score=0.728211423076923, known_r_ratio=0.9629629629629629),\n",
       " '바디': NounScore(frequency=15, score=0.99972, known_r_ratio=0.3333333333333333),\n",
       " '기사': NounScore(frequency=20, score=0.6872989166666668, known_r_ratio=0.75),\n",
       " '이이': NounScore(frequency=19, score=0.999185, known_r_ratio=0.36363636363636365),\n",
       " '마녀': NounScore(frequency=12, score=0.7920368, known_r_ratio=0.625),\n",
       " '품안': NounScore(frequency=60, score=0.9997228103448277, known_r_ratio=0.9666666666666667),\n",
       " '충실': NounScore(frequency=8, score=0.9935844285714285, known_r_ratio=0.875),\n",
       " '거래': NounScore(frequency=22, score=1.0, known_r_ratio=0.6666666666666666),\n",
       " '딴딴': NounScore(frequency=48, score=1.0, known_r_ratio=0.125),\n",
       " '코스': NounScore(frequency=12, score=0.8421993999999999, known_r_ratio=1.0),\n",
       " '나네': NounScore(frequency=43, score=0.997334, known_r_ratio=1.0),\n",
       " '학년': NounScore(frequency=19, score=0.9992590909090908, known_r_ratio=1.0),\n",
       " '부모': NounScore(frequency=80, score=0.938152875, known_r_ratio=0.12698412698412698),\n",
       " '숭배': NounScore(frequency=5, score=0.989263, known_r_ratio=0.3333333333333333),\n",
       " '리듬': NounScore(frequency=405, score=0.87313895703125, known_r_ratio=0.9377289377289377),\n",
       " '묘약': NounScore(frequency=7, score=0.8347213333333334, known_r_ratio=1.0),\n",
       " '침착': NounScore(frequency=15, score=0.99678625, known_r_ratio=0.9230769230769231),\n",
       " '틀림': NounScore(frequency=36, score=0.9849916363636363, known_r_ratio=0.9428571428571428),\n",
       " '관리': NounScore(frequency=7, score=0.9859664, known_r_ratio=1.0),\n",
       " '반쪽': NounScore(frequency=74, score=0.7540122045454545, known_r_ratio=0.9361702127659575),\n",
       " '더욱': NounScore(frequency=408, score=0.999185, known_r_ratio=0.01818181818181818),\n",
       " '소란': NounScore(frequency=21, score=0.90596475, known_r_ratio=0.8421052631578947),\n",
       " '행성': NounScore(frequency=6, score=0.9993974999999999, known_r_ratio=1.0),\n",
       " '유린': NounScore(frequency=8, score=0.9946315, known_r_ratio=0.2857142857142857),\n",
       " '장애': NounScore(frequency=14, score=0.9984695, known_r_ratio=0.18181818181818182),\n",
       " '방향': NounScore(frequency=21, score=0.5410045, known_r_ratio=1.0),\n",
       " '목선': NounScore(frequency=8, score=0.9996993333333334, known_r_ratio=1.0),\n",
       " '빈말': NounScore(frequency=14, score=0.6781336, known_r_ratio=0.5555555555555556),\n",
       " '한눈': NounScore(frequency=94, score=0.8108310238095239, known_r_ratio=0.8076923076923077),\n",
       " '도사': NounScore(frequency=11, score=0.7281008333333334, known_r_ratio=0.8571428571428571),\n",
       " '주춤': NounScore(frequency=11, score=0.9937578, known_r_ratio=0.45454545454545453),\n",
       " '먹먹': NounScore(frequency=20, score=0.9975094166666668, known_r_ratio=0.6666666666666666),\n",
       " '바른': NounScore(frequency=15, score=0.997693, known_r_ratio=0.25),\n",
       " '옆집': NounScore(frequency=9, score=0.9997180000000001, known_r_ratio=1.0),\n",
       " '반대': NounScore(frequency=131, score=0.5748128888888888, known_r_ratio=0.5294117647058824),\n",
       " '비결': NounScore(frequency=6, score=0.87556975, known_r_ratio=1.0),\n",
       " 'KO': NounScore(frequency=24, score=0.951425, known_r_ratio=0.06666666666666667),\n",
       " '엄청': NounScore(frequency=37, score=0.6786375, known_r_ratio=0.34782608695652173),\n",
       " '백번': NounScore(frequency=18, score=0.787767857142857, known_r_ratio=1.0),\n",
       " '싸움': NounScore(frequency=70, score=0.6366635454545454, known_r_ratio=0.8461538461538461),\n",
       " '그속': NounScore(frequency=29, score=0.9799231200000001, known_r_ratio=0.8928571428571429),\n",
       " '분명': NounScore(frequency=270, score=0.9963970869565217, known_r_ratio=0.2987012987012987),\n",
       " '파도': NounScore(frequency=369, score=0.8548903725490197, known_r_ratio=0.8063241106719368),\n",
       " '토끼': NounScore(frequency=36, score=0.6636725625, known_r_ratio=0.6956521739130435),\n",
       " '봉투': NounScore(frequency=5, score=0.9996625, known_r_ratio=0.6666666666666666),\n",
       " '이꿈': NounScore(frequency=5, score=0.9994460000000001, known_r_ratio=0.8),\n",
       " '답답': NounScore(frequency=504, score=0.987541471491228, known_r_ratio=0.9344262295081968),\n",
       " '무덤': NounScore(frequency=25, score=0.9997304, known_r_ratio=0.4166666666666667),\n",
       " '정복': NounScore(frequency=24, score=0.77357, known_r_ratio=0.42857142857142855),\n",
       " '맵시': NounScore(frequency=16, score=0.7416090000000001, known_r_ratio=1.0),\n",
       " '지루': NounScore(frequency=211, score=0.9951378983050846, known_r_ratio=0.885),\n",
       " '물건': NounScore(frequency=10, score=0.8018335999999999, known_r_ratio=0.5),\n",
       " '휴가': NounScore(frequency=9, score=0.8350756666666667, known_r_ratio=1.0),\n",
       " '갈대': NounScore(frequency=16, score=0.5076147777777777, known_r_ratio=0.75),\n",
       " '죽음': NounScore(frequency=35, score=0.999298, known_r_ratio=0.8),\n",
       " '까리': NounScore(frequency=6, score=0.996487, known_r_ratio=1.0),\n",
       " '침대': NounScore(frequency=71, score=0.9380861935483871, known_r_ratio=0.775),\n",
       " '담배': NounScore(frequency=65, score=0.8360663076923076, known_r_ratio=0.7647058823529411),\n",
       " '혹시': NounScore(frequency=994, score=0.942722376, known_r_ratio=0.9689922480620154),\n",
       " '직감': NounScore(frequency=11, score=0.736961, known_r_ratio=0.8),\n",
       " '고개': NounScore(frequency=330, score=0.9214559668246446, known_r_ratio=0.9254385964912281),\n",
       " '숫자': NounScore(frequency=36, score=0.9907851000000003, known_r_ratio=0.7692307692307693),\n",
       " '이걸': NounScore(frequency=75, score=0.9989971428571429, known_r_ratio=0.9333333333333333),\n",
       " '훗날': NounScore(frequency=103, score=0.96881246875, known_r_ratio=0.9411764705882353),\n",
       " '삐끗': NounScore(frequency=26, score=0.7464705, known_r_ratio=0.5),\n",
       " '보장': NounScore(frequency=7, score=0.6704758, known_r_ratio=0.7142857142857143),\n",
       " '자연': NounScore(frequency=151, score=0.9999698749999999, known_r_ratio=0.5142857142857142),\n",
       " '대답': NounScore(frequency=460, score=0.7023996882129276, known_r_ratio=0.7827380952380952),\n",
       " '신기': NounScore(frequency=116, score=0.9972005263157895, known_r_ratio=0.8333333333333334),\n",
       " '며칠': NounScore(frequency=129, score=0.6546750212765957, known_r_ratio=0.573170731707317),\n",
       " '유혹': NounScore(frequency=198, score=0.9325678085106384, known_r_ratio=0.7704918032786885),\n",
       " '여정': NounScore(frequency=15, score=0.9286451428571427, known_r_ratio=1.0),\n",
       " '맥주': NounScore(frequency=13, score=0.9792533333333333, known_r_ratio=1.0),\n",
       " '엉뚱': NounScore(frequency=31, score=0.9990325862068966, known_r_ratio=1.0),\n",
       " '부재': NounScore(frequency=20, score=0.93776, known_r_ratio=0.058823529411764705),\n",
       " '너는': NounScore(frequency=2926, score=1.0, known_r_ratio=0.5),\n",
       " '어색': NounScore(frequency=488, score=0.9933263704600487, known_r_ratio=0.8694736842105263),\n",
       " '씩씩': NounScore(frequency=28, score=0.9117749130434782, known_r_ratio=0.8214285714285714),\n",
       " '싱글': NounScore(frequency=9, score=0.9991756666666666, known_r_ratio=0.75),\n",
       " '안식': NounScore(frequency=16, score=0.504724, known_r_ratio=0.13333333333333333),\n",
       " '고독': NounScore(frequency=34, score=0.9269555172413793, known_r_ratio=0.9354838709677419),\n",
       " '좋게': NounScore(frequency=72, score=0.995316, known_r_ratio=0.25),\n",
       " '카페': NounScore(frequency=70, score=0.9400674074074075, known_r_ratio=0.7297297297297297),\n",
       " '항해': NounScore(frequency=26, score=0.7220093333333333, known_r_ratio=0.6666666666666666),\n",
       " '피에': NounScore(frequency=8, score=1.0, known_r_ratio=0.6666666666666666),\n",
       " '역전': NounScore(frequency=7, score=0.9994203333333332, known_r_ratio=1.0),\n",
       " '호랑': NounScore(frequency=5, score=0.999185, known_r_ratio=0.5),\n",
       " '자락': NounScore(frequency=5, score=0.7526197499999999, known_r_ratio=1.0),\n",
       " '또렷': NounScore(frequency=22, score=0.986423238095238, known_r_ratio=0.9545454545454546),\n",
       " '감긴': NounScore(frequency=14, score=0.997334, known_r_ratio=0.5),\n",
       " '타투': NounScore(frequency=5, score=0.998667, known_r_ratio=1.0),\n",
       " '하게': NounScore(frequency=262, score=0.9992193333333333, known_r_ratio=0.6666666666666666),\n",
       " '때때': NounScore(frequency=15, score=0.9989363636363637, known_r_ratio=0.7857142857142857),\n",
       " '시크': NounScore(frequency=30, score=0.9957316190476191, known_r_ratio=0.7),\n",
       " '모금': NounScore(frequency=41, score=0.8586274615384615, known_r_ratio=1.0),\n",
       " '평생': NounScore(frequency=282, score=0.6317824159292034, known_r_ratio=0.9658119658119658),\n",
       " '대입': NounScore(frequency=6, score=0.800016, known_r_ratio=0.8333333333333334),\n",
       " '액자': NounScore(frequency=9, score=0.9980282500000001, known_r_ratio=1.0),\n",
       " '자신': NounScore(frequency=1110, score=0.7779717610738254, known_r_ratio=0.8672875436554133),\n",
       " '꾸중': NounScore(frequency=6, score=0.999867, known_r_ratio=0.3333333333333333),\n",
       " '양들': NounScore(frequency=22, score=0.8647904999999999, known_r_ratio=1.0),\n",
       " '껍질': NounScore(frequency=18, score=0.7070032500000001, known_r_ratio=0.8571428571428571),\n",
       " '때문': NounScore(frequency=1113, score=0.9826780122641511, known_r_ratio=0.9566787003610109),\n",
       " '케익': NounScore(frequency=8, score=0.8757382499999999, known_r_ratio=0.8),\n",
       " '굴지': NounScore(frequency=80, score=0.9999867, known_r_ratio=0.625),\n",
       " '예고': NounScore(frequency=77, score=0.9992196250000001, known_r_ratio=0.7619047619047619),\n",
       " '할수': NounScore(frequency=321, score=0.6941594799999999, known_r_ratio=0.39893617021276595),\n",
       " '강남': NounScore(frequency=26, score=0.7164515714285714, known_r_ratio=0.35),\n",
       " '다름': NounScore(frequency=21, score=0.9378867499999999, known_r_ratio=0.5714285714285714),\n",
       " '어스': NounScore(frequency=6, score=0.997334, known_r_ratio=0.16666666666666666),\n",
       " '구멍': NounScore(frequency=18, score=0.5549216666666666, known_r_ratio=0.75),\n",
       " '적응': NounScore(frequency=14, score=0.9926641428571428, known_r_ratio=0.875),\n",
       " '그때': NounScore(frequency=1358, score=0.7290779181946405, known_r_ratio=0.9529569892473119),\n",
       " '희준': NounScore(frequency=12, score=0.558087, known_r_ratio=0.5),\n",
       " '뾰족': NounScore(frequency=11, score=0.997968, known_r_ratio=0.7),\n",
       " '유령': NounScore(frequency=10, score=0.999898125, known_r_ratio=0.8888888888888888),\n",
       " '자꾸': NounScore(frequency=3842, score=0.9497179056074767, known_r_ratio=0.8916666666666667),\n",
       " '온기': NounScore(frequency=136, score=1.0, known_r_ratio=0.8571428571428571),\n",
       " '익명': NounScore(frequency=5, score=0.9999734, known_r_ratio=1.0),\n",
       " '일초': NounScore(frequency=40, score=0.7800405483870967, known_r_ratio=1.0),\n",
       " '알게': NounScore(frequency=389, score=0.9996877333333334, known_r_ratio=0.18292682926829268),\n",
       " '엄마': NounScore(frequency=207, score=0.5527938909090909, known_r_ratio=0.9401709401709402),\n",
       " '절벽': NounScore(frequency=16, score=0.999818, known_r_ratio=1.0),\n",
       " '내가': NounScore(frequency=10990, score=0.5397701428571429, known_r_ratio=0.25925925925925924),\n",
       " '일생': NounScore(frequency=30, score=0.7414817826086957, known_r_ratio=1.0),\n",
       " '커피': NounScore(frequency=135, score=0.6716317192982455, known_r_ratio=0.7307692307692307),\n",
       " '투혼': NounScore(frequency=10, score=0.7027528000000001, known_r_ratio=1.0),\n",
       " '맹세': NounScore(frequency=147, score=0.9723236860465115, known_r_ratio=0.6564885496183206),\n",
       " '재산': NounScore(frequency=9, score=0.6037792, known_r_ratio=1.0),\n",
       " '크게': NounScore(frequency=589, score=0.992198, known_r_ratio=0.125),\n",
       " '생략': NounScore(frequency=8, score=0.995316, known_r_ratio=0.375),\n",
       " '깔끔': NounScore(frequency=20, score=0.9933753333333334, known_r_ratio=0.9),\n",
       " '차트': NounScore(frequency=5, score=0.9996816666666667, known_r_ratio=1.0),\n",
       " '녹음': NounScore(frequency=7, score=0.992198, known_r_ratio=0.25),\n",
       " '살만': NounScore(frequency=31, score=0.9961204374999999, known_r_ratio=0.6956521739130435),\n",
       " '깜깜': NounScore(frequency=60, score=0.9970825740740741, known_r_ratio=0.9473684210526315),\n",
       " '점심': NounScore(frequency=11, score=0.7520882499999999, known_r_ratio=0.5714285714285714),\n",
       " '지려': NounScore(frequency=22, score=0.9948596666666667, known_r_ratio=1.0),\n",
       " '청소': NounScore(frequency=10, score=0.6704374999999999, known_r_ratio=0.75),\n",
       " '자부': NounScore(frequency=5, score=0.989263, known_r_ratio=0.2),\n",
       " '울게': NounScore(frequency=76, score=0.9993578, known_r_ratio=0.7692307692307693),\n",
       " '노랠': NounScore(frequency=233, score=0.960642, known_r_ratio=0.5),\n",
       " '오해': NounScore(frequency=149, score=0.5568056511627906, known_r_ratio=0.7413793103448276),\n",
       " '살라': NounScore(frequency=14, score=0.978997, known_r_ratio=0.3333333333333333),\n",
       " '휴일': NounScore(frequency=9, score=0.9999066666666666, known_r_ratio=1.0),\n",
       " '시절': NounScore(frequency=125, score=0.7604861555555555, known_r_ratio=0.8333333333333334),\n",
       " '민족': NounScore(frequency=11, score=0.9997444, known_r_ratio=1.0),\n",
       " '탁자': NounScore(frequency=11, score=0.9991235, known_r_ratio=0.5714285714285714),\n",
       " '단하': NounScore(frequency=19, score=1.0, known_r_ratio=0.18181818181818182),\n",
       " '허벌': NounScore(frequency=5, score=0.885745, known_r_ratio=0.2),\n",
       " '그렁': NounScore(frequency=10, score=1.0, known_r_ratio=0.1),\n",
       " '성급': NounScore(frequency=11, score=0.9993578, known_r_ratio=0.9090909090909091),\n",
       " '늦잠': NounScore(frequency=10, score=0.5050676666666666, known_r_ratio=0.8571428571428571),\n",
       " '타인': NounScore(frequency=21, score=0.9668463333333333, known_r_ratio=0.75),\n",
       " '부정': NounScore(frequency=37, score=0.9271945882352941, known_r_ratio=0.5666666666666667),\n",
       " '기적': NounScore(frequency=277, score=0.7616374970414199, known_r_ratio=0.898936170212766),\n",
       " '사냥': NounScore(frequency=17, score=0.9928302222222221, known_r_ratio=0.5294117647058824),\n",
       " '밀착': NounScore(frequency=8, score=0.995316, known_r_ratio=0.6),\n",
       " '해소': NounScore(frequency=22, score=1.0, known_r_ratio=0.75),\n",
       " '확인': NounScore(frequency=135, score=0.9671081340206183, known_r_ratio=0.8434782608695652),\n",
       " '교실': NounScore(frequency=14, score=0.9996461666666666, known_r_ratio=0.5454545454545454),\n",
       " 'up': NounScore(frequency=4769, score=0.675205875, known_r_ratio=0.17777777777777778),\n",
       " '저만': NounScore(frequency=22, score=0.817389, known_r_ratio=0.7272727272727273),\n",
       " '간직': NounScore(frequency=539, score=0.9918624160839162, known_r_ratio=0.556420233463035),\n",
       " '허공': NounScore(frequency=22, score=0.9165085789473686, known_r_ratio=0.95),\n",
       " '당연': NounScore(frequency=211, score=0.9969579802631581, known_r_ratio=0.7272727272727273),\n",
       " '어이': NounScore(frequency=130, score=0.9990740930232558, known_r_ratio=0.9555555555555556),\n",
       " '근사': NounScore(frequency=27, score=0.9983827083333333, known_r_ratio=0.9230769230769231),\n",
       " '모나': NounScore(frequency=12, score=0.505755, known_r_ratio=0.1111111111111111),\n",
       " '인연': NounScore(frequency=200, score=0.8455837868852459, known_r_ratio=0.7770700636942676),\n",
       " '떠오': NounScore(frequency=269, score=0.9508341463414635, known_r_ratio=0.15648854961832062),\n",
       " '위로': NounScore(frequency=945, score=0.960465650862069, known_r_ratio=0.770764119601329),\n",
       " '경적': NounScore(frequency=5, score=0.7280745, known_r_ratio=1.0),\n",
       " '강렬': NounScore(frequency=66, score=0.997445649122807, known_r_ratio=0.8636363636363636),\n",
       " '자장': NounScore(frequency=18, score=0.6679126666666667, known_r_ratio=0.42857142857142855),\n",
       " '처음': NounScore(frequency=2070, score=0.9645548701700155, known_r_ratio=0.78998778998779),\n",
       " '성숙': NounScore(frequency=16, score=0.9929773333333335, known_r_ratio=0.6),\n",
       " '복도': NounScore(frequency=8, score=0.999656, known_r_ratio=1.0),\n",
       " '입구': NounScore(frequency=6, score=0.59492225, known_r_ratio=1.0),\n",
       " '틈만': NounScore(frequency=24, score=0.541051375, known_r_ratio=1.0),\n",
       " '초라': NounScore(frequency=315, score=0.9966981971830987, known_r_ratio=0.7344827586206897),\n",
       " '대로': NounScore(frequency=567, score=0.508544, known_r_ratio=1.0),\n",
       " '비굴': NounScore(frequency=8, score=0.9988376666666667, known_r_ratio=0.8571428571428571),\n",
       " '자리': NounScore(frequency=771, score=0.8632340512820514, known_r_ratio=0.9543230016313213),\n",
       " '가족': NounScore(frequency=53, score=0.5937857619047618, known_r_ratio=0.525),\n",
       " '갖게': NounScore(frequency=22, score=1.0, known_r_ratio=0.5),\n",
       " '이들': NounScore(frequency=31, score=0.8819280476190479, known_r_ratio=1.0),\n",
       " '폭발': NounScore(frequency=39, score=0.9983876363636365, known_r_ratio=0.8148148148148148),\n",
       " '피곤': NounScore(frequency=118, score=0.9802812577319587, known_r_ratio=0.8508771929824561),\n",
       " '나무': NounScore(frequency=99, score=0.6245461320754716, known_r_ratio=0.7794117647058824),\n",
       " '그눈': NounScore(frequency=7, score=0.99972, known_r_ratio=0.16666666666666666),\n",
       " '신경': NounScore(frequency=352, score=0.6899178933333332, known_r_ratio=0.7281553398058253),\n",
       " '오버': NounScore(frequency=7, score=0.9950082499999999, known_r_ratio=0.6666666666666666),\n",
       " '소식': NounScore(frequency=86, score=0.7899664130434784, known_r_ratio=0.92),\n",
       " '시야': NounScore(frequency=32, score=0.7194156666666666, known_r_ratio=0.75),\n",
       " '쨍쨍': NounScore(frequency=11, score=0.995316, known_r_ratio=0.5),\n",
       " '여유': NounScore(frequency=60, score=0.8099982972972972, known_r_ratio=1.0),\n",
       " '기만': NounScore(frequency=6, score=0.95661, known_r_ratio=1.0),\n",
       " '켜져': NounScore(frequency=19, score=0.7217575, known_r_ratio=1.0),\n",
       " '머리': NounScore(frequency=1420, score=0.8264672802816903, known_r_ratio=0.7312049433573635),\n",
       " '셀수': NounScore(frequency=6, score=0.997334, known_r_ratio=0.5),\n",
       " '간다': NounScore(frequency=302, score=1.0, known_r_ratio=1.0),\n",
       " '불행': NounScore(frequency=90, score=0.879203111111111, known_r_ratio=0.6666666666666666),\n",
       " '일렁': NounScore(frequency=13, score=0.558087, known_r_ratio=0.6666666666666666),\n",
       " '니네': NounScore(frequency=51, score=0.6479244000000001, known_r_ratio=0.47619047619047616),\n",
       " '몰입': NounScore(frequency=8, score=0.9970768333333334, known_r_ratio=0.75),\n",
       " '수북': NounScore(frequency=5, score=0.9982565, known_r_ratio=0.4),\n",
       " '악동': NounScore(frequency=11, score=0.99938875, known_r_ratio=1.0),\n",
       " '니들': NounScore(frequency=68, score=0.9122612647058823, known_r_ratio=0.8095238095238095),\n",
       " '캄캄': NounScore(frequency=46, score=0.9983916363636363, known_r_ratio=0.7857142857142857),\n",
       " '끈적': NounScore(frequency=37, score=0.8758616, known_r_ratio=0.625),\n",
       " '말도': NounScore(frequency=904, score=0.978997, known_r_ratio=0.125),\n",
       " '빈틈': NounScore(frequency=62, score=0.7137799019607844, known_r_ratio=1.0),\n",
       " '동화': NounScore(frequency=124, score=0.9433423666666666, known_r_ratio=0.5555555555555556),\n",
       " '예정': NounScore(frequency=14, score=1.0, known_r_ratio=0.6153846153846154),\n",
       " '단장': NounScore(frequency=5, score=0.7993924, known_r_ratio=1.0),\n",
       " '그전': NounScore(frequency=17, score=0.9996719285714286, known_r_ratio=0.8235294117647058),\n",
       " '우월': NounScore(frequency=6, score=0.9989758333333333, known_r_ratio=1.0),\n",
       " '썰렁': NounScore(frequency=6, score=0.9988376666666667, known_r_ratio=0.5),\n",
       " '타락': NounScore(frequency=21, score=0.9944060666666668, known_r_ratio=0.7142857142857143),\n",
       " '노을': NounScore(frequency=148, score=0.7092596705882354, known_r_ratio=0.8854166666666666),\n",
       " '니편': NounScore(frequency=7, score=0.999185, known_r_ratio=0.6666666666666666),\n",
       " '곳들': NounScore(frequency=8, score=0.8580577142857143, known_r_ratio=1.0),\n",
       " '사고': NounScore(frequency=65, score=0.9998944, known_r_ratio=0.1724137931034483),\n",
       " '빗속': NounScore(frequency=49, score=0.873372744680851, known_r_ratio=1.0),\n",
       " '건강': NounScore(frequency=21, score=0.8944144210526315, known_r_ratio=0.95),\n",
       " '가치': NounScore(frequency=110, score=0.9119732539682541, known_r_ratio=0.9545454545454546),\n",
       " '일상': NounScore(frequency=156, score=0.6860683191489361, known_r_ratio=0.8703703703703703),\n",
       " '한탄': NounScore(frequency=9, score=0.9131647142857142, known_r_ratio=1.0),\n",
       " '빈손': NounScore(frequency=19, score=0.9997247222222223, known_r_ratio=1.0),\n",
       " '이용': NounScore(frequency=22, score=0.9958407272727272, known_r_ratio=1.0),\n",
       " '경우': NounScore(frequency=6, score=0.7047753333333334, known_r_ratio=1.0),\n",
       " '반지': NounScore(frequency=90, score=0.9925731111111111, known_r_ratio=0.6923076923076923),\n",
       " '실체': NounScore(frequency=5, score=0.9998024999999999, known_r_ratio=1.0),\n",
       " '새장': NounScore(frequency=22, score=0.9006672, known_r_ratio=0.625),\n",
       " '가식': NounScore(frequency=163, score=0.5856355609756098, known_r_ratio=0.3253968253968254),\n",
       " '콧대': NounScore(frequency=35, score=0.9850783750000001, known_r_ratio=1.0),\n",
       " '이놈': NounScore(frequency=37, score=0.8834558529411766, known_r_ratio=0.9714285714285714),\n",
       " '출발': NounScore(frequency=57, score=0.9572749199999998, known_r_ratio=0.6410256410256411),\n",
       " '레몬': NounScore(frequency=39, score=0.858252, known_r_ratio=0.4117647058823529),\n",
       " '죄송': NounScore(frequency=22, score=0.985497125, known_r_ratio=0.8),\n",
       " '블랙': NounScore(frequency=32, score=1.0, known_r_ratio=0.08695652173913043),\n",
       " '고백': NounScore(frequency=805, score=0.7717242245430811, known_r_ratio=0.6060126582278481),\n",
       " '길인': NounScore(frequency=26, score=0.6657706666666666, known_r_ratio=0.2727272727272727),\n",
       " '가느': NounScore(frequency=8, score=0.548239, known_r_ratio=0.14285714285714285),\n",
       " '소유': NounScore(frequency=42, score=0.8736480588235294, known_r_ratio=0.5),\n",
       " '차이': NounScore(frequency=91, score=0.6356986363636363, known_r_ratio=0.6470588235294118),\n",
       " '탕탕': NounScore(frequency=28, score=0.824931, known_r_ratio=0.1111111111111111),\n",
       " '민감': NounScore(frequency=5, score=0.9906743333333333, known_r_ratio=0.6),\n",
       " '먼길': NounScore(frequency=12, score=0.5945614545454544, known_r_ratio=1.0),\n",
       " '험난': NounScore(frequency=7, score=1.0, known_r_ratio=0.8571428571428571),\n",
       " '안전': NounScore(frequency=25, score=0.9971857777777776, known_r_ratio=0.6),\n",
       " '엎어': NounScore(frequency=19, score=1.0, known_r_ratio=0.5),\n",
       " '대가': NounScore(frequency=26, score=0.9576202500000002, known_r_ratio=0.8),\n",
       " '머쓱': NounScore(frequency=7, score=0.9976753333333334, known_r_ratio=0.8571428571428571),\n",
       " '감촉': NounScore(frequency=9, score=0.9172811666666667, known_r_ratio=1.0),\n",
       " '인지': NounScore(frequency=18, score=0.995316, known_r_ratio=0.6666666666666666),\n",
       " '씨름': NounScore(frequency=5, score=0.995838, known_r_ratio=1.0),\n",
       " '왠만': NounScore(frequency=9, score=1.0, known_r_ratio=1.0),\n",
       " '네사': NounScore(frequency=6, score=1.0, known_r_ratio=0.16666666666666666),\n",
       " '지구': NounScore(frequency=133, score=0.7330828933333332, known_r_ratio=0.8522727272727273),\n",
       " '잔잔': NounScore(frequency=42, score=0.9956848611111112, known_r_ratio=0.8571428571428571),\n",
       " '작전': NounScore(frequency=14, score=0.6037792, known_r_ratio=0.625),\n",
       " '설명': NounScore(frequency=162, score=0.8886000972222223, known_r_ratio=0.5538461538461539),\n",
       " '흥건': NounScore(frequency=5, score=1.0, known_r_ratio=0.4),\n",
       " '녀석': NounScore(frequency=69, score=0.6284586875, known_r_ratio=0.6153846153846154),\n",
       " '예상': NounScore(frequency=45, score=0.8295400370370368, known_r_ratio=0.9),\n",
       " '가위': NounScore(frequency=20, score=1.0, known_r_ratio=1.0),\n",
       " '옷들': NounScore(frequency=9, score=0.8581341428571428, known_r_ratio=1.0),\n",
       " '범벅': NounScore(frequency=8, score=0.9995925, known_r_ratio=0.5),\n",
       " '스테': NounScore(frequency=21, score=1.0, known_r_ratio=0.8125),\n",
       " '당해': NounScore(frequency=23, score=0.997334, known_r_ratio=0.25),\n",
       " 'NG': NounScore(frequency=13, score=0.9179677777777778, known_r_ratio=1.0),\n",
       " '자극': NounScore(frequency=98, score=0.8961513968253968, known_r_ratio=0.7078651685393258),\n",
       " '초원': NounScore(frequency=9, score=0.9997192, known_r_ratio=1.0),\n",
       " '재수': NounScore(frequency=20, score=0.9997778333333334, known_r_ratio=0.9230769230769231),\n",
       " '자살': NounScore(frequency=7, score=0.763808, known_r_ratio=1.0),\n",
       " '예에': NounScore(frequency=36, score=0.6250595, known_r_ratio=0.2),\n",
       " '미로': NounScore(frequency=233, score=0.899116142857143, known_r_ratio=0.75),\n",
       " '포장': NounScore(frequency=31, score=0.8616359333333333, known_r_ratio=0.5555555555555556),\n",
       " '눈길': NounScore(frequency=127, score=0.7466560769230769, known_r_ratio=0.9397590361445783),\n",
       " '부처': NounScore(frequency=11, score=0.997334, known_r_ratio=0.2857142857142857),\n",
       " '서로': NounScore(frequency=1764, score=0.9952424140508224, known_r_ratio=0.9823788546255506),\n",
       " '날개': NounScore(frequency=303, score=0.8936744955357142, known_r_ratio=0.9491525423728814),\n",
       " '불쾌': NounScore(frequency=5, score=0.9976579999999999, known_r_ratio=1.0),\n",
       " '울림': NounScore(frequency=36, score=0.8058184782608694, known_r_ratio=0.8518518518518519),\n",
       " '고기': NounScore(frequency=14, score=0.829506, known_r_ratio=1.0),\n",
       " 'it': NounScore(frequency=9246, score=1.0, known_r_ratio=0.02040816326530612),\n",
       " '날카': NounScore(frequency=93, score=1.0, known_r_ratio=0.8636363636363636),\n",
       " '웬만': NounScore(frequency=23, score=1.0, known_r_ratio=0.6923076923076923),\n",
       " '대책': NounScore(frequency=12, score=0.8764387499999999, known_r_ratio=1.0),\n",
       " '용서': NounScore(frequency=558, score=0.9833678274509806, known_r_ratio=0.529045643153527),\n",
       " '공감': NounScore(frequency=20, score=0.5491195, known_r_ratio=0.5555555555555556),\n",
       " '서야': NounScore(frequency=15, score=0.995316, known_r_ratio=1.0),\n",
       " '맞춤': NounScore(frequency=9, score=0.6701153333333333, known_r_ratio=0.6),\n",
       " '선율': NounScore(frequency=39, score=0.875949, known_r_ratio=0.8888888888888888),\n",
       " '유난': NounScore(frequency=135, score=1.0, known_r_ratio=0.014925373134328358),\n",
       " '무궁': NounScore(frequency=7, score=1.0, known_r_ratio=0.3333333333333333),\n",
       " '잿빛': NounScore(frequency=8, score=0.9994525000000001, known_r_ratio=1.0),\n",
       " '절규': NounScore(frequency=11, score=0.9952416000000002, known_r_ratio=1.0),\n",
       " '외톨': NounScore(frequency=59, score=0.9997036363636363, known_r_ratio=0.9322033898305084),\n",
       " '잠결': NounScore(frequency=11, score=0.9997454545454546, known_r_ratio=1.0),\n",
       " '사양': NounScore(frequency=10, score=0.978997, known_r_ratio=0.125),\n",
       " '흔적': NounScore(frequency=271, score=0.7565210620155037, known_r_ratio=0.6482412060301508),\n",
       " '잔인': NounScore(frequency=154, score=0.9984529370629371, known_r_ratio=0.9285714285714286),\n",
       " '슬픔': NounScore(frequency=880, score=0.6019706059113299, known_r_ratio=0.8916544655929722),\n",
       " '나긋': NounScore(frequency=18, score=0.9986381666666667, known_r_ratio=0.42857142857142855),\n",
       " '새침': NounScore(frequency=41, score=0.9973698484848484, known_r_ratio=0.9428571428571428),\n",
       " '그끝': NounScore(frequency=8, score=0.999567142857143, known_r_ratio=0.875),\n",
       " '입술': NounScore(frequency=1212, score=0.7325613258559621, known_r_ratio=0.9702176403207331),\n",
       " '충전': NounScore(frequency=10, score=0.999674, known_r_ratio=1.0),\n",
       " '나중': NounScore(frequency=43, score=0.9997324999999999, known_r_ratio=0.8780487804878049),\n",
       " '살것': NounScore(frequency=6, score=0.8815148, known_r_ratio=1.0),\n",
       " '불가': NounScore(frequency=31, score=0.978997, known_r_ratio=0.05555555555555555),\n",
       " '보드': NounScore(frequency=8, score=0.997334, known_r_ratio=0.16666666666666666),\n",
       " '유별': NounScore(frequency=8, score=0.720059, known_r_ratio=0.625),\n",
       " '울컥': NounScore(frequency=35, score=0.746077875, known_r_ratio=0.8),\n",
       " '비트': NounScore(frequency=90, score=0.9388133043478263, known_r_ratio=0.9583333333333334),\n",
       " '딱지': NounScore(frequency=14, score=1.0, known_r_ratio=1.0),\n",
       " '금가': NounScore(frequency=5, score=1.0, known_r_ratio=1.0),\n",
       " '의무': NounScore(frequency=10, score=0.6743382, known_r_ratio=0.5555555555555556),\n",
       " '반짝': NounScore(frequency=538, score=0.5555364349442379, known_r_ratio=0.6593137254901961),\n",
       " '위협': NounScore(frequency=8, score=0.9124855, known_r_ratio=1.0),\n",
       " '불꽃': NounScore(frequency=153, score=0.8099423620689655, known_r_ratio=0.8923076923076924),\n",
       " '선생': NounScore(frequency=44, score=1.0, known_r_ratio=0.08108108108108109),\n",
       " '오바': NounScore(frequency=16, score=0.9980763999999999, known_r_ratio=0.45454545454545453),\n",
       " '선선': NounScore(frequency=5, score=0.9993026, known_r_ratio=1.0),\n",
       " '건반': NounScore(frequency=9, score=0.75227025, known_r_ratio=0.6666666666666666),\n",
       " '백지': NounScore(frequency=13, score=0.9999066666666666, known_r_ratio=0.8571428571428571),\n",
       " '기타': NounScore(frequency=15, score=0.9873149999999999, known_r_ratio=1.0),\n",
       " '개미': NounScore(frequency=11, score=0.9998683333333332, known_r_ratio=0.3333333333333333),\n",
       " '일등': NounScore(frequency=12, score=0.6985975714285714, known_r_ratio=0.875),\n",
       " '매료': NounScore(frequency=5, score=1.0, known_r_ratio=0.8),\n",
       " '핑계': NounScore(frequency=116, score=0.7750109552238806, known_r_ratio=0.8170731707317073),\n",
       " '솜씨': NounScore(frequency=8, score=0.9976332000000001, known_r_ratio=1.0),\n",
       " '지체': NounScore(frequency=5, score=0.997334, known_r_ratio=0.5),\n",
       " '성장': NounScore(frequency=12, score=0.9973550000000001, known_r_ratio=0.42857142857142855),\n",
       " '소설': NounScore(frequency=63, score=0.9476583421052632, known_r_ratio=0.7755102040816326),\n",
       " '세포': NounScore(frequency=21, score=0.9983985454545454, known_r_ratio=0.7333333333333333),\n",
       " '귀신': NounScore(frequency=9, score=0.9784813750000001, known_r_ratio=0.8888888888888888),\n",
       " '어둠': NounScore(frequency=839, score=0.7935193170731707, known_r_ratio=0.839851024208566),\n",
       " '있고': NounScore(frequency=363, score=1.0, known_r_ratio=0.08333333333333333),\n",
       " '독약': NounScore(frequency=5, score=0.9995925, known_r_ratio=0.4),\n",
       " '치료': NounScore(frequency=43, score=0.9137988333333333, known_r_ratio=0.6),\n",
       " '은밀': NounScore(frequency=61, score=0.8584064565217391, known_r_ratio=0.7540983606557377),\n",
       " '빼고': NounScore(frequency=130, score=0.760713, known_r_ratio=0.5),\n",
       " '맨발': NounScore(frequency=10, score=0.998947, known_r_ratio=1.0),\n",
       " '상냥': NounScore(frequency=21, score=0.9980711052631579, known_r_ratio=0.9047619047619048),\n",
       " '잔상': NounScore(frequency=12, score=0.73691675, known_r_ratio=1.0),\n",
       " '주체': NounScore(frequency=43, score=0.9927783750000001, known_r_ratio=0.3333333333333333),\n",
       " '심판': NounScore(frequency=20, score=0.9633735625, known_r_ratio=0.9411764705882353),\n",
       " '주책': NounScore(frequency=11, score=1.0, known_r_ratio=0.2857142857142857),\n",
       " '방해': NounScore(frequency=78, score=0.9817295454545455, known_r_ratio=0.7333333333333333),\n",
       " '고막': NounScore(frequency=6, score=0.6037231999999999, known_r_ratio=0.8333333333333334),\n",
       " '파티': NounScore(frequency=90, score=0.5025988571428571, known_r_ratio=1.0),\n",
       " '되려': NounScore(frequency=46, score=0.994447, known_r_ratio=0.6666666666666666),\n",
       " '젠틀': NounScore(frequency=22, score=0.9990592500000001, known_r_ratio=0.6666666666666666),\n",
       " '없게': NounScore(frequency=448, score=0.995316, known_r_ratio=0.8),\n",
       " '과녁': NounScore(frequency=10, score=0.6286387142857143, known_r_ratio=1.0),\n",
       " '환장': NounScore(frequency=6, score=0.99678625, known_r_ratio=0.8),\n",
       " '까닭': NounScore(frequency=5, score=0.8021370000000001, known_r_ratio=1.0),\n",
       " '해석': NounScore(frequency=11, score=0.8977778000000001, known_r_ratio=0.8333333333333334),\n",
       " '패턴': NounScore(frequency=29, score=0.7114257777777778, known_r_ratio=0.8181818181818182),\n",
       " '이쁜': NounScore(frequency=116, score=0.6021308, known_r_ratio=0.30612244897959184),\n",
       " '만큼': NounScore(frequency=870, score=0.6422985999999999, known_r_ratio=0.625),\n",
       " '나이': NounScore(frequency=255, score=0.8969080416666666, known_r_ratio=0.6923076923076923),\n",
       " '심연': NounScore(frequency=7, score=0.99985325, known_r_ratio=1.0),\n",
       " '적막': NounScore(frequency=15, score=0.999674, known_r_ratio=0.7142857142857143),\n",
       " '인상': NounScore(frequency=30, score=0.6038543, known_r_ratio=0.8333333333333334),\n",
       " '계획': NounScore(frequency=53, score=0.7861111785714285, known_r_ratio=0.6829268292682927),\n",
       " '숲속': NounScore(frequency=5, score=0.9997535, known_r_ratio=0.8),\n",
       " '쥐려': NounScore(frequency=5, score=0.975221, known_r_ratio=1.0),\n",
       " '도움': NounScore(frequency=22, score=0.944319888888889, known_r_ratio=1.0),\n",
       " '멀지': NounScore(frequency=78, score=0.957621, known_r_ratio=0.7222222222222222),\n",
       " '진주': NounScore(frequency=16, score=0.9998419999999999, known_r_ratio=0.7142857142857143),\n",
       " '거대': NounScore(frequency=14, score=0.9997317692307692, known_r_ratio=0.9285714285714286),\n",
       " '백일': NounScore(frequency=10, score=0.504724, known_r_ratio=0.125),\n",
       " '정신': NounScore(frequency=559, score=0.7917418619246862, known_r_ratio=0.8917910447761194),\n",
       " '개념': NounScore(frequency=9, score=0.8757735, known_r_ratio=1.0),\n",
       " '비교': NounScore(frequency=127, score=0.8628177166666667, known_r_ratio=0.6382978723404256),\n",
       " '유효': NounScore(frequency=8, score=0.995316, known_r_ratio=0.14285714285714285),\n",
       " '들지': NounScore(frequency=74, score=0.9717473333333334, known_r_ratio=0.5),\n",
       " '알쏭': NounScore(frequency=29, score=1.0, known_r_ratio=0.04),\n",
       " '가방': NounScore(frequency=35, score=0.6769237826086957, known_r_ratio=0.92),\n",
       " '센척': NounScore(frequency=6, score=0.9979077999999999, known_r_ratio=0.8333333333333334),\n",
       " '내편': NounScore(frequency=14, score=0.5437596666666666, known_r_ratio=0.8181818181818182),\n",
       " '다행': NounScore(frequency=107, score=0.9020631818181819, known_r_ratio=0.8301886792452831),\n",
       " '성적': NounScore(frequency=15, score=0.6780416, known_r_ratio=0.38461538461538464),\n",
       " '기록': NounScore(frequency=13, score=0.672164, known_r_ratio=0.7272727272727273),\n",
       " '손을': NounScore(frequency=1748, score=0.797052, known_r_ratio=0.8571428571428571),\n",
       " '온도': NounScore(frequency=78, score=0.722700435897436, known_r_ratio=0.975),\n",
       " '눈밭': NounScore(frequency=9, score=0.7168861428571428, known_r_ratio=1.0),\n",
       " '동생': NounScore(frequency=50, score=0.706939, known_r_ratio=0.7142857142857143),\n",
       " '준대': NounScore(frequency=33, score=0.505755, known_r_ratio=1.0),\n",
       " '빗물': NounScore(frequency=98, score=0.8728279480519479, known_r_ratio=0.8651685393258427),\n",
       " '우선': NounScore(frequency=29, score=0.7321988333333334, known_r_ratio=0.75),\n",
       " '온유': NounScore(frequency=17, score=0.9684826666666666, known_r_ratio=1.0),\n",
       " '좋다': NounScore(frequency=243, score=1.0, known_r_ratio=0.3),\n",
       " '글자': NounScore(frequency=49, score=0.9919775185185186, known_r_ratio=0.9310344827586207),\n",
       " '공부': NounScore(frequency=76, score=0.8770475283018868, known_r_ratio=0.9814814814814815),\n",
       " '응답': NounScore(frequency=7, score=0.752362, known_r_ratio=0.6666666666666666),\n",
       " '갈구': NounScore(frequency=9, score=0.995032625, known_r_ratio=1.0),\n",
       " '수천': NounScore(frequency=50, score=1.0, known_r_ratio=0.15789473684210525),\n",
       " '코트': NounScore(frequency=20, score=0.9993115, known_r_ratio=1.0),\n",
       " '체념': NounScore(frequency=21, score=0.7796203333333334, known_r_ratio=0.7058823529411765),\n",
       " '불편': NounScore(frequency=45, score=0.9955339069767442, known_r_ratio=0.9772727272727273),\n",
       " '자정': NounScore(frequency=12, score=0.6131143750000001, known_r_ratio=1.0),\n",
       " '지탱': NounScore(frequency=8, score=0.98027, known_r_ratio=0.625),\n",
       " '전생': NounScore(frequency=23, score=0.9997205714285716, known_r_ratio=1.0),\n",
       " '터치': NounScore(frequency=26, score=0.997651125, known_r_ratio=0.8888888888888888),\n",
       " '하룻': NounScore(frequency=51, score=0.951425, known_r_ratio=0.02),\n",
       " '축복': NounScore(frequency=175, score=0.9133615689655172, known_r_ratio=0.7682119205298014),\n",
       " '당황': NounScore(frequency=75, score=0.9813873958333333, known_r_ratio=0.7619047619047619),\n",
       " '뽀뽀': NounScore(frequency=25, score=0.8044688181818181, known_r_ratio=0.6111111111111112),\n",
       " '후련': NounScore(frequency=15, score=0.9960993333333333, known_r_ratio=0.4),\n",
       " '떳떳': NounScore(frequency=23, score=0.9958474166666665, known_r_ratio=0.6),\n",
       " '이슬': NounScore(frequency=38, score=0.8765673333333334, known_r_ratio=0.75),\n",
       " '술취': NounScore(frequency=7, score=0.9986617142857143, known_r_ratio=1.0),\n",
       " '사슬': NounScore(frequency=10, score=0.7318630000000002, known_r_ratio=0.6666666666666666),\n",
       " '줘야': NounScore(frequency=37, score=0.8298730833333333, known_r_ratio=1.0),\n",
       " '오나': NounScore(frequency=22, score=0.999867, known_r_ratio=1.0),\n",
       " '떨지': NounScore(frequency=32, score=1.0, known_r_ratio=0.875),\n",
       " '환심': NounScore(frequency=5, score=0.5940641999999999, known_r_ratio=1.0),\n",
       " '추위': NounScore(frequency=17, score=0.9583467500000001, known_r_ratio=0.9230769230769231),\n",
       " '잔혹': NounScore(frequency=6, score=0.9957969999999999, known_r_ratio=0.8333333333333334),\n",
       " '이후': NounScore(frequency=71, score=0.9989035714285714, known_r_ratio=0.9655172413793104),\n",
       " '알람': NounScore(frequency=42, score=0.8263321333333333, known_r_ratio=0.5769230769230769),\n",
       " '애기': NounScore(frequency=32, score=0.9980495, known_r_ratio=0.36363636363636365),\n",
       " '과정': NounScore(frequency=27, score=0.851225, known_r_ratio=0.47619047619047616),\n",
       " '뚜루': NounScore(frequency=222, score=0.9401095, known_r_ratio=0.2994652406417112),\n",
       " '일로': NounScore(frequency=42, score=0.93776, known_r_ratio=1.0),\n",
       " '정상': NounScore(frequency=66, score=0.9030682682926829, known_r_ratio=0.8913043478260869),\n",
       " '단서': NounScore(frequency=6, score=0.999605, known_r_ratio=0.5),\n",
       " '틈새': NounScore(frequency=9, score=0.9990883333333334, known_r_ratio=1.0),\n",
       " '없기': NounScore(frequency=159, score=1.0, known_r_ratio=0.2),\n",
       " '진정': NounScore(frequency=179, score=0.9939772795698923, known_r_ratio=0.96875),\n",
       " '캔디': NounScore(frequency=34, score=0.9995177727272726, known_r_ratio=1.0),\n",
       " '세수': NounScore(frequency=19, score=0.9919712307692308, known_r_ratio=1.0),\n",
       " '사나': NounScore(frequency=63, score=0.5117180487804879, known_r_ratio=0.7454545454545455),\n",
       " '뼛속': NounScore(frequency=18, score=0.9996788235294118, known_r_ratio=1.0),\n",
       " '민주': NounScore(frequency=5, score=1.0, known_r_ratio=0.25),\n",
       " '궁상': NounScore(frequency=8, score=0.7551456666666666, known_r_ratio=0.42857142857142855),\n",
       " '속물': NounScore(frequency=6, score=0.9997283333333332, known_r_ratio=0.6),\n",
       " '거짓': NounScore(frequency=1479, score=0.8102779483568076, known_r_ratio=0.16409861325115563),\n",
       " '화분': NounScore(frequency=6, score=0.9998319999999999, known_r_ratio=0.8333333333333334),\n",
       " '사정': NounScore(frequency=14, score=0.9962738181818181, known_r_ratio=0.9166666666666666),\n",
       " '올인': NounScore(frequency=11, score=0.995316, known_r_ratio=0.25),\n",
       " '장면': NounScore(frequency=65, score=0.9298087586206896, known_r_ratio=0.6904761904761905),\n",
       " ...}"
      ]
     },
     "execution_count": 29,
     "metadata": {},
     "output_type": "execute_result"
    }
   ],
   "source": [
    "nouns"
   ]
  },
  {
   "cell_type": "code",
   "execution_count": 30,
   "metadata": {
    "collapsed": true
   },
   "outputs": [],
   "source": [
    "first_key = list(nouns.keys())[0]"
   ]
  },
  {
   "cell_type": "code",
   "execution_count": 31,
   "metadata": {
    "scrolled": false
   },
   "outputs": [
    {
     "data": {
      "text/plain": [
       "'영상'"
      ]
     },
     "execution_count": 31,
     "metadata": {},
     "output_type": "execute_result"
    }
   ],
   "source": [
    "first_key"
   ]
  },
  {
   "cell_type": "code",
   "execution_count": 32,
   "metadata": {
    "collapsed": true
   },
   "outputs": [],
   "source": [
    "# 딕셔너리는 따로 순서가 없어서 인덱스 번호가 안먹는다. 따라서 따로 함수를 만들어서 단어만 추출함\n",
    "\n",
    "def get_first_key(dictionary):\n",
    "    for key in dictionary.keys():\n",
    "        return key\n",
    "\n",
    "keys = []  \n",
    "\n",
    "for k in range(len(nouns)):\n",
    "    key_name = list(nouns.keys())[k]\n",
    "    keys.append(key_name)"
   ]
  },
  {
   "cell_type": "code",
   "execution_count": 35,
   "metadata": {
    "scrolled": true
   },
   "outputs": [
    {
     "data": {
      "text/plain": [
       "4254"
      ]
     },
     "execution_count": 35,
     "metadata": {},
     "output_type": "execute_result"
    }
   ],
   "source": [
    "len(keys)  # 원래 전체(명사,형용사...)토큰의 개수는 2,244,770 (약 224만개)"
   ]
  },
  {
   "cell_type": "code",
   "execution_count": 37,
   "metadata": {
    "collapsed": true
   },
   "outputs": [],
   "source": [
    "df_keys = pd.DataFrame(keys)"
   ]
  },
  {
   "cell_type": "code",
   "execution_count": 44,
   "metadata": {
    "scrolled": true
   },
   "outputs": [
    {
     "data": {
      "text/plain": [
       "어이        1\n",
       "일루        1\n",
       "혼잣말       1\n",
       "삶속        1\n",
       "편지        1\n",
       "대구        1\n",
       "챔피언       1\n",
       "Cut       1\n",
       "아줌마       1\n",
       "사탕        1\n",
       "허우적대      1\n",
       "끝이나       1\n",
       "아무일       1\n",
       "변화구       1\n",
       "욕심들       1\n",
       "설득        1\n",
       "그렇게       1\n",
       "대접        1\n",
       "주목        1\n",
       "도착        1\n",
       "jam       1\n",
       "매너        1\n",
       "현명        1\n",
       "매력적       1\n",
       "패배자       1\n",
       "행복함       1\n",
       "잠잘때       1\n",
       "어둠        1\n",
       "아쉬움       1\n",
       "내모습       1\n",
       "         ..\n",
       "노을        1\n",
       "KO        1\n",
       "에에에에에에    1\n",
       "비결        1\n",
       "고정관념      1\n",
       "니맘        1\n",
       "허무        1\n",
       "따뜻        1\n",
       "경계        1\n",
       "달콤함       1\n",
       "신혼        1\n",
       "땡땡        1\n",
       "즐거움       1\n",
       "여행        1\n",
       "컴컴        1\n",
       "생각들       1\n",
       "낭비        1\n",
       "웃을수       1\n",
       "유리잔       1\n",
       "눈가        1\n",
       "환희        1\n",
       "가졌다       1\n",
       "다섯        1\n",
       "큰사        1\n",
       "우아        1\n",
       "기침        1\n",
       "한발짝       1\n",
       "반대        1\n",
       "뿌듯        1\n",
       "고통        1\n",
       "Name: 0, Length: 4254, dtype: int64"
      ]
     },
     "execution_count": 44,
     "metadata": {},
     "output_type": "execute_result"
    }
   ],
   "source": [
    "df_keys[0].value_counts()  "
   ]
  }
 ],
 "metadata": {
  "kernelspec": {
   "display_name": "Python 3",
   "language": "python",
   "name": "python3"
  },
  "language_info": {
   "codemirror_mode": {
    "name": "ipython",
    "version": 3
   },
   "file_extension": ".py",
   "mimetype": "text/x-python",
   "name": "python",
   "nbconvert_exporter": "python",
   "pygments_lexer": "ipython3",
   "version": "3.6.3"
  }
 },
 "nbformat": 4,
 "nbformat_minor": 2
}
