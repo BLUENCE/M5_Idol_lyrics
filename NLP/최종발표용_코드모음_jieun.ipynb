{
 "cells": [
  {
   "cell_type": "code",
   "execution_count": 563,
   "metadata": {
    "collapsed": true
   },
   "outputs": [],
   "source": [
    "# !pip install soynlp\n",
    "# !pip install gensim"
   ]
  },
  {
   "cell_type": "code",
   "execution_count": 1,
   "metadata": {},
   "outputs": [
    {
     "data": {
      "text/plain": [
       "<soynlp.tokenizer._tokenizer.RegexTokenizer at 0x10b619a20>"
      ]
     },
     "execution_count": 1,
     "metadata": {},
     "output_type": "execute_result"
    }
   ],
   "source": [
    "import pandas as pd\n",
    "import numpy as np\n",
    "import re\n",
    "from soynlp.tokenizer import RegexTokenizer\n",
    "import gensim\n",
    "from gensim.models import Phrases\n",
    "from gensim.models.word2vec import LineSentence\n",
    "from gensim import corpora, models\n",
    "from gensim.models import LdaMulticore\n",
    "from gensim.models import Word2Vec\n",
    "from gensim.corpora import Dictionary, MmCorpus\n",
    "\n",
    "\n",
    "tokenizer = RegexTokenizer()\n",
    "tokenizer"
   ]
  },
  {
   "cell_type": "code",
   "execution_count": 2,
   "metadata": {
    "collapsed": true
   },
   "outputs": [],
   "source": [
    "# 곡 정보 파일 불러오기\n",
    "df = pd.read_csv('data/song_tidy03.csv')"
   ]
  },
  {
   "cell_type": "code",
   "execution_count": 3,
   "metadata": {
    "scrolled": false
   },
   "outputs": [
    {
     "data": {
      "text/plain": [
       "(9582, 12)"
      ]
     },
     "execution_count": 3,
     "metadata": {},
     "output_type": "execute_result"
    }
   ],
   "source": [
    "df.shape"
   ]
  },
  {
   "cell_type": "code",
   "execution_count": 4,
   "metadata": {
    "collapsed": true
   },
   "outputs": [],
   "source": [
    "# 가수 정보 파일 불러오기\n",
    "df2 = pd.read_csv('data/artist_info_combined_ver04.csv', encoding='euc-kr')"
   ]
  },
  {
   "cell_type": "code",
   "execution_count": 5,
   "metadata": {
    "collapsed": true
   },
   "outputs": [],
   "source": [
    "# 곡 정보와 가수 정보를 머지해준다.\n",
    "song = pd.merge(df, df2, on='artist')"
   ]
  },
  {
   "cell_type": "code",
   "execution_count": 6,
   "metadata": {
    "collapsed": true
   },
   "outputs": [],
   "source": [
    "# 가사 분석에 용이하도록 <br>을 공백으로 바꿔준다.\n",
    "song['lyrics'] = song['lyrics'].str.replace(r'<br>', ' ')"
   ]
  },
  {
   "cell_type": "code",
   "execution_count": 214,
   "metadata": {
    "collapsed": true
   },
   "outputs": [],
   "source": [
    "whole_song = song['lyrics']\n",
    "f = song[song['gender'] == '여']\n",
    "whole_female = f['lyrics'].reset_index(drop=True)\n",
    "m = song[song['gender'] == '남']\n",
    "whole_male = m['lyrics'].reset_index(drop=True)"
   ]
  },
  {
   "cell_type": "code",
   "execution_count": 79,
   "metadata": {
    "collapsed": true
   },
   "outputs": [],
   "source": [
    "# 여자 전체곡수\n",
    "female_len = whole_female.shape[0]\n",
    "# 남자 전체곡수 \n",
    "male_len = whole_male.shape[0]"
   ]
  },
  {
   "cell_type": "code",
   "execution_count": 80,
   "metadata": {
    "scrolled": false
   },
   "outputs": [
    {
     "data": {
      "text/plain": [
       "2379"
      ]
     },
     "execution_count": 80,
     "metadata": {},
     "output_type": "execute_result"
    }
   ],
   "source": [
    "# 타이틀 곡은 몇곡일까\n",
    "len(song[song.is_title == '타이틀 곡'])"
   ]
  },
  {
   "cell_type": "markdown",
   "metadata": {},
   "source": [
    "## 해당 단어를 포함한 곡의 수 "
   ]
  },
  {
   "cell_type": "code",
   "execution_count": 86,
   "metadata": {
    "collapsed": true
   },
   "outputs": [],
   "source": [
    "female_k = whole_female[whole_female['lyrics'].str.contains(\"본능\", na=False)]\n",
    "female_k = int(female_k.shape[0])"
   ]
  },
  {
   "cell_type": "code",
   "execution_count": 87,
   "metadata": {
    "scrolled": true
   },
   "outputs": [],
   "source": [
    "male_k = whole_male[whole_male['lyrics'].str.contains(\"본능\", na=False)]\n",
    "male_k = int(male_k.shape[0])"
   ]
  },
  {
   "cell_type": "code",
   "execution_count": 90,
   "metadata": {},
   "outputs": [
    {
     "data": {
      "text/plain": [
       "0.4194128220491312"
      ]
     },
     "execution_count": 90,
     "metadata": {},
     "output_type": "execute_result"
    }
   ],
   "source": [
    "# 여자그룹의 가수 곡 중에서 해당 단어의 등장 비율 보기 \n",
    "(female_k/female_len)*100  # 0.4퍼 "
   ]
  },
  {
   "cell_type": "code",
   "execution_count": 91,
   "metadata": {
    "scrolled": true
   },
   "outputs": [
    {
     "data": {
      "text/plain": [
       "0.9712046345203612"
      ]
     },
     "execution_count": 91,
     "metadata": {},
     "output_type": "execute_result"
    }
   ],
   "source": [
    "# 남자그룹의 가수 곡 중에서 해당 단어의 등장 비율 보기 \n",
    "(male_k/male_len)*100  # 1퍼 "
   ]
  },
  {
   "cell_type": "markdown",
   "metadata": {},
   "source": [
    "## 단어 전처리 및 토크나이징"
   ]
  },
  {
   "cell_type": "code",
   "execution_count": 16,
   "metadata": {
    "collapsed": true
   },
   "outputs": [],
   "source": [
    "def preprocessing(text):\n",
    "    # 개행문자 제거\n",
    "    text =  text.strip('\\t\\n\\r')\n",
    "    pattern = re.compile(r'\\s+')\n",
    "    text = re.sub(pattern, ' ', text)\n",
    "    # 특수문자 제거\n",
    "    # 특수문자나 이모티콘 등은 때로는 의미를 갖기도 하지만 여기에서는 제거했습니다.\n",
    "    # text = re.sub('[?.,;:|\\)*~`’!^\\-_+<>@\\#$%&-=#}※]', '', text)\n",
    "    # 한글, 영문, 숫자만 남기고 모두 제거하도록 합니다.\n",
    "    # text = re.sub('[^가-힣ㄱ-ㅎㅏ-ㅣa-zA-Z0-9]', ' ', text)\n",
    "    # 한글, 영문만 남기고 모두 제거하도록 합니다.\n",
    "    text = re.sub('[^가-힣ㄱ-ㅎㅏ-ㅣa-zA-Z]', ' ', text)\n",
    "    return text"
   ]
  },
  {
   "cell_type": "code",
   "execution_count": 17,
   "metadata": {
    "collapsed": true
   },
   "outputs": [],
   "source": [
    "def tokenize(df):\n",
    "    sentences = df['lyrics'].apply(preprocessing)\n",
    "    tokens = sentences.apply(tokenizer.tokenize)\n",
    "    tokens = tokens.tolist()\n",
    "    tokens_all = sum(tokens, [])\n",
    "    return tokens_all"
   ]
  },
  {
   "cell_type": "code",
   "execution_count": 18,
   "metadata": {},
   "outputs": [],
   "source": [
    "# 토크나이징 적용\n",
    "\n",
    "song_t = tokenize(song)  # 토크나이징 된 것이 해당 song_t로 들어간다.\n",
    "female_t = tokenize(female)\n",
    "male_t = tokenize(male)"
   ]
  },
  {
   "cell_type": "markdown",
   "metadata": {},
   "source": [
    "# 하다가 꼬였는가? copy 한거 쓰자!!!!!"
   ]
  },
  {
   "cell_type": "code",
   "execution_count": 19,
   "metadata": {
    "collapsed": true
   },
   "outputs": [],
   "source": [
    "# copy()\n",
    "\n",
    "song_t = song_t.copy()\n",
    "female_t = female_t.copy()\n",
    "male_t = male_t.copy()"
   ]
  },
  {
   "cell_type": "code",
   "execution_count": 20,
   "metadata": {
    "scrolled": true
   },
   "outputs": [
    {
     "data": {
      "text/plain": [
       "769211"
      ]
     },
     "execution_count": 20,
     "metadata": {},
     "output_type": "execute_result"
    }
   ],
   "source": [
    "len(female_t)  # 여그룹 총 토크나이징된 단어 769,211  약 77만 "
   ]
  },
  {
   "cell_type": "code",
   "execution_count": 21,
   "metadata": {
    "scrolled": false
   },
   "outputs": [
    {
     "data": {
      "text/plain": [
       "1409422"
      ]
     },
     "execution_count": 21,
     "metadata": {},
     "output_type": "execute_result"
    }
   ],
   "source": [
    "len(male_t)  # 남그룹 총 토크나이징된 단어  1,409,422  약 141만"
   ]
  },
  {
   "cell_type": "code",
   "execution_count": 698,
   "metadata": {
    "collapsed": true
   },
   "outputs": [],
   "source": [
    "# male_t  # 하나로 합쳐져있다."
   ]
  },
  {
   "cell_type": "markdown",
   "metadata": {},
   "source": [
    "## 앞/뒤에 오는 단어를 보는 함수"
   ]
  },
  {
   "cell_type": "code",
   "execution_count": 22,
   "metadata": {
    "collapsed": true
   },
   "outputs": [],
   "source": [
    "# 중복되는 구절이 있어서 만든 유니크한 값만 보는 함수\n",
    "\n",
    "def unique(word):\n",
    "    result = []\n",
    "    for i in word:\n",
    "        if i not in result: #inside for\n",
    "            result.append(i) #inside for inside if\n",
    "    return result\n",
    "    print(result)"
   ]
  },
  {
   "cell_type": "code",
   "execution_count": 270,
   "metadata": {
    "collapsed": true
   },
   "outputs": [],
   "source": [
    "# 앞 5글자, 뒤 5글자 한번에 보는 함수 \n",
    "    \n",
    "def n_f_word(tokenized_list, search_word):\n",
    "    indices2 = [i for i, x in enumerate(tokenized_list) if x == search_word]\n",
    "    i = 0\n",
    "    result = []\n",
    "    for i in range(len(indices2)):\n",
    "        next_word_2 = tokenized_list[indices2[i] - 5 :indices2[i] + 6]  #\n",
    "        result.append(next_word_2[1:])\n",
    "        i+=1\n",
    "    return result\n"
   ]
  },
  {
   "cell_type": "code",
   "execution_count": 284,
   "metadata": {},
   "outputs": [],
   "source": [
    "# 두 음절 이상의 단어중에서 빈도수 상위 30 번째까지 출력 \n",
    "from collections import Counter\n",
    "\n",
    "topn = 30 \n",
    "\n",
    "def more_word(word):     \n",
    "    more_words = []\n",
    "    for v1 in word:\n",
    "        for v2 in v1:\n",
    "             if len(v2) > 1:\n",
    "                more_words.append(v2)\n",
    "    result = Counter(more_words).most_common(topn)\n",
    "    return result"
   ]
  },
  {
   "cell_type": "markdown",
   "metadata": {},
   "source": [
    "# 원하는 키워드가 들어간 문장 '한 노래당 하나씩만' 보기 "
   ]
  },
  {
   "cell_type": "code",
   "execution_count": 147,
   "metadata": {
    "collapsed": true
   },
   "outputs": [],
   "source": [
    "# EX) '잘생' 이라는 글자가 등장하면 곡 당 제일 먼저 걸리는 한 구절만 가져오게 했습니다."
   ]
  },
  {
   "cell_type": "code",
   "execution_count": 176,
   "metadata": {},
   "outputs": [
    {
     "data": {
      "text/plain": [
       "9566"
      ]
     },
     "execution_count": 176,
     "metadata": {},
     "output_type": "execute_result"
    }
   ],
   "source": [
    "len(lyrics)"
   ]
  },
  {
   "cell_type": "code",
   "execution_count": 215,
   "metadata": {
    "scrolled": true
   },
   "outputs": [
    {
     "data": {
      "text/plain": [
       "5869"
      ]
     },
     "execution_count": 215,
     "metadata": {},
     "output_type": "execute_result"
    }
   ],
   "source": [
    "len(whole_male)"
   ]
  },
  {
   "cell_type": "code",
   "execution_count": null,
   "metadata": {
    "collapsed": true
   },
   "outputs": [],
   "source": [
    "넥타이,수트(정장) --> (비교) \n",
    "\n",
    "3. 신체부위 : 단어 빈도 = > 맥락확인 (Keyword in context 픽토그램)\n",
    "-얼굴, 눈,코,입(술),\n",
    "-허리, 다리, 엉덩이\n",
    "-몸매 \n",
    "-근육, 어깨 (남자?), 등(남자?) ,키\n",
    "-화장\n",
    "(수치적으로)\n"
   ]
  },
  {
   "cell_type": "code",
   "execution_count": 266,
   "metadata": {
    "scrolled": false
   },
   "outputs": [],
   "source": [
    "lyrics = whole_song  # whole_song(전체곡 중에서 보기), whole_female(여성그룹 중에서 보기), whole_male(남성그룹 중에서 보기)\n",
    "result = []\n",
    "\n",
    "import re\n",
    "\n",
    "for i in range(len(lyrics)):\n",
    "    texts = lyrics[i]\n",
    "    f = re.search(r'(.{0,40}(Ss)uit.{0,40})', texts)\n",
    "    if f is not None:\n",
    "        result.append('노래번호 (' + str(i) + ') ' + f[0])"
   ]
  },
  {
   "cell_type": "code",
   "execution_count": 267,
   "metadata": {
    "scrolled": true
   },
   "outputs": [
    {
     "data": {
      "text/plain": [
       "0"
      ]
     },
     "execution_count": 267,
     "metadata": {},
     "output_type": "execute_result"
    }
   ],
   "source": [
    "len(result) # 등장한 곡 수 "
   ]
  },
  {
   "cell_type": "code",
   "execution_count": 268,
   "metadata": {},
   "outputs": [
    {
     "data": {
      "text/plain": [
       "[]"
      ]
     },
     "execution_count": 268,
     "metadata": {},
     "output_type": "execute_result"
    }
   ],
   "source": [
    "result  # EX) '잘생' 이라는 글자가 등장하면 곡 당 제일 먼저 걸리는 한 구절만 가져오게 했습니다."
   ]
  },
  {
   "cell_type": "code",
   "execution_count": 226,
   "metadata": {
    "scrolled": true
   },
   "outputs": [],
   "source": [
    "# lyrics[315]  # 전체 가사로 확인해보기 "
   ]
  },
  {
   "cell_type": "code",
   "execution_count": null,
   "metadata": {
    "collapsed": true
   },
   "outputs": [],
   "source": []
  },
  {
   "cell_type": "code",
   "execution_count": null,
   "metadata": {
    "collapsed": true
   },
   "outputs": [],
   "source": []
  },
  {
   "cell_type": "code",
   "execution_count": null,
   "metadata": {
    "collapsed": true
   },
   "outputs": [],
   "source": []
  },
  {
   "cell_type": "code",
   "execution_count": null,
   "metadata": {
    "collapsed": true
   },
   "outputs": [],
   "source": []
  },
  {
   "cell_type": "code",
   "execution_count": null,
   "metadata": {
    "collapsed": true
   },
   "outputs": [],
   "source": []
  },
  {
   "cell_type": "markdown",
   "metadata": {},
   "source": [
    "#  맥락 속 등장단어의 비율보기"
   ]
  },
  {
   "cell_type": "code",
   "execution_count": 362,
   "metadata": {},
   "outputs": [],
   "source": [
    "def excute_both_both(word):\n",
    "\n",
    "    female_both_words = more_word(unique(n_f_word(female_t, word)))  \n",
    "    male_both_words = more_word(unique(n_f_word(male_t, word)))\n",
    "    \n",
    "    female_both_len = len(n_f_word(female_t, word))\n",
    "    male_both_len = len(n_f_word(male_t, word))\n",
    "    \n",
    "    return (both_words_ratio(female_both_words, male_both_words, female_both_len, male_both_len))\n",
    "   \n"
   ]
  },
  {
   "cell_type": "code",
   "execution_count": 369,
   "metadata": {},
   "outputs": [],
   "source": [
    "def both_words_ratio(f, m, f_count, m_count):\n",
    "    \n",
    "    f = pd.DataFrame(f)\n",
    "    m = pd.DataFrame(m)\n",
    "    f.columns = ['words', 'f_count/girl_group']\n",
    "    m.columns = ['words', 'm_count/boy_group']\n",
    "\n",
    "    merged_ = pd.merge(f, m, how='outer', on=['words'])    \n",
    "    f['count / girl_group'] = (merged_['f_count/girl_group']/female_len)*100\n",
    "    m['count / boy_group'] = (merged_['m_count/boy_group']/male_len)*100\n",
    "\n",
    "    f = f.dropna()\n",
    "    m = m.dropna()\n",
    "    \n",
    "    return (pd.merge(f, m, how='outer', on=['words']))\n"
   ]
  },
  {
   "cell_type": "code",
   "execution_count": 374,
   "metadata": {},
   "outputs": [],
   "source": [
    "result_ratio = excute_both_both('엉덩이')"
   ]
  },
  {
   "cell_type": "code",
   "execution_count": 375,
   "metadata": {},
   "outputs": [
    {
     "data": {
      "text/html": [
       "<div>\n",
       "<style scoped>\n",
       "    .dataframe tbody tr th:only-of-type {\n",
       "        vertical-align: middle;\n",
       "    }\n",
       "\n",
       "    .dataframe tbody tr th {\n",
       "        vertical-align: top;\n",
       "    }\n",
       "\n",
       "    .dataframe thead th {\n",
       "        text-align: right;\n",
       "    }\n",
       "</style>\n",
       "<table border=\"1\" class=\"dataframe\">\n",
       "  <thead>\n",
       "    <tr style=\"text-align: right;\">\n",
       "      <th></th>\n",
       "      <th>words</th>\n",
       "      <th>f_count/girl_group</th>\n",
       "      <th>count / girl_group</th>\n",
       "      <th>m_count/boy_group</th>\n",
       "      <th>count / boy_group</th>\n",
       "    </tr>\n",
       "  </thead>\n",
       "  <tbody>\n",
       "    <tr>\n",
       "      <th>0</th>\n",
       "      <td>엉덩이</td>\n",
       "      <td>13.0</td>\n",
       "      <td>0.389455</td>\n",
       "      <td>3.0</td>\n",
       "      <td>0.051116</td>\n",
       "    </tr>\n",
       "    <tr>\n",
       "      <th>1</th>\n",
       "      <td>it</td>\n",
       "      <td>7.0</td>\n",
       "      <td>0.209706</td>\n",
       "      <td>NaN</td>\n",
       "      <td>NaN</td>\n",
       "    </tr>\n",
       "    <tr>\n",
       "      <th>2</th>\n",
       "      <td>shake</td>\n",
       "      <td>6.0</td>\n",
       "      <td>0.179748</td>\n",
       "      <td>NaN</td>\n",
       "      <td>NaN</td>\n",
       "    </tr>\n",
       "    <tr>\n",
       "      <th>3</th>\n",
       "      <td>머리에는</td>\n",
       "      <td>5.0</td>\n",
       "      <td>0.149790</td>\n",
       "      <td>NaN</td>\n",
       "      <td>NaN</td>\n",
       "    </tr>\n",
       "    <tr>\n",
       "      <th>4</th>\n",
       "      <td>다리에는</td>\n",
       "      <td>5.0</td>\n",
       "      <td>0.149790</td>\n",
       "      <td>NaN</td>\n",
       "      <td>NaN</td>\n",
       "    </tr>\n",
       "  </tbody>\n",
       "</table>\n",
       "</div>"
      ],
      "text/plain": [
       "   words  f_count/girl_group  count / girl_group  m_count/boy_group  \\\n",
       "0    엉덩이                13.0            0.389455                3.0   \n",
       "1     it                 7.0            0.209706                NaN   \n",
       "2  shake                 6.0            0.179748                NaN   \n",
       "3   머리에는                 5.0            0.149790                NaN   \n",
       "4   다리에는                 5.0            0.149790                NaN   \n",
       "\n",
       "   count / boy_group  \n",
       "0           0.051116  \n",
       "1                NaN  \n",
       "2                NaN  \n",
       "3                NaN  \n",
       "4                NaN  "
      ]
     },
     "execution_count": 375,
     "metadata": {},
     "output_type": "execute_result"
    }
   ],
   "source": [
    "result_ratio.head()"
   ]
  },
  {
   "cell_type": "code",
   "execution_count": 376,
   "metadata": {
    "collapsed": true
   },
   "outputs": [],
   "source": [
    "result_ratio.to_excel('nlp_result/엉덩이.xlsx')"
   ]
  },
  {
   "cell_type": "code",
   "execution_count": null,
   "metadata": {
    "collapsed": true
   },
   "outputs": [],
   "source": []
  }
 ],
 "metadata": {
  "kernelspec": {
   "display_name": "Python 3",
   "language": "python",
   "name": "python3"
  },
  "language_info": {
   "codemirror_mode": {
    "name": "ipython",
    "version": 3
   },
   "file_extension": ".py",
   "mimetype": "text/x-python",
   "name": "python",
   "nbconvert_exporter": "python",
   "pygments_lexer": "ipython3",
   "version": "3.6.3"
  }
 },
 "nbformat": 4,
 "nbformat_minor": 2
}
