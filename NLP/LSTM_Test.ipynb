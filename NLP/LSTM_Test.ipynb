{
 "cells": [
  {
   "cell_type": "code",
   "execution_count": 1,
   "metadata": {},
   "outputs": [
    {
     "name": "stderr",
     "output_type": "stream",
     "text": [
      "/anaconda3/lib/python3.6/importlib/_bootstrap.py:219: RuntimeWarning: compiletime version 3.5 of module 'tensorflow.python.framework.fast_tensor_util' does not match runtime version 3.6\n",
      "  return f(*args, **kwds)\n",
      "/anaconda3/lib/python3.6/site-packages/h5py/__init__.py:36: FutureWarning: Conversion of the second argument of issubdtype from `float` to `np.floating` is deprecated. In future, it will be treated as `np.float64 == np.dtype(float).type`.\n",
      "  from ._conv import register_converters as _register_converters\n"
     ]
    }
   ],
   "source": [
    "import os\n",
    "import numpy as np\n",
    "import tensorflow as tf\n",
    "import tensorflow.contrib.rnn as rnn\n",
    "import tensorflow.contrib.layers as layers"
   ]
  },
  {
   "cell_type": "code",
   "execution_count": 2,
   "metadata": {},
   "outputs": [],
   "source": [
    "import collections\n",
    "import numpy as np\n",
    "import gensim\n",
    "from gensim.models import Phrases\n",
    "from gensim.models import Word2Vec\n",
    "from gensim.models.word2vec import LineSentence\n",
    "\n",
    "class TextLoader:\n",
    "    def __init__(self, path):\n",
    "        with open(path, \"r\", encoding='utf-8') as _file:\n",
    "            self.text = _file.read().split()\n",
    "            # self.text = self.text[:10000]\n",
    "\n",
    "        self.song2vec = Word2Vec.load(\"all_word2vec_model\")\n",
    "        self.vocab, self.words = self.build_vocab()\n",
    "\n",
    "        self.X = self.text[:] # 텍스트 파일 전체를 복사 - self.text 와 같은 의미\n",
    "        self.y = [self.text[0]] + self.text[1:] # \n",
    "\n",
    "    def build_vocab(self):\n",
    "        vocab_inv = list(self.song2vec.wv.vocab.keys()) # key 값을 리스트화 / 글자만\n",
    "        vocab = {x: i for i, x in enumerate(vocab_inv)} # 0,1,2 등 인덱스와 단어를 dict 로 매칭시켜놓음\n",
    "        return vocab, vocab_inv\n",
    "\n",
    "    def next_batch(self, batch_size, seq_length):\n",
    "        start = np.random.randint(0, len(self.X)-batch_size*seq_length) # 랜덤으로 위치를 정함 - 끝의 값을 구하면 안됨 / 시작 위치를 글자를 다 배치사이즈와 시퀀스렝스로 구함 // 마지막까지는 안가겠다는 뜻\n",
    "        end   = start + batch_size*seq_length # 몇 단어를 가져올지\n",
    "\n",
    "        X_words = self.X[start:end]# 말그대로 글자\n",
    "        y_words = self.y[start:end]\n",
    "\n",
    "        X_idx = np.empty((batch_size, seq_length), dtype=np.int64) # 글자의 인덱스\n",
    "        y_idx = np.empty((batch_size, seq_length), dtype=np.int64)\n",
    "        X_wv = np.empty((batch_size, seq_length, 100)) # 글자의 word2vec \n",
    "        y_wv = np.empty((batch_size, seq_length, 100))\n",
    "        # 위에서 만들어준 자리에 따라 (저장공간 설정하는 과정) 아래에서 for 문을 돌며 값을 가져옴 / 그냥 하면 안되는 이유 : append는 느림, numpy의 경우에는 1 2 3 4 붙어있어야 함 / 5를 넣는다 하면 이걸 어딘가 복사해서 5를 붙여야 함.\n",
    "        for i in range(batch_size):\n",
    "            for j in range(seq_length):\n",
    "                X_idx[i, j] = self.vocab[X_words[i*seq_length+j]]\n",
    "                y_idx[i, j] = self.vocab[y_words[i*seq_length+j]]\n",
    "\n",
    "                X_wv[i, j] = self.song2vec.wv[X_words[i*seq_length+j]]\n",
    "                y_wv[i, j] = self.song2vec.wv[y_words[i*seq_length+j]]\n",
    "\n",
    "        return X_wv, X_idx, y_wv, y_idx"
   ]
  },
  {
   "cell_type": "code",
   "execution_count": 3,
   "metadata": {},
   "outputs": [],
   "source": [
    "num_layers  = 3\n",
    "hidden_size = 512\n",
    "batch_size  = 1 # 1글자\n",
    "# max_length  = 1 # 1로 하는것으로~\n",
    "\n",
    "loader = TextLoader(\"all_sentences_for_word2vec.txt\")\n",
    "vocab_size = len(loader.vocab)"
   ]
  },
  {
   "cell_type": "code",
   "execution_count": 4,
   "metadata": {},
   "outputs": [],
   "source": [
    "X = tf.placeholder(tf.float32, [None, None, 50])  # 50 = word2vec size\n",
    "# x_one_hot = tf.one_hot(X, vocab_size)\n",
    "\n",
    "cells = [rnn.BasicLSTMCell(hidden_size) for _ in range(num_layers)]\n",
    "cells = rnn.MultiRNNCell(cells, state_is_tuple=True)\n",
    "\n",
    "initial_state = cells.zero_state(batch_size, tf.float32)\n",
    "outputs, states = tf.nn.dynamic_rnn(cells, X,\n",
    "                                    initial_state=initial_state, dtype=tf.float32)\n",
    "\n",
    "\n",
    "outputs = tf.reshape(outputs, [-1, hidden_size])\n",
    "logits = layers.linear(outputs, vocab_size) # linear\n",
    "#                                 ,activation_fn=None)"
   ]
  },
  {
   "cell_type": "code",
   "execution_count": 5,
   "metadata": {},
   "outputs": [],
   "source": [
    "y_softmax = tf.nn.softmax(logits)\n",
    "pred = tf.argmax(y_softmax, axis=1)\n",
    "pred = tf.reshape(pred, [batch_size, -1])"
   ]
  },
  {
   "cell_type": "code",
   "execution_count": 22,
   "metadata": {},
   "outputs": [
    {
     "name": "stdout",
     "output_type": "stream",
     "text": [
      "['월요일', '정말', '미워']\n",
      "Start with: 월요일 정말 미워\n",
      "INFO:tensorflow:Restoring parameters from ./new_test_model\n",
      "월요일 정말 미워 망설이나요 망설이나요 \n",
      "울지않겠어 울지않겠어 울지않겠어 울지않겠어 울지않겠어 \n",
      "울지않겠어 울지않겠어 울지않겠어 울지않겠어 모든걸 \n",
      "모든걸 투지로 투지로 "
     ]
    }
   ],
   "source": [
    "# 시작 글자 생성\n",
    "sentence = [\"월요일\", \"정말\", \"미워\"]\n",
    "print(sentence)\n",
    "print(\"Start with:\", \" \".join(sentence))\n",
    "\n",
    "saver = tf.train.Saver()\n",
    "sess_config = tf.ConfigProto(gpu_options=tf.GPUOptions(allow_growth=True))\n",
    "with tf.Session(config=sess_config) as sess:\n",
    "    sess.run(tf.global_variables_initializer())\n",
    "    saver.restore(sess, \"./new_test_model\")  # 저장된 모델 불러오기 \n",
    "    \n",
    "    # [배치사이즈, max_length, word2vec size]\n",
    "    vec = np.empty((1, len(sentence), 50)) # 시작 글자를 주고 다음 단어를 예측 - 시작으로 준 것을 전부 다 입력으로 넣겠다\n",
    "    for i, word in enumerate(sentence):\n",
    "        vec[:, i, :] = loader.song2vec.wv[word]\n",
    "    \n",
    "    # 매 이터레이션마다 글자 하나씩 생성\n",
    "    state = sess.run(states, feed_dict={X: vec}) #입력단어 sentence 이후에 들어올 단어를 예측\n",
    "    for i in range(15): # for문을 돌면서 풀어헤치는 중!!\n",
    "        vec = loader.song2vec.wv[sentence[-1]].reshape(1, 1, 50)\n",
    "        \n",
    "        pred_char, state = sess.run([pred, states], \n",
    "            feed_dict={X: vec, initial_state: state}) # 원래 initial stete 는 0 이었으나\n",
    "        # 이전 스텝에 갖고 있는 state 값을 다음 스텝에 넣어줌 // 입력단어들을 그 다음 스텝에 넣어주는 것임\n",
    "        \n",
    "        pred_char = loader.words[pred_char[0][-1]]\n",
    "        sentence.append(pred_char)\n",
    "\n",
    "for i, word in enumerate(sentence):\n",
    "    print(word, end=\" \")\n",
    "    if (i+1) % 5 == 0:\n",
    "        print()"
   ]
  },
  {
   "cell_type": "code",
   "execution_count": null,
   "metadata": {},
   "outputs": [],
   "source": []
  }
 ],
 "metadata": {
  "kernelspec": {
   "display_name": "Python 3",
   "language": "python",
   "name": "python3"
  },
  "language_info": {
   "codemirror_mode": {
    "name": "ipython",
    "version": 3
   },
   "file_extension": ".py",
   "mimetype": "text/x-python",
   "name": "python",
   "nbconvert_exporter": "python",
   "pygments_lexer": "ipython3",
   "version": "3.6.4"
  }
 },
 "nbformat": 4,
 "nbformat_minor": 2
}
