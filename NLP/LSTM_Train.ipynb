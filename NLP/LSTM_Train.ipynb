{
 "cells": [
  {
   "cell_type": "markdown",
   "metadata": {},
   "source": [
    "# LSTM _Train\n",
    "코드참고 : https://github.com/KMJJ1/hiphop/blob/master/test_example.ipynb"
   ]
  },
  {
   "cell_type": "code",
   "execution_count": 1,
   "metadata": {},
   "outputs": [
    {
     "name": "stderr",
     "output_type": "stream",
     "text": [
      "/anaconda3/lib/python3.6/importlib/_bootstrap.py:219: RuntimeWarning: compiletime version 3.5 of module 'tensorflow.python.framework.fast_tensor_util' does not match runtime version 3.6\n",
      "  return f(*args, **kwds)\n",
      "/anaconda3/lib/python3.6/site-packages/h5py/__init__.py:36: FutureWarning: Conversion of the second argument of issubdtype from `float` to `np.floating` is deprecated. In future, it will be treated as `np.float64 == np.dtype(float).type`.\n",
      "  from ._conv import register_converters as _register_converters\n"
     ]
    }
   ],
   "source": [
    "import os\n",
    "import numpy as np\n",
    "import tensorflow as tf\n",
    "import tensorflow.contrib.rnn as rnn\n",
    "import tensorflow.contrib.layers as layers"
   ]
  },
  {
   "cell_type": "code",
   "execution_count": 2,
   "metadata": {},
   "outputs": [],
   "source": [
    "import collections\n",
    "import numpy as np\n",
    "import gensim\n",
    "from gensim.models import Phrases\n",
    "from gensim.models import Word2Vec\n",
    "from gensim.models.word2vec import LineSentence\n",
    "\n",
    "class TextLoader:\n",
    "    def __init__(self, path):\n",
    "        with open(path, \"r\", encoding='utf-8') as _file:\n",
    "            self.text = _file.read().split()\n",
    "            # self.text = self.text[:10000]\n",
    "\n",
    "        self.song2vec = Word2Vec.load(\"all_word2vec_model\")\n",
    "        self.vocab, self.words = self.build_vocab()\n",
    "\n",
    "        self.X = self.text[:] # 텍스트 파일 전체를 복사 - self.text 와 같은 의미\n",
    "        self.y = [self.text[0]] + self.text[1:] \n",
    "\n",
    "    def build_vocab(self):\n",
    "        vocab_inv = list(self.song2vec.wv.vocab.keys()) # key 값을 리스트화 / 글자만\n",
    "        vocab = {x: i for i, x in enumerate(vocab_inv)} # 0,1,2 등 인덱스와 단어를 dict 로 매칭시켜놓음\n",
    "        return vocab, vocab_inv\n",
    "\n",
    "    def next_batch(self, batch_size, seq_length):\n",
    "        start = np.random.randint(0, len(self.X)-batch_size*seq_length) # 랜덤으로 위치를 정함 - 끝의 값을 구하면 안됨 / 시작 위치를 글자를 다 배치사이즈와 시퀀스렝스로 구함 // 마지막까지는 안가겠다는 뜻\n",
    "        end   = start + batch_size*seq_length # 몇 단어를 가져올지\n",
    "\n",
    "        X_words = self.X[start:end]# 말그대로 글자\n",
    "        y_words = self.y[start:end]\n",
    "\n",
    "        X_idx = np.empty((batch_size, seq_length), dtype=np.int64) # 글자의 인덱스\n",
    "        y_idx = np.empty((batch_size, seq_length), dtype=np.int64)\n",
    "        X_wv = np.empty((batch_size, seq_length, 50)) # 50 = word2vec size \n",
    "        y_wv = np.empty((batch_size, seq_length, 50))\n",
    "        # 위에서 만들어준 자리에 따라 (저장공간 설정하는 과정) 아래에서 for 문을 돌며 값을 가져옴 / 그냥 하면 안되는 이유 : append는 느림, numpy의 경우에는 1 2 3 4 붙어있어야 함 / 5를 넣는다 하면 이걸 어딘가 복사해서 5를 붙여야 함.\n",
    "        for i in range(batch_size):\n",
    "            for j in range(seq_length):\n",
    "                X_idx[i, j] = self.vocab[X_words[i*seq_length+j]]\n",
    "                y_idx[i, j] = self.vocab[y_words[i*seq_length+j]]\n",
    "\n",
    "                X_wv[i, j] = self.song2vec.wv[X_words[i*seq_length+j]]\n",
    "                y_wv[i, j] = self.song2vec.wv[y_words[i*seq_length+j]]\n",
    "\n",
    "        return X_wv, X_idx, y_wv, y_idx"
   ]
  },
  {
   "cell_type": "code",
   "execution_count": 3,
   "metadata": {},
   "outputs": [],
   "source": [
    "#!pip install tensorflow"
   ]
  },
  {
   "cell_type": "code",
   "execution_count": 4,
   "metadata": {},
   "outputs": [],
   "source": [
    "num_layers  = 3\n",
    "hidden_size = 512\n",
    "batch_size  = 100\n",
    "max_length  = 1\n",
    "learning_rate = 0.001\n",
    "\n",
    "loader = TextLoader(\"all_sentences_for_word2vec.txt\")\n",
    "vocab_size = len(loader.vocab)"
   ]
  },
  {
   "cell_type": "code",
   "execution_count": 5,
   "metadata": {},
   "outputs": [
    {
     "name": "stdout",
     "output_type": "stream",
     "text": [
      "WARNING:tensorflow:From <ipython-input-5-550f303460a4>:18: softmax_cross_entropy_with_logits (from tensorflow.python.ops.nn_ops) is deprecated and will be removed in a future version.\n",
      "Instructions for updating:\n",
      "\n",
      "Future major versions of TensorFlow will allow gradients to flow\n",
      "into the labels input on backprop by default.\n",
      "\n",
      "See @{tf.nn.softmax_cross_entropy_with_logits_v2}.\n",
      "\n"
     ]
    }
   ],
   "source": [
    "# with tf.device(\"/gpu:5\"):\n",
    "X = tf.placeholder(tf.float32, [None, max_length, 50])  # 50 = word2vec size ㅠ\n",
    "y = tf.placeholder(tf.int32, [None, max_length]) # 인풋은 워드투벡 아웃풋은 단어?\n",
    "\n",
    "y_one_hot = tf.one_hot(y, vocab_size)\n",
    "\n",
    "cells = [rnn.BasicLSTMCell(hidden_size) for _ in range(num_layers)]\n",
    "cells = rnn.MultiRNNCell(cells, state_is_tuple=True)\n",
    "\n",
    "initial_state = cells.zero_state(batch_size, tf.float32)\n",
    "outputs, _ = tf.nn.dynamic_rnn(cells, X, initial_state=initial_state, dtype=tf.float32)\n",
    "\n",
    "outputs = tf.reshape(outputs, [-1, hidden_size])\n",
    "logits = layers.linear(outputs, vocab_size)\n",
    "y_flat = tf.reshape(y_one_hot, [-1, vocab_size])\n",
    "\n",
    "\n",
    "loss_op = tf.nn.softmax_cross_entropy_with_logits(logits=logits, labels=y_flat)\n",
    "loss_op = tf.reduce_mean(loss_op)\n",
    "\n",
    "opt = tf.train.AdamOptimizer(learning_rate=learning_rate).minimize(loss_op)\n",
    "\n",
    "y_softmax = tf.nn.softmax(logits)\n",
    "pred = tf.argmax(y_softmax, axis=1)\n",
    "pred = tf.reshape(pred, [batch_size, -1])"
   ]
  },
  {
   "cell_type": "code",
   "execution_count": 6,
   "metadata": {
    "scrolled": false
   },
   "outputs": [
    {
     "name": "stdout",
     "output_type": "stream",
     "text": [
      "00000001 step, loss:11.8683\n",
      "br\n",
      "00000002 step, loss:11.8673\n",
      "br\n",
      "00000003 step, loss:11.8666\n",
      "br\n",
      "00000004 step, loss:11.8659\n",
      "br\n",
      "00000005 step, loss:11.8638\n",
      "br\n"
     ]
    }
   ],
   "source": [
    "saver = tf.train.Saver()\n",
    "\n",
    "sess_config = tf.ConfigProto(gpu_options=tf.GPUOptions(allow_growth=True))\n",
    "\n",
    "\n",
    "with tf.Session(config=sess_config) as sess:\n",
    "    sess.run(tf.global_variables_initializer())\n",
    "    saver.save(sess, \"./new_test_model\") \n",
    "\n",
    "\n",
    "    for step in range(0, 5):\n",
    "        X_wv, X_idx, y_wv, y_idx = loader.next_batch(batch_size, max_length)\n",
    "        loss, _ = sess.run([loss_op, opt], feed_dict={X: X_wv, y: y_idx})\n",
    "\n",
    "        if (step+1) % 1 == 0:\n",
    "            print(\"{:08d} step, loss:{:.4f}\".format(step+1, loss))\n",
    "\n",
    "            random = np.random.randint(0, batch_size)\n",
    "            results = sess.run(pred, feed_dict={X: X_wv})\n",
    "            words = [loader.words[word] for word in results[random]]\n",
    "            print(\" \".join(words))\n",
    "\n",
    "#         if (step+1) % 5 == 0: \n",
    "#             saver.save(sess, \"char-rnn_\"+str(step+1)) # 원래 checkpoints/"
   ]
  },
  {
   "cell_type": "code",
   "execution_count": null,
   "metadata": {},
   "outputs": [],
   "source": []
  }
 ],
 "metadata": {
  "kernelspec": {
   "display_name": "Python 3",
   "language": "python",
   "name": "python3"
  },
  "language_info": {
   "codemirror_mode": {
    "name": "ipython",
    "version": 3
   },
   "file_extension": ".py",
   "mimetype": "text/x-python",
   "name": "python",
   "nbconvert_exporter": "python",
   "pygments_lexer": "ipython3",
   "version": "3.6.4"
  }
 },
 "nbformat": 4,
 "nbformat_minor": 2
}
